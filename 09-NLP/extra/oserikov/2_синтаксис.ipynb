{
  "nbformat": 4,
  "nbformat_minor": 0,
  "metadata": {
    "kernelspec": {
      "name": "python3",
      "display_name": "Python 3"
    },
    "language_info": {
      "codemirror_mode": {
        "name": "ipython",
        "version": 3
      },
      "file_extension": ".py",
      "mimetype": "text/x-python",
      "name": "python",
      "nbconvert_exporter": "python",
      "pygments_lexer": "ipython3",
      "version": "3.6.2"
    },
    "colab": {
      "name": "САД NLP 2 | синтаксис.ipynb",
      "provenance": [],
      "collapsed_sections": [],
      "include_colab_link": true
    },
    "accelerator": "GPU"
  },
  "cells": [
    {
      "cell_type": "markdown",
      "metadata": {
        "id": "view-in-github",
        "colab_type": "text"
      },
      "source": [
        "<a href=\"https://colab.research.google.com/github/oserikov/data-science-nlp/blob/master/2_%D1%81%D0%B8%D0%BD%D1%82%D0%B0%D0%BA%D1%81%D0%B8%D1%81.ipynb\" target=\"_parent\"><img src=\"https://colab.research.google.com/assets/colab-badge.svg\" alt=\"Open In Colab\"/></a>"
      ]
    },
    {
      "cell_type": "markdown",
      "metadata": {
        "id": "MNEmswSo9tAQ",
        "colab_type": "text"
      },
      "source": [
        "# Depencency parsing\n",
        "(парсинг зависимостей)\n",
        "\n",
        "## Что это?\n",
        "\n",
        "* наша цель -- представить предложение естественного языка в виде дерева\n",
        "* слова предложения -- вершины; *зависимости (dependencies)* между ними -- рёбра\n",
        "* зависимости могут быть разными: например, субъект глагола, объект глагола, прилагательное-модификатор, и так далее\n",
        "\n",
        "## Формат\n",
        "\n",
        "Существует несколько форматов записи деревьев зависимостей, но самый популярный и общеиспользуемый -- [CoNLL-U](http://universaldependencies.org/format.html).<br/>\n",
        "Как это выглядит (пример из [русского Universal Dependency трибанка](https://github.com/UniversalDependencies/UD_Russian-SynTagRus)):"
      ]
    },
    {
      "cell_type": "code",
      "metadata": {
        "id": "xNG-920j9tAZ",
        "colab_type": "code",
        "colab": {}
      },
      "source": [
        "my_example = \"\"\"\n",
        "# sent_id = 2003Armeniya.xml_138\n",
        "# text = Перспективы развития сферы высоких технологий.\n",
        "1\tПерспективы\tперспектива\tNOUN\t_\tAnimacy=Inan|Case=Nom|Gender=Fem|Number=Plur\t0\tROOT\t0:root\t_\n",
        "2\tразвития\tразвитие\tNOUN\t_\tAnimacy=Inan|Case=Gen|Gender=Neut|Number=Sing\t1\tnmod\t1:nmod\t_\n",
        "3\tсферы\tсфера\tNOUN\t_\tAnimacy=Inan|Case=Gen|Gender=Fem|Number=Sing\t2\tnmod\t2:nmod\t_\n",
        "4\tвысоких\tвысокий\tADJ\t_\tCase=Gen|Degree=Pos|Number=Plur\t5\tamod\t5:amod\t_\n",
        "5\tтехнологий\tтехнология\tNOUN\t_\tAnimacy=Inan|Case=Gen|Gender=Fem|Number=Plur\t3\tnmod\t3:nmod\tSpaceAfter=No\n",
        "6\t.\t.\tPUNCT\t_\t_\t1\tpunct\t1:punct\t_\n",
        "\"\"\""
      ],
      "execution_count": 0,
      "outputs": []
    },
    {
      "cell_type": "code",
      "metadata": {
        "id": "Rlxp0-RTKwKf",
        "colab_type": "code",
        "outputId": "cdcdc5b0-1f3f-4f26-e3e0-cecd5f6d446d",
        "colab": {
          "base_uri": "https://localhost:8080/",
          "height": 211
        }
      },
      "source": [
        "print(my_example)"
      ],
      "execution_count": 0,
      "outputs": [
        {
          "output_type": "stream",
          "text": [
            "\n",
            "# sent_id = 2003Armeniya.xml_138\n",
            "# text = Перспективы развития сферы высоких технологий.\n",
            "1\tПерспективы\tперспектива\tNOUN\t_\tAnimacy=Inan|Case=Nom|Gender=Fem|Number=Plur\t0\tROOT\t0:root\t_\n",
            "2\tразвития\tразвитие\tNOUN\t_\tAnimacy=Inan|Case=Gen|Gender=Neut|Number=Sing\t1\tnmod\t1:nmod\t_\n",
            "3\tсферы\tсфера\tNOUN\t_\tAnimacy=Inan|Case=Gen|Gender=Fem|Number=Sing\t2\tnmod\t2:nmod\t_\n",
            "4\tвысоких\tвысокий\tADJ\t_\tCase=Gen|Degree=Pos|Number=Plur\t5\tamod\t5:amod\t_\n",
            "5\tтехнологий\tтехнология\tNOUN\t_\tAnimacy=Inan|Case=Gen|Gender=Fem|Number=Plur\t3\tnmod\t3:nmod\tSpaceAfter=No\n",
            "6\t.\t.\tPUNCT\t_\t_\t1\tpunct\t1:punct\t_\n",
            "\n"
          ],
          "name": "stdout"
        }
      ]
    },
    {
      "cell_type": "markdown",
      "metadata": {
        "id": "E60oVuR39tA5",
        "colab_type": "text"
      },
      "source": [
        "Комментарии + таблица c 9 колонками (разделители табы):\n",
        "* ID\n",
        "* FORM: токен\n",
        "* LEMMA: начальная форма\n",
        "* UPOS: универсальная часть речи\n",
        "* XPOS: лингво-специфичная часть речи\n",
        "* FEATS: морфологическая информация: падеж, род, число etc\n",
        "* HEAD: id ролителя\n",
        "* DEPREL: тип зависимости, то есть отношение к токену-родителю\n",
        "* DEPS: альтернативный подграф\n",
        "* MISC: всё остальное\n",
        "\n",
        "Отсутствующие данные представляются с помощью `_`. Больше подробностей про формат -- в [официальной документаци](http://universaldependencies.org/format.html).<br>\n",
        "User-friendly визуализация: ![2003Armeniya.xml_138](https://github.com/artemovae/nlp-course-fintech/blob/master/classes/class07%20-%20syntax/rus_tree.png?raw=1)\n",
        "\n",
        "Отрытый инструмент для визуализации, ручной разметки и конвертации в другие форматы: UD Annotatrix. [Online-интерфейс](https://maryszmary.github.io/ud-annotatrix/standalone/annotator.html), [репозиторий](https://github.com/jonorthwash/ud-annotatrix).\n",
        "\n",
        "Трибанк -- много таких предложений. Обычно они разделяются двумя переносами строки.\n",
        "### Как считывать данные в питоне\n",
        "\n",
        "Используем библиотеку [conllu](https://github.com/EmilStenstrom/conllu)."
      ]
    },
    {
      "cell_type": "code",
      "metadata": {
        "id": "UXG_1Ikc9tA8",
        "colab_type": "code",
        "outputId": "ece3aa18-097c-4d8b-d406-3c9a89cb2a7b",
        "colab": {
          "base_uri": "https://localhost:8080/",
          "height": 107
        }
      },
      "source": [
        "!pip3 install conllu\n",
        "from conllu import parse"
      ],
      "execution_count": 0,
      "outputs": [
        {
          "output_type": "stream",
          "text": [
            "Collecting conllu\n",
            "  Downloading https://files.pythonhosted.org/packages/cf/39/869a01c157b135832ce95a60a7ee75062a80e32941e00fc3d3b79331eb50/conllu-2.2-py2.py3-none-any.whl\n",
            "Installing collected packages: conllu\n",
            "Successfully installed conllu-2.2\n"
          ],
          "name": "stdout"
        }
      ]
    },
    {
      "cell_type": "code",
      "metadata": {
        "id": "zecKUCmN9tBq",
        "colab_type": "code",
        "outputId": "e6ede3e2-a4be-40f2-e63c-2a0ae0adef95",
        "colab": {
          "base_uri": "https://localhost:8080/",
          "height": 260
        }
      },
      "source": [
        "sentences = parse(my_example)\n",
        "sentence = sentences[0]\n",
        "sentence[0]"
      ],
      "execution_count": 0,
      "outputs": [
        {
          "output_type": "execute_result",
          "data": {
            "text/plain": [
              "OrderedDict([('id', 1),\n",
              "             ('form', 'Перспективы'),\n",
              "             ('lemma', 'перспектива'),\n",
              "             ('upostag', 'NOUN'),\n",
              "             ('xpostag', None),\n",
              "             ('feats',\n",
              "              OrderedDict([('Animacy', 'Inan'),\n",
              "                           ('Case', 'Nom'),\n",
              "                           ('Gender', 'Fem'),\n",
              "                           ('Number', 'Plur')])),\n",
              "             ('head', 0),\n",
              "             ('deprel', 'ROOT'),\n",
              "             ('deps', '0:root'),\n",
              "             ('misc', None)])"
            ]
          },
          "metadata": {
            "tags": []
          },
          "execution_count": 4
        }
      ]
    },
    {
      "cell_type": "code",
      "metadata": {
        "id": "u8QYgqAr9tB3",
        "colab_type": "code",
        "outputId": "bbe99b26-1a9e-459a-ac67-4288fb133c5c",
        "colab": {
          "base_uri": "https://localhost:8080/",
          "height": 191
        }
      },
      "source": [
        "sentence[-1]"
      ],
      "execution_count": 0,
      "outputs": [
        {
          "output_type": "execute_result",
          "data": {
            "text/plain": [
              "OrderedDict([('id', 6),\n",
              "             ('form', '.'),\n",
              "             ('lemma', '.'),\n",
              "             ('upostag', 'PUNCT'),\n",
              "             ('xpostag', None),\n",
              "             ('feats', None),\n",
              "             ('head', 1),\n",
              "             ('deprel', 'punct'),\n",
              "             ('deps', [('punct', 1)]),\n",
              "             ('misc', None)])"
            ]
          },
          "metadata": {
            "tags": []
          },
          "execution_count": 5
        }
      ]
    },
    {
      "cell_type": "markdown",
      "metadata": {
        "id": "O-NoQYs89tCL",
        "colab_type": "text"
      },
      "source": [
        "## Визуализация\n",
        "\n",
        "В nltk есть DependencyGraph, который умеет рисовать деревья (и ещё многое другое). Для того, чтобы визуализация работала корректно, ему нужна зависимость: graphviz.\n",
        "\n",
        "```\n",
        "sudo apt-get install graphviz\n",
        "pip3 install graphviz\n",
        "```"
      ]
    },
    {
      "cell_type": "code",
      "metadata": {
        "id": "zeaOWOxx9tCO",
        "colab_type": "code",
        "outputId": "b894fea0-d0a5-4cc0-c88f-446c81c77e9f",
        "colab": {
          "base_uri": "https://localhost:8080/",
          "height": 35
        }
      },
      "source": [
        "! pip3 install graphviz"
      ],
      "execution_count": 0,
      "outputs": [
        {
          "output_type": "stream",
          "text": [
            "Requirement already satisfied: graphviz in /usr/local/lib/python3.6/dist-packages (0.10.1)\n"
          ],
          "name": "stdout"
        }
      ]
    },
    {
      "cell_type": "code",
      "metadata": {
        "id": "Tk5kYI4K9tCf",
        "colab_type": "code",
        "colab": {}
      },
      "source": [
        "from nltk import DependencyGraph"
      ],
      "execution_count": 0,
      "outputs": []
    },
    {
      "cell_type": "markdown",
      "metadata": {
        "id": "Tm-dDV8t9tC8",
        "colab_type": "text"
      },
      "source": [
        "В отличие от `conllu`, `DependencyGraph` не справляется с комментариями, поэтому придётся их убрать. Кроме того ему обязательно нужен *ROOT* в верхнем регистре, иначе он не находит корень."
      ]
    },
    {
      "cell_type": "code",
      "metadata": {
        "id": "0v2grWff9tDE",
        "colab_type": "code",
        "colab": {}
      },
      "source": [
        "sents = []\n",
        "for sent in my_example.split('\\n\\n'):\n",
        "    # убираем коменты\n",
        "    sent = '\\n'.join([line for line in sent.split('\\n') if not line.startswith('#')])\n",
        "    # заменяем регистр для root\n",
        "    sent = sent.replace('\\troot\\t', '\\tROOT\\t')\n",
        "    sents.append(sent)"
      ],
      "execution_count": 0,
      "outputs": []
    },
    {
      "cell_type": "code",
      "metadata": {
        "id": "OZWizJ5D9tDT",
        "colab_type": "code",
        "colab": {}
      },
      "source": [
        "graph = DependencyGraph(tree_str=sents[0])"
      ],
      "execution_count": 0,
      "outputs": []
    },
    {
      "cell_type": "code",
      "metadata": {
        "id": "DF-AgScO9tDz",
        "colab_type": "code",
        "outputId": "ce37dc71-5356-481a-a6a9-af7c35ff64fd",
        "colab": {
          "base_uri": "https://localhost:8080/",
          "height": 208
        }
      },
      "source": [
        "tree = graph.tree()\n",
        "print(tree.pretty_print())"
      ],
      "execution_count": 0,
      "outputs": [
        {
          "output_type": "stream",
          "text": [
            "    Перспективы           \n",
            "  _______|__________       \n",
            " |               развития \n",
            " |                  |      \n",
            " |                сферы   \n",
            " |                  |      \n",
            " |              технологий\n",
            " |                  |      \n",
            " .               высоких  \n",
            "\n",
            "None\n"
          ],
          "name": "stdout"
        }
      ]
    },
    {
      "cell_type": "markdown",
      "metadata": {
        "id": "79x1gVQd9tD7",
        "colab_type": "text"
      },
      "source": [
        "## UDPipe\n",
        "\n",
        "Есть разные инструменты для парсинга зависимостей. Сегодня мы будем рабтать с [UDPipe](http://ufal.mff.cuni.cz/udpipe). UDPipe умеет парсить текст с помощью готовых моделей (которые можно скачать [здесь](https://github.com/jwijffels/udpipe.models.ud.2.0/tree/master/inst/udpipe-ud-2.0-170801)) и обучать модели на своих трибанках.\n",
        "\n",
        "Собственно, в UDPipe есть три вида моделей:\n",
        "* токенизатор (разделить предложение не токены, сделать заготовку для CoNLL-U)\n",
        "* тэггер (разметить части речи)\n",
        "* сам парсер (проставить каждому токену `head` и `deprel`)\n",
        "\n",
        "Мы сегодня не будем обучать новых моделей (это слишком долго), а используем готовую модель для русского."
      ]
    },
    {
      "cell_type": "markdown",
      "metadata": {
        "id": "VCh0zMvG9tD-",
        "colab_type": "text"
      },
      "source": [
        "### The Python binding\n",
        "\n",
        "У udpipe есть питоновская обвязка. Она довольно [плохо задокументирована](https://pypi.org/project/ufal.udpipe/), но зато можно использовать прямо в питоне :)"
      ]
    },
    {
      "cell_type": "code",
      "metadata": {
        "id": "ksy611_A9tD_",
        "colab_type": "code",
        "outputId": "e1dcd36b-a6a8-409e-e2ec-aa8b647a6441",
        "colab": {
          "base_uri": "https://localhost:8080/",
          "height": 211
        }
      },
      "source": [
        "!pip3 install ufal.udpipe\n",
        "from ufal.udpipe import Model, Pipeline"
      ],
      "execution_count": 0,
      "outputs": [
        {
          "output_type": "stream",
          "text": [
            "Collecting ufal.udpipe\n",
            "\u001b[?25l  Downloading https://files.pythonhosted.org/packages/99/1a/9fbf9658cb3a24bfa2e462b4fda554f48b6fe7a7ee44f5036b1f7d181ca8/ufal.udpipe-1.2.0.2.tar.gz (307kB)\n",
            "\r\u001b[K     |█                               | 10kB 24.2MB/s eta 0:00:01\r\u001b[K     |██▏                             | 20kB 4.2MB/s eta 0:00:01\r\u001b[K     |███▏                            | 30kB 6.0MB/s eta 0:00:01\r\u001b[K     |████▎                           | 40kB 3.9MB/s eta 0:00:01\r\u001b[K     |█████▎                          | 51kB 4.8MB/s eta 0:00:01\r\u001b[K     |██████▍                         | 61kB 5.6MB/s eta 0:00:01\r\u001b[K     |███████▌                        | 71kB 6.5MB/s eta 0:00:01\r\u001b[K     |████████▌                       | 81kB 7.2MB/s eta 0:00:01\r\u001b[K     |█████████▋                      | 92kB 8.0MB/s eta 0:00:01\r\u001b[K     |██████████▋                     | 102kB 6.3MB/s eta 0:00:01\r\u001b[K     |███████████▊                    | 112kB 6.3MB/s eta 0:00:01\r\u001b[K     |████████████▊                   | 122kB 6.3MB/s eta 0:00:01\r\u001b[K     |█████████████▉                  | 133kB 6.3MB/s eta 0:00:01\r\u001b[K     |███████████████                 | 143kB 6.3MB/s eta 0:00:01\r\u001b[K     |████████████████                | 153kB 6.3MB/s eta 0:00:01\r\u001b[K     |█████████████████               | 163kB 6.3MB/s eta 0:00:01\r\u001b[K     |██████████████████              | 174kB 6.3MB/s eta 0:00:01\r\u001b[K     |███████████████████▏            | 184kB 6.3MB/s eta 0:00:01\r\u001b[K     |████████████████████▎           | 194kB 6.3MB/s eta 0:00:01\r\u001b[K     |█████████████████████▎          | 204kB 6.3MB/s eta 0:00:01\r\u001b[K     |██████████████████████▍         | 215kB 6.3MB/s eta 0:00:01\r\u001b[K     |███████████████████████▍        | 225kB 6.3MB/s eta 0:00:01\r\u001b[K     |████████████████████████▌       | 235kB 6.3MB/s eta 0:00:01\r\u001b[K     |█████████████████████████▌      | 245kB 6.3MB/s eta 0:00:01\r\u001b[K     |██████████████████████████▋     | 256kB 6.3MB/s eta 0:00:01\r\u001b[K     |███████████████████████████▊    | 266kB 6.3MB/s eta 0:00:01\r\u001b[K     |████████████████████████████▊   | 276kB 6.3MB/s eta 0:00:01\r\u001b[K     |█████████████████████████████▉  | 286kB 6.3MB/s eta 0:00:01\r\u001b[K     |██████████████████████████████▉ | 296kB 6.3MB/s eta 0:00:01\r\u001b[K     |████████████████████████████████| 307kB 6.3MB/s eta 0:00:01\r\u001b[K     |████████████████████████████████| 317kB 6.3MB/s \n",
            "\u001b[?25hBuilding wheels for collected packages: ufal.udpipe\n",
            "  Building wheel for ufal.udpipe (setup.py) ... \u001b[?25l\u001b[?25hdone\n",
            "  Created wheel for ufal.udpipe: filename=ufal.udpipe-1.2.0.2-cp36-cp36m-linux_x86_64.whl size=5610840 sha256=90c834564bbcb7ec02bf97c3e9a7414a809d1d67a33166514f77c2fd45bd7dbf\n",
            "  Stored in directory: /root/.cache/pip/wheels/4e/a7/12/e21d1deb9818d501b525bae14432a0f1ced83c5ba47e490850\n",
            "Successfully built ufal.udpipe\n",
            "Installing collected packages: ufal.udpipe\n",
            "Successfully installed ufal.udpipe-1.2.0.2\n"
          ],
          "name": "stdout"
        }
      ]
    },
    {
      "cell_type": "markdown",
      "metadata": {
        "id": "TEFTWJKh9tEY",
        "colab_type": "text"
      },
      "source": [
        "https://github.com/jwijffels/udpipe.models.ud.2.0/blob/master/inst/udpipe-ud-2.0-170801/russian-ud-2.0-170801.udpipe"
      ]
    },
    {
      "cell_type": "code",
      "metadata": {
        "id": "1LIzqOtHAybz",
        "colab_type": "code",
        "outputId": "3c5ec4c9-01dd-4288-f674-fe02e4ae9308",
        "colab": {
          "base_uri": "https://localhost:8080/",
          "height": 384
        }
      },
      "source": [
        "UDPIPE_MODEL_FN = \"model_ru.udpipe\"\n",
        "!wget -O {UDPIPE_MODEL_FN} https://github.com/jwijffels/udpipe.models.ud.2.0/blob/master/inst/udpipe-ud-2.0-170801/russian-ud-2.0-170801.udpipe?raw=true"
      ],
      "execution_count": 0,
      "outputs": [
        {
          "output_type": "stream",
          "text": [
            "--2019-10-24 17:56:41--  https://github.com/jwijffels/udpipe.models.ud.2.0/blob/master/inst/udpipe-ud-2.0-170801/russian-ud-2.0-170801.udpipe?raw=true\n",
            "Resolving github.com (github.com)... 140.82.118.3\n",
            "Connecting to github.com (github.com)|140.82.118.3|:443... connected.\n",
            "HTTP request sent, awaiting response... 302 Found\n",
            "Location: https://github.com/jwijffels/udpipe.models.ud.2.0/raw/master/inst/udpipe-ud-2.0-170801/russian-ud-2.0-170801.udpipe [following]\n",
            "--2019-10-24 17:56:41--  https://github.com/jwijffels/udpipe.models.ud.2.0/raw/master/inst/udpipe-ud-2.0-170801/russian-ud-2.0-170801.udpipe\n",
            "Reusing existing connection to github.com:443.\n",
            "HTTP request sent, awaiting response... 302 Found\n",
            "Location: https://raw.githubusercontent.com/jwijffels/udpipe.models.ud.2.0/master/inst/udpipe-ud-2.0-170801/russian-ud-2.0-170801.udpipe [following]\n",
            "--2019-10-24 17:56:41--  https://raw.githubusercontent.com/jwijffels/udpipe.models.ud.2.0/master/inst/udpipe-ud-2.0-170801/russian-ud-2.0-170801.udpipe\n",
            "Resolving raw.githubusercontent.com (raw.githubusercontent.com)... 151.101.0.133, 151.101.64.133, 151.101.128.133, ...\n",
            "Connecting to raw.githubusercontent.com (raw.githubusercontent.com)|151.101.0.133|:443... connected.\n",
            "HTTP request sent, awaiting response... 200 OK\n",
            "Length: 13265262 (13M) [application/octet-stream]\n",
            "Saving to: ‘model_ru.udpipe’\n",
            "\n",
            "model_ru.udpipe     100%[===================>]  12.65M  --.-KB/s    in 0.07s   \n",
            "\n",
            "2019-10-24 17:56:42 (175 MB/s) - ‘model_ru.udpipe’ saved [13265262/13265262]\n",
            "\n"
          ],
          "name": "stdout"
        }
      ]
    },
    {
      "cell_type": "code",
      "metadata": {
        "id": "4sZzFw689tEf",
        "colab_type": "code",
        "colab": {}
      },
      "source": [
        "model = Model.load(UDPIPE_MODEL_FN)"
      ],
      "execution_count": 0,
      "outputs": []
    },
    {
      "cell_type": "code",
      "metadata": {
        "id": "34aHBI1Y6yDr",
        "colab_type": "code",
        "outputId": "52663a49-4509-4a94-9d77-cdd3b663abf2",
        "colab": {
          "base_uri": "https://localhost:8080/",
          "height": 471
        }
      },
      "source": [
        "\n",
        "pipeline = Pipeline(model, 'generic_tokenizer', '', '', '')\n",
        "example = \"Если бы мне платили каждый раз. Каждый раз, когда я думаю о тебе.\"\n",
        "parsed = pipeline.process(example)\n",
        "print(parsed)"
      ],
      "execution_count": 0,
      "outputs": [
        {
          "output_type": "stream",
          "text": [
            "# newdoc\n",
            "# newpar\n",
            "# sent_id = 1\n",
            "# text = Если бы мне платили каждый раз.\n",
            "1\tЕсли\tЕСЛИ\tSCONJ\tIN\t_\t4\tmark\t_\t_\n",
            "2\tбы\tБЫ\tPART\tRP\t_\t4\tdiscourse\t_\t_\n",
            "3\tмне\tЯ\tPRON\tPRP\tCase=Dat|Number=Sing|Person=1\t4\tiobj\t_\t_\n",
            "4\tплатили\tПЛАТИТЬ\tVERB\tVBC\tAspect=Imp|Mood=Ind|Number=Plur|Tense=Past|VerbForm=Fin\t0\troot\t_\t_\n",
            "5\tкаждый\tКАЖДЫЙ\tDET\tDT\tAnimacy=Inan|Case=Acc|Gender=Masc|Number=Sing\t6\tamod\t_\t_\n",
            "6\tраз\tРАЗ\tNOUN\tNN\tAnimacy=Inan|Case=Acc|Gender=Masc|Number=Sing\t4\tadvmod\t_\tSpaceAfter=No\n",
            "7\t.\t.\tPUNCT\t.\t_\t4\tpunct\t_\t_\n",
            "\n",
            "# sent_id = 2\n",
            "# text = Каждый раз, когда я думаю о тебе.\n",
            "1\tКаждый\tКАЖДЫЙ\tDET\tDT\tAnimacy=Inan|Case=Acc|Gender=Masc|Number=Sing\t2\tamod\t_\t_\n",
            "2\tраз\tРАЗ\tNOUN\tNN\tAnimacy=Inan|Case=Acc|Gender=Masc|Number=Sing\t6\tadvmod\t_\tSpaceAfter=No\n",
            "3\t,\t,\tPUNCT\t,\t_\t6\tpunct\t_\t_\n",
            "4\tкогда\tКОГДА\tADV\tWRB\t_\t6\tadvmod\t_\t_\n",
            "5\tя\tЯ\tPRON\tPRP\tCase=Nom|Number=Sing|Person=1\t6\tnsubj\t_\t_\n",
            "6\tдумаю\tдУМАТЬ\tVERB\tVBC\tAspect=Imp|Mood=Ind|Number=Sing|Person=1|Tense=Pres|VerbForm=Fin\t0\troot\t_\t_\n",
            "7\tо\tО\tADP\tIN\t_\t8\tcase\t_\t_\n",
            "8\tтебе\tТЫ\tPRON\tPRP\tCase=Dat|Number=Sing|Person=2\t6\tobl\t_\tSpaceAfter=No\n",
            "9\t.\t.\tPUNCT\t.\t_\t6\tpunct\t_\tSpacesAfter=\\n\n",
            "\n",
            "\n"
          ],
          "name": "stdout"
        }
      ]
    },
    {
      "cell_type": "markdown",
      "metadata": {
        "collapsed": true,
        "id": "ffOK_R3a9tHL",
        "colab_type": "text"
      },
      "source": [
        "# SVO-triples\n",
        "\n",
        "С помощью синтекстического парсинга можно извлекать из предложений тройки субъект-глагол-объект, которые можно использовать для извлечения информации из текста."
      ]
    },
    {
      "cell_type": "code",
      "metadata": {
        "id": "upWpD0TX9tHR",
        "colab_type": "code",
        "outputId": "f56efd6d-d92c-45c6-c7a8-b61b113d1aee",
        "colab": {
          "base_uri": "https://localhost:8080/",
          "height": 176
        }
      },
      "source": [
        "sent = \"\"\"1\tСобянин\t_\tNOUN\t_\tAnimacy=Anim|Case=Nom|Gender=Masc|Number=Sing|fPOS=NOUN++\t2\tnsubj\t_\t_\n",
        "2\tоткрыл\t_\tVERB\t_\tAspect=Perf|Gender=Masc|Mood=Ind|Number=Sing|Tense=Past|VerbForm=Fin|Voice=Act|fPOS=VERB++\t0\tROOT\t_\t_\n",
        "3\tновый\t_\tADJ\t_\tAnimacy=Inan|Case=Acc|Degree=Pos|Gender=Masc|Number=Sing|fPOS=ADJ++\t4\tamod\t_\t_\n",
        "4\tпарк\t_\tNOUN\t_\tAnimacy=Inan|Case=Acc|Gender=Masc|Number=Sing|fPOS=NOUN++\t2\tdobj\t_\t_\n",
        "5\tи\t_\tCONJ\t_\tfPOS=CONJ++\t4\tcc\t_\t_\n",
        "6\tдетскую\t_\tADJ\t_\tCase=Acc|Degree=Pos|Gender=Fem|Number=Sing|fPOS=ADJ++\t7\tamod\t_\t_\n",
        "7\tплощадку\t_\tNOUN\t_\tAnimacy=Inan|Case=Acc|Gender=Fem|Number=Sing|fPOS=NOUN++\t4\tconj\t_\t_\n",
        "8\t.\t_\tPUNCT\t.\tfPOS=PUNCT++.\t2\tpunct\t_\t_\"\"\"\n",
        "print(sent)"
      ],
      "execution_count": 0,
      "outputs": [
        {
          "output_type": "stream",
          "text": [
            "1\tСобянин\t_\tNOUN\t_\tAnimacy=Anim|Case=Nom|Gender=Masc|Number=Sing|fPOS=NOUN++\t2\tnsubj\t_\t_\n",
            "2\tоткрыл\t_\tVERB\t_\tAspect=Perf|Gender=Masc|Mood=Ind|Number=Sing|Tense=Past|VerbForm=Fin|Voice=Act|fPOS=VERB++\t0\tROOT\t_\t_\n",
            "3\tновый\t_\tADJ\t_\tAnimacy=Inan|Case=Acc|Degree=Pos|Gender=Masc|Number=Sing|fPOS=ADJ++\t4\tamod\t_\t_\n",
            "4\tпарк\t_\tNOUN\t_\tAnimacy=Inan|Case=Acc|Gender=Masc|Number=Sing|fPOS=NOUN++\t2\tdobj\t_\t_\n",
            "5\tи\t_\tCONJ\t_\tfPOS=CONJ++\t4\tcc\t_\t_\n",
            "6\tдетскую\t_\tADJ\t_\tCase=Acc|Degree=Pos|Gender=Fem|Number=Sing|fPOS=ADJ++\t7\tamod\t_\t_\n",
            "7\tплощадку\t_\tNOUN\t_\tAnimacy=Inan|Case=Acc|Gender=Fem|Number=Sing|fPOS=NOUN++\t4\tconj\t_\t_\n",
            "8\t.\t_\tPUNCT\t.\tfPOS=PUNCT++.\t2\tpunct\t_\t_\n"
          ],
          "name": "stdout"
        }
      ]
    },
    {
      "cell_type": "markdown",
      "metadata": {
        "id": "jjPrgCSw9tHv",
        "colab_type": "text"
      },
      "source": [
        "\n",
        "Тройки слово-связь-слово:"
      ]
    },
    {
      "cell_type": "code",
      "metadata": {
        "id": "VSQ2fSyD9tH2",
        "colab_type": "code",
        "outputId": "e7a46acf-240e-4b44-f9f0-95591ba64e6c",
        "colab": {
          "base_uri": "https://localhost:8080/",
          "height": 139
        }
      },
      "source": [
        "graph = DependencyGraph(tree_str=sent)\n",
        "list(graph.triples())"
      ],
      "execution_count": 0,
      "outputs": [
        {
          "output_type": "execute_result",
          "data": {
            "text/plain": [
              "[(('открыл', 'VERB'), 'nsubj', ('Собянин', 'NOUN')),\n",
              " (('открыл', 'VERB'), 'dobj', ('парк', 'NOUN')),\n",
              " (('парк', 'NOUN'), 'amod', ('новый', 'ADJ')),\n",
              " (('парк', 'NOUN'), 'cc', ('и', 'CONJ')),\n",
              " (('парк', 'NOUN'), 'conj', ('площадку', 'NOUN')),\n",
              " (('площадку', 'NOUN'), 'amod', ('детскую', 'ADJ')),\n",
              " (('открыл', 'VERB'), 'punct', ('.', 'PUNCT'))]"
            ]
          },
          "metadata": {
            "tags": []
          },
          "execution_count": 15
        }
      ]
    },
    {
      "cell_type": "markdown",
      "metadata": {
        "id": "8RJEqKHW9tIP",
        "colab_type": "text"
      },
      "source": [
        "Тройки глагол-объект-субьект:"
      ]
    },
    {
      "cell_type": "code",
      "metadata": {
        "id": "ojFEV_A29tIU",
        "colab_type": "code",
        "outputId": "474f464a-85be-4321-9044-90ec36cdd00f",
        "colab": {
          "base_uri": "https://localhost:8080/",
          "height": 35
        }
      },
      "source": [
        "def get_sov(sent):\n",
        "    graph = DependencyGraph(tree_str=sent)\n",
        "    sov = {}\n",
        "    for triple in graph.triples():\n",
        "        if triple:\n",
        "            if triple[0][1] == 'VERB':\n",
        "                sov[triple[0][0]] = {'subj':'','obj':''}\n",
        "    for triple in graph.triples():\n",
        "        if triple:\n",
        "            if triple[1] == 'nsubj':\n",
        "                if triple[0][1] == 'VERB':\n",
        "                    sov[triple[0][0]]['subj']  = triple[2][0]\n",
        "            if triple[1] == 'dobj':\n",
        "                if triple[0][1] == 'VERB':\n",
        "                    sov[triple[0][0]]['obj'] = triple[2][0]\n",
        "    return sov\n",
        "\n",
        "sov = get_sov(sent)\n",
        "print(sov)"
      ],
      "execution_count": 0,
      "outputs": [
        {
          "output_type": "stream",
          "text": [
            "{'открыл': {'subj': 'Собянин', 'obj': 'парк'}}\n"
          ],
          "name": "stdout"
        }
      ]
    },
    {
      "cell_type": "markdown",
      "metadata": {
        "id": "aL5Gga_v9tIf",
        "colab_type": "text"
      },
      "source": [
        "Измените код выше так, чтобы учитывались:\n",
        "\n",
        "1. Однородные члены предложения \n",
        "    * (парк, площадка)\n",
        "2. Сложные сказуемые \n",
        "    * (начнет продавать)"
      ]
    },
    {
      "cell_type": "code",
      "metadata": {
        "id": "AgQGDNu69tIj",
        "colab_type": "code",
        "outputId": "8d77328a-dae6-4e9f-8699-68a88c528931",
        "colab": {
          "base_uri": "https://localhost:8080/",
          "height": 72
        }
      },
      "source": [
        "from collections import defaultdict as dd\n",
        "\n",
        "\n",
        "def get_sov(sent):\n",
        "    graph = DependencyGraph(tree_str=sent)\n",
        "\n",
        "    subjects = dd(lambda : {\"subject\": \"\", \"verb\": \"\", \"objects\": []})\n",
        "    verbs = dd(lambda : {\"subject\": \"\", \"verb\": \"\", \"objects\": []})\n",
        "    \n",
        "    for triple in graph.triples():\n",
        "        if triple:\n",
        "            \n",
        "            if triple[1] == 'conj':\n",
        "                subjects[triple[0][0]][\"objects\"].append(triple[2][0])\n",
        "                \n",
        "            if triple[1] == 'nsubj':\n",
        "                if triple[0][1] == 'VERB':\n",
        "                    verbs[triple[0][0]][\"subject\"] = triple[2][0]\n",
        "            if triple[1] == 'dobj':\n",
        "                if triple[0][1] == 'VERB':\n",
        "                    subjects[triple[2][0]][\"verb\"] = triple[0][0]\n",
        "                    subjects[triple[2][0]][\"objects\"].append(triple[2][0])\n",
        "\n",
        "    \n",
        "    sovs = []\n",
        "\n",
        "    print(subjects, verbs)\n",
        "    \n",
        "    for v in subjects.values():\n",
        "        for obj in v[\"objects\"]:\n",
        "            sovs.append((verbs[v[\"verb\"]][\"subject\"], v[\"verb\"], obj))\n",
        "    return sovs\n",
        "\n",
        "sov = get_sov(sent)\n",
        "print(sov)"
      ],
      "execution_count": 0,
      "outputs": [
        {
          "output_type": "stream",
          "text": [
            "defaultdict(<function get_sov.<locals>.<lambda> at 0x7fc02a6dee18>, {'парк': {'subject': '', 'verb': 'открыл', 'objects': ['парк', 'площадку']}}) defaultdict(<function get_sov.<locals>.<lambda> at 0x7fc02a6de1e0>, {'открыл': {'subject': 'Собянин', 'verb': '', 'objects': []}})\n",
            "[('Собянин', 'открыл', 'парк'), ('Собянин', 'открыл', 'площадку')]\n"
          ],
          "name": "stdout"
        }
      ]
    },
    {
      "cell_type": "code",
      "metadata": {
        "id": "lYe0dP8EBJeA",
        "colab_type": "code",
        "colab": {}
      },
      "source": [
        ""
      ],
      "execution_count": 0,
      "outputs": []
    }
  ]
}

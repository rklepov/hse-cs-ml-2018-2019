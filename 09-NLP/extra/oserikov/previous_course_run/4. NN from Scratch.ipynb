{
 "cells": [
  {
   "cell_type": "code",
   "execution_count": 1,
   "metadata": {
    "colab": {},
    "colab_type": "code",
    "id": "M4hc9NhkzFbk"
   },
   "outputs": [],
   "source": [
    "import os\n",
    "import pandas as pd\n",
    "import numpy as np"
   ]
  },
  {
   "cell_type": "markdown",
   "metadata": {
    "colab_type": "text",
    "id": "nxnfYcUL_Y3O"
   },
   "source": [
    "## Часть 1. Что такое нейронная сеть"
   ]
  },
  {
   "cell_type": "markdown",
   "metadata": {
    "colab_type": "text",
    "id": "HFDY1XFWZnCg"
   },
   "source": [
    "\n",
    "\n",
    "$X = (x_1, x_2, \\ldots, x_n)$ — входные данные\n",
    "    \n",
    "$Y = (f(x_1), f(x_2), \\ldots, f(x_n))$ — ground truth, наблюдаемые ответы, где f — целевая зависимость, ее значения известны нам на множестве входных данных.\n",
    "    \n",
    "Мы хотим найти  аппроксимацию $f$, назовем ее $\\hat{f}$ используя обучащие данные $X' \\subset X$, такие что\n",
    "    \n",
    " $ \\hat{f}(X') \\sim f(X') \\text{ and } \\hat{f}(X'') \\sim f(X''),$\n",
    "где $X'' = X\\setminus X' $ - тестовые данные\n"
   ]
  },
  {
   "cell_type": "markdown",
   "metadata": {
    "colab_type": "text",
    "id": "tBY6DjGab_9e"
   },
   "source": [
    "Допустим, мы задали функцию $\\hat{f}(x_i)$ (построили нейросеть). Как нам оценить, насколько наша функция близка к исходной?\n",
    "Для этого мы зададим функцию потерь = $ \\textbf{loss/ cost function}$ $\\mathcal{L}(f, \\hat{f}, x)$ .\n",
    "Будем усреднять значение функции потерь для множества семплов (в общем случае для всего обучающего множества):\n",
    "    $$\\mathcal{C} = \\frac{1}{t}\\sum_{i = 1}^{t} \\mathcal{L}(f, \\hat{f}, x_i), x_i \\in X'.$$"
   ]
  },
  {
   "cell_type": "markdown",
   "metadata": {
    "colab_type": "text",
    "id": "g1zJb7KFeHzU"
   },
   "source": [
    "Примеры функции потерь:\n",
    "* **Кросс-энтропия** (записана для случая бинарной классификации):\n",
    "$ \\mathcal{L}(f,\\hat{f}, x) = -(f(x)\\cdot\\log \\hat{f}(x) + (1-f(x))\\cdot\\log(1-\\hat{f}(x)));$\n",
    "\n",
    "\n",
    "* **Квадратичное отклонение**:\n",
    "$\\mathcal{L}(f,\\hat{f}, x) = (f(x) - \\hat{f}(x))^2.$"
   ]
  },
  {
   "cell_type": "markdown",
   "metadata": {
    "colab_type": "text",
    "id": "FC4YIVEYhNq2"
   },
   "source": [
    "Мы интерпретируем выход нейронной сети, как вероятность.  Допустим, мы предсказываем род существительных на данных русского языка. Наши классы _средний, мужской, женский_ . Допустим:\n",
    "$$f(x)  = [0.0, 1.0, 0.0], \\hat{f}(x) = [0.1, 0.56, 0.34];$$\n",
    "Тогда, используя кросс-энтропию(обобщенную на случай много классовой классификации), получаем значение ошибки:\n",
    "$$\\mathcal{L} = -(0.0\\cdot\\log(0.1)+1.0\\cdot\\log(0.56)+0.0\\cdot\\log(0.34)) \\approx 0.252$$"
   ]
  },
  {
   "cell_type": "markdown",
   "metadata": {
    "colab_type": "text",
    "id": "w_eGrG0hkZVf"
   },
   "source": [
    "После вычисления значения функции потерь $ \\mathcal{L}(f,\\hat{f)}$  мы оптимизируем параметры нашей сети $\\hat{f}(x_i)$ . Для этого нам понадобится понятие __градиентного спуска__.  \n",
    "\n",
    "**Градиент** в математическом анализе — это вектор, указывающий на направление максимального роста функции в заданной точке. Вектор-градиент состоит из частных производных функции от каждого из ее параметров. \n",
    "$ \\mathcal{L}(f,\\hat{f)}$ зависит от множества параметров  нейронной сети, каждый из возможных наборов значений параметров соответствует точке в пространстве параметров, принадлежащей функции потерь. Если, находясь в данной точке, мы знаем, в каком направлении надо двигаться, чтобы функция возрастала быстрее всего, то, двигаясь в противоположном направлении, мы добьемся минимализации ее значений."
   ]
  },
  {
   "cell_type": "markdown",
   "metadata": {
    "colab_type": "text",
    "id": "t1pTxk4jrviR"
   },
   "source": [
    "Как может быть устроена функция $\\hat{f}(x_i)$? Нейросеть удобно изображать в виде  графа. Посмотрим, чему соответствуют его вершины и ребра"
   ]
  },
  {
   "cell_type": "markdown",
   "metadata": {
    "colab": {
     "base_uri": "https://localhost:8080/",
     "height": 237
    },
    "colab_type": "code",
    "id": "WJcVbdPX2RQU",
    "outputId": "96a59c6c-0f63-46cb-f7b8-36264a9c025d"
   },
   "source": [
    "<img src='img/1_neuron.png' width='350' height='220' align='left'>"
   ]
  },
  {
   "cell_type": "markdown",
   "metadata": {
    "colab_type": "text",
    "id": "YK2WYRAdsWnd"
   },
   "source": [
    "Вход в первый нейрон:\n",
    "$z_1^1 = \\theta^1_{11}\\cdot x_{i1}+\\theta^1_{12}\\cdot x_{i2}+\\theta^1_{13}\\cdot x_{i3}+\\theta^1_{14}\\cdot x_{i4}+b^1_1.$"
   ]
  },
  {
   "cell_type": "markdown",
   "metadata": {
    "colab": {
     "base_uri": "https://localhost:8080/",
     "height": 237
    },
    "colab_type": "code",
    "id": "XJO3j6-F4X2G",
    "outputId": "577d80a8-5fce-4a40-a8ae-0bd8ef6a4eb7"
   },
   "source": [
    "<img src='img/sigmoid.png' width='350' height='220' align='left'>"
   ]
  },
  {
   "cell_type": "markdown",
   "metadata": {
    "colab_type": "text",
    "id": "tOJmuTjT3xlP"
   },
   "source": [
    "Сигмоида - одна из нелинейностей  (функций активации), применяющихся в нейронных сетях. Она принимает в себя выход с  одного из нейронов\n",
    "$\\sigma(x) = \\frac{1}{1+e^{-x}}.$"
   ]
  },
  {
   "cell_type": "markdown",
   "metadata": {
    "colab": {
     "base_uri": "https://localhost:8080/",
     "height": 237
    },
    "colab_type": "code",
    "id": "TFfc_KdE7ck4",
    "outputId": "64b023fa-8a07-4fcd-98c9-e8e1c9a5f37a"
   },
   "source": [
    "<img src='img/2_layer.png' width='350' height='220' align='left'>"
   ]
  },
  {
   "cell_type": "markdown",
   "metadata": {
    "colab_type": "text",
    "id": "Jixqu6NN8hNi"
   },
   "source": [
    "$a_i = \\sigma(z^1_i)$\n",
    "\n",
    "Тогда вход в $\\hat{y}_1$:\n",
    "\n",
    "$z_1^2 = \\theta^2_{11}\\cdot a_1 + \\theta^2_{12}\\cdot a_2 + \\theta^2_{13}\\cdot a_3 + \\theta^2_{14}\\cdot a_4+ \\theta^2_{15}\\cdot a_5+b^2_1,$"
   ]
  },
  {
   "cell_type": "markdown",
   "metadata": {
    "colab": {
     "base_uri": "https://localhost:8080/",
     "height": 237
    },
    "colab_type": "code",
    "id": "Pf5Cln89-sNz",
    "outputId": "26bb6593-26ea-4e21-e72b-9f514199e485"
   },
   "source": [
    "<img src='img/full.png' width='350' height='220' align='left'>"
   ]
  },
  {
   "cell_type": "markdown",
   "metadata": {
    "colab_type": "text",
    "id": "X_Asw65D-9mV"
   },
   "source": [
    "Более формально нейронную сеть можно представить в виде графа вычислений:"
   ]
  },
  {
   "cell_type": "markdown",
   "metadata": {
    "colab": {
     "base_uri": "https://localhost:8080/",
     "height": 117
    },
    "colab_type": "code",
    "id": "WOeJt6o1-7wc",
    "outputId": "5ec9dfcc-f2c8-40d7-811a-a43e7f115344"
   },
   "source": [
    "<img src='img/forward_backward.png' width='850' height='100' align='left'>"
   ]
  },
  {
   "cell_type": "markdown",
   "metadata": {},
   "source": [
    "## Что еще почитать\n",
    "\n",
    "1. [Нейронные сети для начинающих. Часть 1](https://habr.com/ru/post/312450/)\n",
    "2. [Нейронные сети для начинающих. Часть 2](https://habr.com/ru/post/313216/)\n",
    "3. [Machine Learning for Beginners: An Introduction to Neural Networks](https://towardsdatascience.com/machine-learning-for-beginners-an-introduction-to-neural-networks-d49f22d238f9)\n",
    "4. A Beginner’s Guide to Neural Networks: [часть 1](https://towardsdatascience.com/a-beginners-guide-to-neural-networks-b6be0d442fa4) и [часть 2](https://towardsdatascience.com/a-beginners-guide-to-neural-networks-part-two-bd503514c71a).\n",
    "5. [Tensorflow Playground](http://playground.tensorflow.org/)"
   ]
  },
  {
   "cell_type": "markdown",
   "metadata": {
    "colab_type": "text",
    "id": "deIpV-uR_JcE"
   },
   "source": [
    "## Часть 2. Пишем свою нейронную сеть"
   ]
  },
  {
   "cell_type": "markdown",
   "metadata": {
    "colab_type": "text",
    "id": "7jWKINpbTT5N"
   },
   "source": [
    "Построим нейросеть с одним полносвязным скрытым слоем, которая будет брать на вход сэмпл, представленный в виде признаков, а на выходе отдавать вероятность класса. Мы рассмотрим случай бинарной классификации, поэтому в выходном слое нам будет достаточно одного нейрона"
   ]
  },
  {
   "cell_type": "markdown",
   "metadata": {
    "colab_type": "text",
    "id": "jselA9EK8RR8"
   },
   "source": [
    "Загружаем данные. Классический датасет содержит информацию о длине и ширине лепестка и чашелистика для трех видов ирисов"
   ]
  },
  {
   "cell_type": "code",
   "execution_count": 4,
   "metadata": {
    "colab": {},
    "colab_type": "code",
    "id": "ZD-_3lS7ojHu"
   },
   "outputs": [],
   "source": [
    "iris = pd.read_csv('data/iris.csv')"
   ]
  },
  {
   "cell_type": "code",
   "execution_count": 5,
   "metadata": {
    "colab": {
     "base_uri": "https://localhost:8080/",
     "height": 204
    },
    "colab_type": "code",
    "id": "Lm5r6oBXojH3",
    "outputId": "cf062a82-9e71-4602-ad41-d994b0e3c46b",
    "scrolled": true
   },
   "outputs": [
    {
     "data": {
      "text/html": [
       "<div>\n",
       "<style scoped>\n",
       "    .dataframe tbody tr th:only-of-type {\n",
       "        vertical-align: middle;\n",
       "    }\n",
       "\n",
       "    .dataframe tbody tr th {\n",
       "        vertical-align: top;\n",
       "    }\n",
       "\n",
       "    .dataframe thead th {\n",
       "        text-align: right;\n",
       "    }\n",
       "</style>\n",
       "<table border=\"1\" class=\"dataframe\">\n",
       "  <thead>\n",
       "    <tr style=\"text-align: right;\">\n",
       "      <th></th>\n",
       "      <th>sepal_length</th>\n",
       "      <th>sepal_width</th>\n",
       "      <th>petal_length</th>\n",
       "      <th>petal_width</th>\n",
       "      <th>species</th>\n",
       "    </tr>\n",
       "  </thead>\n",
       "  <tbody>\n",
       "    <tr>\n",
       "      <th>0</th>\n",
       "      <td>5.1</td>\n",
       "      <td>3.5</td>\n",
       "      <td>1.4</td>\n",
       "      <td>0.2</td>\n",
       "      <td>Iris-setosa</td>\n",
       "    </tr>\n",
       "    <tr>\n",
       "      <th>1</th>\n",
       "      <td>4.9</td>\n",
       "      <td>3.0</td>\n",
       "      <td>1.4</td>\n",
       "      <td>0.2</td>\n",
       "      <td>Iris-setosa</td>\n",
       "    </tr>\n",
       "    <tr>\n",
       "      <th>2</th>\n",
       "      <td>4.7</td>\n",
       "      <td>3.2</td>\n",
       "      <td>1.3</td>\n",
       "      <td>0.2</td>\n",
       "      <td>Iris-setosa</td>\n",
       "    </tr>\n",
       "    <tr>\n",
       "      <th>3</th>\n",
       "      <td>4.6</td>\n",
       "      <td>3.1</td>\n",
       "      <td>1.5</td>\n",
       "      <td>0.2</td>\n",
       "      <td>Iris-setosa</td>\n",
       "    </tr>\n",
       "    <tr>\n",
       "      <th>4</th>\n",
       "      <td>5.0</td>\n",
       "      <td>3.6</td>\n",
       "      <td>1.4</td>\n",
       "      <td>0.2</td>\n",
       "      <td>Iris-setosa</td>\n",
       "    </tr>\n",
       "  </tbody>\n",
       "</table>\n",
       "</div>"
      ],
      "text/plain": [
       "   sepal_length  sepal_width  petal_length  petal_width      species\n",
       "0           5.1          3.5           1.4          0.2  Iris-setosa\n",
       "1           4.9          3.0           1.4          0.2  Iris-setosa\n",
       "2           4.7          3.2           1.3          0.2  Iris-setosa\n",
       "3           4.6          3.1           1.5          0.2  Iris-setosa\n",
       "4           5.0          3.6           1.4          0.2  Iris-setosa"
      ]
     },
     "execution_count": 5,
     "metadata": {},
     "output_type": "execute_result"
    }
   ],
   "source": [
    "iris[:5]"
   ]
  },
  {
   "cell_type": "markdown",
   "metadata": {
    "colab_type": "text",
    "id": "4zREzoCM9XZ3"
   },
   "source": [
    "Для нашей тренировочной задачи упростим данные, оставив только два класса: __Virginica__ — 0 и __Versicolor__ — 1. Будем решать задачу бинарной классификации, классифицируя каждый семпл по двум признакам (длина и ширина лепестка)"
   ]
  },
  {
   "cell_type": "code",
   "execution_count": 14,
   "metadata": {
    "colab": {},
    "colab_type": "code",
    "id": "bFnsUBMfojIJ",
    "scrolled": true
   },
   "outputs": [],
   "source": [
    "iris.loc[iris['species']=='Iris-virginica','species_num']=0\n",
    "iris.loc[iris['species']=='Iris-versicolor','species_num']=1\n",
    "iris.loc[iris['species']=='Iris-setosa','species_num'] = 2\n",
    "iris = iris[iris['species_num']!=2]"
   ]
  },
  {
   "cell_type": "code",
   "execution_count": 15,
   "metadata": {
    "colab": {},
    "colab_type": "code",
    "id": "y9IesQ5XojIQ"
   },
   "outputs": [],
   "source": [
    "X = iris[['petal_length', 'petal_width']].values.T #(2,100)\n",
    "Y = iris[['species_num']].values.T #(1,100)"
   ]
  },
  {
   "cell_type": "markdown",
   "metadata": {
    "colab_type": "text",
    "id": "LUYS3MVcAdCP"
   },
   "source": [
    "Визуализируем наши данные в двумерном пространстве признаков, разные цвета соответствуют разным классам"
   ]
  },
  {
   "cell_type": "code",
   "execution_count": 13,
   "metadata": {},
   "outputs": [],
   "source": [
    "import matplotlib.pyplot as plt\n",
    "from matplotlib import style\n",
    "style.use('ggplot')"
   ]
  },
  {
   "cell_type": "code",
   "execution_count": 16,
   "metadata": {
    "colab": {
     "base_uri": "https://localhost:8080/",
     "height": 376
    },
    "colab_type": "code",
    "id": "rGwZrhscojIi",
    "outputId": "6b2b8ba9-a998-4b35-e3c0-005bca658626"
   },
   "outputs": [
    {
     "data": {
      "image/png": "[encoded data removed]",
      "text/plain": [
       "<Figure size 432x288 with 1 Axes>"
      ]
     },
     "metadata": {},
     "output_type": "display_data"
    }
   ],
   "source": [
    "plt.scatter(X[0, :], X[1, :], c=Y[0,:], s=40, cmap=plt.cm.Spectral);\n",
    "plt.title(\"IRIS DATA | Blue - Versicolor, Red - Virginica \")\n",
    "plt.xlabel('Petal Length')\n",
    "plt.ylabel('Petal Width')\n",
    "plt.show()"
   ]
  },
  {
   "cell_type": "markdown",
   "metadata": {
    "colab_type": "text",
    "id": "cwQYUNmiE35M"
   },
   "source": [
    "### Инициализация весов \n",
    "Напишем нейросеть прямого распространения с одним скрытым слоем.\n",
    "\n",
    "**Bias vector** — выход для нулевого входа (т.е. сеть должна уметь передавать на следующий слой не 0, даже если на вход поступил 0).  "
   ]
  },
  {
   "cell_type": "code",
   "execution_count": 30,
   "metadata": {
    "colab": {},
    "colab_type": "code",
    "id": "oxKBOIeyojIo"
   },
   "outputs": [],
   "source": [
    "# Функция для инициализации параметров\n",
    "\n",
    "def initialize_parameters(n_x, n_h, n_y):\n",
    "    \n",
    "    W1 = np.random.randn(n_h, n_x) * 0.01   # матрица весов размера (n_h, n_x)\n",
    "    b1 = np.zeros(shape=(n_h, 1))           # bias vector размера (n_h, 1)\n",
    "    W2 = np.random.randn(n_y, n_h) * 0.01   # матрица весов размера (n_y, n_h)\n",
    "    b2 = np.zeros(shape=(n_y, 1))           # bias vector размера (n_y, 1)\n",
    "       \n",
    "    #словарь параметров    \n",
    "    parameters = {\"W1\": W1,\n",
    "                  \"b1\": b1,\n",
    "                  \"W2\": W2,\n",
    "                  \"b2\": b2}\n",
    "    \n",
    "    return parameters"
   ]
  },
  {
   "cell_type": "code",
   "execution_count": 18,
   "metadata": {
    "colab": {},
    "colab_type": "code",
    "id": "SQ39IP2RojIt"
   },
   "outputs": [],
   "source": [
    "def layer_sizes(X, Y):\n",
    "    n_x = X.shape[0] \n",
    "    n_h = 6\n",
    "    n_y = Y.shape[0]\n",
    "    return (n_x, n_h, n_y)"
   ]
  },
  {
   "cell_type": "markdown",
   "metadata": {
    "colab_type": "text",
    "id": "Xj20A0ptGu49"
   },
   "source": [
    "### Прямой шаг\n",
    "\n",
    "Шаг вперед, пропускаем входную последовательность через нейроны сети, запоминая выходы с промежуточных шагов. A2 — полученное предсказание"
   ]
  },
  {
   "cell_type": "code",
   "execution_count": 31,
   "metadata": {
    "colab": {},
    "colab_type": "code",
    "id": "pklYZcfBojIz"
   },
   "outputs": [],
   "source": [
    "def forward_propagation(X, parameters):\n",
    "\n",
    "# достаем параметры из словаря \n",
    "    W1 = parameters['W1']\n",
    "    b1 = parameters['b1']\n",
    "    W2 = parameters['W2']\n",
    "    b2 = parameters['b2']\n",
    "    \n",
    "# Делаем прямой шаг и рассчитываем вероятность (А2)\n",
    "    Z1 = np.dot(W1, X) + b1\n",
    "    A1 = np.tanh(Z1)         # функция активации tanh\n",
    "    Z2 = np.dot(W2, A1) + b2\n",
    "    A2 = 1/(1+np.exp(-Z2))   # функция активации sigmoid\n",
    "    \n",
    "    cache = {\"Z1\": Z1,\n",
    "             \"A1\": A1,\n",
    "             \"Z2\": Z2,\n",
    "             \"A2\": A2}\n",
    "    \n",
    "    return A2, cache"
   ]
  },
  {
   "cell_type": "markdown",
   "metadata": {
    "colab_type": "text",
    "id": "61as9IaBH9lS"
   },
   "source": [
    "### Функция ошибки\n",
    "Насколько мы далеки от правильных ответов? Функция потерь сравнивает предсказания A2 c реальными результатами Y и возвращает оценку ошибки.\n",
    "\n",
    "В качестве функции ошибки, которую нужно будет минимизировать, возьмем кросс-энтропию."
   ]
  },
  {
   "cell_type": "code",
   "execution_count": 32,
   "metadata": {
    "colab": {},
    "colab_type": "code",
    "id": "e3OVe-OGojI6"
   },
   "outputs": [],
   "source": [
    "def compute_cost(A2, Y, parameters):\n",
    "   \n",
    "    m = Y.shape[1] # количество примеров\n",
    "    \n",
    "    # W1 и W2 из словаря параметров\n",
    "    W1 = parameters['W1']\n",
    "    W2 = parameters['W2']\n",
    "    \n",
    "    # Считаем кросс-энтропию\n",
    "    logprobs = np.multiply(np.log(A2), Y) + np.multiply((1 - Y), np.log(1 - A2))\n",
    "    cost = - np.sum(logprobs) / m\n",
    "    \n",
    "    return cost"
   ]
  },
  {
   "cell_type": "markdown",
   "metadata": {
    "colab_type": "text",
    "id": "xO3bDThUIiQk"
   },
   "source": [
    "### Обратный шаг\n",
    "\n",
    "Шаг назад: обратное распространение ошибки. Хотим получить вектор градиента, состоящий из частных производных по всем из параметров. Вектор указывает направление, в котором функция потерь растет быстрее всего"
   ]
  },
  {
   "cell_type": "code",
   "execution_count": 21,
   "metadata": {
    "colab": {},
    "colab_type": "code",
    "id": "fHlUakxaojJA"
   },
   "outputs": [],
   "source": [
    "def backward_propagation(parameters, cache, X, Y):\n",
    "\n",
    "    # количество примеров\n",
    "    m = X.shape[1]\n",
    "\n",
    "    # параметры из словаря \n",
    "    W1 = parameters['W1']\n",
    "    W2 = parameters['W2']\n",
    "        \n",
    "    # достаем A1 и A2 из кэша\n",
    "    A1 = cache['A1']\n",
    "    A2 = cache['A2']\n",
    "    \n",
    "    # Обратный шаг: считаем dW1, db1, dW2, db2. \n",
    "    dZ2= A2 - Y\n",
    "    dW2 = (1 / m) * np.dot(dZ2, A1.T)\n",
    "    db2 = (1 / m) * np.sum(dZ2, axis=1)\n",
    "    dZ1 = np.multiply(np.dot(W2.T, dZ2), 1 - np.power(A1, 2))\n",
    "    dW1 = (1 / m) * np.dot(dZ1, X.T)\n",
    "    db1 = (1 / m) * np.sum(dZ1, axis=1)\n",
    "    \n",
    "    # градиенты\n",
    "    grads = {\"dW1\": dW1,\n",
    "             \"db1\": db1,\n",
    "             \"dW2\": dW2,\n",
    "             \"db2\": db2}\n",
    "    \n",
    "    return grads"
   ]
  },
  {
   "cell_type": "markdown",
   "metadata": {
    "colab_type": "text",
    "id": "C07wrqqnJboU"
   },
   "source": [
    "Наша задача — минимизация функции потерь, поэтому мы идем в противоположном градиенту напривлении. Длина шага — **learning rate**. Сохраняем обновленные веса. С ними наша сеть будет предсказывать чуть лучше"
   ]
  },
  {
   "cell_type": "code",
   "execution_count": 22,
   "metadata": {
    "colab": {},
    "colab_type": "code",
    "id": "nEYHh1egojJF"
   },
   "outputs": [],
   "source": [
    "def update_parameters(parameters, grads, learning_rate=1.2):\n",
    "   # Достаем параметры (=веса)\n",
    "    W1 = parameters['W1']\n",
    "    b1 = parameters['b1']\n",
    "    W2 = parameters['W2']\n",
    "    b2 = parameters['b2']\n",
    "    \n",
    "    # Достаем градиенты\n",
    "    dW1 = grads['dW1']\n",
    "    db1 = grads['db1']\n",
    "    dW2 = grads['dW2']\n",
    "    db2 = grads['db2']\n",
    "    \n",
    "    # Обновляем веса\n",
    "    W1 = W1 - learning_rate * dW1\n",
    "    b1 = b1 - learning_rate * db1\n",
    "    W2 = W2 - learning_rate * dW2\n",
    "    b2 = b2 - learning_rate * db2\n",
    "    \n",
    "    parameters = {\"W1\": W1,\n",
    "                  \"b1\": b1,\n",
    "                  \"W2\": W2,\n",
    "                  \"b2\": b2}\n",
    "    \n",
    "    return parameters"
   ]
  },
  {
   "cell_type": "markdown",
   "metadata": {
    "colab_type": "text",
    "id": "G4qEKujCJ-AH"
   },
   "source": [
    "### Собираем нейросеть\n",
    "\n",
    "Собираем все шаги в единую сеть, где процесс обучения выполняется циклом длиной в количество эпох:\n",
    "\n",
    "\n",
    "*  **Forward propagation**: делаем шаг вперед, пропуская входные данные через нейроны сети.\n",
    "*  Cчитаем значение **функции ошибки** *(cost/loss function)*.\n",
    "*  **Back propagation**: ищем градиент — направление максимального роста cost function при нынешних параметрах. \n",
    "*  **Обновляем веса**, перемещаясь по функции потерь в обратном градиенту направлении.\n",
    "\n"
   ]
  },
  {
   "cell_type": "code",
   "execution_count": 23,
   "metadata": {
    "colab": {},
    "colab_type": "code",
    "id": "aqsuI-NBojJK"
   },
   "outputs": [],
   "source": [
    "def nn_model(X, Y, n_h, num_iterations=10000, print_cost=False):\n",
    "    np.random.seed(3)\n",
    "    n_x = layer_sizes(X, Y)[0]\n",
    "    n_y = layer_sizes(X, Y)[2]\n",
    "    \n",
    "    # Инициализируем параметры, достаем W1, b1, W2, b2\n",
    "    parameters = initialize_parameters(n_x, n_h, n_y)\n",
    "    W1 = parameters['W1']\n",
    "    b1 = parameters['b1']\n",
    "    W2 = parameters['W2']\n",
    "    b2 = parameters['b2']\n",
    "    \n",
    "    # Градиентный спуск\n",
    "    for i in range(0, num_iterations):\n",
    "         \n",
    "        # Шаг вперед. Вход: \"X, parameters\". Выход: \"A2, cache\".\n",
    "        A2, cache = forward_propagation(X, parameters)\n",
    "        \n",
    "        # Функция потерь. Вход: \"A2, Y, parameters\". Выход: \"cost\".\n",
    "        cost = compute_cost(A2, Y, parameters)\n",
    " \n",
    "        # Обратный шаг. Вход: \"parameters, cache, X, Y\". Выход: \"grads\".\n",
    "        grads = backward_propagation(parameters, cache, X, Y)\n",
    " \n",
    "        # Обновляем веса. Вход: \"parameters, grads\". Выход: \"parameters\".\n",
    "        parameters = update_parameters(parameters, grads)\n",
    "                \n",
    "        # Печатаем значение функции ошибок на каждой 1000 итерации\n",
    "        if print_cost and i % 1000 == 0:\n",
    "            print (\"Cost after iteration %i: %f\" % (i, cost))\n",
    "    return parameters"
   ]
  },
  {
   "cell_type": "markdown",
   "metadata": {
    "colab_type": "text",
    "id": "iSGCsrqIL6s4"
   },
   "source": [
    "Обучим модель за 1000 итераций и за 50000 итераций, в обоих случаях сохраним параметры\n",
    "\n"
   ]
  },
  {
   "cell_type": "code",
   "execution_count": 24,
   "metadata": {
    "colab": {
     "base_uri": "https://localhost:8080/",
     "height": 906
    },
    "colab_type": "code",
    "id": "4LfYzQtXojJd",
    "outputId": "fd8b9ce9-1b60-4f18-fd22-9124083a37fe"
   },
   "outputs": [
    {
     "name": "stdout",
     "output_type": "stream",
     "text": [
      "Cost after iteration 0: 0.693225\n",
      "Cost after iteration 1000: 0.402530\n",
      "Cost after iteration 2000: 0.149060\n",
      "Cost after iteration 3000: 0.132325\n",
      "Cost after iteration 4000: 0.132567\n",
      "Cost after iteration 5000: 0.115366\n",
      "Cost after iteration 6000: 0.099302\n",
      "Cost after iteration 7000: 0.097014\n",
      "Cost after iteration 8000: 0.095698\n",
      "Cost after iteration 9000: 0.094169\n",
      "Cost after iteration 10000: 0.092606\n",
      "Cost after iteration 11000: 0.102696\n",
      "Cost after iteration 12000: 0.084246\n",
      "Cost after iteration 13000: 0.086917\n",
      "Cost after iteration 14000: 0.101385\n",
      "Cost after iteration 15000: 0.089592\n",
      "Cost after iteration 16000: 0.153410\n",
      "Cost after iteration 17000: 0.078748\n",
      "Cost after iteration 18000: 0.100950\n",
      "Cost after iteration 19000: 0.074750\n",
      "Cost after iteration 20000: 0.085039\n",
      "Cost after iteration 21000: 0.074722\n",
      "Cost after iteration 22000: 0.077477\n",
      "Cost after iteration 23000: 0.080326\n",
      "Cost after iteration 24000: 0.064107\n",
      "Cost after iteration 25000: 0.082830\n",
      "Cost after iteration 26000: 0.079070\n",
      "Cost after iteration 27000: 0.073601\n",
      "Cost after iteration 28000: 0.066774\n",
      "Cost after iteration 29000: 0.080110\n",
      "Cost after iteration 30000: 0.079224\n",
      "Cost after iteration 31000: 0.077916\n",
      "Cost after iteration 32000: 0.079552\n",
      "Cost after iteration 33000: 0.063440\n",
      "Cost after iteration 34000: 0.063282\n",
      "Cost after iteration 35000: 0.073065\n",
      "Cost after iteration 36000: 0.079256\n",
      "Cost after iteration 37000: 0.069410\n",
      "Cost after iteration 38000: 0.056405\n",
      "Cost after iteration 39000: 0.047547\n",
      "Cost after iteration 40000: 0.036084\n",
      "Cost after iteration 41000: 0.033231\n",
      "Cost after iteration 42000: 0.031779\n",
      "Cost after iteration 43000: 0.030880\n",
      "Cost after iteration 44000: 0.030253\n",
      "Cost after iteration 45000: 0.029783\n",
      "Cost after iteration 46000: 0.029413\n",
      "Cost after iteration 47000: 0.029111\n",
      "Cost after iteration 48000: 0.028858\n",
      "Cost after iteration 49000: 0.028642\n"
     ]
    }
   ],
   "source": [
    "parameters_1000 = nn_model(X,Y , n_h = 6, num_iterations = 1000, print_cost=False)\n",
    "parameters_50000 = nn_model(X,Y , n_h = 6, num_iterations = 50000, print_cost=True)"
   ]
  },
  {
   "cell_type": "code",
   "execution_count": 0,
   "metadata": {
    "colab": {
     "base_uri": "https://localhost:8080/",
     "height": 284
    },
    "colab_type": "code",
    "id": "khMwdae7ojJm",
    "outputId": "e794eb4f-4f56-4617-fbde-9402ee77c291"
   },
   "outputs": [
    {
     "data": {
      "text/plain": [
       "{'W1': array([[-0.73141044, -2.89369836],\n",
       "        [ 0.56087706, -4.57804212],\n",
       "        [-0.61413975, -1.13668055],\n",
       "        [-0.21459578,  3.66758731],\n",
       "        [ 1.04207635, -8.36993525],\n",
       "        [-0.09082063,  6.15140858]]),\n",
       " 'W2': array([[ 0.18639226,  0.7308664 , -0.03472296, -0.27995301,  0.90962261,\n",
       "         -0.73329316]]),\n",
       " 'b1': array([[ 2.55350781],\n",
       "        [ 6.71412659],\n",
       "        [ 0.91551246],\n",
       "        [-5.33323044],\n",
       "        [10.35471932],\n",
       "        [-8.37471096]]),\n",
       " 'b2': array([[0.7122717]])}"
      ]
     },
     "execution_count": 37,
     "metadata": {
      "tags": []
     },
     "output_type": "execute_result"
    }
   ],
   "source": [
    "parameters_1000"
   ]
  },
  {
   "cell_type": "markdown",
   "metadata": {
    "colab_type": "text",
    "id": "AoWMs4bcNUmE"
   },
   "source": [
    "Посмотрим на результаты для двух наборов параметров. Для этого просто сделаем forward_propagation."
   ]
  },
  {
   "cell_type": "code",
   "execution_count": 25,
   "metadata": {
    "colab": {},
    "colab_type": "code",
    "id": "k1CBOMF_ojJr"
   },
   "outputs": [],
   "source": [
    "preds_1000 = forward_propagation(X, parameters_1000)\n",
    "preds_1000 = preds_1000[0]"
   ]
  },
  {
   "cell_type": "code",
   "execution_count": 27,
   "metadata": {
    "colab": {
     "base_uri": "https://localhost:8080/",
     "height": 376
    },
    "colab_type": "code",
    "id": "4bWElybsojJv",
    "outputId": "0bbfab45-2ba2-46ce-9183-654df1f3101d"
   },
   "outputs": [
    {
     "data": {
      "image/png": "[encoded data removed]",
      "text/plain": [
       "<Figure size 432x288 with 1 Axes>"
      ]
     },
     "metadata": {},
     "output_type": "display_data"
    }
   ],
   "source": [
    "plt.scatter(X[0, :], X[1, :], c=preds_1000[0,:], s=40, cmap=plt.cm.Spectral);\n",
    "plt.title(\"IRIS DATA | Blue - Versicolor, Red - Virginica \")\n",
    "plt.xlabel('Petal Length')\n",
    "plt.ylabel('Petal Width')\n",
    "plt.show()\n"
   ]
  },
  {
   "cell_type": "code",
   "execution_count": 26,
   "metadata": {
    "colab": {},
    "colab_type": "code",
    "id": "oW6ILVmOojJt"
   },
   "outputs": [],
   "source": [
    "preds_50000 = forward_propagation(X, parameters_50000)\n",
    "preds_50000 = preds_50000[0]"
   ]
  },
  {
   "cell_type": "code",
   "execution_count": 28,
   "metadata": {
    "colab": {
     "base_uri": "https://localhost:8080/",
     "height": 376
    },
    "colab_type": "code",
    "id": "ElQRQoTuojJx",
    "outputId": "8fba08f1-1dac-4773-f0c4-670509ddb785"
   },
   "outputs": [
    {
     "data": {
      "image/png": "[encoded data removed]",
      "text/plain": [
       "<Figure size 432x288 with 1 Axes>"
      ]
     },
     "metadata": {},
     "output_type": "display_data"
    }
   ],
   "source": [
    "plt.scatter(X[0, :], X[1, :], c=preds_50000[0,:], s=40, cmap=plt.cm.Spectral);\n",
    "plt.title(\"IRIS DATA | Blue - Versicolor, Red - Virginica \")\n",
    "plt.xlabel('Petal Length')\n",
    "plt.ylabel('Petal Width')\n",
    "plt.show()"
   ]
  },
  {
   "cell_type": "markdown",
   "metadata": {
    "colab_type": "text",
    "id": "jmQ1tIkpwbjV"
   },
   "source": [
    "## Задание\n",
    "\n",
    "Попробуем с помощью той же самой сети решить задачу классификации для классического датасета 20 newsgroups. Классы в виде чисел лежат в атрибуте target, а имена классов – в target_names."
   ]
  },
  {
   "cell_type": "code",
   "execution_count": 29,
   "metadata": {
    "colab": {
     "base_uri": "https://localhost:8080/",
     "height": 391
    },
    "colab_type": "code",
    "id": "GCZBThdkBv4V",
    "outputId": "d2649a6a-c33d-43dd-bb98-4dc8e8c97a10"
   },
   "outputs": [
    {
     "name": "stdout",
     "output_type": "stream",
     "text": [
      "['alt.atheism',\n",
      " 'comp.graphics',\n",
      " 'comp.os.ms-windows.misc',\n",
      " 'comp.sys.ibm.pc.hardware',\n",
      " 'comp.sys.mac.hardware',\n",
      " 'comp.windows.x',\n",
      " 'misc.forsale',\n",
      " 'rec.autos',\n",
      " 'rec.motorcycles',\n",
      " 'rec.sport.baseball',\n",
      " 'rec.sport.hockey',\n",
      " 'sci.crypt',\n",
      " 'sci.electronics',\n",
      " 'sci.med',\n",
      " 'sci.space',\n",
      " 'soc.religion.christian',\n",
      " 'talk.politics.guns',\n",
      " 'talk.politics.mideast',\n",
      " 'talk.politics.misc',\n",
      " 'talk.religion.misc']\n"
     ]
    }
   ],
   "source": [
    "from sklearn.datasets import fetch_20newsgroups\n",
    "from sklearn import metrics\n",
    "from pprint import pprint\n",
    "import numpy as np\n",
    "import pandas as pd\n",
    "\n",
    "newsgroups_train = fetch_20newsgroups(subset='train')\n",
    "newsgroups_test = fetch_20newsgroups(subset='test')\n",
    "pprint(newsgroups_train.target_names)"
   ]
  },
  {
   "cell_type": "markdown",
   "metadata": {
    "colab_type": "text",
    "id": "uoCGg6k2GZm1"
   },
   "source": [
    "Для упрощения задачи оставим любые два класса."
   ]
  },
  {
   "cell_type": "code",
   "execution_count": 0,
   "metadata": {
    "colab": {},
    "colab_type": "code",
    "id": "JNo8YQe7Gkoo"
   },
   "outputs": [],
   "source": [
    "categories = ['', '']\n",
    "newsgroups_train = fetch_20newsgroups(subset='train', categories=categories)\n",
    "newsgroups_test = fetch_20newsgroups(subset='test', categories=categories)"
   ]
  },
  {
   "cell_type": "code",
   "execution_count": 0,
   "metadata": {
    "colab": {},
    "colab_type": "code",
    "id": "QCQbwQMKHACK"
   },
   "outputs": [],
   "source": [
    "newsgroups_train.['target'][:10]"
   ]
  },
  {
   "cell_type": "markdown",
   "metadata": {
    "colab_type": "text",
    "id": "Ra_7Nm7QCaBy"
   },
   "source": [
    "### Подготовка данных\n",
    "\n",
    "Обучающие данные *(X_train)* необходимо векторизовать, а после превратить получившуюся разреженную матрицу *(sparse matrix)* с множеством нулей в плотную матрицу *(dense matrix)*. Столбец с класcами *(Y_train)* нужно преобразовать в матрицу и затем транспонировать ее.  То же самое нужно проделать с тестовыми данными."
   ]
  },
  {
   "cell_type": "code",
   "execution_count": 0,
   "metadata": {
    "colab": {},
    "colab_type": "code",
    "id": "w-hTpxrZC_8N"
   },
   "outputs": [],
   "source": [
    "from sklearn.feature_extraction.text import TfidfVectorizer\n",
    "vect = TfidfVectorizer()\n",
    "\n",
    "# YOUR CODE HERE "
   ]
  },
  {
   "cell_type": "markdown",
   "metadata": {
    "colab_type": "text",
    "id": "UdAyTdPdDMoe"
   },
   "source": [
    "### Обучение\n",
    "\n",
    "Необходимо добавить значения параметров. При желании можно использовать `grid search` для подбора параметров (размер скрытого слоя, количество итераций)."
   ]
  },
  {
   "cell_type": "code",
   "execution_count": 0,
   "metadata": {
    "colab": {},
    "colab_type": "code",
    "id": "sn5GE_PxDLw2"
   },
   "outputs": [],
   "source": [
    "parameters = nn_model(X, Y , n_h =, num_iterations=, print_cost=)"
   ]
  },
  {
   "cell_type": "markdown",
   "metadata": {
    "colab_type": "text",
    "id": "-okW9hEtEOcG"
   },
   "source": [
    "### Тестирование\n",
    "\n",
    "На данном шаге нужно посмотреть предсказания сети на тестовых данных. Не забудьте их векторизовать!"
   ]
  },
  {
   "cell_type": "code",
   "execution_count": 0,
   "metadata": {
    "colab": {},
    "colab_type": "code",
    "id": "Jyy3hpopEZLt"
   },
   "outputs": [],
   "source": [
    "# YOUR CODE HERE\n",
    "\n",
    "# здесь тестовые данные и сохраненные на предыдущем шаге параметры\n",
    "preds = forward_propagation() "
   ]
  },
  {
   "cell_type": "markdown",
   "metadata": {
    "colab_type": "text",
    "id": "vDtWFLsSE6v8"
   },
   "source": [
    "Оценим качетсво сети по основным метрикам (точность, полнота, f-мера, accuracy) и построим матрицу ошибок.  \n",
    "\n",
    "В нашем случае предсказания — это вероятность класса 1. Чтобы получить `classification_report`, нужно добавить в архитектуру сети функцию, которая по вероятности будет выдавать класс, или же обработать полученные предсказания соответствующим образом."
   ]
  },
  {
   "cell_type": "code",
   "execution_count": 0,
   "metadata": {
    "colab": {},
    "colab_type": "code",
    "id": "zhTavdnCF9nz"
   },
   "outputs": [],
   "source": [
    "# YOUR CODE HERE\n",
    "\n",
    "print(metrics.classification_report()) # реальные классы и предсказания"
   ]
  },
  {
   "cell_type": "code",
   "execution_count": 0,
   "metadata": {
    "colab": {},
    "colab_type": "code",
    "id": "sQS4e-3HCO_0"
   },
   "outputs": [],
   "source": [
    "import seaborn as sns\n",
    "\n",
    "m = confusion_matrix() # реальные классы и предсказания\n",
    "\n",
    "plt.figure(figsize = (10,10))\n",
    "sns.heatmap(data=m, annot=True, fmt=\"d\", cbar=False, cmap=plt.cm.Spectral)\n",
    "plt.title(\"\")\n",
    "plt.xlabel('Predicted')\n",
    "plt.ylabel('True')\n",
    "plt.show()"
   ]
  },
  {
   "cell_type": "markdown",
   "metadata": {
    "colab_type": "text",
    "id": "vL_PqUHsI6y5"
   },
   "source": [
    "Также оценим качество с помощью AUC-ROC — популярной метрики для бинарной классификации. \n",
    "\n",
    "**ROC-кривая** (англ. *receiver operating characteristic*, рабочая характеристика приёмника) — график, позволяющий оценить качество бинарной классификации. Он отображает соотношение  *true positive rate, (TPR)* и  *false positive rate (FPR)* при варьировании порога решающего правила. \n",
    "\n",
    "\n",
    "Количественную интерпретацию ROC даёт показатель **AUC** (англ. *area under ROC curve*, площадь под ROC-кривой) — площадь, ограниченная ROC-кривой и осью доли FP. Чем выше показатель AUC, тем качественнее классификатор, при этом значение 0,5 демонстрирует непригодность выбранного метода классификации (соответствует случайному гаданию). "
   ]
  },
  {
   "cell_type": "code",
   "execution_count": 0,
   "metadata": {
    "colab": {},
    "colab_type": "code",
    "id": "OkfXXkRhI-dS"
   },
   "outputs": [],
   "source": [
    "fpr, tpr, threshold = metrics.roc_curve() # реальные классы и предсказания\n",
    "roc_auc = metrics.auc(fpr, tpr)\n",
    "\n",
    "\n",
    "plt.title('Receiver Operating Characteristic')\n",
    "plt.plot(fpr, tpr, 'b', label = 'AUC = %0.2f' % roc_auc)\n",
    "plt.legend(loc = 'lower right')\n",
    "plt.plot([0, 1], [0, 1],'g--') # внешний вид можно изменить по своему вкусу\n",
    "plt.xlim([0, 1])\n",
    "plt.ylim([0, 1])\n",
    "plt.ylabel('True Positive Rate')\n",
    "plt.xlabel('False Positive Rate')\n",
    "plt.show()"
   ]
  }
 ],
 "metadata": {
  "colab": {
   "collapsed_sections": [],
   "name": "NN_from_scratch.ipynb",
   "provenance": [],
   "version": "0.3.2"
  },
  "kernelspec": {
   "display_name": "Python 3",
   "language": "python",
   "name": "python3"
  },
  "language_info": {
   "codemirror_mode": {
    "name": "ipython",
    "version": 3
   },
   "file_extension": ".py",
   "mimetype": "text/x-python",
   "name": "python",
   "nbconvert_exporter": "python",
   "pygments_lexer": "ipython3",
   "version": "3.6.7"
  }
 },
 "nbformat": 4,
 "nbformat_minor": 1
}

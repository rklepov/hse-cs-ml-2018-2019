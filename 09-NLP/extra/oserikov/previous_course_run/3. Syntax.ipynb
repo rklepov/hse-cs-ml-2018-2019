{
 "cells": [
  {
   "cell_type": "markdown",
   "metadata": {},
   "source": [
    "# Синтаксис \n",
    "\n",
    "**Синтаксис** — одна из частей грамматики, которая исследует взаимодействие слов в словосочетании и предложении (вторая часть — морфология). \n",
    "\n",
    "Формальные (структурные) подходы к синтаксису:\n",
    "\n",
    "1. Грамматика составляющих\n",
    "2. Грамматика зависимостей\n",
    "\n",
    "## Грамматика составляющих\n",
    "*constituency grammar, phrase structure grammar*\n",
    "\n",
    "* Составляющая (англ. constituent) — структурная единица (отрезок) предложения, целиком составленная из более тесно связанных друг с другом составляющих меньшего размера\n",
    "* Любая сложная грамматическая единица складывается из двух более простых и не пересекающихся единиц, или непосредственных составляющих (англ. immediate constituents)\n",
    "* Предложения  представлено в виде иерархии непосредственных составляющих\n",
    "* Составляющая, включающая более одного слова — группа (англ. phrase)\n",
    "* Слово, соответствующее корневому узлу в дереве зависимостей, описывающем группу — ее вершина (англ. head)\n",
    "* Много используется в американской формальной лингвистике, в частности в генеративной грамматике Н. Хомского\n",
    "\n",
    "<img src=\"https://upload.wikimedia.org/wikipedia/commons/thumb/6/6e/ParseTree.svg/800px-ParseTree.svg.png\" width=\"200\">\n",
    "\n",
    "### Виды синтаксических групп\n",
    "Называются по частям речи вершин.\n",
    "* NP — именная группа (группа существительного, англ. noun phrase)\n",
    "* AP — группа прилагательного (англ. adjectival phrase)\n",
    "* AdvP — наречная группа (англ. adverbial phrase)\n",
    "* PP — предложная группа (англ. prepositional phrase)\n",
    "* VP — глагольная группа (англ. verb phrase)\n",
    "* S — предложение (англ. sentence), всегда являетс самой верхней группой\n",
    "\n",
    "## Грамматика зависимостей\n",
    "\n",
    "*dependency grammar, dependency parsing*\n",
    "\n",
    "* Именно ее в упрощенном виде проходят в школе\n",
    "* Сейчас является стандартом в автоматической обработке текста, т.к. является более гибкой (например, позволяет описывать языки со свободным порядком слов)\n",
    "* Стандарт разметки [Universal Depedencies](https://universaldependencies.org/), открытые корпуса\n",
    "* Строй предложения — иерархия компонентов, между которыми установлено отношение зависимости\n",
    "* Есть вершины и зависимые от них элементы, во главе всего — глагол\n",
    "* Важны типы связей! [Виды связей](https://universaldependencies.org/u/dep/index.html) и [основные принципы синтаксической разметки](https://universaldependencies.org/u/overview/syntax.html)\n",
    "* Хорошая и важная [статья](https://cl.lingfil.uu.se/~nivre/docs/05133.pdf) Йоакима Нивре о грамматике зависимостей в NLP\n",
    "\n",
    "<img src=\"https://www.inf.ed.ac.uk/teaching/courses/anlp/lectures/17/depend2.png\" width=\"700\">\n",
    "\n",
    "## Сравнение\n",
    "\n",
    "Разбор одного и того же предложения в грамматике зависимостей и в грамматике составляющих (из статьи Нивре). Формальное представление структуры предложения как в грамматике зависимостей, так и в грамматике составляющих называется **деревом**.\n",
    "\n",
    "\n",
    "[Частеречные теги из корпуса PennTreebank](https://www.ling.upenn.edu/courses/Fall_2003/ling001/penn_treebank_pos.html), которые используются на картинке (они старые и только для английского, вы их уже почти нигде не увидите). \n",
    "\n",
    "![](img/dep-nivre.png)"
   ]
  },
  {
   "cell_type": "markdown",
   "metadata": {},
   "source": [
    "## Universal Dependencies\n",
    "\n",
    "### Формат CoNLL-U\n",
    "\n",
    "Существует несколько форматов записи деревьев зависимостей, но самый популярный и общеиспользуемый — [CoNLL-U](http://universaldependencies.org/format.html). \n",
    "\n",
    "* таблица с 10 колонками, разделитель — табуляция\n",
    "* ячейки не могут быть пустыми, для заполнения используется _ (нижнее подчеркивание)\n",
    "* на каждой строке по одному токену, предложения разделяются пустой строкой\n",
    "* комментарии обозначаются #\n",
    "\n",
    "**Поля таблицы**\n",
    "\n",
    "1. ID: индекс слова, нумерация с 1 для каждого нового предложения\n",
    "2. FORM: токен (форма слова, цифра, знак пунктуации)\n",
    "3. LEMMA: начальная форма\n",
    "4. UPOS: частеречный тег в формате UPOS\n",
    "5. XPOS: лингвоспецифическая часть речи\n",
    "6. FEATS: морфологическая информация: род, число, падеж и т.п.\n",
    "7. HEAD: id родителя (слова, от которого зависит данное)\n",
    "8. DEPREL: тип зависимости \n",
    "9. DEPS: альтернатвный подграф в виде пар \"вершина–тип зависимости\" (не будем углубляться :)\n",
    "10. MISC: любые другие пометы\n",
    "\n",
    "Как это выглядит:\n",
    "\n",
    "![](img/dep-annot.png)\n",
    "\n",
    "**NB!** Вершина предложения обозначается как *root* и в качестве id родителя всегда имеет 0. \n",
    "\n",
    "### Визуализация\n",
    "\n",
    "Отрытый инструмент для визуализации, ручной разметки и конвертации в другие форматы — **UD Annotatrix**\n",
    "* [Online-интерфейс](https://maryszmary.github.io/ud-annotatrix/standalone/annotator.html)\n",
    "* [Репозиторий](https://github.com/jonorthwash/ud-annotatrix)\n",
    "\n",
    "\n",
    "### Как считывать данные\n",
    "\n",
    "Для этого есть библиотека [conllu](https://github.com/EmilStenstrom/conllu), устанавливается с помощью `pip`."
   ]
  },
  {
   "cell_type": "code",
   "execution_count": 2,
   "metadata": {},
   "outputs": [],
   "source": [
    "from conllu import parse"
   ]
  },
  {
   "cell_type": "markdown",
   "metadata": {},
   "source": [
    "Пример из [SynTagRus](https://github.com/UniversalDependencies/UD_Russian-SynTagRus), русского UD-трибанка. **Трибанком** обычно называют набор синтаксически размеченных предложений."
   ]
  },
  {
   "cell_type": "code",
   "execution_count": 3,
   "metadata": {},
   "outputs": [],
   "source": [
    "my_example = \"\"\"\n",
    "# sent_id = 2003Armeniya.xml_138\n",
    "# text = Перспективы развития сферы высоких технологий.\n",
    "1\tПерспективы\tперспектива\tNOUN\t_\tAnimacy=Inan|Case=Nom|Gender=Fem|Number=Plur\t0\tROOT\t0:root\t_\n",
    "2\tразвития\tразвитие\tNOUN\t_\tAnimacy=Inan|Case=Gen|Gender=Neut|Number=Sing\t1\tnmod\t1:nmod\t_\n",
    "3\tсферы\tсфера\tNOUN\t_\tAnimacy=Inan|Case=Gen|Gender=Fem|Number=Sing\t2\tnmod\t2:nmod\t_\n",
    "4\tвысоких\tвысокий\tADJ\t_\tCase=Gen|Degree=Pos|Number=Plur\t5\tamod\t5:amod\t_\n",
    "5\tтехнологий\tтехнология\tNOUN\t_\tAnimacy=Inan|Case=Gen|Gender=Fem|Number=Plur\t3\tnmod\t3:nmod\tSpaceAfter=No\n",
    "6\t.\t.\tPUNCT\t_\t_\t1\tpunct\t1:punct\t_\n",
    "\"\"\""
   ]
  },
  {
   "cell_type": "code",
   "execution_count": 4,
   "metadata": {},
   "outputs": [
    {
     "data": {
      "text/plain": [
       "OrderedDict([('id', 1),\n",
       "             ('form', 'Перспективы'),\n",
       "             ('lemma', 'перспектива'),\n",
       "             ('upostag', 'NOUN'),\n",
       "             ('xpostag', None),\n",
       "             ('feats',\n",
       "              OrderedDict([('Animacy', 'Inan'),\n",
       "                           ('Case', 'Nom'),\n",
       "                           ('Gender', 'Fem'),\n",
       "                           ('Number', 'Plur')])),\n",
       "             ('head', 0),\n",
       "             ('deprel', 'ROOT'),\n",
       "             ('deps', [('root', 0)]),\n",
       "             ('misc', None)])"
      ]
     },
     "execution_count": 4,
     "metadata": {},
     "output_type": "execute_result"
    }
   ],
   "source": [
    "sentences = parse(my_example)\n",
    "sentence = sentences[0]\n",
    "\n",
    "# первый токен в примере\n",
    "sentence[0]"
   ]
  },
  {
   "cell_type": "code",
   "execution_count": 5,
   "metadata": {},
   "outputs": [
    {
     "data": {
      "text/plain": [
       "OrderedDict([('id', 6),\n",
       "             ('form', '.'),\n",
       "             ('lemma', '.'),\n",
       "             ('upostag', 'PUNCT'),\n",
       "             ('xpostag', None),\n",
       "             ('feats', None),\n",
       "             ('head', 1),\n",
       "             ('deprel', 'punct'),\n",
       "             ('deps', [('punct', 1)]),\n",
       "             ('misc', None)])"
      ]
     },
     "execution_count": 5,
     "metadata": {},
     "output_type": "execute_result"
    }
   ],
   "source": [
    "# последний токен\n",
    "sentence[-1]"
   ]
  },
  {
   "cell_type": "markdown",
   "metadata": {},
   "source": [
    "### Визуализация в питоне\n",
    "\n",
    "В `nltk` есть модуль `DependencyGraph`, который умеет рисовать деревья (и ещё многое другое). Для того, чтобы визуализация работала корректно, ему нужна зависимость — `graphviz` (ставится с помощью `pip`).\n",
    "\n",
    "В отличие от `conllu`, `DependencyGraph` не справляется с комментариями, поэтому придётся их убрать. Кроме того, ему обязательно нужен `deprel` *ROOT* в верхнем регистре, иначе он не находит корень."
   ]
  },
  {
   "cell_type": "code",
   "execution_count": 6,
   "metadata": {},
   "outputs": [],
   "source": [
    "from nltk import DependencyGraph\n",
    "\n",
    "sents = []\n",
    "for sent in my_example.split('\\n\\n'):\n",
    "    # убираем комменты\n",
    "    sent = '\\n'.join([line for line in sent.split('\\n') if not line.startswith('#')])\n",
    "    # заменяем deprel для root\n",
    "    sent = sent.replace('\\troot\\t', '\\tROOT\\t')\n",
    "    sents.append(sent)"
   ]
  },
  {
   "cell_type": "code",
   "execution_count": 7,
   "metadata": {},
   "outputs": [],
   "source": [
    "graph = DependencyGraph(tree_str=sents[0])"
   ]
  },
  {
   "cell_type": "code",
   "execution_count": 8,
   "metadata": {},
   "outputs": [
    {
     "name": "stdout",
     "output_type": "stream",
     "text": [
      "    Перспективы           \n",
      "  _______|__________       \n",
      " |               развития \n",
      " |                  |      \n",
      " |                сферы   \n",
      " |                  |      \n",
      " |              технологий\n",
      " |                  |      \n",
      " .               высоких  \n",
      "\n",
      "None\n"
     ]
    }
   ],
   "source": [
    "tree = graph.tree()\n",
    "print(tree.pretty_print())"
   ]
  },
  {
   "cell_type": "markdown",
   "metadata": {},
   "source": [
    "## UDPipe\n",
    "\n",
    "Есть разные инструменты для парсинга зависимостей. Сегодня мы будем рабтать с [UDPipe](http://ufal.mff.cuni.cz/udpipe). UDPipe умеет парсить текст с помощью готовых моделей (которые можно скачать [здесь](https://github.com/jwijffels/udpipe.models.ud.2.0/tree/master/inst/udpipe-ud-2.0-170801)) и обучать модели на своих трибанках.\n",
    "\n",
    "Собственно, в UDPipe есть три вида моделей:\n",
    "* токенизатор (делит предложение не токены, делает заготовку для CoNLL-U)\n",
    "* теггер (размечает части речи)\n",
    "* сам парсер (проставляет каждому токену `head` и `deprel`)\n",
    "\n",
    "Мы сегодня не будем обучать новых моделей (это слишком долго), а используем готовую модель для русского.\n",
    "\n",
    "**NB!** Не забывайте, что любая модель несовершенна и может ошибаться. Чем предложение сложнее синтаксически, тем больше вероятность ошибки (неправильного определения родителя и типа связи).\n",
    "\n",
    "### The Python binding\n",
    "\n",
    "У udpipe есть питоновская обвязка `ufal.udpipe`. Она довольно [плохо задокументирована](https://pypi.org/project/ufal.udpipe/), но зато можно использовать прямо в питоне.\n",
    "\n",
    "**NB!** Чтобы у вас номально установился `ufal.udpipe`, нужно сначала установить `SWIG` (скачать можно [отсюда](http://www.swig.org/download.html)) и прописать путь к нему в `PATH`."
   ]
  },
  {
   "cell_type": "code",
   "execution_count": 9,
   "metadata": {},
   "outputs": [],
   "source": [
    "from ufal.udpipe import Model, Pipeline\n",
    "model = Model.load('./data/russian-ud-2.0-170801.udpipe') # путь к модели"
   ]
  },
  {
   "cell_type": "code",
   "execution_count": 10,
   "metadata": {},
   "outputs": [
    {
     "data": {
      "text/plain": [
       "<Swig Object of type 'model *' at 0x000001D395F8F618>"
      ]
     },
     "execution_count": 10,
     "metadata": {},
     "output_type": "execute_result"
    }
   ],
   "source": [
    "# если успех, должно быть так (model != None)\n",
    "model"
   ]
  },
  {
   "cell_type": "markdown",
   "metadata": {},
   "source": [
    "Аргументы `Pipeline`:\n",
    "\n",
    "* загруженная модель\n",
    "* формат ввода \n",
    "    * conllu\n",
    "    * vertical — каждый токен на отдельной строке, предложения разделены пустой строкой\n",
    "    * horizontal — каждое предложение на отдельной строке, внутри предложения токены разделены пробелом\n",
    "    * если просто сплошной текст — вызываем токенизатор, generic_tokenizer или tokenize\n",
    "* теггер (либо default, либо none, если он не нужен)\n",
    "* парсер (либо default, либо none, если он не нужен)\n",
    "* формат вывода, по умолчанию conllu\n",
    "\n",
    "Все аргументы обязательные!"
   ]
  },
  {
   "cell_type": "code",
   "execution_count": 11,
   "metadata": {},
   "outputs": [
    {
     "name": "stdout",
     "output_type": "stream",
     "text": [
      "# newdoc\n",
      "# newpar\n",
      "# sent_id = 1\n",
      "# text = Если б мне платили каждый раз.\n",
      "1\tЕсли\tЕСЛИ\tSCONJ\tIN\t_\t4\tmark\t_\t_\n",
      "2\tб\tБ\tNOUN\tNN\tAnimacy=Anim|Case=Gen|Gender=Masc|Number=Plur\t4\tobl\t_\t_\n",
      "3\tмне\tЯ\tPRON\tPRP\tCase=Dat|Number=Sing|Person=1\t4\tiobj\t_\t_\n",
      "4\tплатили\tПЛАТИТЬ\tVERB\tVBC\tAspect=Imp|Mood=Ind|Number=Plur|Tense=Past|VerbForm=Fin\t0\troot\t_\t_\n",
      "5\tкаждый\tКАЖДЫЙ\tDET\tDT\tAnimacy=Inan|Case=Acc|Gender=Masc|Number=Sing\t6\tamod\t_\t_\n",
      "6\tраз\tРАЗ\tNOUN\tNN\tAnimacy=Inan|Case=Acc|Gender=Masc|Number=Sing\t4\tadvmod\t_\tSpaceAfter=No\n",
      "7\t.\t.\tPUNCT\t.\t_\t4\tpunct\t_\t_\n",
      "\n",
      "# sent_id = 2\n",
      "# text = Каждый раз, когда я думаю о тебе.\n",
      "1\tКаждый\tКАЖДЫЙ\tDET\tDT\tAnimacy=Inan|Case=Acc|Gender=Masc|Number=Sing\t2\tamod\t_\t_\n",
      "2\tраз\tРАЗ\tNOUN\tNN\tAnimacy=Inan|Case=Acc|Gender=Masc|Number=Sing\t6\tadvmod\t_\tSpaceAfter=No\n",
      "3\t,\t,\tPUNCT\t,\t_\t6\tpunct\t_\t_\n",
      "4\tкогда\tКОГДА\tADV\tWRB\t_\t6\tadvmod\t_\t_\n",
      "5\tя\tЯ\tPRON\tPRP\tCase=Nom|Number=Sing|Person=1\t6\tnsubj\t_\t_\n",
      "6\tдумаю\tдУМАТЬ\tVERB\tVBC\tAspect=Imp|Mood=Ind|Number=Sing|Person=1|Tense=Pres|VerbForm=Fin\t0\troot\t_\t_\n",
      "7\tо\tО\tADP\tIN\t_\t8\tcase\t_\t_\n",
      "8\tтебе\tТЫ\tPRON\tPRP\tCase=Dat|Number=Sing|Person=2\t6\tobl\t_\tSpaceAfter=No\n",
      "9\t.\t.\tPUNCT\t.\t_\t6\tpunct\t_\tSpacesAfter=\\n\n",
      "\n",
      "\n"
     ]
    }
   ],
   "source": [
    "pipeline = Pipeline(model, 'tokenize', Pipeline.DEFAULT, Pipeline.DEFAULT, Pipeline.DEFAULT)\n",
    "example = \"Если б мне платили каждый раз. Каждый раз, когда я думаю о тебе.\"\n",
    "parsed = pipeline.process(example)\n",
    "print(parsed)"
   ]
  },
  {
   "cell_type": "markdown",
   "metadata": {},
   "source": [
    "UDPipe токенизировал и лематизировал текст, а также сделал POS-tagging и, собственно, синтаксический разбор.\n",
    "\n",
    "### Command line interface\n",
    "\n",
    "Но с обвязкой бывают проблемы, и вообще довольно удобно пользоваться прекомпилированной утилитой `udpipe` из шелла. Она скачивается [здесь](https://github.com/ufal/udpipe/releases/tag/v1.2.0). Внутри бинарники для всех популярных ОС, выбираем свой и прописываем путь к нему в системные переменные `PYTHONPATH` и `PATH`. [Подробная документация есть на сайте проекта](http://ufal.mff.cuni.cz/udpipe/users-manual).\n",
    "\n",
    "Синтаксис:"
   ]
  },
  {
   "cell_type": "code",
   "execution_count": 13,
   "metadata": {},
   "outputs": [
    {
     "name": "stderr",
     "output_type": "stream",
     "text": [
      "Usage: udpipe [running_opts] model_file [input_files]\n",
      "       udpipe --train [training_opts] model_file [input_files]\n",
      "       udpipe --detokenize [detokenize_opts] raw_text_file [input_files]\n",
      "Running opts: --accuracy (measure accuracy only)\n",
      "              --input=[conllu|generic_tokenizer|horizontal|vertical]\n",
      "              --immediate (process sentences immediately during loading)\n",
      "              --outfile=output file template\n",
      "              --output=[conllu|epe|matxin|horizontal|plaintext|vertical]\n",
      "              --tokenize (perform tokenization)\n",
      "              --tokenizer=tokenizer options, implies --tokenize\n",
      "              --tag (perform tagging)\n",
      "              --tagger=tagger options, implies --tag\n",
      "              --parse (perform parsing)\n",
      "              --parser=parser options, implies --parse\n",
      "Training opts: --method=[morphodita_parsito] which method to use\n",
      "               --heldout=heldout data file name\n",
      "               --tokenizer=tokenizer options\n",
      "               --tagger=tagger options\n",
      "               --parser=parser options\n",
      "Detokenize opts: --outfile=output file template\n",
      "Generic opts: --version\n",
      "              --help\n"
     ]
    }
   ],
   "source": [
    "!udpipe"
   ]
  },
  {
   "cell_type": "code",
   "execution_count": 14,
   "metadata": {
    "scrolled": true
   },
   "outputs": [],
   "source": [
    "with open('example.txt', 'w', encoding='utf-8') as f:\n",
    "    f.write(example)"
   ]
  },
  {
   "cell_type": "code",
   "execution_count": 15,
   "metadata": {},
   "outputs": [
    {
     "name": "stderr",
     "output_type": "stream",
     "text": [
      "Loading UDPipe model: done.\n"
     ]
    }
   ],
   "source": [
    "!udpipe --tokenize --tag --parse .\\data\\russian-ud-2.0-170801.udpipe example.txt > parsed_example.conllu"
   ]
  },
  {
   "cell_type": "code",
   "execution_count": 16,
   "metadata": {},
   "outputs": [
    {
     "name": "stdout",
     "output_type": "stream",
     "text": [
      "# newdoc id = example.txt\n",
      "# newpar\n",
      "# sent_id = 1\n",
      "# text = Если б мне платили каждый раз.\n",
      "1\tЕсли\tЕСЛИ\tSCONJ\tIN\t_\t4\tmark\t_\t_\n",
      "2\tб\tБ\tNOUN\tNN\tAnimacy=Anim|Case=Gen|Gender=Masc|Number=Plur\t4\tobl\t_\t_\n",
      "3\tмне\tЯ\tPRON\tPRP\tCase=Dat|Number=Sing|Person=1\t4\tiobj\t_\t_\n",
      "4\tплатили\tПЛАТИТЬ\tVERB\tVBC\tAspect=Imp|Mood=Ind|Number=Plur|Tense=Past|VerbForm=Fin\t0\troot\t_\t_\n",
      "5\tкаждый\tКАЖДЫЙ\tDET\tDT\tAnimacy=Inan|Case=Acc|Gender=Masc|Number=Sing\t6\tamod\t_\t_\n",
      "6\tраз\tРАЗ\tNOUN\tNN\tAnimacy=Inan|Case=Acc|Gender=Masc|Number=Sing\t4\tadvmod\t_\tSpaceAfter=No\n",
      "7\t.\t.\tPUNCT\t.\t_\t4\tpunct\t_\t_\n",
      "\n",
      "# sent_id = 2\n",
      "# text = Каждый раз, когда я думаю о тебе.\n",
      "1\tКаждый\tКАЖДЫЙ\tDET\tDT\tAnimacy=Inan|Case=Acc|Gender=Masc|Number=Sing\t2\tamod\t_\t_\n",
      "2\tраз\tРАЗ\tNOUN\tNN\tAnimacy=Inan|Case=Acc|Gender=Masc|Number=Sing\t6\tadvmod\t_\tSpaceAfter=No\n",
      "3\t,\t,\tPUNCT\t,\t_\t6\tpunct\t_\t_\n",
      "4\tкогда\tКОГДА\tADV\tWRB\t_\t6\tadvmod\t_\t_\n",
      "5\tя\tЯ\tPRON\tPRP\tCase=Nom|Number=Sing|Person=1\t6\tnsubj\t_\t_\n",
      "6\tдумаю\tдУМАТЬ\tVERB\tVBC\tAspect=Imp|Mood=Ind|Number=Sing|Person=1|Tense=Pres|VerbForm=Fin\t0\troot\t_\t_\n",
      "7\tо\tО\tADP\tIN\t_\t8\tcase\t_\t_\n",
      "8\tтебе\tТЫ\tPRON\tPRP\tCase=Dat|Number=Sing|Person=2\t6\tobl\t_\tSpaceAfter=No\n",
      "9\t.\t.\tPUNCT\t.\t_\t6\tpunct\t_\tSpacesAfter=\\n\n",
      "\n",
      "\n"
     ]
    }
   ],
   "source": [
    "with open('parsed_example.conllu', 'r', encoding='utf-8') as f:\n",
    "    print(f.read())"
   ]
  },
  {
   "cell_type": "markdown",
   "metadata": {},
   "source": [
    "## Задание №1\n",
    "## Главред\n",
    "\n",
    "Главред — [сервис](https://glvrd.ru/) для корекции стиля текста. Кроме интерфейса у него есть [API](https://glvrd.ru/api/)! \n",
    "\n",
    "Алгоритмы Главреда основаны на правилах и списках стоп-слов, подробнее можно почтитать [здесь](http://maximilyahov.ru/blog/all/glvrd-grading/) и [здесь](https://zen.yandex.ru/media/id/59367381d7d0a62756e9cf32/kak-rabotaet-glavred-596f45d18e557d2646e50a1f). Однако, Главред не понимает контекст, не разбирается в орфографии и пунктуации, не видит рубленые предложения, почти не умеет находить ошибки в синтаксисе. Он подходит только для грубой механической чистки текста от мусора: стоп-слов, штампов и канцеляризмов.\n",
    "\n",
    "Попробуем имплементировать несколько функций для оценки текста по типу Главреда, но более продвинутых, ориентированных на синтаксис.\n",
    "\n",
    "### Однородные члены\n",
    "\n",
    "Возьмём простой пример: предложение, перегруженное однородными членами."
   ]
  },
  {
   "cell_type": "code",
   "execution_count": 36,
   "metadata": {},
   "outputs": [],
   "source": [
    "sent = \"\"\"\n",
    "Заходит она в трамвай, подходит к компостеру, открывает сумку, достает кошелку, закрывает сумку, открывает кошелку,\n",
    "достает кошелек, закрывает кошелку, открывает сумку, убирает кошелку, закрывает сумку, открывает кошелек, достает \n",
    "билетик...\n",
    "\"\"\""
   ]
  },
  {
   "cell_type": "code",
   "execution_count": 37,
   "metadata": {},
   "outputs": [
    {
     "name": "stdout",
     "output_type": "stream",
     "text": [
      "# newdoc\n",
      "# newpar\n",
      "# sent_id = 1\n",
      "# text = Заходит она в трамвай, подходит к компостеру, открывает сумку, достает кошелку, закрывает сумку, открывает кошелку, достает кошелек, закрывает кошелку, открывает сумку, убирает кошелку, закрывает сумку, открывает кошелек, достает билетик...\n",
      "1\tЗаходит\tЗаХОДИТЬ\tVERB\tVBC\tAspect=Imp|Mood=Ind|Number=Sing|Person=3|Tense=Pres|VerbForm=Fin\t0\troot\t_\tSpacesBefore=\\n\n",
      "2\tона\tОНА\tPRON\tPRP\tCase=Nom|Gender=Fem|Number=Sing|Person=3\t1\tnsubj\t_\t_\n",
      "3\tв\tВ\tADP\tIN\t_\t4\tcase\t_\t_\n",
      "4\tтрамвай\tтрамвай\tNOUN\tNN\tAnimacy=Inan|Case=Acc|Gender=Masc|Number=Sing\t1\tobl\t_\tSpaceAfter=No\n",
      "5\t,\t,\tPUNCT\t,\t_\t6\tpunct\t_\t_\n",
      "6\tподходит\tПОДХОДИТЬ\tVERB\tVBC\tAspect=Imp|Mood=Ind|Number=Sing|Person=3|Tense=Pres|VerbForm=Fin\t1\tconj\t_\t_\n",
      "7\tк\tК\tADP\tIN\t_\t8\tcase\t_\t_\n",
      "8\tкомпостеру\tкомпостЕРУ\tNOUN\tNN\tAnimacy=Inan|Case=Dat|Gender=Masc|Number=Sing\t6\tobl\t_\tSpaceAfter=No\n",
      "9\t,\t,\tPUNCT\t,\t_\t10\tpunct\t_\t_\n",
      "10\tоткрывает\tОТКРЫВАТЬ\tVERB\tVBC\tAspect=Imp|Mood=Ind|Number=Sing|Person=3|Tense=Pres|VerbForm=Fin\t1\tconj\t_\t_\n",
      "11\tсумку\tсумку\tNOUN\tNN\tAnimacy=Inan|Case=Acc|Gender=Fem|Number=Sing\t10\tobj\t_\tSpaceAfter=No\n",
      "12\t,\t,\tPUNCT\t,\t_\t13\tpunct\t_\t_\n",
      "13\tдостает\tдостает\tVERB\tVBC\tAspect=Imp|Mood=Ind|Number=Sing|Person=3|Tense=Pres|VerbForm=Fin\t1\tconj\t_\t_\n",
      "14\tкошелку\tкошелку\tNOUN\tNN\tAnimacy=Inan|Case=Acc|Gender=Fem|Number=Sing\t13\tobj\t_\tSpaceAfter=No\n",
      "15\t,\t,\tPUNCT\t,\t_\t16\tpunct\t_\t_\n",
      "16\tзакрывает\tзакрывает\tVERB\tVBC\tAspect=Imp|Mood=Ind|Number=Sing|Person=3|Tense=Pres|VerbForm=Fin\t1\tconj\t_\t_\n",
      "17\tсумку\tсумку\tNOUN\tNN\tAnimacy=Inan|Case=Acc|Gender=Fem|Number=Sing\t16\tobj\t_\tSpaceAfter=No\n",
      "18\t,\t,\tPUNCT\t,\t_\t19\tpunct\t_\t_\n",
      "19\tоткрывает\tОТКРЫВАТЬ\tVERB\tVBC\tAspect=Imp|Mood=Ind|Number=Sing|Person=3|Tense=Pres|VerbForm=Fin\t1\tconj\t_\t_\n",
      "20\tкошелку\tкошелку\tNOUN\tNN\tAnimacy=Inan|Case=Acc|Gender=Fem|Number=Sing\t19\tobj\t_\tSpaceAfter=No\n",
      "21\t,\t,\tPUNCT\t,\t_\t22\tpunct\t_\tSpacesAfter=\\n\n",
      "22\tдостает\tдостает\tVERB\tVBC\tAspect=Imp|Mood=Ind|Number=Sing|Person=3|Tense=Pres|VerbForm=Fin\t1\tconj\t_\t_\n",
      "23\tкошелек\tкошелек\tNOUN\tNN\tAnimacy=Inan|Case=Acc|Gender=Masc|Number=Sing\t22\tobj\t_\tSpaceAfter=No\n",
      "24\t,\t,\tPUNCT\t,\t_\t25\tpunct\t_\t_\n",
      "25\tзакрывает\tзакрывает\tVERB\tVBC\tAspect=Imp|Mood=Ind|Number=Sing|Person=3|Tense=Pres|VerbForm=Fin\t1\tconj\t_\t_\n",
      "26\tкошелку\tкошелку\tNOUN\tNN\tAnimacy=Inan|Case=Acc|Gender=Fem|Number=Sing\t25\tobj\t_\tSpaceAfter=No\n",
      "27\t,\t,\tPUNCT\t,\t_\t28\tpunct\t_\t_\n",
      "28\tоткрывает\tОТКРЫВАТЬ\tVERB\tVBC\tAspect=Imp|Mood=Ind|Number=Sing|Person=3|Tense=Pres|VerbForm=Fin\t1\tconj\t_\t_\n",
      "29\tсумку\tсумку\tNOUN\tNN\tAnimacy=Inan|Case=Acc|Gender=Fem|Number=Sing\t28\tobj\t_\tSpaceAfter=No\n",
      "30\t,\t,\tPUNCT\t,\t_\t31\tpunct\t_\t_\n",
      "31\tубирает\tубирает\tVERB\tVBC\tAspect=Imp|Mood=Ind|Number=Sing|Person=3|Tense=Pres|VerbForm=Fin\t1\tconj\t_\t_\n",
      "32\tкошелку\tкошелку\tNOUN\tNN\tAnimacy=Inan|Case=Acc|Gender=Fem|Number=Sing\t31\tobj\t_\tSpaceAfter=No\n",
      "33\t,\t,\tPUNCT\t,\t_\t34\tpunct\t_\t_\n",
      "34\tзакрывает\tзакрывает\tVERB\tVBC\tAspect=Imp|Mood=Ind|Number=Sing|Person=3|Tense=Pres|VerbForm=Fin\t1\tconj\t_\t_\n",
      "35\tсумку\tсумку\tNOUN\tNN\tAnimacy=Inan|Case=Acc|Gender=Fem|Number=Sing\t34\tobj\t_\tSpaceAfter=No\n",
      "36\t,\t,\tPUNCT\t,\t_\t37\tpunct\t_\t_\n",
      "37\tоткрывает\tОТКРЫВАТЬ\tVERB\tVBC\tAspect=Imp|Mood=Ind|Number=Sing|Person=3|Tense=Pres|VerbForm=Fin\t1\tconj\t_\t_\n",
      "38\tкошелек\tкошелек\tNOUN\tNN\tAnimacy=Inan|Case=Acc|Gender=Masc|Number=Sing\t37\tobj\t_\tSpaceAfter=No\n",
      "39\t,\t,\tPUNCT\t,\t_\t40\tpunct\t_\t_\n",
      "40\tдостает\tдостает\tVERB\tVBC\tAspect=Imp|Mood=Ind|Number=Sing|Person=3|Tense=Pres|VerbForm=Fin\t1\tconj\t_\tSpacesAfter=\\s\\n\n",
      "41\tбилетик\tбилетик\tNOUN\tNN\tAnimacy=Inan|Case=Acc|Gender=Masc|Number=Sing\t40\tobj\t_\tSpaceAfter=No\n",
      "42\t.\t.\tPUNCT\t.\t_\t40\tpunct\t_\tSpaceAfter=No\n",
      "43\t.\t.\tPUNCT\t.\t_\t1\tpunct\t_\tSpaceAfter=No\n",
      "44\t.\t.\tPUNCT\t.\t_\t1\tpunct\t_\tSpacesAfter=\\n\n",
      "\n",
      "\n"
     ]
    }
   ],
   "source": [
    "print(pipeline.process(sent))"
   ]
  },
  {
   "cell_type": "markdown",
   "metadata": {},
   "source": [
    "В таком случае очень много частей предложения, соединённых связью `conj` — ей обозначаются однородные члены предложения. В нашем примере вершина — глагол \"заходит\", от него зависят \"подходит\", \"открывает\", \"закрывает\", \"достает\". У всех этих глаголов в колонке `id родителя` стоит 1 (т.е. id вершины) и связь *conj* в колонке `deprel`.\n",
    "\n",
    "В таком случае можно просто посчитать количество таких связей, и если оно больше какой-нибудь величины (например, три на предложение), то выдать пользователю предупреждение наподобие Главреда.\n",
    "\n",
    "![](img/glavred.png)\n",
    "\n",
    "Можно усложнить этот критерий, проверив, не состоит ли предложение из большого числа однородных предложений. Для этого необходимо узнать, являются ли однородные члены глаголами и есть ли у каждого из них субъект, *nsubj*."
   ]
  },
  {
   "cell_type": "code",
   "execution_count": null,
   "metadata": {},
   "outputs": [],
   "source": [
    "# YOUR CODE HERE"
   ]
  },
  {
   "cell_type": "markdown",
   "metadata": {},
   "source": [
    "### Парцелляция\n",
    "\n",
    "Ещё одна проблема, на которую обращают внимание в Главреде — [парцелляция](http://maximilyahov.ru/blog/all/parcel/). Часто она делает предложения менее читаемыми.\n",
    "\n",
    "По словам Главреда,\n",
    "> Признак парцелляции — предложение синтаксически неполное и само по себе не имеет смысла.\n",
    "\n",
    "Разберем (сокращенный) пример, который приводит Главред."
   ]
  },
  {
   "cell_type": "code",
   "execution_count": 26,
   "metadata": {},
   "outputs": [
    {
     "name": "stdout",
     "output_type": "stream",
     "text": [
      "# newdoc\n",
      "# newpar\n",
      "# sent_id = 1\n",
      "# text = У каждого в гардеробе должна быть классная вязаная вещь, с которой не хочется расставаться.\n",
      "1\tУ\tУ\tADP\tIN\t_\t2\tcase\t_\t_\n",
      "2\tкаждого\tКАЖДЫЙ\tDET\tDT\tAnimacy=Inan|Case=Gen|Gender=Masc|Number=Sing\t5\tnmod\t_\t_\n",
      "3\tв\tВ\tADP\tIN\t_\t4\tcase\t_\t_\n",
      "4\tгардеробе\tгардерОБА\tNOUN\tNN\tAnimacy=Inan|Case=Loc|Gender=Fem|Number=Sing\t2\tobl\t_\t_\n",
      "5\tдолжна\tДОЛЖЕН\tADJ\tJJH\tAnimacy=Inan|Case=Nom|Gender=Fem|Number=Sing|Variant=Short\t0\troot\t_\t_\n",
      "6\tбыть\tБЫТЬ\tAUX\tVB\tAspect=Imp|VerbForm=Inf\t5\tcop\t_\t_\n",
      "7\tклассная\tклассная\tADJ\tJJL\tAnimacy=Inan|Case=Nom|Gender=Fem|Number=Sing\t9\tamod\t_\t_\n",
      "8\tвязаная\tвязаная\tADJ\tJJL\tAnimacy=Inan|Case=Nom|Gender=Fem|Number=Sing\t9\tamod\t_\t_\n",
      "9\tвещь\tвещь\tNOUN\tNN\tAnimacy=Inan|Case=Nom|Gender=Fem|Number=Sing\t5\tnsubj\t_\tSpaceAfter=No\n",
      "10\t,\t,\tPUNCT\t,\t_\t14\tpunct\t_\tSpacesAfter=\\s\\n\n",
      "11\tс\tС\tADP\tIN\t_\t12\tcase\t_\t_\n",
      "12\tкоторой\tКОТОРЫЙ\tPRON\tAWP\tAnimacy=Inan|Case=Gen|Gender=Fem|Number=Sing\t14\tobl\t_\t_\n",
      "13\tне\tНЕ\tPART\tNEG\tPolarity=Neg\t14\tadvmod\t_\t_\n",
      "14\tхочется\tхочется\tVERB\tVBC\tAspect=Imp|Mood=Ind|Number=Sing|Person=3|Tense=Pres|VerbForm=Fin|Voice=Mid\t9\tacl:relcl\t_\t_\n",
      "15\tрасставаться\tрасставаться\tVERB\tVB\tAspect=Imp|VerbForm=Inf|Voice=Mid\t14\txcomp\t_\tSpaceAfter=No\n",
      "16\t.\t.\tPUNCT\t.\t_\t5\tpunct\t_\t_\n",
      "\n",
      "# sent_id = 2\n",
      "# text = Которая не скатывалась бы через пять минут после носки и отлично сидела.\n",
      "1\tКоторая\tКОТОРЫЙ\tPRON\tAWP\tAnimacy=Anim|Case=Nom|Gender=Fem|Number=Sing\t3\tnsubj\t_\t_\n",
      "2\tне\tНЕ\tPART\tNEG\tPolarity=Neg\t3\tadvmod\t_\t_\n",
      "3\tскатывалась\tскатывалась\tVERB\tVBC\tAspect=Imp|Gender=Fem|Mood=Ind|Number=Sing|Tense=Past|VerbForm=Fin|Voice=Mid\t0\troot\t_\t_\n",
      "4\tбы\tБЫ\tPART\tRP\t_\t7\tdiscourse\t_\t_\n",
      "5\tчерез\tЧЕРЕЗ\tADP\tIN\t_\t7\tcase\t_\t_\n",
      "6\tпять\tПЯТЬ\tNUM\tCD\tCase=Acc|NumType=Card\t7\tnummod:gov\t_\tSpacesAfter=\\s\\n\n",
      "7\tминут\tМИНУТА\tNOUN\tNN\tAnimacy=Inan|Case=Gen|Gender=Fem|Number=Plur\t3\tobl\t_\t_\n",
      "8\tпосле\tПОСЛЕ\tADP\tIN\t_\t9\tcase\t_\t_\n",
      "9\tноски\tноски\tNOUN\tNN\tAnimacy=Inan|Case=Gen|Gender=Fem|Number=Sing\t12\tobl\t_\t_\n",
      "10\tи\tИ\tCCONJ\tCC\t_\t12\tcc\t_\t_\n",
      "11\tотлично\tОТЛИЧНО\tADV\tRB\t_\t12\tadvmod\t_\t_\n",
      "12\tсидела\tсиДЕЛО\tVERB\tVBC\tAspect=Imp|Gender=Fem|Mood=Ind|Number=Sing|Tense=Past|VerbForm=Fin\t3\tconj\t_\tSpaceAfter=No\n",
      "13\t.\t.\tPUNCT\t.\t_\t3\tpunct\t_\t_\n",
      "\n",
      "# sent_id = 3\n",
      "# text = Плюс выглядела бы не как свитер, связанный бабушкой и надетый из чувства долга.\n",
      "1\tПлюс\tПлюс\tNOUN\tNN\tAnimacy=Inan|Case=Nom|Gender=Masc|Number=Sing\t2\tnsubj\t_\t_\n",
      "2\tвыглядела\tвыгляДЕЛО\tVERB\tVBC\tAspect=Perf|Gender=Fem|Mood=Ind|Number=Sing|Tense=Past|VerbForm=Fin\t0\troot\t_\t_\n",
      "3\tбы\tБЫ\tPART\tRP\t_\t6\tdiscourse\t_\t_\n",
      "4\tне\tНЕ\tPART\tNEG\tPolarity=Neg\t6\tadvmod\t_\t_\n",
      "5\tкак\tКАК\tADP\tIN\t_\t6\tcase\t_\t_\n",
      "6\tсвитер\tсвИТЕР\tNOUN\tNN\tAnimacy=Anim|Case=Gen|Gender=Fem|Number=Plur\t2\tobl\t_\tSpaceAfter=No\n",
      "7\t,\t,\tPUNCT\t,\t_\t8\tpunct\t_\tSpacesAfter=\\s\\n\n",
      "8\tсвязанный\tСВЯЗАТЬ\tVERB\tVBNL\tAnimacy=Inan|Aspect=Perf|Case=Nom|Gender=Masc|Number=Sing|Tense=Past|VerbForm=Part|Voice=Pass\t6\tacl\t_\t_\n",
      "9\tбабушкой\tбабушкой\tNOUN\tNN\tAnimacy=Anim|Case=Ins|Gender=Masc|Number=Sing\t8\tiobj\t_\t_\n",
      "10\tи\tИ\tCCONJ\tCC\t_\t11\tcc\t_\t_\n",
      "11\tнадетый\tнадетый\tADJ\tJJL\tAnimacy=Inan|Case=Nom|Gender=Masc|Number=Sing\t9\tconj\t_\t_\n",
      "12\tиз\tИЗ\tADP\tIN\t_\t13\tcase\t_\t_\n",
      "13\tчувства\tЧУВСТВО\tNOUN\tNN\tAnimacy=Inan|Case=Gen|Gender=Neut|Number=Sing\t9\tnmod\t_\t_\n",
      "14\tдолга\tдОЛГА\tNOUN\tNN\tAnimacy=Inan|Case=Gen|Gender=Masc|Number=Sing\t13\tnmod\t_\tSpaceAfter=No\n",
      "15\t.\t.\tPUNCT\t.\t_\t2\tpunct\t_\t_\n",
      "\n",
      "# sent_id = 4\n",
      "# text = А броско, шикарно и выделяла бы вас из толпы.\n",
      "1\tА\tА\tCCONJ\tCC\t_\t2\tcc:preconj\t_\t_\n",
      "2\tброско\tброско\tNOUN\tNN\tAnimacy=Inan|Case=Acc|Gender=Neut|Number=Sing\t0\troot\t_\tSpaceAfter=No\n",
      "3\t,\t,\tPUNCT\t,\t_\t4\tpunct\t_\t_\n",
      "4\tшикарно\tшикаРНО\tADV\tRB\t_\t2\tconj\t_\t_\n",
      "5\tи\tИ\tCCONJ\tCC\t_\t6\tcc\t_\tSpacesAfter=\\s\\n\n",
      "6\tвыделяла\tвыделяла\tVERB\tVBC\tAspect=Perf|Gender=Fem|Mood=Ind|Number=Sing|Tense=Past|VerbForm=Fin\t2\tconj\t_\t_\n",
      "7\tбы\tБЫ\tPART\tRP\t_\t8\tdiscourse\t_\t_\n",
      "8\tвас\tВЫ\tPRON\tPRP\tCase=Acc|Number=Plur|Person=2\t6\tobj\t_\t_\n",
      "9\tиз\tИЗ\tADP\tIN\t_\t10\tcase\t_\t_\n",
      "10\tтолпы\tтолпы\tNOUN\tNN\tAnimacy=Inan|Case=Gen|Gender=Fem|Number=Sing\t6\tobl\t_\tSpaceAfter=No\n",
      "11\t.\t.\tPUNCT\t.\t_\t2\tpunct\t_\tSpacesAfter=\\n\n",
      "\n",
      "\n"
     ]
    }
   ],
   "source": [
    "sent = '''У каждого в гардеробе должна быть классная вязаная вещь, \n",
    "с которой не хочется расставаться. Которая не скатывалась бы через пять \n",
    "минут после носки и отлично сидела. Плюс выглядела бы не как свитер, \n",
    "связанный бабушкой и надетый из чувства долга. А броско, шикарно и \n",
    "выделяла бы вас из толпы.'''\n",
    "\n",
    "print(pipeline.process(sent))"
   ]
  },
  {
   "cell_type": "markdown",
   "metadata": {},
   "source": [
    "Напишите функцию, которая помогает обнаруживать парцелляцию, опираясь на то, что предложение неполное.\n",
    "\n",
    "**Подсказка** \n",
    "\n",
    "Будем считать, что в предложении обязательно должны быть подлежащее и сказуемое, т.е. глагол (который скорее всего будет вершиной) и существительное/местоимение, связанное с ним отношением *nsubj*. Алгоритм работы будет следующим:\n",
    "\n",
    "1. Ищем в предложении глагол. Нет глагола — забраковываем предложение! Сюда попадет не только парцелляция в строгом лингвистическом смысле, но и номинативные предложения вроде *\"Мир. Труд. Май.\"* Но пока мы находимся в рамках инфостиля, номинативные предложения нас не устраивают точно так же, как и парцелляция. Так что смело сметаем их в одну корзину!\n",
    "2. Если глагол (сказуемое) есть, то ищем связанное с ним отношением *nsubj* существительное/местоимение (подлежащее). Нет подлежащего — забраковываем предложение. Опять же, сюда попадут безличные предложения вроде *\"Светает.\"*, которые не являются случаем парцелляции, но и они нам не нужны. В общем, не углубляемся в лингвистику и избавляемся от всех неполных предложений.\n",
    "3. Скорее всего, предложения, которые начинаются с союзов \"и\", \"а\", \"но\" являются случаями парцелляции, даже если в них есть грамматическая основа.\n",
    "4. Особый случай — предложения, начинающиеся со слова \"который\". Оно может быть подлежащим в предложении (как в нашем примере), однако без контекста непонятно, к чему этот \"который\" относится. Так что это однозначно парцелляция!"
   ]
  },
  {
   "cell_type": "code",
   "execution_count": null,
   "metadata": {},
   "outputs": [],
   "source": [
    "# YOUR CODE HERE"
   ]
  },
  {
   "cell_type": "markdown",
   "metadata": {},
   "source": [
    "Придумайте метрику для оценки качества предложений на основе написаных функций. Напишите функцию-оцениватель. Пусть она принимает на вход предложение, а возвращает оценку от 1 до 10."
   ]
  },
  {
   "cell_type": "code",
   "execution_count": null,
   "metadata": {},
   "outputs": [],
   "source": [
    "# YOUR CODE HERE"
   ]
  },
  {
   "cell_type": "markdown",
   "metadata": {},
   "source": [
    "## SVO-triples\n",
    "\n",
    "С помощью синтекстического парсинга можно извлекать из предложений тройки субъект-объект-глагол, которые можно использовать для извлечения информации из текста. В этом поможет уже упоминавшийся выше `DependencyGraph` из `nltk`. "
   ]
  },
  {
   "cell_type": "code",
   "execution_count": 56,
   "metadata": {},
   "outputs": [],
   "source": [
    "sent = 'Собянин открыл в Москве новый парк и детскую площадку и гордится этим.'\n",
    "parsed = pipeline.process(sent)\n",
    "\n",
    "# костыли для dependency graph\n",
    "parsed = '\\n'.join([line for line in parsed.split('\\n') if not line.startswith('#')])\n",
    "parsed = parsed.replace('\\troot\\t', '\\tROOT\\t')"
   ]
  },
  {
   "cell_type": "code",
   "execution_count": 57,
   "metadata": {},
   "outputs": [
    {
     "name": "stdout",
     "output_type": "stream",
     "text": [
      "1\tСобянин\tСобянин\tPROPN\tNNP\tAnimacy=Anim|Case=Nom|Gender=Masc|Number=Sing\t2\tnsubj\t_\t_\n",
      "2\tоткрыл\tОТКРЫТЬ\tVERB\tVBC\tAspect=Perf|Gender=Masc|Mood=Ind|Number=Sing|Tense=Past|VerbForm=Fin\t0\tROOT\t_\t_\n",
      "3\tв\tВ\tADP\tIN\t_\t4\tcase\t_\t_\n",
      "4\tМоскве\tМОСКВА\tPROPN\tNNP\tAnimacy=Inan|Case=Loc|Gender=Fem|Number=Sing\t2\tobl\t_\t_\n",
      "5\tновый\tНОВЫЙ\tADJ\tJJL\tAnimacy=Inan|Case=Acc|Gender=Masc|Number=Sing\t6\tamod\t_\t_\n",
      "6\tпарк\tПАРК\tNOUN\tNN\tAnimacy=Inan|Case=Acc|Gender=Masc|Number=Sing\t2\tobj\t_\t_\n",
      "7\tи\tИ\tCCONJ\tCC\t_\t9\tcc\t_\t_\n",
      "8\tдетскую\tдетскую\tADJ\tJJL\tAnimacy=Inan|Case=Acc|Gender=Fem|Number=Sing\t9\tamod\t_\t_\n",
      "9\tплощадку\tПЛОЩАДКА\tNOUN\tNN\tAnimacy=Inan|Case=Acc|Gender=Fem|Number=Sing\t6\tconj\t_\t_\n",
      "10\tи\tИ\tCCONJ\tCC\t_\t11\tcc\t_\t_\n",
      "11\tгордится\tгордится\tVERB\tVBC\tAspect=Imp|Mood=Ind|Number=Sing|Person=3|Tense=Pres|VerbForm=Fin|Voice=Mid\t2\tconj\t_\t_\n",
      "12\tэтим\tЭТО\tPRON\tDT\tAnimacy=Inan|Case=Ins|Gender=Neut|Number=Sing\t11\tiobj\t_\tSpaceAfter=No\n",
      "13\t.\t.\tPUNCT\t.\t_\t2\tpunct\t_\tSpacesAfter=\\n\n",
      "\n",
      "\n"
     ]
    }
   ],
   "source": [
    "print(parsed)"
   ]
  },
  {
   "cell_type": "markdown",
   "metadata": {},
   "source": [
    "### слово-слово-связь"
   ]
  },
  {
   "cell_type": "code",
   "execution_count": 58,
   "metadata": {},
   "outputs": [
    {
     "data": {
      "text/plain": [
       "[(('открыл', 'VERB'), 'nsubj', ('Собянин', 'PROPN')),\n",
       " (('открыл', 'VERB'), 'obl', ('Москве', 'PROPN')),\n",
       " (('Москве', 'PROPN'), 'case', ('в', 'ADP')),\n",
       " (('открыл', 'VERB'), 'obj', ('парк', 'NOUN')),\n",
       " (('парк', 'NOUN'), 'amod', ('новый', 'ADJ')),\n",
       " (('парк', 'NOUN'), 'conj', ('площадку', 'NOUN')),\n",
       " (('площадку', 'NOUN'), 'cc', ('и', 'CCONJ')),\n",
       " (('площадку', 'NOUN'), 'amod', ('детскую', 'ADJ')),\n",
       " (('открыл', 'VERB'), 'conj', ('гордится', 'VERB')),\n",
       " (('гордится', 'VERB'), 'cc', ('и', 'CCONJ')),\n",
       " (('гордится', 'VERB'), 'iobj', ('этим', 'PRON')),\n",
       " (('открыл', 'VERB'), 'punct', ('.', 'PUNCT'))]"
      ]
     },
     "execution_count": 58,
     "metadata": {},
     "output_type": "execute_result"
    }
   ],
   "source": [
    "graph = DependencyGraph(tree_str=parsed)\n",
    "list(graph.triples())"
   ]
  },
  {
   "cell_type": "markdown",
   "metadata": {},
   "source": [
    "### субьект-объект-глагол"
   ]
  },
  {
   "cell_type": "code",
   "execution_count": 59,
   "metadata": {},
   "outputs": [
    {
     "name": "stdout",
     "output_type": "stream",
     "text": [
      "{'открыл': {'subj': 'Собянин', 'obj': 'парк'}, 'гордится': {'subj': '', 'obj': 'этим'}}\n"
     ]
    }
   ],
   "source": [
    "def get_sov(sent):\n",
    "    graph = DependencyGraph(tree_str=sent)\n",
    "    sov = {}\n",
    "    for triple in graph.triples():\n",
    "        if triple:\n",
    "            if triple[0][1] == 'VERB':\n",
    "                sov[triple[0][0]] = {'subj':'','obj':''}\n",
    "    for triple in graph.triples():\n",
    "        if triple:\n",
    "            if triple[1] == 'nsubj':\n",
    "                if triple[0][1] == 'VERB':\n",
    "                    sov[triple[0][0]]['subj']  = triple[2][0]\n",
    "            if 'obj' in triple[1]:\n",
    "                if triple[0][1] == 'VERB':\n",
    "                    sov[triple[0][0]]['obj'] = triple[2][0]\n",
    "    return sov\n",
    "\n",
    "sov = get_sov(parsed)\n",
    "print(sov)"
   ]
  },
  {
   "cell_type": "markdown",
   "metadata": {},
   "source": [
    "## Задание №2\n",
    "\n",
    "Измените код выше так, чтобы учитывались:\n",
    "1. Однородные члены предложения: *(парк, площадка), (открыл, гордится)*\n",
    "2. Сложные сказуемые: *(начнет продавать), (запретил провозить)*\n",
    "3. Непрямые объекты с предлогом: *(едет, Польшу), (спел, скандале)*\n",
    "\n",
    "**Подсказка**\n",
    "1. Однородные члены связаны связью *conj*, будь то субъекты (подлежащие), объекты (дополнения) или глаголы (сказуемые). Т.е. чтобы найти однородные подлежащие, находим первое подлежащее, а потом все слова, имеющие его id в качестве родителя *(head)* и связанные с ним связью *conj*. Затем, чтобы заполнить тройку, глагол и объект для второго (третьего, четвертого и т.д.) подлежащего берем из тройки, извлеченной для первого подлежащего. То же самое с однородными объектами и глаголами. В нашем примере с онородными обектами:\n",
    "    * Нашли тройку \"Собянин, открыл, парк\"\n",
    "    * Нашли однородный объект \"площадку\", в качестве родителя у него \"парк\" (токен №6) и связь conj\n",
    "    * Субъект и глагол берем из тройки, извлеченной для первого из однородных членов, т.е. из \"Собянин, открыл, парк\" берем \"Собянин, открыл\"\n",
    "    * Получаем \"Собянин, открыл, площадку\"\n",
    "2. Вторая часть составного сказуемого сзязана с первой обычно либо связью `xcomp` ([описание и английские примеры](https://universaldependencies.org/en/dep/xcomp.html)), либо — если глагол вспомогательный — `aux` в разных модификациях типа `aux:pass` ([описание и английские примеры](https://universaldependencies.org/sv/dep/aux-pass.html)). Еще бывает не очень очевидная связь `acl` ([описание и английские примеры](https://universaldependencies.org/u/dep/acl.html)). Т.е. ищем в предложении глаголы, смотрим на связь между ними и если она нам подходит, то объединяем их. Русский пример есть ниже. **NB!** Самый простой случай — когда два глагола стоят в предложении друг за другом, но на практике между ними может оказаться что-то еще — например, наречие (\"закон должен скоро вступить в силу\").\n",
    "3. Прямые объекты связаны с глаголом связью *obj* (встречается также обозначение *dobj*), а непрямые без предлога — как *iobj*. Такие случаи мы умеем извлекать. Если же нам нужен объект с предлогом, то мы ищем зависящее от глагола существительное/местоимение в косвенном падеже. Такие связи обозначаются как `obl` ([подробнее об этом типе связи](https://universaldependencies.org/u/dep/obl.html)). Сам предлог нам вряд ли что-то даст, т.к. он зависит от существительного."
   ]
  },
  {
   "cell_type": "code",
   "execution_count": 12,
   "metadata": {},
   "outputs": [
    {
     "name": "stdout",
     "output_type": "stream",
     "text": [
      "# newdoc\n",
      "# newpar\n",
      "# sent_id = 1\n",
      "# text = Собянин начнет продавать мороженое.\n",
      "1\tСобянин\tСобянин\tPROPN\tNNP\tAnimacy=Anim|Case=Nom|Gender=Masc|Number=Sing\t2\tnsubj\t_\t_\n",
      "2\tначнет\tначнет\tVERB\tVBC\tAspect=Imp|Mood=Ind|Number=Sing|Person=3|Tense=Pres|VerbForm=Fin\t0\troot\t_\t_\n",
      "3\tпродавать\tпродавать\tVERB\tVB\tAspect=Imp|VerbForm=Inf\t2\txcomp\t_\t_\n",
      "4\tмороженое\tмороженое\tADJ\tJJL\tAnimacy=Inan|Case=Acc|Gender=Neut|Number=Sing\t3\tobj\t_\tSpaceAfter=No\n",
      "5\t.\t.\tPUNCT\t.\t_\t2\tpunct\t_\tSpacesAfter=\\s\\n\n",
      "\n",
      "# sent_id = 2\n",
      "# text = Он запретил провозить его из-за границы.\n",
      "1\tОн\tОН\tPRON\tPRP\tCase=Nom|Gender=Masc|Number=Sing|Person=3\t2\tnsubj\t_\t_\n",
      "2\tзапретил\tЗАПРЕТИТЬ\tVERB\tVBC\tAspect=Perf|Gender=Masc|Mood=Ind|Number=Sing|Tense=Past|VerbForm=Fin\t0\troot\t_\t_\n",
      "3\tпровозить\tпровозить\tVERB\tVB\tAspect=Perf|VerbForm=Inf\t2\txcomp\t_\t_\n",
      "4\tего\tЕГО\tDET\tPRP$\tPerson=3\t5\tdet\t_\t_\n",
      "5\tиз-за\tиз-за\tNOUN\tNN\tAnimacy=Inan|Case=Gen|Gender=Masc|Number=Sing\t3\tobj\t_\t_\n",
      "6\tграницы\tГРАНИЦА\tNOUN\tNN\tAnimacy=Inan|Case=Gen|Gender=Fem|Number=Sing\t5\tnmod\t_\tSpaceAfter=No\n",
      "7\t.\t.\tPUNCT\t.\t_\t2\tpunct\t_\tSpacesAfter=\\s\\n\n",
      "\n",
      "# sent_id = 3\n",
      "# text = Москвичи смогут купить только мороженое российского прозводства.\n",
      "1\tМосквичи\tМОСКВИЧ\tNOUN\tNN\tAnimacy=Inan|Case=Nom|Gender=Fem|Number=Plur\t2\tnsubj\t_\t_\n",
      "2\tсмогут\tСМОЧЬ\tVERB\tVBC\tAspect=Imp|Mood=Ind|Number=Plur|Person=3|Tense=Pres|VerbForm=Fin\t0\troot\t_\t_\n",
      "3\tкупить\tкупить\tVERB\tVB\tAspect=Imp|VerbForm=Inf\t2\txcomp\t_\t_\n",
      "4\tтолько\tТОЛЬКО\tPART\tUH\t_\t5\tdiscourse\t_\t_\n",
      "5\tмороженое\tмороженое\tADJ\tJJL\tAnimacy=Inan|Case=Nom|Gender=Neut|Number=Sing\t7\tamod\t_\t_\n",
      "6\tроссийского\tРОССИЙСКИЙ\tADJ\tJJL\tAnimacy=Inan|Case=Gen|Gender=Neut|Number=Sing\t7\tamod\t_\t_\n",
      "7\tпрозводства\tпрозводства\tNOUN\tNN\tAnimacy=Inan|Case=Gen|Gender=Neut|Number=Sing\t3\tobj\t_\tSpaceAfter=No\n",
      "8\t.\t.\tPUNCT\t.\t_\t2\tpunct\t_\tSpacesAfter=\\n\n",
      "\n",
      "# sent_id = 4\n",
      "# text = То же самое будет происходить в регионах.\n",
      "1\tТо\tТО\tCCONJ\tCC\t_\t3\tcc:preconj\t_\t_\n",
      "2\tже\tЖЕ\tPART\tUH\t_\t1\tdiscourse\t_\t_\n",
      "3\tсамое\tСАМЫЙ\tADJ\tJJL\tAnimacy=Inan|Case=Nom|Gender=Neut|Number=Sing\t0\troot\t_\t_\n",
      "4\tбудет\tБЫТЬ\tAUX\tVBC\tAspect=Imp|Mood=Ind|Number=Sing|Person=3|Tense=Fut|VerbForm=Fin\t5\taux\t_\t_\n",
      "5\tпроисходить\tпроисходить\tVERB\tVB\tAspect=Imp|VerbForm=Inf\t3\txcomp\t_\t_\n",
      "6\tв\tВ\tADP\tIN\t_\t7\tcase\t_\t_\n",
      "7\tрегионах\tРЕГИОН\tNOUN\tNN\tAnimacy=Inan|Case=Loc|Gender=Masc|Number=Plur\t5\tobl\t_\tSpaceAfter=No\n",
      "8\t.\t.\tPUNCT\t.\t_\t3\tpunct\t_\tSpacesAfter=\\s\\n\n",
      "\n",
      "# sent_id = 5\n",
      "# text = Указ должен скоро вступить в силу.\n",
      "1\tУказ\tУКАЗ\tNOUN\tNN\tAnimacy=Inan|Case=Nom|Gender=Masc|Number=Sing\t2\tnsubj\t_\t_\n",
      "2\tдолжен\tДОЛЖЕН\tADJ\tJJH\tAnimacy=Inan|Case=Nom|Gender=Masc|Number=Sing|Variant=Short\t0\troot\t_\t_\n",
      "3\tскоро\tСКОРО\tADV\tRB\t_\t4\tadvmod\t_\t_\n",
      "4\tвступить\tвступить\tVERB\tVB\tAspect=Perf|VerbForm=Inf\t2\txcomp\t_\t_\n",
      "5\tв\tВ\tADP\tIN\t_\t6\tcase\t_\t_\n",
      "6\tсилу\tСИЛА\tNOUN\tNN\tAnimacy=Inan|Case=Acc|Gender=Fem|Number=Sing\t4\tobl\t_\tSpaceAfter=No\n",
      "7\t.\t.\tPUNCT\t.\t_\t2\tpunct\t_\tSpacesAfter=\\n\n",
      "\n",
      "\n"
     ]
    }
   ],
   "source": [
    "sent = '''Собянин начнет продавать мороженое. \n",
    "Он запретил провозить его из-за границы. \n",
    "Москвичи смогут купить только мороженое российского прозводства.\n",
    "То же самое будет происходить в регионах. \n",
    "Указ должен скоро вступить в силу.'''\n",
    "print(pipeline.process(sent))"
   ]
  }
 ],
 "metadata": {
  "kernelspec": {
   "display_name": "Python 3",
   "language": "python",
   "name": "python3"
  },
  "language_info": {
   "codemirror_mode": {
    "name": "ipython",
    "version": 3
   },
   "file_extension": ".py",
   "mimetype": "text/x-python",
   "name": "python",
   "nbconvert_exporter": "python",
   "pygments_lexer": "ipython3",
   "version": "3.6.7"
  }
 },
 "nbformat": 4,
 "nbformat_minor": 2
}

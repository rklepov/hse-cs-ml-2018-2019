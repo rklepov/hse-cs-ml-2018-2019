{
 "cells": [
  {
   "cell_type": "markdown",
   "metadata": {},
   "source": [
    "## Регулярные выражения в Python\n",
    "\n",
    "Для работы с регулярными выражениями в питоне есть встроенная библиотека `re` (документацию можно почитать [вот здесь](https://docs.python.org/3/library/re.html)). Для работы нужно сначала ее импортировать, как и любую другую библиотеку. Рассмотрим наиболее часто используемые методы:\n",
    "\n",
    "* re.match()\n",
    "* re.search()\n",
    "* re.findall()\n",
    "* re.sub()\n",
    "* re.compile()\n",
    "\n",
    "### re.match()\n",
    "\n",
    "Этот метод ищет по заданному шаблону **только** в начале строки. Например, если мы вызовем метод `match()` на строке \"the cat is on the mat\" с шаблоном \"the\", то он найдет первое \"the\" в строке и завершится успешно. Однако если поискать \"cat\", то результат будет отрицательный. У этого метода два аргумента:\n",
    "\n",
    "* что найти (шаблон)\n",
    "* где найти (строка)"
   ]
  },
  {
   "cell_type": "code",
   "execution_count": 4,
   "metadata": {},
   "outputs": [
    {
     "name": "stdout",
     "output_type": "stream",
     "text": [
      "<_sre.SRE_Match object; span=(0, 3), match='the'>\n"
     ]
    }
   ],
   "source": [
    "import re\n",
    "\n",
    "re.match('the', 'the cat is on the mat')"
   ]
  },
  {
   "cell_type": "code",
   "execution_count": 3,
   "metadata": {},
   "outputs": [
    {
     "name": "stdout",
     "output_type": "stream",
     "text": [
      "None\n"
     ]
    }
   ],
   "source": [
    "print(re.match('cat', 'the cat is on the mat'))"
   ]
  },
  {
   "cell_type": "markdown",
   "metadata": {},
   "source": [
    "### re.search()\n",
    "\n",
    "Этот метод, в отличие от предыдущего, ищет заданный шаблон в **любом** месте строки, но возвращает только первое найденное совпадение. Аргументы те же."
   ]
  },
  {
   "cell_type": "code",
   "execution_count": 7,
   "metadata": {},
   "outputs": [
    {
     "data": {
      "text/plain": [
       "<_sre.SRE_Match object; span=(0, 3), match='the'>"
      ]
     },
     "execution_count": 7,
     "metadata": {},
     "output_type": "execute_result"
    }
   ],
   "source": [
    "re.search('the', 'the cat is on the mat')"
   ]
  },
  {
   "cell_type": "code",
   "execution_count": 9,
   "metadata": {},
   "outputs": [
    {
     "data": {
      "text/plain": [
       "<_sre.SRE_Match object; span=(4, 7), match='cat'>"
      ]
     },
     "execution_count": 9,
     "metadata": {},
     "output_type": "execute_result"
    }
   ],
   "source": [
    "re.search('cat', 'the cat is on the mat')"
   ]
  },
  {
   "cell_type": "markdown",
   "metadata": {},
   "source": [
    "А как вывести не объект, а саму строку, которая нашлась по шаблону? Для естьго есть метод `group()`, который в качестве аргумента принимает номер группы. В случае `match()` и `search()` возвращается только одна группа под номером 0. Здесь, как и в случае с индексами, нумерация начинается с 0."
   ]
  },
  {
   "cell_type": "code",
   "execution_count": 12,
   "metadata": {},
   "outputs": [
    {
     "data": {
      "text/plain": [
       "'cat'"
      ]
     },
     "execution_count": 12,
     "metadata": {},
     "output_type": "execute_result"
    }
   ],
   "source": [
    "re.search('cat', 'the cat is on the mat').group(0)"
   ]
  },
  {
   "cell_type": "markdown",
   "metadata": {},
   "source": [
    "### re.findall()\n",
    "\n",
    "Этот метод возвращает список **всех** найденных совпадений в любом месте строки. Аргументы у него те же,  что и у предыдущих двух методов, а возвращает он список совпадений."
   ]
  },
  {
   "cell_type": "code",
   "execution_count": 14,
   "metadata": {},
   "outputs": [
    {
     "data": {
      "text/plain": [
       "['the', 'the']"
      ]
     },
     "execution_count": 14,
     "metadata": {},
     "output_type": "execute_result"
    }
   ],
   "source": [
    "re.findall('the', 'the cat is on the mat')"
   ]
  },
  {
   "cell_type": "code",
   "execution_count": 16,
   "metadata": {},
   "outputs": [
    {
     "data": {
      "text/plain": [
       "'the'"
      ]
     },
     "execution_count": 16,
     "metadata": {},
     "output_type": "execute_result"
    }
   ],
   "source": [
    "re.findall('the', 'the cat is on the mat')[1]"
   ]
  },
  {
   "cell_type": "markdown",
   "metadata": {},
   "source": [
    "### re.sub()\n",
    "\n",
    "Этот метод ищет шаблон в строке и заменяет его на указанную подстрок. Если шаблон не найден, строка остается неизменной. Соответствено, в отличие от предыдущих методов, у него 3 аргумента:\n",
    "* что заменить\n",
    "* на что заменить\n",
    "* где заменить\n",
    "\n",
    "Заменяются все подстроки, которые нашлись по шаблону."
   ]
  },
  {
   "cell_type": "code",
   "execution_count": 17,
   "metadata": {},
   "outputs": [
    {
     "data": {
      "text/plain": [
       "'my cat is on my mat'"
      ]
     },
     "execution_count": 17,
     "metadata": {},
     "output_type": "execute_result"
    }
   ],
   "source": [
    "re.sub('the', 'my', 'the cat is on the mat')"
   ]
  },
  {
   "cell_type": "markdown",
   "metadata": {},
   "source": [
    "###  re.compile()\n",
    "\n",
    "Мы можем собрать регулярное выражение в отдельный объект. Это полезно, когда нам нужно много раз использовать один и тот же паттерн: во-первых, не придется каждый раз переписывать одну и ту же регулярку, а во вторых, так программа будет гораздо быстрее! "
   ]
  },
  {
   "cell_type": "code",
   "execution_count": 22,
   "metadata": {},
   "outputs": [
    {
     "name": "stdout",
     "output_type": "stream",
     "text": [
      "cat\n",
      "['cat', 'cat', 'cat']\n",
      "the dog is on the mat\n"
     ]
    }
   ],
   "source": [
    "# компилируем регулярку для поиска котиков\n",
    "cats = re.compile('cat')\n",
    "\n",
    "# а теперь можно использовать эту переменную вместо re с любым из методов\n",
    "# но во всех будет на один аргумент (\"что искать/заменять\") меньше \n",
    "print(cats.search('the cat is on the mat').group(0))\n",
    "print(cats.findall('my cat is black, my cat is fat, my cat likes rats, rats are gray and fat'))\n",
    "print(cats.sub('dog', 'the cat is on the mat'))"
   ]
  },
  {
   "cell_type": "code",
   "execution_count": 3,
   "metadata": {},
   "outputs": [
    {
     "data": {
      "text/html": [
       "<style>\n",
       "table {float:left}\n",
       "</style>"
      ],
      "text/plain": [
       "<IPython.core.display.HTML object>"
      ]
     },
     "metadata": {},
     "output_type": "display_data"
    }
   ],
   "source": [
    "# это для выравнивания таблицы, не обращайте внимания\n",
    "\n",
    "%%html\n",
    "<style>\n",
    "table {float:left}\n",
    "</style>"
   ]
  },
  {
   "cell_type": "markdown",
   "metadata": {},
   "source": [
    "### Еще раз о синтаксисе регулярных выражений\n",
    "\n",
    "Повторим основные элементы (подробнее -- [в предыдущем семинаре](https://github.com/ancatmara/python-for-dh/blob/master/Classes/9-10/Regex.md)).\n",
    "\n",
    "Символ|Значение\n",
    "------|--------\n",
    ".\t| Один любой символ, кроме новой строки \\n.\n",
    "?\t| 0 или 1 вхождение шаблона слева\n",
    "+\t| 1 и более вхождений шаблона слева\n",
    "\\*\t| 0 и более вхождений шаблона слева\n",
    "\\w\t| Любая цифра или буква (\\W — все, кроме буквы или цифры)\n",
    "\\d\t| Любая цифра [0-9] (\\D — все, кроме цифры)\n",
    "\\s\t| Любой пробельный символ (\\S — любой непробельнй символ)\n",
    "\\b\t| Граница слова\n",
    "[..]| Один из символов в скобках ([^..] — любой символ, кроме тех, что в скобках)\n",
    "\\\t|Экранирование специальных символов (\\. означает точку или \\+ — знак «плюс»)\n",
    "^ и $ |\tНачало и конец строки соответственно\n",
    "{n,m}| От n до m вхождений ({,m} — от 0 до m)\n",
    "a&#124;b |Соответствует a или b\n",
    "()\t| Группирует выражение и возвращает найденный текст\n",
    "\\t, \\n, \\r\t| Символ табуляции, новой строки и возврата каретки соответственно"
   ]
  }
 ],
 "metadata": {
  "kernelspec": {
   "display_name": "Python 3",
   "language": "python",
   "name": "python3"
  },
  "language_info": {
   "codemirror_mode": {
    "name": "ipython",
    "version": 3
   },
   "file_extension": ".py",
   "mimetype": "text/x-python",
   "name": "python",
   "nbconvert_exporter": "python",
   "pygments_lexer": "ipython3",
   "version": "3.6.7"
  }
 },
 "nbformat": 4,
 "nbformat_minor": 2
}

{
  "nbformat": 4,
  "nbformat_minor": 0,
  "metadata": {
    "kernelspec": {
      "name": "python3",
      "display_name": "Python 3"
    },
    "language_info": {
      "codemirror_mode": {
        "name": "ipython",
        "version": 3
      },
      "file_extension": ".py",
      "mimetype": "text/x-python",
      "name": "python",
      "nbconvert_exporter": "python",
      "pygments_lexer": "ipython3",
      "version": "3.6.2"
    },
    "colab": {
      "name": "UDPipe.ipynb",
      "provenance": [],
      "collapsed_sections": [],
      "include_colab_link": true
    },
    "accelerator": "GPU"
  },
  "cells": [
    {
      "cell_type": "markdown",
      "metadata": {
        "id": "view-in-github",
        "colab_type": "text"
      },
      "source": [
        "<a href=\"https://colab.research.google.com/github/oserikov/data-science-nlp/blob/master/UDPipe.ipynb\" target=\"_parent\"><img src=\"https://colab.research.google.com/assets/colab-badge.svg\" alt=\"Open In Colab\"/></a>"
      ]
    },
    {
      "cell_type": "markdown",
      "metadata": {
        "id": "MNEmswSo9tAQ",
        "colab_type": "text"
      },
      "source": [
        "# Depencency parsing\n",
        "(парсинг зависимостей)\n",
        "\n",
        "## Что это?\n",
        "\n",
        "* наша цель -- представить предложение естественного языка в виде дерева\n",
        "* слова предложения -- узлы; *зависимости (dependencies)* между ними -- рёбра\n",
        "* зависимости могут быть разными: например, субъект глагола, объект глагола, прилагательное-модификатор, и так далее\n",
        "\n",
        "## Формат\n",
        "\n",
        "Существует несколько форматов записи деревьев зависимостей, но самый популярный и общеиспользуемый -- [CoNLL-U](http://universaldependencies.org/format.html).<br/>\n",
        "Как это выглядит (пример из [русского Universal Dependency трибанка](https://github.com/UniversalDependencies/UD_Russian-SynTagRus)):"
      ]
    },
    {
      "cell_type": "code",
      "metadata": {
        "id": "xNG-920j9tAZ",
        "colab_type": "code",
        "colab": {}
      },
      "source": [
        "my_example = \"\"\"\n",
        "# sent_id = 2003Armeniya.xml_138\n",
        "# text = Перспективы развития сферы высоких технологий.\n",
        "1\tПерспективы\tперспектива\tNOUN\t_\tAnimacy=Inan|Case=Nom|Gender=Fem|Number=Plur\t0\tROOT\t0:root\t_\n",
        "2\tразвития\tразвитие\tNOUN\t_\tAnimacy=Inan|Case=Gen|Gender=Neut|Number=Sing\t1\tnmod\t1:nmod\t_\n",
        "3\tсферы\tсфера\tNOUN\t_\tAnimacy=Inan|Case=Gen|Gender=Fem|Number=Sing\t2\tnmod\t2:nmod\t_\n",
        "4\tвысоких\tвысокий\tADJ\t_\tCase=Gen|Degree=Pos|Number=Plur\t5\tamod\t5:amod\t_\n",
        "5\tтехнологий\tтехнология\tNOUN\t_\tAnimacy=Inan|Case=Gen|Gender=Fem|Number=Plur\t3\tnmod\t3:nmod\tSpaceAfter=No\n",
        "6\t.\t.\tPUNCT\t_\t_\t1\tpunct\t1:punct\t_\n",
        "\"\"\""
      ],
      "execution_count": 0,
      "outputs": []
    },
    {
      "cell_type": "code",
      "metadata": {
        "id": "Rlxp0-RTKwKf",
        "colab_type": "code",
        "outputId": "3ef18f12-073d-4175-bdc6-7f33bd6a6560",
        "colab": {
          "base_uri": "https://localhost:8080/",
          "height": 213
        }
      },
      "source": [
        "print(my_example)"
      ],
      "execution_count": 2,
      "outputs": [
        {
          "output_type": "stream",
          "text": [
            "\n",
            "# sent_id = 2003Armeniya.xml_138\n",
            "# text = Перспективы развития сферы высоких технологий.\n",
            "1\tПерспективы\tперспектива\tNOUN\t_\tAnimacy=Inan|Case=Nom|Gender=Fem|Number=Plur\t0\tROOT\t0:root\t_\n",
            "2\tразвития\tразвитие\tNOUN\t_\tAnimacy=Inan|Case=Gen|Gender=Neut|Number=Sing\t1\tnmod\t1:nmod\t_\n",
            "3\tсферы\tсфера\tNOUN\t_\tAnimacy=Inan|Case=Gen|Gender=Fem|Number=Sing\t2\tnmod\t2:nmod\t_\n",
            "4\tвысоких\tвысокий\tADJ\t_\tCase=Gen|Degree=Pos|Number=Plur\t5\tamod\t5:amod\t_\n",
            "5\tтехнологий\tтехнология\tNOUN\t_\tAnimacy=Inan|Case=Gen|Gender=Fem|Number=Plur\t3\tnmod\t3:nmod\tSpaceAfter=No\n",
            "6\t.\t.\tPUNCT\t_\t_\t1\tpunct\t1:punct\t_\n",
            "\n"
          ],
          "name": "stdout"
        }
      ]
    },
    {
      "cell_type": "markdown",
      "metadata": {
        "id": "E60oVuR39tA5",
        "colab_type": "text"
      },
      "source": [
        "Комментарии + таблица c 9 колонками (разделители табы):\n",
        "* ID\n",
        "* FORM: токен\n",
        "* LEMMA: начальная форма\n",
        "* UPOS: универсальная часть речи\n",
        "* XPOS: лингво-специфичная часть речи\n",
        "* FEATS: морфологическая информация: падеж, род, число etc\n",
        "* HEAD: id ролителя\n",
        "* DEPREL: тип зависимости, то есть отношение к токену-родителю\n",
        "* DEPS: альтернативный подграф\n",
        "* MISC: всё остальное\n",
        "\n",
        "Отсутствующие данные представляются с помощью `_`. Больше подробностей про формат -- в [официальной документаци](http://universaldependencies.org/format.html).<br>\n",
        "User-friendly визуализация: ![2003Armeniya.xml_138](https://github.com/artemovae/nlp-course-fintech/blob/master/classes/class07%20-%20syntax/rus_tree.png?raw=1)\n",
        "\n",
        "Отрытый инструмент для визуализации, ручной разметки и конвертации в другие форматы: UD Annotatrix. [Online-интерфейс](https://maryszmary.github.io/ud-annotatrix/standalone/annotator.html), [репозиторий](https://github.com/jonorthwash/ud-annotatrix).\n",
        "\n",
        "Трибанк -- много таких предложений. Обычно они разделяются двумя переносами строки.\n",
        "### Как считывать данные в питоне\n",
        "\n",
        "Используем библиотеку [conllu](https://github.com/EmilStenstrom/conllu)."
      ]
    },
    {
      "cell_type": "code",
      "metadata": {
        "id": "UXG_1Ikc9tA8",
        "colab_type": "code",
        "outputId": "fbe73233-ff88-4880-c476-a6aab842ebaf",
        "colab": {
          "base_uri": "https://localhost:8080/",
          "height": 107
        }
      },
      "source": [
        "!pip3 install conllu\n",
        "from conllu import parse"
      ],
      "execution_count": 3,
      "outputs": [
        {
          "output_type": "stream",
          "text": [
            "Collecting conllu\n",
            "  Downloading https://files.pythonhosted.org/packages/a8/03/4a952eb39cdc8da80a6a2416252e71784dda6bf9d726ab98065fff2aeb73/conllu-2.3.2-py2.py3-none-any.whl\n",
            "Installing collected packages: conllu\n",
            "Successfully installed conllu-2.3.2\n"
          ],
          "name": "stdout"
        }
      ]
    },
    {
      "cell_type": "code",
      "metadata": {
        "id": "zecKUCmN9tBq",
        "colab_type": "code",
        "outputId": "efa2a061-cef9-40a3-bc8d-741ba9929033",
        "colab": {
          "base_uri": "https://localhost:8080/",
          "height": 54
        }
      },
      "source": [
        "sentences = parse(my_example)\n",
        "sentence = sentences[0]\n",
        "print(sentence[0])"
      ],
      "execution_count": 4,
      "outputs": [
        {
          "output_type": "stream",
          "text": [
            "OrderedDict([('id', 1), ('form', 'Перспективы'), ('lemma', 'перспектива'), ('upostag', 'NOUN'), ('xpostag', None), ('feats', OrderedDict([('Animacy', 'Inan'), ('Case', 'Nom'), ('Gender', 'Fem'), ('Number', 'Plur')])), ('head', 0), ('deprel', 'ROOT'), ('deps', [('root', 0)]), ('misc', None)])\n"
          ],
          "name": "stdout"
        }
      ]
    },
    {
      "cell_type": "code",
      "metadata": {
        "id": "u8QYgqAr9tB3",
        "colab_type": "code",
        "outputId": "d76f8c32-073c-4b95-9ba9-1b6937c11d6b",
        "colab": {
          "base_uri": "https://localhost:8080/",
          "height": 54
        }
      },
      "source": [
        "print(sentence[-1])"
      ],
      "execution_count": 5,
      "outputs": [
        {
          "output_type": "stream",
          "text": [
            "OrderedDict([('id', 6), ('form', '.'), ('lemma', '.'), ('upostag', 'PUNCT'), ('xpostag', None), ('feats', None), ('head', 1), ('deprel', 'punct'), ('deps', [('punct', 1)]), ('misc', None)])\n"
          ],
          "name": "stdout"
        }
      ]
    },
    {
      "cell_type": "markdown",
      "metadata": {
        "id": "79x1gVQd9tD7",
        "colab_type": "text"
      },
      "source": [
        "## UDPipe\n",
        "\n",
        "[UDPipe](http://ufal.mff.cuni.cz/udpipe) умеет парсить текст с помощью готовых моделей (которые можно скачать [здесь](https://github.com/jwijffels/udpipe.models.ud.2.0/tree/master/inst/udpipe-ud-2.0-170801)) и обучать модели на своих трибанках.\n",
        "\n",
        "Собственно, в UDPipe есть три вида моделей:\n",
        "* токенизатор (разделить предложение не токены, сделать заготовку для CoNLL-U)\n",
        "* тэггер (разметить части речи)\n",
        "* сам парсер (проставить каждому токену `head` и `deprel`)\n",
        "\n",
        "Мы сегодня не будем обучать новых моделей (это слишком долго), а используем готовую модель для русского."
      ]
    },
    {
      "cell_type": "markdown",
      "metadata": {
        "id": "VCh0zMvG9tD-",
        "colab_type": "text"
      },
      "source": [
        "### The Python binding\n",
        "\n",
        "У udpipe есть питоновская обвязка. Она довольно [плохо задокументирована](https://pypi.org/project/ufal.udpipe/), но зато можно использовать прямо в питоне :)"
      ]
    },
    {
      "cell_type": "code",
      "metadata": {
        "id": "ksy611_A9tD_",
        "colab_type": "code",
        "outputId": "6931bc94-7150-4638-f675-c80225e0b71e",
        "colab": {
          "base_uri": "https://localhost:8080/",
          "height": 213
        }
      },
      "source": [
        "!pip3 install ufal.udpipe\n",
        "from ufal.udpipe import Model, Pipeline"
      ],
      "execution_count": 6,
      "outputs": [
        {
          "output_type": "stream",
          "text": [
            "Collecting ufal.udpipe\n",
            "\u001b[?25l  Downloading https://files.pythonhosted.org/packages/e5/72/2b8b9dc7c80017c790bb3308bbad34b57accfed2ac2f1f4ab252ff4e9cb2/ufal.udpipe-1.2.0.3.tar.gz (304kB)\n",
            "\r\u001b[K     |█                               | 10kB 30.7MB/s eta 0:00:01\r\u001b[K     |██▏                             | 20kB 6.0MB/s eta 0:00:01\r\u001b[K     |███▎                            | 30kB 8.5MB/s eta 0:00:01\r\u001b[K     |████▎                           | 40kB 10.7MB/s eta 0:00:01\r\u001b[K     |█████▍                          | 51kB 7.0MB/s eta 0:00:01\r\u001b[K     |██████▌                         | 61kB 8.2MB/s eta 0:00:01\r\u001b[K     |███████▌                        | 71kB 9.3MB/s eta 0:00:01\r\u001b[K     |████████▋                       | 81kB 10.4MB/s eta 0:00:01\r\u001b[K     |█████████▊                      | 92kB 8.3MB/s eta 0:00:01\r\u001b[K     |██████████▊                     | 102kB 9.1MB/s eta 0:00:01\r\u001b[K     |███████████▉                    | 112kB 9.1MB/s eta 0:00:01\r\u001b[K     |█████████████                   | 122kB 9.1MB/s eta 0:00:01\r\u001b[K     |██████████████                  | 133kB 9.1MB/s eta 0:00:01\r\u001b[K     |███████████████                 | 143kB 9.1MB/s eta 0:00:01\r\u001b[K     |████████████████▏               | 153kB 9.1MB/s eta 0:00:01\r\u001b[K     |█████████████████▎              | 163kB 9.1MB/s eta 0:00:01\r\u001b[K     |██████████████████▎             | 174kB 9.1MB/s eta 0:00:01\r\u001b[K     |███████████████████▍            | 184kB 9.1MB/s eta 0:00:01\r\u001b[K     |████████████████████▌           | 194kB 9.1MB/s eta 0:00:01\r\u001b[K     |█████████████████████▌          | 204kB 9.1MB/s eta 0:00:01\r\u001b[K     |██████████████████████▋         | 215kB 9.1MB/s eta 0:00:01\r\u001b[K     |███████████████████████▊        | 225kB 9.1MB/s eta 0:00:01\r\u001b[K     |████████████████████████▉       | 235kB 9.1MB/s eta 0:00:01\r\u001b[K     |█████████████████████████▉      | 245kB 9.1MB/s eta 0:00:01\r\u001b[K     |███████████████████████████     | 256kB 9.1MB/s eta 0:00:01\r\u001b[K     |████████████████████████████    | 266kB 9.1MB/s eta 0:00:01\r\u001b[K     |█████████████████████████████   | 276kB 9.1MB/s eta 0:00:01\r\u001b[K     |██████████████████████████████▏ | 286kB 9.1MB/s eta 0:00:01\r\u001b[K     |███████████████████████████████▎| 296kB 9.1MB/s eta 0:00:01\r\u001b[K     |████████████████████████████████| 307kB 9.1MB/s \n",
            "\u001b[?25hBuilding wheels for collected packages: ufal.udpipe\n",
            "  Building wheel for ufal.udpipe (setup.py) ... \u001b[?25l\u001b[?25hdone\n",
            "  Created wheel for ufal.udpipe: filename=ufal.udpipe-1.2.0.3-cp36-cp36m-linux_x86_64.whl size=5625171 sha256=d3aea634c3be445ed44c6cb1615ae5bd02226dd68d231186133b75681acdb504\n",
            "  Stored in directory: /root/.cache/pip/wheels/0c/9d/db/6d3404c33da5b7adb6c6972853efb6a27649d3ba15f7e9bebb\n",
            "Successfully built ufal.udpipe\n",
            "Installing collected packages: ufal.udpipe\n",
            "Successfully installed ufal.udpipe-1.2.0.3\n"
          ],
          "name": "stdout"
        }
      ]
    },
    {
      "cell_type": "markdown",
      "metadata": {
        "id": "TEFTWJKh9tEY",
        "colab_type": "text"
      },
      "source": [
        "https://github.com/jwijffels/udpipe.models.ud.2.0/blob/master/inst/udpipe-ud-2.0-170801/russian-ud-2.0-170801.udpipe"
      ]
    },
    {
      "cell_type": "code",
      "metadata": {
        "id": "1LIzqOtHAybz",
        "colab_type": "code",
        "outputId": "7c6cbad6-0cfe-45f8-aa38-3b95cd7d99d7",
        "colab": {
          "base_uri": "https://localhost:8080/",
          "height": 389
        }
      },
      "source": [
        "UDPIPE_MODEL_FN = \"model_ru.udpipe\"\n",
        "!wget -O {UDPIPE_MODEL_FN} https://github.com/jwijffels/udpipe.models.ud.2.0/blob/master/inst/udpipe-ud-2.0-170801/russian-ud-2.0-170801.udpipe?raw=true"
      ],
      "execution_count": 7,
      "outputs": [
        {
          "output_type": "stream",
          "text": [
            "--2020-04-26 09:13:46--  https://github.com/jwijffels/udpipe.models.ud.2.0/blob/master/inst/udpipe-ud-2.0-170801/russian-ud-2.0-170801.udpipe?raw=true\n",
            "Resolving github.com (github.com)... 140.82.118.3\n",
            "Connecting to github.com (github.com)|140.82.118.3|:443... connected.\n",
            "HTTP request sent, awaiting response... 302 Found\n",
            "Location: https://github.com/jwijffels/udpipe.models.ud.2.0/raw/master/inst/udpipe-ud-2.0-170801/russian-ud-2.0-170801.udpipe [following]\n",
            "--2020-04-26 09:13:46--  https://github.com/jwijffels/udpipe.models.ud.2.0/raw/master/inst/udpipe-ud-2.0-170801/russian-ud-2.0-170801.udpipe\n",
            "Reusing existing connection to github.com:443.\n",
            "HTTP request sent, awaiting response... 302 Found\n",
            "Location: https://raw.githubusercontent.com/jwijffels/udpipe.models.ud.2.0/master/inst/udpipe-ud-2.0-170801/russian-ud-2.0-170801.udpipe [following]\n",
            "--2020-04-26 09:13:46--  https://raw.githubusercontent.com/jwijffels/udpipe.models.ud.2.0/master/inst/udpipe-ud-2.0-170801/russian-ud-2.0-170801.udpipe\n",
            "Resolving raw.githubusercontent.com (raw.githubusercontent.com)... 151.101.0.133, 151.101.64.133, 151.101.128.133, ...\n",
            "Connecting to raw.githubusercontent.com (raw.githubusercontent.com)|151.101.0.133|:443... connected.\n",
            "HTTP request sent, awaiting response... 200 OK\n",
            "Length: 13265262 (13M) [application/octet-stream]\n",
            "Saving to: ‘model_ru.udpipe’\n",
            "\n",
            "model_ru.udpipe     100%[===================>]  12.65M  --.-KB/s    in 0.07s   \n",
            "\n",
            "2020-04-26 09:13:47 (192 MB/s) - ‘model_ru.udpipe’ saved [13265262/13265262]\n",
            "\n"
          ],
          "name": "stdout"
        }
      ]
    },
    {
      "cell_type": "code",
      "metadata": {
        "id": "4sZzFw689tEf",
        "colab_type": "code",
        "colab": {}
      },
      "source": [
        "model = Model.load(UDPIPE_MODEL_FN)"
      ],
      "execution_count": 0,
      "outputs": []
    },
    {
      "cell_type": "code",
      "metadata": {
        "id": "34aHBI1Y6yDr",
        "colab_type": "code",
        "outputId": "b41bb2f4-7d27-4faa-abfd-87ed5c9c5149",
        "colab": {
          "base_uri": "https://localhost:8080/",
          "height": 477
        }
      },
      "source": [
        "pipeline = Pipeline(model, 'generic_tokenizer', '', '', '')\n",
        "example = \"Если бы мне платили каждый раз. Каждый раз, когда я думаю о тебе.\"\n",
        "text_analysis_str = pipeline.process(example)\n",
        "print(text_analysis_str)"
      ],
      "execution_count": 9,
      "outputs": [
        {
          "output_type": "stream",
          "text": [
            "# newdoc\n",
            "# newpar\n",
            "# sent_id = 1\n",
            "# text = Если бы мне платили каждый раз.\n",
            "1\tЕсли\tЕСЛИ\tSCONJ\tIN\t_\t4\tmark\t_\t_\n",
            "2\tбы\tБЫ\tPART\tRP\t_\t4\tdiscourse\t_\t_\n",
            "3\tмне\tЯ\tPRON\tPRP\tCase=Dat|Number=Sing|Person=1\t4\tiobj\t_\t_\n",
            "4\tплатили\tПЛАТИТЬ\tVERB\tVBC\tAspect=Imp|Mood=Ind|Number=Plur|Tense=Past|VerbForm=Fin\t0\troot\t_\t_\n",
            "5\tкаждый\tКАЖДЫЙ\tDET\tDT\tAnimacy=Inan|Case=Acc|Gender=Masc|Number=Sing\t6\tamod\t_\t_\n",
            "6\tраз\tРАЗ\tNOUN\tNN\tAnimacy=Inan|Case=Acc|Gender=Masc|Number=Sing\t4\tadvmod\t_\tSpaceAfter=No\n",
            "7\t.\t.\tPUNCT\t.\t_\t4\tpunct\t_\t_\n",
            "\n",
            "# sent_id = 2\n",
            "# text = Каждый раз, когда я думаю о тебе.\n",
            "1\tКаждый\tКАЖДЫЙ\tDET\tDT\tAnimacy=Inan|Case=Acc|Gender=Masc|Number=Sing\t2\tamod\t_\t_\n",
            "2\tраз\tРАЗ\tNOUN\tNN\tAnimacy=Inan|Case=Acc|Gender=Masc|Number=Sing\t6\tadvmod\t_\tSpaceAfter=No\n",
            "3\t,\t,\tPUNCT\t,\t_\t6\tpunct\t_\t_\n",
            "4\tкогда\tКОГДА\tADV\tWRB\t_\t6\tadvmod\t_\t_\n",
            "5\tя\tЯ\tPRON\tPRP\tCase=Nom|Number=Sing|Person=1\t6\tnsubj\t_\t_\n",
            "6\tдумаю\tдУМАТЬ\tVERB\tVBC\tAspect=Imp|Mood=Ind|Number=Sing|Person=1|Tense=Pres|VerbForm=Fin\t0\troot\t_\t_\n",
            "7\tо\tО\tADP\tIN\t_\t8\tcase\t_\t_\n",
            "8\tтебе\tТЫ\tPRON\tPRP\tCase=Dat|Number=Sing|Person=2\t6\tobl\t_\tSpaceAfter=No\n",
            "9\t.\t.\tPUNCT\t.\t_\t6\tpunct\t_\tSpacesAfter=\\n\n",
            "\n",
            "\n"
          ],
          "name": "stdout"
        }
      ]
    },
    {
      "cell_type": "code",
      "metadata": {
        "id": "crcWCaQ2vwGn",
        "colab_type": "code",
        "outputId": "62f0146a-9bee-41c9-be34-00ae2ba7f5e6",
        "colab": {
          "base_uri": "https://localhost:8080/",
          "height": 72
        }
      },
      "source": [
        "sentences_analyzed = parse(text_analysis_str)\n",
        "last_sentence_analyzed = sentences_analyzed[-1]\n",
        "pre_last_analyzed_token = last_sentence_analyzed[-2]\n",
        "print(pre_last_analyzed_token)\n",
        "print(list(pre_last_analyzed_token.keys()))"
      ],
      "execution_count": 10,
      "outputs": [
        {
          "output_type": "stream",
          "text": [
            "OrderedDict([('id', 8), ('form', 'тебе'), ('lemma', 'ТЫ'), ('upostag', 'PRON'), ('xpostag', 'PRP'), ('feats', OrderedDict([('Case', 'Dat'), ('Number', 'Sing'), ('Person', '2')])), ('head', 6), ('deprel', 'obl'), ('deps', None), ('misc', OrderedDict([('SpaceAfter', 'No')]))])\n",
            "['id', 'form', 'lemma', 'upostag', 'xpostag', 'feats', 'head', 'deprel', 'deps', 'misc']\n"
          ],
          "name": "stdout"
        }
      ]
    },
    {
      "cell_type": "code",
      "metadata": {
        "id": "ub8uuZe0wBbC",
        "colab_type": "code",
        "colab": {
          "base_uri": "https://localhost:8080/",
          "height": 70
        },
        "outputId": "df5884cd-d3c1-41b0-c174-0ca6203b23c8"
      },
      "source": [
        "sentences_tokenized = []\n",
        "for sentence_analyzed in sentences_analyzed:\n",
        "    sentence_tokenized = []\n",
        "    for token_analyzed in sentence_analyzed:\n",
        "        token_text = token_analyzed[\"form\"]\n",
        "        sentence_tokenized.append(token_text)\n",
        "    sentences_tokenized.append(sentence_tokenized)\n",
        "\n",
        "print(\"Токенизированные предложения:\")\n",
        "for sentence_tokenized in sentences_tokenized:\n",
        "    print(sentence_tokenized)"
      ],
      "execution_count": 11,
      "outputs": [
        {
          "output_type": "stream",
          "text": [
            "Токенизированные предложения:\n",
            "['Если', 'бы', 'мне', 'платили', 'каждый', 'раз', '.']\n",
            "['Каждый', 'раз', ',', 'когда', 'я', 'думаю', 'о', 'тебе', '.']\n"
          ],
          "name": "stdout"
        }
      ]
    },
    {
      "cell_type": "code",
      "metadata": {
        "id": "k-a15nr7tNyi",
        "colab_type": "code",
        "colab": {
          "base_uri": "https://localhost:8080/",
          "height": 246
        },
        "outputId": "74ef0836-8426-4da8-cbc4-3dc9f96939d7"
      },
      "source": [
        "print(\"результат UDPipe:\")\n",
        "print(text_analysis_str[:200], \"...\\n...\\n\")\n",
        "\n",
        "analyzed_sentences_ids = []\n",
        "analyzed_sentences_texts = []\n",
        "for line in text_analysis_str.splitlines():\n",
        "    if line.startswith(\"# sent_id\"):\n",
        "        sentence_id = line.strip().split(\"sent_id = \", maxsplit=1)[-1]\n",
        "        analyzed_sentences_ids.append(sentence_id)\n",
        "    if line.startswith(\"# text\"):\n",
        "        sentence_text = line.strip().split(\"text = \", maxsplit=1)[-1]\n",
        "        analyzed_sentences_texts.append(sentence_text)\n",
        "\n",
        "analyzed_sentences_id2text = dict()\n",
        "for sentence_num in range(len(analyzed_sentences_ids)):\n",
        "    sentence_id = analyzed_sentences_ids[sentence_num]\n",
        "    sentence_text = analyzed_sentences_texts[sentence_num]\n",
        "    analyzed_sentences_id2text[sentence_id] = sentence_text\n",
        "\n",
        "print(\"Полученные id и тексты предложений:\")\n",
        "print(analyzed_sentences_id2text)"
      ],
      "execution_count": 12,
      "outputs": [
        {
          "output_type": "stream",
          "text": [
            "результат UDPipe:\n",
            "# newdoc\n",
            "# newpar\n",
            "# sent_id = 1\n",
            "# text = Если бы мне платили каждый раз.\n",
            "1\tЕсли\tЕСЛИ\tSCONJ\tIN\t_\t4\tmark\t_\t_\n",
            "2\tбы\tБЫ\tPART\tRP\t_\t4\tdiscourse\t_\t_\n",
            "3\tмне\tЯ\tPRON\tPRP\tCase=Dat|Number=Sing|Person=1\t4\tiobj\t_\t_\n",
            "4 ...\n",
            "...\n",
            "\n",
            "Полученные id и тексты предложений:\n",
            "{'1': 'Если бы мне платили каждый раз.', '2': 'Каждый раз, когда я думаю о тебе.'}\n"
          ],
          "name": "stdout"
        }
      ]
    }
  ]
}
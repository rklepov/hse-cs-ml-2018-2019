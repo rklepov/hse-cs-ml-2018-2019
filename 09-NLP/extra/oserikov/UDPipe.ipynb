{
  "nbformat": 4,
  "nbformat_minor": 0,
  "metadata": {
    "kernelspec": {
      "name": "python3",
      "display_name": "Python 3"
    },
    "language_info": {
      "codemirror_mode": {
        "name": "ipython",
        "version": 3
      },
      "file_extension": ".py",
      "mimetype": "text/x-python",
      "name": "python",
      "nbconvert_exporter": "python",
      "pygments_lexer": "ipython3",
      "version": "3.6.2"
    },
    "colab": {
      "name": "UDPipe.ipynb",
      "provenance": [],
      "collapsed_sections": [],
      "include_colab_link": true
    },
    "accelerator": "GPU"
  },
  "cells": [
    {
      "cell_type": "markdown",
      "metadata": {
        "id": "view-in-github",
        "colab_type": "text"
      },
      "source": [
        "<a href=\"https://colab.research.google.com/github/oserikov/data-science-nlp/blob/master/UDPipe.ipynb\" target=\"_parent\"><img src=\"https://colab.research.google.com/assets/colab-badge.svg\" alt=\"Open In Colab\"/></a>"
      ]
    },
    {
      "cell_type": "markdown",
      "metadata": {
        "id": "MNEmswSo9tAQ",
        "colab_type": "text"
      },
      "source": [
        "# Depencency parsing\n",
        "(парсинг зависимостей)\n",
        "\n",
        "## Что это?\n",
        "\n",
        "* наша цель -- представить предложение естественного языка в виде дерева\n",
        "* слова предложения -- узлы; *зависимости (dependencies)* между ними -- рёбра\n",
        "* зависимости могут быть разными: например, субъект глагола, объект глагола, прилагательное-модификатор, и так далее\n",
        "\n",
        "## Формат\n",
        "\n",
        "Существует несколько форматов записи деревьев зависимостей, но самый популярный и общеиспользуемый -- [CoNLL-U](http://universaldependencies.org/format.html).<br/>\n",
        "Как это выглядит (пример из [русского Universal Dependency трибанка](https://github.com/UniversalDependencies/UD_Russian-SynTagRus)):"
      ]
    },
    {
      "cell_type": "code",
      "metadata": {
        "id": "xNG-920j9tAZ",
        "colab_type": "code",
        "colab": {}
      },
      "source": [
        "my_example = \"\"\"\n",
        "# sent_id = 2003Armeniya.xml_138\n",
        "# text = Перспективы развития сферы высоких технологий.\n",
        "1\tПерспективы\tперспектива\tNOUN\t_\tAnimacy=Inan|Case=Nom|Gender=Fem|Number=Plur\t0\tROOT\t0:root\t_\n",
        "2\tразвития\tразвитие\tNOUN\t_\tAnimacy=Inan|Case=Gen|Gender=Neut|Number=Sing\t1\tnmod\t1:nmod\t_\n",
        "3\tсферы\tсфера\tNOUN\t_\tAnimacy=Inan|Case=Gen|Gender=Fem|Number=Sing\t2\tnmod\t2:nmod\t_\n",
        "4\tвысоких\tвысокий\tADJ\t_\tCase=Gen|Degree=Pos|Number=Plur\t5\tamod\t5:amod\t_\n",
        "5\tтехнологий\tтехнология\tNOUN\t_\tAnimacy=Inan|Case=Gen|Gender=Fem|Number=Plur\t3\tnmod\t3:nmod\tSpaceAfter=No\n",
        "6\t.\t.\tPUNCT\t_\t_\t1\tpunct\t1:punct\t_\n",
        "\"\"\""
      ],
      "execution_count": 0,
      "outputs": []
    },
    {
      "cell_type": "code",
      "metadata": {
        "id": "Rlxp0-RTKwKf",
        "colab_type": "code",
        "outputId": "46563e83-fe3a-44e5-9661-fc41624ed453",
        "colab": {
          "base_uri": "https://localhost:8080/",
          "height": 210
        }
      },
      "source": [
        "print(my_example)"
      ],
      "execution_count": 0,
      "outputs": [
        {
          "output_type": "stream",
          "text": [
            "\n",
            "# sent_id = 2003Armeniya.xml_138\n",
            "# text = Перспективы развития сферы высоких технологий.\n",
            "1\tПерспективы\tперспектива\tNOUN\t_\tAnimacy=Inan|Case=Nom|Gender=Fem|Number=Plur\t0\tROOT\t0:root\t_\n",
            "2\tразвития\tразвитие\tNOUN\t_\tAnimacy=Inan|Case=Gen|Gender=Neut|Number=Sing\t1\tnmod\t1:nmod\t_\n",
            "3\tсферы\tсфера\tNOUN\t_\tAnimacy=Inan|Case=Gen|Gender=Fem|Number=Sing\t2\tnmod\t2:nmod\t_\n",
            "4\tвысоких\tвысокий\tADJ\t_\tCase=Gen|Degree=Pos|Number=Plur\t5\tamod\t5:amod\t_\n",
            "5\tтехнологий\tтехнология\tNOUN\t_\tAnimacy=Inan|Case=Gen|Gender=Fem|Number=Plur\t3\tnmod\t3:nmod\tSpaceAfter=No\n",
            "6\t.\t.\tPUNCT\t_\t_\t1\tpunct\t1:punct\t_\n",
            "\n"
          ],
          "name": "stdout"
        }
      ]
    },
    {
      "cell_type": "markdown",
      "metadata": {
        "id": "E60oVuR39tA5",
        "colab_type": "text"
      },
      "source": [
        "Комментарии + таблица c 9 колонками (разделители табы):\n",
        "* ID\n",
        "* FORM: токен\n",
        "* LEMMA: начальная форма\n",
        "* UPOS: универсальная часть речи\n",
        "* XPOS: лингво-специфичная часть речи\n",
        "* FEATS: морфологическая информация: падеж, род, число etc\n",
        "* HEAD: id ролителя\n",
        "* DEPREL: тип зависимости, то есть отношение к токену-родителю\n",
        "* DEPS: альтернативный подграф\n",
        "* MISC: всё остальное\n",
        "\n",
        "Отсутствующие данные представляются с помощью `_`. Больше подробностей про формат -- в [официальной документаци](http://universaldependencies.org/format.html).<br>\n",
        "User-friendly визуализация: ![2003Armeniya.xml_138](https://github.com/artemovae/nlp-course-fintech/blob/master/classes/class07%20-%20syntax/rus_tree.png?raw=1)\n",
        "\n",
        "Отрытый инструмент для визуализации, ручной разметки и конвертации в другие форматы: UD Annotatrix. [Online-интерфейс](https://maryszmary.github.io/ud-annotatrix/standalone/annotator.html), [репозиторий](https://github.com/jonorthwash/ud-annotatrix).\n",
        "\n",
        "Трибанк -- много таких предложений. Обычно они разделяются двумя переносами строки.\n",
        "### Как считывать данные в питоне\n",
        "\n",
        "Используем библиотеку [conllu](https://github.com/EmilStenstrom/conllu)."
      ]
    },
    {
      "cell_type": "code",
      "metadata": {
        "id": "UXG_1Ikc9tA8",
        "colab_type": "code",
        "outputId": "34c3cacf-1859-4417-8341-c195e1135757",
        "colab": {
          "base_uri": "https://localhost:8080/",
          "height": 106
        }
      },
      "source": [
        "!pip3 install conllu\n",
        "from conllu import parse"
      ],
      "execution_count": 0,
      "outputs": [
        {
          "output_type": "stream",
          "text": [
            "Collecting conllu\n",
            "  Downloading https://files.pythonhosted.org/packages/a8/03/4a952eb39cdc8da80a6a2416252e71784dda6bf9d726ab98065fff2aeb73/conllu-2.3.2-py2.py3-none-any.whl\n",
            "Installing collected packages: conllu\n",
            "Successfully installed conllu-2.3.2\n"
          ],
          "name": "stdout"
        }
      ]
    },
    {
      "cell_type": "code",
      "metadata": {
        "id": "zecKUCmN9tBq",
        "colab_type": "code",
        "outputId": "4d8e15af-e598-4f7f-bbda-08a58946cbf3",
        "colab": {
          "base_uri": "https://localhost:8080/",
          "height": 279
        }
      },
      "source": [
        "sentences = parse(my_example)\n",
        "sentence = sentences[0]\n",
        "print(sentence[0])"
      ],
      "execution_count": 0,
      "outputs": [
        {
          "output_type": "execute_result",
          "data": {
            "text/plain": [
              "OrderedDict([('id', 1),\n",
              "             ('form', 'Перспективы'),\n",
              "             ('lemma', 'перспектива'),\n",
              "             ('upostag', 'NOUN'),\n",
              "             ('xpostag', None),\n",
              "             ('feats',\n",
              "              OrderedDict([('Animacy', 'Inan'),\n",
              "                           ('Case', 'Nom'),\n",
              "                           ('Gender', 'Fem'),\n",
              "                           ('Number', 'Plur')])),\n",
              "             ('head', 0),\n",
              "             ('deprel', 'ROOT'),\n",
              "             ('deps', [('root', 0)]),\n",
              "             ('misc', None)])"
            ]
          },
          "metadata": {
            "tags": []
          },
          "execution_count": 4
        }
      ]
    },
    {
      "cell_type": "code",
      "metadata": {
        "id": "u8QYgqAr9tB3",
        "colab_type": "code",
        "outputId": "a8b4d128-d3f9-4aef-8a67-056965becdc4",
        "colab": {
          "base_uri": "https://localhost:8080/",
          "height": 210
        }
      },
      "source": [
        "print(sentence[-1])"
      ],
      "execution_count": 0,
      "outputs": [
        {
          "output_type": "execute_result",
          "data": {
            "text/plain": [
              "OrderedDict([('id', 6),\n",
              "             ('form', '.'),\n",
              "             ('lemma', '.'),\n",
              "             ('upostag', 'PUNCT'),\n",
              "             ('xpostag', None),\n",
              "             ('feats', None),\n",
              "             ('head', 1),\n",
              "             ('deprel', 'punct'),\n",
              "             ('deps', [('punct', 1)]),\n",
              "             ('misc', None)])"
            ]
          },
          "metadata": {
            "tags": []
          },
          "execution_count": 5
        }
      ]
    },
    {
      "cell_type": "markdown",
      "metadata": {
        "id": "79x1gVQd9tD7",
        "colab_type": "text"
      },
      "source": [
        "## UDPipe\n",
        "\n",
        "[UDPipe](http://ufal.mff.cuni.cz/udpipe) умеет парсить текст с помощью готовых моделей (которые можно скачать [здесь](https://github.com/jwijffels/udpipe.models.ud.2.0/tree/master/inst/udpipe-ud-2.0-170801)) и обучать модели на своих трибанках.\n",
        "\n",
        "Собственно, в UDPipe есть три вида моделей:\n",
        "* токенизатор (разделить предложение не токены, сделать заготовку для CoNLL-U)\n",
        "* тэггер (разметить части речи)\n",
        "* сам парсер (проставить каждому токену `head` и `deprel`)\n",
        "\n",
        "Мы сегодня не будем обучать новых моделей (это слишком долго), а используем готовую модель для русского."
      ]
    },
    {
      "cell_type": "markdown",
      "metadata": {
        "id": "VCh0zMvG9tD-",
        "colab_type": "text"
      },
      "source": [
        "### The Python binding\n",
        "\n",
        "У udpipe есть питоновская обвязка. Она довольно [плохо задокументирована](https://pypi.org/project/ufal.udpipe/), но зато можно использовать прямо в питоне :)"
      ]
    },
    {
      "cell_type": "code",
      "metadata": {
        "id": "ksy611_A9tD_",
        "colab_type": "code",
        "outputId": "69a89cfa-e35a-4406-b704-60dc82670f8b",
        "colab": {
          "base_uri": "https://localhost:8080/",
          "height": 210
        }
      },
      "source": [
        "!pip3 install ufal.udpipe\n",
        "from ufal.udpipe import Model, Pipeline"
      ],
      "execution_count": 0,
      "outputs": [
        {
          "output_type": "stream",
          "text": [
            "Collecting ufal.udpipe\n",
            "\u001b[?25l  Downloading https://files.pythonhosted.org/packages/e5/72/2b8b9dc7c80017c790bb3308bbad34b57accfed2ac2f1f4ab252ff4e9cb2/ufal.udpipe-1.2.0.3.tar.gz (304kB)\n",
            "\r\u001b[K     |█                               | 10kB 20.9MB/s eta 0:00:01\r\u001b[K     |██▏                             | 20kB 4.5MB/s eta 0:00:01\r\u001b[K     |███▎                            | 30kB 6.1MB/s eta 0:00:01\r\u001b[K     |████▎                           | 40kB 5.9MB/s eta 0:00:01\r\u001b[K     |█████▍                          | 51kB 5.2MB/s eta 0:00:01\r\u001b[K     |██████▌                         | 61kB 5.7MB/s eta 0:00:01\r\u001b[K     |███████▌                        | 71kB 6.1MB/s eta 0:00:01\r\u001b[K     |████████▋                       | 81kB 6.7MB/s eta 0:00:01\r\u001b[K     |█████████▊                      | 92kB 7.1MB/s eta 0:00:01\r\u001b[K     |██████████▊                     | 102kB 6.9MB/s eta 0:00:01\r\u001b[K     |███████████▉                    | 112kB 6.9MB/s eta 0:00:01\r\u001b[K     |█████████████                   | 122kB 6.9MB/s eta 0:00:01\r\u001b[K     |██████████████                  | 133kB 6.9MB/s eta 0:00:01\r\u001b[K     |███████████████                 | 143kB 6.9MB/s eta 0:00:01\r\u001b[K     |████████████████▏               | 153kB 6.9MB/s eta 0:00:01\r\u001b[K     |█████████████████▎              | 163kB 6.9MB/s eta 0:00:01\r\u001b[K     |██████████████████▎             | 174kB 6.9MB/s eta 0:00:01\r\u001b[K     |███████████████████▍            | 184kB 6.9MB/s eta 0:00:01\r\u001b[K     |████████████████████▌           | 194kB 6.9MB/s eta 0:00:01\r\u001b[K     |█████████████████████▌          | 204kB 6.9MB/s eta 0:00:01\r\u001b[K     |██████████████████████▋         | 215kB 6.9MB/s eta 0:00:01\r\u001b[K     |███████████████████████▊        | 225kB 6.9MB/s eta 0:00:01\r\u001b[K     |████████████████████████▉       | 235kB 6.9MB/s eta 0:00:01\r\u001b[K     |█████████████████████████▉      | 245kB 6.9MB/s eta 0:00:01\r\u001b[K     |███████████████████████████     | 256kB 6.9MB/s eta 0:00:01\r\u001b[K     |████████████████████████████    | 266kB 6.9MB/s eta 0:00:01\r\u001b[K     |█████████████████████████████   | 276kB 6.9MB/s eta 0:00:01\r\u001b[K     |██████████████████████████████▏ | 286kB 6.9MB/s eta 0:00:01\r\u001b[K     |███████████████████████████████▎| 296kB 6.9MB/s eta 0:00:01\r\u001b[K     |████████████████████████████████| 307kB 6.9MB/s \n",
            "\u001b[?25hBuilding wheels for collected packages: ufal.udpipe\n",
            "  Building wheel for ufal.udpipe (setup.py) ... \u001b[?25l\u001b[?25hdone\n",
            "  Created wheel for ufal.udpipe: filename=ufal.udpipe-1.2.0.3-cp36-cp36m-linux_x86_64.whl size=5625287 sha256=eadeee9d775b4528bd93049b7cdadacbf7d122bf3e3c38853fffd18b79eefa41\n",
            "  Stored in directory: /root/.cache/pip/wheels/0c/9d/db/6d3404c33da5b7adb6c6972853efb6a27649d3ba15f7e9bebb\n",
            "Successfully built ufal.udpipe\n",
            "Installing collected packages: ufal.udpipe\n",
            "Successfully installed ufal.udpipe-1.2.0.3\n"
          ],
          "name": "stdout"
        }
      ]
    },
    {
      "cell_type": "markdown",
      "metadata": {
        "id": "TEFTWJKh9tEY",
        "colab_type": "text"
      },
      "source": [
        "https://github.com/jwijffels/udpipe.models.ud.2.0/blob/master/inst/udpipe-ud-2.0-170801/russian-ud-2.0-170801.udpipe"
      ]
    },
    {
      "cell_type": "code",
      "metadata": {
        "id": "1LIzqOtHAybz",
        "colab_type": "code",
        "outputId": "7e67bdcf-5e73-4245-e0b7-ecceaefbf6da",
        "colab": {
          "base_uri": "https://localhost:8080/",
          "height": 383
        }
      },
      "source": [
        "UDPIPE_MODEL_FN = \"model_ru.udpipe\"\n",
        "!wget -O {UDPIPE_MODEL_FN} https://github.com/jwijffels/udpipe.models.ud.2.0/blob/master/inst/udpipe-ud-2.0-170801/russian-ud-2.0-170801.udpipe?raw=true"
      ],
      "execution_count": 0,
      "outputs": [
        {
          "output_type": "stream",
          "text": [
            "--2020-03-24 22:58:51--  https://github.com/jwijffels/udpipe.models.ud.2.0/blob/master/inst/udpipe-ud-2.0-170801/russian-ud-2.0-170801.udpipe?raw=true\n",
            "Resolving github.com (github.com)... 140.82.118.4\n",
            "Connecting to github.com (github.com)|140.82.118.4|:443... connected.\n",
            "HTTP request sent, awaiting response... 302 Found\n",
            "Location: https://github.com/jwijffels/udpipe.models.ud.2.0/raw/master/inst/udpipe-ud-2.0-170801/russian-ud-2.0-170801.udpipe [following]\n",
            "--2020-03-24 22:58:52--  https://github.com/jwijffels/udpipe.models.ud.2.0/raw/master/inst/udpipe-ud-2.0-170801/russian-ud-2.0-170801.udpipe\n",
            "Reusing existing connection to github.com:443.\n",
            "HTTP request sent, awaiting response... 302 Found\n",
            "Location: https://raw.githubusercontent.com/jwijffels/udpipe.models.ud.2.0/master/inst/udpipe-ud-2.0-170801/russian-ud-2.0-170801.udpipe [following]\n",
            "--2020-03-24 22:58:52--  https://raw.githubusercontent.com/jwijffels/udpipe.models.ud.2.0/master/inst/udpipe-ud-2.0-170801/russian-ud-2.0-170801.udpipe\n",
            "Resolving raw.githubusercontent.com (raw.githubusercontent.com)... 151.101.0.133, 151.101.64.133, 151.101.128.133, ...\n",
            "Connecting to raw.githubusercontent.com (raw.githubusercontent.com)|151.101.0.133|:443... connected.\n",
            "HTTP request sent, awaiting response... 200 OK\n",
            "Length: 13265262 (13M) [application/octet-stream]\n",
            "Saving to: ‘model_ru.udpipe’\n",
            "\n",
            "model_ru.udpipe     100%[===================>]  12.65M  --.-KB/s    in 0.06s   \n",
            "\n",
            "2020-03-24 22:58:53 (196 MB/s) - ‘model_ru.udpipe’ saved [13265262/13265262]\n",
            "\n"
          ],
          "name": "stdout"
        }
      ]
    },
    {
      "cell_type": "code",
      "metadata": {
        "id": "4sZzFw689tEf",
        "colab_type": "code",
        "colab": {}
      },
      "source": [
        "model = Model.load(UDPIPE_MODEL_FN)"
      ],
      "execution_count": 0,
      "outputs": []
    },
    {
      "cell_type": "code",
      "metadata": {
        "id": "34aHBI1Y6yDr",
        "colab_type": "code",
        "outputId": "379a3da0-5c23-49ac-f0b7-206d9b44e717",
        "colab": {
          "base_uri": "https://localhost:8080/",
          "height": 470
        }
      },
      "source": [
        "pipeline = Pipeline(model, 'generic_tokenizer', '', '', '')\n",
        "example = \"Если бы мне платили каждый раз. Каждый раз, когда я думаю о тебе.\"\n",
        "parsed = pipeline.process(example)\n",
        "print(parsed)"
      ],
      "execution_count": 0,
      "outputs": [
        {
          "output_type": "stream",
          "text": [
            "# newdoc\n",
            "# newpar\n",
            "# sent_id = 1\n",
            "# text = Если бы мне платили каждый раз.\n",
            "1\tЕсли\tЕСЛИ\tSCONJ\tIN\t_\t4\tmark\t_\t_\n",
            "2\tбы\tБЫ\tPART\tRP\t_\t4\tdiscourse\t_\t_\n",
            "3\tмне\tЯ\tPRON\tPRP\tCase=Dat|Number=Sing|Person=1\t4\tiobj\t_\t_\n",
            "4\tплатили\tПЛАТИТЬ\tVERB\tVBC\tAspect=Imp|Mood=Ind|Number=Plur|Tense=Past|VerbForm=Fin\t0\troot\t_\t_\n",
            "5\tкаждый\tКАЖДЫЙ\tDET\tDT\tAnimacy=Inan|Case=Acc|Gender=Masc|Number=Sing\t6\tamod\t_\t_\n",
            "6\tраз\tРАЗ\tNOUN\tNN\tAnimacy=Inan|Case=Acc|Gender=Masc|Number=Sing\t4\tadvmod\t_\tSpaceAfter=No\n",
            "7\t.\t.\tPUNCT\t.\t_\t4\tpunct\t_\t_\n",
            "\n",
            "# sent_id = 2\n",
            "# text = Каждый раз, когда я думаю о тебе.\n",
            "1\tКаждый\tКАЖДЫЙ\tDET\tDT\tAnimacy=Inan|Case=Acc|Gender=Masc|Number=Sing\t2\tamod\t_\t_\n",
            "2\tраз\tРАЗ\tNOUN\tNN\tAnimacy=Inan|Case=Acc|Gender=Masc|Number=Sing\t6\tadvmod\t_\tSpaceAfter=No\n",
            "3\t,\t,\tPUNCT\t,\t_\t6\tpunct\t_\t_\n",
            "4\tкогда\tКОГДА\tADV\tWRB\t_\t6\tadvmod\t_\t_\n",
            "5\tя\tЯ\tPRON\tPRP\tCase=Nom|Number=Sing|Person=1\t6\tnsubj\t_\t_\n",
            "6\tдумаю\tдУМАТЬ\tVERB\tVBC\tAspect=Imp|Mood=Ind|Number=Sing|Person=1|Tense=Pres|VerbForm=Fin\t0\troot\t_\t_\n",
            "7\tо\tО\tADP\tIN\t_\t8\tcase\t_\t_\n",
            "8\tтебе\tТЫ\tPRON\tPRP\tCase=Dat|Number=Sing|Person=2\t6\tobl\t_\tSpaceAfter=No\n",
            "9\t.\t.\tPUNCT\t.\t_\t6\tpunct\t_\tSpacesAfter=\\n\n",
            "\n",
            "\n"
          ],
          "name": "stdout"
        }
      ]
    },
    {
      "cell_type": "code",
      "metadata": {
        "id": "crcWCaQ2vwGn",
        "colab_type": "code",
        "outputId": "c9ed0f15-1733-4cb1-cc20-7f8452b7748d",
        "colab": {
          "base_uri": "https://localhost:8080/",
          "height": 71
        }
      },
      "source": [
        "sentences = parse(parsed)\n",
        "last_sentence = sentences[-1]\n",
        "pre_last_token = last_sentence[-2]\n",
        "print(pre_last_token)\n",
        "print(list(pre_last_token.keys()))"
      ],
      "execution_count": 0,
      "outputs": [
        {
          "output_type": "stream",
          "text": [
            "OrderedDict([('id', 8), ('form', 'тебе'), ('lemma', 'ТЫ'), ('upostag', 'PRON'), ('xpostag', 'PRP'), ('feats', OrderedDict([('Case', 'Dat'), ('Number', 'Sing'), ('Person', '2')])), ('head', 6), ('deprel', 'obl'), ('deps', None), ('misc', OrderedDict([('SpaceAfter', 'No')]))])\n",
            "['id', 'form', 'lemma', 'upostag', 'xpostag', 'feats', 'head', 'deprel', 'deps', 'misc']\n"
          ],
          "name": "stdout"
        }
      ]
    }
  ]
}
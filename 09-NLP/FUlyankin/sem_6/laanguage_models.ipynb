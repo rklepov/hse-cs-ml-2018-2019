{
 "cells": [
  {
   "cell_type": "markdown",
   "metadata": {},
   "source": [
    "# Языковые модели\n",
    "\n",
    "Корпус про страховые случаи взят у [Оли Дайховской.](https://github.com/odaykhovskaya/NLP-games) Кстати говоря, у Оли есть [отличный репозиторий с матерными словами](https://github.com/odaykhovskaya/obscene_words_ru/blob/master/obscene_corpus.txt) на все случаи жизни. Можно попробовать на них что-нибудь погенерировать.\n",
    "\n",
    "## 1. Модели из NLTK "
   ]
  },
  {
   "cell_type": "code",
   "execution_count": 9,
   "metadata": {},
   "outputs": [],
   "source": [
    "from nltk import FreqDist, ConditionalFreqDist, ConditionalProbDist, MLEProbDist\n",
    "from nltk import bigrams, trigrams"
   ]
  },
  {
   "cell_type": "markdown",
   "metadata": {},
   "source": [
    "Берём корпус из названий динозавров."
   ]
  },
  {
   "cell_type": "code",
   "execution_count": 1,
   "metadata": {},
   "outputs": [
    {
     "data": {
      "text/plain": [
       "['_aachenosaurus_',\n",
       " '_aardonyx_',\n",
       " '_abdallahsaurus_',\n",
       " '_abelisaurus_',\n",
       " '_abrictosaurus_',\n",
       " '_abrosaurus_',\n",
       " '_abydosaurus_',\n",
       " '_acanthopholis_',\n",
       " '_achelousaurus_',\n",
       " '_acheroraptor_']"
      ]
     },
     "execution_count": 1,
     "metadata": {},
     "output_type": "execute_result"
    }
   ],
   "source": [
    "pad = '_'  # для начала и конца слова\n",
    "\n",
    "with open('./data/dinos.txt', 'r', encoding='utf-8') as f:\n",
    "    data = f.readlines()\n",
    "names = [pad+name.strip().lower()+pad for name in data]\n",
    "names[:10]"
   ]
  },
  {
   "cell_type": "code",
   "execution_count": 10,
   "metadata": {},
   "outputs": [
    {
     "data": {
      "text/plain": [
       "1536"
      ]
     },
     "execution_count": 10,
     "metadata": {},
     "output_type": "execute_result"
    }
   ],
   "source": [
    "len(names)"
   ]
  },
  {
   "cell_type": "markdown",
   "metadata": {},
   "source": [
    "Разбиваем все названия на токены. В нашем случае это будут буквы. Считаем частоты букв. "
   ]
  },
  {
   "cell_type": "code",
   "execution_count": 11,
   "metadata": {},
   "outputs": [
    {
     "name": "stdout",
     "output_type": "stream",
     "text": [
      "[3072, 2487, 539, 548, 913, 1081, 1710, 2285, 2123, 1704, 341, 266, 85, 171, 617, 944, 852, 552, 111, 328, 360, 37, 55, 141, 41, 60, 23]\n"
     ]
    }
   ],
   "source": [
    "chars = [char for name in names for char in name]\n",
    "freq = FreqDist(chars)\n",
    "\n",
    "print(list(freq.values()))"
   ]
  },
  {
   "cell_type": "markdown",
   "metadata": {},
   "source": [
    "Находим биграммы и их условные частоты."
   ]
  },
  {
   "cell_type": "code",
   "execution_count": 12,
   "metadata": {},
   "outputs": [
    {
     "name": "stdout",
     "output_type": "stream",
     "text": [
      "<FreqDist with 27 samples and 2487 outcomes>\n"
     ]
    }
   ],
   "source": [
    "cfreq = ConditionalFreqDist(bigrams(chars))\n",
    "print(cfreq['a'])"
   ]
  },
  {
   "cell_type": "code",
   "execution_count": 13,
   "metadata": {},
   "outputs": [
    {
     "name": "stdout",
     "output_type": "stream",
     "text": [
      "p(a|_) = 0.0555\n",
      "p(a|_) = 0.0097\n",
      "p(s|_) = 0.0541\n"
     ]
    }
   ],
   "source": [
    "cprob = ConditionalProbDist(cfreq, MLEProbDist)\n",
    "print('p(a|_) = %1.4f' %cprob['a'].prob('_'))\n",
    "print('p(a|_) = %1.4f' %cprob['a'].prob('b'))\n",
    "print('p(s|_) = %1.4f' %cprob['_'].prob('a'))"
   ]
  },
  {
   "cell_type": "markdown",
   "metadata": {},
   "source": [
    "Посчитаем вероятность встретить в корпусе конкретную букву по формуле полной вероятности. "
   ]
  },
  {
   "cell_type": "code",
   "execution_count": 17,
   "metadata": {},
   "outputs": [
    {
     "name": "stdout",
     "output_type": "stream",
     "text": [
      "p(a) = 0.1160\n"
     ]
    }
   ],
   "source": [
    "l = sum([freq[char] for char in freq])\n",
    "\n",
    "def unigram_prob(char):\n",
    "    return freq[char] / l\n",
    "\n",
    "print('p(a) = %1.4f' %unigram_prob('a'))"
   ]
  },
  {
   "cell_type": "markdown",
   "metadata": {},
   "source": [
    "Можно сгеерировать новый символ, отталкиваясь от предыдущего."
   ]
  },
  {
   "cell_type": "code",
   "execution_count": 18,
   "metadata": {},
   "outputs": [
    {
     "data": {
      "text/plain": [
       "'l'"
      ]
     },
     "execution_count": 18,
     "metadata": {},
     "output_type": "execute_result"
    }
   ],
   "source": [
    "cprob['u'].generate()"
   ]
  },
  {
   "cell_type": "markdown",
   "metadata": {},
   "source": [
    "Напишем функцию для генерации нового имени динозавра! "
   ]
  },
  {
   "cell_type": "code",
   "execution_count": 32,
   "metadata": {},
   "outputs": [],
   "source": [
    "def f(word):\n",
    "    new = cprob[word[-1]].generate()\n",
    "    if new == '_':\n",
    "        return word + new\n",
    "    else:\n",
    "        return word + new + f(new)"
   ]
  },
  {
   "cell_type": "code",
   "execution_count": 33,
   "metadata": {},
   "outputs": [
    {
     "data": {
      "text/plain": [
       "'_aattaanneelllluurruussaarrss_'"
      ]
     },
     "execution_count": 33,
     "metadata": {},
     "output_type": "execute_result"
    }
   ],
   "source": [
    "f('_')"
   ]
  },
  {
   "cell_type": "markdown",
   "metadata": {},
   "source": [
    "## 2. Марковские цепи\n",
    "\n",
    "[Репозиторий библиотечки](https://github.com/jsvine/markovify)"
   ]
  },
  {
   "cell_type": "code",
   "execution_count": 34,
   "metadata": {},
   "outputs": [],
   "source": [
    "import pandas as pd\n",
    "import numpy as np\n",
    "\n",
    "from tqdm import tqdm_notebook\n",
    "import re\n",
    "\n",
    "import gensim\n",
    "\n",
    "from matplotlib import pyplot as plt\n",
    "import seaborn as sns\n",
    "%matplotlib inline"
   ]
  },
  {
   "cell_type": "code",
   "execution_count": 36,
   "metadata": {},
   "outputs": [
    {
     "data": {
      "text/html": [
       "<div>\n",
       "<style scoped>\n",
       "    .dataframe tbody tr th:only-of-type {\n",
       "        vertical-align: middle;\n",
       "    }\n",
       "\n",
       "    .dataframe tbody tr th {\n",
       "        vertical-align: top;\n",
       "    }\n",
       "\n",
       "    .dataframe thead th {\n",
       "        text-align: right;\n",
       "    }\n",
       "</style>\n",
       "<table border=\"1\" class=\"dataframe\">\n",
       "  <thead>\n",
       "    <tr style=\"text-align: right;\">\n",
       "      <th></th>\n",
       "      <th>review_text</th>\n",
       "      <th>tema</th>\n",
       "      <th>mark</th>\n",
       "    </tr>\n",
       "  </thead>\n",
       "  <tbody>\n",
       "    <tr>\n",
       "      <th>0</th>\n",
       "      <td>первое дтп в водительской карьере, первый опыт...</td>\n",
       "      <td>Автострахование</td>\n",
       "      <td>5</td>\n",
       "    </tr>\n",
       "    <tr>\n",
       "      <th>1</th>\n",
       "      <td>Уважаемые господа! Это был первый и последний ...</td>\n",
       "      <td>Автострахование</td>\n",
       "      <td>1</td>\n",
       "    </tr>\n",
       "    <tr>\n",
       "      <th>2</th>\n",
       "      <td>Мой отец Рогов Сергей Дмитриевич в 2014 году з...</td>\n",
       "      <td>Имущественное страхование</td>\n",
       "      <td>Без оценки</td>\n",
       "    </tr>\n",
       "    <tr>\n",
       "      <th>3</th>\n",
       "      <td>Сломал кость на кисти руки в гололёд, была стр...</td>\n",
       "      <td>Личное страхование</td>\n",
       "      <td>Без оценки</td>\n",
       "    </tr>\n",
       "    <tr>\n",
       "      <th>4</th>\n",
       "      <td>Страховой полис КАСКО- № 79089/046/3494384/6. ...</td>\n",
       "      <td>Автострахование</td>\n",
       "      <td>1</td>\n",
       "    </tr>\n",
       "  </tbody>\n",
       "</table>\n",
       "</div>"
      ],
      "text/plain": [
       "                                         review_text  \\\n",
       "0  первое дтп в водительской карьере, первый опыт...   \n",
       "1  Уважаемые господа! Это был первый и последний ...   \n",
       "2  Мой отец Рогов Сергей Дмитриевич в 2014 году з...   \n",
       "3  Сломал кость на кисти руки в гололёд, была стр...   \n",
       "4  Страховой полис КАСКО- № 79089/046/3494384/6. ...   \n",
       "\n",
       "                        tema                       mark  \n",
       "0            Автострахование  5                          \n",
       "1            Автострахование  1                          \n",
       "2  Имущественное страхование                 Без оценки  \n",
       "3         Личное страхование                 Без оценки  \n",
       "4            Автострахование  1                          "
      ]
     },
     "execution_count": 36,
     "metadata": {},
     "output_type": "execute_result"
    }
   ],
   "source": [
    "df = pd.read_excel('asn.xlsx', index_col=0)\n",
    "df.head()"
   ]
  },
  {
   "cell_type": "code",
   "execution_count": 37,
   "metadata": {},
   "outputs": [
    {
     "data": {
      "text/plain": [
       "(20831, 3)"
      ]
     },
     "execution_count": 37,
     "metadata": {},
     "output_type": "execute_result"
    }
   ],
   "source": [
    "df.shape"
   ]
  },
  {
   "cell_type": "code",
   "execution_count": 38,
   "metadata": {},
   "outputs": [
    {
     "data": {
      "text/plain": [
       "count    20831.000000\n",
       "mean      1031.860688\n",
       "std       1005.525397\n",
       "min         52.000000\n",
       "25%        446.000000\n",
       "50%        765.000000\n",
       "75%       1271.000000\n",
       "max      28057.000000\n",
       "Name: review_text, dtype: float64"
      ]
     },
     "execution_count": 38,
     "metadata": {},
     "output_type": "execute_result"
    }
   ],
   "source": [
    "df.review_text.apply(len).describe()"
   ]
  },
  {
   "cell_type": "code",
   "execution_count": 39,
   "metadata": {},
   "outputs": [
    {
     "data": {
      "image/png": "[encoded data removed]",
      "text/plain": [
       "<Figure size 432x288 with 1 Axes>"
      ]
     },
     "metadata": {
      "needs_background": "light"
     },
     "output_type": "display_data"
    }
   ],
   "source": [
    "df.review_text.apply(len).hist(bins=100);"
   ]
  },
  {
   "cell_type": "code",
   "execution_count": 40,
   "metadata": {},
   "outputs": [
    {
     "data": {
      "text/plain": [
       "1                            11105\n",
       "5                             3147\n",
       "Без оценки                    3125\n",
       "2                             2004\n",
       "3                              739\n",
       "4                              711\n",
       "Name: mark, dtype: int64"
      ]
     },
     "execution_count": 40,
     "metadata": {},
     "output_type": "execute_result"
    }
   ],
   "source": [
    "df.mark.value_counts()"
   ]
  },
  {
   "cell_type": "code",
   "execution_count": 41,
   "metadata": {},
   "outputs": [
    {
     "data": {
      "text/plain": [
       "Автострахование              18124\n",
       "Личное страхование            1790\n",
       "Имущественное страхование      916\n",
       "Name: tema, dtype: int64"
      ]
     },
     "execution_count": 41,
     "metadata": {},
     "output_type": "execute_result"
    }
   ],
   "source": [
    "df.tema.value_counts()"
   ]
  },
  {
   "cell_type": "code",
   "execution_count": 42,
   "metadata": {},
   "outputs": [
    {
     "data": {
      "text/plain": [
       "Автострахование              18124\n",
       "Личное страхование            1790\n",
       "Имущественное страхование      916\n",
       "Name: tema, dtype: int64"
      ]
     },
     "execution_count": 42,
     "metadata": {},
     "output_type": "execute_result"
    }
   ],
   "source": [
    "df.tema.value_counts()"
   ]
  },
  {
   "cell_type": "code",
   "execution_count": 43,
   "metadata": {},
   "outputs": [],
   "source": [
    "#pip install markovify\n",
    "#Цепи Маркова\n",
    "import markovify"
   ]
  },
  {
   "cell_type": "code",
   "execution_count": 44,
   "metadata": {},
   "outputs": [],
   "source": [
    "text = df['review_text'].values"
   ]
  },
  {
   "cell_type": "code",
   "execution_count": 45,
   "metadata": {},
   "outputs": [
    {
     "data": {
      "text/plain": [
       "'Полис 566280. Хочу поблагодарить за быструю и квалифицированную помощь сотрудников медицинского центра «Капитал-полис» и лично кардиолога Е.М.Парфенову. При обращении в поликлинику Центра я был быстро обследован, госпитализирован на машине «скорой помощи» в кардиологическое отделение Городской Покровской больницы, где уже на следующий день мне была сделана операция. Условия содержания в больнице были хорошими, сотрудники «Капитал-полиса» интересовались качестом оказываемой медицнской помощи. В настоящее время успешно прохожу реабилитацию в санатории «Черная речка».'"
      ]
     },
     "execution_count": 45,
     "metadata": {},
     "output_type": "execute_result"
    }
   ],
   "source": [
    "text[1500]"
   ]
  },
  {
   "cell_type": "code",
   "execution_count": 46,
   "metadata": {},
   "outputs": [
    {
     "data": {
      "text/plain": [
       "21515520"
      ]
     },
     "execution_count": 46,
     "metadata": {},
     "output_type": "execute_result"
    }
   ],
   "source": [
    "text = ' '.join(text)\n",
    "len(text)"
   ]
  },
  {
   "cell_type": "code",
   "execution_count": 47,
   "metadata": {},
   "outputs": [],
   "source": [
    "#Запилить модель\n",
    "text_model = markovify.Text(text)"
   ]
  },
  {
   "cell_type": "code",
   "execution_count": 74,
   "metadata": {},
   "outputs": [
    {
     "data": {
      "text/plain": [
       "'В этом году продляла полис и поставьте галочку.'"
      ]
     },
     "execution_count": 74,
     "metadata": {},
     "output_type": "execute_result"
    }
   ],
   "source": [
    "text_model.make_sentence()"
   ]
  },
  {
   "cell_type": "code",
   "execution_count": 54,
   "metadata": {},
   "outputs": [
    {
     "name": "stdout",
     "output_type": "stream",
     "text": [
      "Все работники с кем то из представителей страховой компании, посчитали мне сумму ущерба в гражданско-правовом порядке, покольку противоправные действия третих лиц и руководящего состава данной СК.\n",
      "Срок рассмотрения поставили 10 рабочих дней произвести выплату страхового возмещения в размере 900 рублей.\n",
      "Не стал с ними все в лучшем случае получу 500 рублей за то, что можно согласовывать столько времени, сколько потребуется.\n",
      "Надо подовать в суд.\n",
      "Всем огромный привет и наилучшие пожелания в бескомпромиссной борьбе с этими циниками, так как много информации, что собственником автомобиля или в Центральный офис «Росгосстрах», где нам сообщили, что решение будет принято какое-либо решение.\n"
     ]
    }
   ],
   "source": [
    "# Нксколько рандомных предложений\n",
    "for i in range(5):\n",
    "    print(text_model.make_sentence())"
   ]
  },
  {
   "cell_type": "code",
   "execution_count": 59,
   "metadata": {},
   "outputs": [
    {
     "name": "stdout",
     "output_type": "stream",
     "text": [
      "А в офисе мне нахамили и сказали вам позвонят.\n",
      "Вменяемое отношение к работе… как будто я не получила, я работаю в Нижнем Новгороде, пришел в офис страховой компании отвечают.\n",
      "Сфотографировали царапину и вот теперь очень жалею, что оформила Осаго на авто без проблем.\n"
     ]
    }
   ],
   "source": [
    "# Несколько рандомных предложений длины не боле чем 140 символов\n",
    "for i in range(3):\n",
    "    print(text_model.make_short_sentence(140))"
   ]
  },
  {
   "cell_type": "code",
   "execution_count": 60,
   "metadata": {},
   "outputs": [
    {
     "name": "stdout",
     "output_type": "stream",
     "text": [
      "Беспредел полный и подробный.\n",
      "Беспредел полный и обширный перечень документов, которые нужно предоставить.\n",
      "Беспредел полный и подробный.\n"
     ]
    }
   ],
   "source": [
    "# Начиня с какого-то слова!\n",
    "for i in range(3):\n",
    "    print(text_model.make_sentence_with_start('Беспредел'))"
   ]
  },
  {
   "cell_type": "code",
   "execution_count": 70,
   "metadata": {},
   "outputs": [
    {
     "name": "stdout",
     "output_type": "stream",
     "text": [
      "Хамло и быдло самое настоящее!!! Ни какой реакции не произошло.\n",
      "Хамло и быдло самое настоящее!!! Ни какой культуры!!! Приобрели мобильный телефон, застраховала его в юротделе ЖЭУ, после чего компания считает, что это и поборы за страхование автобусов агентам не выплачивают уже больше месяца.\n",
      "Хамло и быдло самое настоящее!!! Ни какой реакции не произошло, такую справку «надо бы как-то получить от них это самое мое в кавычках моя история не закончена я в очереди на Графском пер.\n"
     ]
    }
   ],
   "source": [
    "# Начиня с какого-то слова!\n",
    "for i in range(3):\n",
    "    print(text_model.make_sentence_with_start('Хамло'))"
   ]
  },
  {
   "cell_type": "code",
   "execution_count": 68,
   "metadata": {},
   "outputs": [
    {
     "name": "stdout",
     "output_type": "stream",
     "text": [
      "А машина всё еще не открыта запись.\n",
      "Ну что ж, пишу жалобу в Службу Банка России который отозвал лицензию СО «Купеческое и не был прописан пункт «ремонт по направлению»? если «ремонт по направлению» находится за тридевять земель, терять документы, разводить волокиту и нервотрепку?\n",
      "02 мая у меня произошла беда, у нас все время один и тот же.\n"
     ]
    }
   ],
   "source": [
    "# Начиня с какого-то слова!\n",
    "for i in range(3):\n",
    "    print(text_model.make_sentence_with_start('___BEGIN__'))"
   ]
  },
  {
   "cell_type": "code",
   "execution_count": 71,
   "metadata": {},
   "outputs": [
    {
     "name": "stdout",
     "output_type": "stream",
     "text": [
      "очень много кто остался без всякой конетели получил страховую выплату с ОАО «АльфаСтрахованием» — судебные расходы и нет и срок рассмотрения у них по закону и условиям подошла компания «ВСК». Удобным условием было оформление полиса Осаго ВВВ0641256165 Не секрет, что рубль дешевеет, выплаты не было, все вовремя.\n",
      "очень хорошее отношение к людям унизительное.\n",
      "очень не плохо выбрать страховую.\n"
     ]
    }
   ],
   "source": [
    "# Начиня с какого-то слова!\n",
    "for i in range(3):\n",
    "    print(text_model.make_sentence_with_start('очень'))"
   ]
  },
  {
   "cell_type": "markdown",
   "metadata": {},
   "source": [
    "То же самое, но на триграммах."
   ]
  },
  {
   "cell_type": "code",
   "execution_count": 72,
   "metadata": {},
   "outputs": [],
   "source": [
    "text_model_3 = markovify.Text(text, state_size=3)"
   ]
  },
  {
   "cell_type": "code",
   "execution_count": 73,
   "metadata": {},
   "outputs": [
    {
     "name": "stdout",
     "output_type": "stream",
     "text": [
      "Вот скажите может быть у человека сахарный диабет, либо еще что-то похуже, по причине чего и опоздала к назначенному времени.\n",
      "Мне пришлось совершить звонок в головной офис с жалобой на задержку выплаты.\n",
      "Так как машину уже забрали из ремонта могу сказать, что она показала полную некомпетентность в вопросе выплат и страховании в принципе.\n"
     ]
    }
   ],
   "source": [
    "for i in range(3):\n",
    "    print(text_model_3.make_short_sentence(140))"
   ]
  },
  {
   "cell_type": "markdown",
   "metadata": {},
   "source": [
    "# 3. Нейросетки (LSTM) "
   ]
  },
  {
   "cell_type": "code",
   "execution_count": null,
   "metadata": {},
   "outputs": [],
   "source": []
  },
  {
   "cell_type": "code",
   "execution_count": null,
   "metadata": {},
   "outputs": [],
   "source": []
  },
  {
   "cell_type": "code",
   "execution_count": null,
   "metadata": {},
   "outputs": [],
   "source": []
  },
  {
   "cell_type": "code",
   "execution_count": null,
   "metadata": {},
   "outputs": [],
   "source": []
  },
  {
   "cell_type": "code",
   "execution_count": null,
   "metadata": {},
   "outputs": [],
   "source": []
  },
  {
   "cell_type": "code",
   "execution_count": null,
   "metadata": {},
   "outputs": [],
   "source": []
  },
  {
   "cell_type": "code",
   "execution_count": null,
   "metadata": {},
   "outputs": [],
   "source": []
  },
  {
   "cell_type": "code",
   "execution_count": null,
   "metadata": {},
   "outputs": [],
   "source": []
  },
  {
   "cell_type": "code",
   "execution_count": null,
   "metadata": {},
   "outputs": [],
   "source": []
  },
  {
   "cell_type": "code",
   "execution_count": null,
   "metadata": {},
   "outputs": [],
   "source": []
  },
  {
   "cell_type": "code",
   "execution_count": null,
   "metadata": {},
   "outputs": [],
   "source": []
  },
  {
   "cell_type": "code",
   "execution_count": null,
   "metadata": {},
   "outputs": [],
   "source": []
  },
  {
   "cell_type": "code",
   "execution_count": null,
   "metadata": {},
   "outputs": [],
   "source": []
  },
  {
   "cell_type": "code",
   "execution_count": null,
   "metadata": {},
   "outputs": [],
   "source": []
  },
  {
   "cell_type": "code",
   "execution_count": 75,
   "metadata": {},
   "outputs": [
    {
     "name": "stdout",
     "output_type": "stream",
     "text": [
      "0.4255470737913486\n"
     ]
    }
   ],
   "source": [
    "import nltk\n",
    "from nltk.corpus import treebank\n",
    "# Import HMM module\n",
    "from nltk.tag import hmm\n",
    "\n",
    "\n",
    "train_sents = treebank.tagged_sents()\n",
    "treebank_sents = treebank.tagged_sents()\n",
    "train_sents = treebank.tagged_sents()[:int(0.9 * len(treebank_sents))]\n",
    "test_sents = treebank.tagged_sents()[int(0.9 * len(treebank_sents)):]\n",
    "\n",
    "\n",
    "# Setup a trainer with default(None) values\n",
    "# And train with the data\n",
    "trainer = hmm.HiddenMarkovModelTrainer()\n",
    "tagger = trainer.train_supervised(train_sents)\n",
    "\n",
    "print(tagger.evaluate(test_sents))"
   ]
  },
  {
   "cell_type": "code",
   "execution_count": 76,
   "metadata": {},
   "outputs": [
    {
     "data": {
      "text/plain": [
       "<HiddenMarkovModelTagger 46 states and 12408 output symbols>"
      ]
     },
     "execution_count": 76,
     "metadata": {},
     "output_type": "execute_result"
    }
   ],
   "source": [
    "tagger.tag()"
   ]
  },
  {
   "cell_type": "code",
   "execution_count": 77,
   "metadata": {},
   "outputs": [
    {
     "data": {
      "text/plain": [
       "[[('Kalamazoo', 'NNP'), (',', ','), ('Mich.-based', 'JJ'), ('First', 'NNP'), ('of', 'IN'), ('America', 'NNP'), ('said', 'VBD'), ('0', '-NONE-'), ('it', 'PRP'), ('will', 'MD'), ('eliminate', 'VB'), ('the', 'DT'), ('13', 'CD'), ('management', 'NN'), ('positions', 'NNS'), ('of', 'IN'), ('the', 'DT'), ('former', 'JJ'), ('Midwest', 'NNP'), ('Financial', 'NNP'), ('parent', 'NN'), ('company', 'NN'), ('.', '.')], [('First', 'NNP'), ('of', 'IN'), ('America', 'NNP'), ('said', 'VBD'), ('0', '-NONE-'), ('some', 'DT'), ('of', 'IN'), ('the', 'DT'), ('managers', 'NNS'), ('will', 'MD'), ('take', 'VB'), ('other', 'JJ'), ('jobs', 'NNS'), ('with', 'IN'), ('First', 'NNP'), ('of', 'IN'), ('America', 'NNP'), ('.', '.')], ...]"
      ]
     },
     "execution_count": 77,
     "metadata": {},
     "output_type": "execute_result"
    }
   ],
   "source": [
    "test_sents"
   ]
  },
  {
   "cell_type": "code",
   "execution_count": 78,
   "metadata": {},
   "outputs": [
    {
     "data": {
      "text/plain": [
       "[[('Pierre', 'NNP'), ('Vinken', 'NNP'), (',', ','), ('61', 'CD'), ('years', 'NNS'), ('old', 'JJ'), (',', ','), ('will', 'MD'), ('join', 'VB'), ('the', 'DT'), ('board', 'NN'), ('as', 'IN'), ('a', 'DT'), ('nonexecutive', 'JJ'), ('director', 'NN'), ('Nov.', 'NNP'), ('29', 'CD'), ('.', '.')], [('Mr.', 'NNP'), ('Vinken', 'NNP'), ('is', 'VBZ'), ('chairman', 'NN'), ('of', 'IN'), ('Elsevier', 'NNP'), ('N.V.', 'NNP'), (',', ','), ('the', 'DT'), ('Dutch', 'NNP'), ('publishing', 'VBG'), ('group', 'NN'), ('.', '.')], ...]"
      ]
     },
     "execution_count": 78,
     "metadata": {},
     "output_type": "execute_result"
    }
   ],
   "source": [
    "train_sents"
   ]
  },
  {
   "cell_type": "code",
   "execution_count": null,
   "metadata": {},
   "outputs": [],
   "source": []
  }
 ],
 "metadata": {
  "kernelspec": {
   "display_name": "Python 3",
   "language": "python",
   "name": "python3"
  },
  "language_info": {
   "codemirror_mode": {
    "name": "ipython",
    "version": 3
   },
   "file_extension": ".py",
   "mimetype": "text/x-python",
   "name": "python",
   "nbconvert_exporter": "python",
   "pygments_lexer": "ipython3",
   "version": "3.7.2"
  }
 },
 "nbformat": 4,
 "nbformat_minor": 2
}

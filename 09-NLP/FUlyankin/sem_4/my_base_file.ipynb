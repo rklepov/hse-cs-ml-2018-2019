{
 "cells": [
  {
   "cell_type": "markdown",
   "metadata": {},
   "source": [
    "# w2v-модель "
   ]
  },
  {
   "cell_type": "code",
   "execution_count": 3,
   "metadata": {},
   "outputs": [],
   "source": [
    "import gensim"
   ]
  },
  {
   "cell_type": "code",
   "execution_count": 4,
   "metadata": {},
   "outputs": [
    {
     "data": {
      "text/plain": [
       "'3.8.0'"
      ]
     },
     "execution_count": 4,
     "metadata": {},
     "output_type": "execute_result"
    }
   ],
   "source": [
    "gensim.__version__"
   ]
  },
  {
   "cell_type": "code",
   "execution_count": 8,
   "metadata": {
    "scrolled": true
   },
   "outputs": [],
   "source": [
    "w2v = gensim.models.KeyedVectors.load_word2vec_format(\"182/model.bin\",\n",
    "                                                      binary=True)"
   ]
  },
  {
   "cell_type": "code",
   "execution_count": 11,
   "metadata": {},
   "outputs": [
    {
     "data": {
      "text/plain": [
       "(300,)"
      ]
     },
     "execution_count": 11,
     "metadata": {},
     "output_type": "execute_result"
    }
   ],
   "source": [
    "w2v.get_vector('любовь_NOUN').shape"
   ]
  },
  {
   "cell_type": "code",
   "execution_count": 12,
   "metadata": {},
   "outputs": [
    {
     "data": {
      "text/plain": [
       "[('преданность_NOUN', 0.3810521960258484),\n",
       " ('доброта_NOUN', 0.37110236287117004),\n",
       " ('нежность_NOUN', 0.3703838586807251),\n",
       " ('неизречять_ADJ', 0.36475884914398193),\n",
       " ('всепрощающий_ADJ', 0.3636731505393982),\n",
       " ('любовь_ADJ', 0.36305347084999084),\n",
       " ('чувствомъ_PROPN', 0.3625626266002655),\n",
       " ('упование_NOUN', 0.35435524582862854),\n",
       " ('врность_NOUN', 0.35329458117485046),\n",
       " ('твердостие_NOUN', 0.3507946729660034)]"
      ]
     },
     "execution_count": 12,
     "metadata": {},
     "output_type": "execute_result"
    }
   ],
   "source": [
    "w2v.most_similar(positive=['любовь_NOUN'], negative=['секс_NOUN'])"
   ]
  },
  {
   "cell_type": "code",
   "execution_count": 13,
   "metadata": {},
   "outputs": [
    {
     "data": {
      "text/plain": [
       "[('тегеран_NOUN', 0.27903908491134644),\n",
       " ('доследование_NOUN', 0.27679866552352905),\n",
       " ('магадан_NOUN', 0.2697596549987793),\n",
       " ('лас-вегас_NOUN', 0.26693931221961975),\n",
       " ('погостить_VERB', 0.26508599519729614),\n",
       " ('отпроситься_VERB', 0.2559608817100525),\n",
       " ('пришлем_NOUN', 0.2520972490310669),\n",
       " ('деннех_PROPN', 0.2509547770023346),\n",
       " ('пермь_NUM', 0.249786376953125),\n",
       " ('проведать_VERB', 0.2489762306213379)]"
      ]
     },
     "execution_count": 13,
     "metadata": {},
     "output_type": "execute_result"
    }
   ],
   "source": [
    "w2v.most_similar(positive=['питер_NOUN'], negative=['мост_NOUN'])"
   ]
  },
  {
   "cell_type": "code",
   "execution_count": 14,
   "metadata": {},
   "outputs": [],
   "source": [
    "vocabulary = w2v.vocab"
   ]
  },
  {
   "cell_type": "code",
   "execution_count": 16,
   "metadata": {},
   "outputs": [
    {
     "data": {
      "text/plain": [
       "248978"
      ]
     },
     "execution_count": 16,
     "metadata": {},
     "output_type": "execute_result"
    }
   ],
   "source": [
    "words = list(vocabulary.keys())\n",
    "len(words)"
   ]
  },
  {
   "cell_type": "code",
   "execution_count": 17,
   "metadata": {},
   "outputs": [
    {
     "data": {
      "text/plain": [
       "['год_NOUN', 'год_PROPN', 'год_NUM']"
      ]
     },
     "execution_count": 17,
     "metadata": {},
     "output_type": "execute_result"
    }
   ],
   "source": [
    "[item for item in words if item.split('_')[0] == 'год']"
   ]
  },
  {
   "cell_type": "code",
   "execution_count": 19,
   "metadata": {},
   "outputs": [
    {
     "data": {
      "text/plain": [
       "207788"
      ]
     },
     "execution_count": 19,
     "metadata": {},
     "output_type": "execute_result"
    }
   ],
   "source": [
    "len(set([item.split('_')[0] for item in words]))"
   ]
  },
  {
   "cell_type": "code",
   "execution_count": 22,
   "metadata": {},
   "outputs": [
    {
     "data": {
      "application/vnd.jupyter.widget-view+json": {
       "model_id": "ccc677e9f58b42838a5b3f522f44f290",
       "version_major": 2,
       "version_minor": 0
      },
      "text/plain": [
       "HBox(children=(IntProgress(value=0, max=248978), HTML(value='')))"
      ]
     },
     "metadata": {},
     "output_type": "display_data"
    },
    {
     "name": "stdout",
     "output_type": "stream",
     "text": [
      "\n"
     ]
    }
   ],
   "source": [
    "import numpy as np\n",
    "from tqdm import tqdm_notebook\n",
    "\n",
    "uniq_words = [\"#PAD#\", \"#UNK#\"]\n",
    "embedings = [np.zeros(300,), np.zeros(300,)]\n",
    "\n",
    "for word in tqdm_notebook(words):\n",
    "    cur_word = word.split('_')[0]\n",
    "    if cur_word in uniq_words:\n",
    "        continue \n",
    "        \n",
    "    uniq_words.append(cur_word)\n",
    "    embedings.append(w2v.get_vector(word))"
   ]
  },
  {
   "cell_type": "code",
   "execution_count": 30,
   "metadata": {},
   "outputs": [],
   "source": [
    "expected_count = len(set([item.split('_')[0] for item in words]))\n",
    "expected_count = expected_count + 2"
   ]
  },
  {
   "cell_type": "code",
   "execution_count": 31,
   "metadata": {},
   "outputs": [],
   "source": [
    "embedings = np.stack(embedings)\n",
    "embedings = embedings.astype(np.float32)"
   ]
  },
  {
   "cell_type": "code",
   "execution_count": 34,
   "metadata": {},
   "outputs": [],
   "source": [
    "assert embedings.shape[0] == expected_count"
   ]
  },
  {
   "cell_type": "code",
   "execution_count": 35,
   "metadata": {},
   "outputs": [],
   "source": [
    "np.save('embedings.npy', embedings)"
   ]
  },
  {
   "cell_type": "code",
   "execution_count": 36,
   "metadata": {},
   "outputs": [],
   "source": [
    "word2indx = {word: idx for idx,word in enumerate(uniq_words)}"
   ]
  },
  {
   "cell_type": "code",
   "execution_count": 38,
   "metadata": {},
   "outputs": [],
   "source": [
    "import pickle \n",
    "\n",
    "with open('vocab', 'wb') as f:\n",
    "    pickle.dump(word2indx, f)"
   ]
  },
  {
   "cell_type": "markdown",
   "metadata": {},
   "source": [
    "## Данные "
   ]
  },
  {
   "cell_type": "code",
   "execution_count": 41,
   "metadata": {},
   "outputs": [
    {
     "name": "stdout",
     "output_type": "stream",
     "text": [
      "(172913, 13)\n"
     ]
    },
    {
     "data": {
      "text/html": [
       "<div>\n",
       "<style scoped>\n",
       "    .dataframe tbody tr th:only-of-type {\n",
       "        vertical-align: middle;\n",
       "    }\n",
       "\n",
       "    .dataframe tbody tr th {\n",
       "        vertical-align: top;\n",
       "    }\n",
       "\n",
       "    .dataframe thead th {\n",
       "        text-align: right;\n",
       "    }\n",
       "</style>\n",
       "<table border=\"1\" class=\"dataframe\">\n",
       "  <thead>\n",
       "    <tr style=\"text-align: right;\">\n",
       "      <th></th>\n",
       "      <th>_id</th>\n",
       "      <th>date</th>\n",
       "      <th>tags</th>\n",
       "      <th>title</th>\n",
       "      <th>hubs_title</th>\n",
       "      <th>description</th>\n",
       "      <th>name</th>\n",
       "      <th>hub</th>\n",
       "      <th>png</th>\n",
       "      <th>nick</th>\n",
       "      <th>url</th>\n",
       "      <th>content</th>\n",
       "      <th>favs_lognorm</th>\n",
       "    </tr>\n",
       "  </thead>\n",
       "  <tbody>\n",
       "    <tr>\n",
       "      <th>0</th>\n",
       "      <td>https://geektimes.ru/post/21866/</td>\n",
       "      <td>2008-03-17T18:55:00.000Z</td>\n",
       "      <td>['eeepc', 'asus', 'ЭТО', 'эльдорадо', 'ура']</td>\n",
       "      <td>eeePC в продаже. Да. Правда.</td>\n",
       "      <td>Железо</td>\n",
       "      <td>Итак, если 3 дня назад я отписался то что в пр...</td>\n",
       "      <td>Сергей 'pokatusher'</td>\n",
       "      <td>hub/hardware</td>\n",
       "      <td>https://habrastorage.org/getpro/habr/olpicture...</td>\n",
       "      <td>@M_org</td>\n",
       "      <td>https://geektimes.ru/users/M_org</td>\n",
       "      <td>Итак, если 3 дня назад я &lt;a href=\"http://habra...</td>\n",
       "      <td>2.484907</td>\n",
       "    </tr>\n",
       "    <tr>\n",
       "      <th>1</th>\n",
       "      <td>https://habrahabr.ru/company/aladdinrd/blog/30...</td>\n",
       "      <td>2016-06-24T13:02:00.000Z</td>\n",
       "      <td>['Интеграция', 'шифрование', 'Windows', 'Win32...</td>\n",
       "      <td>«Разрубить Гордиев узел» или преодоление пробл...</td>\n",
       "      <td>Системное программирование</td>\n",
       "      <td>Современная операционная система это сложный и...</td>\n",
       "      <td>Аладдин Р.Д.</td>\n",
       "      <td>hub/system_programming</td>\n",
       "      <td>https://habrastorage.org/files/cbd/cf9/5ff/cbd...</td>\n",
       "      <td>NaN</td>\n",
       "      <td>https://habrahabr.ru/company/aladdinrd</td>\n",
       "      <td>Современная операционная система это сложный и...</td>\n",
       "      <td>4.174387</td>\n",
       "    </tr>\n",
       "    <tr>\n",
       "      <th>2</th>\n",
       "      <td>https://geektimes.ru/post/92887/</td>\n",
       "      <td>2010-05-06T10:00:00.000Z</td>\n",
       "      <td>['mc', 'midnight commander', 'diffview', 'merg...</td>\n",
       "      <td>Релиз Midnight Commander 4.7.2 и 4.7.0.5</td>\n",
       "      <td>Чёрная дыра</td>\n",
       "      <td>Спустя 2 месяца упорных трудов вышла новая вер...</td>\n",
       "      <td>Илья Маслаков</td>\n",
       "      <td>hub/closet</td>\n",
       "      <td>https://geektimes.ru/images/logo.png</td>\n",
       "      <td>@smind</td>\n",
       "      <td>https://geektimes.ru/users/smind</td>\n",
       "      <td>Спустя 2 месяца упорных трудов вышла новая вер...</td>\n",
       "      <td>0.000000</td>\n",
       "    </tr>\n",
       "    <tr>\n",
       "      <th>3</th>\n",
       "      <td>https://habrahabr.ru/post/290824/</td>\n",
       "      <td>2015-05-22T11:01:00.000Z</td>\n",
       "      <td>['бизнес-модель', 'бизнес-моделирование']</td>\n",
       "      <td>7 шагов для постройки правильной бизнес-модели</td>\n",
       "      <td>Интернет-маркетинг</td>\n",
       "      <td>Большинство IT предпринимателей сосредотачиваю...</td>\n",
       "      <td>Александр</td>\n",
       "      <td>hub/internetmarketing</td>\n",
       "      <td>https://habrastorage.org/files/50e/211/9a0/50e...</td>\n",
       "      <td>@jasiejames</td>\n",
       "      <td>https://habrahabr.ru/users/jasiejames</td>\n",
       "      <td>&lt;img src=\"https://habrastorage.org/files/50e/2...</td>\n",
       "      <td>3.496508</td>\n",
       "    </tr>\n",
       "    <tr>\n",
       "      <th>4</th>\n",
       "      <td>https://habrahabr.ru/post/190088/</td>\n",
       "      <td>2014-09-04T00:32:00.000Z</td>\n",
       "      <td>['python', 'flask', 'mongodb', 'pet-project']</td>\n",
       "      <td>Thunderargs: практика использования. Часть 2</td>\n",
       "      <td>Программирование</td>\n",
       "      <td>История создания Часть 1  Добрый день. Вкратце...</td>\n",
       "      <td>Данияр Супиев</td>\n",
       "      <td>hub/programming</td>\n",
       "      <td>https://habrahabr.ru/i/habralogo.jpg</td>\n",
       "      <td>@uthunderbird</td>\n",
       "      <td>https://habrahabr.ru/users/uthunderbird</td>\n",
       "      <td>&lt;a href=\"http://habrahabr.ru/post/223041/\"&gt;Ист...</td>\n",
       "      <td>3.688879</td>\n",
       "    </tr>\n",
       "  </tbody>\n",
       "</table>\n",
       "</div>"
      ],
      "text/plain": [
       "                                                 _id  \\\n",
       "0                   https://geektimes.ru/post/21866/   \n",
       "1  https://habrahabr.ru/company/aladdinrd/blog/30...   \n",
       "2                   https://geektimes.ru/post/92887/   \n",
       "3                  https://habrahabr.ru/post/290824/   \n",
       "4                  https://habrahabr.ru/post/190088/   \n",
       "\n",
       "                       date  \\\n",
       "0  2008-03-17T18:55:00.000Z   \n",
       "1  2016-06-24T13:02:00.000Z   \n",
       "2  2010-05-06T10:00:00.000Z   \n",
       "3  2015-05-22T11:01:00.000Z   \n",
       "4  2014-09-04T00:32:00.000Z   \n",
       "\n",
       "                                                tags  \\\n",
       "0       ['eeepc', 'asus', 'ЭТО', 'эльдорадо', 'ура']   \n",
       "1  ['Интеграция', 'шифрование', 'Windows', 'Win32...   \n",
       "2  ['mc', 'midnight commander', 'diffview', 'merg...   \n",
       "3          ['бизнес-модель', 'бизнес-моделирование']   \n",
       "4      ['python', 'flask', 'mongodb', 'pet-project']   \n",
       "\n",
       "                                               title  \\\n",
       "0                       eeePC в продаже. Да. Правда.   \n",
       "1  «Разрубить Гордиев узел» или преодоление пробл...   \n",
       "2           Релиз Midnight Commander 4.7.2 и 4.7.0.5   \n",
       "3     7 шагов для постройки правильной бизнес-модели   \n",
       "4       Thunderargs: практика использования. Часть 2   \n",
       "\n",
       "                   hubs_title  \\\n",
       "0                      Железо   \n",
       "1  Системное программирование   \n",
       "2                 Чёрная дыра   \n",
       "3          Интернет-маркетинг   \n",
       "4            Программирование   \n",
       "\n",
       "                                         description                 name  \\\n",
       "0  Итак, если 3 дня назад я отписался то что в пр...  Сергей 'pokatusher'   \n",
       "1  Современная операционная система это сложный и...         Аладдин Р.Д.   \n",
       "2  Спустя 2 месяца упорных трудов вышла новая вер...        Илья Маслаков   \n",
       "3  Большинство IT предпринимателей сосредотачиваю...            Александр   \n",
       "4  История создания Часть 1  Добрый день. Вкратце...        Данияр Супиев   \n",
       "\n",
       "                      hub                                                png  \\\n",
       "0            hub/hardware  https://habrastorage.org/getpro/habr/olpicture...   \n",
       "1  hub/system_programming  https://habrastorage.org/files/cbd/cf9/5ff/cbd...   \n",
       "2              hub/closet               https://geektimes.ru/images/logo.png   \n",
       "3   hub/internetmarketing  https://habrastorage.org/files/50e/211/9a0/50e...   \n",
       "4         hub/programming               https://habrahabr.ru/i/habralogo.jpg   \n",
       "\n",
       "            nick                                      url  \\\n",
       "0         @M_org         https://geektimes.ru/users/M_org   \n",
       "1            NaN   https://habrahabr.ru/company/aladdinrd   \n",
       "2         @smind         https://geektimes.ru/users/smind   \n",
       "3    @jasiejames    https://habrahabr.ru/users/jasiejames   \n",
       "4  @uthunderbird  https://habrahabr.ru/users/uthunderbird   \n",
       "\n",
       "                                             content  favs_lognorm  \n",
       "0  Итак, если 3 дня назад я <a href=\"http://habra...      2.484907  \n",
       "1  Современная операционная система это сложный и...      4.174387  \n",
       "2  Спустя 2 месяца упорных трудов вышла новая вер...      0.000000  \n",
       "3  <img src=\"https://habrastorage.org/files/50e/2...      3.496508  \n",
       "4  <a href=\"http://habrahabr.ru/post/223041/\">Ист...      3.688879  "
      ]
     },
     "execution_count": 41,
     "metadata": {},
     "output_type": "execute_result"
    }
   ],
   "source": [
    "import pandas as pd\n",
    "df = pd.read_csv('train_content.csv')\n",
    "print(df.shape)\n",
    "df.head()"
   ]
  },
  {
   "cell_type": "code",
   "execution_count": 59,
   "metadata": {},
   "outputs": [],
   "source": [
    "df = df[(df.title.str.len() > 5)&(df.content.str.len() > 5)]"
   ]
  },
  {
   "cell_type": "code",
   "execution_count": 154,
   "metadata": {},
   "outputs": [
    {
     "data": {
      "text/plain": [
       "9.080687163749312"
      ]
     },
     "execution_count": 154,
     "metadata": {},
     "output_type": "execute_result"
    }
   ],
   "source": [
    "df.favs_lognorm.max()"
   ]
  },
  {
   "cell_type": "code",
   "execution_count": 61,
   "metadata": {},
   "outputs": [
    {
     "data": {
      "image/png": "[encoded data removed]",
      "text/plain": [
       "<Figure size 432x288 with 1 Axes>"
      ]
     },
     "metadata": {
      "needs_background": "light"
     },
     "output_type": "display_data"
    }
   ],
   "source": [
    "df.favs_lognorm.hist();"
   ]
  },
  {
   "cell_type": "code",
   "execution_count": 64,
   "metadata": {},
   "outputs": [
    {
     "name": "stderr",
     "output_type": "stream",
     "text": [
      "/usr/local/lib/python3.6/site-packages/ipykernel_launcher.py:1: FutureWarning: The 'get_values' method is deprecated and will be removed in a future version. Use '.to_numpy()' or '.array' instead.\n",
      "  \"\"\"Entry point for launching an IPython kernel.\n",
      "/usr/local/lib/python3.6/site-packages/ipykernel_launcher.py:2: FutureWarning: The 'get_values' method is deprecated and will be removed in a future version. Use '.to_numpy()' or '.array' instead.\n",
      "  \n",
      "/usr/local/lib/python3.6/site-packages/ipykernel_launcher.py:4: FutureWarning: The 'get_values' method is deprecated and will be removed in a future version. Use '.to_numpy()' or '.array' instead.\n",
      "  after removing the cwd from sys.path.\n"
     ]
    }
   ],
   "source": [
    "t = df.title.get_values()\n",
    "c = df.content.get_values()\n",
    "\n",
    "y = df.favs_lognorm.get_values()"
   ]
  },
  {
   "cell_type": "code",
   "execution_count": 71,
   "metadata": {},
   "outputs": [
    {
     "data": {
      "text/plain": [
       "'Как бесплатно отправлять push оповещение на iphone из своего скрипта c помощью Boxcar 2'"
      ]
     },
     "execution_count": 71,
     "metadata": {},
     "output_type": "execute_result"
    }
   ],
   "source": [
    "t[130]"
   ]
  },
  {
   "cell_type": "code",
   "execution_count": 86,
   "metadata": {},
   "outputs": [],
   "source": [
    "import re\n",
    "from nltk.tokenize import RegexpTokenizer\n",
    "tokenizer = RegexpTokenizer(r'\\w+')\n",
    "\n",
    "def prepare_text(text, limit):\n",
    "    text = re.sub('[^а-яa-z]', ' ', text.lower())\n",
    "    clear_text = tokenizer.tokenize(text)\n",
    "    clear_text = [word2indx.get(item,1) for item in clear_text]   \n",
    "    if len(clear_text) < limit:\n",
    "        clear_text += [0]*(limit - len(clear_text))\n",
    "        \n",
    "    return clear_text[:limit]\n",
    "    "
   ]
  },
  {
   "cell_type": "code",
   "execution_count": 91,
   "metadata": {},
   "outputs": [
    {
     "data": {
      "text/plain": [
       "[8350, 1, 1, 78285, 1, 1, 579, 11118, 3680, 8413, 10, 0, 0, 0, 0]"
      ]
     },
     "execution_count": 91,
     "metadata": {},
     "output_type": "execute_result"
    }
   ],
   "source": [
    "prepare_text(t[30],15)"
   ]
  },
  {
   "cell_type": "code",
   "execution_count": 95,
   "metadata": {},
   "outputs": [
    {
     "name": "stdout",
     "output_type": "stream",
     "text": [
      "CPU times: user 1.07 s, sys: 48.8 ms, total: 1.12 s\n",
      "Wall time: 1.19 s\n"
     ]
    }
   ],
   "source": [
    "%%time\n",
    "CONTENT_LEN = 400\n",
    "TITLE_LEN = 10\n",
    "\n",
    "X_title = [prepare_text(text, TITLE_LEN) for text in t[:1000]]\n",
    "X_content = [prepare_text(text, CONTENT_LEN) for text in c[:1000]]\n",
    "y = y[:1000]"
   ]
  },
  {
   "cell_type": "code",
   "execution_count": 100,
   "metadata": {},
   "outputs": [],
   "source": [
    "from sklearn.model_selection import train_test_split\n",
    "\n",
    "X_ttrain, X_ttest, X_ctrain, X_ctest, \\\n",
    "    y_train, y_test = train_test_split(X_title, X_content, y,\n",
    "                                       test_size = 0.2, random_state=42)"
   ]
  },
  {
   "cell_type": "code",
   "execution_count": 176,
   "metadata": {},
   "outputs": [],
   "source": [
    "def batch_generator(X1, X2, y, batch_size):\n",
    "    max_range = y.size//batch_size \n",
    "    for i in range(max_range):\n",
    "        yield X1[i*batch_size: min(y.size, (i+1)*batch_size)], \\\n",
    "              X2[i*batch_size: min(y.size, (i+1)*batch_size)], \\\n",
    "               y[i*batch_size: min(y.size, (i+1)*batch_size)]"
   ]
  },
  {
   "cell_type": "markdown",
   "metadata": {},
   "source": [
    "# Архитектура"
   ]
  },
  {
   "cell_type": "code",
   "execution_count": 114,
   "metadata": {},
   "outputs": [
    {
     "data": {
      "text/plain": [
       "'1.14.0'"
      ]
     },
     "execution_count": 114,
     "metadata": {},
     "output_type": "execute_result"
    }
   ],
   "source": [
    "import tensorflow as tf\n",
    "tf.__version__"
   ]
  },
  {
   "cell_type": "code",
   "execution_count": 123,
   "metadata": {},
   "outputs": [
    {
     "data": {
      "text/plain": [
       "(<tf.Tensor 'title_7:0' shape=(?, 10) dtype=int64>,\n",
       " <tf.Tensor 'content_6:0' shape=(?, 400) dtype=int64>,\n",
       " <tf.Tensor 'target:0' shape=(?,) dtype=float32>)"
      ]
     },
     "execution_count": 123,
     "metadata": {},
     "output_type": "execute_result"
    }
   ],
   "source": [
    "title = tf.placeholder(name='title', shape=[None, TITLE_LEN], \\\n",
    "                          dtype=tf.int64)\n",
    "\n",
    "content = tf.placeholder(name='content', shape=[None, CONTENT_LEN], \\\n",
    "                          dtype=tf.int64)\n",
    "\n",
    "target = tf.placeholder(name='target', shape=[None], \\\n",
    "                          dtype=tf.float32)\n",
    "\n",
    "title, content, target"
   ]
  },
  {
   "cell_type": "code",
   "execution_count": 209,
   "metadata": {},
   "outputs": [],
   "source": [
    "import keras\n",
    "import keras.backend as K\n",
    "\n",
    "def reset_tf_session():\n",
    "    curr_session = tf.get_default_session()\n",
    "    \n",
    "    # close current session\n",
    "    if curr_session is not None:\n",
    "        curr_session.close()\n",
    "        \n",
    "    # reset graph\n",
    "    K.clear_session()\n",
    "    \n",
    "    # create new session\n",
    "    config = tf.ConfigProto()\n",
    "    config.gpu_options.allow_growth = True\n",
    "    s = tf.InteractiveSession(config=config)\n",
    "    K.set_session(s)\n",
    "    return s\n",
    "\n",
    "s = reset_tf_session()"
   ]
  },
  {
   "cell_type": "code",
   "execution_count": 128,
   "metadata": {},
   "outputs": [
    {
     "name": "stdout",
     "output_type": "stream",
     "text": [
      "(207790, 300)\n"
     ]
    }
   ],
   "source": [
    "# подгрузили эмбединги\n",
    "word_embeddings_pretrained = np.load(\"embedings.npy\")\n",
    "\n",
    "word_embeddings_placeholder = tf.placeholder(tf.float32, \\\n",
    "                            shape=word_embeddings_pretrained.shape)\n",
    "\n",
    "word_embeddings = tf.Variable(word_embeddings_placeholder,\n",
    "                              name=\"word_embeddings\",\n",
    "                              trainable=False)\n",
    "\n",
    "# инициализируем эмбединги нашими векторами\n",
    "s.run(tf.variables_initializer([word_embeddings]),\n",
    "feed_dict={word_embeddings_placeholder: word_embeddings_pretrained})\n",
    "\n",
    "print(word_embeddings_pretrained.shape)"
   ]
  },
  {
   "cell_type": "code",
   "execution_count": 134,
   "metadata": {},
   "outputs": [
    {
     "data": {
      "text/plain": [
       "(<tf.Tensor 'Mean_5:0' shape=(?, 300) dtype=float32>,\n",
       " <tf.Tensor 'Mean_6:0' shape=(?, 300) dtype=float32>)"
      ]
     },
     "execution_count": 134,
     "metadata": {},
     "output_type": "execute_result"
    }
   ],
   "source": [
    "title_emb = tf.nn.embedding_lookup(word_embeddings, title)\n",
    "content_emb = tf.nn.embedding_lookup(word_embeddings, content)\n",
    "\n",
    "title_emb = tf.reduce_mean(title_emb, axis=1)\n",
    "content_emb = tf.reduce_mean(content_emb, axis=1)\n",
    "\n",
    "title_emb, content_emb"
   ]
  },
  {
   "cell_type": "code",
   "execution_count": 138,
   "metadata": {},
   "outputs": [
    {
     "data": {
      "text/plain": [
       "<tf.Tensor 'concat_2:0' shape=(?, 600) dtype=float32>"
      ]
     },
     "execution_count": 138,
     "metadata": {},
     "output_type": "execute_result"
    }
   ],
   "source": [
    "emb = tf.concat([title_emb, content_emb], axis=1)\n",
    "emb"
   ]
  },
  {
   "cell_type": "code",
   "execution_count": 140,
   "metadata": {},
   "outputs": [],
   "source": [
    "fc_layer_1 = tf.layers.Dense(32, activation=tf.nn.elu)\n",
    "fc_layer_2 = tf.layers.Dense(16, activation=tf.nn.elu)"
   ]
  },
  {
   "cell_type": "code",
   "execution_count": 142,
   "metadata": {},
   "outputs": [
    {
     "name": "stderr",
     "output_type": "stream",
     "text": [
      "W0815 20:20:46.862153 140736525820864 deprecation.py:506] From /usr/local/lib/python3.6/site-packages/tensorflow/python/ops/init_ops.py:1251: calling VarianceScaling.__init__ (from tensorflow.python.ops.init_ops) with dtype is deprecated and will be removed in a future version.\n",
      "Instructions for updating:\n",
      "Call initializer instance with the dtype argument instead of passing it to the constructor\n"
     ]
    },
    {
     "data": {
      "text/plain": [
       "<tf.Tensor 'dense/Elu:0' shape=(?, 32) dtype=float32>"
      ]
     },
     "execution_count": 142,
     "metadata": {},
     "output_type": "execute_result"
    }
   ],
   "source": [
    "emb = fc_layer_1(emb)\n",
    "emb"
   ]
  },
  {
   "cell_type": "code",
   "execution_count": 143,
   "metadata": {},
   "outputs": [
    {
     "data": {
      "text/plain": [
       "<tf.Tensor 'dense_1/Elu:0' shape=(?, 16) dtype=float32>"
      ]
     },
     "execution_count": 143,
     "metadata": {},
     "output_type": "execute_result"
    }
   ],
   "source": [
    "emb = fc_layer_2(emb)\n",
    "emb"
   ]
  },
  {
   "cell_type": "code",
   "execution_count": 145,
   "metadata": {},
   "outputs": [
    {
     "data": {
      "text/plain": [
       "<tf.Tensor 'dense_2/BiasAdd:0' shape=(?, 1) dtype=float32>"
      ]
     },
     "execution_count": 145,
     "metadata": {},
     "output_type": "execute_result"
    }
   ],
   "source": [
    "pre_output_layer = tf.layers.Dense(1)\n",
    "pre_output = pre_output_layer(emb)\n",
    "pre_output"
   ]
  },
  {
   "cell_type": "code",
   "execution_count": 156,
   "metadata": {},
   "outputs": [
    {
     "data": {
      "text/plain": [
       "<tf.Tensor 'Mul:0' shape=(?, 1) dtype=float32>"
      ]
     },
     "execution_count": 156,
     "metadata": {},
     "output_type": "execute_result"
    }
   ],
   "source": [
    "output_layer = tf.multiply(tf.sigmoid(pre_output),10)\n",
    "output_layer"
   ]
  },
  {
   "cell_type": "code",
   "execution_count": 149,
   "metadata": {},
   "outputs": [
    {
     "data": {
      "text/plain": [
       "[<tf.Variable 'dense/kernel:0' shape=(600, 32) dtype=float32_ref>,\n",
       " <tf.Variable 'dense/bias:0' shape=(32,) dtype=float32_ref>,\n",
       " <tf.Variable 'dense_1/kernel:0' shape=(32, 16) dtype=float32_ref>,\n",
       " <tf.Variable 'dense_1/bias:0' shape=(16,) dtype=float32_ref>,\n",
       " <tf.Variable 'dense_2/kernel:0' shape=(16, 1) dtype=float32_ref>,\n",
       " <tf.Variable 'dense_2/bias:0' shape=(1,) dtype=float32_ref>]"
      ]
     },
     "execution_count": 149,
     "metadata": {},
     "output_type": "execute_result"
    }
   ],
   "source": [
    "result = []\n",
    "for layer in [fc_layer_1, fc_layer_2, pre_output_layer]:\n",
    "    result.extend(layer.trainable_variables)\n",
    "\n",
    "result"
   ]
  },
  {
   "cell_type": "code",
   "execution_count": 150,
   "metadata": {},
   "outputs": [],
   "source": [
    "s.run(tf.variables_initializer(result))"
   ]
  },
  {
   "cell_type": "code",
   "execution_count": 152,
   "metadata": {},
   "outputs": [
    {
     "data": {
      "text/plain": [
       "[[1, 1948, 1, 32322, 898, 1, 1, 1, 0, 0]]"
      ]
     },
     "execution_count": 152,
     "metadata": {},
     "output_type": "execute_result"
    }
   ],
   "source": [
    "ex_t = X_ttrain[0:1]\n",
    "ex_c = X_ctrain[0:1]\n",
    "\n",
    "ex_t"
   ]
  },
  {
   "cell_type": "code",
   "execution_count": 157,
   "metadata": {},
   "outputs": [
    {
     "data": {
      "text/plain": [
       "array([[-0.00292445]], dtype=float32)"
      ]
     },
     "execution_count": 157,
     "metadata": {},
     "output_type": "execute_result"
    }
   ],
   "source": [
    "pre_output.eval({title: ex_t, content:ex_c})"
   ]
  },
  {
   "cell_type": "code",
   "execution_count": 158,
   "metadata": {},
   "outputs": [
    {
     "data": {
      "text/plain": [
       "array([[4.992689]], dtype=float32)"
      ]
     },
     "execution_count": 158,
     "metadata": {},
     "output_type": "execute_result"
    }
   ],
   "source": [
    "output_layer.eval({title: ex_t, content:ex_c})"
   ]
  },
  {
   "cell_type": "markdown",
   "metadata": {},
   "source": [
    "# Обучение"
   ]
  },
  {
   "cell_type": "code",
   "execution_count": 161,
   "metadata": {},
   "outputs": [
    {
     "data": {
      "text/plain": [
       "<tf.Tensor 'Mean_9:0' shape=() dtype=float32>"
      ]
     },
     "execution_count": 161,
     "metadata": {},
     "output_type": "execute_result"
    }
   ],
   "source": [
    "loss = tf.reduce_mean(tf.square(output_layer - target))\n",
    "loss"
   ]
  },
  {
   "cell_type": "code",
   "execution_count": 162,
   "metadata": {},
   "outputs": [
    {
     "data": {
      "text/plain": [
       "9.043919"
      ]
     },
     "execution_count": 162,
     "metadata": {},
     "output_type": "execute_result"
    }
   ],
   "source": [
    "loss.eval({title: ex_t, content:ex_c, target: [8]})"
   ]
  },
  {
   "cell_type": "code",
   "execution_count": 177,
   "metadata": {},
   "outputs": [],
   "source": [
    "optimizer = tf.train.AdamOptimizer(1e-3, name=\"adam\")\n",
    "step = optimizer.minimize(loss)\n",
    "s.run(tf.variables_initializer(optimizer.variables()))"
   ]
  },
  {
   "cell_type": "code",
   "execution_count": 207,
   "metadata": {},
   "outputs": [
    {
     "name": "stdout",
     "output_type": "stream",
     "text": [
      "train loss: 2.9512467\n",
      "test loss: 2.7649960740965787 \n",
      "\n",
      "train loss: 2.9510746\n",
      "test loss: 2.7651204940707133 \n",
      "\n",
      "train loss: 2.950904\n",
      "test loss: 2.7652417553137276 \n",
      "\n",
      "train loss: 2.9507356\n",
      "test loss: 2.765358585578183 \n",
      "\n",
      "train loss: 2.9505696\n",
      "test loss: 2.7654707412426673 \n",
      "\n"
     ]
    }
   ],
   "source": [
    "from sklearn.metrics import mean_squared_error, mean_absolute_error\n",
    "\n",
    "EPOCHS = 5\n",
    "BATCH_SIZE = 100\n",
    "\n",
    "for i in range(EPOCHS):\n",
    "    \n",
    "    batch_losses = [ ]\n",
    "    \n",
    "    train_batch_gen =batch_generator(X_ttrain, X_ctrain,\\\n",
    "                                     y_train, BATCH_SIZE)\n",
    "\n",
    "    test_batch_gen =batch_generator(X_ttest, X_ctest,\\\n",
    "                                     y_test, BATCH_SIZE)\n",
    "\n",
    "    for X1,X2,y1 in train_batch_gen:\n",
    "        \n",
    "        s.run(step, feed_dict={title: X1, \n",
    "                               content: X2, \n",
    "                               target: y1})\n",
    "        \n",
    "        batch_loss = s.run(loss, feed_dict={title: X1, \n",
    "                                            content: X2, \n",
    "                                            target: y1})\n",
    "        batch_losses.append(batch_loss)\n",
    "        \n",
    "    # тесовая выборка \n",
    "    y_predict = s.run(output_layer, feed_dict={title: X_ttest, \n",
    "                                              content: X_ctest})\n",
    "        \n",
    "        \n",
    "    y_predict = np.array(y_predict).T[0]\n",
    "    print('train loss:', np.mean(batch_losses))\n",
    "    print('test loss:', mean_squared_error(y_test, y_predict), '\\n')"
   ]
  },
  {
   "cell_type": "code",
   "execution_count": 202,
   "metadata": {},
   "outputs": [
    {
     "data": {
      "text/plain": [
       "array([[2.8922563],\n",
       "       [2.688756 ],\n",
       "       [2.9825091],\n",
       "       [2.9770713],\n",
       "       [2.7896304]], dtype=float32)"
      ]
     },
     "execution_count": 202,
     "metadata": {},
     "output_type": "execute_result"
    }
   ],
   "source": [
    "y_predict[:5]"
   ]
  },
  {
   "cell_type": "code",
   "execution_count": 200,
   "metadata": {},
   "outputs": [
    {
     "data": {
      "text/plain": [
       "array([3.04452244, 1.60943791, 4.26267988, 0.        , 3.21887582])"
      ]
     },
     "execution_count": 200,
     "metadata": {},
     "output_type": "execute_result"
    }
   ],
   "source": [
    "y_test[:5]"
   ]
  },
  {
   "cell_type": "code",
   "execution_count": 1,
   "metadata": {},
   "outputs": [],
   "source": [
    "import numpy as np"
   ]
  },
  {
   "cell_type": "code",
   "execution_count": 4,
   "metadata": {},
   "outputs": [
    {
     "data": {
      "text/plain": [
       "0.2689414213699951"
      ]
     },
     "execution_count": 4,
     "metadata": {},
     "output_type": "execute_result"
    }
   ],
   "source": [
    "1/(1 + np.exp(1))"
   ]
  },
  {
   "cell_type": "code",
   "execution_count": null,
   "metadata": {},
   "outputs": [],
   "source": []
  }
 ],
 "metadata": {
  "kernelspec": {
   "display_name": "Python 3",
   "language": "python",
   "name": "python3"
  },
  "language_info": {
   "codemirror_mode": {
    "name": "ipython",
    "version": 3
   },
   "file_extension": ".py",
   "mimetype": "text/x-python",
   "name": "python",
   "nbconvert_exporter": "python",
   "pygments_lexer": "ipython3",
   "version": "3.7.2"
  }
 },
 "nbformat": 4,
 "nbformat_minor": 2
}

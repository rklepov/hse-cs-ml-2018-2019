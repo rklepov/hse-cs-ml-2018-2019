{
  "nbformat": 4,
  "nbformat_minor": 0,
  "metadata": {
    "colab": {
      "name": "САД NLP 4 | ngrams nltk.ipynb",
      "provenance": [],
      "include_colab_link": true
    },
    "kernelspec": {
      "name": "python3",
      "display_name": "Python 3"
    }
  },
  "cells": [
    {
      "cell_type": "markdown",
      "metadata": {
        "id": "view-in-github",
        "colab_type": "text"
      },
      "source": [
        "<a href=\"https://colab.research.google.com/github/oserikov/data-science-nlp/blob/master/4_ngrams_nltk.ipynb\" target=\"_parent\"><img src=\"https://colab.research.google.com/assets/colab-badge.svg\" alt=\"Open In Colab\"/></a>"
      ]
    },
    {
      "cell_type": "code",
      "metadata": {
        "id": "D5ma0Q015Jpx",
        "colab_type": "code",
        "outputId": "595408ce-2f20-4ac9-c0db-e8fa4b7fd91a",
        "colab": {
          "base_uri": "https://localhost:8080/",
          "height": 212
        }
      },
      "source": [
        "!wget https://raw.githubusercontent.com/oserikov/nn_harmony_np/master/data/tur_apertium_words.txt"
      ],
      "execution_count": 0,
      "outputs": [
        {
          "output_type": "stream",
          "text": [
            "--2019-10-31 12:58:27--  https://raw.githubusercontent.com/oserikov/nn_harmony_np/master/data/tur_apertium_words.txt\n",
            "Resolving raw.githubusercontent.com (raw.githubusercontent.com)... 151.101.0.133, 151.101.64.133, 151.101.128.133, ...\n",
            "Connecting to raw.githubusercontent.com (raw.githubusercontent.com)|151.101.0.133|:443... connected.\n",
            "HTTP request sent, awaiting response... 200 OK\n",
            "Length: 13511 (13K) [text/plain]\n",
            "Saving to: ‘tur_apertium_words.txt’\n",
            "\n",
            "\rtur_apertium_words.   0%[                    ]       0  --.-KB/s               \rtur_apertium_words. 100%[===================>]  13.19K  --.-KB/s    in 0.004s  \n",
            "\n",
            "2019-10-31 12:58:28 (3.59 MB/s) - ‘tur_apertium_words.txt’ saved [13511/13511]\n",
            "\n"
          ],
          "name": "stdout"
        }
      ]
    },
    {
      "cell_type": "markdown",
      "metadata": {
        "id": "C3aIr6rh5hJP",
        "colab_type": "text"
      },
      "source": [
        "Вероятностные распределения в NLTK: https://www.nltk.org/_modules/nltk/probability.html"
      ]
    },
    {
      "cell_type": "code",
      "metadata": {
        "id": "OuExirA55RB-",
        "colab_type": "code",
        "outputId": "fe7345d0-d5dd-4c1b-f74a-67ec72167efc",
        "colab": {
          "base_uri": "https://localhost:8080/",
          "height": 195
        }
      },
      "source": [
        "from nltk import FreqDist, ConditionalFreqDist, ConditionalProbDist, MLEProbDist\n",
        "from nltk import bigrams, trigrams\n",
        "\n",
        "pad = '_'\n",
        "\n",
        "with open('tur_apertium_words.txt', 'r', encoding='utf-8') as f:\n",
        "    data = f.readlines()\n",
        "names = [pad+name.strip().lower()+pad for name in data]\n",
        "names[:10]"
      ],
      "execution_count": 0,
      "outputs": [
        {
          "output_type": "execute_result",
          "data": {
            "text/plain": [
              "['_merkezleştir_',\n",
              " '_adlandırıl_',\n",
              " '_sabitleş_',\n",
              " '_cisimlen_',\n",
              " '_görüş_',\n",
              " '_kaynatıl_',\n",
              " '_fiyatlandır_',\n",
              " '_gözet_',\n",
              " '_kamulaş_',\n",
              " '_kamulaştır_']"
            ]
          },
          "metadata": {
            "tags": []
          },
          "execution_count": 2
        }
      ]
    },
    {
      "cell_type": "code",
      "metadata": {
        "id": "azoT4k4j5V3W",
        "colab_type": "code",
        "outputId": "7346013e-3263-4f40-d604-3810291ba2a1",
        "colab": {
          "base_uri": "https://localhost:8080/",
          "height": 55
        }
      },
      "source": [
        "chars = [char for name in names for char in name]\n",
        "freq = FreqDist(chars)\n",
        "\n",
        "print(list(freq.values()))"
      ],
      "execution_count": 0,
      "outputs": [
        {
          "output_type": "stream",
          "text": [
            "[3524, 165, 964, 740, 476, 153, 1180, 390, 598, 499, 1368, 351, 526, 458, 338, 165, 38, 146, 119, 233, 303, 54, 284, 85, 121, 118, 139, 198, 100, 1]\n"
          ],
          "name": "stdout"
        }
      ]
    },
    {
      "cell_type": "code",
      "metadata": {
        "id": "iUpENh4-5XTu",
        "colab_type": "code",
        "colab": {}
      },
      "source": [
        "\n",
        "cfreq = ConditionalFreqDist(bigrams(chars))\n",
        "print(cfreq['a'])"
      ],
      "execution_count": 0,
      "outputs": []
    },
    {
      "cell_type": "code",
      "metadata": {
        "id": "JiCKnj-O5Y3O",
        "colab_type": "code",
        "outputId": "0f31d7b4-d0e0-4ba9-b360-65a42583621c",
        "colab": {
          "base_uri": "https://localhost:8080/",
          "height": 70
        }
      },
      "source": [
        "\n",
        "cprob = ConditionalProbDist(cfreq, MLEProbDist)\n",
        "print('p(a|_) = %1.4f' %cprob['a'].prob('_'))\n",
        "print('p(r|_) = %1.4f' %cprob['r'].prob('_'))\n",
        "print('p(s|_) = %1.4f' %cprob['s'].prob('_'))"
      ],
      "execution_count": 0,
      "outputs": [
        {
          "output_type": "stream",
          "text": [
            "p(a|_) = 0.2332\n",
            "p(r|_) = 0.4068\n",
            "p(s|_) = 0.0444\n"
          ],
          "name": "stdout"
        }
      ]
    },
    {
      "cell_type": "code",
      "metadata": {
        "id": "FMj42pnE5aeG",
        "colab_type": "code",
        "outputId": "99a2b218-fdb6-4b47-b11d-e589811a1f9d",
        "colab": {
          "base_uri": "https://localhost:8080/",
          "height": 35
        }
      },
      "source": [
        "l = sum([freq[char] for char in freq])\n",
        "\n",
        "def unigram_prob(char):\n",
        "    return freq[char] / l\n",
        "\n",
        "print('p(a) = %1.4f' %unigram_prob('a'))"
      ],
      "execution_count": 0,
      "outputs": [
        {
          "output_type": "stream",
          "text": [
            "p(a) = 0.0989\n"
          ],
          "name": "stdout"
        }
      ]
    },
    {
      "cell_type": "markdown",
      "metadata": {
        "id": "aGMfaY4L5dRo",
        "colab_type": "text"
      },
      "source": [
        "Можно порождать случайные символы с учётом предыдущих"
      ]
    },
    {
      "cell_type": "code",
      "metadata": {
        "id": "9pyun2WG5b24",
        "colab_type": "code",
        "outputId": "f34cec88-52a9-417c-bfca-3e259575e014",
        "colab": {
          "base_uri": "https://localhost:8080/",
          "height": 35
        }
      },
      "source": [
        "cprob['u'].generate()"
      ],
      "execution_count": 0,
      "outputs": [
        {
          "output_type": "execute_result",
          "data": {
            "text/plain": [
              "'ş'"
            ]
          },
          "metadata": {
            "tags": []
          },
          "execution_count": 7
        }
      ]
    }
  ]
}

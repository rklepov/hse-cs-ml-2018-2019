{
 "cells": [
  {
   "cell_type": "code",
   "execution_count": 1,
   "metadata": {
    "colab": {
     "base_uri": "https://localhost:8080/",
     "height": 111,
     "resources": {
      "http://localhost:8080/nbextensions/google.colab/files.js": {
       "data": "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",
       "headers": [
        [
         "content-type",
         "application/javascript"
        ]
       ],
       "ok": true,
       "status": 200,
       "status_text": "OK"
      }
     }
    },
    "colab_type": "code",
    "id": "Xv3D6VLdY8WB",
    "outputId": "3d981df0-d29f-4652-8616-7a0c5bf352c5"
   },
   "outputs": [],
   "source": [
    "import os\n",
    "import pandas as pd\n",
    "import numpy as np"
   ]
  },
  {
   "cell_type": "markdown",
   "metadata": {
    "colab_type": "text",
    "id": "SrLxFLUlYvVL"
   },
   "source": [
    "# SENNA\n",
    "\n",
    "**SENNA** *(Semantic/Syntactic Extraction using a Neural Network Architecture)* – архитектура нейронной сети, позволяющая достигнуть state-of-the-art результатов в нескольких задачах обработки текстов. \n",
    "\n",
    "* POS (part-of-speech tagging)\n",
    "* CHK (chunking)\n",
    "* NER (named entity recognition)\n",
    "* SRL (semantic role labeling)\n",
    "\n",
    "Предложен в статье [Natural Language Processing (almost) from Scratch](https://arxiv.org/pdf/1103.0398.pdf) (R. Collobert, J.  Weston, L. Bottou, M. Karlen, K. Kavukcuoglu, P. Kuksa, 2011).\n",
    "\n",
    "Основное преимущество подхода (\"almost from scratch\") — не нужно генерировать фичи под каждую из задач, NN сама выучивает \"внутренние представления\" (~ эмбеддинги). При желании можно добавить фичи самостоятельно.\n",
    "\n",
    "## Архитектура\n",
    "\n",
    "SENNA — многослойная сеть прямого распространения. Как и любую такую сеть, ее можно представить в виде комбинации функций, каждая из которых соответствует какому-либо слою.\n",
    "\n",
    "$$f_\\theta(\\cdot) = f_\\theta^L(f_\\theta^{L-1}(\\dots f_\\theta^1(\\cdot)\\dots)) $$\n",
    "\n",
    "### Window-approach \n",
    "\n",
    "<img src=\"img/senna1.png\" align=\"left\">\n"
   ]
  },
  {
   "cell_type": "markdown",
   "metadata": {
    "colab_type": "text",
    "id": "-4nuvMEjlVmc"
   },
   "source": [
    "1. Первый слой — Lookup Table, $LT_W(\\cdot)$\n",
    "\n",
    "  * $LT_W(w) = \\langle W_w^1\\rangle$\n",
    "  * Слова кодируются индексами из словаря $D$ с помощью one-hot encoding\n",
    "  * $d_{wrd}$ — размер вектора, соответствующего слову (гиперпараметр)\n",
    "  * $d_{win}$ — размер окна (гиперпараметр). В данном подходе всегда используется нечетное число.\n",
    "  * По краям предложения добавляются символы padding с обеих сторон в количестве $(d_{win} - 1)/2$\n",
    "  * Для незнакомых слов также вводится специальный символ\n",
    "  * $W$ — матрица параметров, которые должна выучить сеть, $W \\in \\mathbb{R}^{d_{wrd}\\times|D|}$\n",
    "  * $\\langle W_w^1\\rangle \\in \\mathbb{R}^{d_{wrd}}$ — W-тый столбец матрицы W\n",
    "  * $T$ — количество слов в последовательности\n",
    "  * Выход слоя $LT_W(\\cdot)$ — матрица:  \n",
    "  $LT_W([w_1^T]) = \\left( \\langle W^1_{[w]_1}\\rangle \\langle W^1_{[w]_2}\\rangle \\dots \\langle W^1_{[w]_T}\\rangle \\right)$\n",
    "  * Т.е. эмбеддинги слов из окна конкатенируются, и это подается на вход следующему слою. Размер  матрицы, которую выдет lookup table — $d_{wrd} \\times d_{win}$\n",
    "  * Если мы добавляем какие-то фичи — результатом будет конкатенация выходов lookup table для каждой\n",
    "  \n",
    "  \n",
    "  2. Второй слой — линейная функция\n",
    "  \n",
    "    * $f_\\theta^l = W^lf^{l-1}_\\theta + b^l$\n",
    "    * Параметры: $W^l \\in \\mathbb{R}^{n^l_{hu} \\times n^{l-1}_{hu}}$ и $b \\in \\mathbb{R}^{n^l_{hu}}$\n",
    "    * $n^l_{hu}$ — гиперпараметр, количество нейронов (hidden units) на $l$-ом слое\n",
    "    \n",
    "3. Скрытый слой. Нелинейная функция активации — гиперболический тангенс\n",
    "   *  $\\left[ f^l_\\theta \\right]_i = HardTanh \\left( \\left[ f^{l-1}_\\theta \\right]_i\\right)$\n",
    "   \n",
    "  \n",
    "4. Выходной слой — SoftMax\n",
    " \n",
    "   *  Размер выходного слоя $L =$ количеству возможных меток (например, POS-тегов)\n",
    "   *  Каждый output — это оценка (score) соответствующего тега  \n",
    " \n",
    " \n",
    "## Sentence Approach\n",
    "\n",
    "<img src=\"img/senna.png\" align=\"left\">"
   ]
  },
  {
   "cell_type": "markdown",
   "metadata": {
    "colab_type": "text",
    "id": "aMABXNPDVizV"
   },
   "source": [
    "Лучше работает для задачи маркирования семантических ролей, т.к. предикат может быть далеко от своего аргумента и не попасть в окно.\n",
    "\n",
    "1. Lookup Table\n",
    "2. Сверточный слой — извлекает локальный контекст для каждого слова\n",
    "3. Max Over Time по всему предложению — размерность выхода сверточного слоя зависит от размера предложения\n",
    "4. Дальше как раньше (линейная функция → нелинейная → линейная)\n",
    "\n",
    "\n",
    "## Word-level Log-likelihood\n",
    "\n",
    "$$ p(i|x, \\theta) = \\frac{exp^{f_\\theta(x)_i}}{\\sum_jexp^{f_\\theta(x)_j}}$$ \n",
    "$$ p(y|x, \\theta) = f_\\theta(x)_y - logadd_jf_\\theta(x)_j$$\n",
    "\n",
    "* $x$ — инпут\n",
    "* $\\theta$ — параметры модели\n",
    "* $i$ — номер тега\n",
    "* $f_\\theta(x)_i$ — оценка для i-того тега, которую выдала модель\n",
    "* Недостаток: не принимаем во внимание теги соседних слов. Для этого вводим дополнительный параметр transition score от i-того до j-того тега и считаем sentence-level log-likelihood (подробнее см. в статье).\n",
    "\n",
    "\n",
    "## Задача POS-tagging\n",
    "ставится как задача многоклассовой классификации: \n",
    "* $T$ — количество различных тегов частей речи (каждое слово $w$ относится к одному из $T$ классов)\n",
    "* для каждого слова из train формируется вектор признаков \n",
    "* NN обучается по всем векторам признаков каждого слова из train \n",
    "\n",
    "### Подход к решению \n",
    "Window approach network, раздел 3.3.1 в статье.\n",
    "1. Каждое слово представляется эмбеддингом размерности $d$;\n",
    "2. Для каждого слова формируется окно длины $k$ из $(k-1)/2$ соседних слов слева от данного слова  и $(k-1)/2$ соседних слов справа от данного слова, $k$ – нечетное. (Если для слова невозможно найти соседние слова, используется padding.)\n",
    "3. Для каждого слова формируется вектор признаков, состоящий из конкатенированных эмбеддингов слов из левого окна, данного слова и слов из правого окна. Итоговая размерность вектора признаков – $d \\times k$. Этот вектор подается на вход нейронной сети;\n",
    "4. Обучается нейронная сеть, имеющая один скрытый слой с $n_h$ нейроннами и нелинейной функцией активации $\\theta$;\n",
    "5. На выходном слое нейронной сети решается задача классификации на |T| классов. \n"
   ]
  },
  {
   "cell_type": "markdown",
   "metadata": {
    "colab_type": "text",
    "id": "Zujtauw_YvVU"
   },
   "source": [
    "### Данные\n",
    "\n",
    "* [Предобученные эмбеддинги Facebook для русского](https://s3-us-west-1.amazonaws.com/fasttext-vectors/wiki.ru.vec) (а [вот тут](https://fasttext.cc/docs/en/pretrained-vectors.html) список всех, что есть)\n",
    "* [Данные](https://www.dropbox.com/s/n5pgf9nu50jvwra/unamb_sent_14_6.conllu) (морфологически и синтаксически размеченные предложения в формате conllu).\n",
    "\n",
    "**NB!** Можно просто перейти по ссылке и сохранить данные, а можно скачать так, как в примере ниже. Если у вас Windows, то нужно сначала скачать `wget` [вот отсюда](https://eternallybored.org/misc/wget/) и добавить путь к папке с этим фалом в `PATH`. "
   ]
  },
  {
   "cell_type": "code",
   "execution_count": 5,
   "metadata": {
    "colab": {
     "base_uri": "https://localhost:8080/",
     "height": 564
    },
    "colab_type": "code",
    "id": "5aTvsWE3YvVY",
    "outputId": "7204e5df-5bd7-4d59-f792-4a137fd0f625"
   },
   "outputs": [],
   "source": [
    "!wget https://www.dropbox.com/s/n5pgf9nu50jvwra/unamb_sent_14_6.conllu\n",
    "!wget https://dl.fbaipublicfiles.com/fasttext/vectors-wiki/wiki.ru.vec"
   ]
  },
  {
   "cell_type": "markdown",
   "metadata": {
    "colab_type": "text",
    "id": "JmZzaIk_YvVp"
   },
   "source": [
    "### 1. Составляем обучающую выборку \n",
    "\n",
    "- считываем выборку \n",
    "- делим на train, test по предложениям\n",
    "- каждое предложение внутри каждого из множества разделям на слова (оставляем структуру предложения в виде list, потому что нам потребуется контекст: слова слева и справа)"
   ]
  },
  {
   "cell_type": "code",
   "execution_count": 6,
   "metadata": {
    "colab": {},
    "colab_type": "code",
    "id": "YrMnxYl0YvVz"
   },
   "outputs": [],
   "source": [
    "path = 'data/unamb_sent_14_6.conllu'\n",
    "project_path = os.getcwd()"
   ]
  },
  {
   "cell_type": "markdown",
   "metadata": {},
   "source": [
    "`ConllCorpusReader` — инструмент для работы с корпусами в разметке conll."
   ]
  },
  {
   "cell_type": "code",
   "execution_count": 7,
   "metadata": {
    "colab": {},
    "colab_type": "code",
    "id": "8BIK-vynYvV8"
   },
   "outputs": [],
   "source": [
    "from nltk.corpus.reader import ConllCorpusReader\n",
    "\n",
    "pos_corpus = ConllCorpusReader(project_path, fileids = path, \n",
    "                               columntypes = ['ignore', 'words', 'ignore', 'pos', 'chunk'])\n",
    "sents = list(pos_corpus.iob_sents())"
   ]
  },
  {
   "cell_type": "code",
   "execution_count": 8,
   "metadata": {
    "colab": {},
    "colab_type": "code",
    "id": "ZKpHrazrYvWF"
   },
   "outputs": [],
   "source": [
    "pos_tags = set([pos for text in sents for word, pos, chunk in text])"
   ]
  },
  {
   "cell_type": "code",
   "execution_count": 10,
   "metadata": {
    "colab": {},
    "colab_type": "code",
    "id": "JrjzKs6-YvWL"
   },
   "outputs": [],
   "source": [
    "from sklearn.model_selection import train_test_split\n",
    "train, test = train_test_split(sents, test_size=0.25)\n",
    "sent_train = [[word[0].lower() for word in sent]for sent in train]\n",
    "label_train = [[word[1] for word in sent] for sent in train]\n",
    "sent_test = [[word[0].lower() for word in sent]for sent in test]\n",
    "label_test = [[word[1] for word in sent] for sent in test]"
   ]
  },
  {
   "cell_type": "markdown",
   "metadata": {
    "colab_type": "text",
    "id": "OonKpDl4YvWV"
   },
   "source": [
    "### 2. Считываем эмбеддинги\n",
    "\n",
    "Далее будем подавать эмбеддинги на вход Embedding layer в поле weights (матрица). Матрица train при этом должна быть integer-encoded (слову соответствует индекс), т.е. строка матрицы — контекст слова, для которого есть POS-метка. Каждому слову из окна соответствует один столбец.\n",
    "\n",
    "- Будем хранить не все эмбеддинги, а только для слов, которые встречаются в train и test: надо сохранить сами эмбеддинги в матрицу (word_embeddings), и запомнить соответствие «слово — индекс в матрице» (word_2_idx)\n",
    "- Будьте внимательны с кодировкой .de(en)code('utf-8')\n",
    "- Не забудем о PADDING, UNKNOWN (для некоторых слов не существует контекста, в этом случае эмбеддинг будет из нулей; для некоторых слов не найдется предобученного эмбеддинга, создадим для таких слов эмбеддинг np.random.uniform)"
   ]
  },
  {
   "cell_type": "code",
   "execution_count": 11,
   "metadata": {
    "colab": {},
    "colab_type": "code",
    "id": "H77gln46YvWZ"
   },
   "outputs": [],
   "source": [
    "# составляем словарь\n",
    "words = set()\n",
    "\n",
    "for sent_set in [sent_train, sent_test]:\n",
    "    for sentence in sent_set:\n",
    "        for token in sentence:\n",
    "            words.add(token.lower())"
   ]
  },
  {
   "cell_type": "code",
   "execution_count": 12,
   "metadata": {
    "colab": {
     "base_uri": "https://localhost:8080/",
     "height": 34
    },
    "colab_type": "code",
    "id": "Ms4FbSmuYvWk",
    "outputId": "c90527e8-7e49-4ee9-b7b7-0e3db7891b18"
   },
   "outputs": [
    {
     "name": "stderr",
     "output_type": "stream",
     "text": [
      "1888424it [01:41, 18653.39it/s]\n"
     ]
    }
   ],
   "source": [
    "# tqdm измеряет время выполнения цикла\n",
    "from tqdm import tqdm\n",
    "import numpy as np\n",
    "\n",
    "word_2_idx = {}\n",
    "word_embeddings = []\n",
    "with open('data/wiki.ru.vec', 'rb') as f :\n",
    "    for line in tqdm(f):\n",
    "        values = line.split()\n",
    "        if len(values) != 301:\n",
    "            continue\n",
    "            \n",
    "        if len(word_2_idx) == 0:\n",
    "            word_2_idx[\"padding\"] = len(word_2_idx)\n",
    "            vector = np.zeros(len(values)-1) \n",
    "            word_embeddings.append(vector)\n",
    "\n",
    "            word_2_idx[\"unknown\"] = len(word_2_idx)\n",
    "            vector = np.random.uniform(-0.25, 0.25, len(values)-1)\n",
    "            word_embeddings.append(vector)\n",
    "            values = line.split()\n",
    "            \n",
    "        if  values[0].lower().decode('utf-8') in words:\n",
    "            vector = np.asarray(values[1:], dtype='float32')\n",
    "            word_embeddings.append(vector)\n",
    "            word_2_idx[values[0].lower()] = len(word_2_idx)\n",
    "            \n",
    "            \n",
    "word_embeddings = np.array(word_embeddings)"
   ]
  },
  {
   "cell_type": "code",
   "execution_count": 13,
   "metadata": {
    "colab": {},
    "colab_type": "code",
    "id": "dipU6fVrYvW1",
    "outputId": "b4cd2694-d006-4e7f-a5a9-e72d81bb03f0"
   },
   "outputs": [
    {
     "data": {
      "text/plain": [
       "((70789, 300), 70789, 79791)"
      ]
     },
     "execution_count": 13,
     "metadata": {},
     "output_type": "execute_result"
    }
   ],
   "source": [
    "word_embeddings.shape, len(word_2_idx), len(words)"
   ]
  },
  {
   "cell_type": "markdown",
   "metadata": {
    "colab_type": "text",
    "id": "reI2maFJYvXE"
   },
   "source": [
    "### 3. Составляем train\n",
    "\n",
    "- Сформируем окно для каждого слова размера $k$\n",
    "- Закодируем каждое слово из контекста индексом, соответсвующим этому слову в матрице эмбеддингов\n",
    "- Не забываем про padding, unknown\n",
    "\n",
    "### 4. Составляем test\n",
    "- Кодируем каждый label индексом"
   ]
  },
  {
   "cell_type": "code",
   "execution_count": 14,
   "metadata": {
    "colab": {},
    "colab_type": "code",
    "id": "0S9kug56YvXG"
   },
   "outputs": [],
   "source": [
    "WINDOWSIZE = 5\n",
    "UNKNOWN_IDX = word_2_idx['unknown']\n",
    "PADDING_IDX = word_2_idx['padding']"
   ]
  },
  {
   "cell_type": "code",
   "execution_count": 15,
   "metadata": {
    "colab": {},
    "colab_type": "code",
    "id": "WwH24zRsYvXM"
   },
   "outputs": [],
   "source": [
    "def get_context(tgt_word_idx, sentence, windowsize):\n",
    "    context = []  \n",
    "    for word_position in range(tgt_word_idx - windowsize, tgt_word_idx + windowsize+1):\n",
    "        if word_position < 0 or word_position >= len(sentence):\n",
    "            context.append(\"padding\")\n",
    "            continue\n",
    "        word = sentence[word_position]\n",
    "        context.append(word)   \n",
    "    return context\n",
    "\n",
    "\n",
    "# сюда будем записывать не сами слова, а индекс эмбеддинга\n",
    "X_train = []\n",
    "\n",
    "for sentence in sent_train:\n",
    "    for tgt_word_idx in range(len(sentence)):\n",
    "        tgt_word_context = get_context(tgt_word_idx, sentence, WINDOWSIZE//2)\n",
    "        X_train.append([word_2_idx.get(word.encode('utf-8'), UNKNOWN_IDX) for word in tgt_word_context])\n",
    "\n",
    "        \n",
    "label_2_idx = {}\n",
    "for label in pos_tags:\n",
    "    label_2_idx[label] = len(label_2_idx)\n",
    "y_train = []\n",
    "for el in label_train:\n",
    "    y_train.extend([label_2_idx.get(label) for label in el])\n",
    "    \n",
    "X_train = np.array(X_train)\n",
    "y_train = np.array(y_train)"
   ]
  },
  {
   "cell_type": "markdown",
   "metadata": {
    "colab_type": "text",
    "id": "kMYPK1fqYvXU"
   },
   "source": [
    "### 5. Обучаем NN\n",
    "\n",
    "Задаем модель с помощью фреймворка `Keras`, который может работать на backend'e `tensorflow` или `theano`. У него отличная [документация](https://keras.io/).\n",
    "\n",
    "Вот что используется в нашей модели:\n",
    "* [Базовые слои](https://keras.io/layers/core/)\n",
    "    * Input — инициализируем тензор\n",
    "    * Dense — полносвязный слой\n",
    "    * Flatten — вытягивает матрицу в длинный вектор\n",
    "* В качестве входа самой сетке мы подаем эмбеддинги, это [Еmbedding layer](https://keras.io/layers/embeddings/)\n",
    "* [Функция потерь](https://keras.io/losses/) — категориальная кроссэнтропия\n",
    "* [Оптимизатор](https://keras.io/optimizers/) — Nesterov Adam Optimizer. Кстати, на хабре есть [очень хорошая статья](https://habr.com/ru/post/318970/) про методы оптимизации нейронных сетей).\n",
    "* [Функции активации](https://keras.io/activations/) для полносвязных слоев — softmax и гиперболический тангенс. "
   ]
  },
  {
   "cell_type": "code",
   "execution_count": 23,
   "metadata": {
    "colab": {
     "base_uri": "https://localhost:8080/",
     "height": 411
    },
    "colab_type": "code",
    "id": "HXTe0hFXYvXW",
    "outputId": "1cb6f7fa-66f0-4c7f-a533-740e5723121e"
   },
   "outputs": [
    {
     "name": "stdout",
     "output_type": "stream",
     "text": [
      "_________________________________________________________________\n",
      "Layer (type)                 Output Shape              Param #   \n",
      "=================================================================\n",
      "words_input (InputLayer)     (None, 5)                 0         \n",
      "_________________________________________________________________\n",
      "embedding_3 (Embedding)      (None, 5, 300)            21236700  \n",
      "_________________________________________________________________\n",
      "flatten_3 (Flatten)          (None, 1500)              0         \n",
      "_________________________________________________________________\n",
      "dense_5 (Dense)              (None, 64)                96064     \n",
      "_________________________________________________________________\n",
      "dense_6 (Dense)              (None, 14)                910       \n",
      "=================================================================\n",
      "Total params: 21,333,674\n",
      "Trainable params: 96,974\n",
      "Non-trainable params: 21,236,700\n",
      "_________________________________________________________________\n"
     ]
    }
   ],
   "source": [
    "from keras.models import Model, Sequential\n",
    "from keras.layers import Input, Dense, Dropout, Activation, Flatten\n",
    "from keras.layers import Embedding\n",
    "\n",
    "n_in = X_train.shape[1] # размер окна\n",
    "n_out = len(label_2_idx) # количество классов\n",
    "\n",
    "# trainable=False — используем готовые эмбеддинги, не дообучаем\n",
    "# каждый вход — окно из n слов\n",
    "words_input = Input(shape=(n_in,), dtype='int32', name='words_input') \n",
    "\n",
    "words = Embedding(input_dim=word_embeddings.shape[0], output_dim=word_embeddings.shape[1], \n",
    "                  weights=[word_embeddings], trainable=False)(words_input)\n",
    "\n",
    "words = Flatten()(words)  # вытягивает матрицу в длинный вектор\n",
    "\n",
    "output = Dense(64, activation='tanh')(words)\n",
    "output = Dense(n_out, activation='softmax')(output)\n",
    "\n",
    "model = Model(inputs=[words_input], outputs=[output])\n",
    "model.compile(loss='sparse_categorical_crossentropy', optimizer='nadam')\n",
    "\n",
    "# описание модели\n",
    "model.summary()"
   ]
  },
  {
   "cell_type": "markdown",
   "metadata": {},
   "source": [
    "Собственно обучение модели."
   ]
  },
  {
   "cell_type": "code",
   "execution_count": 24,
   "metadata": {
    "colab": {
     "base_uri": "https://localhost:8080/",
     "height": 224
    },
    "colab_type": "code",
    "id": "2BdU9jVsYvXl",
    "outputId": "f6209291-4733-4248-8f4b-0d3e040604e5"
   },
   "outputs": [
    {
     "name": "stdout",
     "output_type": "stream",
     "text": [
      "Train on 309798 samples, validate on 34423 samples\n",
      "Epoch 1/2\n"
     ]
    },
    {
     "name": "stdout",
     "output_type": "stream",
     "text": [
      "125952/309798 [===========>..................] - ETA: 44:05 - loss: 2.61 - ETA: 4:25 - loss: 2.2180 - ETA: 2:47 - loss: 2.003 - ETA: 2:06 - loss: 1.815 - ETA: 1:53 - loss: 1.728 - ETA: 1:38 - loss: 1.606 - ETA: 1:24 - loss: 1.478 - ETA: 1:15 - loss: 1.371 - ETA: 1:10 - loss: 1.287 - ETA: 1:06 - loss: 1.221 - ETA: 1:07 - loss: 1.186 - ETA: 1:06 - loss: 1.150 - ETA: 1:05 - loss: 1.123 - ETA: 1:03 - loss: 1.078 - ETA: 1:02 - loss: 1.043 - ETA: 1:00 - loss: 1.012 - ETA: 59s - loss: 0.976 - ETA: 57s - loss: 0.94 - ETA: 55s - loss: 0.91 - ETA: 55s - loss: 0.88 - ETA: 54s - loss: 0.85 - ETA: 53s - loss: 0.84 - ETA: 52s - loss: 0.82 - ETA: 51s - loss: 0.80 - ETA: 50s - loss: 0.78 - ETA: 49s - loss: 0.76 - ETA: 48s - loss: 0.74 - ETA: 48s - loss: 0.73 - ETA: 47s - loss: 0.71 - ETA: 47s - loss: 0.70 - ETA: 46s - loss: 0.68 - ETA: 46s - loss: 0.67 - ETA: 45s - loss: 0.66 - ETA: 45s - loss: 0.65 - ETA: 44s - loss: 0.64 - ETA: 44s - loss: 0.63 - ETA: 44s - loss: 0.62 - ETA: 44s - loss: 0.61 - ETA: 44s - loss: 0.61 - ETA: 43s - loss: 0.60 - ETA: 43s - loss: 0.59 - ETA: 43s - loss: 0.59 - ETA: 44s - loss: 0.58 - ETA: 44s - loss: 0.58 - ETA: 43s - loss: 0.57 - ETA: 43s - loss: 0.56 - ETA: 43s - loss: 0.56 - ETA: 43s - loss: 0.55 - ETA: 42s - loss: 0.55 - ETA: 42s - loss: 0.54 - ETA: 42s - loss: 0.54 - ETA: 42s - loss: 0.53 - ETA: 42s - loss: 0.53 - ETA: 42s - loss: 0.53 - ETA: 42s - loss: 0.52 - ETA: 42s - loss: 0.52 - ETA: 41s - loss: 0.51 - ETA: 41s - loss: 0.51 - ETA: 41s - loss: 0.51 - ETA: 41s - loss: 0.50 - ETA: 41s - loss: 0.50 - ETA: 41s - loss: 0.50 - ETA: 41s - loss: 0.49 - ETA: 41s - loss: 0.49 - ETA: 40s - loss: 0.49 - ETA: 40s - loss: 0.49 - ETA: 40s - loss: 0.48 - ETA: 40s - loss: 0.48 - ETA: 40s - loss: 0.48 - ETA: 40s - loss: 0.47 - ETA: 40s - loss: 0.47 - ETA: 40s - loss: 0.47 - ETA: 40s - loss: 0.47 - ETA: 40s - loss: 0.46 - ETA: 40s - loss: 0.46 - ETA: 39s - loss: 0.46 - ETA: 39s - loss: 0.46 - ETA: 39s - loss: 0.46 - ETA: 39s - loss: 0.45 - ETA: 39s - loss: 0.45 - ETA: 39s - loss: 0.45 - ETA: 39s - loss: 0.45 - ETA: 39s - loss: 0.44 - ETA: 39s - loss: 0.44 - ETA: 39s - loss: 0.44 - ETA: 39s - loss: 0.44 - ETA: 39s - loss: 0.44 - ETA: 39s - loss: 0.44 - ETA: 39s - loss: 0.43 - ETA: 38s - loss: 0.43 - ETA: 38s - loss: 0.43 - ETA: 38s - loss: 0.43 - ETA: 38s - loss: 0.43 - ETA: 38s - loss: 0.42 - ETA: 38s - loss: 0.42 - ETA: 38s - loss: 0.42 - ETA: 38s - loss: 0.42 - ETA: 38s - loss: 0.42 - ETA: 38s - loss: 0.42 - ETA: 38s - loss: 0.42 - ETA: 38s - loss: 0.42 - ETA: 38s - loss: 0.41 - ETA: 38s - loss: 0.41 - ETA: 38s - loss: 0.41 - ETA: 38s - loss: 0.41 - ETA: 38s - loss: 0.41 - ETA: 38s - loss: 0.41 - ETA: 37s - loss: 0.41 - ETA: 37s - loss: 0.40 - ETA: 37s - loss: 0.40 - ETA: 37s - loss: 0.40 - ETA: 37s - loss: 0.40 - ETA: 37s - loss: 0.40 - ETA: 37s - loss: 0.40 - ETA: 37s - loss: 0.39 - ETA: 37s - loss: 0.39 - ETA: 37s - loss: 0.39 - ETA: 37s - loss: 0.39 - ETA: 37s - loss: 0.39 - ETA: 37s - loss: 0.39 - ETA: 37s - loss: 0.39 - ETA: 37s - loss: 0.39 - ETA: 37s - loss: 0.39 - ETA: 36s - loss: 0.39 - ETA: 36s - loss: 0.38 - ETA: 36s - loss: 0.38 - ETA: 36s - loss: 0.38 - ETA: 36s - loss: 0.38 - ETA: 36s - loss: 0.38 - ETA: 36s - loss: 0.38 - ETA: 36s - loss: 0.38 - ETA: 36s - loss: 0.38 - ETA: 36s - loss: 0.38 - ETA: 36s - loss: 0.38 - ETA: 36s - loss: 0.37 - ETA: 36s - loss: 0.37 - ETA: 36s - loss: 0.37 - ETA: 35s - loss: 0.37 - ETA: 35s - loss: 0.37 - ETA: 35s - loss: 0.37 - ETA: 35s - loss: 0.37 - ETA: 35s - loss: 0.37 - ETA: 35s - loss: 0.37 - ETA: 35s - loss: 0.37 - ETA: 35s - loss: 0.37 - ETA: 35s - loss: 0.36 - ETA: 35s - loss: 0.36 - ETA: 35s - loss: 0.36 - ETA: 35s - loss: 0.36 - ETA: 35s - loss: 0.36 - ETA: 35s - loss: 0.36 - ETA: 35s - loss: 0.36 - ETA: 35s - loss: 0.36 - ETA: 35s - loss: 0.36 - ETA: 35s - loss: 0.36 - ETA: 35s - loss: 0.36 - ETA: 34s - loss: 0.36 - ETA: 34s - loss: 0.36 - ETA: 34s - loss: 0.36 - ETA: 34s - loss: 0.35 - ETA: 34s - loss: 0.35 - ETA: 34s - loss: 0.35 - ETA: 34s - loss: 0.35 - ETA: 34s - loss: 0.35 - ETA: 34s - loss: 0.35 - ETA: 34s - loss: 0.35 - ETA: 34s - loss: 0.35 - ETA: 34s - loss: 0.35 - ETA: 34s - loss: 0.35 - ETA: 34s - loss: 0.35 - ETA: 34s - loss: 0.35 - ETA: 34s - loss: 0.35 - ETA: 34s - loss: 0.34 - ETA: 33s - loss: 0.34 - ETA: 33s - loss: 0.34 - ETA: 33s - loss: 0.34 - ETA: 33s - loss: 0.34 - ETA: 33s - loss: 0.34 - ETA: 33s - loss: 0.34 - ETA: 33s - loss: 0.34 - ETA: 33s - loss: 0.34 - ETA: 33s - loss: 0.34 - ETA: 33s - loss: 0.34 - ETA: 33s - loss: 0.34 - ETA: 33s - loss: 0.34 - ETA: 33s - loss: 0.34 - ETA: 33s - loss: 0.34 - ETA: 33s - loss: 0.34 - ETA: 33s - loss: 0.34 - ETA: 33s - loss: 0.34 - ETA: 33s - loss: 0.34 - ETA: 33s - loss: 0.34 - ETA: 33s - loss: 0.33 - ETA: 33s - loss: 0.33 - ETA: 33s - loss: 0.33 - ETA: 33s - loss: 0.33 - ETA: 33s - loss: 0.33 - ETA: 33s - loss: 0.33 - ETA: 32s - loss: 0.33 - ETA: 32s - loss: 0.33 - ETA: 32s - loss: 0.33 - ETA: 32s - loss: 0.33 - ETA: 32s - loss: 0.33 - ETA: 32s - loss: 0.33 - ETA: 32s - loss: 0.33 - ETA: 32s - loss: 0.33 - ETA: 32s - loss: 0.33 - ETA: 32s - loss: 0.33 - ETA: 32s - loss: 0.33 - ETA: 32s - loss: 0.33 - ETA: 32s - loss: 0.33 - ETA: 32s - loss: 0.32 - ETA: 31s - loss: 0.32 - ETA: 31s - loss: 0.32 - ETA: 31s - loss: 0.32 - ETA: 31s - loss: 0.32 - ETA: 31s - loss: 0.32 - ETA: 31s - loss: 0.32 - ETA: 31s - loss: 0.32 - ETA: 31s - loss: 0.32 - ETA: 31s - loss: 0.32 - ETA: 31s - loss: 0.32 - ETA: 31s - loss: 0.32 - ETA: 31s - loss: 0.32 - ETA: 31s - loss: 0.32 - ETA: 31s - loss: 0.32 - ETA: 31s - loss: 0.32 - ETA: 31s - loss: 0.32 - ETA: 30s - loss: 0.32 - ETA: 30s - loss: 0.32 - ETA: 30s - loss: 0.32 - ETA: 30s - loss: 0.32 - ETA: 30s - loss: 0.32 - ETA: 30s - loss: 0.32 - ETA: 30s - loss: 0.32 - ETA: 30s - loss: 0.31 - ETA: 30s - loss: 0.31 - ETA: 30s - loss: 0.31 - ETA: 30s - loss: 0.31 - ETA: 30s - loss: 0.31 - ETA: 30s - loss: 0.31 - ETA: 30s - loss: 0.31 - ETA: 30s - loss: 0.31 - ETA: 30s - loss: 0.31 - ETA: 30s - loss: 0.31 - ETA: 30s - loss: 0.31 - ETA: 30s - loss: 0.31 - ETA: 30s - loss: 0.31 - ETA: 30s - loss: 0.31 - ETA: 30s - loss: 0.31 - ETA: 30s - loss: 0.31 - ETA: 30s - loss: 0.31 - ETA: 29s - loss: 0.31 - ETA: 29s - loss: 0.31 - ETA: 29s - loss: 0.31 - ETA: 29s - loss: 0.31 - ETA: 29s - loss: 0.31 - ETA: 29s - loss: 0.31 - ETA: 29s - loss: 0.31 - ETA: 29s - loss: 0.31 - ETA: 29s - loss: 0.31 - ETA: 29s - loss: 0.31 - ETA: 29s - loss: 0.31 - ETA: 29s - loss: 0.30 - ETA: 29s - loss: 0.30 - ETA: 29s - loss: 0.30 - ETA: 29s - loss: 0.30 - ETA: 29s - loss: 0.30 - ETA: 28s - loss: 0.30 - ETA: 28s - loss: 0.30 - ETA: 28s - loss: 0.30 - ETA: 28s - loss: 0.30 - ETA: 28s - loss: 0.30 - ETA: 28s - loss: 0.30 - ETA: 28s - loss: 0.30 - ETA: 28s - loss: 0.30 - ETA: 28s - loss: 0.30 - ETA: 28s - loss: 0.30 - ETA: 28s - loss: 0.30 - ETA: 28s - loss: 0.30 - ETA: 28s - loss: 0.30 - ETA: 27s - loss: 0.30 - ETA: 27s - loss: 0.30 - ETA: 27s - loss: 0.30 - ETA: 27s - loss: 0.30 - ETA: 27s - loss: 0.30 - ETA: 27s - loss: 0.30 - ETA: 27s - loss: 0.30 - ETA: 27s - loss: 0.30 - ETA: 27s - loss: 0.30 - ETA: 27s - loss: 0.30 - ETA: 27s - loss: 0.30 - ETA: 27s - loss: 0.30 - ETA: 27s - loss: 0.30 - ETA: 27s - loss: 0.30 - ETA: 27s - loss: 0.29 - ETA: 27s - loss: 0.29 - ETA: 26s - loss: 0.29 - ETA: 26s - loss: 0.29 - ETA: 26s - loss: 0.29 - ETA: 26s - loss: 0.29 - ETA: 26s - loss: 0.29 - ETA: 26s - loss: 0.29 - ETA: 26s - loss: 0.29 - ETA: 26s - loss: 0.29 - ETA: 26s - loss: 0.29 - ETA: 26s - loss: 0.29 - ETA: 26s - loss: 0.29 - ETA: 26s - loss: 0.29 - ETA: 26s - loss: 0.29 - ETA: 26s - loss: 0.29 - ETA: 26s - loss: 0.29 - ETA: 26s - loss: 0.29 - ETA: 26s - loss: 0.29 - ETA: 26s - loss: 0.29 - ETA: 26s - loss: 0.29 - ETA: 26s - loss: 0.29 - ETA: 26s - loss: 0.29 - ETA: 26s - loss: 0.29 - ETA: 26s - loss: 0.29 - ETA: 26s - loss: 0.29 - ETA: 26s - loss: 0.29 - ETA: 26s - loss: 0.29 - ETA: 26s - loss: 0.29 - ETA: 26s - loss: 0.29 - ETA: 26s - loss: 0.29 - ETA: 26s - loss: 0.29 - ETA: 26s - loss: 0.29 - ETA: 26s - loss: 0.29 - ETA: 26s - loss: 0.29 - ETA: 26s - loss: 0.29 - ETA: 26s - loss: 0.29 - ETA: 26s - loss: 0.29 - ETA: 26s - loss: 0.29 - ETA: 25s - loss: 0.29 - ETA: 25s - loss: 0.2925\b\b\b\b\b\b\b\b\b\b\b\b\b\b\b\b\b\b\b\b\b\b\b\b\b\b\b\b\b\b\b\b\b\b\b\b\b\b\b\b\b\b\b\b\b\b\b\b\b\b\b\b\b\b\b\b\b\b\b\b\b\b\b\b\b\b\b\b\b\b\b\b"
     ]
    },
    {
     "name": "stdout",
     "output_type": "stream",
     "text": [
      "263552/309798 [========================>.....] - ETA: 26s - loss: 0.29 - ETA: 25s - loss: 0.29 - ETA: 25s - loss: 0.29 - ETA: 25s - loss: 0.29 - ETA: 25s - loss: 0.29 - ETA: 25s - loss: 0.29 - ETA: 25s - loss: 0.29 - ETA: 25s - loss: 0.29 - ETA: 25s - loss: 0.29 - ETA: 25s - loss: 0.29 - ETA: 25s - loss: 0.29 - ETA: 25s - loss: 0.29 - ETA: 25s - loss: 0.29 - ETA: 25s - loss: 0.29 - ETA: 25s - loss: 0.29 - ETA: 25s - loss: 0.28 - ETA: 25s - loss: 0.28 - ETA: 25s - loss: 0.28 - ETA: 25s - loss: 0.28 - ETA: 25s - loss: 0.28 - ETA: 25s - loss: 0.28 - ETA: 25s - loss: 0.28 - ETA: 24s - loss: 0.28 - ETA: 24s - loss: 0.28 - ETA: 24s - loss: 0.28 - ETA: 24s - loss: 0.28 - ETA: 24s - loss: 0.28 - ETA: 24s - loss: 0.28 - ETA: 24s - loss: 0.28 - ETA: 24s - loss: 0.28 - ETA: 24s - loss: 0.28 - ETA: 24s - loss: 0.28 - ETA: 24s - loss: 0.28 - ETA: 24s - loss: 0.28 - ETA: 24s - loss: 0.28 - ETA: 23s - loss: 0.28 - ETA: 23s - loss: 0.28 - ETA: 23s - loss: 0.28 - ETA: 23s - loss: 0.28 - ETA: 23s - loss: 0.28 - ETA: 23s - loss: 0.28 - ETA: 23s - loss: 0.28 - ETA: 23s - loss: 0.28 - ETA: 23s - loss: 0.28 - ETA: 23s - loss: 0.28 - ETA: 23s - loss: 0.28 - ETA: 23s - loss: 0.28 - ETA: 23s - loss: 0.28 - ETA: 23s - loss: 0.28 - ETA: 23s - loss: 0.28 - ETA: 22s - loss: 0.28 - ETA: 22s - loss: 0.28 - ETA: 22s - loss: 0.28 - ETA: 22s - loss: 0.28 - ETA: 22s - loss: 0.28 - ETA: 22s - loss: 0.28 - ETA: 22s - loss: 0.28 - ETA: 22s - loss: 0.28 - ETA: 22s - loss: 0.28 - ETA: 22s - loss: 0.28 - ETA: 22s - loss: 0.27 - ETA: 22s - loss: 0.27 - ETA: 22s - loss: 0.27 - ETA: 22s - loss: 0.27 - ETA: 22s - loss: 0.27 - ETA: 22s - loss: 0.27 - ETA: 22s - loss: 0.27 - ETA: 22s - loss: 0.27 - ETA: 22s - loss: 0.27 - ETA: 21s - loss: 0.27 - ETA: 21s - loss: 0.27 - ETA: 21s - loss: 0.27 - ETA: 21s - loss: 0.27 - ETA: 21s - loss: 0.27 - ETA: 21s - loss: 0.27 - ETA: 21s - loss: 0.27 - ETA: 21s - loss: 0.27 - ETA: 21s - loss: 0.27 - ETA: 21s - loss: 0.27 - ETA: 21s - loss: 0.27 - ETA: 21s - loss: 0.27 - ETA: 21s - loss: 0.27 - ETA: 21s - loss: 0.27 - ETA: 21s - loss: 0.27 - ETA: 20s - loss: 0.27 - ETA: 20s - loss: 0.27 - ETA: 20s - loss: 0.27 - ETA: 20s - loss: 0.27 - ETA: 20s - loss: 0.27 - ETA: 20s - loss: 0.27 - ETA: 20s - loss: 0.27 - ETA: 20s - loss: 0.27 - ETA: 20s - loss: 0.27 - ETA: 20s - loss: 0.27 - ETA: 20s - loss: 0.27 - ETA: 20s - loss: 0.27 - ETA: 20s - loss: 0.27 - ETA: 20s - loss: 0.27 - ETA: 20s - loss: 0.27 - ETA: 20s - loss: 0.27 - ETA: 19s - loss: 0.27 - ETA: 19s - loss: 0.27 - ETA: 19s - loss: 0.27 - ETA: 19s - loss: 0.27 - ETA: 19s - loss: 0.27 - ETA: 19s - loss: 0.27 - ETA: 19s - loss: 0.27 - ETA: 19s - loss: 0.27 - ETA: 19s - loss: 0.27 - ETA: 19s - loss: 0.27 - ETA: 19s - loss: 0.27 - ETA: 19s - loss: 0.27 - ETA: 19s - loss: 0.27 - ETA: 19s - loss: 0.27 - ETA: 19s - loss: 0.26 - ETA: 19s - loss: 0.26 - ETA: 19s - loss: 0.26 - ETA: 18s - loss: 0.26 - ETA: 18s - loss: 0.26 - ETA: 18s - loss: 0.26 - ETA: 18s - loss: 0.26 - ETA: 18s - loss: 0.26 - ETA: 18s - loss: 0.26 - ETA: 18s - loss: 0.26 - ETA: 18s - loss: 0.26 - ETA: 18s - loss: 0.26 - ETA: 18s - loss: 0.26 - ETA: 18s - loss: 0.26 - ETA: 18s - loss: 0.26 - ETA: 18s - loss: 0.26 - ETA: 18s - loss: 0.26 - ETA: 18s - loss: 0.26 - ETA: 18s - loss: 0.26 - ETA: 17s - loss: 0.26 - ETA: 17s - loss: 0.26 - ETA: 17s - loss: 0.26 - ETA: 17s - loss: 0.26 - ETA: 17s - loss: 0.26 - ETA: 17s - loss: 0.26 - ETA: 17s - loss: 0.26 - ETA: 17s - loss: 0.26 - ETA: 17s - loss: 0.26 - ETA: 17s - loss: 0.26 - ETA: 17s - loss: 0.26 - ETA: 17s - loss: 0.26 - ETA: 17s - loss: 0.26 - ETA: 17s - loss: 0.26 - ETA: 17s - loss: 0.26 - ETA: 17s - loss: 0.26 - ETA: 17s - loss: 0.26 - ETA: 17s - loss: 0.26 - ETA: 16s - loss: 0.26 - ETA: 16s - loss: 0.26 - ETA: 16s - loss: 0.26 - ETA: 16s - loss: 0.26 - ETA: 16s - loss: 0.26 - ETA: 16s - loss: 0.26 - ETA: 16s - loss: 0.26 - ETA: 16s - loss: 0.26 - ETA: 16s - loss: 0.26 - ETA: 16s - loss: 0.26 - ETA: 16s - loss: 0.26 - ETA: 16s - loss: 0.26 - ETA: 16s - loss: 0.26 - ETA: 16s - loss: 0.26 - ETA: 16s - loss: 0.26 - ETA: 16s - loss: 0.26 - ETA: 16s - loss: 0.26 - ETA: 15s - loss: 0.26 - ETA: 15s - loss: 0.26 - ETA: 15s - loss: 0.26 - ETA: 15s - loss: 0.26 - ETA: 15s - loss: 0.26 - ETA: 15s - loss: 0.26 - ETA: 15s - loss: 0.26 - ETA: 15s - loss: 0.26 - ETA: 15s - loss: 0.26 - ETA: 15s - loss: 0.26 - ETA: 15s - loss: 0.26 - ETA: 15s - loss: 0.26 - ETA: 15s - loss: 0.26 - ETA: 15s - loss: 0.26 - ETA: 15s - loss: 0.26 - ETA: 15s - loss: 0.26 - ETA: 15s - loss: 0.26 - ETA: 15s - loss: 0.26 - ETA: 14s - loss: 0.26 - ETA: 14s - loss: 0.26 - ETA: 14s - loss: 0.26 - ETA: 14s - loss: 0.26 - ETA: 14s - loss: 0.26 - ETA: 14s - loss: 0.25 - ETA: 14s - loss: 0.25 - ETA: 14s - loss: 0.25 - ETA: 14s - loss: 0.25 - ETA: 14s - loss: 0.25 - ETA: 14s - loss: 0.25 - ETA: 14s - loss: 0.25 - ETA: 14s - loss: 0.25 - ETA: 14s - loss: 0.25 - ETA: 14s - loss: 0.25 - ETA: 14s - loss: 0.25 - ETA: 14s - loss: 0.25 - ETA: 14s - loss: 0.25 - ETA: 14s - loss: 0.25 - ETA: 13s - loss: 0.25 - ETA: 13s - loss: 0.25 - ETA: 13s - loss: 0.25 - ETA: 13s - loss: 0.25 - ETA: 13s - loss: 0.25 - ETA: 13s - loss: 0.25 - ETA: 13s - loss: 0.25 - ETA: 13s - loss: 0.25 - ETA: 13s - loss: 0.25 - ETA: 13s - loss: 0.25 - ETA: 13s - loss: 0.25 - ETA: 13s - loss: 0.25 - ETA: 13s - loss: 0.25 - ETA: 13s - loss: 0.25 - ETA: 13s - loss: 0.25 - ETA: 13s - loss: 0.25 - ETA: 13s - loss: 0.25 - ETA: 13s - loss: 0.25 - ETA: 13s - loss: 0.25 - ETA: 12s - loss: 0.25 - ETA: 12s - loss: 0.25 - ETA: 12s - loss: 0.25 - ETA: 12s - loss: 0.25 - ETA: 12s - loss: 0.25 - ETA: 12s - loss: 0.25 - ETA: 12s - loss: 0.25 - ETA: 12s - loss: 0.25 - ETA: 12s - loss: 0.25 - ETA: 12s - loss: 0.25 - ETA: 12s - loss: 0.25 - ETA: 12s - loss: 0.25 - ETA: 12s - loss: 0.25 - ETA: 12s - loss: 0.25 - ETA: 12s - loss: 0.25 - ETA: 12s - loss: 0.25 - ETA: 12s - loss: 0.25 - ETA: 11s - loss: 0.25 - ETA: 11s - loss: 0.25 - ETA: 11s - loss: 0.25 - ETA: 11s - loss: 0.25 - ETA: 11s - loss: 0.25 - ETA: 11s - loss: 0.25 - ETA: 11s - loss: 0.25 - ETA: 11s - loss: 0.25 - ETA: 11s - loss: 0.25 - ETA: 11s - loss: 0.25 - ETA: 11s - loss: 0.25 - ETA: 11s - loss: 0.25 - ETA: 11s - loss: 0.25 - ETA: 11s - loss: 0.25 - ETA: 11s - loss: 0.25 - ETA: 11s - loss: 0.25 - ETA: 10s - loss: 0.25 - ETA: 10s - loss: 0.25 - ETA: 10s - loss: 0.25 - ETA: 10s - loss: 0.25 - ETA: 10s - loss: 0.25 - ETA: 10s - loss: 0.25 - ETA: 10s - loss: 0.25 - ETA: 10s - loss: 0.25 - ETA: 10s - loss: 0.25 - ETA: 10s - loss: 0.25 - ETA: 10s - loss: 0.25 - ETA: 10s - loss: 0.25 - ETA: 10s - loss: 0.25 - ETA: 10s - loss: 0.25 - ETA: 10s - loss: 0.25 - ETA: 10s - loss: 0.25 - ETA: 9s - loss: 0.2517 - ETA: 9s - loss: 0.251 - ETA: 9s - loss: 0.251 - ETA: 9s - loss: 0.251 - ETA: 9s - loss: 0.251 - ETA: 9s - loss: 0.251 - ETA: 9s - loss: 0.251 - ETA: 9s - loss: 0.251 - ETA: 9s - loss: 0.251 - ETA: 9s - loss: 0.250 - ETA: 9s - loss: 0.250 - ETA: 9s - loss: 0.250 - ETA: 9s - loss: 0.250 - ETA: 9s - loss: 0.250 - ETA: 9s - loss: 0.250 - ETA: 9s - loss: 0.250 - ETA: 8s - loss: 0.250 - ETA: 8s - loss: 0.249 - ETA: 8s - loss: 0.249 - ETA: 8s - loss: 0.249 - ETA: 8s - loss: 0.249 - ETA: 8s - loss: 0.249 - ETA: 8s - loss: 0.249 - ETA: 8s - loss: 0.249 - ETA: 8s - loss: 0.248 - ETA: 8s - loss: 0.248 - ETA: 8s - loss: 0.248 - ETA: 8s - loss: 0.248 - ETA: 8s - loss: 0.248 - ETA: 8s - loss: 0.248 - ETA: 8s - loss: 0.248 - ETA: 8s - loss: 0.248 - ETA: 8s - loss: 0.248 - ETA: 8s - loss: 0.248 - ETA: 8s - loss: 0.248 - ETA: 7s - loss: 0.248 - ETA: 7s - loss: 0.248 - ETA: 7s - loss: 0.247 - ETA: 7s - loss: 0.247 - ETA: 7s - loss: 0.247 - ETA: 7s - loss: 0.247 - ETA: 7s - loss: 0.247 - ETA: 7s - loss: 0.247 - ETA: 7s - loss: 0.247 - ETA: 7s - loss: 0.247 - ETA: 7s - loss: 0.247 - ETA: 7s - loss: 0.247 - ETA: 7s - loss: 0.247 - ETA: 7s - loss: 0.246 - ETA: 7s - loss: 0.246 - ETA: 7s - loss: 0.246 - ETA: 7s - loss: 0.246 - ETA: 7s - loss: 0.246 - ETA: 6s - loss: 0.246 - ETA: 6s - loss: 0.246 - ETA: 6s - loss: 0.246 - ETA: 6s - loss: 0.246 - ETA: 6s - loss: 0.246 - ETA: 6s - loss: 0.246 - ETA: 6s - loss: 0.246 - ETA: 6s - loss: 0.245 - ETA: 6s - loss: 0.245 - ETA: 6s - loss: 0.245 - ETA: 6s - loss: 0.245 - ETA: 6s - loss: 0.245 - ETA: 6s - loss: 0.245 - ETA: 6s - loss: 0.2453"
     ]
    },
    {
     "name": "stdout",
     "output_type": "stream",
     "text": [
      "309798/309798 [==============================] - ETA: 6s - loss: 0.245 - ETA: 6s - loss: 0.245 - ETA: 6s - loss: 0.245 - ETA: 6s - loss: 0.244 - ETA: 5s - loss: 0.244 - ETA: 5s - loss: 0.244 - ETA: 5s - loss: 0.244 - ETA: 5s - loss: 0.244 - ETA: 5s - loss: 0.244 - ETA: 5s - loss: 0.244 - ETA: 5s - loss: 0.244 - ETA: 5s - loss: 0.244 - ETA: 5s - loss: 0.244 - ETA: 5s - loss: 0.244 - ETA: 5s - loss: 0.244 - ETA: 5s - loss: 0.243 - ETA: 5s - loss: 0.243 - ETA: 5s - loss: 0.243 - ETA: 4s - loss: 0.243 - ETA: 4s - loss: 0.243 - ETA: 4s - loss: 0.243 - ETA: 4s - loss: 0.243 - ETA: 4s - loss: 0.243 - ETA: 4s - loss: 0.243 - ETA: 4s - loss: 0.243 - ETA: 4s - loss: 0.243 - ETA: 4s - loss: 0.242 - ETA: 4s - loss: 0.242 - ETA: 4s - loss: 0.242 - ETA: 4s - loss: 0.242 - ETA: 4s - loss: 0.242 - ETA: 4s - loss: 0.242 - ETA: 4s - loss: 0.242 - ETA: 3s - loss: 0.242 - ETA: 3s - loss: 0.242 - ETA: 3s - loss: 0.242 - ETA: 3s - loss: 0.242 - ETA: 3s - loss: 0.242 - ETA: 3s - loss: 0.242 - ETA: 3s - loss: 0.242 - ETA: 3s - loss: 0.241 - ETA: 3s - loss: 0.241 - ETA: 3s - loss: 0.241 - ETA: 3s - loss: 0.241 - ETA: 3s - loss: 0.241 - ETA: 3s - loss: 0.241 - ETA: 3s - loss: 0.241 - ETA: 3s - loss: 0.241 - ETA: 2s - loss: 0.241 - ETA: 2s - loss: 0.240 - ETA: 2s - loss: 0.240 - ETA: 2s - loss: 0.240 - ETA: 2s - loss: 0.240 - ETA: 2s - loss: 0.240 - ETA: 2s - loss: 0.240 - ETA: 2s - loss: 0.240 - ETA: 2s - loss: 0.240 - ETA: 2s - loss: 0.240 - ETA: 2s - loss: 0.240 - ETA: 2s - loss: 0.240 - ETA: 2s - loss: 0.239 - ETA: 2s - loss: 0.239 - ETA: 2s - loss: 0.239 - ETA: 1s - loss: 0.239 - ETA: 1s - loss: 0.239 - ETA: 1s - loss: 0.239 - ETA: 1s - loss: 0.239 - ETA: 1s - loss: 0.239 - ETA: 1s - loss: 0.239 - ETA: 1s - loss: 0.239 - ETA: 1s - loss: 0.239 - ETA: 1s - loss: 0.239 - ETA: 1s - loss: 0.239 - ETA: 1s - loss: 0.239 - ETA: 1s - loss: 0.239 - ETA: 1s - loss: 0.238 - ETA: 1s - loss: 0.238 - ETA: 1s - loss: 0.238 - ETA: 1s - loss: 0.238 - ETA: 0s - loss: 0.238 - ETA: 0s - loss: 0.238 - ETA: 0s - loss: 0.238 - ETA: 0s - loss: 0.238 - ETA: 0s - loss: 0.238 - ETA: 0s - loss: 0.238 - ETA: 0s - loss: 0.238 - ETA: 0s - loss: 0.238 - ETA: 0s - loss: 0.238 - ETA: 0s - loss: 0.237 - ETA: 0s - loss: 0.237 - ETA: 0s - loss: 0.237 - ETA: 0s - loss: 0.237 - ETA: 0s - loss: 0.237 - ETA: 0s - loss: 0.237 - ETA: 0s - loss: 0.237 - 41s 134us/step - loss: 0.2372 - val_loss: 0.1900\n",
      "Epoch 2/2\n"
     ]
    },
    {
     "name": "stdout",
     "output_type": "stream",
     "text": [
      "127104/309798 [===========>..................] - ETA: 4:49 - loss: 0.069 - ETA: 48s - loss: 0.163 - ETA: 43s - loss: 0.13 - ETA: 40s - loss: 0.13 - ETA: 38s - loss: 0.13 - ETA: 37s - loss: 0.14 - ETA: 37s - loss: 0.14 - ETA: 36s - loss: 0.15 - ETA: 35s - loss: 0.14 - ETA: 34s - loss: 0.14 - ETA: 34s - loss: 0.14 - ETA: 35s - loss: 0.14 - ETA: 35s - loss: 0.14 - ETA: 35s - loss: 0.14 - ETA: 34s - loss: 0.14 - ETA: 34s - loss: 0.14 - ETA: 34s - loss: 0.14 - ETA: 33s - loss: 0.14 - ETA: 33s - loss: 0.14 - ETA: 33s - loss: 0.15 - ETA: 32s - loss: 0.14 - ETA: 32s - loss: 0.14 - ETA: 32s - loss: 0.14 - ETA: 32s - loss: 0.14 - ETA: 31s - loss: 0.15 - ETA: 31s - loss: 0.15 - ETA: 31s - loss: 0.14 - ETA: 31s - loss: 0.15 - ETA: 31s - loss: 0.14 - ETA: 31s - loss: 0.14 - ETA: 31s - loss: 0.15 - ETA: 31s - loss: 0.14 - ETA: 32s - loss: 0.14 - ETA: 32s - loss: 0.14 - ETA: 32s - loss: 0.14 - ETA: 32s - loss: 0.14 - ETA: 32s - loss: 0.14 - ETA: 32s - loss: 0.14 - ETA: 31s - loss: 0.14 - ETA: 31s - loss: 0.14 - ETA: 31s - loss: 0.14 - ETA: 31s - loss: 0.14 - ETA: 32s - loss: 0.14 - ETA: 32s - loss: 0.14 - ETA: 32s - loss: 0.14 - ETA: 32s - loss: 0.14 - ETA: 32s - loss: 0.14 - ETA: 32s - loss: 0.14 - ETA: 32s - loss: 0.14 - ETA: 32s - loss: 0.14 - ETA: 32s - loss: 0.14 - ETA: 33s - loss: 0.14 - ETA: 33s - loss: 0.14 - ETA: 33s - loss: 0.14 - ETA: 34s - loss: 0.14 - ETA: 34s - loss: 0.14 - ETA: 34s - loss: 0.14 - ETA: 33s - loss: 0.14 - ETA: 34s - loss: 0.14 - ETA: 34s - loss: 0.14 - ETA: 34s - loss: 0.14 - ETA: 34s - loss: 0.14 - ETA: 34s - loss: 0.14 - ETA: 34s - loss: 0.14 - ETA: 34s - loss: 0.14 - ETA: 33s - loss: 0.14 - ETA: 33s - loss: 0.14 - ETA: 33s - loss: 0.14 - ETA: 33s - loss: 0.14 - ETA: 33s - loss: 0.14 - ETA: 34s - loss: 0.14 - ETA: 34s - loss: 0.14 - ETA: 34s - loss: 0.14 - ETA: 33s - loss: 0.14 - ETA: 33s - loss: 0.14 - ETA: 33s - loss: 0.14 - ETA: 33s - loss: 0.14 - ETA: 33s - loss: 0.14 - ETA: 33s - loss: 0.14 - ETA: 33s - loss: 0.14 - ETA: 33s - loss: 0.14 - ETA: 33s - loss: 0.14 - ETA: 33s - loss: 0.14 - ETA: 33s - loss: 0.14 - ETA: 33s - loss: 0.14 - ETA: 33s - loss: 0.15 - ETA: 33s - loss: 0.15 - ETA: 33s - loss: 0.15 - ETA: 33s - loss: 0.15 - ETA: 33s - loss: 0.15 - ETA: 33s - loss: 0.15 - ETA: 32s - loss: 0.15 - ETA: 32s - loss: 0.15 - ETA: 32s - loss: 0.15 - ETA: 32s - loss: 0.15 - ETA: 32s - loss: 0.15 - ETA: 32s - loss: 0.15 - ETA: 32s - loss: 0.15 - ETA: 32s - loss: 0.15 - ETA: 32s - loss: 0.15 - ETA: 32s - loss: 0.15 - ETA: 32s - loss: 0.15 - ETA: 32s - loss: 0.15 - ETA: 31s - loss: 0.15 - ETA: 31s - loss: 0.15 - ETA: 31s - loss: 0.15 - ETA: 31s - loss: 0.15 - ETA: 31s - loss: 0.15 - ETA: 31s - loss: 0.15 - ETA: 31s - loss: 0.15 - ETA: 31s - loss: 0.15 - ETA: 31s - loss: 0.15 - ETA: 31s - loss: 0.15 - ETA: 31s - loss: 0.15 - ETA: 31s - loss: 0.15 - ETA: 31s - loss: 0.15 - ETA: 31s - loss: 0.15 - ETA: 31s - loss: 0.15 - ETA: 31s - loss: 0.15 - ETA: 31s - loss: 0.15 - ETA: 31s - loss: 0.15 - ETA: 31s - loss: 0.15 - ETA: 30s - loss: 0.15 - ETA: 30s - loss: 0.15 - ETA: 30s - loss: 0.15 - ETA: 30s - loss: 0.15 - ETA: 30s - loss: 0.15 - ETA: 30s - loss: 0.15 - ETA: 30s - loss: 0.15 - ETA: 30s - loss: 0.15 - ETA: 30s - loss: 0.15 - ETA: 30s - loss: 0.15 - ETA: 30s - loss: 0.15 - ETA: 30s - loss: 0.15 - ETA: 30s - loss: 0.15 - ETA: 30s - loss: 0.15 - ETA: 30s - loss: 0.15 - ETA: 30s - loss: 0.15 - ETA: 30s - loss: 0.15 - ETA: 30s - loss: 0.15 - ETA: 30s - loss: 0.15 - ETA: 30s - loss: 0.15 - ETA: 30s - loss: 0.15 - ETA: 30s - loss: 0.15 - ETA: 30s - loss: 0.15 - ETA: 30s - loss: 0.15 - ETA: 30s - loss: 0.15 - ETA: 30s - loss: 0.15 - ETA: 30s - loss: 0.15 - ETA: 30s - loss: 0.15 - ETA: 30s - loss: 0.15 - ETA: 30s - loss: 0.15 - ETA: 30s - loss: 0.15 - ETA: 30s - loss: 0.15 - ETA: 30s - loss: 0.15 - ETA: 30s - loss: 0.15 - ETA: 30s - loss: 0.15 - ETA: 30s - loss: 0.15 - ETA: 30s - loss: 0.15 - ETA: 30s - loss: 0.15 - ETA: 30s - loss: 0.15 - ETA: 30s - loss: 0.15 - ETA: 30s - loss: 0.15 - ETA: 30s - loss: 0.15 - ETA: 30s - loss: 0.15 - ETA: 30s - loss: 0.15 - ETA: 30s - loss: 0.15 - ETA: 30s - loss: 0.15 - ETA: 30s - loss: 0.15 - ETA: 30s - loss: 0.15 - ETA: 30s - loss: 0.15 - ETA: 30s - loss: 0.15 - ETA: 30s - loss: 0.15 - ETA: 30s - loss: 0.15 - ETA: 30s - loss: 0.15 - ETA: 30s - loss: 0.15 - ETA: 30s - loss: 0.15 - ETA: 30s - loss: 0.15 - ETA: 30s - loss: 0.15 - ETA: 30s - loss: 0.15 - ETA: 30s - loss: 0.15 - ETA: 30s - loss: 0.15 - ETA: 30s - loss: 0.15 - ETA: 30s - loss: 0.15 - ETA: 30s - loss: 0.15 - ETA: 30s - loss: 0.15 - ETA: 30s - loss: 0.15 - ETA: 30s - loss: 0.15 - ETA: 30s - loss: 0.15 - ETA: 30s - loss: 0.15 - ETA: 30s - loss: 0.15 - ETA: 30s - loss: 0.15 - ETA: 30s - loss: 0.15 - ETA: 30s - loss: 0.15 - ETA: 30s - loss: 0.15 - ETA: 30s - loss: 0.15 - ETA: 30s - loss: 0.15 - ETA: 30s - loss: 0.15 - ETA: 30s - loss: 0.15 - ETA: 30s - loss: 0.15 - ETA: 30s - loss: 0.15 - ETA: 30s - loss: 0.15 - ETA: 30s - loss: 0.15 - ETA: 30s - loss: 0.15 - ETA: 30s - loss: 0.15 - ETA: 30s - loss: 0.15 - ETA: 30s - loss: 0.15 - ETA: 30s - loss: 0.15 - ETA: 30s - loss: 0.15 - ETA: 30s - loss: 0.15 - ETA: 30s - loss: 0.15 - ETA: 30s - loss: 0.15 - ETA: 30s - loss: 0.15 - ETA: 30s - loss: 0.15 - ETA: 30s - loss: 0.15 - ETA: 30s - loss: 0.15 - ETA: 30s - loss: 0.15 - ETA: 30s - loss: 0.15 - ETA: 30s - loss: 0.15 - ETA: 30s - loss: 0.15 - ETA: 30s - loss: 0.15 - ETA: 30s - loss: 0.15 - ETA: 30s - loss: 0.15 - ETA: 30s - loss: 0.15 - ETA: 30s - loss: 0.15 - ETA: 30s - loss: 0.15 - ETA: 30s - loss: 0.15 - ETA: 30s - loss: 0.15 - ETA: 30s - loss: 0.15 - ETA: 30s - loss: 0.15 - ETA: 30s - loss: 0.15 - ETA: 30s - loss: 0.15 - ETA: 30s - loss: 0.15 - ETA: 30s - loss: 0.15 - ETA: 30s - loss: 0.15 - ETA: 30s - loss: 0.15 - ETA: 30s - loss: 0.15 - ETA: 30s - loss: 0.15 - ETA: 29s - loss: 0.15 - ETA: 29s - loss: 0.15 - ETA: 29s - loss: 0.15 - ETA: 29s - loss: 0.15 - ETA: 29s - loss: 0.15 - ETA: 29s - loss: 0.15 - ETA: 29s - loss: 0.15 - ETA: 29s - loss: 0.15 - ETA: 29s - loss: 0.15 - ETA: 29s - loss: 0.15 - ETA: 29s - loss: 0.15 - ETA: 29s - loss: 0.15 - ETA: 29s - loss: 0.15 - ETA: 29s - loss: 0.15 - ETA: 29s - loss: 0.15 - ETA: 29s - loss: 0.15 - ETA: 29s - loss: 0.15 - ETA: 29s - loss: 0.15 - ETA: 29s - loss: 0.15 - ETA: 29s - loss: 0.15 - ETA: 29s - loss: 0.15 - ETA: 29s - loss: 0.15 - ETA: 29s - loss: 0.15 - ETA: 29s - loss: 0.15 - ETA: 29s - loss: 0.15 - ETA: 29s - loss: 0.15 - ETA: 29s - loss: 0.15 - ETA: 29s - loss: 0.15 - ETA: 29s - loss: 0.15 - ETA: 29s - loss: 0.15 - ETA: 29s - loss: 0.15 - ETA: 29s - loss: 0.15 - ETA: 29s - loss: 0.15 - ETA: 29s - loss: 0.15 - ETA: 29s - loss: 0.15 - ETA: 29s - loss: 0.15 - ETA: 29s - loss: 0.15 - ETA: 29s - loss: 0.15 - ETA: 28s - loss: 0.15 - ETA: 29s - loss: 0.15 - ETA: 28s - loss: 0.15 - ETA: 28s - loss: 0.15 - ETA: 28s - loss: 0.15 - ETA: 28s - loss: 0.15 - ETA: 28s - loss: 0.15 - ETA: 28s - loss: 0.15 - ETA: 28s - loss: 0.15 - ETA: 28s - loss: 0.15 - ETA: 28s - loss: 0.15 - ETA: 28s - loss: 0.15 - ETA: 28s - loss: 0.15 - ETA: 28s - loss: 0.15 - ETA: 28s - loss: 0.15 - ETA: 28s - loss: 0.15 - ETA: 28s - loss: 0.15 - ETA: 28s - loss: 0.15 - ETA: 28s - loss: 0.15 - ETA: 28s - loss: 0.15 - ETA: 28s - loss: 0.15 - ETA: 28s - loss: 0.15 - ETA: 28s - loss: 0.15 - ETA: 28s - loss: 0.15 - ETA: 28s - loss: 0.15 - ETA: 28s - loss: 0.15 - ETA: 28s - loss: 0.15 - ETA: 28s - loss: 0.15 - ETA: 27s - loss: 0.15 - ETA: 27s - loss: 0.15 - ETA: 27s - loss: 0.15 - ETA: 27s - loss: 0.15 - ETA: 27s - loss: 0.15 - ETA: 27s - loss: 0.15 - ETA: 27s - loss: 0.15 - ETA: 27s - loss: 0.15 - ETA: 27s - loss: 0.15 - ETA: 27s - loss: 0.15 - ETA: 27s - loss: 0.15 - ETA: 27s - loss: 0.15 - ETA: 27s - loss: 0.15 - ETA: 27s - loss: 0.15 - ETA: 27s - loss: 0.15 - ETA: 27s - loss: 0.15 - ETA: 27s - loss: 0.15 - ETA: 27s - loss: 0.15 - ETA: 26s - loss: 0.15 - ETA: 26s - loss: 0.15 - ETA: 26s - loss: 0.15 - ETA: 26s - loss: 0.15 - ETA: 26s - loss: 0.15 - ETA: 26s - loss: 0.15 - ETA: 26s - loss: 0.15 - ETA: 26s - loss: 0.15 - ETA: 26s - loss: 0.15 - ETA: 26s - loss: 0.15 - ETA: 26s - loss: 0.15 - ETA: 26s - loss: 0.15 - ETA: 26s - loss: 0.15 - ETA: 26s - loss: 0.15 - ETA: 26s - loss: 0.15 - ETA: 26s - loss: 0.15 - ETA: 26s - loss: 0.15 - ETA: 25s - loss: 0.1571"
     ]
    },
    {
     "name": "stdout",
     "output_type": "stream",
     "text": [
      "272608/309798 [=========================>....] - ETA: 25s - loss: 0.15 - ETA: 25s - loss: 0.15 - ETA: 25s - loss: 0.15 - ETA: 25s - loss: 0.15 - ETA: 25s - loss: 0.15 - ETA: 25s - loss: 0.15 - ETA: 25s - loss: 0.15 - ETA: 25s - loss: 0.15 - ETA: 25s - loss: 0.15 - ETA: 25s - loss: 0.15 - ETA: 25s - loss: 0.15 - ETA: 25s - loss: 0.15 - ETA: 25s - loss: 0.15 - ETA: 25s - loss: 0.15 - ETA: 25s - loss: 0.15 - ETA: 25s - loss: 0.15 - ETA: 25s - loss: 0.15 - ETA: 25s - loss: 0.15 - ETA: 25s - loss: 0.15 - ETA: 25s - loss: 0.15 - ETA: 24s - loss: 0.15 - ETA: 24s - loss: 0.15 - ETA: 24s - loss: 0.15 - ETA: 24s - loss: 0.15 - ETA: 24s - loss: 0.15 - ETA: 24s - loss: 0.15 - ETA: 24s - loss: 0.15 - ETA: 24s - loss: 0.15 - ETA: 24s - loss: 0.15 - ETA: 24s - loss: 0.15 - ETA: 24s - loss: 0.15 - ETA: 24s - loss: 0.15 - ETA: 24s - loss: 0.15 - ETA: 24s - loss: 0.15 - ETA: 24s - loss: 0.15 - ETA: 24s - loss: 0.15 - ETA: 24s - loss: 0.15 - ETA: 24s - loss: 0.15 - ETA: 24s - loss: 0.15 - ETA: 24s - loss: 0.15 - ETA: 24s - loss: 0.15 - ETA: 23s - loss: 0.15 - ETA: 23s - loss: 0.15 - ETA: 23s - loss: 0.15 - ETA: 23s - loss: 0.15 - ETA: 23s - loss: 0.15 - ETA: 23s - loss: 0.15 - ETA: 23s - loss: 0.15 - ETA: 23s - loss: 0.15 - ETA: 23s - loss: 0.15 - ETA: 23s - loss: 0.15 - ETA: 23s - loss: 0.15 - ETA: 23s - loss: 0.15 - ETA: 23s - loss: 0.15 - ETA: 23s - loss: 0.15 - ETA: 23s - loss: 0.15 - ETA: 23s - loss: 0.15 - ETA: 23s - loss: 0.15 - ETA: 23s - loss: 0.15 - ETA: 23s - loss: 0.15 - ETA: 23s - loss: 0.15 - ETA: 23s - loss: 0.15 - ETA: 23s - loss: 0.15 - ETA: 23s - loss: 0.15 - ETA: 23s - loss: 0.15 - ETA: 23s - loss: 0.15 - ETA: 23s - loss: 0.15 - ETA: 23s - loss: 0.15 - ETA: 23s - loss: 0.15 - ETA: 22s - loss: 0.15 - ETA: 23s - loss: 0.15 - ETA: 23s - loss: 0.15 - ETA: 22s - loss: 0.15 - ETA: 22s - loss: 0.15 - ETA: 22s - loss: 0.15 - ETA: 22s - loss: 0.15 - ETA: 22s - loss: 0.15 - ETA: 22s - loss: 0.15 - ETA: 22s - loss: 0.15 - ETA: 22s - loss: 0.15 - ETA: 22s - loss: 0.15 - ETA: 22s - loss: 0.15 - ETA: 22s - loss: 0.15 - ETA: 22s - loss: 0.15 - ETA: 21s - loss: 0.15 - ETA: 21s - loss: 0.15 - ETA: 21s - loss: 0.15 - ETA: 21s - loss: 0.15 - ETA: 21s - loss: 0.15 - ETA: 21s - loss: 0.15 - ETA: 21s - loss: 0.15 - ETA: 21s - loss: 0.15 - ETA: 21s - loss: 0.15 - ETA: 21s - loss: 0.15 - ETA: 21s - loss: 0.15 - ETA: 21s - loss: 0.15 - ETA: 21s - loss: 0.15 - ETA: 21s - loss: 0.15 - ETA: 21s - loss: 0.15 - ETA: 21s - loss: 0.15 - ETA: 20s - loss: 0.15 - ETA: 20s - loss: 0.15 - ETA: 20s - loss: 0.15 - ETA: 20s - loss: 0.15 - ETA: 20s - loss: 0.15 - ETA: 20s - loss: 0.15 - ETA: 20s - loss: 0.15 - ETA: 20s - loss: 0.15 - ETA: 20s - loss: 0.15 - ETA: 20s - loss: 0.15 - ETA: 20s - loss: 0.15 - ETA: 20s - loss: 0.15 - ETA: 20s - loss: 0.15 - ETA: 20s - loss: 0.15 - ETA: 20s - loss: 0.15 - ETA: 19s - loss: 0.15 - ETA: 19s - loss: 0.15 - ETA: 19s - loss: 0.15 - ETA: 19s - loss: 0.15 - ETA: 19s - loss: 0.15 - ETA: 19s - loss: 0.15 - ETA: 19s - loss: 0.15 - ETA: 19s - loss: 0.15 - ETA: 19s - loss: 0.15 - ETA: 19s - loss: 0.15 - ETA: 19s - loss: 0.15 - ETA: 19s - loss: 0.15 - ETA: 18s - loss: 0.15 - ETA: 18s - loss: 0.15 - ETA: 18s - loss: 0.15 - ETA: 18s - loss: 0.15 - ETA: 18s - loss: 0.15 - ETA: 18s - loss: 0.15 - ETA: 18s - loss: 0.15 - ETA: 18s - loss: 0.15 - ETA: 18s - loss: 0.15 - ETA: 18s - loss: 0.15 - ETA: 18s - loss: 0.15 - ETA: 17s - loss: 0.15 - ETA: 17s - loss: 0.15 - ETA: 17s - loss: 0.15 - ETA: 17s - loss: 0.15 - ETA: 17s - loss: 0.15 - ETA: 17s - loss: 0.15 - ETA: 17s - loss: 0.15 - ETA: 17s - loss: 0.15 - ETA: 17s - loss: 0.15 - ETA: 17s - loss: 0.15 - ETA: 17s - loss: 0.15 - ETA: 16s - loss: 0.15 - ETA: 16s - loss: 0.15 - ETA: 16s - loss: 0.15 - ETA: 16s - loss: 0.15 - ETA: 16s - loss: 0.15 - ETA: 16s - loss: 0.15 - ETA: 16s - loss: 0.15 - ETA: 16s - loss: 0.15 - ETA: 16s - loss: 0.15 - ETA: 16s - loss: 0.15 - ETA: 16s - loss: 0.15 - ETA: 15s - loss: 0.15 - ETA: 15s - loss: 0.15 - ETA: 15s - loss: 0.15 - ETA: 15s - loss: 0.15 - ETA: 15s - loss: 0.15 - ETA: 15s - loss: 0.15 - ETA: 15s - loss: 0.15 - ETA: 15s - loss: 0.15 - ETA: 15s - loss: 0.15 - ETA: 15s - loss: 0.15 - ETA: 14s - loss: 0.15 - ETA: 14s - loss: 0.15 - ETA: 14s - loss: 0.15 - ETA: 14s - loss: 0.15 - ETA: 14s - loss: 0.15 - ETA: 14s - loss: 0.15 - ETA: 14s - loss: 0.15 - ETA: 14s - loss: 0.15 - ETA: 14s - loss: 0.15 - ETA: 14s - loss: 0.15 - ETA: 14s - loss: 0.15 - ETA: 14s - loss: 0.15 - ETA: 13s - loss: 0.15 - ETA: 13s - loss: 0.15 - ETA: 13s - loss: 0.15 - ETA: 13s - loss: 0.15 - ETA: 13s - loss: 0.15 - ETA: 13s - loss: 0.15 - ETA: 13s - loss: 0.15 - ETA: 13s - loss: 0.15 - ETA: 13s - loss: 0.15 - ETA: 13s - loss: 0.15 - ETA: 13s - loss: 0.15 - ETA: 12s - loss: 0.15 - ETA: 12s - loss: 0.15 - ETA: 12s - loss: 0.15 - ETA: 12s - loss: 0.15 - ETA: 12s - loss: 0.15 - ETA: 12s - loss: 0.15 - ETA: 12s - loss: 0.15 - ETA: 12s - loss: 0.15 - ETA: 12s - loss: 0.15 - ETA: 12s - loss: 0.15 - ETA: 12s - loss: 0.15 - ETA: 12s - loss: 0.15 - ETA: 12s - loss: 0.15 - ETA: 12s - loss: 0.15 - ETA: 12s - loss: 0.15 - ETA: 12s - loss: 0.15 - ETA: 12s - loss: 0.15 - ETA: 12s - loss: 0.15 - ETA: 12s - loss: 0.15 - ETA: 12s - loss: 0.15 - ETA: 12s - loss: 0.15 - ETA: 12s - loss: 0.15 - ETA: 12s - loss: 0.15 - ETA: 11s - loss: 0.15 - ETA: 11s - loss: 0.15 - ETA: 11s - loss: 0.15 - ETA: 11s - loss: 0.15 - ETA: 11s - loss: 0.15 - ETA: 11s - loss: 0.15 - ETA: 11s - loss: 0.15 - ETA: 11s - loss: 0.15 - ETA: 11s - loss: 0.15 - ETA: 11s - loss: 0.15 - ETA: 11s - loss: 0.15 - ETA: 11s - loss: 0.15 - ETA: 11s - loss: 0.15 - ETA: 11s - loss: 0.15 - ETA: 11s - loss: 0.15 - ETA: 10s - loss: 0.15 - ETA: 10s - loss: 0.15 - ETA: 10s - loss: 0.15 - ETA: 10s - loss: 0.15 - ETA: 10s - loss: 0.15 - ETA: 10s - loss: 0.15 - ETA: 10s - loss: 0.15 - ETA: 10s - loss: 0.15 - ETA: 10s - loss: 0.15 - ETA: 10s - loss: 0.15 - ETA: 10s - loss: 0.15 - ETA: 10s - loss: 0.15 - ETA: 10s - loss: 0.15 - ETA: 10s - loss: 0.15 - ETA: 10s - loss: 0.15 - ETA: 9s - loss: 0.1579 - ETA: 9s - loss: 0.158 - ETA: 9s - loss: 0.157 - ETA: 9s - loss: 0.158 - ETA: 9s - loss: 0.158 - ETA: 9s - loss: 0.157 - ETA: 9s - loss: 0.157 - ETA: 9s - loss: 0.157 - ETA: 9s - loss: 0.157 - ETA: 9s - loss: 0.158 - ETA: 9s - loss: 0.158 - ETA: 9s - loss: 0.158 - ETA: 9s - loss: 0.158 - ETA: 9s - loss: 0.158 - ETA: 8s - loss: 0.157 - ETA: 8s - loss: 0.157 - ETA: 8s - loss: 0.157 - ETA: 8s - loss: 0.158 - ETA: 8s - loss: 0.158 - ETA: 8s - loss: 0.158 - ETA: 8s - loss: 0.157 - ETA: 8s - loss: 0.157 - ETA: 8s - loss: 0.157 - ETA: 8s - loss: 0.157 - ETA: 8s - loss: 0.157 - ETA: 8s - loss: 0.157 - ETA: 8s - loss: 0.157 - ETA: 8s - loss: 0.157 - ETA: 8s - loss: 0.157 - ETA: 8s - loss: 0.157 - ETA: 7s - loss: 0.157 - ETA: 7s - loss: 0.157 - ETA: 7s - loss: 0.157 - ETA: 7s - loss: 0.157 - ETA: 7s - loss: 0.157 - ETA: 7s - loss: 0.157 - ETA: 7s - loss: 0.157 - ETA: 7s - loss: 0.157 - ETA: 7s - loss: 0.157 - ETA: 7s - loss: 0.157 - ETA: 7s - loss: 0.157 - ETA: 7s - loss: 0.157 - ETA: 7s - loss: 0.157 - ETA: 7s - loss: 0.157 - ETA: 6s - loss: 0.157 - ETA: 6s - loss: 0.157 - ETA: 6s - loss: 0.157 - ETA: 6s - loss: 0.157 - ETA: 6s - loss: 0.157 - ETA: 6s - loss: 0.157 - ETA: 6s - loss: 0.157 - ETA: 6s - loss: 0.157 - ETA: 6s - loss: 0.157 - ETA: 6s - loss: 0.157 - ETA: 6s - loss: 0.157 - ETA: 6s - loss: 0.157 - ETA: 6s - loss: 0.157 - ETA: 6s - loss: 0.157 - ETA: 6s - loss: 0.157 - ETA: 6s - loss: 0.157 - ETA: 6s - loss: 0.157 - ETA: 6s - loss: 0.157 - ETA: 6s - loss: 0.157 - ETA: 6s - loss: 0.157 - ETA: 6s - loss: 0.157 - ETA: 6s - loss: 0.157 - ETA: 6s - loss: 0.157 - ETA: 5s - loss: 0.157 - ETA: 5s - loss: 0.157 - ETA: 5s - loss: 0.157 - ETA: 5s - loss: 0.157 - ETA: 5s - loss: 0.157 - ETA: 5s - loss: 0.157 - ETA: 5s - loss: 0.157 - ETA: 5s - loss: 0.157 - ETA: 5s - loss: 0.157 - ETA: 5s - loss: 0.157 - ETA: 5s - loss: 0.157 - ETA: 5s - loss: 0.157 - ETA: 5s - loss: 0.157 - ETA: 5s - loss: 0.157 - ETA: 5s - loss: 0.157 - ETA: 5s - loss: 0.157 - ETA: 5s - loss: 0.157 - ETA: 5s - loss: 0.157 - ETA: 5s - loss: 0.157 - ETA: 5s - loss: 0.157 - ETA: 5s - loss: 0.157 - ETA: 5s - loss: 0.157 - ETA: 5s - loss: 0.157 - ETA: 5s - loss: 0.157 - ETA: 5s - loss: 0.157 - ETA: 4s - loss: 0.157 - ETA: 4s - loss: 0.1575"
     ]
    },
    {
     "name": "stdout",
     "output_type": "stream",
     "text": [
      "309798/309798 [==============================] - ETA: 4s - loss: 0.157 - ETA: 4s - loss: 0.157 - ETA: 4s - loss: 0.157 - ETA: 4s - loss: 0.157 - ETA: 4s - loss: 0.157 - ETA: 4s - loss: 0.157 - ETA: 4s - loss: 0.157 - ETA: 4s - loss: 0.157 - ETA: 4s - loss: 0.157 - ETA: 4s - loss: 0.157 - ETA: 4s - loss: 0.157 - ETA: 4s - loss: 0.157 - ETA: 4s - loss: 0.157 - ETA: 4s - loss: 0.157 - ETA: 4s - loss: 0.157 - ETA: 4s - loss: 0.157 - ETA: 4s - loss: 0.157 - ETA: 4s - loss: 0.157 - ETA: 4s - loss: 0.157 - ETA: 4s - loss: 0.157 - ETA: 4s - loss: 0.157 - ETA: 4s - loss: 0.157 - ETA: 4s - loss: 0.157 - ETA: 3s - loss: 0.157 - ETA: 3s - loss: 0.157 - ETA: 3s - loss: 0.157 - ETA: 3s - loss: 0.157 - ETA: 3s - loss: 0.157 - ETA: 3s - loss: 0.157 - ETA: 3s - loss: 0.157 - ETA: 3s - loss: 0.157 - ETA: 3s - loss: 0.157 - ETA: 3s - loss: 0.157 - ETA: 3s - loss: 0.157 - ETA: 3s - loss: 0.157 - ETA: 3s - loss: 0.157 - ETA: 3s - loss: 0.157 - ETA: 3s - loss: 0.157 - ETA: 3s - loss: 0.157 - ETA: 3s - loss: 0.157 - ETA: 3s - loss: 0.157 - ETA: 3s - loss: 0.157 - ETA: 3s - loss: 0.157 - ETA: 3s - loss: 0.157 - ETA: 3s - loss: 0.157 - ETA: 3s - loss: 0.157 - ETA: 3s - loss: 0.157 - ETA: 3s - loss: 0.157 - ETA: 3s - loss: 0.157 - ETA: 2s - loss: 0.157 - ETA: 2s - loss: 0.157 - ETA: 2s - loss: 0.157 - ETA: 2s - loss: 0.157 - ETA: 2s - loss: 0.157 - ETA: 2s - loss: 0.157 - ETA: 2s - loss: 0.157 - ETA: 2s - loss: 0.157 - ETA: 2s - loss: 0.157 - ETA: 2s - loss: 0.157 - ETA: 2s - loss: 0.157 - ETA: 2s - loss: 0.157 - ETA: 2s - loss: 0.157 - ETA: 2s - loss: 0.157 - ETA: 2s - loss: 0.157 - ETA: 2s - loss: 0.157 - ETA: 2s - loss: 0.157 - ETA: 2s - loss: 0.157 - ETA: 2s - loss: 0.157 - ETA: 2s - loss: 0.157 - ETA: 2s - loss: 0.157 - ETA: 2s - loss: 0.157 - ETA: 2s - loss: 0.157 - ETA: 2s - loss: 0.157 - ETA: 2s - loss: 0.157 - ETA: 1s - loss: 0.157 - ETA: 1s - loss: 0.157 - ETA: 1s - loss: 0.157 - ETA: 1s - loss: 0.157 - ETA: 1s - loss: 0.157 - ETA: 1s - loss: 0.157 - ETA: 1s - loss: 0.157 - ETA: 1s - loss: 0.157 - ETA: 1s - loss: 0.157 - ETA: 1s - loss: 0.157 - ETA: 1s - loss: 0.157 - ETA: 1s - loss: 0.157 - ETA: 1s - loss: 0.157 - ETA: 1s - loss: 0.157 - ETA: 1s - loss: 0.157 - ETA: 1s - loss: 0.157 - ETA: 1s - loss: 0.157 - ETA: 1s - loss: 0.157 - ETA: 1s - loss: 0.157 - ETA: 1s - loss: 0.157 - ETA: 1s - loss: 0.157 - ETA: 1s - loss: 0.157 - ETA: 1s - loss: 0.157 - ETA: 0s - loss: 0.157 - ETA: 0s - loss: 0.157 - ETA: 0s - loss: 0.158 - ETA: 0s - loss: 0.157 - ETA: 0s - loss: 0.157 - ETA: 0s - loss: 0.157 - ETA: 0s - loss: 0.157 - ETA: 0s - loss: 0.157 - ETA: 0s - loss: 0.158 - ETA: 0s - loss: 0.158 - ETA: 0s - loss: 0.158 - ETA: 0s - loss: 0.158 - ETA: 0s - loss: 0.157 - ETA: 0s - loss: 0.157 - ETA: 0s - loss: 0.157 - ETA: 0s - loss: 0.157 - ETA: 0s - loss: 0.157 - ETA: 0s - loss: 0.157 - ETA: 0s - loss: 0.157 - 43s 139us/step - loss: 0.1579 - val_loss: 0.1769\n"
     ]
    },
    {
     "data": {
      "text/plain": [
       "<keras.callbacks.History at 0x275906a4f60>"
      ]
     },
     "execution_count": 24,
     "metadata": {},
     "output_type": "execute_result"
    }
   ],
   "source": [
    "model.fit(X_train, y_train, epochs= 2, batch_size = 32, validation_split = 0.1)"
   ]
  },
  {
   "cell_type": "markdown",
   "metadata": {
    "colab_type": "text",
    "id": "TRIqsmRZYvXr"
   },
   "source": [
    "### 6. Делаем предсказание для test\n",
    "- Составляем test\n",
    "- Применяем модель (предсказываем POS-тег для каждого слова в тестовой выборке)\n",
    "- Смотрим на качество (accuracy по всем категориям и precision, recall, f1-score для каждой категории отдельно) "
   ]
  },
  {
   "cell_type": "code",
   "execution_count": 25,
   "metadata": {
    "colab": {},
    "colab_type": "code",
    "id": "IwcBivTiYvXt"
   },
   "outputs": [],
   "source": [
    "X_test = []\n",
    "\n",
    "for sentence in sent_test:\n",
    "    for tgt_word_idx in range(len(sentence)):\n",
    "        tgt_word_context = get_context(tgt_word_idx, sentence, WINDOWSIZE//2)\n",
    "        X_test.append([word_2_idx.get(word.encode('utf-8'), UNKNOWN_IDX) for word in tgt_word_context])\n",
    "        \n",
    "y_test = []\n",
    "for el in label_test:\n",
    "    y_test.extend([label_2_idx.get(label) for label in el])\n",
    "    \n",
    "X_test = np.array(X_test)\n",
    "y_test = np.array(y_test)"
   ]
  },
  {
   "cell_type": "code",
   "execution_count": 26,
   "metadata": {
    "colab": {},
    "colab_type": "code",
    "id": "G6XVnvUTYvX1"
   },
   "outputs": [],
   "source": [
    "idx_2_label = {v: k for k, v in label_2_idx.items()}\n",
    "pred = model.predict(X_test)\n",
    "t = np.array([idx_2_label[i] for i in y_test])\n",
    "p = np.array([idx_2_label[i] for i in np.argmax(pred, axis=1)])"
   ]
  },
  {
   "cell_type": "code",
   "execution_count": 29,
   "metadata": {
    "colab": {
     "base_uri": "https://localhost:8080/",
     "height": 391
    },
    "colab_type": "code",
    "id": "b4aW2BxOYvYA",
    "outputId": "de61ee09-09a2-40a8-f55d-a413cda56214"
   },
   "outputs": [
    {
     "name": "stdout",
     "output_type": "stream",
     "text": [
      "Accuracy: 0.9449286356980293\n",
      "              precision    recall  f1-score   support\n",
      "\n",
      "         ADJ       0.95      0.92      0.93     11879\n",
      "         ADP       0.99      0.99      0.99     10567\n",
      "         ADV       0.88      0.89      0.88      3256\n",
      "        CONJ       0.97      0.96      0.97      5494\n",
      "         DET       0.97      0.94      0.96      3068\n",
      "        INTJ       0.56      0.49      0.52        97\n",
      "        NOUN       0.96      0.97      0.97     30239\n",
      "         NUM       0.86      0.78      0.82      2448\n",
      "        PART       0.89      0.94      0.92      2182\n",
      "        PRON       0.96      0.96      0.96      2299\n",
      "       PROPN       0.82      0.90      0.85      3546\n",
      "       PUNCT       0.97      0.98      0.98     22656\n",
      "        VERB       0.98      0.96      0.97     10241\n",
      "           X       0.71      0.70      0.70      5390\n",
      "\n",
      "   micro avg       0.94      0.94      0.94    113362\n",
      "   macro avg       0.89      0.89      0.89    113362\n",
      "weighted avg       0.95      0.94      0.94    113362\n",
      "\n"
     ]
    }
   ],
   "source": [
    "from sklearn.metrics import *\n",
    "\n",
    "print('Accuracy: %s' % np.mean(t==p)) \n",
    "print(classification_report(t, p))"
   ]
  },
  {
   "cell_type": "code",
   "execution_count": 39,
   "metadata": {},
   "outputs": [
    {
     "data": {
      "image/png": "[encoded data removed]",
      "text/plain": [
       "<Figure size 1080x1080 with 1 Axes>"
      ]
     },
     "metadata": {
      "needs_background": "light"
     },
     "output_type": "display_data"
    }
   ],
   "source": [
    "import matplotlib.pyplot as plt\n",
    "import seaborn as sns\n",
    "\n",
    "m = confusion_matrix(t, p)\n",
    "\n",
    "labels = label_2_idx.keys()\n",
    "plt.figure(figsize = (15,15))\n",
    "sns.heatmap(data=m, annot=True, fmt=\"d\", cbar=False, xticklabels=labels, yticklabels=labels, cmap='tab20')\n",
    "plt.title(\"Confusion matrix\")\n",
    "plt.show()"
   ]
  }
 ],
 "metadata": {
  "colab": {
   "collapsed_sections": [],
   "name": "SENNA.ipynb",
   "provenance": [],
   "version": "0.3.2"
  },
  "kernelspec": {
   "display_name": "Python 3",
   "language": "python",
   "name": "python3"
  },
  "language_info": {
   "codemirror_mode": {
    "name": "ipython",
    "version": 3
   },
   "file_extension": ".py",
   "mimetype": "text/x-python",
   "name": "python",
   "nbconvert_exporter": "python",
   "pygments_lexer": "ipython3",
   "version": "3.6.7"
  }
 },
 "nbformat": 4,
 "nbformat_minor": 1
}

{
 "cells": [
  {
   "cell_type": "markdown",
   "metadata": {},
   "source": [
    "## Установка Tensorflow "
   ]
  },
  {
   "cell_type": "markdown",
   "metadata": {},
   "source": [
    "``` pip install tensorflow==2.0.0-beta1  ```"
   ]
  },
  {
   "cell_type": "code",
   "execution_count": 3,
   "metadata": {},
   "outputs": [
    {
     "data": {
      "text/plain": [
       "'2.0.0-beta1'"
      ]
     },
     "execution_count": 3,
     "metadata": {},
     "output_type": "execute_result"
    }
   ],
   "source": [
    "import tensorflow as tf\n",
    "tf.__version__"
   ]
  },
  {
   "cell_type": "code",
   "execution_count": 56,
   "metadata": {},
   "outputs": [
    {
     "data": {
      "text/plain": [
       "array([6., 7., 8.], dtype=float32)"
      ]
     },
     "execution_count": 56,
     "metadata": {},
     "output_type": "execute_result"
    }
   ],
   "source": [
    "a = tf.constant([1,2,3], dtype=tf.float32)\n",
    "b = tf.zeros([3])+5\n",
    "c = a + b\n",
    "c.numpy()"
   ]
  },
  {
   "cell_type": "code",
   "execution_count": 58,
   "metadata": {},
   "outputs": [],
   "source": [
    "def np_sum_squares(N):\n",
    "    return np.sum(np.arange(N)**2)"
   ]
  },
  {
   "cell_type": "code",
   "execution_count": 64,
   "metadata": {},
   "outputs": [
    {
     "name": "stdout",
     "output_type": "stream",
     "text": [
      "1.28 s ± 70.5 ms per loop (mean ± std. dev. of 7 runs, 1 loop each)\n"
     ]
    }
   ],
   "source": [
    "%%timeit\n",
    "np_sum_squares(10**8)"
   ]
  },
  {
   "cell_type": "code",
   "execution_count": 65,
   "metadata": {},
   "outputs": [],
   "source": [
    "def tf_sum_squares(N):\n",
    "    N = tf.constant(N, dtype='int64')\n",
    "    return tf.reduce_sum((tf.range(N)**2))"
   ]
  },
  {
   "cell_type": "code",
   "execution_count": 66,
   "metadata": {},
   "outputs": [
    {
     "name": "stdout",
     "output_type": "stream",
     "text": [
      "807 ms ± 34.7 ms per loop (mean ± std. dev. of 7 runs, 1 loop each)\n"
     ]
    }
   ],
   "source": [
    "%%timeit\n",
    "tf_sum_squares(10**8)"
   ]
  },
  {
   "cell_type": "code",
   "execution_count": 68,
   "metadata": {},
   "outputs": [],
   "source": [
    "@tf.function\n",
    "def tf_sum_squares(N):\n",
    "    N = tf.constant(N, dtype='int64')\n",
    "    return tf.reduce_sum((tf.range(N)**2))"
   ]
  },
  {
   "cell_type": "code",
   "execution_count": 69,
   "metadata": {},
   "outputs": [
    {
     "name": "stdout",
     "output_type": "stream",
     "text": [
      "286 µs ± 56.9 µs per loop (mean ± std. dev. of 7 runs, 1 loop each)\n"
     ]
    }
   ],
   "source": [
    "%%timeit\n",
    "tf_sum_squares(10**8)"
   ]
  },
  {
   "cell_type": "code",
   "execution_count": 70,
   "metadata": {},
   "outputs": [
    {
     "data": {
      "text/plain": [
       "'2.2.4-tf'"
      ]
     },
     "execution_count": 70,
     "metadata": {},
     "output_type": "execute_result"
    }
   ],
   "source": [
    "tf.keras.__version__"
   ]
  },
  {
   "cell_type": "code",
   "execution_count": 72,
   "metadata": {},
   "outputs": [],
   "source": [
    "celsius    = np.array([-40, -10,  0,  8, 15, 22,  38],  \n",
    "                      dtype='float32')\n",
    "\n",
    "fahrenheit = np.array([-40,  14, 32, 46, 59, 72, 100],\n",
    "                       dtype='float32')"
   ]
  },
  {
   "cell_type": "code",
   "execution_count": 75,
   "metadata": {},
   "outputs": [
    {
     "name": "stdout",
     "output_type": "stream",
     "text": [
      "[-1.1439809]\n",
      "[1.496614]\n"
     ]
    }
   ],
   "source": [
    "# параметры модели \n",
    "a = tf.Variable(tf.random.normal([1]), name='bias')\n",
    "b = tf.Variable(tf.random.normal([1]), name='k')\n",
    "\n",
    "print(a.numpy())\n",
    "print(b.numpy())"
   ]
  },
  {
   "cell_type": "code",
   "execution_count": 77,
   "metadata": {},
   "outputs": [
    {
     "data": {
      "text/plain": [
       "<tf.Tensor: id=81352, shape=(7,), dtype=float32, numpy=\n",
       "array([-61.00854  , -16.11012  ,  -1.1439809,  10.828931 ,  21.30523  ,\n",
       "        31.781527 ,  55.72735  ], dtype=float32)>"
      ]
     },
     "execution_count": 77,
     "metadata": {},
     "output_type": "execute_result"
    }
   ],
   "source": [
    "# Наша модель\n",
    "def linear_regression(x):\n",
    "    return a + b*x\n",
    "\n",
    "linear_regression(celsius)"
   ]
  },
  {
   "cell_type": "code",
   "execution_count": 79,
   "metadata": {},
   "outputs": [
    {
     "data": {
      "text/plain": [
       "<tf.Tensor: id=81369, shape=(), dtype=float32, numpy=1240.285>"
      ]
     },
     "execution_count": 79,
     "metadata": {},
     "output_type": "execute_result"
    }
   ],
   "source": [
    "# Ошибка для модели\n",
    "def mean_square(y_pred, y_true):\n",
    "    return tf.reduce_mean((y_pred-y_true)**2)\n",
    "\n",
    "y_pred = linear_regression(celsius)\n",
    "mean_square(y_pred, fahrenheit)"
   ]
  },
  {
   "cell_type": "code",
   "execution_count": 90,
   "metadata": {},
   "outputs": [],
   "source": [
    "# оптимизатор \n",
    "optimizer = tf.optimizers.SGD(learning_rate=0.001)\n",
    "\n",
    "# процесс оптимизации\n",
    "def model_train(X, Y):\n",
    "\n",
    "    # Указываем нашему дифириенцированию \n",
    "    # за какими переменными следить \n",
    "    with tf.GradientTape() as g:\n",
    "        pred = linear_regression(X)\n",
    "        loss = mean_square(pred, Y)\n",
    "\n",
    "    # Вычисляем градиенты\n",
    "    gradients = g.gradient(loss, [a, b])\n",
    "    # print(gradients)\n",
    "    \n",
    "    # Обновляем веса a и b в ходе одной итерации спуска \n",
    "    optimizer.apply_gradients(zip(gradients, [a, b]))\n",
    "    pass"
   ]
  },
  {
   "cell_type": "code",
   "execution_count": 91,
   "metadata": {},
   "outputs": [],
   "source": [
    "model_train(celsius, fahrenheit)"
   ]
  },
  {
   "cell_type": "code",
   "execution_count": 92,
   "metadata": {},
   "outputs": [
    {
     "name": "stdout",
     "output_type": "stream",
     "text": [
      "step: 0, loss: 1027.646240, a: -0.759606, b: 2.074015\n",
      "step: 100, loss: 699.663757, a: 4.961123, b: 2.025738\n",
      "step: 200, loss: 476.366180, a: 9.681405, b: 1.985902\n",
      "step: 300, loss: 324.340576, a: 13.576196, b: 1.953032\n",
      "step: 400, loss: 220.838242, a: 16.789862, b: 1.925911\n",
      "step: 500, loss: 150.371597, a: 19.441521, b: 1.903533\n",
      "step: 600, loss: 102.396172, a: 21.629465, b: 1.885069\n",
      "step: 700, loss: 69.733795, a: 23.434763, b: 1.869833\n",
      "step: 800, loss: 47.496433, a: 24.924353, b: 1.857262\n",
      "step: 900, loss: 32.356762, a: 26.153442, b: 1.846889\n",
      "step: 1000, loss: 22.049257, a: 27.167597, b: 1.838331\n",
      "step: 1100, loss: 15.031702, a: 28.004393, b: 1.831268\n",
      "step: 1200, loss: 10.254022, a: 28.694847, b: 1.825442\n",
      "step: 1300, loss: 7.001275, a: 29.264553, b: 1.820634\n",
      "step: 1400, loss: 4.786748, a: 29.734627, b: 1.816667\n",
      "step: 1500, loss: 3.279042, a: 30.122496, b: 1.813393\n",
      "step: 1600, loss: 2.252561, a: 30.442533, b: 1.810692\n",
      "step: 1700, loss: 1.553717, a: 30.706602, b: 1.808464\n",
      "step: 1800, loss: 1.077930, a: 30.924488, b: 1.806625\n",
      "step: 1900, loss: 0.754007, a: 31.104269, b: 1.805108\n"
     ]
    }
   ],
   "source": [
    "# Обучение\n",
    "epochs = 2000 # число эпох \n",
    "\n",
    "for i in range(epochs):\n",
    "    \n",
    "    # Делаем щаг градиентного спуска \n",
    "    model_train(celsius, fahrenheit)\n",
    "    \n",
    "    # Каждую сотую итерацию следим за тем, что произошло\n",
    "    if i%100 == 0:\n",
    "        y_pred = linear_regression(celsius)\n",
    "        loss_val = mean_square(y_pred, fahrenheit)\n",
    "        print(\"step: %i, loss: %f, a: %f, b: %f\" % (i, loss_val, a.numpy(), b.numpy()))\n"
   ]
  },
  {
   "cell_type": "markdown",
   "metadata": {},
   "source": [
    "## Собираем свой w2v! "
   ]
  },
  {
   "cell_type": "code",
   "execution_count": 5,
   "metadata": {},
   "outputs": [
    {
     "data": {
      "text/plain": [
       "'3.7.1'"
      ]
     },
     "execution_count": 5,
     "metadata": {},
     "output_type": "execute_result"
    }
   ],
   "source": [
    "import gensim\n",
    "gensim.__version__"
   ]
  },
  {
   "cell_type": "code",
   "execution_count": 6,
   "metadata": {},
   "outputs": [],
   "source": [
    "w2v = gensim.models.KeyedVectors.load_word2vec_format(\"184/model.bin\",\n",
    "                                                      binary=True)"
   ]
  },
  {
   "cell_type": "code",
   "execution_count": 9,
   "metadata": {},
   "outputs": [
    {
     "data": {
      "text/plain": [
       "[('митинг_PROPN', 0.5869618654251099),\n",
       " ('пикет_NOUN', 0.5843158960342407),\n",
       " ('шествие_NOUN', 0.5592673420906067),\n",
       " ('верхнепышминц_PROPN', 0.5254683494567871),\n",
       " ('брелин_PROPN', 0.5171799659729004),\n",
       " ('97-летие_NOUN', 0.5084720849990845),\n",
       " ('митинод_NOUN', 0.505733072757721),\n",
       " ('демонстрация_NOUN', 0.5037501454353333),\n",
       " ('протест_NOUN', 0.5021286606788635),\n",
       " ('санкционировать_ADJ', 0.49920910596847534)]"
      ]
     },
     "execution_count": 9,
     "metadata": {},
     "output_type": "execute_result"
    }
   ],
   "source": [
    "w2v.most_similar('митинг_NOUN')"
   ]
  },
  {
   "cell_type": "code",
   "execution_count": 17,
   "metadata": {},
   "outputs": [
    {
     "data": {
      "text/plain": [
       "249318"
      ]
     },
     "execution_count": 17,
     "metadata": {},
     "output_type": "execute_result"
    }
   ],
   "source": [
    "vocabulary = w2v.vocab\n",
    "len(vocabulary)"
   ]
  },
  {
   "cell_type": "code",
   "execution_count": 18,
   "metadata": {},
   "outputs": [
    {
     "data": {
      "text/plain": [
       "215875"
      ]
     },
     "execution_count": 18,
     "metadata": {},
     "output_type": "execute_result"
    }
   ],
   "source": [
    "len(set([item.split('_')[0] for item in vocabulary.keys()]))"
   ]
  },
  {
   "cell_type": "code",
   "execution_count": 21,
   "metadata": {},
   "outputs": [
    {
     "data": {
      "text/plain": [
       "(300,)"
      ]
     },
     "execution_count": 21,
     "metadata": {},
     "output_type": "execute_result"
    }
   ],
   "source": [
    "w2v.get_vector('любовь_NOUN').shape"
   ]
  },
  {
   "cell_type": "code",
   "execution_count": 30,
   "metadata": {},
   "outputs": [],
   "source": [
    "# уникальные слова без тэгов\n",
    "words = list(set([item.split('_')[0] for item in vocabulary.keys()]))"
   ]
  },
  {
   "cell_type": "code",
   "execution_count": 32,
   "metadata": {},
   "outputs": [
    {
     "data": {
      "text/plain": [
       "215875"
      ]
     },
     "execution_count": 32,
     "metadata": {},
     "output_type": "execute_result"
    }
   ],
   "source": [
    "len(words)"
   ]
  },
  {
   "cell_type": "code",
   "execution_count": 33,
   "metadata": {},
   "outputs": [
    {
     "data": {
      "application/vnd.jupyter.widget-view+json": {
       "model_id": "c1f8b03ed4ca40ce82372ca2837256d1",
       "version_major": 2,
       "version_minor": 0
      },
      "text/plain": [
       "HBox(children=(IntProgress(value=0, max=249318), HTML(value='')))"
      ]
     },
     "metadata": {},
     "output_type": "display_data"
    },
    {
     "name": "stdout",
     "output_type": "stream",
     "text": [
      "10000\n",
      "20000\n",
      "30000\n",
      "40000\n",
      "50000\n",
      "60000\n",
      "70000\n",
      "80000\n",
      "90000\n",
      "100000\n",
      "110000\n",
      "120000\n",
      "130000\n",
      "140000\n",
      "150000\n",
      "160000\n",
      "170000\n",
      "180000\n",
      "190000\n",
      "200000\n",
      "210000\n"
     ]
    }
   ],
   "source": [
    "import numpy as np \n",
    "from tqdm import tqdm_notebook\n",
    "\n",
    "X = np.zeros([len(words) + 2, 300])\n",
    "\n",
    "uniq_words = [\"#PAD#\", \"#UNK#\"]\n",
    "\n",
    "i = 2\n",
    "for word in tqdm_notebook(vocabulary.keys()):\n",
    "    cur_word = word.split('_')[0]\n",
    "    if cur_word in uniq_words:\n",
    "        continue \n",
    "       \n",
    "    uniq_words.append(cur_word)\n",
    "    X[i] = w2v.get_vector(word)\n",
    "    i += 1\n",
    "    if i % 10000 == 0:\n",
    "        print(i)"
   ]
  },
  {
   "cell_type": "code",
   "execution_count": 34,
   "metadata": {},
   "outputs": [
    {
     "data": {
      "text/plain": [
       "(215877, 300)"
      ]
     },
     "execution_count": 34,
     "metadata": {},
     "output_type": "execute_result"
    }
   ],
   "source": [
    "X.shape"
   ]
  },
  {
   "cell_type": "code",
   "execution_count": 36,
   "metadata": {},
   "outputs": [],
   "source": [
    "np.save('emb.npy', X)"
   ]
  },
  {
   "cell_type": "code",
   "execution_count": 39,
   "metadata": {},
   "outputs": [
    {
     "data": {
      "text/plain": [
       "True"
      ]
     },
     "execution_count": 39,
     "metadata": {},
     "output_type": "execute_result"
    }
   ],
   "source": [
    "len(uniq_words) == X.shape[0]"
   ]
  },
  {
   "cell_type": "code",
   "execution_count": 40,
   "metadata": {},
   "outputs": [],
   "source": [
    "dct = {uniq_words[i] : i for i in range(len(uniq_words))}"
   ]
  },
  {
   "cell_type": "code",
   "execution_count": 44,
   "metadata": {},
   "outputs": [],
   "source": [
    "import pickle\n",
    "\n",
    "with open('dct.pickle', 'wb') as f:\n",
    "    pickle.dump(dct, f)"
   ]
  },
  {
   "cell_type": "code",
   "execution_count": 47,
   "metadata": {},
   "outputs": [
    {
     "name": "stdout",
     "output_type": "stream",
     "text": [
      "total 2854440\r\n",
      "drwx------@ 6 fulyankin  staff   204B 14 сен 13:42 \u001b[1m\u001b[34m184\u001b[m\u001b[m\r\n",
      "-rw-r--r--  1 fulyankin  staff   7,6K 14 сен 15:51 Untitled.ipynb\r\n",
      "-rw-r--r--  1 fulyankin  staff   7,0M 14 сен 15:52 dct.pickle\r\n",
      "-rw-r--r--  1 fulyankin  staff   494M 14 сен 15:49 emb.npy\r\n",
      "-rw-r--r--@ 1 fulyankin  staff    42K 14 сен 15:11 my_base_file.ipynb\r\n",
      "-rw-r--r--@ 1 fulyankin  staff   893M 14 сен 13:47 ria_news_2018.pickle\r\n"
     ]
    }
   ],
   "source": [
    "!ls -lh"
   ]
  },
  {
   "cell_type": "markdown",
   "metadata": {},
   "source": [
    "## Данные"
   ]
  },
  {
   "cell_type": "code",
   "execution_count": 94,
   "metadata": {},
   "outputs": [],
   "source": [
    "import pickle\n",
    "\n",
    "# Подгружаем все данные, что у нас есть \n",
    "with open('ria_news_2018.pickle', 'rb') as f:\n",
    "    ria_news = pickle.load(f)"
   ]
  },
  {
   "cell_type": "code",
   "execution_count": 101,
   "metadata": {},
   "outputs": [
    {
     "data": {
      "text/plain": [
       "{'category': 'В мире',\n",
       " 'date': '2018-12-31',\n",
       " 'day': '31',\n",
       " 'href': '/20181231/1548961410.html',\n",
       " 'image': 'https://cdn25.img.ria.ru/images/153303/06/1533030626_0:247:3501:2216_1036x0_80_0_0_291c92f1d31f7b2a613588e6a96164cb.jpg',\n",
       " 'keywords': 'биньямин нетаньяху, израиль, в мире',\n",
       " 'month': '12',\n",
       " 'shows': '728',\n",
       " 'snippet': 'Премьер-министр Израиля Биньямин Нетаньяху не намерен уходить в отставку в случае предъявления ему обвинений в коррупции, сообщает израильский телеканал i24... РИА Новости, 31.12.2018',\n",
       " 'tags': 'Биньямин Нетаньяху, Израиль, В мире',\n",
       " 'text': 'МОСКВА, 31 дек - РИА Новости. Премьер-министр Израиля Биньямин Нетаньяху не намерен уходить в отставку в случае предъявления ему обвинений в коррупции, сообщает израильский телеканал i24 News. В начале декабря полиция рекомендовала генпрокуратуре предъявить обвинения в коррупции Нетаньяху и его супруге Саре по итогам расследования дела об их отношениях с руководством крупнейшей в стране телекоммуникационной компании \"Безек\". Как отмечает телеканал, в случае предъявления обвинений глава правительства законодательно обязан уйти в отставку только в случае, если будет исчерпан его апелляционный ресурс. Нетаньяху проходит подозреваемым еще по двум другим уголовным делам, которые полиция уже передала в прокуратуру с рекомендацией предъявить ему те же обвинения — во взяточничестве, мошенничестве и злоупотреблении доверием. Во всех случаях премьер настаивает на своей невиновности, выражает уверенность, что расследования против него завершатся ничем, и обещает еще многие годы руководить страной.',\n",
       " 'time': '31 декабря 2018, 23:52',\n",
       " 'title': 'Нетаньяху не собирается в отставку в случае предъявления обвинений ',\n",
       " 'year': '2018'}"
      ]
     },
     "execution_count": 101,
     "metadata": {},
     "output_type": "execute_result"
    }
   ],
   "source": [
    "ria_news[0]"
   ]
  },
  {
   "cell_type": "code",
   "execution_count": 103,
   "metadata": {},
   "outputs": [
    {
     "data": {
      "text/plain": [
       "{'',\n",
       " 'Акценты - Радио Sputnik',\n",
       " 'АртВывих',\n",
       " 'В мире',\n",
       " 'Видеоблоги - Радио Sputnik',\n",
       " 'Инфографика',\n",
       " 'Культура',\n",
       " 'Навигатор абитуриента',\n",
       " 'Наука',\n",
       " 'Недвижимость',\n",
       " 'Общество',\n",
       " 'Политика',\n",
       " 'Программы - Радио Sputnik',\n",
       " 'Происшествия',\n",
       " 'Радио',\n",
       " 'Религия',\n",
       " 'Сказано в эфире - Радио Sputnik',\n",
       " 'Социальный навигатор',\n",
       " 'Спецпроекты - Радио Sputnik',\n",
       " 'Спорт',\n",
       " 'Теория заблуждений',\n",
       " 'Туризм',\n",
       " 'Экономика'}"
      ]
     },
     "execution_count": 103,
     "metadata": {},
     "output_type": "execute_result"
    }
   ],
   "source": [
    "set([item['category'] for item in ria_news])"
   ]
  },
  {
   "cell_type": "code",
   "execution_count": 104,
   "metadata": {},
   "outputs": [
    {
     "data": {
      "text/plain": [
       "32896"
      ]
     },
     "execution_count": 104,
     "metadata": {},
     "output_type": "execute_result"
    }
   ],
   "source": [
    "len([item for item in ria_news if item['category'] == ''])"
   ]
  },
  {
   "cell_type": "code",
   "execution_count": 105,
   "metadata": {},
   "outputs": [
    {
     "data": {
      "text/plain": [
       "168901"
      ]
     },
     "execution_count": 105,
     "metadata": {},
     "output_type": "execute_result"
    }
   ],
   "source": [
    "len([item for item in ria_news if item['category'] != ''])"
   ]
  },
  {
   "cell_type": "code",
   "execution_count": 106,
   "metadata": {},
   "outputs": [],
   "source": [
    "ria_news = [item for item in ria_news if item['category'] != '']"
   ]
  },
  {
   "cell_type": "code",
   "execution_count": 108,
   "metadata": {},
   "outputs": [],
   "source": [
    "title = [item['title'] for item in ria_news]\n",
    "category = [item['category'] for item in ria_news]"
   ]
  },
  {
   "cell_type": "code",
   "execution_count": 109,
   "metadata": {},
   "outputs": [
    {
     "data": {
      "text/plain": [
       "462"
      ]
     },
     "execution_count": 109,
     "metadata": {},
     "output_type": "execute_result"
    }
   ],
   "source": [
    "dct['война']"
   ]
  },
  {
   "cell_type": "code",
   "execution_count": 112,
   "metadata": {},
   "outputs": [
    {
     "data": {
      "text/plain": [
       "array([ 0.56003535,  0.11304086, -0.16566475, -0.10764477, -0.37499669])"
      ]
     },
     "execution_count": 112,
     "metadata": {},
     "output_type": "execute_result"
    }
   ],
   "source": [
    "X[462][:5]"
   ]
  },
  {
   "cell_type": "code",
   "execution_count": 119,
   "metadata": {},
   "outputs": [],
   "source": [
    "import re\n",
    "from nltk.tokenize import RegexpTokenizer\n",
    "tokenizer = RegexpTokenizer(r'\\w+')\n",
    "\n",
    "def prepare_text(text, limit):\n",
    "    text = re.sub('[^а-яa-zё]', ' ', text.lower())\n",
    "    clear_text = tokenizer.tokenize(text)\n",
    "    \n",
    "    clear_text = [dct.get(item, 1) for item in clear_text] \n",
    "    \n",
    "    if len(clear_text) < limit:\n",
    "        clear_text += [0]*(limit - len(clear_text))\n",
    "    return clear_text[:limit]"
   ]
  },
  {
   "cell_type": "code",
   "execution_count": 120,
   "metadata": {},
   "outputs": [
    {
     "data": {
      "text/plain": [
       "[5229, 8815, 1, 1, 100828, 1, 1, 1, 1, 0, 0, 0, 0, 0, 0]"
      ]
     },
     "execution_count": 120,
     "metadata": {},
     "output_type": "execute_result"
    }
   ],
   "source": [
    "prepare_text(title[0], 15)"
   ]
  },
  {
   "cell_type": "code",
   "execution_count": 123,
   "metadata": {},
   "outputs": [
    {
     "data": {
      "image/png": "[encoded data removed]",
      "text/plain": [
       "<Figure size 432x288 with 1 Axes>"
      ]
     },
     "metadata": {
      "needs_background": "light"
     },
     "output_type": "display_data"
    }
   ],
   "source": [
    "import matplotlib.pyplot as plt\n",
    "plt.hist([len(text.split(' ')) for text in title]);"
   ]
  },
  {
   "cell_type": "code",
   "execution_count": 124,
   "metadata": {},
   "outputs": [
    {
     "name": "stdout",
     "output_type": "stream",
     "text": [
      "CPU times: user 2.92 s, sys: 47.2 ms, total: 2.97 s\n",
      "Wall time: 2.97 s\n"
     ]
    }
   ],
   "source": [
    "%%time\n",
    "TITLE_LEN = 10\n",
    "\n",
    "X_title = [prepare_text(text, TITLE_LEN) for text in title]"
   ]
  },
  {
   "cell_type": "code",
   "execution_count": 130,
   "metadata": {},
   "outputs": [
    {
     "data": {
      "text/plain": [
       "array([2, 2, 2, ..., 8, 2, 2])"
      ]
     },
     "execution_count": 130,
     "metadata": {},
     "output_type": "execute_result"
    }
   ],
   "source": [
    "from sklearn.preprocessing import LabelEncoder\n",
    "\n",
    "lbl = LabelEncoder()\n",
    "category_labled = lbl.fit_transform(category)\n",
    "category_labled "
   ]
  },
  {
   "cell_type": "code",
   "execution_count": 131,
   "metadata": {},
   "outputs": [
    {
     "data": {
      "text/plain": [
       "array([[0., 0., 1., 0., 0., 0., 0., 0., 0., 0.],\n",
       "       [0., 0., 1., 0., 0., 0., 0., 0., 0., 0.],\n",
       "       [0., 0., 1., 0., 0., 0., 0., 0., 0., 0.],\n",
       "       [0., 0., 1., 0., 0., 0., 0., 0., 0., 0.],\n",
       "       [0., 0., 0., 0., 0., 0., 0., 0., 0., 1.]], dtype=float32)"
      ]
     },
     "execution_count": 131,
     "metadata": {},
     "output_type": "execute_result"
    }
   ],
   "source": [
    "# Сделали OHE для таргета! \n",
    "tf.keras.utils.to_categorical(category_labled [:5])"
   ]
  },
  {
   "cell_type": "code",
   "execution_count": 132,
   "metadata": {},
   "outputs": [],
   "source": [
    "y = tf.keras.utils.to_categorical(category_labled)"
   ]
  },
  {
   "cell_type": "code",
   "execution_count": 137,
   "metadata": {},
   "outputs": [],
   "source": [
    "from sklearn.model_selection import train_test_split\n",
    "\n",
    "Xt_train, Xt_test, y_train, y_test = train_test_split(X_title,y,\n",
    "                                                      test_size=0.2)"
   ]
  },
  {
   "cell_type": "markdown",
   "metadata": {},
   "source": [
    "## Архитектура! "
   ]
  },
  {
   "cell_type": "code",
   "execution_count": 143,
   "metadata": {},
   "outputs": [
    {
     "data": {
      "text/plain": [
       "<tf.Tensor: id=210227, shape=(10,), dtype=float64, numpy=array([0., 0., 0., 0., 0., 0., 0., 0., 0., 0.])>"
      ]
     },
     "execution_count": 143,
     "metadata": {},
     "output_type": "execute_result"
    }
   ],
   "source": [
    "X.shape  # эмбединги\n",
    "\n",
    "word_embeddings = tf.Variable(X, name=\"word_embeddings\",\n",
    "                               trainable=False)\n",
    "\n",
    "word_embeddings[0][:10]"
   ]
  },
  {
   "cell_type": "code",
   "execution_count": 181,
   "metadata": {},
   "outputs": [
    {
     "data": {
      "text/plain": [
       "(168901, 22)"
      ]
     },
     "execution_count": 181,
     "metadata": {},
     "output_type": "execute_result"
    }
   ],
   "source": [
    "y.shape"
   ]
  },
  {
   "cell_type": "code",
   "execution_count": 188,
   "metadata": {},
   "outputs": [],
   "source": [
    "import tensorflow.keras.layers as L\n",
    "\n",
    "fc_layer_11 = L.Dense(32, activation = tf.nn.relu)\n",
    "fc_layer_12 = L.Dense(32, activation = tf.nn.relu)\n",
    "fc_layer_2 = L.Dense(y.shape[1], activation = tf.nn.softmax)\n",
    "\n",
    "def best_in_the_world_net(y, X):\n",
    "    # подставляет эмбединги вместо слов, [число текстов x 10 x 300]\n",
    "    title_emb = tf.nn.embedding_lookup(word_embeddings, X)\n",
    "    \n",
    "    # усреднение [число текстов x 300]\n",
    "    emb1 = tf.reduce_mean(title_emb, axis=1)\n",
    "    \n",
    "    # возмём покоординатно максимум\n",
    "    emb2 = tf.reduce_max(title_emb, axis=1)\n",
    "    \n",
    "    # h = emb * W \n",
    "    emb1 = fc_layer_11(emb1)\n",
    "    emb2 = fc_layer_12(emb2)\n",
    "    \n",
    "    # запишем среднее и максимум друг за другом\n",
    "    emb = tf.concat([emb1, emb2], axis=1)\n",
    "    \n",
    "    # готовим 22 класса и применяем softmax \n",
    "    emb = fc_layer_2(emb)\n",
    "    return emb"
   ]
  },
  {
   "cell_type": "code",
   "execution_count": 189,
   "metadata": {},
   "outputs": [
    {
     "data": {
      "text/plain": [
       "<tf.Tensor: id=210659, shape=(2, 22), dtype=float64, numpy=\n",
       "array([[0.05863108, 0.02662387, 0.0783545 , 0.03396285, 0.02949152,\n",
       "        0.04470915, 0.04402488, 0.04392253, 0.02165879, 0.013673  ,\n",
       "        0.0264413 , 0.0541948 , 0.04166177, 0.03284282, 0.0884323 ,\n",
       "        0.05908745, 0.10169268, 0.03822117, 0.02967922, 0.05121294,\n",
       "        0.02231324, 0.05916813],\n",
       "       [0.04028916, 0.01196469, 0.07501324, 0.03217173, 0.02565023,\n",
       "        0.041402  , 0.03703912, 0.04296329, 0.01998138, 0.00881743,\n",
       "        0.02565694, 0.04795571, 0.03679612, 0.02020398, 0.08685935,\n",
       "        0.06149658, 0.10129445, 0.0735731 , 0.06053682, 0.04587431,\n",
       "        0.03741428, 0.0670461 ]])>"
      ]
     },
     "execution_count": 189,
     "metadata": {},
     "output_type": "execute_result"
    }
   ],
   "source": [
    "best_in_the_world_net(y_train[:2], Xt_train[:2])"
   ]
  },
  {
   "cell_type": "code",
   "execution_count": 212,
   "metadata": {},
   "outputs": [
    {
     "data": {
      "text/plain": [
       "<tf.Tensor: id=210830, shape=(2, 22), dtype=float64, numpy=\n",
       "array([[0.05863108, 0.02662387, 0.0783545 , 0.03396285, 0.02949152,\n",
       "        0.04470915, 0.04402488, 0.04392253, 0.02165879, 0.013673  ,\n",
       "        0.0264413 , 0.0541948 , 0.04166177, 0.03284282, 0.0884323 ,\n",
       "        0.05908745, 0.10169268, 0.03822117, 0.02967922, 0.05121294,\n",
       "        0.02231324, 0.05916813],\n",
       "       [0.04028916, 0.01196469, 0.07501324, 0.03217173, 0.02565023,\n",
       "        0.041402  , 0.03703912, 0.04296329, 0.01998138, 0.00881743,\n",
       "        0.02565694, 0.04795571, 0.03679612, 0.02020398, 0.08685935,\n",
       "        0.06149658, 0.10129445, 0.0735731 , 0.06053682, 0.04587431,\n",
       "        0.03741428, 0.0670461 ]])>"
      ]
     },
     "execution_count": 212,
     "metadata": {},
     "output_type": "execute_result"
    }
   ],
   "source": [
    "p_pred = best_in_the_world_net(y_train[:2], Xt_train[:2])\n",
    "p_pred"
   ]
  },
  {
   "cell_type": "code",
   "execution_count": 213,
   "metadata": {},
   "outputs": [],
   "source": [
    "y_true = y_train[:2]"
   ]
  },
  {
   "cell_type": "code",
   "execution_count": 216,
   "metadata": {},
   "outputs": [
    {
     "data": {
      "text/plain": [
       "<tf.Tensor: id=210850, shape=(), dtype=float64, numpy=2.8577092665010047>"
      ]
     },
     "execution_count": 216,
     "metadata": {},
     "output_type": "execute_result"
    }
   ],
   "source": [
    "# Ошибка для модели\n",
    "def logloss(p_pred, y_true):\n",
    "    return tf.reduce_mean(-1*tf.reduce_sum(y_true*tf.math.log(p_pred),\n",
    "                                           axis=1),axis=0)\n",
    "logloss(p_pred, y_train[:2])"
   ]
  },
  {
   "cell_type": "code",
   "execution_count": 217,
   "metadata": {},
   "outputs": [],
   "source": [
    "# оптимизатор \n",
    "optimizer = tf.optimizers.SGD(learning_rate=0.001)"
   ]
  },
  {
   "cell_type": "code",
   "execution_count": 218,
   "metadata": {},
   "outputs": [],
   "source": [
    "# процесс оптимизации\n",
    "def model_train(X, Y):\n",
    "\n",
    "    # Указываем нашему дифириенцированию \n",
    "    # за какими переменными следить \n",
    "    with tf.GradientTape() as g:\n",
    "        pred = best_in_the_world_net(X)\n",
    "        loss = logloss(pred, Y)\n",
    "\n",
    "    # Вычисляем градиенты\n",
    "    gradients = g.gradient(loss, [a, b])\n",
    "    # print(gradients)\n",
    "    \n",
    "    # Обновляем веса a и b в ходе одной итерации спуска \n",
    "    optimizer.apply_gradients(zip(gradients, [a, b]))\n",
    "    pass"
   ]
  },
  {
   "cell_type": "code",
   "execution_count": null,
   "metadata": {},
   "outputs": [],
   "source": [
    "model_train(X, Y)"
   ]
  },
  {
   "cell_type": "code",
   "execution_count": 220,
   "metadata": {
    "scrolled": true
   },
   "outputs": [
    {
     "ename": "AttributeError",
     "evalue": "'tensorflow.python.framework.ops.EagerTensor' object has no attribute 'trainable_variables'",
     "output_type": "error",
     "traceback": [
      "\u001b[0;31m---------------------------------------------------------------------------\u001b[0m",
      "\u001b[0;31mAttributeError\u001b[0m                            Traceback (most recent call last)",
      "\u001b[0;32m<ipython-input-220-255e158c753c>\u001b[0m in \u001b[0;36m<module>\u001b[0;34m\u001b[0m\n\u001b[0;32m----> 1\u001b[0;31m \u001b[0mp_pred\u001b[0m\u001b[0;34m.\u001b[0m\u001b[0mtrainable_variables\u001b[0m\u001b[0;34m\u001b[0m\u001b[0;34m\u001b[0m\u001b[0m\n\u001b[0m",
      "\u001b[0;31mAttributeError\u001b[0m: 'tensorflow.python.framework.ops.EagerTensor' object has no attribute 'trainable_variables'"
     ]
    }
   ],
   "source": [
    "# ОУ ЩИТ! \n",
    "p_pred.trainable_variables"
   ]
  },
  {
   "cell_type": "markdown",
   "metadata": {},
   "source": [
    "# ЗАНОВО! "
   ]
  },
  {
   "cell_type": "code",
   "execution_count": 223,
   "metadata": {},
   "outputs": [],
   "source": [
    "from tensorflow.keras import Model\n",
    "\n",
    "class NeuralNet_2(Model):\n",
    "    # инициализация всех слоёв \n",
    "    def __init__(self):\n",
    "        super(NeuralNet_2, self).__init__()\n",
    "        self.fc_layer_11 = L.Dense(32, activation = tf.nn.relu)\n",
    "        self.fc_layer_12 = L.Dense(32, activation = tf.nn.relu)\n",
    "        self.fc_layer_2 = L.Dense(y.shape[1], activation = tf.nn.softmax)\n",
    "\n",
    "    # примение \n",
    "    def call(self, X, is_training=False):\n",
    "        \n",
    "        # подставляет эмбединги вместо слов, [число текстов x 10 x 300]\n",
    "        title_emb = tf.nn.embedding_lookup(word_embeddings, X)\n",
    "        \n",
    "        # усреднение [число текстов x 300]\n",
    "        emb1 = tf.reduce_mean(title_emb, axis=1)\n",
    "\n",
    "        # возмём покоординатно максимум\n",
    "        emb2 = tf.reduce_max(title_emb, axis=1)\n",
    "\n",
    "        # h = emb * W \n",
    "        emb1 = self.fc_layer_11(emb1)\n",
    "        emb2 = self.fc_layer_12(emb2)\n",
    "\n",
    "        # запишем среднее и максимум друг за другом\n",
    "        emb = tf.concat([emb1, emb2], axis=1)\n",
    "\n",
    "        # готовим 22 класса и применяем softmax \n",
    "        emb = self.fc_layer_2(emb)\n",
    "        return emb"
   ]
  },
  {
   "cell_type": "code",
   "execution_count": 224,
   "metadata": {},
   "outputs": [],
   "source": [
    "# Build neural network model.\n",
    "neural_net = NeuralNet_2()"
   ]
  },
  {
   "cell_type": "code",
   "execution_count": 225,
   "metadata": {},
   "outputs": [
    {
     "data": {
      "text/plain": [
       "<tf.Tensor: id=210940, shape=(2, 22), dtype=float64, numpy=\n",
       "array([[0.05193065, 0.02557935, 0.02268721, 0.01020724, 0.01398864,\n",
       "        0.02316426, 0.04217159, 0.03379473, 0.0728834 , 0.02768781,\n",
       "        0.04918218, 0.14353078, 0.03812063, 0.1092432 , 0.06715428,\n",
       "        0.02480914, 0.04679897, 0.03351585, 0.02070424, 0.05155719,\n",
       "        0.01420924, 0.07707941],\n",
       "       [0.06135809, 0.0149961 , 0.02018393, 0.00472698, 0.00773998,\n",
       "        0.01767431, 0.0397786 , 0.03600329, 0.07843847, 0.01979223,\n",
       "        0.0633953 , 0.13743459, 0.03541753, 0.10526493, 0.04728267,\n",
       "        0.01558435, 0.05250735, 0.03254406, 0.02728033, 0.03380963,\n",
       "        0.01234865, 0.13643865]])>"
      ]
     },
     "execution_count": 225,
     "metadata": {},
     "output_type": "execute_result"
    }
   ],
   "source": [
    "neural_net.call(Xt_train[:2])"
   ]
  },
  {
   "cell_type": "code",
   "execution_count": 234,
   "metadata": {},
   "outputs": [],
   "source": [
    "# процесс оптимизации\n",
    "def model_train(X, Y):\n",
    "\n",
    "    # Указываем нашему дифириенцированию \n",
    "    # за какими переменными следить \n",
    "    with tf.GradientTape() as g:\n",
    "        pred = neural_net(X)\n",
    "        loss = logloss(pred, Y)\n",
    "    \n",
    "    # вытаскиваем переменные для взятия производных\n",
    "    trainable_variables = neural_net.trainable_variables\n",
    "    \n",
    "    # Вычисляем градиенты\n",
    "    gradients = g.gradient(loss, trainable_variables)\n",
    "#     for item in gradients:\n",
    "#         print(item.shape)\n",
    "    \n",
    "    # Обновляем веса a и b в ходе одной итерации спуска \n",
    "    optimizer.apply_gradients(zip(gradients, trainable_variables))\n",
    "    pass"
   ]
  },
  {
   "cell_type": "code",
   "execution_count": 235,
   "metadata": {},
   "outputs": [],
   "source": [
    "model_train(Xt_train[:2], y_train[:2])"
   ]
  },
  {
   "cell_type": "code",
   "execution_count": 240,
   "metadata": {},
   "outputs": [
    {
     "name": "stdout",
     "output_type": "stream",
     "text": [
      "step: 0, loss: 3.274314\n",
      "step: 1, loss: 3.269409\n",
      "step: 2, loss: 3.264539\n",
      "step: 3, loss: 3.259706\n",
      "step: 4, loss: 3.254908\n"
     ]
    }
   ],
   "source": [
    "# Обучение\n",
    "epochs = 5 # число эпох \n",
    "\n",
    "for i in range(epochs):\n",
    "    \n",
    "    # Делаем щаг градиентного спуска \n",
    "    model_train(Xt_train, y_train)\n",
    "    \n",
    "    # Каждую сотую итерацию следим за тем, что произошло\n",
    "    y_pred = neural_net(Xt_test)\n",
    "    loss_val = logloss(y_pred, y_test)\n",
    "    print(\"step: %i, loss: %f\" % (i, loss_val))\n"
   ]
  },
  {
   "cell_type": "markdown",
   "metadata": {},
   "source": [
    "### Пример со свёрткой"
   ]
  },
  {
   "cell_type": "code",
   "execution_count": 268,
   "metadata": {},
   "outputs": [],
   "source": [
    "conv = L.Conv1D(1, 4)# , padding='same')"
   ]
  },
  {
   "cell_type": "code",
   "execution_count": 269,
   "metadata": {},
   "outputs": [
    {
     "data": {
      "text/plain": [
       "TensorShape([2, 10, 300])"
      ]
     },
     "execution_count": 269,
     "metadata": {},
     "output_type": "execute_result"
    }
   ],
   "source": [
    "emb = tf.nn.embedding_lookup(word_embeddings, Xt_train[:2])\n",
    "emb.shape"
   ]
  },
  {
   "cell_type": "code",
   "execution_count": 270,
   "metadata": {},
   "outputs": [
    {
     "data": {
      "text/plain": [
       "TensorShape([2, 7, 1])"
      ]
     },
     "execution_count": 270,
     "metadata": {},
     "output_type": "execute_result"
    }
   ],
   "source": [
    "conv(emb).shape"
   ]
  },
  {
   "cell_type": "code",
   "execution_count": null,
   "metadata": {},
   "outputs": [],
   "source": []
  },
  {
   "cell_type": "code",
   "execution_count": null,
   "metadata": {},
   "outputs": [],
   "source": []
  },
  {
   "cell_type": "code",
   "execution_count": null,
   "metadata": {},
   "outputs": [],
   "source": []
  }
 ],
 "metadata": {
  "kernelspec": {
   "display_name": "Python 3",
   "language": "python",
   "name": "python3"
  },
  "language_info": {
   "codemirror_mode": {
    "name": "ipython",
    "version": 3
   },
   "file_extension": ".py",
   "mimetype": "text/x-python",
   "name": "python",
   "nbconvert_exporter": "python",
   "pygments_lexer": "ipython3",
   "version": "3.7.2"
  }
 },
 "nbformat": 4,
 "nbformat_minor": 2
}

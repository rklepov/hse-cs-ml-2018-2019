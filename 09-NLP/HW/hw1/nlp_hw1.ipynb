{
  "nbformat": 4,
  "nbformat_minor": 0,
  "metadata": {
    "colab": {
      "name": "nlp_hw1.ipynb",
      "version": "0.3.2",
      "provenance": [],
      "collapsed_sections": [],
      "include_colab_link": true
    },
    "kernelspec": {
      "name": "python3",
      "display_name": "Python 3"
    }
  },
  "cells": [
    {
      "cell_type": "markdown",
      "metadata": {
        "id": "view-in-github",
        "colab_type": "text"
      },
      "source": [
        "<a href=\"https://colab.research.google.com/github/rklepov/hse-cs-ml-2018-2019/blob/homework/09-NLP/HW/hw1/nlp_hw1.ipynb\" target=\"_parent\"><img src=\"https://colab.research.google.com/assets/colab-badge.svg\" alt=\"Open In Colab\"/></a>"
      ]
    },
    {
      "cell_type": "markdown",
      "metadata": {
        "id": "9HVhZGqLvEA3",
        "colab_type": "text"
      },
      "source": [
        "# *NLP HW1*\n",
        "\n",
        "### [*Задание*](https://github.com/rklepov/hse-cs-ml-2018-2019/blob/master/09-NLP/01-preprocessing/texts_sem1.ipynb)\n",
        "\n",
        "Скачать текст [\"Капитанской дочки\"](https://www.dropbox.com/s/aky2md6724r3yww/%D0%BA%D0%B0%D0%BF%D0%B8%D1%82%D0%B0%D0%BD%D1%81%D0%BA%D0%B0%D1%8F%20%D0%B4%D0%BE%D1%87%D0%BA%D0%B0.txt?dl=0)\n",
        "\n",
        "1. Найти длину текста в токенах и леммах (после удаления пунктуации).\n",
        "2. Проверить, соблюдается ли закон Ципфа и построить диаграмму с 20 самыми частотными словами (после удаления стоп-слов).\n",
        "3. Найти среднюю длину предложения.\n",
        "4. Найти самую частотную часть речи до удаления стоп-слов и после удаления. Постороить графики частотности частей речи.\n",
        "\n",
        "---"
      ]
    },
    {
      "cell_type": "code",
      "metadata": {
        "id": "4xYAym0b09Nd",
        "colab_type": "code",
        "colab": {}
      },
      "source": [
        "!pip install rusenttokenize\n",
        "!pip install pymorphy2"
      ],
      "execution_count": 0,
      "outputs": []
    },
    {
      "cell_type": "code",
      "metadata": {
        "id": "IJtklzqq0pCl",
        "colab_type": "code",
        "colab": {}
      },
      "source": [
        "import re\n",
        "import string\n",
        "import numpy as np\n",
        "import matplotlib.pyplot as plt\n",
        "%matplotlib inline\n",
        "plt.style.use('ggplot')"
      ],
      "execution_count": 0,
      "outputs": []
    },
    {
      "cell_type": "code",
      "metadata": {
        "id": "sB0RefAWQAip",
        "colab_type": "code",
        "outputId": "0acbe4cb-5f4f-4b05-c4db-6b149af35214",
        "colab": {
          "base_uri": "https://localhost:8080/",
          "height": 52
        }
      },
      "source": [
        "import nltk\n",
        "from nltk.tokenize import WordPunctTokenizer\n",
        "from nltk.corpus import stopwords \n",
        "nltk.download('stopwords')\n",
        "\n",
        "from rusenttokenize import ru_sent_tokenize\n",
        "\n",
        "import pymorphy2"
      ],
      "execution_count": 3,
      "outputs": [
        {
          "output_type": "stream",
          "text": [
            "[nltk_data] Downloading package stopwords to /root/nltk_data...\n",
            "[nltk_data]   Package stopwords is already up-to-date!\n"
          ],
          "name": "stdout"
        }
      ]
    },
    {
      "cell_type": "code",
      "metadata": {
        "id": "n65G-o-btdzV",
        "colab_type": "code",
        "outputId": "17fda270-a9dd-4cd8-adc8-a228f625677a",
        "colab": {
          "base_uri": "https://localhost:8080/",
          "height": 34
        }
      },
      "source": [
        "from google.colab import drive\n",
        "drive.mount('/content/gdrive')"
      ],
      "execution_count": 4,
      "outputs": [
        {
          "output_type": "stream",
          "text": [
            "Drive already mounted at /content/gdrive; to attempt to forcibly remount, call drive.mount(\"/content/gdrive\", force_remount=True).\n"
          ],
          "name": "stdout"
        }
      ]
    },
    {
      "cell_type": "code",
      "metadata": {
        "id": "y6L8pH4DtxqK",
        "colab_type": "code",
        "outputId": "1b204654-19db-49f8-844d-13071056a68f",
        "colab": {
          "base_uri": "https://localhost:8080/",
          "height": 34
        }
      },
      "source": [
        "!ls -hAlF *.txt"
      ],
      "execution_count": 5,
      "outputs": [
        {
          "output_type": "stream",
          "text": [
            "-rw------- 1 root root 378K Sep  7 20:04 'капитанская дочка.txt'\n"
          ],
          "name": "stdout"
        }
      ]
    },
    {
      "cell_type": "code",
      "metadata": {
        "id": "xR2m6VLZubZZ",
        "colab_type": "code",
        "colab": {}
      },
      "source": [
        "with open('капитанская дочка.txt', 'r') as the_captains_daughter:\n",
        "    full_text = the_captains_daughter.read()"
      ],
      "execution_count": 0,
      "outputs": []
    },
    {
      "cell_type": "markdown",
      "metadata": {
        "id": "Mp8RcyZubqxv",
        "colab_type": "text"
      },
      "source": [
        "## 1. *Токенизация*"
      ]
    },
    {
      "cell_type": "code",
      "metadata": {
        "id": "d-whM7SA92E9",
        "colab_type": "code",
        "outputId": "597958c1-f822-4e44-e0f1-126bc185c81e",
        "colab": {
          "base_uri": "https://localhost:8080/",
          "height": 52
        }
      },
      "source": [
        "tokenizer = WordPunctTokenizer()\n",
        "\n",
        "tokens = tokenizer.tokenize(full_text)\n",
        "\n",
        "print(f'Общее количество токенов:\\n{len(tokens)}')"
      ],
      "execution_count": 7,
      "outputs": [
        {
          "output_type": "stream",
          "text": [
            "Общее количество токенов:\n",
            "42234\n"
          ],
          "name": "stdout"
        }
      ]
    },
    {
      "cell_type": "markdown",
      "metadata": {
        "id": "s9yYXdXRgUND",
        "colab_type": "text"
      },
      "source": [
        "Удалим токены, полностью состоящие из знаков препинания, а также удалим возможные оставшиеся знаки препинания по краям слов."
      ]
    },
    {
      "cell_type": "code",
      "metadata": {
        "id": "fJIzzFykn7Vl",
        "colab_type": "code",
        "colab": {}
      },
      "source": [
        "def make_remove_punct(regexp):\n",
        "    re_punct = re.compile(regexp)\n",
        "    def remove_punct(tokens):\n",
        "        return [ w.strip(string.punctuation) for w in tokens if re_punct.match(w) is None ]\n",
        "    return remove_punct\n",
        "\n",
        "remove_punct = make_remove_punct(r'^[^\\w]+$')"
      ],
      "execution_count": 0,
      "outputs": []
    },
    {
      "cell_type": "code",
      "metadata": {
        "id": "dfjKn__RJMYX",
        "colab_type": "code",
        "outputId": "850ce2c5-efc1-497c-f439-acecbe45be8c",
        "colab": {
          "base_uri": "https://localhost:8080/",
          "height": 52
        }
      },
      "source": [
        "tokens = remove_punct(tokens)\n",
        "\n",
        "print(f'Общее количество токенов после удаления пунктуации:\\n{len(tokens)}')"
      ],
      "execution_count": 9,
      "outputs": [
        {
          "output_type": "stream",
          "text": [
            "Общее количество токенов после удаления пунктуации:\n",
            "33107\n"
          ],
          "name": "stdout"
        }
      ]
    },
    {
      "cell_type": "code",
      "metadata": {
        "id": "_ZGIJNRMNjMV",
        "colab_type": "code",
        "outputId": "a876267b-fd9d-4388-e646-41f5499a636a",
        "colab": {
          "base_uri": "https://localhost:8080/",
          "height": 34
        }
      },
      "source": [
        "print(tokens[:9999][-12:])"
      ],
      "execution_count": 10,
      "outputs": [
        {
          "output_type": "stream",
          "text": [
            "['Кто', 'просил', 'тебя', 'писать', 'на', 'меня', 'доносы', 'разве', 'ты', 'приставлен', 'ко', 'мне']\n"
          ],
          "name": "stdout"
        }
      ]
    },
    {
      "cell_type": "markdown",
      "metadata": {
        "id": "BiinQrllfyV1",
        "colab_type": "text"
      },
      "source": [
        "## 2. *Закон Ципфа*"
      ]
    },
    {
      "cell_type": "code",
      "metadata": {
        "id": "3CFhiagaFB4z",
        "colab_type": "code",
        "colab": {}
      },
      "source": [
        "def plot_token_freq(tokens, title, n=20):\n",
        "    np_tokens = np.array(list(tokens))\n",
        "    uniq_tokens, token_count = np.unique(np_tokens, return_counts=True)\n",
        "    count_order = np.argsort(-token_count)\n",
        "    n = np.amin([n, len(uniq_tokens)])\n",
        "    plt.figure(figsize=(12, 6))\n",
        "    plt.bar(np.arange(n), token_count[count_order][:n], color='g')\n",
        "    plt.xlabel('Слово')\n",
        "    plt.xticks(np.arange(n), uniq_tokens[count_order][:n])\n",
        "    plt.ylabel('Количество вхождений')\n",
        "    plt.title(f'{n} cамых {title}')\n",
        "    plt.setp(plt.gca().get_xticklabels(), rotation=90, horizontalalignment='right')\n",
        "    plt.show()"
      ],
      "execution_count": 0,
      "outputs": []
    },
    {
      "cell_type": "markdown",
      "metadata": {
        "id": "3XsL7BZ9f6nX",
        "colab_type": "text"
      },
      "source": [
        "Приведение к нижнему регистру, удаление стоп-слов."
      ]
    },
    {
      "cell_type": "code",
      "metadata": {
        "id": "rFEQwf69m8lp",
        "colab_type": "code",
        "colab": {}
      },
      "source": [
        "stopwords_ru = stopwords.words('russian')"
      ],
      "execution_count": 0,
      "outputs": []
    },
    {
      "cell_type": "code",
      "metadata": {
        "id": "X6t6v5BeRXmy",
        "colab_type": "code",
        "outputId": "ff0cf24d-82e0-4578-ba97-f43ddeb4373e",
        "colab": {
          "base_uri": "https://localhost:8080/",
          "height": 34
        }
      },
      "source": [
        "tokens_lower = [ w.lower() for w in tokens if w.lower() ]\n",
        "\n",
        "tokens_no_stop_words = [ w for w in tokens_lower if w not in stopwords_ru ]\n",
        "\n",
        "len(tokens_lower), len(tokens_no_stop_words)"
      ],
      "execution_count": 13,
      "outputs": [
        {
          "output_type": "execute_result",
          "data": {
            "text/plain": [
              "(33107, 20482)"
            ]
          },
          "metadata": {
            "tags": []
          },
          "execution_count": 13
        }
      ]
    },
    {
      "cell_type": "markdown",
      "metadata": {
        "id": "qslqNDVrHvVW",
        "colab_type": "text"
      },
      "source": [
        "Сначала посмотрим на частотность слов без лемматизации."
      ]
    },
    {
      "cell_type": "code",
      "metadata": {
        "id": "e5JFwLtum8Zi",
        "colab_type": "code",
        "outputId": "cc5ec353-1a75-4313-8a69-f9085ab0bb4c",
        "colab": {
          "base_uri": "https://localhost:8080/",
          "height": 452
        }
      },
      "source": [
        "plot_token_freq(tokens_no_stop_words, 'частотных слов');"
      ],
      "execution_count": 14,
      "outputs": [
        {
          "output_type": "display_data",
          "data": {
            "image/png": "[encoded data removed]",
            "text/plain": [
              "<Figure size 864x432 with 1 Axes>"
            ]
          },
          "metadata": {
            "tags": []
          }
        }
      ]
    },
    {
      "cell_type": "markdown",
      "metadata": {
        "id": "YMhE7KlNH37W",
        "colab_type": "text"
      },
      "source": [
        "Теперь посмотрим на частотность слов после лемматизации."
      ]
    },
    {
      "cell_type": "code",
      "metadata": {
        "id": "tUlw_96ptaSP",
        "colab_type": "code",
        "colab": {}
      },
      "source": [
        "morph = pymorphy2.MorphAnalyzer()"
      ],
      "execution_count": 0,
      "outputs": []
    },
    {
      "cell_type": "code",
      "metadata": {
        "id": "OBX51jqVm8JO",
        "colab_type": "code",
        "outputId": "787d3420-1ca7-4e77-813b-56068d4bc1be",
        "colab": {
          "base_uri": "https://localhost:8080/",
          "height": 446
        }
      },
      "source": [
        "lemmas = [ morph.normal_forms(w)[0] for w in tokens_no_stop_words ]\n",
        "\n",
        "plot_token_freq(lemmas, 'частотных лемм');"
      ],
      "execution_count": 16,
      "outputs": [
        {
          "output_type": "display_data",
          "data": {
            "image/png": "[encoded data removed]",
            "text/plain": [
              "<Figure size 864x432 with 1 Axes>"
            ]
          },
          "metadata": {
            "tags": []
          }
        }
      ]
    },
    {
      "cell_type": "markdown",
      "metadata": {
        "id": "BIgjxBBcIGpu",
        "colab_type": "text"
      },
      "source": [
        "Думаю, что в целом можно утверждать, что закон Ципфа выполняется. Возможно, имена собственные здесь вносят некоторое искажение, но это уже особенность художественного произведения."
      ]
    },
    {
      "cell_type": "markdown",
      "metadata": {
        "id": "KoU-GuNcmxJj",
        "colab_type": "text"
      },
      "source": [
        "## 3. *Предложения*"
      ]
    },
    {
      "cell_type": "code",
      "metadata": {
        "id": "KWNBPBam94Ic",
        "colab_type": "code",
        "colab": {}
      },
      "source": [
        "sentences = ru_sent_tokenize(full_text) "
      ],
      "execution_count": 0,
      "outputs": []
    },
    {
      "cell_type": "code",
      "metadata": {
        "id": "_zWa5B4t-6YG",
        "colab_type": "code",
        "outputId": "4f113bb8-cbe3-49c1-c60f-3ea4a7980c68",
        "colab": {
          "base_uri": "https://localhost:8080/",
          "height": 34
        }
      },
      "source": [
        "print(f'Всего предложений: {len(sentences)}')"
      ],
      "execution_count": 18,
      "outputs": [
        {
          "output_type": "stream",
          "text": [
            "Всего предложений: 3116\n"
          ],
          "name": "stdout"
        }
      ]
    },
    {
      "cell_type": "code",
      "metadata": {
        "id": "8Bn0dw82-OZu",
        "colab_type": "code",
        "outputId": "cce7c00d-9b2a-4fa0-b1a5-6214a7aedb5f",
        "colab": {
          "base_uri": "https://localhost:8080/",
          "height": 125
        }
      },
      "source": [
        "sentences[:1000][-5:]"
      ],
      "execution_count": 19,
      "outputs": [
        {
          "output_type": "execute_result",
          "data": {
            "text/plain": [
              "['Со Швабриным встречался редко и неохотно, тем более что замечал в нем скрытую к себе неприязнь, что и утверждало меня в моих подозрениях.',\n",
              " 'Жизнь моя сделалась мне несносна.',\n",
              " 'Я впал в мрачную задумчивость, которую питали одиночество и бездействие.',\n",
              " 'Любовь моя разгоралась в уединении и час от часу становилась мне тягостнее.',\n",
              " 'Я потерял охоту к чтению и словесности.']"
            ]
          },
          "metadata": {
            "tags": []
          },
          "execution_count": 19
        }
      ]
    },
    {
      "cell_type": "code",
      "metadata": {
        "id": "glUMCkDZAX4j",
        "colab_type": "code",
        "colab": {}
      },
      "source": [
        "sentences_tokenized = [  remove_punct(tokenizer.tokenize(s)) for s in sentences ]"
      ],
      "execution_count": 0,
      "outputs": []
    },
    {
      "cell_type": "code",
      "metadata": {
        "id": "EtbkBKx8_J4i",
        "colab_type": "code",
        "outputId": "1a2eefab-5095-4f32-9db6-c0a60f8fa5d2",
        "colab": {
          "base_uri": "https://localhost:8080/",
          "height": 34
        }
      },
      "source": [
        "print(f'Средняя длина предложения: {np.mean([ len(s) for s in sentences ]):.2f} букв'\n",
        "      f', {np.mean([len(s) for s in sentences_tokenized]):.2f} слов')"
      ],
      "execution_count": 21,
      "outputs": [
        {
          "output_type": "stream",
          "text": [
            "Средняя длина предложения: 67.29 букв, 10.62 слов\n"
          ],
          "name": "stdout"
        }
      ]
    },
    {
      "cell_type": "markdown",
      "metadata": {
        "id": "fzGgQEPg_YnS",
        "colab_type": "text"
      },
      "source": [
        "## 4. [*Части речи*](https://pymorphy2.readthedocs.io/en/latest/user/grammemes.html#russian-pos \"OpenCorpora: открытый корпус русского языка\")"
      ]
    },
    {
      "cell_type": "markdown",
      "metadata": {
        "id": "VbgfYXh1bFqT",
        "colab_type": "text"
      },
      "source": [
        "По анализу [**pymorphy2**](https://pymorphy2.readthedocs.io/en/latest/user/guide.html#id4 \"Руководство пользователя &mdash; Морфологический анализатор pymorphy2\") *до* удаления стоп слов. Токены, для которых [часть речи](http://opencorpora.org/dict.php?act=gram \"OpenCorpora: открытый корпус русского языка\") не была определена исключаем."
      ]
    },
    {
      "cell_type": "code",
      "metadata": {
        "id": "FNaZmIBSbTY0",
        "colab_type": "code",
        "colab": {}
      },
      "source": [
        "def morph_parse_pos(tokens):\n",
        "    pos = ( morph.parse(w)[0].tag.POS for w in tokens )\n",
        "    return ( morph.lat2cyr(p) for p in pos if not p is None )"
      ],
      "execution_count": 0,
      "outputs": []
    },
    {
      "cell_type": "code",
      "metadata": {
        "id": "NlS8UQpaTv4T",
        "colab_type": "code",
        "outputId": "029a8d4e-e082-4375-d811-55c50b026ccb",
        "colab": {
          "base_uri": "https://localhost:8080/",
          "height": 445
        }
      },
      "source": [
        "plot_token_freq(morph_parse_pos(tokens_lower), 'частотных частей речи (до удаления стоп-слов)');"
      ],
      "execution_count": 23,
      "outputs": [
        {
          "output_type": "display_data",
          "data": {
            "image/png": "[encoded data removed]",
            "text/plain": [
              "<Figure size 864x432 with 1 Axes>"
            ]
          },
          "metadata": {
            "tags": []
          }
        }
      ]
    },
    {
      "cell_type": "markdown",
      "metadata": {
        "id": "ejv0piO-cOJQ",
        "colab_type": "text"
      },
      "source": [
        "По анализу [**pymorphy2**](https://pymorphy2.readthedocs.io/en/latest/user/guide.html#id4 \"Руководство пользователя &mdash; Морфологический анализатор pymorphy2\") *после* удаления стоп слов."
      ]
    },
    {
      "cell_type": "code",
      "metadata": {
        "id": "LpPVHDWiXT7l",
        "colab_type": "code",
        "outputId": "08c0f338-d08b-4a50-9283-9f966d277249",
        "colab": {
          "base_uri": "https://localhost:8080/",
          "height": 445
        }
      },
      "source": [
        "plot_token_freq(morph_parse_pos(tokens_no_stop_words), 'частотных частей речи (после удаления стоп-слов)');"
      ],
      "execution_count": 24,
      "outputs": [
        {
          "output_type": "display_data",
          "data": {
            "image/png": "[encoded data removed]",
            "text/plain": [
              "<Figure size 864x432 with 1 Axes>"
            ]
          },
          "metadata": {
            "tags": []
          }
        }
      ]
    }
  ]
}
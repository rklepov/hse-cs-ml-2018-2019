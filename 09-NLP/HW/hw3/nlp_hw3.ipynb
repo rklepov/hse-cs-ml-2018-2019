{
  "nbformat": 4,
  "nbformat_minor": 0,
  "metadata": {
    "colab": {
      "name": "nlp_hw3.ipynb",
      "provenance": [],
      "collapsed_sections": [],
      "toc_visible": true,
      "include_colab_link": true
    },
    "kernelspec": {
      "name": "python3",
      "display_name": "Python 3"
    },
    "accelerator": "GPU"
  },
  "cells": [
    {
      "cell_type": "markdown",
      "metadata": {
        "id": "view-in-github",
        "colab_type": "text"
      },
      "source": [
        "<a href=\"https://colab.research.google.com/github/rklepov/hse-cs-ml-2018-2019/blob/homework/09-NLP/HW/hw3/nlp_hw3.ipynb\" target=\"_parent\"><img src=\"https://colab.research.google.com/assets/colab-badge.svg\" alt=\"Open In Colab\"/></a>"
      ]
    },
    {
      "cell_type": "markdown",
      "metadata": {
        "id": "BHgELKUzMDoW",
        "colab_type": "text"
      },
      "source": [
        "# [*HW_texts*](https://github.com/rklepov/hse-cs-ml-2018-2019/blob/homework/09-NLP/HW/HW_texts.ipynb \"HW_texts.ipynb\") / Задание 2\n",
        "\n",
        "---\n"
      ]
    },
    {
      "cell_type": "code",
      "metadata": {
        "id": "gBFeM_jdM7ep",
        "colab_type": "code",
        "colab": {}
      },
      "source": [
        "import pickle\n",
        "import os\n",
        "\n",
        "import warnings\n",
        "[ warnings.simplefilter(action='ignore', category=w) for w in [UserWarning, DeprecationWarning, FutureWarning] ];"
      ],
      "execution_count": 0,
      "outputs": []
    },
    {
      "cell_type": "code",
      "metadata": {
        "id": "Y82rnubsqeSl",
        "colab_type": "code",
        "outputId": "f73e34a7-d581-4be0-c736-1ea43ed5fd0f",
        "colab": {
          "base_uri": "https://localhost:8080/",
          "height": 51
        }
      },
      "source": [
        "import string\n",
        "import re\n",
        "\n",
        "import nltk\n",
        "from nltk.corpus import stopwords\n",
        "nltk.download('stopwords')\n",
        "from nltk.tokenize import WhitespaceTokenizer"
      ],
      "execution_count": 2,
      "outputs": [
        {
          "output_type": "stream",
          "text": [
            "[nltk_data] Downloading package stopwords to /root/nltk_data...\n",
            "[nltk_data]   Package stopwords is already up-to-date!\n"
          ],
          "name": "stdout"
        }
      ]
    },
    {
      "cell_type": "code",
      "metadata": {
        "id": "givKYci0it1L",
        "colab_type": "code",
        "colab": {}
      },
      "source": [
        "import gensim\n",
        "\n",
        "from gensim.models.word2vec import Word2Vec\n",
        "from gensim.models.phrases import Phrases, Phraser"
      ],
      "execution_count": 0,
      "outputs": []
    },
    {
      "cell_type": "code",
      "metadata": {
        "id": "mzwYaM5FMIiQ",
        "colab_type": "code",
        "outputId": "846d0389-d130-4667-84a1-32e99dc95407",
        "colab": {
          "base_uri": "https://localhost:8080/",
          "height": 34
        }
      },
      "source": [
        "from google.colab import drive\n",
        "drive.mount('/content/gdrive')"
      ],
      "execution_count": 4,
      "outputs": [
        {
          "output_type": "stream",
          "text": [
            "Drive already mounted at /content/gdrive; to attempt to forcibly remount, call drive.mount(\"/content/gdrive\", force_remount=True).\n"
          ],
          "name": "stdout"
        }
      ]
    },
    {
      "cell_type": "markdown",
      "metadata": {
        "id": "U8e-b55vdahy",
        "colab_type": "text"
      },
      "source": [
        "## Корпус текстов"
      ]
    },
    {
      "cell_type": "markdown",
      "metadata": {
        "id": "c1vzq86edPeM",
        "colab_type": "text"
      },
      "source": [
        "Загрузка корпуса текстов (новости с сайта РИА-новости):"
      ]
    },
    {
      "cell_type": "code",
      "metadata": {
        "id": "S2sE2aBUMbrf",
        "colab_type": "code",
        "outputId": "6bc2a144-00a2-43c0-e1ea-60845ab306d8",
        "colab": {
          "base_uri": "https://localhost:8080/",
          "height": 51
        }
      },
      "source": [
        "!ls -hl data/\n",
        "\n",
        "with open('data/ria_news_2018.pickle', 'rb') as f:\n",
        "    ria_news = pickle.load(f)"
      ],
      "execution_count": 5,
      "outputs": [
        {
          "output_type": "stream",
          "text": [
            "total 893M\n",
            "-rw------- 1 root root 893M Sep 30 10:02 ria_news_2018.pickle\n"
          ],
          "name": "stdout"
        }
      ]
    },
    {
      "cell_type": "markdown",
      "metadata": {
        "id": "uE0GftWtbglx",
        "colab_type": "text"
      },
      "source": [
        "### Подготовка текста\n",
        "\n",
        "\n",
        "\n",
        "*   Очистка от пунктуации (используем регулярное выражение)\n",
        "*   Приведение к нижнему регистру\n",
        "*   Токенизация (просто по пробельным символам)\n",
        "*   _Без лемматизации_ (большой корпус)\n",
        "*   Удаление стоп-слов\n",
        "\n",
        "\n",
        "\n"
      ]
    },
    {
      "cell_type": "code",
      "metadata": {
        "id": "EC6jx3hFabgR",
        "colab_type": "code",
        "colab": {}
      },
      "source": [
        "def make_punct_remover(pattern = r'[^\\w]+'):\n",
        "    regex = re.compile(pattern)\n",
        "    return lambda text : regex.sub(' ', text)"
      ],
      "execution_count": 0,
      "outputs": []
    },
    {
      "cell_type": "code",
      "metadata": {
        "id": "Y8IfN44rafC6",
        "colab_type": "code",
        "colab": {}
      },
      "source": [
        "def make_prepare_text(punct_remover, tokenizer, lemmatizer, stopwords):\n",
        "    def prepare_text(text):\n",
        "        text = punct_remover(text)    \n",
        "        words = tokenizer.tokenize(text.lower())\n",
        "        words = lemmatizer(words)\n",
        "        words = [ w for w in words if len(w) > 1 and w not in stopwords ]\n",
        "        return words\n",
        "    return prepare_text"
      ],
      "execution_count": 0,
      "outputs": []
    },
    {
      "cell_type": "code",
      "metadata": {
        "id": "rtn1JVDaalo2",
        "colab_type": "code",
        "colab": {}
      },
      "source": [
        "stop_words_ru = [ item for item in stopwords.words('russian') ]\n",
        "stop_words_en = stopwords.words('english') \n",
        "\n",
        "stop_words = frozenset(stop_words_ru + stop_words_en)"
      ],
      "execution_count": 0,
      "outputs": []
    },
    {
      "cell_type": "markdown",
      "metadata": {
        "id": "Dw0hzbjWeBrF",
        "colab_type": "text"
      },
      "source": [
        "Функция подготовки текста:"
      ]
    },
    {
      "cell_type": "code",
      "metadata": {
        "id": "uX-ADGLVqAgK",
        "colab_type": "code",
        "colab": {}
      },
      "source": [
        "prepare_text = make_prepare_text(make_punct_remover(),\n",
        "                                 WhitespaceTokenizer(),\n",
        "                                 lambda x: x, # trivial \"lemmatizer\"\n",
        "                                 stop_words)                               "
      ],
      "execution_count": 0,
      "outputs": []
    },
    {
      "cell_type": "markdown",
      "metadata": {
        "id": "22S4mQTbxGf3",
        "colab_type": "text"
      },
      "source": [
        "### Генератор документов"
      ]
    },
    {
      "cell_type": "markdown",
      "metadata": {
        "id": "dpg_lEaEdgCF",
        "colab_type": "text"
      },
      "source": [
        "Объединяем заголовок и текст новости, применяем препроцессинг и возвращаем итоговый список слов."
      ]
    },
    {
      "cell_type": "code",
      "metadata": {
        "id": "zCf2c_hnppKg",
        "colab_type": "code",
        "colab": {}
      },
      "source": [
        "def doc_gen(corpus, prepare_text):\n",
        "    for doc in corpus:\n",
        "        text = ' '.join([doc['title'], doc['text']])\n",
        "        yield prepare_text(text)"
      ],
      "execution_count": 0,
      "outputs": []
    },
    {
      "cell_type": "markdown",
      "metadata": {
        "id": "zKc8YSC4fojx",
        "colab_type": "text"
      },
      "source": [
        "Поскольку по документам корпуса необходимо будет проходить несколько раз (**n** раз при выделении **n**-грамм и потом ещё раз при обучении модели), то, чтобы не повторять препроцессинг много раз, однократно применим его к текстам и сохраним результат (в список списков слов). В данном случае объём памяти позволяет нам это сделать. В противном случае пришлось бы искать иные варианты: либо согласиться на многократное повторение предобработки в генераторе текстов (который, в свою очередь, пришлось бы создавать несколько раз), либо пройтись предобработкой по текстам один раз, сохраняя результаты для каждого текста в отдельный файл в общей для корпуса текстов директории. Во втором случае потом потребовалось бы использовать другой генератор, который бы умел подгружать тексты из файлов (см. [`glob`](https://docs.python.org/3/library/glob.html \"glob — Unix style pathname pattern expansion &#8212; Python documentation\") и т.д.)."
      ]
    },
    {
      "cell_type": "code",
      "metadata": {
        "id": "jM42zYKlBS2O",
        "colab_type": "code",
        "colab": {}
      },
      "source": [
        "ria_news_corpus = [ text for text in doc_gen(ria_news, prepare_text) ]"
      ],
      "execution_count": 0,
      "outputs": []
    },
    {
      "cell_type": "markdown",
      "metadata": {
        "id": "MO1GmW33o_VO",
        "colab_type": "text"
      },
      "source": [
        "Оригинальный список новостей из `ria_news_2018.pickle` нам больше не потребуется, поэтому для освобождения памяти его можно удалить."
      ]
    },
    {
      "cell_type": "code",
      "metadata": {
        "id": "LHF7TRL5pAi3",
        "colab_type": "code",
        "colab": {}
      },
      "source": [
        "del ria_news"
      ],
      "execution_count": 0,
      "outputs": []
    },
    {
      "cell_type": "markdown",
      "metadata": {
        "id": "yQ0oruWlm1Gj",
        "colab_type": "text"
      },
      "source": [
        "Генератор **n**-грам (для выбранного **n**) на основе [`gensim Phraser`](https://radimrehurek.com/gensim/models/phrases.html \"gensim: models.phrases – Phrase (collocation) detection\"):"
      ]
    },
    {
      "cell_type": "code",
      "metadata": {
        "id": "ZdBsnVKpfk_d",
        "colab_type": "code",
        "colab": {}
      },
      "source": [
        "def apply_transformers(transformers, doc):\n",
        "    if 0 == len(transformers):\n",
        "        return doc\n",
        "    return apply_transformers(transformers[1:], transformers[0][doc])\n",
        "\n",
        "def ngram_generator(corpus, transformers):\n",
        "    for text in corpus:\n",
        "        yield apply_transformers(transformers, [word for word in text])\n",
        "\n",
        "def make_ngram_gen(make_corpus, ngram_gen, transformers, ngram, **kwargs):\n",
        "    if 1 >= ngram:\n",
        "        return ngram_gen, transformers\n",
        "    transformers += [ Phraser(Phrases(ngram_gen)) ]\n",
        "    generator = ngram_generator(make_corpus(**kwargs), transformers)\n",
        "    return make_ngram_gen(make_corpus, generator, transformers, ngram - 1, **kwargs)\n",
        "\n",
        "def make_ngram_gen_and_save(root_dir, pre, make_uni_gen, ngram):\n",
        "    ngram_gen, ngram_trans = make_ngram_gen(make_uni_gen, make_uni_gen(), [], ngram)\n",
        "    for n, transformer in enumerate(ngram_trans):\n",
        "        transformer.save(os.path.join(root_dir, f'{pre}_{n + 2}gram.transformer'))\n",
        "    return ngram_gen, ngram_trans"
      ],
      "execution_count": 0,
      "outputs": []
    },
    {
      "cell_type": "markdown",
      "metadata": {
        "id": "O1smAULLniUB",
        "colab_type": "text"
      },
      "source": [
        "Создадим генератор *би*грамм и сохраним построителя *би*грамм ([`Phraser`](https://radimrehurek.com/gensim/models/phrases.html \"gensim: models.phrases – Phrase (collocation) detection\")) для дальнейшей возможности переиспользования, потому что обучается он довольно долго."
      ]
    },
    {
      "cell_type": "code",
      "metadata": {
        "id": "6Zsn1-umUmHQ",
        "colab_type": "code",
        "colab": {}
      },
      "source": [
        "make_uni_gen = lambda: (doc for doc in ria_news_corpus)\n",
        "\n",
        "bigram_trans_path = 'model/ria_news_2gram.transformer'\n",
        "\n",
        "!mkdir -p model/\n",
        "\n",
        "if not os.path.exists(bigram_trans_path):\n",
        "    bigram_gen, bigram_trans = make_ngram_gen_and_save('model', 'ria_news', make_uni_gen, 2)\n",
        "else:\n",
        "    bigram_trans = [ Phraser.load(bigram_trans_path) ]\n",
        "    bigram_gen = ngram_generator(make_uni_gen(), bigram_trans)"
      ],
      "execution_count": 0,
      "outputs": []
    },
    {
      "cell_type": "markdown",
      "metadata": {
        "id": "Y6V3-jrPn59o",
        "colab_type": "text"
      },
      "source": [
        "### Модель Word2Vec"
      ]
    },
    {
      "cell_type": "markdown",
      "metadata": {
        "id": "iYlJwxZ_oElN",
        "colab_type": "text"
      },
      "source": [
        "Если ещё нет ранее обученной и сохранённой модели, то сначала выполняем построение словаря, а потом обучаем модель (перед вторым действием повторно создаём генератор, потому что предыдущий уже закончил итерирование)."
      ]
    },
    {
      "cell_type": "code",
      "metadata": {
        "id": "5spNJ5g8Y5cK",
        "colab_type": "code",
        "outputId": "6c7db3ab-363b-4664-ea19-c139c2fd049e",
        "colab": {
          "base_uri": "https://localhost:8080/",
          "height": 68
        }
      },
      "source": [
        "%%time\n",
        "\n",
        "w2v_model_path = 'model/ria_news_w2v_2gram_300.model'\n",
        "\n",
        "!mkdir -p model/\n",
        "\n",
        "if not os.path.exists(w2v_model_path):\n",
        "    w2v_model = Word2Vec(size=300, window=7, min_count=10, workers=8)\n",
        "    w2v_model.build_vocab(bigram_gen)\n",
        "    bigram_gen = ngram_generator(make_uni_gen(), bigram_trans)\n",
        "    w2v_model.train(bigram_gen, total_examples=w2v_model.corpus_count, epochs=20)\n",
        "    w2v_model.save(w2v_model_path)\n",
        "else:\n",
        "    w2v_model = Word2Vec.load(w2v_model_path)\n",
        "\n",
        "print(w2v_model)"
      ],
      "execution_count": 15,
      "outputs": [
        {
          "output_type": "stream",
          "text": [
            "Word2Vec(vocab=231435, size=300, alpha=0.025)\n",
            "CPU times: user 6min 16s, sys: 2.06 s, total: 6min 18s\n",
            "Wall time: 4min 21s\n"
          ],
          "name": "stdout"
        }
      ]
    },
    {
      "cell_type": "markdown",
      "metadata": {
        "id": "-2zWfMnfxSSH",
        "colab_type": "text"
      },
      "source": [
        "## Свойства модели"
      ]
    },
    {
      "cell_type": "code",
      "metadata": {
        "id": "JmhF7zOOx3kt",
        "colab_type": "code",
        "outputId": "c92c9227-2d26-4db2-d197-5ba42b7a376b",
        "colab": {
          "base_uri": "https://localhost:8080/",
          "height": 102
        }
      },
      "source": [
        "w2v_model.wv.most_similar('москва')[:5]"
      ],
      "execution_count": 16,
      "outputs": [
        {
          "output_type": "execute_result",
          "data": {
            "text/plain": [
              "[('волгоград_екатеринбург', 0.7432365417480469),\n",
              " ('британских_дипломата', 0.7392398118972778),\n",
              " ('категорически_отвергает', 0.7117505669593811),\n",
              " ('казань_калининград', 0.7116988301277161),\n",
              " ('неоднократно_высказывала', 0.693545937538147)]"
            ]
          },
          "metadata": {
            "tags": []
          },
          "execution_count": 16
        }
      ]
    },
    {
      "cell_type": "markdown",
      "metadata": {
        "id": "40fhVyPWxV6C",
        "colab_type": "text"
      },
      "source": [
        "### Арифметика"
      ]
    },
    {
      "cell_type": "code",
      "metadata": {
        "id": "ZROqq--tOcgt",
        "colab_type": "code",
        "colab": {
          "base_uri": "https://localhost:8080/",
          "height": 102
        },
        "outputId": "dcfcd853-8e01-46a4-ccb1-32d1fca958e2"
      },
      "source": [
        "w2v_model.most_similar(positive=['москва', 'франция'], negative=['россия'])[:5]"
      ],
      "execution_count": 17,
      "outputs": [
        {
          "output_type": "execute_result",
          "data": {
            "text/plain": [
              "[('британских_дипломата', 0.804212212562561),\n",
              " ('лондон_париж', 0.7469882369041443),\n",
              " ('российских_дипломата', 0.7165673971176147),\n",
              " ('нидерланды', 0.7158944606781006),\n",
              " ('чехия', 0.7157461643218994)]"
            ]
          },
          "metadata": {
            "tags": []
          },
          "execution_count": 17
        }
      ]
    },
    {
      "cell_type": "code",
      "metadata": {
        "id": "wgbShNnHxdkL",
        "colab_type": "code",
        "outputId": "e8a9b72b-2a5c-4395-e121-4aa47450d8bd",
        "colab": {
          "base_uri": "https://localhost:8080/",
          "height": 102
        }
      },
      "source": [
        "w2v_model.most_similar(positive=['москва', 'екатеринбург'], negative=['собянин'])[:5]"
      ],
      "execution_count": 18,
      "outputs": [
        {
          "output_type": "execute_result",
          "data": {
            "text/plain": [
              "[('новатор_московская', 0.7216000556945801),\n",
              " ('ростов_дону', 0.7214747667312622),\n",
              " ('екатеринбург_казань', 0.6864383220672607),\n",
              " ('дельта_саратов', 0.6818997859954834),\n",
              " ('сити_ленинградская', 0.6740564107894897)]"
            ]
          },
          "metadata": {
            "tags": []
          },
          "execution_count": 18
        }
      ]
    },
    {
      "cell_type": "code",
      "metadata": {
        "id": "3yVY-HLqOSF3",
        "colab_type": "code",
        "colab": {
          "base_uri": "https://localhost:8080/",
          "height": 102
        },
        "outputId": "cd661bf8-64c1-4fac-cf66-10555610ef28"
      },
      "source": [
        "w2v_model.most_similar(positive=['спартак', 'санкт_петербург'], negative=['москва'])[:5]"
      ],
      "execution_count": 19,
      "outputs": [
        {
          "output_type": "execute_result",
          "data": {
            "text/plain": [
              "[('первой_домашней', 0.9051880836486816),\n",
              " ('домашние_матчи', 0.8987385034561157),\n",
              " ('торпедо', 0.8929771780967712),\n",
              " ('арене', 0.8884447813034058),\n",
              " ('смолов_перешел', 0.8858283758163452)]"
            ]
          },
          "metadata": {
            "tags": []
          },
          "execution_count": 19
        }
      ]
    },
    {
      "cell_type": "code",
      "metadata": {
        "id": "2QfzgKR4Ojyv",
        "colab_type": "code",
        "colab": {
          "base_uri": "https://localhost:8080/",
          "height": 102
        },
        "outputId": "ef2d1ff4-0f8d-44a4-800e-124e3a2f1346"
      },
      "source": [
        "w2v_model.most_similar(positive=['иркутск', 'сочи'], negative=['байкал'])[:5]"
      ],
      "execution_count": 20,
      "outputs": [
        {
          "output_type": "execute_result",
          "data": {
            "text/plain": [
              "[('якутск_сен', 0.7628297209739685),\n",
              " ('фоторабот', 0.7478163242340088),\n",
              " ('соцвыплат', 0.7466264963150024),\n",
              " ('28_июл', 0.7453728318214417),\n",
              " ('венеция_сен', 0.7417500019073486)]"
            ]
          },
          "metadata": {
            "tags": []
          },
          "execution_count": 20
        }
      ]
    },
    {
      "cell_type": "code",
      "metadata": {
        "id": "PowRdkMCOkH4",
        "colab_type": "code",
        "colab": {
          "base_uri": "https://localhost:8080/",
          "height": 102
        },
        "outputId": "d412d69f-dc25-4bb3-b71e-45e55e971adc"
      },
      "source": [
        "w2v_model.most_similar(positive=['чай', 'кофе'], negative=['лимон'])[:5]"
      ],
      "execution_count": 21,
      "outputs": [
        {
          "output_type": "execute_result",
          "data": {
            "text/plain": [
              "[('погружаться', 0.9500764608383179),\n",
              " ('устроен', 0.949739396572113),\n",
              " ('окружающую', 0.9477403163909912),\n",
              " ('резко_изменилась', 0.9466489553451538),\n",
              " ('успеваешь', 0.9459283947944641)]"
            ]
          },
          "metadata": {
            "tags": []
          },
          "execution_count": 21
        }
      ]
    },
    {
      "cell_type": "code",
      "metadata": {
        "id": "p5-pLLXzOke-",
        "colab_type": "code",
        "colab": {
          "base_uri": "https://localhost:8080/",
          "height": 102
        },
        "outputId": "76351f16-e84e-4249-e46d-72f6ddc33e59"
      },
      "source": [
        "w2v_model.most_similar(positive=['авиакомпания', 'ржд'], negative=['аэрофлот'])[:5]"
      ],
      "execution_count": 22,
      "outputs": [
        {
          "output_type": "execute_result",
          "data": {
            "text/plain": [
              "[('экспертизу', 0.8235124945640564),\n",
              " ('сотрудница', 0.8220018148422241),\n",
              " ('регистрации_транспортных', 0.8209173679351807),\n",
              " ('администрация', 0.8182415962219238),\n",
              " ('проверило', 0.8159729838371277)]"
            ]
          },
          "metadata": {
            "tags": []
          },
          "execution_count": 22
        }
      ]
    },
    {
      "cell_type": "markdown",
      "metadata": {
        "id": "PSUOmJ0aQSus",
        "colab_type": "text"
      },
      "source": [
        "### Найтии лишнее"
      ]
    },
    {
      "cell_type": "code",
      "metadata": {
        "id": "k8t9xbuUQYy0",
        "colab_type": "code",
        "colab": {
          "base_uri": "https://localhost:8080/",
          "height": 34
        },
        "outputId": "7b035711-dd53-4954-d315-0ee184799e83"
      },
      "source": [
        " w2v_model.doesnt_match(['магазин', 'супермаркет', 'рынок', 'тц'])"
      ],
      "execution_count": 23,
      "outputs": [
        {
          "output_type": "execute_result",
          "data": {
            "text/plain": [
              "'рынок'"
            ]
          },
          "metadata": {
            "tags": []
          },
          "execution_count": 23
        }
      ]
    },
    {
      "cell_type": "code",
      "metadata": {
        "id": "Z5p0zHW2QaKF",
        "colab_type": "code",
        "colab": {
          "base_uri": "https://localhost:8080/",
          "height": 34
        },
        "outputId": "71b8b510-e53d-4868-b848-7642ae57fc00"
      },
      "source": [
        "w2v_model.doesnt_match(['теннис', 'хоккей', 'футбол', 'дзюдо'])"
      ],
      "execution_count": 24,
      "outputs": [
        {
          "output_type": "execute_result",
          "data": {
            "text/plain": [
              "'дзюдо'"
            ]
          },
          "metadata": {
            "tags": []
          },
          "execution_count": 24
        }
      ]
    },
    {
      "cell_type": "code",
      "metadata": {
        "id": "jAlTSXwgQafc",
        "colab_type": "code",
        "colab": {
          "base_uri": "https://localhost:8080/",
          "height": 34
        },
        "outputId": "ec4c9025-69e5-4d2c-b012-8948149c7d70"
      },
      "source": [
        "w2v_model.doesnt_match(['кошка', 'собака', 'попугай', 'кролик'])"
      ],
      "execution_count": 25,
      "outputs": [
        {
          "output_type": "execute_result",
          "data": {
            "text/plain": [
              "'кролик'"
            ]
          },
          "metadata": {
            "tags": []
          },
          "execution_count": 25
        }
      ]
    },
    {
      "cell_type": "code",
      "metadata": {
        "id": "e6fWituAQatc",
        "colab_type": "code",
        "colab": {
          "base_uri": "https://localhost:8080/",
          "height": 34
        },
        "outputId": "0a4e324c-e205-4bcd-9c6f-f695cafcb172"
      },
      "source": [
        "w2v_model.doesnt_match(['коми', 'дагестан', 'башкирия', 'камчатка'])"
      ],
      "execution_count": 26,
      "outputs": [
        {
          "output_type": "execute_result",
          "data": {
            "text/plain": [
              "'коми'"
            ]
          },
          "metadata": {
            "tags": []
          },
          "execution_count": 26
        }
      ]
    },
    {
      "cell_type": "markdown",
      "metadata": {
        "id": "3Ur2nBfZSx56",
        "colab_type": "text"
      },
      "source": [
        "## Координаты\n",
        "\n",
        "***TODO***"
      ]
    },
    {
      "cell_type": "markdown",
      "metadata": {
        "id": "JVRdMeXlS1ga",
        "colab_type": "text"
      },
      "source": [
        "## Оценка качества\n",
        "\n",
        "[RusVectōrēs: модели](https://rusvectores.org/ru/models \"RusVectōrēs: семантические модели для русского языка\")\n",
        "\n",
        "***TODO***"
      ]
    },
    {
      "cell_type": "markdown",
      "metadata": {
        "id": "NY9gLekwgLa2",
        "colab_type": "text"
      },
      "source": [
        "## References\n",
        "\n",
        "[1] [Gensim Tutorial – A Complete Beginners Guide](https://www.machinelearningplus.com/nlp/gensim-tutorial \"Gensim Tutorial - A Complete Beginners Guide – Machine Learning Plus\")\n",
        "\n",
        "[2] [RaRe-Technologies/gensim/word2vec.ipynb: *Word2Vec Tutorial*](https://github.com/RaRe-Technologies/gensim/blob/master/docs/notebooks/word2vec.ipynb \"gensim/word2vec.ipynb at master · RaRe-Technologies/gensim\")\n",
        "\n",
        "[3] [gensim: Tutorials](https://radimrehurek.com/gensim/tutorial.html \"gensim: Tutorials\")\n",
        "\n",
        "[4] [gensim: models.phrases – Phrase (collocation) detection](https://radimrehurek.com/gensim/models/phrases.html \"gensim: models.phrases – Phrase (collocation) detection\")\n",
        "\n",
        "[5] [gensim: models.word2vec – Word2vec embeddings](https://radimrehurek.com/gensim/models/word2vec.html \"gensim: models.word2vec – Word2vec embeddings\")\n",
        "\n",
        "[6] [bhargavvader/personal/word2vec.ipynb: *Word2Vec*](https://github.com/bhargavvader/personal/blob/master/notebooks/text_analysis/word2vec.ipynb \"personal/word2vec.ipynb at master · bhargavvader/personal\")"
      ]
    }
  ]
}
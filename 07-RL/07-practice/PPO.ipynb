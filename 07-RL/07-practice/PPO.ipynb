{
  "nbformat": 4,
  "nbformat_minor": 0,
  "metadata": {
    "colab": {
      "name": "PPO.ipynb",
      "version": "0.3.2",
      "provenance": [],
      "collapsed_sections": [],
      "include_colab_link": true
    },
    "kernelspec": {
      "name": "python3",
      "display_name": "Python 3"
    },
    "accelerator": "GPU"
  },
  "cells": [
    {
      "cell_type": "markdown",
      "metadata": {
        "id": "view-in-github",
        "colab_type": "text"
      },
      "source": [
        "<a href=\"https://colab.research.google.com/github/rklepov/hse-cs-ml-2018-2019/blob/master/07-RL/07-practice/PPO.ipynb\" target=\"_parent\"><img src=\"https://colab.research.google.com/assets/colab-badge.svg\" alt=\"Open In Colab\"/></a>"
      ]
    },
    {
      "cell_type": "markdown",
      "metadata": {
        "id": "jU456a8CX4jr",
        "colab_type": "text"
      },
      "source": [
        "https://github.com/qfettes/DeepRL-Tutorials/blob/master/networks/networks.py\n",
        "\n",
        "https://github.com/openai/baselines"
      ]
    },
    {
      "cell_type": "code",
      "metadata": {
        "id": "eJnhDfbSvGQa",
        "colab_type": "code",
        "colab": {}
      },
      "source": [
        "import torch"
      ],
      "execution_count": 0,
      "outputs": []
    },
    {
      "cell_type": "code",
      "metadata": {
        "id": "qXqsGxhWvXIs",
        "colab_type": "code",
        "colab": {}
      },
      "source": [
        "import gym"
      ],
      "execution_count": 0,
      "outputs": []
    },
    {
      "cell_type": "code",
      "metadata": {
        "id": "o2rwSRvO6jqf",
        "colab_type": "code",
        "outputId": "52be2f44-4c48-4c04-cf76-a02cde1f9890",
        "colab": {
          "base_uri": "https://localhost:8080/",
          "height": 102
        }
      },
      "source": [
        "!git clone https://github.com/openai/baselines.git"
      ],
      "execution_count": 3,
      "outputs": [
        {
          "output_type": "stream",
          "text": [
            "Cloning into 'baselines'...\n",
            "remote: Enumerating objects: 3408, done.\u001b[K\n",
            "remote: Total 3408 (delta 0), reused 0 (delta 0), pack-reused 3408\u001b[K\n",
            "Receiving objects: 100% (3408/3408), 6.42 MiB | 753.00 KiB/s, done.\n",
            "Resolving deltas: 100% (2257/2257), done.\n"
          ],
          "name": "stdout"
        }
      ]
    },
    {
      "cell_type": "code",
      "metadata": {
        "id": "8Ob8p75P7evI",
        "colab_type": "code",
        "outputId": "a95ac6ef-b907-4bbe-a122-e8d478893349",
        "colab": {
          "base_uri": "https://localhost:8080/",
          "height": 102
        }
      },
      "source": [
        "!git clone https://github.com/qfettes/DeepRL-Tutorials.git"
      ],
      "execution_count": 4,
      "outputs": [
        {
          "output_type": "stream",
          "text": [
            "Cloning into 'DeepRL-Tutorials'...\n",
            "remote: Enumerating objects: 692, done.\u001b[K\n",
            "remote: Total 692 (delta 0), reused 0 (delta 0), pack-reused 692\n",
            "Receiving objects: 100% (692/692), 132.19 MiB | 9.09 MiB/s, done.\n",
            "Resolving deltas: 100% (418/418), done.\n"
          ],
          "name": "stdout"
        }
      ]
    },
    {
      "cell_type": "code",
      "metadata": {
        "id": "34zCLdJc7nuV",
        "colab_type": "code",
        "colab": {}
      },
      "source": [
        "import sys\n",
        "sys.path.append('DeepRL-Tutorials')\n",
        "sys.path.append('baselines')"
      ],
      "execution_count": 0,
      "outputs": []
    },
    {
      "cell_type": "code",
      "metadata": {
        "id": "55af-IQDvd8-",
        "colab_type": "code",
        "colab": {}
      },
      "source": [
        "import gym\n",
        "gym.logger.set_level(40)\n",
        "\n",
        "import numpy as np\n",
        "import matplotlib.pyplot as plt\n",
        "\n",
        "import torch\n",
        "import torch.nn as nn\n",
        "import torch.nn.functional as F\n",
        "import torch.optim as optim \n",
        "from torch.utils.data.sampler import BatchSampler, SubsetRandomSampler\n",
        "\n",
        "from IPython.display import clear_output\n",
        "import matplotlib.pyplot as plt\n",
        "\n",
        "from timeit import default_timer as timer\n",
        "from datetime import timedelta\n",
        "import os\n",
        "import glob\n",
        "\n",
        "\n",
        "from baselines.common.vec_env.dummy_vec_env import DummyVecEnv\n",
        "from baselines.common.vec_env.subproc_vec_env import SubprocVecEnv\n",
        "\n",
        "from utils.hyperparameters import Config\n",
        "from utils.plot import plot\n",
        "from utils.wrappers import make_env_a2c_atari\n",
        "from agents.A2C import Model as A2C"
      ],
      "execution_count": 0,
      "outputs": []
    },
    {
      "cell_type": "code",
      "metadata": {
        "id": "fEs3LKy09TTf",
        "colab_type": "code",
        "colab": {}
      },
      "source": [
        "log_dir = \"/tmp/gym/\"\n",
        "\n",
        "try:\n",
        "    os.makedirs(log_dir)\n",
        "except OSError:\n",
        "    files = glob.glob(os.path.join(log_dir, '*.monitor.csv'))\n",
        "    for f in files:\n",
        "        os.remove(f)\n",
        "\n",
        "config = Config()\n",
        "\n",
        "#ppo control\n",
        "config.ppo_epoch = 3\n",
        "config.num_mini_batch = 32\n",
        "config.ppo_clip_param = 0.1\n",
        "\n",
        "#a2c control\n",
        "config.num_agents=8\n",
        "config.rollout=128\n",
        "config.USE_GAE = True\n",
        "config.gae_tau = 0.95\n",
        "\n",
        "#misc agent variables\n",
        "config.GAMMA=0.99\n",
        "config.LR=7e-4\n",
        "config.entropy_loss_weight=0.01\n",
        "config.value_loss_weight=1.0\n",
        "config.grad_norm_max = 0.5\n",
        "\n",
        "config.MAX_FRAMES=int(1e7 / config.num_agents / config.rollout)"
      ],
      "execution_count": 0,
      "outputs": []
    },
    {
      "cell_type": "code",
      "metadata": {
        "id": "WicJpIqD93Uj",
        "colab_type": "code",
        "colab": {}
      },
      "source": [
        "class RolloutStorage(object):\n",
        "    def __init__(self, num_steps, num_processes, obs_shape, action_space, device, USE_GAE=True, gae_tau=0.95):\n",
        "        self.observations = torch.zeros(num_steps + 1, num_processes, *obs_shape).to(device)\n",
        "        self.rewards = torch.zeros(num_steps, num_processes, 1).to(device)\n",
        "        self.value_preds = torch.zeros(num_steps + 1, num_processes, 1).to(device)\n",
        "        self.returns = torch.zeros(num_steps + 1, num_processes, 1).to(device)\n",
        "        self.action_log_probs = torch.zeros(num_steps, num_processes, 1).to(device)\n",
        "        self.actions = torch.zeros(num_steps, num_processes, 1).to(device, torch.long)\n",
        "        self.masks = torch.ones(num_steps + 1, num_processes, 1).to(device)\n",
        "\n",
        "        self.num_steps = num_steps\n",
        "        self.step = 0\n",
        "        self.gae = USE_GAE\n",
        "        self.gae_tau = gae_tau\n",
        "\n",
        "    def insert(self, current_obs, action, action_log_prob, value_pred, reward, mask):\n",
        "        self.observations[self.step + 1].copy_(current_obs)\n",
        "        self.actions[self.step].copy_(action)\n",
        "        self.action_log_probs[self.step].copy_(action_log_prob)\n",
        "        self.value_preds[self.step].copy_(value_pred)\n",
        "        self.rewards[self.step].copy_(reward)\n",
        "        self.masks[self.step + 1].copy_(mask)\n",
        "\n",
        "        self.step = (self.step + 1) % self.num_steps\n",
        "\n",
        "    def after_update(self):\n",
        "        self.observations[0].copy_(self.observations[-1])\n",
        "        self.masks[0].copy_(self.masks[-1])\n",
        "\n",
        "    def compute_returns(self, next_value, gamma):\n",
        "        if self.gae:\n",
        "            self.value_preds[-1] = next_value\n",
        "            gae = 0\n",
        "            for step in reversed(range(self.rewards.size(0))):\n",
        "                delta = self.rewards[step] + gamma * self.value_preds[step + 1] * self.masks[step + 1] - self.value_preds[step]\n",
        "                gae = delta + gamma * self.gae_tau * self.masks[step + 1] * gae\n",
        "                self.returns[step] = gae + self.value_preds[step]\n",
        "        else:\n",
        "            self.returns[-1] = next_value\n",
        "            for step in reversed(range(self.rewards.size(0))):\n",
        "                self.returns[step] = self.returns[step + 1] * \\\n",
        "                    gamma * self.masks[step + 1] + self.rewards[step]\n",
        "\n",
        "    def feed_forward_generator(self, advantages, num_mini_batch):\n",
        "        num_steps, num_processes = self.rewards.size()[0:2]\n",
        "        batch_size = num_processes * num_steps\n",
        "        assert batch_size >= num_mini_batch, (\n",
        "            f\"PPO requires the number processes ({num_processes}) \"\n",
        "            f\"* number of steps ({num_steps}) = {num_processes * num_steps} \"\n",
        "            f\"to be greater than or equal to the number of PPO mini batches ({num_mini_batch}).\")\n",
        "        mini_batch_size = batch_size // num_mini_batch\n",
        "        sampler = BatchSampler(SubsetRandomSampler(range(batch_size)), mini_batch_size, drop_last=False)\n",
        "        for indices in sampler:\n",
        "            observations_batch = self.observations[:-1].view(-1,\n",
        "                                        *self.observations.size()[2:])[indices]\n",
        "            actions_batch = self.actions.view(-1, self.actions.size(-1))[indices]\n",
        "            return_batch = self.returns[:-1].view(-1, 1)[indices]\n",
        "            masks_batch = self.masks[:-1].view(-1, 1)[indices]\n",
        "            old_action_log_probs_batch = self.action_log_probs.view(-1, 1)[indices]\n",
        "            adv_targ = advantages.view(-1, 1)[indices]\n",
        "\n",
        "            yield observations_batch, actions_batch, return_batch, masks_batch, old_action_log_probs_batch, adv_targ"
      ],
      "execution_count": 0,
      "outputs": []
    },
    {
      "cell_type": "code",
      "metadata": {
        "id": "D9J4R59H944R",
        "colab_type": "code",
        "colab": {}
      },
      "source": [
        "class Model(A2C):\n",
        "    def __init__(self, static_policy=False, env=None, config=None):\n",
        "        super(Model, self).__init__(static_policy, env, config)\n",
        "        \n",
        "        self.num_agents = config.num_agents\n",
        "        self.value_loss_weight = config.value_loss_weight\n",
        "        self.entropy_loss_weight = config.entropy_loss_weight\n",
        "        self.rollout = config.rollout\n",
        "        self.grad_norm_max = config.grad_norm_max\n",
        "\n",
        "        self.ppo_epoch = config.ppo_epoch\n",
        "        self.num_mini_batch = config.num_mini_batch\n",
        "        self.clip_param = config.ppo_clip_param\n",
        "\n",
        "        self.optimizer = optim.Adam(self.model.parameters(), lr=self.lr, eps=1e-5)\n",
        "        \n",
        "        self.rollouts = RolloutStorage(self.rollout, self.num_agents,\n",
        "            self.num_feats, self.env.action_space, self.device, config.USE_GAE, config.gae_tau)\n",
        "\n",
        "    def compute_loss(self, sample):\n",
        "        observations_batch, actions_batch, return_batch, masks_batch, old_action_log_probs_batch, adv_targ = sample\n",
        "\n",
        "        values, action_log_probs, dist_entropy = self.evaluate_actions(observations_batch, actions_batch)\n",
        "\n",
        "        ratio = torch.exp(action_log_probs - old_action_log_probs_batch)\n",
        "        surr1 = ratio * adv_targ\n",
        "        surr2 = torch.clamp(ratio, 1.0 - self.clip_param, 1.0 + self.clip_param) * adv_targ\n",
        "        action_loss = -torch.min(surr1, surr2).mean()\n",
        "\n",
        "        value_loss = F.mse_loss(return_batch, values)\n",
        "\n",
        "        loss = action_loss + self.value_loss_weight * value_loss - self.entropy_loss_weight * dist_entropy\n",
        "\n",
        "        return loss, action_loss, value_loss, dist_entropy\n",
        "\n",
        "    def update(self, rollout):\n",
        "        advantages = rollout.returns[:-1] - rollout.value_preds[:-1]\n",
        "        advantages = (advantages - advantages.mean()) / (\n",
        "            advantages.std() + 1e-5)\n",
        "\n",
        "\n",
        "        value_loss_epoch = 0\n",
        "        action_loss_epoch = 0\n",
        "        dist_entropy_epoch = 0\n",
        "\n",
        "        for e in range(self.ppo_epoch):\n",
        "            data_generator = rollout.feed_forward_generator(\n",
        "                advantages, self.num_mini_batch)\n",
        "\n",
        "            for sample in data_generator:\n",
        "                loss, action_loss, value_loss, dist_entropy = self.compute_loss(sample)\n",
        "\n",
        "                self.optimizer.zero_grad()\n",
        "                loss.backward()\n",
        "                torch.nn.utils.clip_grad_norm_(self.model.parameters(), self.grad_norm_max)\n",
        "                self.optimizer.step()\n",
        "\n",
        "                value_loss_epoch += value_loss.item()\n",
        "                action_loss_epoch += action_loss.item()\n",
        "                dist_entropy_epoch += dist_entropy.item()\n",
        "        \n",
        "        value_loss_epoch /= (self.ppo_epoch * self.num_mini_batch)\n",
        "        action_loss_epoch /= (self.ppo_epoch * self.num_mini_batch)\n",
        "        dist_entropy_epoch /= (self.ppo_epoch * self.num_mini_batch)\n",
        "        total_loss = value_loss_epoch + action_loss_epoch + dist_entropy_epoch\n",
        "\n",
        "        #self.save_loss(total_loss, action_loss_epoch, value_loss_epoch, dist_entropy_epoch)\n",
        "\n",
        "        return action_loss_epoch, value_loss_epoch, dist_entropy_epoch"
      ],
      "execution_count": 0,
      "outputs": []
    },
    {
      "cell_type": "code",
      "metadata": {
        "id": "0n0L7047MSGw",
        "colab_type": "code",
        "colab": {}
      },
      "source": [
        "!rm -rf images\n",
        "!mkdir -p saved_agents"
      ],
      "execution_count": 0,
      "outputs": []
    },
    {
      "cell_type": "code",
      "metadata": {
        "id": "l7P5ua-L96RY",
        "colab_type": "code",
        "outputId": "7899605d-b72a-428f-8eb9-08e47878f128",
        "colab": {
          "base_uri": "https://localhost:8080/",
          "height": 465
        }
      },
      "source": [
        "if __name__=='__main__':\n",
        "    seed = 1\n",
        "\n",
        "    torch.manual_seed(seed)\n",
        "    if torch.cuda.is_available():\n",
        "        torch.cuda.manual_seed(seed)\n",
        "\n",
        "    torch.set_num_threads(1)\n",
        "\n",
        "    env_id = \"SpaceInvadersNoFrameskip-v4\"\n",
        "    envs = [make_env_a2c_atari(env_id, seed, i, log_dir) for i in range(config.num_agents)]\n",
        "    envs = SubprocVecEnv(envs) if config.num_agents > 1 else DummyVecEnv(envs)\n",
        "\n",
        "    obs_shape = envs.observation_space.shape\n",
        "    obs_shape = (obs_shape[0] * 4, *obs_shape[1:])\n",
        "\n",
        "    model = Model(env=envs, config=config)\n",
        "\n",
        "    current_obs = torch.zeros(config.num_agents, *obs_shape,\n",
        "                    device=config.device, dtype=torch.float)\n",
        "\n",
        "    def update_current_obs(obs):\n",
        "        shape_dim0 = envs.observation_space.shape[0]\n",
        "        obs = torch.from_numpy(obs.astype(np.float32)).to(config.device)\n",
        "        current_obs[:, :-shape_dim0] = current_obs[:, shape_dim0:]\n",
        "        current_obs[:, -shape_dim0:] = obs\n",
        "\n",
        "    obs = envs.reset()\n",
        "    update_current_obs(obs)\n",
        "\n",
        "    model.rollouts.observations[0].copy_(current_obs)\n",
        "    \n",
        "    episode_rewards = np.zeros(config.num_agents, dtype=np.float)\n",
        "    final_rewards = np.zeros(config.num_agents, dtype=np.float)\n",
        "\n",
        "    start=timer()\n",
        "\n",
        "    print_step = 1\n",
        "    print_threshold = 10\n",
        "    \n",
        "    for frame_idx in range(1, config.MAX_FRAMES+1):\n",
        "        print(frame_idx, end='|')\n",
        "        for step in range(config.rollout):\n",
        "            with torch.no_grad():\n",
        "                values, actions, action_log_prob = model.get_action(model.rollouts.observations[step])\n",
        "            cpu_actions = actions.view(-1).cpu().numpy()\n",
        "    \n",
        "            obs, reward, done, _ = envs.step(cpu_actions)\n",
        "        \n",
        "            episode_rewards += reward\n",
        "            masks = 1. - done.astype(np.float32)\n",
        "            final_rewards *= masks\n",
        "            final_rewards += (1. - masks) * episode_rewards\n",
        "            episode_rewards *= masks\n",
        "\n",
        "            rewards = torch.from_numpy(reward.astype(np.float32)).view(-1, 1).to(config.device)\n",
        "            masks = torch.from_numpy(masks).to(config.device).view(-1, 1)\n",
        "\n",
        "            current_obs *= masks.view(-1, 1, 1, 1)\n",
        "            update_current_obs(obs)\n",
        "\n",
        "            model.rollouts.insert(current_obs, actions.view(-1, 1), action_log_prob, values, rewards, masks)\n",
        "            \n",
        "            if frame_idx % 10 == 0:\n",
        "                env_images = envs.get_images()\n",
        "                for env_number in range(len(env_images)):\n",
        "                    dir_path = 'images/frame_idx={}/env={}'.format(frame_idx, env_number)\n",
        "                    os.makedirs(dir_path, exist_ok=True)\n",
        "                    plt.imsave('{}/step={}.jpg'.format(dir_path, str(step).zfill(3)),\n",
        "                               env_images[0])\n",
        "            \n",
        "        with torch.no_grad():\n",
        "            next_value = model.get_values(model.rollouts.observations[-1])\n",
        "\n",
        "        model.rollouts.compute_returns(next_value, config.GAMMA)\n",
        "            \n",
        "        value_loss, action_loss, dist_entropy = model.update(model.rollouts)\n",
        "        \n",
        "        model.rollouts.after_update()\n",
        "\n",
        "        if frame_idx % 100 == 0:\n",
        "            try:\n",
        "                clear_output()\n",
        "                end = timer()\n",
        "                total_num_steps = (frame_idx + 1) * config.num_agents * config.rollout\n",
        "                print((\"Updates {}, Num Timesteps {}, FPS {},\\nMean/Median Reward\" +\n",
        "                      \"{:.1f}/{:.1f}, Min/Max Reward {:.1f}/{:.1f},\\nEntropy {:.5f}, \"+\n",
        "                      \"Value Loss {:.5f}, Policy Loss {:.5f}\").\n",
        "                format(frame_idx, total_num_steps,\n",
        "                       int(total_num_steps / (end - start)),\n",
        "                       np.mean(final_rewards),\n",
        "                       np.median(final_rewards),\n",
        "                       np.min(final_rewards),\n",
        "                       np.max(final_rewards), dist_entropy,\n",
        "                       value_loss, action_loss))\n",
        "                plot(log_dir, \"SpaceInvadersNoFrameskip-v4\", 'PPO', \n",
        "                     config.MAX_FRAMES * config.num_agents * config.rollout)\n",
        "                \n",
        "            except IOError:\n",
        "                pass\n",
        "\n",
        "    model.save_w()\n",
        "    envs.close()"
      ],
      "execution_count": 11,
      "outputs": [
        {
          "output_type": "stream",
          "text": [
            "Updates 9700, Num Timesteps 9933824, FPS 451,\n",
            "Mean/Median Reward4.4/4.0, Min/Max Reward 1.0/9.0,\n",
            "Entropy 1.35464, Value Loss -0.00956, Policy Loss 0.15200\n"
          ],
          "name": "stdout"
        },
        {
          "output_type": "display_data",
          "data": {
            "image/png": "[encoded data removed]",
            "text/plain": [
              "<Figure size 1440x360 with 1 Axes>"
            ]
          },
          "metadata": {
            "tags": []
          }
        },
        {
          "output_type": "stream",
          "text": [
            "9701|9702|9703|9704|9705|9706|9707|9708|9709|9710|9711|9712|9713|9714|9715|9716|9717|9718|9719|9720|9721|9722|9723|9724|9725|9726|9727|9728|9729|9730|9731|9732|9733|9734|9735|9736|9737|9738|9739|9740|9741|9742|9743|9744|9745|9746|9747|9748|9749|9750|9751|9752|9753|9754|9755|9756|9757|9758|9759|9760|9761|9762|9763|9764|9765|"
          ],
          "name": "stdout"
        }
      ]
    },
    {
      "cell_type": "code",
      "metadata": {
        "id": "m9nLvEVZB4iz",
        "colab_type": "code",
        "colab": {}
      },
      "source": [
        "!tar czf images.tar.gz images/"
      ],
      "execution_count": 0,
      "outputs": []
    },
    {
      "cell_type": "code",
      "metadata": {
        "id": "7mN4MU_A9NKq",
        "colab_type": "code",
        "colab": {
          "base_uri": "https://localhost:8080/",
          "height": 34
        },
        "outputId": "d0a062f4-f193-4255-a6e9-ef17f02f7800"
      },
      "source": [
        "!ls -hl images.tar.gz"
      ],
      "execution_count": 13,
      "outputs": [
        {
          "output_type": "stream",
          "text": [
            "-rw-r--r-- 1 root root 4.5G May 31 14:26 images.tar.gz\n"
          ],
          "name": "stdout"
        }
      ]
    },
    {
      "cell_type": "code",
      "metadata": {
        "id": "1VA243bn9ygC",
        "colab_type": "code",
        "colab": {
          "base_uri": "https://localhost:8080/",
          "height": 272
        },
        "outputId": "4f630a33-ea78-4f4f-b104-2862a6a5377c"
      },
      "source": [
        "!tar tzf images.tar.gz | head -15"
      ],
      "execution_count": 14,
      "outputs": [
        {
          "output_type": "stream",
          "text": [
            "images/\n",
            "images/frame_idx=6150/\n",
            "images/frame_idx=6150/env=2/\n",
            "images/frame_idx=6150/env=2/step=015.jpg\n",
            "images/frame_idx=6150/env=2/step=027.jpg\n",
            "images/frame_idx=6150/env=2/step=056.jpg\n",
            "images/frame_idx=6150/env=2/step=012.jpg\n",
            "images/frame_idx=6150/env=2/step=085.jpg\n",
            "images/frame_idx=6150/env=2/step=061.jpg\n",
            "images/frame_idx=6150/env=2/step=121.jpg\n",
            "images/frame_idx=6150/env=2/step=022.jpg\n",
            "images/frame_idx=6150/env=2/step=103.jpg\n",
            "images/frame_idx=6150/env=2/step=116.jpg\n",
            "images/frame_idx=6150/env=2/step=016.jpg\n",
            "images/frame_idx=6150/env=2/step=039.jpg\n"
          ],
          "name": "stdout"
        }
      ]
    }
  ]
}
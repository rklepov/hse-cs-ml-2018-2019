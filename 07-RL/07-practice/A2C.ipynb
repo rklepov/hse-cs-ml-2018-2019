{
  "nbformat": 4,
  "nbformat_minor": 0,
  "metadata": {
    "colab": {
      "name": "A2C.ipynb",
      "version": "0.3.2",
      "provenance": [],
      "collapsed_sections": []
    },
    "language_info": {
      "codemirror_mode": {
        "name": "ipython",
        "version": 3
      },
      "file_extension": ".py",
      "mimetype": "text/x-python",
      "name": "python",
      "nbconvert_exporter": "python",
      "pygments_lexer": "ipython3",
      "version": "3.6.3"
    },
    "kernelspec": {
      "name": "python3",
      "display_name": "Python 3"
    },
    "accelerator": "GPU"
  },
  "cells": [
    {
      "cell_type": "markdown",
      "metadata": {
        "id": "jXjl2oOLhunh",
        "colab_type": "text"
      },
      "source": [
        "# Advantage Actor Critic"
      ]
    },
    {
      "cell_type": "markdown",
      "metadata": {
        "id": "Ey3C90GpbT4W",
        "colab_type": "text"
      },
      "source": [
        "https://github.com/qfettes/DeepRL-Tutorials/blob/master/networks/networks.py\n",
        "\n",
        "https://github.com/openai/baselines"
      ]
    },
    {
      "cell_type": "code",
      "metadata": {
        "id": "kNJ7RHCDiCbj",
        "colab_type": "code",
        "colab": {}
      },
      "source": [
        "%%bash\n",
        "\n",
        "git clone https://github.com/openai/baselines.git\n",
        "\n",
        "cd baselines\n",
        "pip install -e ."
      ],
      "execution_count": 0,
      "outputs": []
    },
    {
      "cell_type": "code",
      "metadata": {
        "id": "bm7TxmWVjQC7",
        "colab_type": "code",
        "colab": {}
      },
      "source": [
        "%%bash\n",
        "\n",
        "git clone https://github.com/qfettes/DeepRL-Tutorials.git"
      ],
      "execution_count": 0,
      "outputs": []
    },
    {
      "cell_type": "code",
      "metadata": {
        "id": "aIHV5aEgjhE-",
        "colab_type": "code",
        "colab": {}
      },
      "source": [
        "import sys\n",
        "sys.path.append('DeepRL-Tutorials')"
      ],
      "execution_count": 0,
      "outputs": []
    },
    {
      "cell_type": "markdown",
      "metadata": {
        "id": "5CZiOc4_hunn",
        "colab_type": "text"
      },
      "source": [
        "## Imports"
      ]
    },
    {
      "cell_type": "code",
      "metadata": {
        "id": "QAo2m0sLhunp",
        "colab_type": "code",
        "colab": {}
      },
      "source": [
        "import gym\n",
        "gym.logger.set_level(40)\n",
        "\n",
        "import numpy as np\n",
        "\n",
        "import torch\n",
        "import torch.nn as nn\n",
        "import torch.nn.functional as F\n",
        "import torch.optim as optim\n",
        "\n",
        "from IPython.display import clear_output\n",
        "import matplotlib.pyplot as plt\n",
        "\n",
        "from timeit import default_timer as timer\n",
        "from datetime import timedelta\n",
        "import os\n",
        "import glob\n",
        "\n",
        "\n",
        "from baselines.common.vec_env.dummy_vec_env import DummyVecEnv\n",
        "from baselines.common.vec_env.subproc_vec_env import SubprocVecEnv\n",
        "\n",
        "from utils.hyperparameters import Config\n",
        "from utils.plot import plot\n",
        "from utils.wrappers import make_env_a2c_atari\n",
        "from agents.BaseAgent import BaseAgent"
      ],
      "execution_count": 0,
      "outputs": []
    },
    {
      "cell_type": "markdown",
      "metadata": {
        "id": "NLhxS7s9hunv",
        "colab_type": "text"
      },
      "source": [
        "## Hyperparameters"
      ]
    },
    {
      "cell_type": "code",
      "metadata": {
        "id": "tGS5Der6hunw",
        "colab_type": "code",
        "colab": {}
      },
      "source": [
        "port=8097\n",
        "log_dir = \"/tmp/gym/\"\n",
        "\n",
        "try:\n",
        "    os.makedirs(log_dir)\n",
        "except OSError:\n",
        "    files = glob.glob(os.path.join(log_dir, '*.monitor.csv'))\n",
        "    for f in files:\n",
        "        os.remove(f)\n",
        "\n",
        "config = Config()\n",
        "\n",
        "#a2c control\n",
        "config.num_agents=16\n",
        "config.rollout=5\n",
        "\n",
        "#misc agent variables\n",
        "config.GAMMA=0.99\n",
        "config.LR=7e-4\n",
        "config.entropy_loss_weight=0.01\n",
        "config.value_loss_weight=0.5\n",
        "\n",
        "# Number of updates in 10000000 frames\n",
        "config.MAX_FRAMES=int(1e7 / config.num_agents / config.rollout)"
      ],
      "execution_count": 0,
      "outputs": []
    },
    {
      "cell_type": "markdown",
      "metadata": {
        "id": "Vqb_Lq3Ihun0",
        "colab_type": "text"
      },
      "source": [
        "## Rollout Storage"
      ]
    },
    {
      "cell_type": "code",
      "metadata": {
        "id": "pnRXKKRqhun1",
        "colab_type": "code",
        "colab": {}
      },
      "source": [
        "class RolloutStorage(object):\n",
        "    def __init__(self, num_steps, num_processes, obs_shape, action_space, device):\n",
        "        self.observations = torch.zeros(num_steps + 1, num_processes, *obs_shape).to(device)\n",
        "        self.rewards = torch.zeros(num_steps, num_processes, 1).to(device)\n",
        "        self.value_preds = torch.zeros(num_steps + 1, num_processes, 1).to(device)\n",
        "        self.returns = torch.zeros(num_steps + 1, num_processes, 1).to(device)\n",
        "        self.action_log_probs = torch.zeros(num_steps, num_processes, 1).to(device)\n",
        "        self.actions = torch.zeros(num_steps, num_processes, 1).to(device, torch.long)\n",
        "        self.masks = torch.ones(num_steps + 1, num_processes, 1).to(device)\n",
        "\n",
        "        self.num_steps = num_steps\n",
        "        self.step = 0\n",
        "\n",
        "    def insert(self, current_obs, action, action_log_prob, value_pred, reward, mask):\n",
        "        self.observations[self.step + 1].copy_(current_obs)\n",
        "        self.actions[self.step].copy_(action)\n",
        "        self.action_log_probs[self.step].copy_(action_log_prob)\n",
        "        self.value_preds[self.step].copy_(value_pred)\n",
        "        self.rewards[self.step].copy_(reward)\n",
        "        self.masks[self.step + 1].copy_(mask)\n",
        "\n",
        "        self.step = (self.step + 1) % self.num_steps\n",
        "\n",
        "    def after_update(self):\n",
        "        self.observations[0].copy_(self.observations[-1])\n",
        "        self.masks[0].copy_(self.masks[-1])\n",
        "\n",
        "    def compute_returns(self, next_value, gamma):\n",
        "        self.returns[-1] = next_value\n",
        "        for step in reversed(range(self.rewards.size(0))):\n",
        "            self.returns[step] = self.returns[step + 1] * \\\n",
        "                gamma * self.masks[step + 1] + self.rewards[step]"
      ],
      "execution_count": 0,
      "outputs": []
    },
    {
      "cell_type": "markdown",
      "metadata": {
        "id": "nzDmXA8Ghun4",
        "colab_type": "text"
      },
      "source": [
        "## Network"
      ]
    },
    {
      "cell_type": "code",
      "metadata": {
        "id": "pdQ0hRbKhun6",
        "colab_type": "code",
        "colab": {}
      },
      "source": [
        "class ActorCritic(nn.Module):\n",
        "    def __init__(self, input_shape, num_actions):\n",
        "        super(ActorCritic, self).__init__()\n",
        "\n",
        "        init_ = lambda m: self.layer_init(m, nn.init.orthogonal_,\n",
        "                    lambda x: nn.init.constant_(x, 0),\n",
        "                    nn.init.calculate_gain('relu'))\n",
        "\n",
        "        self.conv1 = init_(nn.Conv2d(input_shape[0], 32, kernel_size=8, stride=4))\n",
        "        self.conv2 = init_(nn.Conv2d(32, 64, kernel_size=4, stride=2))\n",
        "        self.conv3 = init_(nn.Conv2d(64, 32, kernel_size=3, stride=1))\n",
        "        self.fc1 = init_(nn.Linear(self.feature_size(input_shape), 512))\n",
        "\n",
        "        init_ = lambda m: self.layer_init(m, nn.init.orthogonal_,\n",
        "          lambda x: nn.init.constant_(x, 0))\n",
        "\n",
        "        self.critic_linear = init_(nn.Linear(512, 1))\n",
        "\n",
        "        init_ = lambda m: self.layer_init(m, nn.init.orthogonal_,\n",
        "              lambda x: nn.init.constant_(x, 0), gain=0.01)\n",
        "\n",
        "        self.actor_linear = init_(nn.Linear(512, num_actions))\n",
        "\n",
        "        self.train()\n",
        "\n",
        "    def forward(self, inputs):\n",
        "        x = F.relu(self.conv1(inputs/255.0))\n",
        "        x = F.relu(self.conv2(x))\n",
        "        x = F.relu(self.conv3(x))\n",
        "        x = x.view(x.size(0), -1)\n",
        "\n",
        "        x = F.relu(self.fc1(x))\n",
        "\n",
        "        value = self.critic_linear(x)\n",
        "        logits = self.actor_linear(x)\n",
        "\n",
        "        return logits, value\n",
        "\n",
        "    def feature_size(self, input_shape):\n",
        "        return self.conv3(self.conv2(self.conv1(torch.zeros(1, *input_shape)))).view(1, -1).size(1)\n",
        "\n",
        "    def layer_init(self, module, weight_init, bias_init, gain=1):\n",
        "        weight_init(module.weight.data, gain=gain)\n",
        "        bias_init(module.bias.data)\n",
        "        return module"
      ],
      "execution_count": 0,
      "outputs": []
    },
    {
      "cell_type": "markdown",
      "metadata": {
        "id": "hFC2k2uKhun9",
        "colab_type": "text"
      },
      "source": [
        "## Agent"
      ]
    },
    {
      "cell_type": "code",
      "metadata": {
        "id": "SYW3DfeAhun-",
        "colab_type": "code",
        "colab": {}
      },
      "source": [
        "class Model(BaseAgent):\n",
        "    def __init__(self, static_policy=False, env=None, config=None, log_dir='/tmp/gym'):\n",
        "        super(Model, self).__init__(config=config, env=env, log_dir=log_dir)\n",
        "        self.device = config.device\n",
        "\n",
        "        self.noisy=config.USE_NOISY_NETS\n",
        "        self.priority_replay=config.USE_PRIORITY_REPLAY\n",
        "\n",
        "        self.gamma = config.GAMMA\n",
        "        self.lr = config.LR\n",
        "        self.target_net_update_freq = config.TARGET_NET_UPDATE_FREQ\n",
        "        self.learn_start = config.LEARN_START\n",
        "        self.sigma_init= config.SIGMA_INIT\n",
        "        self.num_agents = config.num_agents\n",
        "        self.value_loss_weight = config.value_loss_weight\n",
        "        self.entropy_loss_weight = config.entropy_loss_weight\n",
        "        self.rollout = config.rollout\n",
        "        self.grad_norm_max = config.grad_norm_max\n",
        "\n",
        "        self.static_policy = static_policy\n",
        "        self.num_feats = env.observation_space.shape\n",
        "        self.num_feats = (self.num_feats[0] * 4, *self.num_feats[1:])\n",
        "        self.num_actions = env.action_space.n\n",
        "        self.env = env\n",
        "\n",
        "        self.declare_networks()\n",
        "            \n",
        "        self.optimizer = optim.RMSprop(self.model.parameters(), lr=self.lr, alpha=0.99, eps=1e-5)\n",
        "        \n",
        "        #move to correct device\n",
        "        self.model = self.model.to(self.device)\n",
        "\n",
        "        if self.static_policy:\n",
        "            self.model.eval()\n",
        "        else:\n",
        "            self.model.train()\n",
        "\n",
        "        self.rollouts = RolloutStorage(self.rollout, self.num_agents,\n",
        "            self.num_feats, self.env.action_space, self.device)\n",
        "\n",
        "        self.value_losses = []\n",
        "        self.entropy_losses = []\n",
        "        self.policy_losses = []\n",
        "\n",
        "\n",
        "    def declare_networks(self):\n",
        "        self.model = ActorCritic(self.num_feats, self.num_actions)\n",
        "\n",
        "    def get_action(self, s, deterministic=False):\n",
        "        logits, values = self.model(s)\n",
        "        dist = torch.distributions.Categorical(logits=logits)\n",
        "\n",
        "        if deterministic:\n",
        "            actions = dist.probs.argmax(dim=1, keepdim=True)\n",
        "        else:\n",
        "            actions = dist.sample().view(-1, 1)\n",
        "\n",
        "        log_probs = F.log_softmax(logits, dim=1)\n",
        "        action_log_probs = log_probs.gather(1, actions)\n",
        "\n",
        "        return values, actions, action_log_probs\n",
        "        \n",
        "\n",
        "    def evaluate_actions(self, s, actions):\n",
        "        logits, values = self.model(s)\n",
        "\n",
        "        dist = torch.distributions.Categorical(logits=logits)\n",
        "\n",
        "        log_probs = F.log_softmax(logits, dim=1)\n",
        "        action_log_probs = log_probs.gather(1, actions)\n",
        "\n",
        "        dist_entropy = dist.entropy().mean()\n",
        "\n",
        "        return values, action_log_probs, dist_entropy\n",
        "\n",
        "    def get_values(self, s):\n",
        "        _, values = self.model(s)\n",
        "\n",
        "        return values\n",
        "\n",
        "    def compute_loss(self, rollouts):\n",
        "        obs_shape = rollouts.observations.size()[2:]\n",
        "        action_shape = rollouts.actions.size()[-1]\n",
        "        num_steps, num_processes, _ = rollouts.rewards.size()\n",
        "\n",
        "        values, action_log_probs, dist_entropy = self.evaluate_actions(\n",
        "            rollouts.observations[:-1].view(-1, *obs_shape),\n",
        "            rollouts.actions.view(-1, 1))\n",
        "\n",
        "        values = values.view(num_steps, num_processes, 1)\n",
        "        action_log_probs = action_log_probs.view(num_steps, num_processes, 1)\n",
        "\n",
        "        advantages = rollouts.returns[:-1] - values\n",
        "        value_loss = advantages.pow(2).mean()\n",
        "\n",
        "        action_loss = -(advantages.detach() * action_log_probs).mean()\n",
        "\n",
        "        loss = action_loss + self.value_loss_weight * value_loss - self.entropy_loss_weight * dist_entropy\n",
        "\n",
        "        return loss, action_loss, value_loss, dist_entropy\n",
        "\n",
        "    def update(self, rollout):\n",
        "        loss, action_loss, value_loss, dist_entropy = self.compute_loss(rollout)\n",
        "\n",
        "        self.optimizer.zero_grad()\n",
        "        loss.backward()\n",
        "        torch.nn.utils.clip_grad_norm_(self.model.parameters(), self.grad_norm_max)\n",
        "        self.optimizer.step()\n",
        "\n",
        "        #self.save_loss(loss.item(), action_loss.item(), value_loss.item(), dist_entropy.item())\n",
        "        #self.save_sigma_param_magnitudes()\n",
        "\n",
        "        return value_loss.item(), action_loss.item(), dist_entropy.item()\n",
        "\n",
        "    '''def save_loss(self, loss, policy_loss, value_loss, entropy_loss):\n",
        "        super(Model, self).save_loss(loss)\n",
        "        self.policy_losses.append(policy_loss)\n",
        "        self.value_losses.append(value_loss)\n",
        "        self.entropy_losses.append(entropy_loss)'''"
      ],
      "execution_count": 0,
      "outputs": []
    },
    {
      "cell_type": "markdown",
      "metadata": {
        "id": "Z57fuoFzhuoB",
        "colab_type": "text"
      },
      "source": [
        "## Training Loop"
      ]
    },
    {
      "cell_type": "code",
      "metadata": {
        "scrolled": true,
        "id": "8ILAPR7jhuoB",
        "colab_type": "code",
        "outputId": "7e947e9d-9cb7-41d6-dc6c-e4648a1d417d",
        "colab": {
          "base_uri": "https://localhost:8080/",
          "height": 449
        }
      },
      "source": [
        "if __name__=='__main__':\n",
        "    seed = 1\n",
        "\n",
        "    torch.manual_seed(seed)\n",
        "    if torch.cuda.is_available():\n",
        "        torch.cuda.manual_seed(seed)\n",
        "\n",
        "    torch.set_num_threads(1)\n",
        "\n",
        "    env_id = \"PongNoFrameskip-v4\"\n",
        "    envs = [make_env_a2c_atari(env_id, seed, i, log_dir) for i in range(config.num_agents)]\n",
        "    envs = SubprocVecEnv(envs) if config.num_agents > 1 else DummyVecEnv(envs)\n",
        "\n",
        "    obs_shape = envs.observation_space.shape\n",
        "    obs_shape = (obs_shape[0] * 4, *obs_shape[1:])\n",
        "\n",
        "    model = Model(env=envs, config=config)\n",
        "\n",
        "    current_obs = torch.zeros(config.num_agents, *obs_shape,\n",
        "                    device=config.device, dtype=torch.float)\n",
        "\n",
        "    def update_current_obs(obs):\n",
        "        shape_dim0 = envs.observation_space.shape[0]\n",
        "        obs = torch.from_numpy(obs.astype(np.float32)).to(config.device)\n",
        "        current_obs[:, :-shape_dim0] = current_obs[:, shape_dim0:]\n",
        "        current_obs[:, -shape_dim0:] = obs\n",
        "\n",
        "    obs = envs.reset()\n",
        "    update_current_obs(obs)\n",
        "\n",
        "    model.rollouts.observations[0].copy_(current_obs)\n",
        "    \n",
        "    episode_rewards = np.zeros(config.num_agents, dtype=np.float)\n",
        "    final_rewards = np.zeros(config.num_agents, dtype=np.float)\n",
        "\n",
        "    start=timer()\n",
        "\n",
        "    print_step = 1\n",
        "    print_threshold = 10\n",
        "    \n",
        "    for frame_idx in range(1, config.MAX_FRAMES+1):\n",
        "        for step in range(config.rollout):\n",
        "            with torch.no_grad():\n",
        "                values, actions, action_log_prob = model.get_action(model.rollouts.observations[step])\n",
        "            cpu_actions = actions.view(-1).cpu().numpy()\n",
        "    \n",
        "            obs, reward, done, _ = envs.step(cpu_actions)\n",
        "\n",
        "            episode_rewards += reward\n",
        "            masks = 1. - done.astype(np.float32)\n",
        "            final_rewards *= masks\n",
        "            final_rewards += (1. - masks) * episode_rewards\n",
        "            episode_rewards *= masks\n",
        "\n",
        "            rewards = torch.from_numpy(reward.astype(np.float32)).view(-1, 1).to(config.device)\n",
        "            masks = torch.from_numpy(masks).to(config.device).view(-1, 1)\n",
        "\n",
        "            current_obs *= masks.view(-1, 1, 1, 1)\n",
        "            update_current_obs(obs)\n",
        "\n",
        "            model.rollouts.insert(current_obs, actions.view(-1, 1), action_log_prob, values, rewards, masks)\n",
        "            \n",
        "        with torch.no_grad():\n",
        "            next_value = model.get_values(model.rollouts.observations[-1])\n",
        "\n",
        "        model.rollouts.compute_returns(next_value, config.GAMMA)\n",
        "            \n",
        "        value_loss, action_loss, dist_entropy = model.update(model.rollouts)\n",
        "        \n",
        "        model.rollouts.after_update()\n",
        "\n",
        "        if frame_idx % 100 == 0:\n",
        "            try:\n",
        "                clear_output()\n",
        "                end = timer()\n",
        "                total_num_steps = (frame_idx + 1) * config.num_agents * config.rollout\n",
        "                print(\"Updates {}, Num Timesteps {}, FPS {},\\nMean/Median Reward {:.1f}/{:.1f}, Min/Max Reward {:.1f}/{:.1f},\\nEntropy {:.5f}, Value Loss {:.5f}, Policy Loss {:.5f}\".\n",
        "                format(frame_idx, total_num_steps,\n",
        "                       int(total_num_steps / (end - start)),\n",
        "                       np.mean(final_rewards),\n",
        "                       np.median(final_rewards),\n",
        "                       np.min(final_rewards),\n",
        "                       np.max(final_rewards), dist_entropy,\n",
        "                       value_loss, action_loss))\n",
        "                plot(log_dir, \"PongNoFrameskip-v4\", 'a2c', \n",
        "                     config.MAX_FRAMES * config.num_agents * config.rollout)\n",
        "            except IOError:\n",
        "                pass\n",
        "\n",
        "    model.save_w()\n",
        "    envs.close()"
      ],
      "execution_count": 0,
      "outputs": [
        {
          "output_type": "stream",
          "text": [
            "Updates 22200, Num Timesteps 1776080, FPS 337,\n",
            "Mean/Median Reward 5.1/11.5, Min/Max Reward -14.0/20.0,\n",
            "Entropy 1.53741, Value Loss 0.02250, Policy Loss 0.04967\n"
          ],
          "name": "stdout"
        },
        {
          "output_type": "display_data",
          "data": {
            "image/png": "[encoded data removed]",
            "text/plain": [
              "<Figure size 1440x360 with 1 Axes>"
            ]
          },
          "metadata": {
            "tags": []
          }
        }
      ]
    }
  ]
}
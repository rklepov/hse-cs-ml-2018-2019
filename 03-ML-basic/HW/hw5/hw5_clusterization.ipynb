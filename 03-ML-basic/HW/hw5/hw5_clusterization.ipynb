{
  "nbformat": 4,
  "nbformat_minor": 0,
  "metadata": {
    "colab": {
      "name": "hw5_clusterization.ipynb",
      "version": "0.3.2",
      "provenance": [],
      "include_colab_link": true
    },
    "language_info": {
      "codemirror_mode": {
        "name": "ipython",
        "version": 3
      },
      "file_extension": ".py",
      "mimetype": "text/x-python",
      "name": "python",
      "nbconvert_exporter": "python",
      "pygments_lexer": "ipython3",
      "version": "3.7.2"
    },
    "kernelspec": {
      "display_name": "Python 3",
      "language": "python",
      "name": "python3"
    }
  },
  "cells": [
    {
      "cell_type": "markdown",
      "metadata": {
        "id": "view-in-github",
        "colab_type": "text"
      },
      "source": [
        "<a href=\"https://colab.research.google.com/github/rklepov/hse-cs-ml-2018-2019/blob/homework/03-ML-basic/HW/hw5/hw5_clusterization.ipynb\" target=\"_parent\"><img src=\"https://colab.research.google.com/assets/colab-badge.svg\" alt=\"Open In Colab\"/></a>"
      ]
    },
    {
      "cell_type": "markdown",
      "metadata": {
        "id": "ZLcSQu5DwwwQ",
        "colab_type": "text"
      },
      "source": [
        "# _All the news_"
      ]
    },
    {
      "cell_type": "markdown",
      "metadata": {
        "id": "0ARsniB5wwwR",
        "colab_type": "text"
      },
      "source": [
        "https://www.kaggle.com/snapcrack/all-the-news"
      ]
    },
    {
      "cell_type": "code",
      "metadata": {
        "id": "OgSI0z55wwwS",
        "colab_type": "code",
        "colab": {}
      },
      "source": [
        "import pandas as pd\n",
        "import numpy as np\n",
        "\n",
        "import matplotlib.pyplot as plt\n",
        "%matplotlib inline"
      ],
      "execution_count": 0,
      "outputs": []
    },
    {
      "cell_type": "code",
      "metadata": {
        "id": "_MiWQSrbwwwU",
        "colab_type": "code",
        "colab": {
          "base_uri": "https://localhost:8080/",
          "height": 34
        },
        "outputId": "02abdd1e-b4dd-49d0-bf77-cf3f1c27753d"
      },
      "source": [
        "import sklearn\n",
        "sklearn.__version__"
      ],
      "execution_count": 2,
      "outputs": [
        {
          "output_type": "execute_result",
          "data": {
            "text/plain": [
              "'0.21.2'"
            ]
          },
          "metadata": {
            "tags": []
          },
          "execution_count": 2
        }
      ]
    },
    {
      "cell_type": "markdown",
      "metadata": {
        "id": "-mvQMNrFwwwb",
        "colab_type": "text"
      },
      "source": [
        "## 1. _Data preparation_"
      ]
    },
    {
      "cell_type": "markdown",
      "metadata": {
        "id": "2bVORXl8wwwb",
        "colab_type": "text"
      },
      "source": [
        "_\"Проверьте данные на наличие аномалий\"_ - я не очень понял, что здесь имеется в виду."
      ]
    },
    {
      "cell_type": "code",
      "metadata": {
        "id": "OqgCaQ-cwwwc",
        "colab_type": "code",
        "colab": {}
      },
      "source": [
        "articles = pd.DataFrame()\n",
        "\n",
        "for i in range(3):\n",
        "    articles = articles.append(pd.read_csv('articles{}.csv'.format(1+i), index_col=0))"
      ],
      "execution_count": 0,
      "outputs": []
    },
    {
      "cell_type": "code",
      "metadata": {
        "id": "R4N9V5Cywwwe",
        "colab_type": "code",
        "colab": {
          "base_uri": "https://localhost:8080/",
          "height": 505
        },
        "outputId": "d9cc069c-76f4-4c47-b1ce-363f75b49a01"
      },
      "source": [
        "articles.tail()"
      ],
      "execution_count": 4,
      "outputs": [
        {
          "output_type": "execute_result",
          "data": {
            "text/html": [
              "<div>\n",
              "<style scoped>\n",
              "    .dataframe tbody tr th:only-of-type {\n",
              "        vertical-align: middle;\n",
              "    }\n",
              "\n",
              "    .dataframe tbody tr th {\n",
              "        vertical-align: top;\n",
              "    }\n",
              "\n",
              "    .dataframe thead th {\n",
              "        text-align: right;\n",
              "    }\n",
              "</style>\n",
              "<table border=\"1\" class=\"dataframe\">\n",
              "  <thead>\n",
              "    <tr style=\"text-align: right;\">\n",
              "      <th></th>\n",
              "      <th>id</th>\n",
              "      <th>title</th>\n",
              "      <th>publication</th>\n",
              "      <th>author</th>\n",
              "      <th>date</th>\n",
              "      <th>year</th>\n",
              "      <th>month</th>\n",
              "      <th>url</th>\n",
              "      <th>content</th>\n",
              "    </tr>\n",
              "  </thead>\n",
              "  <tbody>\n",
              "    <tr>\n",
              "      <th>146028</th>\n",
              "      <td>218078</td>\n",
              "      <td>An eavesdropping Uber driver saved his 16-year...</td>\n",
              "      <td>Washington Post</td>\n",
              "      <td>Avi Selk</td>\n",
              "      <td>2016-12-30</td>\n",
              "      <td>2016.0</td>\n",
              "      <td>12.0</td>\n",
              "      <td>https://web.archive.org/web/20161231004909/htt...</td>\n",
              "      <td>Uber driver Keith Avila picked up a p...</td>\n",
              "    </tr>\n",
              "    <tr>\n",
              "      <th>146029</th>\n",
              "      <td>218079</td>\n",
              "      <td>Plane carrying six people returning from a Cav...</td>\n",
              "      <td>Washington Post</td>\n",
              "      <td>Sarah Larimer</td>\n",
              "      <td>2016-12-30</td>\n",
              "      <td>2016.0</td>\n",
              "      <td>12.0</td>\n",
              "      <td>https://web.archive.org/web/20161231004909/htt...</td>\n",
              "      <td>Crews on Friday continued to search L...</td>\n",
              "    </tr>\n",
              "    <tr>\n",
              "      <th>146030</th>\n",
              "      <td>218080</td>\n",
              "      <td>After helping a fraction of homeowners expecte...</td>\n",
              "      <td>Washington Post</td>\n",
              "      <td>Renae Merle</td>\n",
              "      <td>2016-12-30</td>\n",
              "      <td>2016.0</td>\n",
              "      <td>12.0</td>\n",
              "      <td>https://web.archive.org/web/20161231004909/htt...</td>\n",
              "      <td>When the Obama administration announced a...</td>\n",
              "    </tr>\n",
              "    <tr>\n",
              "      <th>146031</th>\n",
              "      <td>218081</td>\n",
              "      <td>Yes, this is real: Michigan just banned bannin...</td>\n",
              "      <td>Washington Post</td>\n",
              "      <td>Chelsea Harvey</td>\n",
              "      <td>2016-12-30</td>\n",
              "      <td>2016.0</td>\n",
              "      <td>12.0</td>\n",
              "      <td>https://web.archive.org/web/20161231004909/htt...</td>\n",
              "      <td>This story has been updated. A new law in...</td>\n",
              "    </tr>\n",
              "    <tr>\n",
              "      <th>146032</th>\n",
              "      <td>218082</td>\n",
              "      <td>What happened in Washington state after voters...</td>\n",
              "      <td>Washington Post</td>\n",
              "      <td>Christopher Ingraham</td>\n",
              "      <td>2016-12-29</td>\n",
              "      <td>2016.0</td>\n",
              "      <td>12.0</td>\n",
              "      <td>https://web.archive.org/web/20161231004909/htt...</td>\n",
              "      <td>The nation’s first recreational marijuana...</td>\n",
              "    </tr>\n",
              "  </tbody>\n",
              "</table>\n",
              "</div>"
            ],
            "text/plain": [
              "            id  ...                                            content\n",
              "146028  218078  ...           Uber driver Keith Avila picked up a p...\n",
              "146029  218079  ...           Crews on Friday continued to search L...\n",
              "146030  218080  ...       When the Obama administration announced a...\n",
              "146031  218081  ...       This story has been updated. A new law in...\n",
              "146032  218082  ...       The nation’s first recreational marijuana...\n",
              "\n",
              "[5 rows x 9 columns]"
            ]
          },
          "metadata": {
            "tags": []
          },
          "execution_count": 4
        }
      ]
    },
    {
      "cell_type": "code",
      "metadata": {
        "id": "I0DUmX7cwwwh",
        "colab_type": "code",
        "colab": {
          "base_uri": "https://localhost:8080/",
          "height": 34
        },
        "outputId": "b1979cb4-65f2-4514-e421-76943e7a17ab"
      },
      "source": [
        "articles.shape"
      ],
      "execution_count": 5,
      "outputs": [
        {
          "output_type": "execute_result",
          "data": {
            "text/plain": [
              "(142570, 9)"
            ]
          },
          "metadata": {
            "tags": []
          },
          "execution_count": 5
        }
      ]
    },
    {
      "cell_type": "code",
      "metadata": {
        "id": "fF5b7faRwwwk",
        "colab_type": "code",
        "colab": {}
      },
      "source": [
        "articles = articles[['title', 'content']]"
      ],
      "execution_count": 0,
      "outputs": []
    },
    {
      "cell_type": "code",
      "metadata": {
        "id": "x63DTA4nwwwn",
        "colab_type": "code",
        "colab": {
          "base_uri": "https://localhost:8080/",
          "height": 70
        },
        "outputId": "c02671e5-2cec-4fa4-9a4e-3766101cf287"
      },
      "source": [
        "articles.isnull().sum()"
      ],
      "execution_count": 7,
      "outputs": [
        {
          "output_type": "execute_result",
          "data": {
            "text/plain": [
              "title      2\n",
              "content    0\n",
              "dtype: int64"
            ]
          },
          "metadata": {
            "tags": []
          },
          "execution_count": 7
        }
      ]
    },
    {
      "cell_type": "code",
      "metadata": {
        "id": "egLGwLaBwwwt",
        "colab_type": "code",
        "colab": {}
      },
      "source": [
        "articles['title'][articles['title'].isnull()] = ''"
      ],
      "execution_count": 0,
      "outputs": []
    },
    {
      "cell_type": "code",
      "metadata": {
        "id": "tJIutJjLwwwx",
        "colab_type": "code",
        "colab": {}
      },
      "source": [
        "titles = articles['title']\n",
        "\n",
        "texts = articles['content']"
      ],
      "execution_count": 0,
      "outputs": []
    },
    {
      "cell_type": "markdown",
      "metadata": {
        "id": "7jOi2TOZwwwz",
        "colab_type": "text"
      },
      "source": [
        "## 2. _Clusterization_ "
      ]
    },
    {
      "cell_type": "code",
      "metadata": {
        "id": "Qz_Feo7mwww0",
        "colab_type": "code",
        "colab": {}
      },
      "source": [
        "from sklearn.feature_extraction.text import TfidfVectorizer\n",
        "from sklearn.pipeline import Pipeline\n",
        "from sklearn.model_selection import train_test_split\n",
        "\n",
        "from sklearn.decomposition import TruncatedSVD\n",
        "from sklearn.cluster import KMeans\n",
        "from sklearn.cluster import AffinityPropagation\n",
        "\n",
        "from sklearn.cluster import DBSCAN\n",
        "from sklearn.cluster import AgglomerativeClustering\n",
        "\n",
        "from sklearn import metrics"
      ],
      "execution_count": 0,
      "outputs": []
    },
    {
      "cell_type": "markdown",
      "metadata": {
        "id": "UyXQSPJCwww3",
        "colab_type": "text"
      },
      "source": [
        "Ограничим размеры словарей (для сокращения времени работы алгоритмов)."
      ]
    },
    {
      "cell_type": "code",
      "metadata": {
        "id": "7sYwlzEKwww4",
        "colab_type": "code",
        "colab": {}
      },
      "source": [
        "titles_sparse = TfidfVectorizer(max_features=4096).fit_transform(titles)\n",
        "texts_sparse = TfidfVectorizer(max_features=4096).fit_transform(texts)"
      ],
      "execution_count": 0,
      "outputs": []
    },
    {
      "cell_type": "code",
      "metadata": {
        "id": "2sA7y2TPwww-",
        "colab_type": "code",
        "colab": {
          "base_uri": "https://localhost:8080/",
          "height": 34
        },
        "outputId": "939c1a40-dfb3-4a59-8d6f-87e09eb7b76a"
      },
      "source": [
        "titles_sparse.shape, texts_sparse.shape"
      ],
      "execution_count": 12,
      "outputs": [
        {
          "output_type": "execute_result",
          "data": {
            "text/plain": [
              "((142570, 4096), (142570, 4096))"
            ]
          },
          "metadata": {
            "tags": []
          },
          "execution_count": 12
        }
      ]
    },
    {
      "cell_type": "code",
      "metadata": {
        "id": "v1b7EI3WwwxC",
        "colab_type": "code",
        "colab": {}
      },
      "source": [
        "def get_title_metrics(X_train, _, y_pred):\n",
        "    return { 'Silhouette' : metrics.silhouette_score(X_train, y_pred) }\n",
        "\n",
        "def get_content_metrics(X_train, y_test, y_pred):\n",
        "    result = {\n",
        "        'ARI': metrics.adjusted_rand_score(y_test, y_pred),\n",
        "        'AMI': metrics.adjusted_mutual_info_score(y_test, y_pred, average_method='arithmetic'),\n",
        "        'Homogenity': metrics.homogeneity_score(y_test, y_pred),\n",
        "        'Completeness': metrics.completeness_score(y_test, y_pred),\n",
        "        'V-measure': metrics.v_measure_score(y_test, y_pred)}\n",
        "    result.update(get_title_metrics(X_train, y_test, y_pred))\n",
        "    return result\n",
        "\n",
        "def print_metrics(get_metrics, dataset_name, algo_name, X_train, y_test, y_pred):\n",
        "    print('{} for {}:'.format(algo_name, dataset_name))\n",
        "    for name, val in get_metrics(X_train, y_test, y_pred).items():\n",
        "        print('{}: {:.3f}'.format(name, val))\n",
        "    print(40 * '*')\n",
        "\n",
        "def print_title_metrics(algo_name, X_train, y_pred):\n",
        "    print_metrics(get_title_metrics, 'titles', algo_name, X_train, None, y_pred)\n",
        "\n",
        "def print_content_metrics(algo_name, X_train, y_test, y_pred):\n",
        "    print_metrics(get_content_metrics, 'content', algo_name, X_train, y_test, y_pred)"
      ],
      "execution_count": 0,
      "outputs": []
    },
    {
      "cell_type": "markdown",
      "metadata": {
        "id": "ViubbrYwwwxD",
        "colab_type": "text"
      },
      "source": [
        "### 2.1 _AffinityPropagation_"
      ]
    },
    {
      "cell_type": "markdown",
      "metadata": {
        "id": "TuoO-hqXwwxE",
        "colab_type": "text"
      },
      "source": [
        "У меня **AffinityPropagation** не работает на большом датасете - не хватает памяти ([`MemoryError`](https://docs.python.org/3/library/exceptions.html)), пришлось его сильно уменьшить."
      ]
    },
    {
      "cell_type": "code",
      "metadata": {
        "id": "UfBc-AouwwxF",
        "colab_type": "code",
        "colab": {}
      },
      "source": [
        "ix = np.random.choice(titles_sparse.shape[0], 2**13, replace=False)\n",
        "\n",
        "X_train = titles_sparse[ix]\n",
        "X_test = texts_sparse[ix]"
      ],
      "execution_count": 0,
      "outputs": []
    },
    {
      "cell_type": "code",
      "metadata": {
        "id": "L5Qq6q5nwwxJ",
        "colab_type": "code",
        "colab": {
          "base_uri": "https://localhost:8080/",
          "height": 105
        },
        "outputId": "999f5ddf-1656-494a-a67b-29db148323c1"
      },
      "source": [
        "%%time\n",
        "\n",
        "y_test = AffinityPropagation().fit_predict(X_train)\n",
        "\n",
        "print_title_metrics('AffinityPropagation', X_train, y_test)"
      ],
      "execution_count": 15,
      "outputs": [
        {
          "output_type": "stream",
          "text": [
            "AffinityPropagation for titles:\n",
            "Silhouette: -0.038\n",
            "****************************************\n",
            "CPU times: user 4min 33s, sys: 3.55 s, total: 4min 37s\n",
            "Wall time: 4min 37s\n"
          ],
          "name": "stdout"
        }
      ]
    },
    {
      "cell_type": "code",
      "metadata": {
        "id": "22ti0ubuwwxO",
        "colab_type": "code",
        "colab": {
          "base_uri": "https://localhost:8080/",
          "height": 193
        },
        "outputId": "c3fffe72-4ad5-4618-fbd4-a6660497a85e"
      },
      "source": [
        "%%time\n",
        "\n",
        "print_content_metrics('AffinityPropagation', X_train, y_test, AffinityPropagation().fit_predict(X_test))"
      ],
      "execution_count": 16,
      "outputs": [
        {
          "output_type": "stream",
          "text": [
            "AffinityPropagation for content:\n",
            "ARI: -0.000\n",
            "AMI: 0.003\n",
            "Homogenity: 0.133\n",
            "Completeness: 0.081\n",
            "V-measure: 0.101\n",
            "Silhouette: -0.030\n",
            "****************************************\n",
            "CPU times: user 5min, sys: 536 ms, total: 5min\n",
            "Wall time: 5min\n"
          ],
          "name": "stdout"
        }
      ]
    },
    {
      "cell_type": "markdown",
      "metadata": {
        "id": "GjrMU4IfwwxR",
        "colab_type": "text"
      },
      "source": [
        "### 2.2 _DBSCAN_"
      ]
    },
    {
      "cell_type": "markdown",
      "metadata": {
        "id": "nZGZkOU0wwxS",
        "colab_type": "text"
      },
      "source": [
        "Также пришлось уменьшить датасет ($1/5$ от исходных данных), а то долго считает."
      ]
    },
    {
      "cell_type": "code",
      "metadata": {
        "id": "ND0Q6L3LwwxT",
        "colab_type": "code",
        "colab": {}
      },
      "source": [
        "_, X_train, _, X_test = train_test_split(titles_sparse, texts_sparse, test_size=0.2, random_state=299)"
      ],
      "execution_count": 0,
      "outputs": []
    },
    {
      "cell_type": "code",
      "metadata": {
        "id": "_kMCynGdwwxX",
        "colab_type": "code",
        "colab": {
          "base_uri": "https://localhost:8080/",
          "height": 34
        },
        "outputId": "3b0181d2-3dab-4b71-9d9d-35f730c23932"
      },
      "source": [
        "X_train.shape, X_test.shape"
      ],
      "execution_count": 18,
      "outputs": [
        {
          "output_type": "execute_result",
          "data": {
            "text/plain": [
              "((28514, 4096), (28514, 4096))"
            ]
          },
          "metadata": {
            "tags": []
          },
          "execution_count": 18
        }
      ]
    },
    {
      "cell_type": "code",
      "metadata": {
        "id": "Wrlrw-LDwwxb",
        "colab_type": "code",
        "colab": {
          "base_uri": "https://localhost:8080/",
          "height": 105
        },
        "outputId": "7424b9a9-490d-4f8a-fe59-a1be87730c30"
      },
      "source": [
        "%%time\n",
        "\n",
        "y_test = DBSCAN().fit_predict(X_train)\n",
        "\n",
        "print_title_metrics('DBSCAN', X_train, y_test)"
      ],
      "execution_count": 19,
      "outputs": [
        {
          "output_type": "stream",
          "text": [
            "DBSCAN for titles:\n",
            "Silhouette: -0.284\n",
            "****************************************\n",
            "CPU times: user 28.4 s, sys: 156 ms, total: 28.6 s\n",
            "Wall time: 28.6 s\n"
          ],
          "name": "stdout"
        }
      ]
    },
    {
      "cell_type": "code",
      "metadata": {
        "id": "_4kkh1-Awwxd",
        "colab_type": "code",
        "colab": {
          "base_uri": "https://localhost:8080/",
          "height": 193
        },
        "outputId": "2cad4b13-6006-4e71-8b46-93aa81aa95da"
      },
      "source": [
        "%%time\n",
        "\n",
        "print_content_metrics('DBSCAN', X_train, y_test, DBSCAN().fit_predict(X_test))"
      ],
      "execution_count": 20,
      "outputs": [
        {
          "output_type": "stream",
          "text": [
            "DBSCAN for content:\n",
            "ARI: -0.003\n",
            "AMI: -0.001\n",
            "Homogenity: 0.000\n",
            "Completeness: 0.000\n",
            "V-measure: 0.000\n",
            "Silhouette: -0.009\n",
            "****************************************\n",
            "CPU times: user 4min 31s, sys: 272 ms, total: 4min 32s\n",
            "Wall time: 4min 32s\n"
          ],
          "name": "stdout"
        }
      ]
    },
    {
      "cell_type": "markdown",
      "metadata": {
        "id": "65Drs4gUwwxh",
        "colab_type": "text"
      },
      "source": [
        "# 3. _PCA Clusterization_ "
      ]
    },
    {
      "cell_type": "code",
      "metadata": {
        "id": "NYweNAiOwwxi",
        "colab_type": "code",
        "colab": {
          "base_uri": "https://localhost:8080/",
          "height": 34
        },
        "outputId": "904eb120-2974-4805-eef7-9af66b396428"
      },
      "source": [
        "titles_pca = TruncatedSVD(n_components=128).fit_transform(titles_sparse)\n",
        "texts_pca = TruncatedSVD(n_components=128).fit_transform(texts_sparse)\n",
        "\n",
        "titles_pca.shape, texts_pca.shape"
      ],
      "execution_count": 21,
      "outputs": [
        {
          "output_type": "execute_result",
          "data": {
            "text/plain": [
              "((142570, 128), (142570, 128))"
            ]
          },
          "metadata": {
            "tags": []
          },
          "execution_count": 21
        }
      ]
    },
    {
      "cell_type": "markdown",
      "metadata": {
        "id": "LHbCLMOTwwxk",
        "colab_type": "text"
      },
      "source": [
        "### 3.1 _AffinityPropagation_"
      ]
    },
    {
      "cell_type": "code",
      "metadata": {
        "id": "h5JHL3Uhwwxl",
        "colab_type": "code",
        "colab": {}
      },
      "source": [
        "X_train = titles_pca[ix]\n",
        "X_test = texts_pca[ix]"
      ],
      "execution_count": 0,
      "outputs": []
    },
    {
      "cell_type": "code",
      "metadata": {
        "id": "K_ePIEbRwwxm",
        "colab_type": "code",
        "colab": {
          "base_uri": "https://localhost:8080/",
          "height": 105
        },
        "outputId": "5c0b4cbe-8fd0-4127-f659-10e561858689"
      },
      "source": [
        "%%time\n",
        "\n",
        "y_test = AffinityPropagation().fit_predict(X_train)\n",
        "\n",
        "print_title_metrics('PCA / AffinityPropagation', X_train, y_test)"
      ],
      "execution_count": 23,
      "outputs": [
        {
          "output_type": "stream",
          "text": [
            "PCA / AffinityPropagation for titles:\n",
            "Silhouette: 0.009\n",
            "****************************************\n",
            "CPU times: user 1min 49s, sys: 251 ms, total: 1min 50s\n",
            "Wall time: 1min 49s\n"
          ],
          "name": "stdout"
        }
      ]
    },
    {
      "cell_type": "code",
      "metadata": {
        "id": "Q7t9gL4Hwwxr",
        "colab_type": "code",
        "colab": {
          "base_uri": "https://localhost:8080/",
          "height": 193
        },
        "outputId": "0c2fe361-f1ca-46ce-b030-9e8d58cc09ee"
      },
      "source": [
        "%%time\n",
        "\n",
        "print_content_metrics('PCA / AffinityPropagation', X_train, y_test, AffinityPropagation().fit_predict(X_test))"
      ],
      "execution_count": 24,
      "outputs": [
        {
          "output_type": "stream",
          "text": [
            "PCA / AffinityPropagation for content:\n",
            "ARI: 0.011\n",
            "AMI: 0.053\n",
            "Homogenity: 0.471\n",
            "Completeness: 0.452\n",
            "V-measure: 0.462\n",
            "Silhouette: -0.157\n",
            "****************************************\n",
            "CPU times: user 1min 24s, sys: 261 ms, total: 1min 24s\n",
            "Wall time: 1min 23s\n"
          ],
          "name": "stdout"
        }
      ]
    },
    {
      "cell_type": "markdown",
      "metadata": {
        "id": "ofbAH_EAwwxv",
        "colab_type": "text"
      },
      "source": [
        "### 3.2 _DBSCAN_"
      ]
    },
    {
      "cell_type": "code",
      "metadata": {
        "id": "q3IxFZ4Lwwxw",
        "colab_type": "code",
        "colab": {}
      },
      "source": [
        "_, X_train, _, X_test = train_test_split(titles_pca, texts_pca, test_size=0.2, random_state=299)"
      ],
      "execution_count": 0,
      "outputs": []
    },
    {
      "cell_type": "code",
      "metadata": {
        "id": "wM4-mshlwwxz",
        "colab_type": "code",
        "colab": {
          "base_uri": "https://localhost:8080/",
          "height": 105
        },
        "outputId": "5b981a17-9011-4bf0-d429-b8c4a349502f"
      },
      "source": [
        "%%time\n",
        "\n",
        "y_test = DBSCAN().fit_predict(X_train)\n",
        "\n",
        "print_title_metrics('PCA / DBSCAN', X_train, y_test)"
      ],
      "execution_count": 26,
      "outputs": [
        {
          "output_type": "stream",
          "text": [
            "PCA / DBSCAN for titles:\n",
            "Silhouette: 0.265\n",
            "****************************************\n",
            "CPU times: user 8min 29s, sys: 912 ms, total: 8min 30s\n",
            "Wall time: 8min 22s\n"
          ],
          "name": "stdout"
        }
      ]
    },
    {
      "cell_type": "code",
      "metadata": {
        "id": "OS4PKMguwwx2",
        "colab_type": "code",
        "colab": {
          "base_uri": "https://localhost:8080/",
          "height": 193
        },
        "outputId": "fcb87650-0eaa-45f9-f91c-44b86cd4a881"
      },
      "source": [
        "%%time\n",
        "\n",
        "print_content_metrics('PCA / DBSCAN', X_train, y_test, DBSCAN().fit_predict(X_test))"
      ],
      "execution_count": 27,
      "outputs": [
        {
          "output_type": "stream",
          "text": [
            "PCA / DBSCAN for content:\n",
            "ARI: -0.001\n",
            "AMI: -0.000\n",
            "Homogenity: 0.000\n",
            "Completeness: 0.004\n",
            "V-measure: 0.000\n",
            "Silhouette: 0.099\n",
            "****************************************\n",
            "CPU times: user 8min 15s, sys: 771 ms, total: 8min 16s\n",
            "Wall time: 8min 8s\n"
          ],
          "name": "stdout"
        }
      ]
    },
    {
      "cell_type": "markdown",
      "metadata": {
        "id": "O74XsWu3wwx9",
        "colab_type": "text"
      },
      "source": [
        "### 3.3 _AgglomerativeClustering_"
      ]
    },
    {
      "cell_type": "code",
      "metadata": {
        "id": "87HCJv0Pwwx-",
        "colab_type": "code",
        "colab": {
          "base_uri": "https://localhost:8080/",
          "height": 105
        },
        "outputId": "172e8d47-e27a-4ef4-890f-ae0c0559611f"
      },
      "source": [
        "%%time\n",
        "\n",
        "y_test = AgglomerativeClustering().fit_predict(X_train)\n",
        "\n",
        "print_title_metrics('PCA / AgglomerativeClustering', X_train, y_test)"
      ],
      "execution_count": 28,
      "outputs": [
        {
          "output_type": "stream",
          "text": [
            "PCA / AgglomerativeClustering for titles:\n",
            "Silhouette: 0.115\n",
            "****************************************\n",
            "CPU times: user 2min 15s, sys: 8.25 s, total: 2min 24s\n",
            "Wall time: 2min 15s\n"
          ],
          "name": "stdout"
        }
      ]
    },
    {
      "cell_type": "code",
      "metadata": {
        "id": "BWPsXH6RwwyB",
        "colab_type": "code",
        "colab": {
          "base_uri": "https://localhost:8080/",
          "height": 193
        },
        "outputId": "2d314777-841f-41d3-d530-12bdd9f19065"
      },
      "source": [
        "%%time\n",
        "\n",
        "print_content_metrics('PCA / AgglomerativeClustering', X_train, y_test, AgglomerativeClustering().fit_predict(X_test))"
      ],
      "execution_count": 29,
      "outputs": [
        {
          "output_type": "stream",
          "text": [
            "PCA / AgglomerativeClustering for content:\n",
            "ARI: 0.034\n",
            "AMI: 0.009\n",
            "Homogenity: 0.017\n",
            "Completeness: 0.006\n",
            "V-measure: 0.009\n",
            "Silhouette: 0.030\n",
            "****************************************\n",
            "CPU times: user 2min 8s, sys: 912 ms, total: 2min 9s\n",
            "Wall time: 2min\n"
          ],
          "name": "stdout"
        }
      ]
    }
  ]
}
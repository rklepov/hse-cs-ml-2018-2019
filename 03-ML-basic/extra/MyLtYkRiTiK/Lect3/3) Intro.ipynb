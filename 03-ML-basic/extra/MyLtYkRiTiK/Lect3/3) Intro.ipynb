{
 "cells": [
  {
   "cell_type": "code",
   "execution_count": null,
   "metadata": {},
   "outputs": [],
   "source": [
    "%matplotlib inline\n",
    "import matplotlib.pyplot as plt # импорт библиотеки визуализации\n",
    "import warnings\n",
    "import numpy as np # библиотека для работы с матрицами\n",
    "warnings.filterwarnings('ignore') # фильтр красных предупреждений"
   ]
  },
  {
   "cell_type": "markdown",
   "metadata": {},
   "source": [
    "## Зачем линейные модели, когда есть KNN ?\n",
    "Для ответа на этот вопрос, давайте построим границу классов"
   ]
  },
  {
   "cell_type": "code",
   "execution_count": null,
   "metadata": {},
   "outputs": [],
   "source": [
    "import seaborn as sns\n",
    "# import seaborn # Можно импортировать так, но тогда вместо вызова методов sns.*, например, sns.load_dataset('iris') придётся использовать длинное название seaborn.load_dataset('iris')\n",
    "df = sns.load_dataset('iris')\n",
    "X, y = df.iloc[:, :2], df['species'] # в качестве объектов-признаков берём первые две колонки, которую берём за целевую переменную\n",
    "values = {specy_name: specy_code for specy_code, specy_name in enumerate(y.unique())} # словарь для кодирования видов цветка в число\n",
    "# values = {'setosa': 0, 'versicolor': 1, 'virginica': 2} \n",
    "y = y.apply(lambda x: values[x])\n",
    "\n",
    "from sklearn.neighbors import KNeighborsClassifier\n",
    "clf = KNeighborsClassifier()\n",
    "clf.fit(X, y)\n",
    "# создаём сетку для построения графика\n",
    "h = 0.1 # размер ячейки\n",
    "x_min, x_max = X.iloc[:, 0].min() - 1, X.iloc[:, 0].max() + 1 # задаём интервалы значений для сетки\n",
    "y_min, y_max = X.iloc[:, 1].min() - 1, X.iloc[:, 1].max() + 1\n",
    "xx, yy = np.meshgrid(np.arange(x_min, x_max, h), # делаем сетку значений\n",
    " np.arange(y_min, y_max, h))\n",
    " \n",
    "plt.subplot(1, 1, 1)\n",
    "Z = clf.predict(np.c_[xx.ravel(), yy.ravel()]) # получаем предсказания для этой сетки\n",
    "Z = Z.reshape(xx.shape)\n",
    "plt.contourf(xx, yy, Z, cmap=plt.cm.Paired, alpha=0.8)\n",
    " \n",
    "plt.scatter(X.iloc[:, 0], X.iloc[:, 1], c=y, cmap=plt.cm.Paired)\n",
    "plt.xlabel('Sepal length') # оси и название укажем на английском\n",
    "plt.ylabel('Sepal width')\n",
    "plt.xlim(xx.min(), xx.max())\n",
    "plt.title('KNN')\n",
    "plt.show()"
   ]
  },
  {
   "cell_type": "markdown",
   "metadata": {},
   "source": [
    "Слишком сложная граница для такой задачи, не правда ли? Наверняка есть варианты решения попроще "
   ]
  },
  {
   "cell_type": "markdown",
   "metadata": {},
   "source": [
    "## Одномерная регрессия\n",
    "Давайте сгенерируем одномерную регрессию (регрессию для объектов с одним признаком)\n",
    "\n",
    "**Вопрос!** Сколько у такой модели параметров?"
   ]
  },
  {
   "cell_type": "code",
   "execution_count": 3,
   "metadata": {},
   "outputs": [
    {
     "data": {
      "text/plain": [
       "<matplotlib.collections.PathCollection at 0x7fcac54a8828>"
      ]
     },
     "execution_count": 3,
     "metadata": {},
     "output_type": "execute_result"
    },
    {
     "data": {
      "image/png": "[encoded data removed]",
      "text/plain": [
       "<Figure size 432x288 with 1 Axes>"
      ]
     },
     "metadata": {
      "needs_background": "light"
     },
     "output_type": "display_data"
    }
   ],
   "source": [
    "from sklearn.datasets.samples_generator import make_regression # метод для генерации \n",
    "X, y = make_regression(n_samples=100, n_features=1, random_state=0) # генерируем 100 объектов с 1 признаком\n",
    "plt.scatter(X, y)"
   ]
  },
  {
   "cell_type": "markdown",
   "metadata": {},
   "source": [
    "Обучим простую регрессию"
   ]
  },
  {
   "cell_type": "code",
   "execution_count": 4,
   "metadata": {},
   "outputs": [
    {
     "data": {
      "text/plain": [
       "[<matplotlib.lines.Line2D at 0x7fcac54c10f0>]"
      ]
     },
     "execution_count": 4,
     "metadata": {},
     "output_type": "execute_result"
    },
    {
     "data": {
      "image/png": "[encoded data removed]",
      "text/plain": [
       "<Figure size 432x288 with 1 Axes>"
      ]
     },
     "metadata": {
      "needs_background": "light"
     },
     "output_type": "display_data"
    }
   ],
   "source": [
    "from sklearn.linear_model import LinearRegression\n",
    "clf = LinearRegression() # инициализация регрессора (пока модель глупая и необученная)\n",
    "clf.fit(X, y) # говорим модели, какие объекты какой ответ имеют. Модель на них обучается. В итоге модель выучит параметры a и b уравнения y = aX + b\n",
    "a = clf.coef_[0] # коэффициент при первом (а он у нас 1) признаке\n",
    "b = clf.intercept_\n",
    "x_line = np.linspace(-2.5, 2.5) # зададим интервал значений для линии по оси X\n",
    "y_line = a * x_line + b # подставим найденные коэффициенты a и b в уравнение прямой\n",
    "plt.scatter(X, y) # нарисуем точки из обучающей выборки\n",
    "plt.ylabel('Y') # подпишем ось Y\n",
    "plt.xlabel('X') # подпишем ось X\n",
    "plt.plot(x_line, y_line) # нарисуем прямую"
   ]
  },
  {
   "cell_type": "code",
   "execution_count": 5,
   "metadata": {},
   "outputs": [
    {
     "data": {
      "text/plain": [
       "(42.38550485581796, 1.7763568394002505e-15)"
      ]
     },
     "execution_count": 5,
     "metadata": {},
     "output_type": "execute_result"
    }
   ],
   "source": [
    "a, b"
   ]
  },
  {
   "cell_type": "markdown",
   "metadata": {},
   "source": [
    "Давайте теперь посмотрим, как может испортить картину всего 1 аномалия!"
   ]
  },
  {
   "cell_type": "code",
   "execution_count": 6,
   "metadata": {},
   "outputs": [
    {
     "data": {
      "text/plain": [
       "[<matplotlib.lines.Line2D at 0x7fcac3f9aa58>]"
      ]
     },
     "execution_count": 6,
     "metadata": {},
     "output_type": "execute_result"
    },
    {
     "data": {
      "image/png": "[encoded data removed]",
      "text/plain": [
       "<Figure size 432x288 with 1 Axes>"
      ]
     },
     "metadata": {
      "needs_background": "light"
     },
     "output_type": "display_data"
    }
   ],
   "source": [
    "from sklearn.datasets.samples_generator import make_regression # метод для генерации \n",
    "X, y = make_regression(n_samples=100, n_features=1, random_state=0) # генерируем 100 объектов с 1 признаком\n",
    "bad_point_x = 2\n",
    "bad_point_y = -10000\n",
    "X = np.concatenate([X, [[bad_point_x]]]) # добавим плохую точку к X\n",
    "y = np.concatenate([y, [bad_point_y]]) # и к Y\n",
    "clf = LinearRegression() # инициализация регрессора (пока модель глупая и необученная)\n",
    "clf.fit(X, y) # говорим модели, какие объекты какой ответ имеют. Модель на них обучается. В итоге модель выучит параметры a и b уравнения y = aX + b\n",
    "a = clf.coef_[0] # коэффициент при первом (а он у нас 1) признаке\n",
    "b = clf.intercept_\n",
    "x_line = np.linspace(-2.5, 2.5) # зададим интервал значений для линии по оси X\n",
    "y_line = a * x_line + b # подставим найденные коэффициенты a и b в уравнение прямой\n",
    "plt.scatter(X, y) # нарисуем точки из обучающей выборки\n",
    "plt.ylabel('Y') # подпишем ось Y\n",
    "plt.xlabel('X') # подпишем ось X\n",
    "plt.plot(x_line, y_line) # нарисуем прямую"
   ]
  },
  {
   "cell_type": "code",
   "execution_count": 7,
   "metadata": {},
   "outputs": [
    {
     "data": {
      "text/plain": [
       "(-141.57341423775807, -85.31318200434572)"
      ]
     },
     "execution_count": 7,
     "metadata": {},
     "output_type": "execute_result"
    }
   ],
   "source": [
    "a, b"
   ]
  },
  {
   "cell_type": "markdown",
   "metadata": {},
   "source": [
    "Кривая стала проходить через данные хуже! Модель оказалась неустойчива к выбросам и аномалиям! \"Плохая точка\" утянула за собой кривую, и видим, что коэффициенты стали больше. Модель, устойчивая к выбросам, называется \"робастной\" (robust). Примером такой модели является HuberRegressor "
   ]
  },
  {
   "cell_type": "code",
   "execution_count": 8,
   "metadata": {},
   "outputs": [
    {
     "data": {
      "text/plain": [
       "[<matplotlib.lines.Line2D at 0x7fcac3f80d68>]"
      ]
     },
     "execution_count": 8,
     "metadata": {},
     "output_type": "execute_result"
    },
    {
     "data": {
      "image/png": "[encoded data removed]",
      "text/plain": [
       "<Figure size 432x288 with 1 Axes>"
      ]
     },
     "metadata": {
      "needs_background": "light"
     },
     "output_type": "display_data"
    }
   ],
   "source": [
    "from sklearn.linear_model import HuberRegressor\n",
    "\n",
    "clf = HuberRegressor() # инициализация регрессора (пока модель глупая и необученная)\n",
    "clf.fit(X, y) # говорим модели, какие объекты какой ответ имеют. Модель на них обучается. В итоге модель выучит параметры a и b уравнения y = aX + b\n",
    "a = clf.coef_[0] # коэффициент при первом (а он у нас 1) признаке\n",
    "b = clf.intercept_\n",
    "x_line = np.linspace(-2.5, 2.5) # зададим интервал значений для линии по оси X\n",
    "y_line = a * x_line + b # подставим найденные коэффициенты a и b в уравнение прямой\n",
    "plt.scatter(X, y) # нарисуем точки из обучающей выборки\n",
    "plt.ylabel('Y') # подпишем ось Y\n",
    "plt.xlabel('X') # подпишем ось X\n",
    "plt.plot(x_line, y_line) # нарисуем прямую"
   ]
  },
  {
   "cell_type": "markdown",
   "metadata": {},
   "source": [
    "Видим, что HuberRegressor'у пофиг на выброс!"
   ]
  },
  {
   "cell_type": "code",
   "execution_count": 9,
   "metadata": {},
   "outputs": [
    {
     "data": {
      "text/plain": [
       "(42.385500222321916, -0.00013992249663950736)"
      ]
     },
     "execution_count": 9,
     "metadata": {},
     "output_type": "execute_result"
    }
   ],
   "source": [
    "a, b"
   ]
  },
  {
   "cell_type": "code",
   "execution_count": null,
   "metadata": {},
   "outputs": [],
   "source": []
  }
 ],
 "metadata": {
  "kernelspec": {
   "display_name": "Python 3",
   "language": "python",
   "name": "python3"
  },
  "language_info": {
   "codemirror_mode": {
    "name": "ipython",
    "version": 3
   },
   "file_extension": ".py",
   "mimetype": "text/x-python",
   "name": "python",
   "nbconvert_exporter": "python",
   "pygments_lexer": "ipython3",
   "version": "3.7.0"
  }
 },
 "nbformat": 4,
 "nbformat_minor": 2
}

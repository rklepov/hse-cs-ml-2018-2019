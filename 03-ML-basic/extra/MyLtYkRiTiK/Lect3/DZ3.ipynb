{
 "cells": [
  {
   "cell_type": "markdown",
   "metadata": {},
   "source": [
    "# Задание 1\n",
    "\n",
    "Примените PCA к данным MNIST.\n",
    "\n",
    "Попробуйте со скалированием и без. Где надо меньше компонент при требовании 90% объясняемой дисперсии? (код визуализации ниже)\n",
    "\n",
    "Обучите knn классификатор на исходных данных и на выбранных компонентах PCA (со скалированием и без). Сравните тестовый скор по метрике accuracy."
   ]
  },
  {
   "cell_type": "code",
   "execution_count": null,
   "metadata": {},
   "outputs": [],
   "source": [
    "from sklearn import datasets \n",
    "import matplotlib.pyplot as plt\n",
    "from sklearn.decomposition import PCA\n",
    "import numpy as np\n",
    "\n",
    "\n",
    "%matplotlib inline"
   ]
  },
  {
   "cell_type": "code",
   "execution_count": null,
   "metadata": {},
   "outputs": [],
   "source": [
    "digits = datasets.load_digits()\n",
    "X, y = digits['data'], digits['target']"
   ]
  },
  {
   "cell_type": "code",
   "execution_count": null,
   "metadata": {},
   "outputs": [],
   "source": [
    "plt.figure(figsize=(16, 6))\n",
    "for i in range(10):\n",
    "    plt.subplot(2, 5, i + 1)\n",
    "    plt.imshow(X[i,:].reshape([8,8]));"
   ]
  },
  {
   "cell_type": "code",
   "execution_count": null,
   "metadata": {},
   "outputs": [],
   "source": [
    "pca = PCA(n_components=2)\n",
    "\n",
    "#ваш код здесь"
   ]
  },
  {
   "cell_type": "markdown",
   "metadata": {},
   "source": [
    "### Пример визуализации выбора кол-ва компонент"
   ]
  },
  {
   "cell_type": "code",
   "execution_count": null,
   "metadata": {},
   "outputs": [],
   "source": [
    "def find_comp(list_of_cumsum):\n",
    "    for i in range(len(list_of_cumsum)):\n",
    "        if list_of_cumsum[i] > 0.9:\n",
    "            return i\n",
    "        \n",
    "pca = PCA().fit() #ваши данные\n",
    "\n",
    "plt.figure(figsize=(10,7))\n",
    "plt.plot(np.cumsum(pca.explained_variance_ratio_), color='k', lw=2)\n",
    "plt.xlabel('Number of components')\n",
    "plt.ylabel('Total explained variance')\n",
    "plt.title('There are {} components'. format(find_comp(np.cumsum(pca.explained_variance_ratio_))))\n",
    "plt.xlim(0, 63)\n",
    "plt.yticks(np.arange(0, 1.1, 0.1))\n",
    "plt.axvline(find_comp(np.cumsum(pca.explained_variance_ratio_)), c='b')\n",
    "plt.axhline(0.9, c='r')\n",
    "plt.show();"
   ]
  },
  {
   "cell_type": "markdown",
   "metadata": {},
   "source": [
    "# Задание 2\n",
    "\n",
    "На занятии мы получили такие результаты модели. Попробуйте на той же разбивке данных получить скор второй модели или лучше. Например, можно добавить категориальные данные. "
   ]
  },
  {
   "cell_type": "code",
   "execution_count": 32,
   "metadata": {},
   "outputs": [
    {
     "data": {
      "text/html": [
       "<div>\n",
       "<style scoped>\n",
       "    .dataframe tbody tr th:only-of-type {\n",
       "        vertical-align: middle;\n",
       "    }\n",
       "\n",
       "    .dataframe tbody tr th {\n",
       "        vertical-align: top;\n",
       "    }\n",
       "\n",
       "    .dataframe thead th {\n",
       "        text-align: right;\n",
       "    }\n",
       "</style>\n",
       "<table border=\"1\" class=\"dataframe\">\n",
       "  <thead>\n",
       "    <tr style=\"text-align: right;\">\n",
       "      <th></th>\n",
       "      <th>mod1</th>\n",
       "      <th>mod2</th>\n",
       "    </tr>\n",
       "  </thead>\n",
       "  <tbody>\n",
       "    <tr>\n",
       "      <th>MAE</th>\n",
       "      <td>820.184</td>\n",
       "      <td>439.189</td>\n",
       "    </tr>\n",
       "    <tr>\n",
       "      <th>MSE</th>\n",
       "      <td>2262435.016</td>\n",
       "      <td>767708.260</td>\n",
       "    </tr>\n",
       "    <tr>\n",
       "      <th>RMSE</th>\n",
       "      <td>1504.139</td>\n",
       "      <td>876.190</td>\n",
       "    </tr>\n",
       "    <tr>\n",
       "      <th>R2_adj</th>\n",
       "      <td>0.855</td>\n",
       "      <td>0.951</td>\n",
       "    </tr>\n",
       "  </tbody>\n",
       "</table>\n",
       "</div>"
      ],
      "text/plain": [
       "               mod1        mod2\n",
       "MAE         820.184     439.189\n",
       "MSE     2262435.016  767708.260\n",
       "RMSE       1504.139     876.190\n",
       "R2_adj        0.855       0.951"
      ]
     },
     "execution_count": 32,
     "metadata": {},
     "output_type": "execute_result"
    }
   ],
   "source": []
  },
  {
   "cell_type": "markdown",
   "metadata": {},
   "source": [
    "# Дополнительные материалы:\n",
    "\n",
    "* [Рекомендую лекции Воронцова. Просто читайте по интересующим темам.](http://www.machinelearning.ru/wiki/index.php?title=%D0%9C%D0%B0%D1%88%D0%B8%D0%BD%D0%BD%D0%BE%D0%B5_%D0%BE%D0%B1%D1%83%D1%87%D0%B5%D0%BD%D0%B8%D0%B5_%28%D0%BA%D1%83%D1%80%D1%81_%D0%BB%D0%B5%D0%BA%D1%86%D0%B8%D0%B9%2C_%D0%9A.%D0%92.%D0%92%D0%BE%D1%80%D0%BE%D0%BD%D1%86%D0%BE%D0%B2%29)\n",
    "* [Пара слов про tsne (ближе к концу).](https://github.com/esokolov/ml-course-hse/blob/master/2017-fall/lecture-notes/lecture12-unsupervised.pdf)\n",
    "* [О PCA на примере.](https://habr.com/post/304214/)\n",
    "* [O PCA с другой стороны.](https://github.com/esokolov/ml-course-hse/blob/master/2017-fall/lecture-notes/lecture13-factorizations.pdf)\n",
    "* [ODS: Линейная регрессия.](https://habr.com/company/ods/blog/323890/)\n",
    "* [Линейная регрессия.](https://github.com/esokolov/ml-course-hse/blob/master/2017-fall/lecture-notes/lecture02-linregr.pdf)\n",
    "* [Прекрасная книга. Например, 3 глава по линейной регрессии, но рекомендую ее всю.](https://web.stanford.edu/~hastie/Papers/ESLII.pdf)\n",
    "* [ODS: Линейная регрессия в том числе.](https://habr.com/company/ods/blog/323890/)"
   ]
  },
  {
   "cell_type": "code",
   "execution_count": null,
   "metadata": {},
   "outputs": [],
   "source": []
  }
 ],
 "metadata": {
  "kernelspec": {
   "display_name": "Python 3",
   "language": "python",
   "name": "python3"
  },
  "language_info": {
   "codemirror_mode": {
    "name": "ipython",
    "version": 3
   },
   "file_extension": ".py",
   "mimetype": "text/x-python",
   "name": "python",
   "nbconvert_exporter": "python",
   "pygments_lexer": "ipython3",
   "version": "3.7.0"
  }
 },
 "nbformat": 4,
 "nbformat_minor": 2
}

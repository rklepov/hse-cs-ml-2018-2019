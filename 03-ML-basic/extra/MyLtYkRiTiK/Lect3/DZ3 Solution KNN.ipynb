{
 "cells": [
  {
   "cell_type": "markdown",
   "metadata": {},
   "source": [
    "# Задание 1\n",
    "\n",
    "Примените PCA к данным MNIST.\n",
    "\n",
    "Попробуйте со скалированием и без. Где надо меньше компонент при требовании 90% объясняемой дисперсии? (код визуализации ниже)\n",
    "\n",
    "Обучите knn классификатор на исходных данных и на выбранных компонентах PCA (со скалированием и без). Сравните тестовый скор по метрике accuracy."
   ]
  },
  {
   "cell_type": "code",
   "execution_count": null,
   "metadata": {},
   "outputs": [],
   "source": [
    "from sklearn import datasets \n",
    "import matplotlib.pyplot as plt\n",
    "from sklearn.decomposition import PCA\n",
    "import numpy as np\n",
    "import pandas as pd\n",
    "from sklearn.preprocessing import StandardScaler\n",
    "from sklearn.model_selection import KFold\n",
    "from sklearn.metrics import accuracy_score\n",
    "from sklearn.neighbors import KNeighborsClassifier\n",
    "\n",
    "\n",
    "%matplotlib inline"
   ]
  },
  {
   "cell_type": "code",
   "execution_count": null,
   "metadata": {},
   "outputs": [],
   "source": [
    "digits = datasets.load_digits()\n",
    "X, y = digits['data'], digits['target']"
   ]
  },
  {
   "cell_type": "code",
   "execution_count": null,
   "metadata": {},
   "outputs": [],
   "source": [
    "plt.figure(figsize=(16, 6))\n",
    "for i in range(10):\n",
    "    plt.subplot(2, 5, i + 1)\n",
    "    plt.imshow(X[i,:].reshape([8,8]));"
   ]
  },
  {
   "cell_type": "markdown",
   "metadata": {},
   "source": [
    "Сначала визуализируем без скалирования и с ним:"
   ]
  },
  {
   "cell_type": "code",
   "execution_count": null,
   "metadata": {},
   "outputs": [],
   "source": [
    "pca = PCA(n_components=2)\n",
    "\n",
    "#ваш код здесь\n",
    "X_reduced = pca.fit_transform(X)\n",
    "\n",
    "print('Projecting %d-dimensional data to 2D' % X.shape[1])\n",
    "\n",
    "plt.figure(figsize=(12,10))\n",
    "plt.scatter(X_reduced[:, 0], X_reduced[:, 1], c=y, \n",
    "            edgecolor='none', alpha=0.7, s=40,\n",
    "            cmap=plt.cm.get_cmap('nipy_spectral', 10))\n",
    "plt.colorbar()\n",
    "plt.title('MNIST. PCA projection')"
   ]
  },
  {
   "cell_type": "code",
   "execution_count": null,
   "metadata": {},
   "outputs": [],
   "source": [
    "# если стандартизировать\n",
    "df = digits['data']\n",
    "\n",
    "ss = StandardScaler()\n",
    "df = ss.fit_transform(df)\n",
    "\n",
    "pca = PCA(n_components=2)\n",
    "df_reduced = pca.fit_transform(df)\n",
    "\n",
    "print('Projecting %d-dimensional data to 2D' % df.shape[1])\n",
    "\n",
    "plt.figure(figsize=(12,10))\n",
    "plt.scatter(df_reduced[:, 0], df_reduced[:, 1], c=y, \n",
    "            edgecolor='none', alpha=0.7, s=40,\n",
    "            cmap=plt.cm.get_cmap('nipy_spectral', 10))\n",
    "plt.colorbar()\n",
    "plt.title('MNIST. PCA projection')"
   ]
  },
  {
   "cell_type": "markdown",
   "metadata": {},
   "source": [
    "### Пример визуализации выбора кол-ва компонент"
   ]
  },
  {
   "cell_type": "code",
   "execution_count": null,
   "metadata": {},
   "outputs": [],
   "source": [
    "# Без скалирования\n",
    "def find_comp(list_of_cumsum):\n",
    "    for i in range(len(list_of_cumsum)):\n",
    "        if list_of_cumsum[i] > 0.9:\n",
    "            return i\n",
    "        \n",
    "pca = PCA().fit(X) #ваши данные\n",
    "\n",
    "plt.figure(figsize=(10,7))\n",
    "plt.plot(np.cumsum(pca.explained_variance_ratio_), color='k', lw=2)\n",
    "plt.xlabel('Number of components')\n",
    "plt.ylabel('Total explained variance')\n",
    "plt.title('There are {} components'. format(find_comp(np.cumsum(pca.explained_variance_ratio_))))\n",
    "plt.xlim(0, 63)\n",
    "plt.yticks(np.arange(0, 1.1, 0.1))\n",
    "plt.axvline(find_comp(np.cumsum(pca.explained_variance_ratio_)), c='b')\n",
    "plt.axhline(0.9, c='r')\n",
    "plt.show();"
   ]
  },
  {
   "cell_type": "code",
   "execution_count": null,
   "metadata": {},
   "outputs": [],
   "source": [
    "# Со скалированием\n",
    "def find_comp(list_of_cumsum):\n",
    "    for i in range(len(list_of_cumsum)):\n",
    "        if list_of_cumsum[i] > 0.9:\n",
    "            return i\n",
    "        \n",
    "pca = PCA().fit(df) #ваши данные\n",
    "\n",
    "plt.figure(figsize=(10,7))\n",
    "plt.plot(np.cumsum(pca.explained_variance_ratio_), color='k', lw=2)\n",
    "plt.xlabel('Number of components')\n",
    "plt.ylabel('Total explained variance')\n",
    "plt.title('There are {} components'. format(find_comp(np.cumsum(pca.explained_variance_ratio_))))\n",
    "plt.xlim(0, 63)\n",
    "plt.yticks(np.arange(0, 1.1, 0.1))\n",
    "plt.axvline(find_comp(np.cumsum(pca.explained_variance_ratio_)), c='b')\n",
    "plt.axhline(0.9, c='r')\n",
    "plt.show();"
   ]
  },
  {
   "cell_type": "markdown",
   "metadata": {},
   "source": [
    "Посчитаем модели:"
   ]
  },
  {
   "cell_type": "code",
   "execution_count": null,
   "metadata": {},
   "outputs": [],
   "source": [
    "v_metric = []\n",
    "n=1\n",
    "\n",
    "for i in range(1, 15):\n",
    "    kf = KFold(n_splits=10, shuffle=True, random_state=777)   \n",
    "    for tr_ind, val_ind in kf.split(X):\n",
    "#         print('Start {} fold'.format(n))\n",
    "\n",
    "        val = X[val_ind]\n",
    "        ttt = X[tr_ind] \n",
    "\n",
    "        clf = KNeighborsClassifier(n_neighbors=i)\n",
    "\n",
    "        clf.fit(ttt, y[tr_ind]) \n",
    "\n",
    "        model_pred_valid = clf.predict(val)\n",
    "\n",
    "        y_valid = y[val_ind]\n",
    "        valid_metric = accuracy_score(y_valid, model_pred_valid)\n",
    "        v_metric.append(valid_metric)\n",
    "\n",
    "        n+=1\n",
    "\n",
    "    print('n_neighbors', i, 'crossval score:', np.mean(v_metric), 'std', np.std(v_metric))\n",
    "    print('---------------------------------------')"
   ]
  },
  {
   "cell_type": "code",
   "execution_count": null,
   "metadata": {},
   "outputs": [],
   "source": [
    "pca = PCA(n_components=20).fit_transform(X)\n",
    "\n",
    "v_metric = []\n",
    "n=1\n",
    "\n",
    "for i in range(1, 15):\n",
    "    kf = KFold(n_splits=10, shuffle=True, random_state=777)   \n",
    "    for tr_ind, val_ind in kf.split(pca):\n",
    "#         print('Start {} fold'.format(n))\n",
    "\n",
    "        val = X[val_ind]\n",
    "        ttt = X[tr_ind] \n",
    "\n",
    "        clf = KNeighborsClassifier(n_neighbors=i)\n",
    "\n",
    "        clf.fit(ttt, y[tr_ind]) \n",
    "\n",
    "        model_pred_valid = clf.predict(val)\n",
    "\n",
    "        y_valid = y[val_ind]\n",
    "        valid_metric = accuracy_score(y_valid, model_pred_valid)\n",
    "        v_metric.append(valid_metric)\n",
    "\n",
    "        n+=1\n",
    "\n",
    "    print('n_neighbors', i, 'crossval score:', np.mean(v_metric), 'std', np.std(v_metric))\n",
    "    print('---------------------------------------')"
   ]
  },
  {
   "cell_type": "code",
   "execution_count": null,
   "metadata": {},
   "outputs": [],
   "source": [
    "pca = PCA(n_components=30).fit_transform(df)\n",
    "\n",
    "v_metric = []\n",
    "n=1\n",
    "\n",
    "for i in range(1, 15):\n",
    "    kf = KFold(n_splits=10, shuffle=True, random_state=777)   \n",
    "    for tr_ind, val_ind in kf.split(pca):\n",
    "#         print('Start {} fold'.format(n))\n",
    "\n",
    "        val = X[val_ind]\n",
    "        ttt = X[tr_ind] \n",
    "\n",
    "        clf = KNeighborsClassifier(n_neighbors=i)\n",
    "\n",
    "        clf.fit(ttt, y[tr_ind]) \n",
    "\n",
    "        model_pred_valid = clf.predict(val)\n",
    "\n",
    "        y_valid = y[val_ind]\n",
    "        valid_metric = accuracy_score(y_valid, model_pred_valid)\n",
    "        v_metric.append(valid_metric)\n",
    "\n",
    "        n+=1\n",
    "\n",
    "    print('n_neighbors', i, 'crossval score:', np.mean(v_metric), 'std', np.std(v_metric))\n",
    "    print('---------------------------------------')"
   ]
  },
  {
   "cell_type": "markdown",
   "metadata": {},
   "source": [
    "У нас такие данные, что результаты работы моделей получились идентичные."
   ]
  }
 ],
 "metadata": {
  "kernelspec": {
   "display_name": "Python 3",
   "language": "python",
   "name": "python3"
  },
  "language_info": {
   "codemirror_mode": {
    "name": "ipython",
    "version": 3
   },
   "file_extension": ".py",
   "mimetype": "text/x-python",
   "name": "python",
   "nbconvert_exporter": "python",
   "pygments_lexer": "ipython3",
   "version": "3.7.0"
  }
 },
 "nbformat": 4,
 "nbformat_minor": 2
}

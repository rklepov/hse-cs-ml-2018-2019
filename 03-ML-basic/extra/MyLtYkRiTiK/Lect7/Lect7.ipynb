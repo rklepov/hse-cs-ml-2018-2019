{
 "cells": [
  {
   "cell_type": "code",
   "execution_count": null,
   "metadata": {},
   "outputs": [],
   "source": [
    "import numpy as np\n",
    "import pandas as pd\n",
    "import random\n",
    "import math\n",
    "import sklearn.datasets as ds\n",
    "import matplotlib.pyplot as plt\n",
    "import seaborn as sns\n",
    "from sklearn.preprocessing import StandardScaler, MinMaxScaler\n",
    "\n",
    "%matplotlib inline"
   ]
  },
  {
   "cell_type": "code",
   "execution_count": null,
   "metadata": {},
   "outputs": [],
   "source": [
    "X = pd.read_csv('../data/diamonds.csv', index_col=0)"
   ]
  },
  {
   "cell_type": "code",
   "execution_count": null,
   "metadata": {},
   "outputs": [],
   "source": [
    "X.shape"
   ]
  },
  {
   "cell_type": "code",
   "execution_count": null,
   "metadata": {},
   "outputs": [],
   "source": [
    "X.head()"
   ]
  },
  {
   "cell_type": "code",
   "execution_count": null,
   "metadata": {},
   "outputs": [],
   "source": [
    "X['cut'].value_counts()"
   ]
  },
  {
   "cell_type": "code",
   "execution_count": null,
   "metadata": {},
   "outputs": [],
   "source": [
    "X['cut'] = X['cut'].map({'Fair':0, 'Good':1, 'Ideal':3, 'Premium':4, 'Very Good':2})\n",
    "X = X[X['cut']<2].reset_index(drop=True)\n",
    "y = X['cut']\n",
    "X = X._get_numeric_data().dropna(axis=1).drop('cut', axis=1)"
   ]
  },
  {
   "cell_type": "code",
   "execution_count": null,
   "metadata": {},
   "outputs": [],
   "source": [
    "ms = MinMaxScaler()\n",
    "ms.fit(X.astype(float))\n",
    "X_ms = ms.transform(X.astype(float))"
   ]
  },
  {
   "cell_type": "code",
   "execution_count": null,
   "metadata": {
    "scrolled": true
   },
   "outputs": [],
   "source": [
    "from sklearn.manifold import TSNE\n",
    "tsne = TSNE(random_state=17, verbose=1)\n",
    "\n",
    "res = tsne.fit_transform(X_ms)"
   ]
  },
  {
   "cell_type": "code",
   "execution_count": null,
   "metadata": {},
   "outputs": [],
   "source": [
    "plt.figure(figsize=(12,8))\n",
    "plt.scatter(res[:,0], res[:,1], c=y, s=10, cmap='Set1')\n",
    "plt.title('TSNE')"
   ]
  },
  {
   "cell_type": "code",
   "execution_count": null,
   "metadata": {},
   "outputs": [],
   "source": [
    "sns.pairplot(pd.DataFrame(X))"
   ]
  },
  {
   "cell_type": "markdown",
   "metadata": {},
   "source": [
    "## Статистические тесты"
   ]
  },
  {
   "cell_type": "code",
   "execution_count": null,
   "metadata": {},
   "outputs": [],
   "source": [
    "def mad_based_outlier(data, thresh=3.5):\n",
    "    if len(data.shape) == 1:\n",
    "        data = data[:,None]\n",
    "    median = np.median(data, axis=0)\n",
    "    diff = np.sum((data - median)**2, axis=-1)\n",
    "    diff = np.sqrt(diff)\n",
    "    med_abs_deviation = np.median(diff)\n",
    "\n",
    "    modified_z_score = 0.6745 * diff / med_abs_deviation\n",
    "\n",
    "    return modified_z_score > thresh\n",
    "\n",
    "def percentile_based_outlier(data, threshold=99):\n",
    "    diff = (100 - threshold) / 2.0\n",
    "    minval, maxval = np.percentile(data, [diff, 100 - diff])\n",
    "    return (data < minval) | (data > maxval)\n",
    "\n",
    "def z_score_outlier(data, threshold=3):\n",
    "    data = (data - data.mean()) / data.std() \n",
    "    return (data < -threshold) | (data > threshold)\n",
    "    \n",
    "def plot(x):\n",
    "    fig, axes = plt.subplots(nrows=3, figsize=(10, 10))\n",
    "    for ax, func in zip(axes, [percentile_based_outlier, mad_based_outlier, z_score_outlier]):\n",
    "        sns.distplot(x, ax=ax, rug=True, hist=False)\n",
    "        outliers = x[func(x)]\n",
    "        ax.plot(outliers, np.zeros_like(outliers), 'ro', clip_on=False)\n",
    "\n",
    "    kwargs = dict(y=0.95, x=0.05, ha='left', va='top')\n",
    "    axes[0].set_title('Percentile-based Outliers', **kwargs)\n",
    "    axes[1].set_title('MAD-based Outliers', **kwargs)\n",
    "    axes[2].set_title('Z_score-based Outliers', **kwargs)\n",
    "    fig.suptitle('Comparing Outlier Tests with n={}'.format(len(x)), size=14)\n",
    "\n",
    "np.random.seed(42)\n",
    "for num in [10, 50, 100, 1000, 7000]:\n",
    "        # Создадим данные\n",
    "        x = np.random.normal(0, 0.5, num-3)\n",
    "\n",
    "        # Добавим аутлайеров\n",
    "        x = np.r_[x, -3, -10, 12]\n",
    "        plot(x)\n",
    "\n",
    "plt.show()"
   ]
  },
  {
   "cell_type": "code",
   "execution_count": null,
   "metadata": {},
   "outputs": [],
   "source": [
    "ss = StandardScaler()\n",
    "ss.fit(X.astype(float))\n",
    "X_transform = ss.transform(X.astype(float))"
   ]
  },
  {
   "cell_type": "code",
   "execution_count": null,
   "metadata": {},
   "outputs": [],
   "source": [
    "outlier_indices = (X_transform < -3).astype(int).sum(axis=1) + \\\n",
    "(X_transform > 3).astype(int).sum(axis=1) > 0 \n",
    "y_pred = outlier_indices.astype(int)"
   ]
  },
  {
   "cell_type": "code",
   "execution_count": null,
   "metadata": {},
   "outputs": [],
   "source": [
    "plt.figure(figsize=(12,8))\n",
    "plt.scatter(res[:,0], res[:,1], c=y_pred, s=10, cmap='Set1')\n",
    "plt.title('TSNE')"
   ]
  },
  {
   "cell_type": "code",
   "execution_count": null,
   "metadata": {},
   "outputs": [],
   "source": [
    "X_transform = X.copy()\n",
    "X_transform['y_pred'] = y_pred\n",
    "X_transform = X_transform[X_transform['y_pred']<1].reset_index(drop=True).drop('y_pred', axis=1)\n",
    "\n",
    "X.shape, X_transform.shape"
   ]
  },
  {
   "cell_type": "code",
   "execution_count": null,
   "metadata": {},
   "outputs": [],
   "source": [
    "sns.pairplot(pd.DataFrame(X_transform))"
   ]
  },
  {
   "cell_type": "code",
   "execution_count": null,
   "metadata": {},
   "outputs": [],
   "source": [
    "X_transform = X.copy()\n",
    "for col in X_transform:\n",
    "    diff = (100 - 99) / 2.0\n",
    "    minval, maxval = np.percentile(X_transform[col], [diff, 100 - diff])\n",
    "    threshold = (maxval-minval)/2\n",
    "    print(threshold)\n",
    "    X_transform[col] = mad_based_outlier(X_transform[col], thresh=threshold).astype(int)"
   ]
  },
  {
   "cell_type": "code",
   "execution_count": null,
   "metadata": {},
   "outputs": [],
   "source": [
    "outlier_indices = (X_transform).sum(axis=1) > 0 \n",
    "y_pred = outlier_indices.astype(int)"
   ]
  },
  {
   "cell_type": "code",
   "execution_count": null,
   "metadata": {},
   "outputs": [],
   "source": [
    "plt.figure(figsize=(12,8))\n",
    "plt.scatter(res[:,0], res[:,1], c=y_pred, s=10, cmap='Set1')\n",
    "plt.title('TSNE')"
   ]
  },
  {
   "cell_type": "code",
   "execution_count": null,
   "metadata": {},
   "outputs": [],
   "source": [
    "X_transform = X.copy()\n",
    "X_transform['y_pred'] = y_pred\n",
    "X_transform = X_transform[X_transform['y_pred']<1].reset_index(drop=True).drop('y_pred', axis=1)\n",
    "\n",
    "X.shape, X_transform.shape"
   ]
  },
  {
   "cell_type": "code",
   "execution_count": null,
   "metadata": {},
   "outputs": [],
   "source": [
    "sns.pairplot(pd.DataFrame(X_transform))"
   ]
  },
  {
   "cell_type": "code",
   "execution_count": null,
   "metadata": {},
   "outputs": [],
   "source": [
    "X_transform = X.copy()\n",
    "for col in X_transform:\n",
    "    sns.distplot(X_transform[col], hist=True)\n",
    "    plt.show()"
   ]
  },
  {
   "cell_type": "markdown",
   "metadata": {},
   "source": [
    "# Local One Factor\n",
    "\n",
    "![](https://upload.wikimedia.org/wikipedia/commons/5/59/LOF.svg)"
   ]
  },
  {
   "cell_type": "code",
   "execution_count": null,
   "metadata": {},
   "outputs": [],
   "source": [
    "from sklearn.neighbors import LocalOutlierFactor\n",
    "\n",
    "ss = StandardScaler()\n",
    "ss.fit(X.astype(float))\n",
    "X_transform = ss.transform(X.astype(float))\n",
    "\n",
    "clf = LocalOutlierFactor(n_neighbors=5, contamination='auto')\n",
    "y_pred = clf.fit_predict(X_transform) \n",
    "set(y_pred)"
   ]
  },
  {
   "cell_type": "code",
   "execution_count": null,
   "metadata": {},
   "outputs": [],
   "source": [
    "plt.figure(figsize=(12,8))\n",
    "plt.scatter(res[:,0], res[:,1], c=y_pred, s=10, cmap='Set1')\n",
    "plt.title('TSNE')"
   ]
  },
  {
   "cell_type": "code",
   "execution_count": null,
   "metadata": {},
   "outputs": [],
   "source": [
    "X_transform = X.copy()\n",
    "X_transform['y_pred'] = y_pred\n",
    "X_transform = X_transform[X_transform['y_pred']>0].reset_index(drop=True).drop('y_pred', axis=1)\n",
    "\n",
    "X.shape, X_transform.shape"
   ]
  },
  {
   "cell_type": "code",
   "execution_count": null,
   "metadata": {},
   "outputs": [],
   "source": [
    "sns.pairplot(pd.DataFrame(X_transform))"
   ]
  },
  {
   "cell_type": "markdown",
   "metadata": {},
   "source": [
    "## OneClassSVM\n",
    "\n",
    "![](https://scikit-learn.org/stable/_images/sphx_glr_plot_anomaly_comparison_001.png)"
   ]
  },
  {
   "cell_type": "code",
   "execution_count": null,
   "metadata": {},
   "outputs": [],
   "source": [
    "from sklearn.svm import OneClassSVM\n",
    "\n",
    "ss = StandardScaler()\n",
    "ss.fit(X.astype(float))\n",
    "X_transform = ss.transform(X.astype(float))\n",
    "\n",
    "clf = OneClassSVM(kernel='linear', nu=0.97) #'linear', 'poly', 'rbf', 'sigmoid', 'precomputed'\n",
    "y_pred = clf.fit_predict(X_transform) \n",
    "set(y_pred)"
   ]
  },
  {
   "cell_type": "code",
   "execution_count": null,
   "metadata": {},
   "outputs": [],
   "source": [
    "plt.figure(figsize=(12,8))\n",
    "plt.scatter(res[:,0], res[:,1], c=y_pred, s=10, cmap='Set1')\n",
    "plt.title('TSNE')"
   ]
  },
  {
   "cell_type": "code",
   "execution_count": null,
   "metadata": {},
   "outputs": [],
   "source": [
    "X_transform = X.copy()\n",
    "X_transform['y_pred'] = y_pred\n",
    "X_transform = X_transform[X_transform['y_pred']<0].reset_index(drop=True).drop('y_pred', axis=1)\n",
    "\n",
    "X.shape, X_transform.shape"
   ]
  },
  {
   "cell_type": "code",
   "execution_count": null,
   "metadata": {},
   "outputs": [],
   "source": [
    "sns.pairplot(pd.DataFrame(X_transform))"
   ]
  },
  {
   "cell_type": "markdown",
   "metadata": {},
   "source": [
    "## IsolationForest"
   ]
  },
  {
   "cell_type": "code",
   "execution_count": null,
   "metadata": {},
   "outputs": [],
   "source": [
    "from sklearn.ensemble import IsolationForest\n",
    "\n",
    "clf = IsolationForest(contamination='auto', behaviour='new', \n",
    "                      random_state=42, bootstrap=False, max_features=0.6, \n",
    "                      n_jobs=-1, n_estimators=1000)\n",
    "y_pred = clf.fit_predict(X) \n",
    "set(y_pred)"
   ]
  },
  {
   "cell_type": "code",
   "execution_count": null,
   "metadata": {},
   "outputs": [],
   "source": [
    "plt.figure(figsize=(12,8))\n",
    "plt.scatter(res[:,0], res[:,1], c=y_pred, s=10, cmap='Set1')\n",
    "plt.title('TSNE')"
   ]
  },
  {
   "cell_type": "code",
   "execution_count": null,
   "metadata": {},
   "outputs": [],
   "source": [
    "X_transform = X.copy()\n",
    "X_transform['y_pred'] = y_pred\n",
    "X_transform = X_transform[X_transform['y_pred']>0].reset_index(drop=True).drop('y_pred', axis=1)\n",
    "\n",
    "X.shape, X_transform.shape"
   ]
  },
  {
   "cell_type": "code",
   "execution_count": null,
   "metadata": {},
   "outputs": [],
   "source": [
    "sns.pairplot(pd.DataFrame(X_transform))"
   ]
  },
  {
   "cell_type": "markdown",
   "metadata": {},
   "source": [
    "## EllipticEnvelope"
   ]
  },
  {
   "cell_type": "code",
   "execution_count": null,
   "metadata": {},
   "outputs": [],
   "source": [
    "from sklearn.covariance import EllipticEnvelope\n",
    "\n",
    "ss = StandardScaler()\n",
    "ss.fit(X.astype(float))\n",
    "X_transform = ss.transform(X.astype(float))\n",
    "\n",
    "clf = EllipticEnvelope(random_state=42, contamination=0.05) \n",
    "y_pred = clf.fit_predict(X_transform) \n",
    "set(y_pred)"
   ]
  },
  {
   "cell_type": "code",
   "execution_count": null,
   "metadata": {},
   "outputs": [],
   "source": [
    "plt.figure(figsize=(12,8))\n",
    "plt.scatter(res[:,0], res[:,1], c=y_pred, s=10, cmap='Set1')\n",
    "plt.title('TSNE')"
   ]
  },
  {
   "cell_type": "code",
   "execution_count": null,
   "metadata": {},
   "outputs": [],
   "source": [
    "X_transform = X.copy()\n",
    "X_transform['y_pred'] = y_pred\n",
    "X_transform = X_transform[X_transform['y_pred']>0].reset_index(drop=True).drop('y_pred', axis=1)\n",
    "\n",
    "X.shape, X_transform.shape"
   ]
  },
  {
   "cell_type": "code",
   "execution_count": null,
   "metadata": {},
   "outputs": [],
   "source": [
    "sns.pairplot(pd.DataFrame(X_transform))"
   ]
  },
  {
   "cell_type": "markdown",
   "metadata": {},
   "source": [
    "# В качестве классификатора"
   ]
  },
  {
   "cell_type": "code",
   "execution_count": null,
   "metadata": {},
   "outputs": [],
   "source": [
    "from sklearn.model_selection import train_test_split\n",
    "from sklearn.metrics import accuracy_score\n",
    "res_train, res_test, X_train, X_test, y_train, y_test = train_test_split(res, X, y, test_size=0.3)"
   ]
  },
  {
   "cell_type": "code",
   "execution_count": null,
   "metadata": {},
   "outputs": [],
   "source": [
    "set(y_train)"
   ]
  },
  {
   "cell_type": "code",
   "execution_count": null,
   "metadata": {},
   "outputs": [],
   "source": [
    "ss = StandardScaler()\n",
    "ss.fit(X_train.astype(float))\n",
    "X_train = ss.transform(X_train.astype(float))\n",
    "X_test = ss.transform(X_test.astype(float))"
   ]
  },
  {
   "cell_type": "code",
   "execution_count": null,
   "metadata": {},
   "outputs": [],
   "source": [
    "clf = EllipticEnvelope(random_state=42)\n",
    "clf.fit(X_train[y_train == 0]) \n",
    "y_pred = clf.predict(X_test) \n",
    "\n",
    "accuracy_score(y_test, y_pred)\n"
   ]
  },
  {
   "cell_type": "code",
   "execution_count": null,
   "metadata": {},
   "outputs": [],
   "source": [
    "plt.figure(figsize=(12,8))\n",
    "plt.scatter(res_test[:,0], res_test[:,1], c=y_pred, s=10, cmap='Set1')\n",
    "plt.title('TSNE')"
   ]
  },
  {
   "cell_type": "code",
   "execution_count": null,
   "metadata": {},
   "outputs": [],
   "source": []
  }
 ],
 "metadata": {
  "kernelspec": {
   "display_name": "Python 3",
   "language": "python",
   "name": "python3"
  },
  "language_info": {
   "codemirror_mode": {
    "name": "ipython",
    "version": 3
   },
   "file_extension": ".py",
   "mimetype": "text/x-python",
   "name": "python",
   "nbconvert_exporter": "python",
   "pygments_lexer": "ipython3",
   "version": "3.7.0"
  }
 },
 "nbformat": 4,
 "nbformat_minor": 2
}

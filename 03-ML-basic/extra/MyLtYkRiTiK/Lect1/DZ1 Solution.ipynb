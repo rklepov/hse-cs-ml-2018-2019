{
 "cells": [
  {
   "cell_type": "code",
   "execution_count": null,
   "metadata": {},
   "outputs": [],
   "source": [
    "import seaborn as sns \n",
    "from sklearn.metrics import accuracy_score\n",
    "from sklearn.neighbors import KNeighborsClassifier\n",
    "from sklearn.model_selection import train_test_split, cross_val_score\n",
    "from sklearn.preprocessing import MinMaxScaler, LabelEncoder\n",
    "\n",
    "\n",
    "df = sns.load_dataset(\"iris\")"
   ]
  },
  {
   "cell_type": "code",
   "execution_count": null,
   "metadata": {},
   "outputs": [],
   "source": [
    "X = df.drop('species', axis=1)\n",
    "y = df['species'] "
   ]
  },
  {
   "cell_type": "code",
   "execution_count": null,
   "metadata": {},
   "outputs": [],
   "source": [
    "X_train, X_test, y_train, y_test = train_test_split(X, y, \n",
    "                                                    test_size=0.2, random_state=777) "
   ]
  },
  {
   "cell_type": "markdown",
   "metadata": {},
   "source": [
    "## Задание 1\n",
    "Среди заданного набора параметров для метода ближайших соседей найдите такие параметры, при которых качество алгоритма (accuracy) оказывается наилучшим"
   ]
  },
  {
   "cell_type": "code",
   "execution_count": null,
   "metadata": {},
   "outputs": [],
   "source": [
    "def square_distance(x):\n",
    "    return 1/x*2\n",
    "\n",
    "params_grid = {\n",
    "    'n_neighbors': range(1,100,2), # Перебираем от 1 до 100 с шагом 2\n",
    "    'weights': ['uniform', 'distance', square_distance], # с каким весом берём каждого соседа. uniform - с одинаковым, distance - обратно пропорционально расстоянию. Ещё можно передать свою функцию\n",
    "    'algorithm': ['auto'], # алгоритм поиска ближайших соседей. Влияет только на скорость обучения\n",
    "    'leaf_size': [30], # параметры некоторых алгоритмов поиска ближ соседей. Влияет только на скорость обучения\n",
    "    'metric': ['minkowski'], # метрика расстояния, используемая в алгоритме поиска ближайших соседей\n",
    "    'p': [2] # параметр метрики, используемой в методе ближайших соседей \n",
    "}        "
   ]
  },
  {
   "cell_type": "code",
   "execution_count": null,
   "metadata": {},
   "outputs": [],
   "source": [
    "best_params = {}\n",
    "best_acc = 0\n",
    "\n",
    "for n_neighbours in params_grid['n_neighbors']:\n",
    "    for weights in params_grid['weights']:\n",
    "        for alg in params_grid['algorithm']:\n",
    "            for leaf_size in params_grid['leaf_size']:\n",
    "                for metric in params_grid['metric']:\n",
    "                    for p in params_grid['p']:\n",
    "                        params = {'n_neighbors': n_neighbours,\n",
    "                                  'weights': weights,\n",
    "                                  'algorithm': alg,\n",
    "                                  'leaf_size': leaf_size,\n",
    "                                  'metric': metric,\n",
    "                                  'p': p }\n",
    "                        clf = KNeighborsClassifier(**params)\n",
    "                        clf.fit(X_train, y_train)\n",
    "                        y_pred = clf.predict(X_test)\n",
    "                        acc = accuracy_score(y_test, y_pred)\n",
    "                        if acc > best_acc:\n",
    "                            best_acc = acc\n",
    "                            best_params = params\n",
    "\n",
    "print('Best accuracy: %f' % best_acc)\n",
    "print(best_params)"
   ]
  },
  {
   "cell_type": "markdown",
   "metadata": {},
   "source": [
    "## Задание 2\n",
    "\n",
    "Предсказание выживших титаника. Загрузите файл и по выбранным вами числовым признакам постройте наилучшую модель ближайших соседей для предсказания колонки *Survived*"
   ]
  },
  {
   "cell_type": "code",
   "execution_count": null,
   "metadata": {},
   "outputs": [],
   "source": [
    "import pandas as pd \n",
    "data = pd.read_csv('../data/Titanic.csv')\n",
    "data.head()"
   ]
  },
  {
   "cell_type": "code",
   "execution_count": null,
   "metadata": {},
   "outputs": [],
   "source": [
    "data.shape"
   ]
  },
  {
   "cell_type": "code",
   "execution_count": null,
   "metadata": {},
   "outputs": [],
   "source": [
    "print('All objects', data.shape[0])\n",
    "for col in data.columns:\n",
    "    print('{:11} {:3}'.format(col, data[col].nunique()))"
   ]
  },
  {
   "cell_type": "code",
   "execution_count": null,
   "metadata": {},
   "outputs": [],
   "source": [
    "data.drop(['PassengerId', 'Name', 'Ticket'], axis=1, inplace=True)"
   ]
  },
  {
   "cell_type": "code",
   "execution_count": null,
   "metadata": {},
   "outputs": [],
   "source": [
    "data.info()"
   ]
  },
  {
   "cell_type": "code",
   "execution_count": null,
   "metadata": {},
   "outputs": [],
   "source": [
    "cat_cols = [col for col in data.columns if data[col].dtype == 'object']"
   ]
  },
  {
   "cell_type": "code",
   "execution_count": null,
   "metadata": {},
   "outputs": [],
   "source": [
    "data[cat_cols] = data[cat_cols].fillna('NoneType')"
   ]
  },
  {
   "cell_type": "code",
   "execution_count": null,
   "metadata": {},
   "outputs": [],
   "source": [
    "for col in cat_cols:\n",
    "    le = LabelEncoder()\n",
    "    le.fit(data[col])\n",
    "    data[col] = le.transform(data[col])"
   ]
  },
  {
   "cell_type": "code",
   "execution_count": null,
   "metadata": {},
   "outputs": [],
   "source": [
    "X, y = data.drop('Survived', axis=1), data['Survived']\n",
    "\n",
    "X_train, X_test, y_train, y_test = train_test_split(X, y, \n",
    "                                    test_size=0.2, random_state=777) "
   ]
  },
  {
   "cell_type": "code",
   "execution_count": null,
   "metadata": {},
   "outputs": [],
   "source": [
    "X_train.reset_index(drop=True, inplace=True)\n",
    "X_test.reset_index(drop=True, inplace=True)\n",
    "y_train.reset_index(drop=True, inplace=True)\n",
    "y_test.reset_index(drop=True, inplace=True)"
   ]
  },
  {
   "cell_type": "code",
   "execution_count": null,
   "metadata": {},
   "outputs": [],
   "source": [
    "X_train = X_train.fillna(X_train.mean()).astype(float)\n",
    "X_test = X_test.fillna(X_test.mean()).astype(float)"
   ]
  },
  {
   "cell_type": "code",
   "execution_count": null,
   "metadata": {},
   "outputs": [],
   "source": [
    "ms = MinMaxScaler()\n",
    "ms.fit(X_train)\n",
    "X_train = pd.DataFrame(ms.transform(X_train), columns=X_train.columns)\n",
    "X_test = pd.DataFrame(ms.transform(X_test), columns=X_test.columns)\n",
    "#Здесь не обязательно пересоздавать датафрейм, но пока данные маленькие - так нагляднее."
   ]
  },
  {
   "cell_type": "code",
   "execution_count": null,
   "metadata": {},
   "outputs": [],
   "source": [
    "X_train.head()"
   ]
  },
  {
   "cell_type": "code",
   "execution_count": null,
   "metadata": {},
   "outputs": [],
   "source": [
    "# features_list = в трейн сете остались только нужные колонки"
   ]
  },
  {
   "cell_type": "markdown",
   "metadata": {},
   "source": [
    "Добейтесь наилучшего качества (accuracy) на тестовой выборке"
   ]
  },
  {
   "cell_type": "code",
   "execution_count": null,
   "metadata": {},
   "outputs": [],
   "source": [
    "params_grid = {\n",
    "    'n_neighbors': range(1,100,2), # Перебираем от 1 до 100 с шагом 2\n",
    "    'weights': ['uniform', 'distance'], # с каким весом берём каждого соседа. uniform - с одинаковым, distance - обратно пропорционально расстоянию. Ещё можно передать свою функцию\n",
    "    'algorithm': ['auto'], # алгоритм поиска ближайших соседей. Влияет только на скорость обучения\n",
    "    'leaf_size': [30], # параметры некоторых алгоритмов поиска ближ соседей. Влияет только на скорость обучения\n",
    "    'metric': ['minkowski'], # метрика расстояния, используемая в алгоритме поиска ближайших соседей\n",
    "    'p': [2] # параметр метрики, используемой в методе ближайших соседей \n",
    "}   "
   ]
  },
  {
   "cell_type": "code",
   "execution_count": null,
   "metadata": {},
   "outputs": [],
   "source": [
    "best_params = {}\n",
    "best_acc = 0\n",
    "\n",
    "for n_neighbours in params_grid['n_neighbors']:\n",
    "    for weights in params_grid['weights']:\n",
    "        for alg in params_grid['algorithm']:\n",
    "            for leaf_size in params_grid['leaf_size']:\n",
    "                for metric in params_grid['metric']:\n",
    "                    for p in params_grid['p']:\n",
    "                        params = {'n_neighbors': n_neighbours,\n",
    "                                  'weights': weights,\n",
    "                                  'algorithm': alg,\n",
    "                                  'leaf_size': leaf_size,\n",
    "                                  'metric': metric,\n",
    "                                  'p': p }\n",
    "                        clf = KNeighborsClassifier(**params)\n",
    "                        clf.fit(X_train, y_train)\n",
    "                        y_pred = clf.predict(X_test)\n",
    "                        acc = accuracy_score(y_test, y_pred)\n",
    "                        if acc > best_acc:\n",
    "                            best_acc = acc\n",
    "                            best_params = params\n",
    "\n",
    "print('Best accuracy: %f' % best_acc)\n",
    "print(best_params)"
   ]
  }
 ],
 "metadata": {
  "kernelspec": {
   "display_name": "Python 3",
   "language": "python",
   "name": "python3"
  },
  "language_info": {
   "codemirror_mode": {
    "name": "ipython",
    "version": 3
   },
   "file_extension": ".py",
   "mimetype": "text/x-python",
   "name": "python",
   "nbconvert_exporter": "python",
   "pygments_lexer": "ipython3",
   "version": "3.7.0"
  }
 },
 "nbformat": 4,
 "nbformat_minor": 2
}

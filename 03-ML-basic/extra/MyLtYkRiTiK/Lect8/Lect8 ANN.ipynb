{
 "cells": [
  {
   "cell_type": "markdown",
   "metadata": {
    "colab_type": "text",
    "id": "aj2IeVMKme1q"
   },
   "source": [
    "# Neural Networks\n",
    "\n",
    "![neuron](https://cdn-images-1.medium.com/max/1600/1*eBMwpBBboAXgqsawwOKkPw.png)"
   ]
  },
  {
   "cell_type": "code",
   "execution_count": 0,
   "metadata": {
    "colab": {},
    "colab_type": "code",
    "id": "ThJyE7suA3Ny"
   },
   "outputs": [],
   "source": [
    "import tensorflow as tf\n",
    "device_name = tf.test.gpu_device_name()\n",
    "if device_name != '/device:GPU:0':\n",
    "  raise SystemError('GPU device not found')\n",
    "print('Found GPU at: {}'.format(device_name))"
   ]
  },
  {
   "cell_type": "code",
   "execution_count": 0,
   "metadata": {
    "colab": {},
    "colab_type": "code",
    "id": "txxmH7ivA0ta"
   },
   "outputs": [],
   "source": [
    "import keras"
   ]
  },
  {
   "cell_type": "code",
   "execution_count": 0,
   "metadata": {
    "colab": {},
    "colab_type": "code",
    "id": "mCbVZinuA5XW"
   },
   "outputs": [],
   "source": [
    "import pandas as pd\n",
    "import numpy as np\n",
    "import matplotlib.pyplot as plt\n",
    "import seaborn as sns\n",
    "%matplotlib inline"
   ]
  },
  {
   "cell_type": "code",
   "execution_count": 0,
   "metadata": {
    "colab": {},
    "colab_type": "code",
    "id": "q-YpWsgheIjq"
   },
   "outputs": [],
   "source": [
    "from google.colab import drive\n",
    "drive.mount('/content/gdrive')"
   ]
  },
  {
   "cell_type": "code",
   "execution_count": 0,
   "metadata": {
    "colab": {},
    "colab_type": "code",
    "id": "rWBqZZU4ha-C"
   },
   "outputs": [],
   "source": [
    "data = pd.read_csv('/content/gdrive/My Drive/Colab Notebooks/data/Pokemon.csv', index_col=0) #пропишите путь до файла"
   ]
  },
  {
   "cell_type": "code",
   "execution_count": 0,
   "metadata": {
    "colab": {},
    "colab_type": "code",
    "id": "CvGyg2kPfKfw"
   },
   "outputs": [],
   "source": [
    "data = data._get_numeric_data().dropna(axis=1)"
   ]
  },
  {
   "cell_type": "code",
   "execution_count": 0,
   "metadata": {
    "colab": {},
    "colab_type": "code",
    "id": "ZLHC1v23XVGk"
   },
   "outputs": [],
   "source": [
    "data.head()"
   ]
  },
  {
   "cell_type": "code",
   "execution_count": 0,
   "metadata": {
    "colab": {},
    "colab_type": "code",
    "id": "ppb3TV6zelU2"
   },
   "outputs": [],
   "source": [
    "from sklearn.model_selection import train_test_split\n",
    "\n",
    "X_train, X_test, y_train, y_test = train_test_split(data.drop('Legendary', axis=1), \n",
    "                                                    data['Legendary'], test_size=0.3, \n",
    "                                                    random_state=42)"
   ]
  },
  {
   "cell_type": "code",
   "execution_count": 0,
   "metadata": {
    "colab": {},
    "colab_type": "code",
    "id": "4UbRWWJTfC8l"
   },
   "outputs": [],
   "source": [
    "X_train.shape"
   ]
  },
  {
   "cell_type": "code",
   "execution_count": 0,
   "metadata": {
    "colab": {},
    "colab_type": "code",
    "id": "0ZABHRyzdSvj"
   },
   "outputs": [],
   "source": [
    "from sklearn.preprocessing import StandardScaler\n",
    "sc = StandardScaler()\n",
    "sc.fit(X_train)\n",
    "X_train = sc.transform(X_train)\n",
    "X_test = sc.transform(X_test)\n",
    "\n",
    "import keras\n",
    "from keras.models import Sequential\n",
    "from keras.layers import Dense\n",
    "\n",
    "# Инициализируем ANN\n",
    "classifier = Sequential()\n",
    "\n",
    "# Добавим входной слой и первый внутренний (скрытый) слой\n",
    "classifier.add(Dense(units = 5, kernel_initializer = 'uniform', activation = 'relu', input_dim = 8))\n",
    "\n",
    "# Добавим второй внутренний слой\n",
    "classifier.add(Dense(units = 5, kernel_initializer = 'uniform', activation = 'relu'))\n",
    "\n",
    "# Добавим выходной слой\n",
    "classifier.add(Dense(units = 1, kernel_initializer = 'uniform', activation = 'sigmoid'))\n",
    "\n",
    "# Скомпилируем ANN\n",
    "classifier.compile(optimizer = 'adam', loss = 'binary_crossentropy', metrics = ['accuracy'])\n",
    "\n",
    "# Обучим ANN на тренировочном датасете\n",
    "classifier.fit(X_train, y_train, batch_size = 10, epochs = 100)\n"
   ]
  },
  {
   "cell_type": "code",
   "execution_count": 0,
   "metadata": {
    "colab": {},
    "colab_type": "code",
    "id": "ZHc0dFKqeqHK"
   },
   "outputs": [],
   "source": [
    "from sklearn.metrics import roc_auc_score\n",
    "# Сделаем предсказания и оценим нашу модель\n",
    "\n",
    "y_pred = classifier.predict_proba(X_test)\n",
    "roc_auc_score(y_test, y_pred)"
   ]
  },
  {
   "cell_type": "markdown",
   "metadata": {
    "colab_type": "text",
    "id": "-0txBBdhhgpI"
   },
   "source": [
    "# ---------------------------------------------------------------------"
   ]
  },
  {
   "cell_type": "code",
   "execution_count": 0,
   "metadata": {
    "colab": {},
    "colab_type": "code",
    "id": "xunprrqhkOqQ"
   },
   "outputs": [],
   "source": [
    "data = pd.read_csv('/content/gdrive/My Drive/Colab Notebooks/data/Pokemon.csv', index_col=0) \n",
    "data = data._get_numeric_data().dropna(axis=1).reset_index(drop=True)\n",
    "\n",
    "target = data['Legendary']*1"
   ]
  },
  {
   "cell_type": "code",
   "execution_count": 0,
   "metadata": {
    "colab": {},
    "colab_type": "code",
    "id": "zwtt7YfGnCmd"
   },
   "outputs": [],
   "source": [
    "from sklearn.model_selection import KFold\n",
    "from sklearn.linear_model import LogisticRegression"
   ]
  },
  {
   "cell_type": "code",
   "execution_count": 0,
   "metadata": {
    "colab": {},
    "colab_type": "code",
    "id": "i092xd-Nv_XR"
   },
   "outputs": [],
   "source": [
    "kf = KFold(n_splits=5, shuffle=True, random_state=42)\n",
    "val_rate = []\n",
    "for tr_ind, val_ind in kf.split(data):\n",
    "    lr = LogisticRegression(C=2, max_iter=1000,\n",
    "                            warm_start=True, random_state=42)\n",
    "    train = data.drop('Legendary', axis=1).loc[tr_ind]\n",
    "    val = data.drop('Legendary', axis=1).loc[val_ind]\n",
    "\n",
    "    target_train = target[tr_ind]\n",
    "    target_val = target[val_ind]\n",
    "\n",
    "    lr.fit(train, target_train)\n",
    "    pred_i = lr.predict_proba(val)[:, 1]\n",
    "    val_rate.append(roc_auc_score(target_val, pred_i))"
   ]
  },
  {
   "cell_type": "code",
   "execution_count": 0,
   "metadata": {
    "colab": {},
    "colab_type": "code",
    "id": "h58RxCMvwNYr"
   },
   "outputs": [],
   "source": [
    "print('Среднее: {:.3f}\\nCтандартное отклонение: {:.3f}'.format(np.mean(val_rate), np.std(val_rate)))"
   ]
  },
  {
   "cell_type": "code",
   "execution_count": 0,
   "metadata": {
    "colab": {},
    "colab_type": "code",
    "id": "u6yHSvtrnGFU"
   },
   "outputs": [],
   "source": [
    "kf = KFold(n_splits=5, shuffle=True, random_state=42)\n",
    "val_rate = []\n",
    "for tr_ind, val_ind in kf.split(data):\n",
    "    train = data.drop('Legendary', axis=1).loc[tr_ind].reset_index(drop=True)\n",
    "    val = data.drop('Legendary', axis=1).loc[val_ind].reset_index(drop=True)\n",
    "\n",
    "    target_train = target[tr_ind].reset_index(drop=True)\n",
    "    target_val = target[val_ind].reset_index(drop=True)\n",
    "\n",
    "    sc = StandardScaler()\n",
    "    sc.fit(train)\n",
    "    train = sc.transform(train)\n",
    "    val = sc.transform(val)\n",
    "\n",
    "    classifier = Sequential()\n",
    "    classifier.add(Dense(units = 5, kernel_initializer = 'uniform', activation = 'relu', input_dim = 8))\n",
    "    classifier.add(Dense(units = 5, kernel_initializer = 'uniform', activation = 'relu'))\n",
    "    classifier.add(Dense(units = 1, kernel_initializer = 'uniform', activation = 'sigmoid'))\n",
    "    classifier.compile(optimizer = 'adam', loss = 'binary_crossentropy', metrics = ['accuracy'])\n",
    "    classifier.fit(train, target_train, batch_size = 10, epochs = 30, verbose=1)\n",
    "    pred_i = classifier.predict_proba(val)\n",
    "    val_rate.append(roc_auc_score(target_val, pred_i))\n",
    "    \n"
   ]
  },
  {
   "cell_type": "code",
   "execution_count": 0,
   "metadata": {
    "colab": {},
    "colab_type": "code",
    "id": "jGCex0r1nlyf"
   },
   "outputs": [],
   "source": [
    "print('Среднее: {:.3f}\\nCтандартное отклонение: {:.3f}'.format(np.mean(val_rate), np.std(val_rate)))"
   ]
  }
 ],
 "metadata": {
  "accelerator": "GPU",
  "colab": {
   "collapsed_sections": [],
   "name": "Lect8.ipynb",
   "provenance": [],
   "version": "0.3.2"
  },
  "kernelspec": {
   "display_name": "Python 3",
   "language": "python",
   "name": "python3"
  },
  "language_info": {
   "codemirror_mode": {
    "name": "ipython",
    "version": 3
   },
   "file_extension": ".py",
   "mimetype": "text/x-python",
   "name": "python",
   "nbconvert_exporter": "python",
   "pygments_lexer": "ipython3",
   "version": "3.7.0"
  }
 },
 "nbformat": 4,
 "nbformat_minor": 1
}

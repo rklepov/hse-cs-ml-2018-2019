{
 "cells": [
  {
   "cell_type": "markdown",
   "metadata": {},
   "source": [
    "Продолжим совершенствовать код для соревнования [Catch Me If You Can](https://www.kaggle.com/c/catch-me-if-you-can-intruder-detection-through-webpage-session-tracking2).\n",
    "\n",
    "Как работать с малыми данными, мы разбирали на семинаре. Но что делать, когда данных очень много, как у нас в части признаков про посещенные сайты?\n",
    "Мы можем, например, постараться уменьшить размерность признаков и обучить модели на урезанных представлениях данных.\n",
    "\n",
    "В этом блокноте разберем два метода TruncatedSVD и MiniBatchKMeans, предназанченные для работы с большими данными и вы увидите, как комфортно ими пользоваться. Для контраста можете запустить тот же KMeans и проверить время работы обоих алгоритмов."
   ]
  },
  {
   "cell_type": "code",
   "execution_count": null,
   "metadata": {},
   "outputs": [],
   "source": [
    "import pandas as pd\n",
    "import numpy as np\n",
    "import matplotlib.pyplot as plt\n",
    "from scipy.sparse import save_npz, load_npz\n",
    "from sklearn.metrics import silhouette_score\n",
    "\n",
    "%matplotlib inline"
   ]
  },
  {
   "cell_type": "code",
   "execution_count": null,
   "metadata": {},
   "outputs": [],
   "source": [
    "# Когда вы создали site1 и ttest в прошлом ноутбуке,\n",
    "# То вы можете сохранить матрицы, чтобы каждый раз их не пересчитывать:\n",
    "# save_npz('data.npz', site1)\n",
    "# save_npz('test.npz', ttest)\n",
    "\n",
    "# Загрузка осуществляется с помощью метода:\n",
    "site1 = load_npz('data.npz')\n",
    "ttest = load_npz('test.npz')"
   ]
  },
  {
   "cell_type": "code",
   "execution_count": null,
   "metadata": {},
   "outputs": [],
   "source": [
    "from sklearn.decomposition import TruncatedSVD\n",
    "# Этот метод является PCA для sparse данных\n",
    "# Из доков: Contrary to PCA, this estimator does not center the data \n",
    "# before computing the singular value decomposition. \n",
    "# This means it can work with scipy.sparse matrices efficiently."
   ]
  },
  {
   "cell_type": "code",
   "execution_count": null,
   "metadata": {},
   "outputs": [],
   "source": [
    "svd = TruncatedSVD(n_components=100, random_state=42)\n",
    "svd.fit(site1) #обучаем модель"
   ]
  },
  {
   "cell_type": "code",
   "execution_count": null,
   "metadata": {},
   "outputs": [],
   "source": [
    "print(svd.explained_variance_ratio_.sum())\n",
    "# Попробуйте 500 или 1000 n_components у алгоритма, чтобы сохранить до 90% дисперсии\n",
    "# В конце ноутбука приведен скор на лидерборде при 100 компонентах и при 1000.\n",
    "# Спойлер - при тысяче лучше."
   ]
  },
  {
   "cell_type": "code",
   "execution_count": null,
   "metadata": {},
   "outputs": [],
   "source": [
    "svd_train = svd.transform(site1) #применяем изменение\n",
    "svd_test = svd.transform(ttest) #применяем изменение"
   ]
  },
  {
   "cell_type": "code",
   "execution_count": null,
   "metadata": {},
   "outputs": [],
   "source": [
    "data = pd.read_csv('../data/Alice/train_sessions.csv')"
   ]
  },
  {
   "cell_type": "code",
   "execution_count": null,
   "metadata": {},
   "outputs": [],
   "source": [
    "target = data['target']"
   ]
  },
  {
   "cell_type": "code",
   "execution_count": null,
   "metadata": {},
   "outputs": [],
   "source": [
    "from sklearn.cluster import MiniBatchKMeans\n",
    "# Попробуем специальный метод кластеризации для больших данных\n",
    "# Можете попробовать и другие, но ожидайте, что работать они будут долго"
   ]
  },
  {
   "cell_type": "code",
   "execution_count": null,
   "metadata": {},
   "outputs": [],
   "source": [
    "Ks = range(1, 25)\n",
    "score = [MiniBatchKMeans(n_clusters=i, random_state=42).fit(svd_train).inertia_ for i in Ks]"
   ]
  },
  {
   "cell_type": "code",
   "execution_count": null,
   "metadata": {},
   "outputs": [],
   "source": [
    "fig = plt.figure(figsize=(10, 5))\n",
    "plt.plot(Ks, score)"
   ]
  },
  {
   "cell_type": "code",
   "execution_count": null,
   "metadata": {},
   "outputs": [],
   "source": [
    "clst = MiniBatchKMeans(n_clusters=20, random_state=42)\n",
    "clst.fit(svd_train)\n",
    "pred = clst.predict(svd_train)\n",
    "pred_test = clst.predict(svd_test)"
   ]
  },
  {
   "cell_type": "code",
   "execution_count": null,
   "metadata": {},
   "outputs": [],
   "source": [
    "svd2 = TruncatedSVD(n_components=2, random_state=42)\n",
    "svd2.fit(svd_train) #обучаем для визуализации"
   ]
  },
  {
   "cell_type": "code",
   "execution_count": null,
   "metadata": {},
   "outputs": [],
   "source": [
    "res = svd2.transform(svd_train)\n",
    "res_test = svd2.transform(svd_test)"
   ]
  },
  {
   "cell_type": "code",
   "execution_count": null,
   "metadata": {},
   "outputs": [],
   "source": [
    "plt.figure(figsize=(12,8))\n",
    "plt.scatter(res[:,0], res[:,1], c=pred, s=1, cmap='viridis')\n",
    "plt.title('Kmeans')\n",
    "plt.show()"
   ]
  },
  {
   "cell_type": "code",
   "execution_count": null,
   "metadata": {},
   "outputs": [],
   "source": [
    "plt.figure(figsize=(12,8))\n",
    "plt.scatter(res[:,0], res[:,1], c=target, s=1, cmap='viridis_r')\n",
    "plt.title('Real')"
   ]
  },
  {
   "cell_type": "code",
   "execution_count": null,
   "metadata": {},
   "outputs": [],
   "source": [
    "# Для теста\n",
    "\n",
    "plt.figure(figsize=(12,8))\n",
    "plt.scatter(res_test[:,0], res_test[:,1], c=pred_test, s=1, cmap='viridis_r')\n",
    "plt.title('Test')"
   ]
  },
  {
   "cell_type": "code",
   "execution_count": null,
   "metadata": {},
   "outputs": [],
   "source": [
    "# Так сразу и не понять, есть ли что-то полезное в кластеризации.\n",
    "# Поэтому попробуем взять наши признаки из TruncatedSVD и Kmeans и построить случайный лес."
   ]
  },
  {
   "cell_type": "code",
   "execution_count": null,
   "metadata": {},
   "outputs": [],
   "source": [
    "train = np.concatenate((svd_train, np.array(pred).reshape(-1, 1)), axis=1) \n",
    "test = np.concatenate((svd_test, np.array(pred_test).reshape(-1, 1)), axis=1)\n",
    "# Объединяем признаки"
   ]
  },
  {
   "cell_type": "code",
   "execution_count": null,
   "metadata": {},
   "outputs": [],
   "source": [
    "from sklearn.ensemble import RandomForestClassifier\n",
    "from sklearn.metrics import roc_auc_score as auc\n",
    "from sklearn.model_selection import KFold\n",
    "import time"
   ]
  },
  {
   "cell_type": "code",
   "execution_count": null,
   "metadata": {},
   "outputs": [],
   "source": [
    "#обучаем с кросс-валидацией случайный лес\n",
    "#предсказываем 10 раз трейн, дальше усредним\n",
    "answ = []\n",
    "v_metric = []\n",
    "\n",
    "n=1\n",
    "\n",
    "kf = KFold(n_splits=10, shuffle=True, random_state=777)   \n",
    "for tr_ind, val_ind in kf.split(train):\n",
    "    print('Start {} fold'.format(n))\n",
    "\n",
    "    val = train[val_ind]\n",
    "    ttt = train[tr_ind] \n",
    "\n",
    "    start_time = time.time()\n",
    "    clf = RandomForestClassifier(n_estimators=400, \n",
    "                                 min_samples_split=10, \n",
    "                                 max_depth=8, \n",
    "                                 n_jobs=-1, )\n",
    "\n",
    "    clf.fit(ttt, data['target'][tr_ind].reset_index(drop=True)) \n",
    "\n",
    "    model_pred_valid = clf.predict_proba(val)[:, 1]\n",
    "\n",
    "    y_valid = data['target'][val_ind].reset_index(drop=True)\n",
    "    valid_metric = auc(y_valid, model_pred_valid)\n",
    "    v_metric.append(valid_metric)\n",
    "\n",
    "    print('fold score:', valid_metric, round((time.time() - start_time)/60, 2))\n",
    "    model_pred = clf.predict_proba(test)[:, 1]\n",
    "    answ.append(model_pred)\n",
    "\n",
    "    n+=1\n",
    "\n",
    "    print('crossval score:', np.mean(v_metric), 'std', np.std(v_metric))\n",
    "    print('---------------------------------------')"
   ]
  },
  {
   "cell_type": "code",
   "execution_count": null,
   "metadata": {},
   "outputs": [],
   "source": [
    "#собираем предсказания теста\n",
    "answ_df = pd.DataFrame()\n",
    "for i in range(len(answ)):\n",
    "    answ_df['an'+str(i)] = answ[i]\n",
    "answ_df['answer'] = answ_df.mean(axis=1)"
   ]
  },
  {
   "cell_type": "code",
   "execution_count": null,
   "metadata": {},
   "outputs": [],
   "source": [
    "answ_df.head()"
   ]
  },
  {
   "cell_type": "code",
   "execution_count": null,
   "metadata": {},
   "outputs": [],
   "source": [
    "def write_to_submission_file(predicted_labels, out_file,\n",
    "                             target='target', index_label=\"session_id\"):\n",
    "    predicted_df = pd.DataFrame(predicted_labels,\n",
    "                                index = np.arange(1, predicted_labels.shape[0] + 1),\n",
    "                                columns=[target])\n",
    "    predicted_df.to_csv(out_file, index_label=index_label)"
   ]
  },
  {
   "cell_type": "code",
   "execution_count": null,
   "metadata": {},
   "outputs": [],
   "source": [
    "y_test = np.array(answ_df['answer'])"
   ]
  },
  {
   "cell_type": "code",
   "execution_count": null,
   "metadata": {},
   "outputs": [],
   "source": [
    "write_to_submission_file(y_test, 'submission_tree2.csv')"
   ]
  },
  {
   "cell_type": "markdown",
   "metadata": {},
   "source": [
    "* 100  components, score: 0.85509\n",
    "* 1000 components, score: 0.88471\n",
    "\n",
    "Скорее всего, если по сетке подбирать параметры, то можно еще выше скор получить.\n",
    "\n",
    "\n",
    "### Задание. Срок 5 декабря.\n",
    "\n",
    "* Какие методы уменьшения размерности и кластеризации предназначены для работы с большими данными (больше нескольких десятков тысяч строк)?\n",
    "* Сравните на текущих спарс данных насколько по-разному работают предназначенные и нет для больших данных методы уменьшения размерности и кластеризации.\n",
    "* Подберите гиперпараметры моделей (того же RandomForest) так, чтобы получить модель лучше по кросс-валидации и скору на лб.\n",
    "* Почему линейная модель показывает себя лучше (если показывает)?"
   ]
  }
 ],
 "metadata": {
  "kernelspec": {
   "display_name": "Python 3",
   "language": "python",
   "name": "python3"
  },
  "language_info": {
   "codemirror_mode": {
    "name": "ipython",
    "version": 3
   },
   "file_extension": ".py",
   "mimetype": "text/x-python",
   "name": "python",
   "nbconvert_exporter": "python",
   "pygments_lexer": "ipython3",
   "version": "3.7.0"
  }
 },
 "nbformat": 4,
 "nbformat_minor": 2
}

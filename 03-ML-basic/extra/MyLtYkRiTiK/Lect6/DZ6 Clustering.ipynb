{
 "cells": [
  {
   "cell_type": "markdown",
   "metadata": {},
   "source": [
    "## Задание на кластеризацию. Срок: 5 декабря."
   ]
  },
  {
   "cell_type": "code",
   "execution_count": null,
   "metadata": {},
   "outputs": [],
   "source": [
    "import numpy as np\n",
    "import pandas as pd\n",
    "import random\n",
    "import math\n",
    "import sklearn.datasets as ds\n",
    "import matplotlib.pyplot as plt\n",
    "from sklearn.cluster import KMeans\n",
    "from sklearn.decomposition import PCA\n",
    "from sklearn.preprocessing import MinMaxScaler\n",
    "\n",
    "%matplotlib inline"
   ]
  },
  {
   "cell_type": "code",
   "execution_count": null,
   "metadata": {},
   "outputs": [],
   "source": [
    "# Загрузите данные по покимонам\n",
    "\n",
    "X = pd.read_csv(\"../data/Pokemon.csv\", index_col=0)\n",
    "X.shape"
   ]
  },
  {
   "cell_type": "code",
   "execution_count": null,
   "metadata": {},
   "outputs": [],
   "source": [
    "y = list(X['Legendary'].map({True: 1, False:0}))\n",
    "X = X._get_numeric_data().dropna(axis=1).drop('Legendary', axis=1)"
   ]
  },
  {
   "cell_type": "code",
   "execution_count": null,
   "metadata": {},
   "outputs": [],
   "source": [
    "# Спойлер: попробуйте решить задачу со скейлингом и без\n",
    "\n",
    "# ms = MinMaxScaler()\n",
    "# ms.fit(X)\n",
    "# X = ms.transform(X)"
   ]
  },
  {
   "cell_type": "code",
   "execution_count": null,
   "metadata": {
    "scrolled": true
   },
   "outputs": [],
   "source": [
    "# С помощью TSNE отобразим данные на плоскости \n",
    "from sklearn.manifold import TSNE\n",
    "tsne = TSNE(random_state=17, verbose=2, n_iter=10000, n_iter_without_progress=1000)\n",
    "\n",
    "res = tsne.fit_transform(X)"
   ]
  },
  {
   "cell_type": "code",
   "execution_count": null,
   "metadata": {},
   "outputs": [],
   "source": [
    "# Посмотрим на реальное расположение классов\n",
    "\n",
    "plt.figure(figsize=(12,8))\n",
    "plt.scatter(res[:,0], res[:,1], c=y, s=10)\n",
    "plt.title('TSNE')"
   ]
  },
  {
   "cell_type": "markdown",
   "metadata": {},
   "source": [
    "Видно, что классы сгруппировались в одном месте. Но там не только они. Интересно, наши алгоритмы смогут что-то сделать?\n",
    "\n",
    "### Kmeans"
   ]
  },
  {
   "cell_type": "code",
   "execution_count": null,
   "metadata": {},
   "outputs": [],
   "source": [
    "Ks = range(1, 15)\n",
    "score = [KMeans(n_clusters=i, n_jobs=-1).fit(X).inertia_ for i in Ks]"
   ]
  },
  {
   "cell_type": "code",
   "execution_count": null,
   "metadata": {},
   "outputs": [],
   "source": [
    "plt.plot(Ks, score)"
   ]
  },
  {
   "cell_type": "code",
   "execution_count": null,
   "metadata": {},
   "outputs": [],
   "source": [
    "# Можно попробовать 3 или 4 кластера\n",
    "\n",
    "kmeans = KMeans(n_clusters=3, random_state=1)\n",
    "kmeans.fit(X)\n",
    "\n",
    "plt.figure(figsize=(12,8))\n",
    "plt.scatter(res[:,0], res[:,1], c=kmeans.labels_, s=10, cmap='viridis')\n",
    "plt.title('TSNE')"
   ]
  },
  {
   "cell_type": "markdown",
   "metadata": {},
   "source": [
    "Как и казалось очевидным, kmean побил на 3 видимых класса. И да, он поместил все семплы с таргетом 1 в один класс. На самом деле, это может быть полезным.\n",
    "\n",
    "#### Метрики\n",
    "\n",
    "Помимо метрики Silhouette, которую мы рассматривали на семинаре, есть метрики, которые считают качество кластеризации на данных, где есть разметка. Вместо данных они на вход получают кластеры и реальную разметку.\n",
    "\n",
    "Ниже перечислены некоторые из этих метрик. Как думаете, какая самая уместная в нашей задаче?"
   ]
  },
  {
   "cell_type": "markdown",
   "metadata": {},
   "source": [
    "from sklearn import metrics\n",
    "\n",
    "        'AMI': metrics.adjusted_mutual_info_score(y, preds),\n",
    "        'ARI': metrics.adjusted_rand_score(y, preds),\n",
    "        'V-measure': metrics.v_measure_score(y, preds),\n",
    "        'Homogenity': metrics.homogeneity_score(y, preds),\n",
    "        'Completeness': metrics.completeness_score(y, preds)"
   ]
  },
  {
   "cell_type": "markdown",
   "metadata": {},
   "source": [
    "### DBSCAN\n",
    "\n",
    "Посмотрим, как DBSCAN справится с задачей кластеризации. Переберем разные значения параметров алгоритма и сравним качество по метрикам.\n",
    "\n",
    "Максимизация какой метрики, на ваш взгляд, дает лучшее разбиение?"
   ]
  },
  {
   "cell_type": "code",
   "execution_count": null,
   "metadata": {},
   "outputs": [],
   "source": [
    "from sklearn.cluster import DBSCAN"
   ]
  },
  {
   "cell_type": "code",
   "execution_count": null,
   "metadata": {
    "scrolled": false
   },
   "outputs": [],
   "source": [
    "eps = np.linspace(30, 130, 101)\n",
    "# Если будете скалировать, то вам нужно будет взять eps < 1. Почему?\n",
    "samples = range(3, 10)\n",
    "\n",
    "scores = []\n",
    "best_sc = -1\n",
    "best_ep = None\n",
    "best_sa = None\n",
    "for ep in eps:\n",
    "    for sa in samples:\n",
    "        clst = DBSCAN(eps=ep, min_samples=sa)\n",
    "        pred = clst.fit_predict(X)\n",
    "        try:\n",
    "            sc = metrics.adjusted_mutual_info_score(y, pred, average_method='geometric')\n",
    "            if sc > best_sc:\n",
    "                best_sc = sc\n",
    "                best_ep = ep\n",
    "                best_sa = sa\n",
    "            scores.append((ep, sa, sc))\n",
    "        except:\n",
    "            pass\n",
    "\n",
    "clst = DBSCAN(eps=best_ep, min_samples=best_sa)\n",
    "pred = clst.fit_predict(X)\n",
    "print(metrics.adjusted_mutual_info_score(y, pred, average_method='geometric'))\n",
    "\n",
    "plt.figure(figsize=(12,8))\n",
    "plt.scatter(res[:,0], res[:,1], c=pred, s=10, cmap='viridis')\n",
    "plt.title('TSNE')"
   ]
  },
  {
   "cell_type": "code",
   "execution_count": null,
   "metadata": {},
   "outputs": [],
   "source": [
    "eps = np.linspace(30, 130, 101)\n",
    "\n",
    "samples = range(3, 10)\n",
    "\n",
    "scores = []\n",
    "best_sc = -1\n",
    "best_ep = None\n",
    "best_sa = None\n",
    "for ep in eps:\n",
    "    for sa in samples:\n",
    "        clst = DBSCAN(eps=ep, min_samples=sa)\n",
    "        pred = clst.fit_predict(X)\n",
    "        try:\n",
    "            sc = metrics.adjusted_rand_score(y, pred)\n",
    "            if sc > best_sc:\n",
    "                best_sc = sc\n",
    "                best_ep = ep\n",
    "                best_sa = sa\n",
    "            scores.append((ep, sa, sc))\n",
    "        except:\n",
    "            pass\n",
    "\n",
    "clst = DBSCAN(eps=best_ep, min_samples=best_sa)\n",
    "pred = clst.fit_predict(X)\n",
    "print(metrics.adjusted_rand_score(y, pred))\n",
    "\n",
    "plt.figure(figsize=(12,8))\n",
    "plt.scatter(res[:,0], res[:,1], c=pred, s=10, cmap='viridis')\n",
    "plt.title('TSNE')"
   ]
  },
  {
   "cell_type": "markdown",
   "metadata": {},
   "source": [
    "Повторите такую процедуру с остальными метриками и выберите, максимизация какой метрики, дает лучшее разбиение.\n",
    "\n",
    "#### Еще кластеризация\n",
    "Посмотрите на короткую справку по [типовым методам кластеризации](https://scikit-learn.org/stable/modules/clustering.html).\n",
    "\n",
    "Реализуйте еще какой-нибудь алгоритм, который вам нравится, и проведите то же исследование, что было с DBSCAN.\n",
    "\n",
    "Какой алгоритм и максимизация какой метрики дали наилучший визуальный результат? Почему?\n"
   ]
  }
 ],
 "metadata": {
  "kernelspec": {
   "display_name": "Python 3",
   "language": "python",
   "name": "python3"
  },
  "language_info": {
   "codemirror_mode": {
    "name": "ipython",
    "version": 3
   },
   "file_extension": ".py",
   "mimetype": "text/x-python",
   "name": "python",
   "nbconvert_exporter": "python",
   "pygments_lexer": "ipython3",
   "version": "3.7.0"
  }
 },
 "nbformat": 4,
 "nbformat_minor": 2
}

{
 "cells": [
  {
   "cell_type": "markdown",
   "metadata": {
    "colab_type": "text",
    "id": "l6C_JaoRQ67y"
   },
   "source": [
    "## RNN\n",
    "Рекуррентные нейронные сети (Recurrent neural network; RNN) — вид нейронных сетей, где связи между элементами образуют направленную последовательность. \n",
    "\n",
    "Благодаря этому появляется возможность обрабатывать серии событий во времени или последовательные пространственные цепочки. \n",
    "\n",
    "Рекуррентные сети могут использовать свою внутреннюю память для обработки последовательностей произвольной длины. \n",
    "\n",
    "![RNN](https://cdn-images-1.medium.com/max/800/1*DItCSHJ-NA2wy4lFfXv-_Q.png)\n",
    "\n",
    "## LSTM\n",
    "\n",
    "LSTM - одна из разновдностей RNN сетей, разработанная для предотвращения исчезающих градиентов. \n",
    "\n",
    "И благодаря своей архитектуре и внутренней памяти позволяющая делать хорошие предсказания на временных рядах."
   ]
  },
  {
   "cell_type": "code",
   "execution_count": 0,
   "metadata": {
    "colab": {},
    "colab_type": "code",
    "id": "ThJyE7suA3Ny"
   },
   "outputs": [],
   "source": [
    "import tensorflow as tf\n",
    "device_name = tf.test.gpu_device_name()\n",
    "if device_name != '/device:GPU:0':\n",
    "  raise SystemError('GPU device not found')\n",
    "print('Found GPU at: {}'.format(device_name))"
   ]
  },
  {
   "cell_type": "code",
   "execution_count": 0,
   "metadata": {
    "colab": {},
    "colab_type": "code",
    "id": "q-YpWsgheIjq"
   },
   "outputs": [],
   "source": [
    "from google.colab import drive\n",
    "drive.mount('/content/gdrive')"
   ]
  },
  {
   "cell_type": "code",
   "execution_count": 0,
   "metadata": {
    "colab": {},
    "colab_type": "code",
    "id": "rWBqZZU4ha-C"
   },
   "outputs": [],
   "source": [
    "import pandas as pd\n",
    "import matplotlib.pyplot as plt\n",
    "import numpy as np\n",
    "from datetime import datetime\n",
    "%matplotlib inline\n",
    "\n",
    "\n",
    "df = pd.read_csv('/content/gdrive/My Drive/Colab Notebooks/data/air_visit_data.csv.zip') #пропишите путь до файла"
   ]
  },
  {
   "cell_type": "code",
   "execution_count": 0,
   "metadata": {
    "colab": {},
    "colab_type": "code",
    "id": "OuCmaBwxyHwz"
   },
   "outputs": [],
   "source": [
    "# Из всего массива ресторанов выбираем тот, который мы проверяем разными методами\n",
    "df = df[df['air_store_id'] == 'air_cb7467aed805e7fe']\n",
    "df.drop('air_store_id', inplace=True, axis=1)\n",
    "df.dropna(how='any', inplace=True)\n",
    "df.head(5)"
   ]
  },
  {
   "cell_type": "code",
   "execution_count": 0,
   "metadata": {
    "colab": {},
    "colab_type": "code",
    "id": "Z2iYYApEynuT"
   },
   "outputs": [],
   "source": [
    "# Приводим колонку даты к типу данных - дата\n",
    "df['visit_date'] = pd.to_datetime(df['visit_date'])"
   ]
  },
  {
   "cell_type": "code",
   "execution_count": 0,
   "metadata": {
    "colab": {},
    "colab_type": "code",
    "id": "lP3GcSrSyZha"
   },
   "outputs": [],
   "source": [
    "# Делим на трейн и тест\n",
    "train = df[df['visit_date'] < datetime(2017, 1, 17)].reset_index(drop=True).drop('visit_date', axis=1)\n",
    "test = df[df['visit_date'] >= datetime(2017, 1, 17)].reset_index(drop=True).drop('visit_date', axis=1)"
   ]
  },
  {
   "cell_type": "code",
   "execution_count": 0,
   "metadata": {
    "colab": {},
    "colab_type": "code",
    "id": "Tk5X1tj57icH"
   },
   "outputs": [],
   "source": [
    "train.head()"
   ]
  },
  {
   "cell_type": "code",
   "execution_count": 0,
   "metadata": {
    "colab": {},
    "colab_type": "code",
    "id": "EA2lSwoj72B3"
   },
   "outputs": [],
   "source": [
    "train.shape, test.shape"
   ]
  },
  {
   "cell_type": "code",
   "execution_count": 0,
   "metadata": {
    "colab": {},
    "colab_type": "code",
    "id": "HDFjYZIn8MeZ"
   },
   "outputs": [],
   "source": [
    "# RNN предпочтительно скалировать MinMax скейлером\n",
    "from sklearn.preprocessing import MinMaxScaler\n",
    "mc = MinMaxScaler(feature_range = (0, 1))\n",
    "mc.fit(train)\n",
    "train_scaled = mc.transform(train)"
   ]
  },
  {
   "cell_type": "code",
   "execution_count": 0,
   "metadata": {
    "colab": {},
    "colab_type": "code",
    "id": "Y40DPCLo8JXA"
   },
   "outputs": [],
   "source": [
    "# Для LSTM надо задать специальную структуру данных\n",
    "# n - длина исторических данных, на которых мы учимся\n",
    "n = 30\n",
    "X_train = []\n",
    "y_train = []\n",
    "# Каждая строка нового массива - это вектор длины n, ответом для которого является значение ряда в точке n+1\n",
    "for i in range(n, len(train_scaled)):\n",
    "    X_train.append(train_scaled[i-n:i, 0])\n",
    "    y_train.append(train_scaled[i, 0])\n",
    "    \n",
    "# Для кераса и данной реализации данные должны иметь вид numpy arrays\n",
    "X_train, y_train = np.array(X_train), np.array(y_train)\n",
    "\n",
    "# Так же надо добавить больше измерений в данные, отвечающих за кол-во признаков.\n",
    "# У нас всего один признак, поэтому в третье измерение дописываем значение 1\n",
    "X_train = np.reshape(X_train, (X_train.shape[0], X_train.shape[1], 1))"
   ]
  },
  {
   "cell_type": "code",
   "execution_count": 0,
   "metadata": {
    "colab": {},
    "colab_type": "code",
    "id": "txxmH7ivA0ta"
   },
   "outputs": [],
   "source": [
    "# Подгружаем нужные библиотеки\n",
    "from keras.models import Sequential\n",
    "from keras.layers import Dense\n",
    "from keras.layers import LSTM\n",
    "from keras.layers import Dropout"
   ]
  },
  {
   "cell_type": "code",
   "execution_count": 0,
   "metadata": {
    "colab": {},
    "colab_type": "code",
    "id": "mCbVZinuA5XW"
   },
   "outputs": [],
   "source": [
    "# Инициализируем RNN\n",
    "regressor = Sequential()\n",
    "\n",
    "# Добавляем первый LSTM слой и Dropout регурялизацию\n",
    "# Когда мы стакаем несколько LSTM слоев, то должны прописывать return_sequences = True, \n",
    "# чтобы на следующий слой так же передавался трехмерный array \n",
    "regressor.add(LSTM(units = 20, return_sequences = True, input_shape = (X_train.shape[1], 1)))\n",
    "regressor.add(Dropout(0.2))\n",
    "\n",
    "# Добавляем второй LSTM слой и Dropout регурялизацию\n",
    "# Стаканье слоев помогает искать временные тренды и паттерны, что на практике дает хорошие результаты\n",
    "regressor.add(LSTM(units = 20, return_sequences = True))\n",
    "regressor.add(Dropout(0.2))\n",
    "\n",
    "# Добавляем третий LSTM слой и Dropout регурялизацию\n",
    "regressor.add(LSTM(units = 20, return_sequences = True))\n",
    "regressor.add(Dropout(0.2))\n",
    "\n",
    "# # Добавляем четвертый LSTM слой и Dropout регурялизацию\n",
    "# regressor.add(LSTM(units = 20, return_sequences = True))\n",
    "# regressor.add(Dropout(0.2))\n",
    "\n",
    "# Добавляем пятый LSTM слой и Dropout регурялизацию\n",
    "regressor.add(LSTM(units = 20))\n",
    "regressor.add(Dropout(0.2))\n",
    "\n",
    "# Добавляем выходящий слой\n",
    "regressor.add(Dense(units = 1))\n",
    "\n",
    "# Компиляция\n",
    "regressor.compile(optimizer = 'adam', loss = 'mean_squared_error')\n",
    "\n",
    "# Обучение RNN на тренировочном датасете\n",
    "regressor.fit(X_train, y_train, epochs = 100, batch_size = 32)\n"
   ]
  },
  {
   "cell_type": "code",
   "execution_count": 0,
   "metadata": {
    "colab": {},
    "colab_type": "code",
    "id": "jeAMSXCT9Eu2"
   },
   "outputs": [],
   "source": [
    "# Предсказание\n",
    "# Чтобы получить ту же структуру данных для предсказания, что и в тренировочном сете, \n",
    "# для каждой точки теста должно быть n точек истории.\n",
    "# Значит, мы должны объединить трейн и тест, чтобы получить эти точки.\n",
    "df_full = pd.concat((train, test), axis = 0).reset_index(drop=True)\n",
    "ttest = df_full[len(df_full) - len(test) - n:].values\n",
    "ttest = ttest.reshape(-1,1)\n",
    "# Делаем скалирование\n",
    "ttest = mc.transform(ttest)\n",
    "# Собираем датасет, как и в случае трейна\n",
    "X_test = []\n",
    "for i in range(n, n+test.shape[0]):\n",
    "    X_test.append(ttest[i-n:i, 0])\n",
    "X_test = np.array(X_test)\n",
    "X_test = np.reshape(X_test, (X_test.shape[0], X_test.shape[1], 1))"
   ]
  },
  {
   "cell_type": "code",
   "execution_count": 0,
   "metadata": {
    "colab": {},
    "colab_type": "code",
    "id": "ZLHC1v23XVGk"
   },
   "outputs": [],
   "source": [
    "# Делаем предсказание\n",
    "preds = regressor.predict(X_test)\n",
    "# Инвертируем предсказание обратно в обычные единицы измерения\n",
    "preds = mc.inverse_transform(preds)"
   ]
  },
  {
   "cell_type": "code",
   "execution_count": 0,
   "metadata": {
    "colab": {},
    "colab_type": "code",
    "id": "_Cqoc0Z4SNcI"
   },
   "outputs": [],
   "source": [
    "fig = plt.figure(figsize=(25, 5))\n",
    "plt.plot(test, label='real')\n",
    "plt.plot(preds, color='red', label='pred')\n",
    "plt.legend()\n",
    "plt.show()"
   ]
  },
  {
   "cell_type": "code",
   "execution_count": 0,
   "metadata": {
    "colab": {},
    "colab_type": "code",
    "id": "qT4RcglHAolY"
   },
   "outputs": [],
   "source": [
    "from sklearn.metrics import mean_squared_error as score"
   ]
  },
  {
   "cell_type": "code",
   "execution_count": 0,
   "metadata": {
    "colab": {},
    "colab_type": "code",
    "id": "WMMtfzgPA_wF"
   },
   "outputs": [],
   "source": [
    "score(test, preds)**(1/2)"
   ]
  },
  {
   "cell_type": "markdown",
   "metadata": {
    "colab_type": "text",
    "id": "1l0XvgHvOCve"
   },
   "source": [
    "Возможные улучшения:\n",
    "\n",
    "*    Найти больше тренировочных данных (но у нас нет)\n",
    "*    Увеличить количество используемой истории. Вместо 30 или 60 дней взять еще больше.\n",
    "*    Добавить другие признаки. Другие рестораны или остальные признаки по ним. \n",
    "*    Добавить больше LSTM слоев.\n",
    "*    Добавить больше нейронов в каждый LSTM слой. Не 50, а больше.\n",
    "\n",
    "\n",
    "Ссылки для изучения:\n",
    "\n",
    "1. [Обзор с хорошими ссылками в конце (обязательно их посмотрите!)](https://towardsdatascience.com/learn-how-recurrent-neural-networks-work-84e975feaaf7)\n",
    "2. [Про LSTM](http://colah.github.io/posts/2015-08-Understanding-LSTMs/)\n",
    "3. [Еще раз про LSTM на примере труб](https://medium.com/mlreview/understanding-lstm-and-its-diagrams-37e2f46f1714)"
   ]
  }
 ],
 "metadata": {
  "accelerator": "GPU",
  "colab": {
   "collapsed_sections": [],
   "name": "Lect11 LSTM.ipynb",
   "provenance": [],
   "version": "0.3.2"
  },
  "kernelspec": {
   "display_name": "Python 3",
   "name": "python3"
  }
 },
 "nbformat": 4,
 "nbformat_minor": 0
}

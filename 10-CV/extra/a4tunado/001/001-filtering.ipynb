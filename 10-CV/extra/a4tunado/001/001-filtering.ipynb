{
 "cells": [
  {
   "cell_type": "markdown",
   "metadata": {},
   "source": [
    "# Фильтрация изображений"
   ]
  },
  {
   "cell_type": "markdown",
   "metadata": {},
   "source": [
    "## Загружаем и выводим тестовое изображение"
   ]
  },
  {
   "cell_type": "code",
   "execution_count": null,
   "metadata": {},
   "outputs": [],
   "source": [
    "import cv2\n",
    "import numpy as np"
   ]
  },
  {
   "cell_type": "code",
   "execution_count": null,
   "metadata": {},
   "outputs": [],
   "source": [
    "img = cv2.imread('./lena.png')"
   ]
  },
  {
   "cell_type": "code",
   "execution_count": null,
   "metadata": {},
   "outputs": [],
   "source": [
    "%matplotlib inline\n",
    "from matplotlib import pyplot as plt\n",
    "plt.imshow(img[...,::-1])\n",
    "plt.title('Размер изображения: %dx%dx%d' % img.shape)"
   ]
  },
  {
   "cell_type": "markdown",
   "metadata": {},
   "source": [
    "## Функции создания ядер"
   ]
  },
  {
   "cell_type": "code",
   "execution_count": null,
   "metadata": {},
   "outputs": [],
   "source": [
    "def gauss_kernel(ksize = 5, sigma = 2.5):\n",
    "    \"\"\" Возвращает гауссовское ядро размера ksize и дисперсией sigma \"\"\"\n",
    "    # ksize - размер ядра\n",
    "    # sigma - дисперсия (ширина фильтра)\n",
    "    ax = np.arange(-ksize // 2 + 1., ksize // 2 + 1.)\n",
    "    xx, yy = np.meshgrid(ax, ax)\n",
    "    e = np.float32((xx**2 + yy**2) / (2. * sigma**2))\n",
    "    kernel = 1. / (sigma * np.sqrt(2. * np.pi)) * np.exp(-e)\n",
    "    return kernel / np.sum(kernel)\n",
    "\n",
    "def laplace_kernel(ksize = 5, sigma = 2.5):\n",
    "    \"\"\" Возвращает ядро Лапласа размера ksize и дисперсией sigma \"\"\"\n",
    "    # ksize - размер ядра\n",
    "    # sigma - дисперсия (ширина фильтра)\n",
    "    ax = np.arange(-ksize // 2 + 1., ksize // 2 + 1.)\n",
    "    xx, yy = np.meshgrid(ax, ax)\n",
    "    e = np.float32((xx**2 + yy**2) / (2. * sigma**2))\n",
    "    kernel = 1. / (np.pi * sigma**4) * (1. - e) * np.exp(-e)\n",
    "    return kernel / np.sum(kernel)\n",
    "\n",
    "kernels = {'gauss': gauss_kernel, \n",
    "           'laplace': laplace_kernel}"
   ]
  },
  {
   "cell_type": "markdown",
   "metadata": {},
   "source": [
    "## Визуализация ядер"
   ]
  },
  {
   "cell_type": "markdown",
   "metadata": {},
   "source": [
    "\\# pip install ipywidgets<br/>\n",
    "\\# jupyter nbextension enable --py widgetsnbextension"
   ]
  },
  {
   "cell_type": "code",
   "execution_count": null,
   "metadata": {},
   "outputs": [],
   "source": [
    "import matplotlib.pyplot as plt\n",
    "from mpl_toolkits.mplot3d import Axes3D\n",
    "\n",
    "def show_kernel(kernel_type, ksize, sigma):\n",
    "    kernel = kernels[kernel_type](ksize, sigma)\n",
    "    r = np.arange(-ksize // 2 + 1., ksize // 2 + 1.)\n",
    "    xx, yy = np.meshgrid(r, r)\n",
    "    fig = plt.figure(figsize=(12, 8))\n",
    "    ax = fig.add_subplot(111, projection='3d')\n",
    "    ax.plot_surface(xx, yy, kernel, \n",
    "                    cmap=plt.cm.coolwarm,\n",
    "                    linewidth=0, antialiased=True)\n",
    "    plt.title('%s ksize=%s sigma=%.3f' % (kernel_type, ksize, sigma))\n",
    "    return plt.show()"
   ]
  },
  {
   "cell_type": "code",
   "execution_count": null,
   "metadata": {},
   "outputs": [],
   "source": [
    "from ipywidgets import interact\n",
    "interact(show_kernel, \n",
    "         kernel_type = kernels.keys(),\n",
    "         ksize = (1, 20, 1),\n",
    "         sigma = (1e-3, 10, 0.1));"
   ]
  },
  {
   "cell_type": "markdown",
   "metadata": {},
   "source": [
    "## Фильтрация изображения"
   ]
  },
  {
   "cell_type": "code",
   "execution_count": null,
   "metadata": {},
   "outputs": [],
   "source": [
    "def filter_img(kernel_type, ksize = 5, sigma = 2.5):\n",
    "    kernel = kernels[kernel_type](ksize, sigma)\n",
    "    result = cv2.filter2D(img, cv2.CV_32F, kernel)\n",
    "    fig = plt.figure(figsize=(12, 8))\n",
    "    ax = fig.add_subplot(111)\n",
    "    img_abs = np.abs(result)\n",
    "    img_norm = img_abs / np.max(img_abs, axis=(0, 1))\n",
    "    ax.imshow(img_norm[...,::-1])\n",
    "    plt.title('%s ksize=%s sigma=%.3f' % (kernel_type, ksize, sigma))\n",
    "    return plt.show()"
   ]
  },
  {
   "cell_type": "code",
   "execution_count": null,
   "metadata": {},
   "outputs": [],
   "source": [
    "interact(filter_img, \n",
    "         kernel_type = kernels.keys(),\n",
    "         ksize = (1, 20, 1),\n",
    "         sigma = (1e-3, 10, 0.1));"
   ]
  }
 ],
 "metadata": {
  "kernelspec": {
   "display_name": "Python 3",
   "language": "python",
   "name": "python3"
  },
  "language_info": {
   "codemirror_mode": {
    "name": "ipython",
    "version": 3
   },
   "file_extension": ".py",
   "mimetype": "text/x-python",
   "name": "python",
   "nbconvert_exporter": "python",
   "pygments_lexer": "ipython3",
   "version": "3.7.3"
  }
 },
 "nbformat": 4,
 "nbformat_minor": 2
}

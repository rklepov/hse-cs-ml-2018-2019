{
 "cells": [
  {
   "cell_type": "markdown",
   "metadata": {},
   "source": [
    "# Реализация линейной регрессии в TensorFlow"
   ]
  },
  {
   "cell_type": "code",
   "execution_count": 1,
   "metadata": {},
   "outputs": [
    {
     "name": "stdout",
     "output_type": "stream",
     "text": [
      "2.2.0\n",
      "True\n"
     ]
    }
   ],
   "source": [
    "import numpy as np\n",
    "import tensorflow as tf\n",
    "\n",
    "print(tf.__version__)\n",
    "print(tf.executing_eagerly())"
   ]
  },
  {
   "cell_type": "markdown",
   "metadata": {},
   "source": [
    "## Генерируем данные для задачи регрессии"
   ]
  },
  {
   "cell_type": "code",
   "execution_count": null,
   "metadata": {},
   "outputs": [],
   "source": [
    "NUM_FEATURES = 1\n",
    "NUM_SAMPLES = 995"
   ]
  },
  {
   "cell_type": "code",
   "execution_count": null,
   "metadata": {},
   "outputs": [],
   "source": [
    "from sklearn.datasets import make_regression\n",
    "from sklearn.model_selection import train_test_split\n",
    "\n",
    "X, y = make_regression(n_samples = NUM_SAMPLES,\n",
    "                       n_features = NUM_FEATURES,\n",
    "                       n_informative = NUM_FEATURES,\n",
    "                       bias=2.5,\n",
    "                       noise = 10,\n",
    "                       random_state = 12345)\n",
    "\n",
    "y = y.reshape(-1, 1)"
   ]
  },
  {
   "cell_type": "code",
   "execution_count": null,
   "metadata": {},
   "outputs": [],
   "source": [
    "%matplotlib inline\n",
    "from matplotlib import pyplot as plt\n",
    "\n",
    "plt.figure(figsize=(10, 8))\n",
    "plt.plot(X[:, 0], y, 'o')\n",
    "plt.xlabel('x')\n",
    "plt.ylabel('y')\n",
    "\n",
    "plt.show()"
   ]
  },
  {
   "cell_type": "markdown",
   "metadata": {},
   "source": [
    "## Функции для обучения модели"
   ]
  },
  {
   "cell_type": "code",
   "execution_count": null,
   "metadata": {},
   "outputs": [],
   "source": [
    "@tf.custom_gradient\n",
    "def linear(x, w, b):\n",
    "    x = tf.convert_to_tensor(x)\n",
    "    result = tf.matmul(x, w) + b\n",
    "    def grad(dy):\n",
    "        # возвращаем значения градиента для\n",
    "        # каждого из аргументов функции\n",
    "        dx = dy * w\n",
    "        dw = tf.reduce_sum(dy * x, axis=0, keepdims=True)\n",
    "        db = tf.reduce_sum(dy)\n",
    "        return dx, dw, db\n",
    "    return result, grad\n",
    "\n",
    "def mse_loss(y, prediction):\n",
    "    y = tf.convert_to_tensor(y)\n",
    "    loss = (y - prediction) ** 2\n",
    "    return tf.reduce_mean(loss)"
   ]
  },
  {
   "cell_type": "markdown",
   "metadata": {},
   "source": [
    "## Обучение модели"
   ]
  },
  {
   "cell_type": "code",
   "execution_count": null,
   "metadata": {},
   "outputs": [],
   "source": [
    "# создаем переменные для хранения весов модели\n",
    "np.random.seed(12345)\n",
    "\n",
    "w = tf.Variable(\n",
    "    np.random.normal(size=(NUM_FEATURES, 1)),\n",
    "    dtype=tf.double, name='w')\n",
    "\n",
    "b = tf.Variable(0.0, dtype=tf.double, name='b')\n",
    "\n",
    "\n",
    "# разделяем выборку на обучающую и на тестовую группы\n",
    "(X_train, X_test,\n",
    " y_train, y_test) = train_test_split(X, y, \n",
    "                                     test_size=0.33,\n",
    "                                     random_state=12345)\n",
    "\n",
    "test_loss_results = []\n",
    "\n",
    "lr = 2.5e-3  # скорость обучения\n",
    "\n",
    "for i in range(500):\n",
    "    with tf.GradientTape() as g:\n",
    "        # вычисляем значение функции потерь для обучающей выборки\n",
    "        y_pred = linear(X_train, w, b)\n",
    "        loss = mse_loss(y_train, y_pred)\n",
    "\n",
    "    # вычисляем значение градиента для параметров модели\n",
    "    dw, db = g.gradient(loss, [w, b])\n",
    "\n",
    "    # обновляем параметры модели с учетом значений градиентов\n",
    "    w.assign_sub(lr * dw)\n",
    "    b.assign_sub(lr * db)\n",
    "\n",
    "    if i % 50 == 0:\n",
    "        # логируем метрики на тестовой выборке\n",
    "        y_pred = linear(X_test, w, b)\n",
    "        test_loss_results.append(mse_loss(y_test, y_pred).numpy())\n",
    "        print('[%03d] mse=%.3f' % (i, test_loss_results[-1]))"
   ]
  },
  {
   "cell_type": "markdown",
   "metadata": {},
   "source": [
    "## Визуализируем кривую обучения"
   ]
  },
  {
   "cell_type": "code",
   "execution_count": null,
   "metadata": {},
   "outputs": [],
   "source": [
    "plt.figure(figsize=(10, 4))\n",
    "plt.plot(test_loss_results)\n",
    "plt.title('Metrics')\n",
    "plt.xlabel('Epoch')\n",
    "plt.ylabel('MSE')\n",
    "plt.show()"
   ]
  },
  {
   "cell_type": "markdown",
   "metadata": {},
   "source": [
    "## Визуализируем разделяющую гиперплоскость "
   ]
  },
  {
   "cell_type": "code",
   "execution_count": null,
   "metadata": {},
   "outputs": [],
   "source": [
    "y_pred = linear(X_test, w, b).numpy()\n",
    "\n",
    "order = np.argsort(X_test[:, 0])\n",
    "\n",
    "plt.figure(figsize=(10, 8))\n",
    "plt.title('Line: w=%.3f b=%.3f' % (w.numpy(), b.numpy()))\n",
    "\n",
    "plt.plot(X_test, y_test, 'ob',\n",
    "         X_test[order], y_pred[order], '-r')\n",
    "\n",
    "plt.xlabel('x')\n",
    "plt.ylabel('y')\n",
    "\n",
    "plt.show()"
   ]
  }
 ],
 "metadata": {
  "kernelspec": {
   "display_name": "Python 3",
   "language": "python",
   "name": "python3"
  },
  "language_info": {
   "codemirror_mode": {
    "name": "ipython",
    "version": 3
   },
   "file_extension": ".py",
   "mimetype": "text/x-python",
   "name": "python",
   "nbconvert_exporter": "python",
   "pygments_lexer": "ipython3",
   "version": "3.7.3"
  }
 },
 "nbformat": 4,
 "nbformat_minor": 2
}

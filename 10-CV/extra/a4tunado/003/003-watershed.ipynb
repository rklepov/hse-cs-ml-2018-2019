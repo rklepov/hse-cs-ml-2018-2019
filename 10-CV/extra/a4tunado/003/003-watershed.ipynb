{
 "cells": [
  {
   "cell_type": "markdown",
   "metadata": {},
   "source": [
    "# Водораздел\n",
    "http://cmm.ensmp.fr/~beucher/wtshed.html"
   ]
  },
  {
   "cell_type": "code",
   "execution_count": 1,
   "metadata": {},
   "outputs": [
    {
     "name": "stdout",
     "output_type": "stream",
     "text": [
      "4.2.0\n"
     ]
    }
   ],
   "source": [
    "%matplotlib inline\n",
    "import cv2\n",
    "import numpy as np\n",
    "import matplotlib.pyplot as plt\n",
    "\n",
    "print(cv2.__version__)"
   ]
  },
  {
   "cell_type": "code",
   "execution_count": null,
   "metadata": {},
   "outputs": [],
   "source": [
    "img = cv2.imread('data/coins.jpg')\n",
    "\n",
    "fig = plt.figure(figsize=(5, 8))\n",
    "plt.title('Исходное изображдение')\n",
    "plt.imshow(cv2.cvtColor(img, cv2.COLOR_BGR2RGB));"
   ]
  },
  {
   "cell_type": "markdown",
   "metadata": {},
   "source": [
    "## Сегментируем по порогу"
   ]
  },
  {
   "cell_type": "code",
   "execution_count": null,
   "metadata": {},
   "outputs": [],
   "source": [
    "gray = cv2.cvtColor(img, cv2.COLOR_BGR2GRAY)\n",
    "ret, thresh = cv2.threshold(gray, 0, 255, \n",
    "                            cv2.THRESH_BINARY_INV + cv2.THRESH_OTSU)"
   ]
  },
  {
   "cell_type": "code",
   "execution_count": null,
   "metadata": {},
   "outputs": [],
   "source": [
    "fig = plt.figure(figsize=(10, 8))\n",
    "\n",
    "plt.subplot(1, 2, 1)\n",
    "plt.title('Черно-белое изображдение')\n",
    "plt.imshow(gray, cmap='gray');\n",
    "\n",
    "plt.subplot(1, 2, 2)\n",
    "plt.title('Бинаризованное изображение')\n",
    "plt.imshow(thresh, cmap='gray');"
   ]
  },
  {
   "cell_type": "markdown",
   "metadata": {},
   "source": [
    "## Для каждого пикселя вычисляем расстояние до ближашей грани"
   ]
  },
  {
   "cell_type": "code",
   "execution_count": null,
   "metadata": {},
   "outputs": [],
   "source": [
    "dist_transform = cv2.distanceTransform(thresh,cv2.DIST_L2,5)\n",
    "ret, sure_fg = cv2.threshold(dist_transform,0.7*dist_transform.max(),255,0)\n",
    "\n",
    "sure_fg = np.uint8(sure_fg)\n",
    "\n",
    "fig = plt.figure(figsize=(10, 8))\n",
    "\n",
    "subplot = fig.add_subplot(1, 2, 1)\n",
    "plt.imshow(dist_transform, cmap='gray');\n",
    "subplot.set_title('dist_transform');\n",
    "\n",
    "subplot = fig.add_subplot(1, 2, 2)\n",
    "plt.imshow(sure_fg, cmap='gray');\n",
    "subplot.set_title('sure_fg');"
   ]
  },
  {
   "cell_type": "markdown",
   "metadata": {},
   "source": [
    "## Выделяем зону неопределенности между монетами и фоном"
   ]
  },
  {
   "cell_type": "code",
   "execution_count": null,
   "metadata": {},
   "outputs": [],
   "source": [
    "# применяем операцию dilate для выделения зоны фона\n",
    "kernel = np.ones((3,3), np.uint8) # box-фильтр\n",
    "sure_bg = cv2.dilate(thresh,kernel,iterations=3)\n",
    "\n",
    "# зона неопределенности - область между центрами монет и фоном\n",
    "unknown = cv2.subtract(sure_bg, sure_fg)\n",
    "\n",
    "\n",
    "fig = plt.figure(figsize=(10, 8))\n",
    "\n",
    "plt.subplot(1, 2, 1)\n",
    "plt.title('Черная область - фон')\n",
    "plt.imshow(sure_bg, cmap='gray');\n",
    "\n",
    "plt.subplot(1, 2, 2)\n",
    "plt.title('Белая маска - зона неопределнности')\n",
    "plt.imshow(unknown, cmap='gray');"
   ]
  },
  {
   "cell_type": "markdown",
   "metadata": {},
   "source": [
    "## Задаем маркеры начального приближения"
   ]
  },
  {
   "cell_type": "code",
   "execution_count": null,
   "metadata": {},
   "outputs": [],
   "source": [
    "# объединяем соседние пиксели в связные компоненты\n",
    "# в результате для каждого пикселя известен номер связной компоненты\n",
    "# для пикселей фона (с нулевой интенсивностью) номер компоненты равен 0\n",
    "ret, markers = cv2.connectedComponents(sure_fg)\n",
    "# инкрементируем значения компонент на единицу, у фона теперь кластер 1\n",
    "markers = markers + 1\n",
    "# неизвестную область обозначаем свободной\n",
    "markers[unknown==255] = 0"
   ]
  },
  {
   "cell_type": "code",
   "execution_count": null,
   "metadata": {},
   "outputs": [],
   "source": [
    "fig = plt.figure(figsize=(5, 8))\n",
    "plt.title('Начальные приближения для кластеризации')\n",
    "plt.imshow(markers);"
   ]
  },
  {
   "cell_type": "markdown",
   "metadata": {},
   "source": [
    "## Применяем алгоритм водораздела для сегментации"
   ]
  },
  {
   "cell_type": "code",
   "execution_count": null,
   "metadata": {},
   "outputs": [],
   "source": [
    "markers = cv2.watershed(img, markers)"
   ]
  },
  {
   "cell_type": "code",
   "execution_count": null,
   "metadata": {},
   "outputs": [],
   "source": [
    "fig = plt.figure(figsize=(10, 8))\n",
    "\n",
    "plt.subplot(1, 2, 1)\n",
    "plt.title('Исходное изображдение')\n",
    "plt.imshow(cv2.cvtColor(img, cv2.COLOR_BGR2RGB));\n",
    "\n",
    "plt.subplot(1, 2, 2)\n",
    "plt.title('Результат сегментации')\n",
    "plt.imshow(markers, cmap=plt.cm.Blues);"
   ]
  },
  {
   "cell_type": "markdown",
   "metadata": {},
   "source": [
    "## Визуализируем границы кластеров"
   ]
  },
  {
   "cell_type": "code",
   "execution_count": null,
   "metadata": {},
   "outputs": [],
   "source": [
    "fig = plt.figure(figsize=(5, 8), dpi=100)\n",
    "\n",
    "img[markers == -1] = [0,0,255]\n",
    "plt.title('Границы кластеров (водораздел)')\n",
    "plt.imshow(cv2.cvtColor(img, cv2.COLOR_BGR2RGB));"
   ]
  }
 ],
 "metadata": {
  "kernelspec": {
   "display_name": "Python 3",
   "language": "python",
   "name": "python3"
  },
  "language_info": {
   "codemirror_mode": {
    "name": "ipython",
    "version": 3
   },
   "file_extension": ".py",
   "mimetype": "text/x-python",
   "name": "python",
   "nbconvert_exporter": "python",
   "pygments_lexer": "ipython3",
   "version": "3.7.3"
  }
 },
 "nbformat": 4,
 "nbformat_minor": 2
}

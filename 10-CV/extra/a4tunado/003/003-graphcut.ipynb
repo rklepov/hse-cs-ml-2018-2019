{
 "cells": [
  {
   "cell_type": "markdown",
   "metadata": {},
   "source": [
    "# Алгоритм GrabCut\n",
    "http://en.wikipedia.org/wiki/GrabCut"
   ]
  },
  {
   "cell_type": "code",
   "execution_count": null,
   "metadata": {},
   "outputs": [],
   "source": [
    "%matplotlib inline\n",
    "import cv2\n",
    "import numpy as np\n",
    "from matplotlib import pyplot as plt"
   ]
  },
  {
   "cell_type": "markdown",
   "metadata": {},
   "source": [
    "## Загружаем изображение"
   ]
  },
  {
   "cell_type": "code",
   "execution_count": null,
   "metadata": {
    "scrolled": true
   },
   "outputs": [],
   "source": [
    "img = cv2.imread('data/messi5.jpg')\n",
    "plt.imshow(cv2.cvtColor(img, cv2.COLOR_BGR2RGB))"
   ]
  },
  {
   "cell_type": "markdown",
   "metadata": {},
   "source": [
    "## Рамкой выделяем область для оценки распределения значений пикселей объекта"
   ]
  },
  {
   "cell_type": "code",
   "execution_count": null,
   "metadata": {},
   "outputs": [],
   "source": [
    "# прямоугльником задаем область принадлежащую объекту\n",
    "RECT = (50,50,450,290)"
   ]
  },
  {
   "cell_type": "code",
   "execution_count": null,
   "metadata": {},
   "outputs": [],
   "source": [
    "# визуализируем выделенную область\n",
    "x1, y1, x2, y2 = RECT\n",
    "tmp = cv2.rectangle(np.copy(img), (x1,y1), (x2,y2), (0,0,255), 3)\n",
    "plt.imshow(cv2.cvtColor(tmp, cv2.COLOR_BGR2RGB))"
   ]
  },
  {
   "cell_type": "markdown",
   "metadata": {},
   "source": [
    "## Запускаем алгоритм GrabCut"
   ]
  },
  {
   "cell_type": "code",
   "execution_count": null,
   "metadata": {},
   "outputs": [],
   "source": [
    "# выделяем память под результат работы алгоритма\n",
    "mask = np.zeros(img.shape[:2], np.uint8)\n",
    "\n",
    "# выделяем память необходимую для работы алгоритма\n",
    "bgdModel = np.zeros((1,65), np.float64)\n",
    "fgdModel = np.zeros((1,65), np.float64)\n",
    "\n",
    "cv2.grabCut(img, mask, RECT, bgdModel,\n",
    "            fgdModel, 5, cv2.GC_INIT_WITH_RECT);"
   ]
  },
  {
   "cell_type": "markdown",
   "metadata": {},
   "source": [
    "# Выводим результат"
   ]
  },
  {
   "cell_type": "code",
   "execution_count": null,
   "metadata": {},
   "outputs": [],
   "source": [
    "mask2 = np.where((mask==0)|(mask==2), 0, 1).astype('uint8')\n",
    "result = img * mask2[:,:,np.newaxis]\n",
    "plt.imshow(cv2.cvtColor(result, cv2.COLOR_BGR2RGB))"
   ]
  },
  {
   "cell_type": "code",
   "execution_count": null,
   "metadata": {},
   "outputs": [],
   "source": [
    "plt.imshow(mask2)"
   ]
  }
 ],
 "metadata": {
  "kernelspec": {
   "display_name": "Python 3",
   "language": "python",
   "name": "python3"
  },
  "language_info": {
   "codemirror_mode": {
    "name": "ipython",
    "version": 3
   },
   "file_extension": ".py",
   "mimetype": "text/x-python",
   "name": "python",
   "nbconvert_exporter": "python",
   "pygments_lexer": "ipython3",
   "version": "3.7.3"
  }
 },
 "nbformat": 4,
 "nbformat_minor": 2
}

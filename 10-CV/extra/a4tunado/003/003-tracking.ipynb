{
 "cells": [
  {
   "cell_type": "markdown",
   "metadata": {},
   "source": [
    "# Пример работы трекера лица по видео с веб-камеры\n",
    "\n",
    "для корректной работы примера необходимо установить пакет opencv-contrib: pip install --upgrade opencv-python opencv-contrib-python"
   ]
  },
  {
   "cell_type": "code",
   "execution_count": 1,
   "metadata": {},
   "outputs": [
    {
     "name": "stdout",
     "output_type": "stream",
     "text": [
      "4.2.0\n"
     ]
    }
   ],
   "source": [
    "import cv2\n",
    "\n",
    "print(cv2.__version__)"
   ]
  },
  {
   "cell_type": "markdown",
   "metadata": {},
   "source": [
    "## Загружаем предобученную модель детектора лица"
   ]
  },
  {
   "cell_type": "code",
   "execution_count": null,
   "metadata": {},
   "outputs": [],
   "source": [
    "face_cascade = cv2.CascadeClassifier('data/haarcascade_frontalface_default.xml')"
   ]
  },
  {
   "cell_type": "markdown",
   "metadata": {},
   "source": [
    "## Запускаем процесс обработки видеопотка"
   ]
  },
  {
   "cell_type": "code",
   "execution_count": null,
   "metadata": {},
   "outputs": [],
   "source": [
    "camera = cv2.VideoCapture(0)\n",
    "\n",
    "kcf_tracker = None  # объект трекера инициализируется при первой детекции лица\n",
    "\n",
    "while(1):\n",
    "    ret, frame = camera.read()\n",
    "    frame = cv2.flip(frame, 1)\n",
    "    \n",
    "    kcf_tracker_box = None  # результат работы трекера\n",
    "    \n",
    "    if kcf_tracker is not None:\n",
    "        # обновляем трекер и получаем результат трекинга\n",
    "        ok, box = kcf_tracker.update(frame)\n",
    "        # сохраняем результат трекинга\n",
    "        if ok:\n",
    "            kcf_tracker_box = box\n",
    "    \n",
    "    # преобразуем изображение в чернобелый формат\n",
    "    gray = cv2.cvtColor(frame, cv2.COLOR_BGR2GRAY)\n",
    "\n",
    "    # запускаем детектор лиц\n",
    "    faces = face_cascade.detectMultiScale(gray, 1.3, 3)\n",
    "    \n",
    "    # инициализируем трекер первой детекцией\n",
    "    if len(faces) != 0 and kcf_tracker is None:\n",
    "        kcf_tracker = cv2.TrackerKCF_create()\n",
    "        (x, y, w, h) = faces[0]\n",
    "        kcf_tracker.init(frame, (x,y,w,h))\n",
    "    \n",
    "    for (x,y,w,h) in faces:\n",
    "        # отрисовываем детекцию лиц\n",
    "        cv2.rectangle(frame,(x,y),(x+w,y+h),(255,0,0), 2)\n",
    "        cv2.putText(frame, 'Detector', (x, y - 10),\n",
    "                    cv2.FONT_HERSHEY_SIMPLEX, 1,\n",
    "                    (255, 0, 0), 2, cv2.LINE_AA)\n",
    "\n",
    "    # отрисовываем результат трекера\n",
    "    if kcf_tracker_box is not None: \n",
    "        (x, y, w, h) = map(int, kcf_tracker_box)\n",
    "        cv2.rectangle(frame, (x,y),(x+w,y+h), (0, 0, 255), 2)\n",
    "        cv2.putText(frame, 'Tracker', (x, y - 10),\n",
    "                    cv2.FONT_HERSHEY_SIMPLEX, 1,\n",
    "                    (0, 0, 255), 2, cv2.LINE_AA)\n",
    "    \n",
    "    cv2.imshow('Tracking example', frame)\n",
    "    interrupt=cv2.waitKey(10)\n",
    "    \n",
    "    # выход по нажатию на клавишу 'q'\n",
    "    if  interrupt & 0xFF == ord('q'):\n",
    "        break\n",
    "\n",
    "camera.release()\n",
    "cv2.destroyAllWindows()"
   ]
  }
 ],
 "metadata": {
  "kernelspec": {
   "display_name": "Python 3",
   "language": "python",
   "name": "python3"
  },
  "language_info": {
   "codemirror_mode": {
    "name": "ipython",
    "version": 3
   },
   "file_extension": ".py",
   "mimetype": "text/x-python",
   "name": "python",
   "nbconvert_exporter": "python",
   "pygments_lexer": "ipython3",
   "version": "3.7.3"
  }
 },
 "nbformat": 4,
 "nbformat_minor": 2
}

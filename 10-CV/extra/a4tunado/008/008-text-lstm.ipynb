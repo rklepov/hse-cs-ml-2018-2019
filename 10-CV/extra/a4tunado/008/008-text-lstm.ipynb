{
 "cells": [
  {
   "cell_type": "markdown",
   "metadata": {},
   "source": [
    "# Пример генерации текста рекурентной сетью"
   ]
  },
  {
   "cell_type": "code",
   "execution_count": 2,
   "metadata": {},
   "outputs": [
    {
     "name": "stdout",
     "output_type": "stream",
     "text": [
      "2.2.0\n"
     ]
    }
   ],
   "source": [
    "import numpy as np\n",
    "import tensorflow as tf\n",
    "\n",
    "print(tf.__version__)"
   ]
  },
  {
   "cell_type": "markdown",
   "metadata": {},
   "source": [
    "## Загружаем исходные данные"
   ]
  },
  {
   "cell_type": "code",
   "execution_count": null,
   "metadata": {},
   "outputs": [],
   "source": [
    "with open('data/karenina/karenina.txt', 'rb') as src:\n",
    "    binary = src.read()\n",
    "    text = binary.decode('utf8').lower()\n",
    "print('Corpus length:', len(text))"
   ]
  },
  {
   "cell_type": "markdown",
   "metadata": {},
   "source": [
    "## Векторизуем текстовый корпус"
   ]
  },
  {
   "cell_type": "code",
   "execution_count": null,
   "metadata": {},
   "outputs": [],
   "source": [
    "chars = sorted(list(set(text)))\n",
    "print('Total chars:', len(chars))\n",
    "\n",
    "char_to_index = dict((c, i) for i, c in enumerate(chars))\n",
    "index_to_char = dict((i, c) for i, c in enumerate(chars))\n",
    "\n",
    "STEP = 3\n",
    "SEQ_LENGTH = 40\n",
    "\n",
    "sentences = []\n",
    "next_chars = []\n",
    "for i in range(0, len(text) - SEQ_LENGTH, STEP):\n",
    "    sentences.append(text[i: i + SEQ_LENGTH])\n",
    "    next_chars.append(text[i + SEQ_LENGTH])\n",
    "\n",
    "print('Train sequences:', len(sentences))\n",
    "\n",
    "print('Vectorization...')\n",
    "X = np.zeros((len(sentences), SEQ_LENGTH), dtype=np.uint8)\n",
    "y = np.zeros(len(sentences), dtype=np.uint8)\n",
    "\n",
    "for i, sentence in enumerate(sentences):\n",
    "    for j, char in enumerate(sentence):\n",
    "        X[i, j] = char_to_index[char]\n",
    "    y[i] = char_to_index[next_chars[i]]\n",
    "\n",
    "# one-hot encoding\n",
    "y = tf.keras.utils.to_categorical(y, num_classes=len(chars))"
   ]
  },
  {
   "cell_type": "markdown",
   "metadata": {},
   "source": [
    "## Задаем архитектуру сети"
   ]
  },
  {
   "cell_type": "code",
   "execution_count": null,
   "metadata": {},
   "outputs": [],
   "source": [
    "# build the model: a single LSTM\n",
    "print('Build model...')\n",
    "model = tf.keras.Sequential([\n",
    "    tf.keras.layers.Embedding(input_dim=len(chars),\n",
    "                              output_dim=64,\n",
    "                              input_length=SEQ_LENGTH),\n",
    "    tf.keras.layers.LSTM(256, return_sequences=True),\n",
    "    tf.keras.layers.LSTM(128, return_sequences=False),\n",
    "    tf.keras.layers.Dense(len(chars), activation='softmax')\n",
    "], name='next_char_generator')\n",
    "\n",
    "model.summary()"
   ]
  },
  {
   "cell_type": "code",
   "execution_count": null,
   "metadata": {},
   "outputs": [],
   "source": [
    "optimizer = tf.keras.optimizers.Adam(lr=1e-2)\n",
    "model.compile(loss='categorical_crossentropy', optimizer=optimizer)"
   ]
  },
  {
   "cell_type": "markdown",
   "metadata": {},
   "source": [
    "## Возвращает индекс выбранного символа для вектора вероятностей"
   ]
  },
  {
   "cell_type": "code",
   "execution_count": null,
   "metadata": {},
   "outputs": [],
   "source": [
    "import sys\n",
    "\n",
    "def sample(preds, temperature = 1.0):\n",
    "    # helper function to sample an index from a probability array\n",
    "    preds = np.asarray(preds).astype('float64')\n",
    "    preds = np.log(preds + 1e-32) / temperature\n",
    "    exp_preds = np.exp(preds)\n",
    "    preds = exp_preds / np.sum(exp_preds)\n",
    "    probas = np.random.multinomial(1, preds, 1)\n",
    "    return np.argmax(probas)\n",
    "\n",
    "def generate(model, input_text, diversity, steps=400):\n",
    "    print()\n",
    "    print('----- Diversity:', diversity)\n",
    "\n",
    "    sentence = input_text\n",
    "    print('----- Generating with seed: \"' + input_text + '\"')\n",
    "    sys.stdout.write(sentence)\n",
    "\n",
    "    for i in range(steps):\n",
    "        x = np.zeros((1, SEQ_LENGTH))\n",
    "        for j, char in enumerate(sentence):\n",
    "            x[0, j] = char_to_index[char]\n",
    "\n",
    "        preds = model.predict(x, verbose=0)[0]\n",
    "        next_index = sample(preds, diversity)\n",
    "        next_char = index_to_char[next_index]\n",
    "\n",
    "        sentence = sentence[1:] + next_char\n",
    "\n",
    "        sys.stdout.write(next_char)\n",
    "        sys.stdout.flush()\n",
    "    print()"
   ]
  },
  {
   "cell_type": "markdown",
   "metadata": {},
   "source": [
    "## Запускаем обучение"
   ]
  },
  {
   "cell_type": "code",
   "execution_count": null,
   "metadata": {
    "scrolled": false
   },
   "outputs": [],
   "source": [
    "for iteration in range(1, 60):\n",
    "    print()\n",
    "    print('-' * 50)\n",
    "    print('Iteration', iteration)\n",
    "    model.fit(X, y,\n",
    "              batch_size=512,\n",
    "              epochs=1)\n",
    "\n",
    "    start_index = np.random.randint(len(text) - SEQ_LENGTH)\n",
    "    seed_text = text[start_index: start_index + SEQ_LENGTH]\n",
    "\n",
    "    for diversity in [0.1, 0.3, 0.5]:\n",
    "        generate(model, seed_text, diversity)"
   ]
  },
  {
   "cell_type": "markdown",
   "metadata": {},
   "source": [
    "## Предсказания на предобученной модели"
   ]
  },
  {
   "cell_type": "code",
   "execution_count": null,
   "metadata": {},
   "outputs": [],
   "source": [
    "model.load_weights('data/karenina/text-lstm.hdf5')"
   ]
  },
  {
   "cell_type": "code",
   "execution_count": null,
   "metadata": {},
   "outputs": [],
   "source": [
    "start_index = np.random.randint(len(text) - SEQ_LENGTH)\n",
    "seed_text = text[start_index: start_index + SEQ_LENGTH]\n",
    "\n",
    "for diversity in [0.1, 0.3, 0.5]:\n",
    "    generate(model, seed_text, diversity)"
   ]
  }
 ],
 "metadata": {
  "kernelspec": {
   "display_name": "Python 3",
   "language": "python",
   "name": "python3"
  },
  "language_info": {
   "codemirror_mode": {
    "name": "ipython",
    "version": 3
   },
   "file_extension": ".py",
   "mimetype": "text/x-python",
   "name": "python",
   "nbconvert_exporter": "python",
   "pygments_lexer": "ipython3",
   "version": "3.7.3"
  }
 },
 "nbformat": 4,
 "nbformat_minor": 2
}

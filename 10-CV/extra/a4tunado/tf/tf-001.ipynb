{
 "cells": [
  {
   "cell_type": "markdown",
   "metadata": {},
   "source": [
    "# Начало работы с Tensorflow"
   ]
  },
  {
   "cell_type": "code",
   "execution_count": null,
   "metadata": {},
   "outputs": [],
   "source": [
    "%matplotlib inline\n",
    "import numpy as np\n",
    "import tensorflow as tf\n",
    "from matplotlib import pyplot as plt"
   ]
  },
  {
   "cell_type": "markdown",
   "metadata": {},
   "source": [
    "https://www.tensorflow.org/programmers_guide"
   ]
  },
  {
   "cell_type": "markdown",
   "metadata": {},
   "source": [
    "<img src=\"tensors_flowing.gif\"/>"
   ]
  },
  {
   "cell_type": "markdown",
   "metadata": {},
   "source": [
    "# Подбираем коэффициенты полинома: y = w1 * x^2 + w2 * x + w3"
   ]
  },
  {
   "cell_type": "markdown",
   "metadata": {},
   "source": [
    "## Задаем граф выичлений"
   ]
  },
  {
   "cell_type": "code",
   "execution_count": null,
   "metadata": {},
   "outputs": [],
   "source": [
    "# узлы в графе - тензоры, операции в графе задают связь между тензорами\n",
    "# https://www.tensorflow.org/guide/graphs\n",
    "graph = tf.Graph()\n",
    "\n",
    "with graph.as_default():\n",
    "    # с помощью tf.placeholder мы  \n",
    "    # передаем данные из python в граф Tensorflow\n",
    "    # первая позиция размерности задает число примеров в батче\n",
    "    x = tf.placeholder(tf.float32, shape=[None], name='x')  # входное значение\n",
    "    y = tf.placeholder(tf.float32, shape=[None], name='y')  # ожидаемый ответ\n",
    "    \n",
    "    # переменные позволяют сохранять значения в графе между вызовами\n",
    "    # https://tensorflow.org/guide/variables\n",
    "    with tf.variable_scope('coefficients') as scope:\n",
    "        # создаем переменную для коэффициентов полинома\n",
    "        w = tf.get_variable('w', initializer = tf.random_normal([3, 1], stddev=0.1))\n",
    "    \n",
    "    # вычисляем ответ для заданного x\n",
    "    with tf.name_scope('prediction') as scope:\n",
    "        poly = tf.stack([x**2, x, tf.ones_like(x)], axis=1, name='poly')\n",
    "        y_pred = tf.matmul(poly, w)  # y_pred = w1 * x^2 + w2 * x + w3"
   ]
  },
  {
   "cell_type": "markdown",
   "metadata": {},
   "source": [
    "## Функция потерь и оптимизатор"
   ]
  },
  {
   "cell_type": "code",
   "execution_count": null,
   "metadata": {},
   "outputs": [],
   "source": [
    "# для подбора коэффициентов полинома используем оптимизатор\n",
    "optimizer = tf.train.GradientDescentOptimizer(learning_rate=3e-4)\n",
    "\n",
    "with graph.as_default():\n",
    "    # минимизируем среднеквадратичное отклонение (MSE)\n",
    "    with tf.name_scope('loss') as scope:\n",
    "        mse_loss = tf.losses.mean_squared_error(y, y_pred[:, 0])\n",
    "        \n",
    "    # оптимизатор создает операцию обновления переменных графа\n",
    "    train_step = optimizer.minimize(mse_loss)"
   ]
  },
  {
   "cell_type": "markdown",
   "metadata": {},
   "source": [
    "## Обучение"
   ]
  },
  {
   "cell_type": "code",
   "execution_count": null,
   "metadata": {},
   "outputs": [],
   "source": [
    "# задаем коэффициенты\n",
    "# полинома для генерации данных\n",
    "POLY_COEFFS = [5, 7, 10]  \n",
    "\n",
    "# генератор данных\n",
    "def generate_data(batch_size=100):\n",
    "    # y = w1 * x^2 + w2 * x + w3 + noise\n",
    "    x = np.random.uniform(-10.0, 10.0, size=batch_size)\n",
    "    poly = np.stack([x**2, x, np.ones_like(x)], axis=1)\n",
    "    y = np.matmul(poly, POLY_COEFFS) + np.random.normal(size=batch_size)\n",
    "    return x, y"
   ]
  },
  {
   "cell_type": "code",
   "execution_count": null,
   "metadata": {
    "scrolled": false
   },
   "outputs": [],
   "source": [
    "loss_history = []\n",
    "\n",
    "# граф выполняется в рамках сессии\n",
    "# по завершении сесси текущие значения\n",
    "# переменных перестают быть доступными\n",
    "with tf.Session(graph=graph) as sess:\n",
    "    # инициализируем переменные (параметры модели)\n",
    "    sess.run(tf.global_variables_initializer())\n",
    "    \n",
    "    for i in range(10000):  # запускаем обучение\n",
    "        # генерируем случайный набор данных\n",
    "        # и выполняем операции на заданном семпле\n",
    "        batch_x, batch_y = generate_data(batch_size=100)\n",
    "        _, mse = sess.run([train_step, mse_loss],\n",
    "                          feed_dict = {x: batch_x,\n",
    "                                       y: batch_y})\n",
    "        \n",
    "        loss_history.append(mse)\n",
    "        if (i + 1) % 100 == 0:\n",
    "            print('MSE[%04d]: %.3f' % (i + 1, mse))\n",
    "\n",
    "    # сравниваем подобранные веса с истинными значениями\n",
    "    print('Real coeffs: %s' % POLY_COEFFS)\n",
    "    print('Estimated coeffs: %s' % w.eval()[:, 0])      "
   ]
  },
  {
   "cell_type": "markdown",
   "metadata": {},
   "source": [
    "## Визуализируем кривую обучения"
   ]
  },
  {
   "cell_type": "code",
   "execution_count": null,
   "metadata": {},
   "outputs": [],
   "source": [
    "plt.plot(loss_history[50:])\n",
    "plt.title('Lerning Сurve')\n",
    "plt.xlabel('iteration')\n",
    "plt.ylabel('mse');"
   ]
  },
  {
   "cell_type": "markdown",
   "metadata": {
    "collapsed": true
   },
   "source": [
    "## Визуализация графа вычислений"
   ]
  },
  {
   "cell_type": "code",
   "execution_count": null,
   "metadata": {},
   "outputs": [],
   "source": [
    "## удаляем логи предыдущих запусков\n",
    "# !rm -rf ./log/001/*"
   ]
  },
  {
   "cell_type": "code",
   "execution_count": null,
   "metadata": {},
   "outputs": [],
   "source": [
    "with tf.Session(graph=graph) as sess:\n",
    "    # сохраняем граф вычислений на диск\n",
    "    writer = tf.summary.FileWriter('log/001', sess.graph)\n",
    "    writer.close()"
   ]
  },
  {
   "cell_type": "code",
   "execution_count": null,
   "metadata": {},
   "outputs": [],
   "source": [
    "# запускаем интерфейс визуализации\n",
    "!tensorboard --port 8800 --host 0.0.0.0 --logdir ./log/001"
   ]
  }
 ],
 "metadata": {
  "kernelspec": {
   "display_name": "Python 3",
   "language": "python",
   "name": "python3"
  },
  "language_info": {
   "codemirror_mode": {
    "name": "ipython",
    "version": 3
   },
   "file_extension": ".py",
   "mimetype": "text/x-python",
   "name": "python",
   "nbconvert_exporter": "python",
   "pygments_lexer": "ipython3",
   "version": "3.6.4"
  }
 },
 "nbformat": 4,
 "nbformat_minor": 2
}

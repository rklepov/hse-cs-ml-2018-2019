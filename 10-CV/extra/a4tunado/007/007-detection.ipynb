{
 "cells": [
  {
   "cell_type": "markdown",
   "metadata": {},
   "source": [
    "# The Nature Conservancy Fisheries Monitoring"
   ]
  },
  {
   "cell_type": "markdown",
   "metadata": {},
   "source": [
    "https://www.kaggle.com/c/the-nature-conservancy-fisheries-monitoring"
   ]
  },
  {
   "cell_type": "code",
   "execution_count": 2,
   "metadata": {
    "_kg_hide-output": true,
    "_uuid": "784aaee522ae53eff2274a388350b1b1dd60649b"
   },
   "outputs": [
    {
     "name": "stdout",
     "output_type": "stream",
     "text": [
      "2.2.0\n"
     ]
    }
   ],
   "source": [
    "import cv2\n",
    "import numpy as np\n",
    "import pandas as pd\n",
    "import tensorflow as tf\n",
    "\n",
    "print(tf.__version__)"
   ]
  },
  {
   "cell_type": "markdown",
   "metadata": {
    "_uuid": "263db29157d5633d6f9e7340ab5efec72c677b66"
   },
   "source": [
    "# Загружаем разметку"
   ]
  },
  {
   "cell_type": "code",
   "execution_count": null,
   "metadata": {
    "_uuid": "76496f443d36d16b961aeef10b365e3822b06a2b"
   },
   "outputs": [],
   "source": [
    "import os\n",
    "import json\n",
    "from glob import glob\n",
    "\n",
    "TRAIN_PREFIX = 'data/fish/train'\n",
    "\n",
    "def load_annotations():\n",
    "    boxes = dict()\n",
    "    for path in glob('data/fish/boxes/*.json'):\n",
    "        label = os.path.basename(path).split('_', 1)[0]\n",
    "        with open(path) as src:\n",
    "            for annotation in json.load(src):\n",
    "                basename = os.path.basename(annotation['filename'])\n",
    "                annotation['filename'] = os.path.join(\n",
    "                    TRAIN_PREFIX, label.upper(), basename)\n",
    "                for rect in annotation['annotations']:\n",
    "                    rect['x'] += rect['width'] / 2\n",
    "                    rect['y'] += rect['height'] / 2\n",
    "                if os.path.isfile(annotation['filename']):\n",
    "                    boxes.setdefault(label, []).append(annotation)\n",
    "    return boxes\n",
    "\n",
    "def draw_boxes(annotation, rectangles=None, image_size=None):\n",
    "    \n",
    "    def _draw(img, rectangles, scale_x, scale_y, color=(0, 255, 0)):\n",
    "        for rect in rectangles:\n",
    "            pt1 = (int((rect['x'] - rect['width'] / 2) * scale_x),\n",
    "                   int((rect['y'] - rect['height'] / 2) * scale_y))\n",
    "            pt2 = (int((rect['x'] + rect['width'] / 2) * scale_x),\n",
    "                   int((rect['y'] + rect['height'] / 2) * scale_y))\n",
    "            img = cv2.rectangle(img.copy(), pt1, pt2, \n",
    "                                color=color, thickness=4)\n",
    "        return img\n",
    "    \n",
    "    scale_x, scale_y = 1., 1.\n",
    "    \n",
    "    img = cv2.imread(annotation['filename'], cv2.IMREAD_COLOR)[...,::-1]\n",
    "    if image_size is not None:\n",
    "        scale_x = 1. * image_size[0] / img.shape[1]\n",
    "        scale_y = 1. * image_size[1] / img.shape[0]\n",
    "        img = cv2.resize(img, image_size)\n",
    "        \n",
    "    img = _draw(img, annotation.get('annotations', []), scale_x, scale_y)\n",
    "    \n",
    "    if rectangles is not None:\n",
    "        img = _draw(img, rectangles, 1., 1., (255, 0, 0))\n",
    "\n",
    "    return img"
   ]
  },
  {
   "cell_type": "markdown",
   "metadata": {},
   "source": [
    "### Визуализируем разметку"
   ]
  },
  {
   "cell_type": "code",
   "execution_count": null,
   "metadata": {},
   "outputs": [],
   "source": [
    "boxes = load_annotations()  # загружаем разметку детекций"
   ]
  },
  {
   "cell_type": "code",
   "execution_count": null,
   "metadata": {},
   "outputs": [],
   "source": [
    "pd.DataFrame(\n",
    "    [(k, len(v)) for k, v in boxes.items()],\n",
    "    columns=['class', 'count'])"
   ]
  },
  {
   "cell_type": "code",
   "execution_count": null,
   "metadata": {
    "_uuid": "bb49d388931db2cbd5d8f08b9104299ca90a8c5a"
   },
   "outputs": [],
   "source": [
    "from matplotlib import pyplot as plt\n",
    "\n",
    "\n",
    "annotation = boxes['lag'][0]\n",
    "img = draw_boxes(annotation)\n",
    "\n",
    "plt.figure(figsize=(6, 6), dpi=120)\n",
    "plt.imshow(img)\n",
    "plt.title('{} {}x{}'.format(\n",
    "    annotation['filename'], img.shape[0], img.shape[1]));"
   ]
  },
  {
   "cell_type": "markdown",
   "metadata": {
    "_uuid": "0caa7502a0deb8e5e18773b6d2be8ed2f8d0dd4f"
   },
   "source": [
    "### Распределение размеров разметки"
   ]
  },
  {
   "cell_type": "code",
   "execution_count": null,
   "metadata": {
    "_uuid": "8db3e3e9aa63c1216d3a1f13526d74ab3abe31a8"
   },
   "outputs": [],
   "source": [
    "annotations = sum([box['annotations']\n",
    "                   for box in sum(boxes.values(), [])], [])\n",
    "\n",
    "widths = [rect['width'] for rect in annotations]\n",
    "heights = [rect['height'] for rect in annotations]\n",
    "\n",
    "plt.hist(widths)\n",
    "plt.hist(heights);"
   ]
  },
  {
   "cell_type": "markdown",
   "metadata": {
    "_uuid": "b01ffd790e6e7a81bfee104faa4bfa84ad7597c8"
   },
   "source": [
    "# Экстрактор признаков"
   ]
  },
  {
   "cell_type": "code",
   "execution_count": null,
   "metadata": {
    "_uuid": "f3e6d68bd5e0c8a97319185f25a3b25673482606"
   },
   "outputs": [],
   "source": [
    "from tensorflow.keras.applications import vgg16\n",
    "\n",
    "IMG_HEIGHT = 750\n",
    "IMG_WIDTH = 1200\n",
    "\n",
    "features = vgg16.VGG16(weights='imagenet',\n",
    "                       include_top=False,\n",
    "                       input_shape=(IMG_HEIGHT, IMG_WIDTH, 3))\n",
    "\n",
    "# дообучаем последние 5 слоев\n",
    "for layer in features.layers[:-5]:\n",
    "    layer.trainable = False\n",
    "    \n",
    "feature_tensor = features.layers[-1].output\n",
    "print(feature_tensor.shape)"
   ]
  },
  {
   "cell_type": "markdown",
   "metadata": {
    "_uuid": "ac4e46072546760703354bd43fa09c5d6bd69fb9"
   },
   "source": [
    "# Сетка якорей (anchor grid)"
   ]
  },
  {
   "cell_type": "code",
   "execution_count": null,
   "metadata": {
    "_uuid": "9d267722da49aad29f4bd4b625473295c3293e5f"
   },
   "outputs": [],
   "source": [
    "FEATURE_SHAPE = (feature_tensor.shape[1],\n",
    "                 feature_tensor.shape[2])\n",
    "\n",
    "GRID_STEP_H = IMG_HEIGHT / FEATURE_SHAPE[0]\n",
    "GRID_STEP_W = IMG_WIDTH / FEATURE_SHAPE[1]\n",
    "\n",
    "ANCHOR_WIDTH = 150.\n",
    "ANCHOR_HEIGHT = 150. \n",
    "\n",
    "# сетка якорей, размер определяется соотношением \n",
    "# размера входного изображения и размером тензора признаков\n",
    "ANCHOR_CENTERS = np.mgrid[GRID_STEP_H/2:IMG_HEIGHT:GRID_STEP_H,\n",
    "                          GRID_STEP_W/2:IMG_WIDTH:GRID_STEP_W]"
   ]
  },
  {
   "cell_type": "code",
   "execution_count": null,
   "metadata": {
    "_cell_guid": "79c7e3d0-c299-4dcb-8224-4455121ee9b0",
    "_uuid": "d629ff2d2480ee46fbb7e2d37f6b5fab8052498a"
   },
   "outputs": [],
   "source": [
    "def iou(rect, x_scale, y_scale, anchor_x, anchor_y,\n",
    "        anchor_w=ANCHOR_WIDTH, anchor_h=ANCHOR_HEIGHT):\n",
    "    \n",
    "    rect_x1 = (rect['x'] - rect['width'] / 2) * x_scale\n",
    "    rect_x2 = (rect['x'] + rect['width'] / 2) * x_scale\n",
    "    \n",
    "    rect_y1 = (rect['y'] - rect['height'] / 2) * y_scale\n",
    "    rect_y2 = (rect['y'] + rect['height'] / 2) * y_scale\n",
    "    \n",
    "    anch_x1, anch_x2 = anchor_x - anchor_w / 2, anchor_x + anchor_w / 2\n",
    "    anch_y1, anch_y2 = anchor_y - anchor_h / 2, anchor_y + anchor_h / 2\n",
    "    \n",
    "    dx = (min(rect_x2, anch_x2) - max(rect_x1, anch_x1))\n",
    "    dy = (min(rect_y2, anch_y2) - max(rect_y1, anch_y1))\n",
    "    \n",
    "    intersection = dx * dy if (dx > 0 and dy > 0) else 0.\n",
    "    \n",
    "    anch_square = (anch_x2 - anch_x1) * (anch_y2 - anch_y1)\n",
    "    rect_square = (rect_x2 - rect_x1) * (rect_y2 - rect_y1)\n",
    "    union = anch_square + rect_square - intersection\n",
    "    \n",
    "    return intersection / union\n",
    "\n",
    "def encode_anchors(annotation, img_shape, iou_thr=0.5):\n",
    "    encoded = np.zeros(shape=(FEATURE_SHAPE[0],\n",
    "                              FEATURE_SHAPE[1], 5), dtype=np.float32)\n",
    "    x_scale = 1. * IMG_WIDTH / img_shape[1]\n",
    "    y_scale = 1. * IMG_HEIGHT / img_shape[0]\n",
    "    for rect in annotation['annotations']:\n",
    "        scores = []\n",
    "        for row in range(FEATURE_SHAPE[0]):\n",
    "            for col in range(FEATURE_SHAPE[1]):\n",
    "                anchor_x = ANCHOR_CENTERS[1, row, col]\n",
    "                anchor_y = ANCHOR_CENTERS[0, row, col]\n",
    "                score = iou(rect, x_scale, y_scale, anchor_x, anchor_y)\n",
    "                scores.append((score, anchor_x, anchor_y, row, col))\n",
    "        \n",
    "        scores = sorted(scores, reverse=True)\n",
    "        if scores[0][0] < iou_thr:\n",
    "            scores = [scores[0]]  # default anchor\n",
    "        else:\n",
    "            scores = [e for e in scores if e[0] > iou_thr]\n",
    "\n",
    "        for score, anchor_x, anchor_y, row, col in scores:\n",
    "            dx = (anchor_x - rect['x'] * x_scale) / ANCHOR_WIDTH\n",
    "            dy = (anchor_y - rect['y'] * y_scale) / ANCHOR_HEIGHT\n",
    "            dw = (ANCHOR_WIDTH - rect['width'] * x_scale) / ANCHOR_WIDTH\n",
    "            dh = (ANCHOR_HEIGHT - rect['height'] * y_scale) / ANCHOR_HEIGHT\n",
    "            encoded[row, col] = [1., dx, dy, dw, dh]\n",
    "            \n",
    "    return encoded\n",
    "\n",
    "def _sigmoid(x):\n",
    "    return 1. / (1. + np.exp(-x))\n",
    "\n",
    "def decode_prediction(prediction, conf_thr=0.1):\n",
    "    rectangles = []\n",
    "    for row in range(FEATURE_SHAPE[0]):\n",
    "        for col in range(FEATURE_SHAPE[1]):\n",
    "            logit, dx, dy, dw, dh = prediction[row, col]\n",
    "            conf = _sigmoid(logit)\n",
    "            if conf > conf_thr:\n",
    "                anchor_x = ANCHOR_CENTERS[1, row, col]\n",
    "                anchor_y = ANCHOR_CENTERS[0, row, col]\n",
    "                rectangles.append({'x': anchor_x - dx * ANCHOR_WIDTH,\n",
    "                                   'y': anchor_y - dy * ANCHOR_HEIGHT,\n",
    "                                   'width': ANCHOR_WIDTH - dw * ANCHOR_WIDTH,\n",
    "                                   'height': ANCHOR_HEIGHT - dh * ANCHOR_HEIGHT,\n",
    "                                   'conf': conf})\n",
    "    return rectangles\n",
    "\n",
    "def non_max_suppression(rectangles, max_output_size, iou_threshold=0.5):\n",
    "    if not rectangles:\n",
    "        return rectangles\n",
    "    \n",
    "    boxes = [[r['y'],\n",
    "              r['x'],\n",
    "              r['y'] + r['height'],\n",
    "              r['x'] + r['width']] for r in rectangles]\n",
    "    scores = [r['conf'] for r in rectangles]\n",
    "    indices = tf.image.non_max_suppression(np.array(boxes),\n",
    "                                           np.array(scores),\n",
    "                                           max_output_size,\n",
    "                                           iou_threshold)\n",
    "    \n",
    "    return [rectangles[i] for i in indices]"
   ]
  },
  {
   "cell_type": "markdown",
   "metadata": {},
   "source": [
    "### Валидация энкодинга/декодинга якорей"
   ]
  },
  {
   "cell_type": "code",
   "execution_count": null,
   "metadata": {
    "scrolled": false
   },
   "outputs": [],
   "source": [
    "annotation = boxes['lag'][0]\n",
    "\n",
    "encoded = encode_anchors(annotation,\n",
    "                         img_shape=(IMG_HEIGHT, IMG_WIDTH),\n",
    "                         iou_thr=0.5)\n",
    "\n",
    "decoded = decode_prediction(encoded, conf_thr=0.7)\n",
    "decoded = sorted(decoded, key = lambda e: -e['conf'])\n",
    "\n",
    "plt.figure(figsize=(6, 6), dpi=120)\n",
    "plt.imshow(draw_boxes(annotation, decoded))\n",
    "plt.title('{} {}x{}'.format(\n",
    "    annotation['filename'], img.shape[0], img.shape[1]));"
   ]
  },
  {
   "cell_type": "markdown",
   "metadata": {
    "_uuid": "69b77cba0531fd1ed1c2634e929bee24ac068f7a"
   },
   "source": [
    "## Функция потерь"
   ]
  },
  {
   "cell_type": "code",
   "execution_count": null,
   "metadata": {
    "_uuid": "52a6271f7fabac76acec4013093bc35a7f1dc335"
   },
   "outputs": [],
   "source": [
    "K = tf.keras.backend\n",
    "\n",
    "def confidence_loss(y_true, y_pred):\n",
    "    conf_loss = K.binary_crossentropy(y_true[..., 0], \n",
    "                                      y_pred[..., 0],\n",
    "                                      from_logits=True)\n",
    "    return conf_loss\n",
    "\n",
    "def smooth_l1(y_true, y_pred):\n",
    "    abs_loss = K.abs(y_true[..., 1:] - y_pred[..., 1:])\n",
    "    square_loss = 0.5 * K.square(y_true[..., 1:] - y_pred[..., 1:])\n",
    "    mask = K.cast(K.greater(abs_loss, 1.), 'float32')\n",
    "    total_loss = (abs_loss - 0.5) * mask + 0.5 * square_loss * (1. - mask)\n",
    "    return K.sum(total_loss, axis=-1)\n",
    "\n",
    "def total_loss(y_true, y_pred, neg_pos_ratio=3):\n",
    "    batch_size = K.shape(y_true)[0]\n",
    "    \n",
    "    # TODO: добавьте функцию потерь для классификации детекции\n",
    "    \n",
    "    y_true = K.reshape(y_true, (batch_size, -1, 5))\n",
    "    y_pred = K.reshape(y_pred, (batch_size, -1, 5))\n",
    "\n",
    "    # confidence loss\n",
    "    conf_loss = confidence_loss(y_true, y_pred)\n",
    "    \n",
    "    # smooth l1 loss\n",
    "    loc_loss = smooth_l1(y_true, y_pred)\n",
    "    \n",
    "    # positive examples loss\n",
    "    pos_conf_loss = K.sum(conf_loss * y_true[..., 0], axis=-1)\n",
    "    pos_loc_loss = K.sum(loc_loss * y_true[..., 0], axis=-1)\n",
    "    \n",
    "    # negative examples loss\n",
    "    anchors = K.shape(y_true)[1]\n",
    "    num_pos = K.sum(y_true[..., 0], axis=-1)\n",
    "    num_pos_avg = K.mean(num_pos)\n",
    "    num_neg = K.min([neg_pos_ratio * (num_pos_avg) + 1., K.cast(anchors, 'float32')])\n",
    "    \n",
    "    # hard negative mining\n",
    "    neg_conf_loss, _ = tf.nn.top_k(conf_loss * (1. - y_true[..., 0]),\n",
    "                                   k=K.cast(num_neg, 'int32'))\n",
    "\n",
    "    neg_conf_loss = K.sum(neg_conf_loss, axis=-1)\n",
    "    \n",
    "    # total conf loss\n",
    "    total_conf_loss = (neg_conf_loss + pos_conf_loss) / (num_neg + num_pos + 1e-32)\n",
    "    loc_loss = pos_loc_loss / (num_pos + 1e-32)\n",
    "    \n",
    "    return total_conf_loss + 0.5 * loc_loss"
   ]
  },
  {
   "cell_type": "markdown",
   "metadata": {},
   "source": [
    "## Загрузка данных"
   ]
  },
  {
   "cell_type": "code",
   "execution_count": null,
   "metadata": {},
   "outputs": [],
   "source": [
    "from random import shuffle\n",
    "\n",
    "def load_img(path, target_size=(IMG_WIDTH, IMG_HEIGHT)):\n",
    "    img = cv2.imread(path, cv2.IMREAD_COLOR)[...,::-1]\n",
    "    img_shape = img.shape\n",
    "    img_resized = cv2.resize(img, target_size)\n",
    "    return img_shape, vgg16.preprocess_input(img_resized.astype(np.float32))\n",
    "\n",
    "def data_generator(boxes, batch_size=32):\n",
    "    boxes = sum(boxes.values(), [])\n",
    "    while True:\n",
    "        shuffle(boxes)\n",
    "        for i in range(len(boxes)//batch_size):\n",
    "            X, y = [], []\n",
    "            for j in range(i*batch_size,(i+1)*batch_size):\n",
    "                img_shape, img = load_img(boxes[j]['filename'])\n",
    "                # TODO: добавьте one-hot encoding в разметку для классов\n",
    "                y.append(encode_anchors(boxes[j], img_shape))\n",
    "                X.append(img)\n",
    "            yield np.array(X), np.array(y)"
   ]
  },
  {
   "cell_type": "markdown",
   "metadata": {},
   "source": [
    "## Добавляем выход детектора"
   ]
  },
  {
   "cell_type": "code",
   "execution_count": null,
   "metadata": {
    "_uuid": "a8904e155a9d956eecccd59a9b104bcfd20c44e1"
   },
   "outputs": [],
   "source": [
    "output = tf.keras.layers.BatchNormalization()(feature_tensor)\n",
    "\n",
    "# TODO: добавьте выходы для классификации детекции\n",
    "output = tf.keras.layers.Conv2D(5,\n",
    "                                kernel_size=(1, 1), \n",
    "                                activation='linear',\n",
    "                                kernel_regularizer='l2')(output)\n",
    "\n",
    "model = tf.keras.models.Model(inputs=features.inputs, outputs=output)\n",
    "model.summary()"
   ]
  },
  {
   "cell_type": "markdown",
   "metadata": {},
   "source": [
    "## Обучение"
   ]
  },
  {
   "cell_type": "code",
   "execution_count": null,
   "metadata": {},
   "outputs": [],
   "source": [
    "adam = tf.keras.optimizers.Adam(lr=3e-4, decay=1e-6)\n",
    "model.compile(optimizer=adam, \n",
    "              loss=total_loss,\n",
    "              metrics=[confidence_loss])"
   ]
  },
  {
   "cell_type": "code",
   "execution_count": null,
   "metadata": {
    "_uuid": "88d52a3e5e2f887dcf4cb295c62c3820c97f0db9",
    "scrolled": false
   },
   "outputs": [],
   "source": [
    "batch_size = 5\n",
    "\n",
    "gen = data_generator(boxes, batch_size=batch_size)\n",
    "steps_per_epoch = sum(map(len, boxes.values()), 0) / batch_size\n",
    "\n",
    "checkpoint = tf.keras.callbacks.ModelCheckpoint(\n",
    "    'fishdetector.hdf5',\n",
    "    monitor='loss',\n",
    "    verbose=1,  \n",
    "    save_best_only=True, \n",
    "    save_weights_only=False,\n",
    "    mode='auto',\n",
    "    save_freq=10)\n",
    "\n",
    "model.fit(gen, \n",
    "          steps_per_epoch=steps_per_epoch,\n",
    "          epochs=100,\n",
    "          callbacks=[checkpoint])"
   ]
  },
  {
   "cell_type": "markdown",
   "metadata": {},
   "source": [
    "## Результат работы детектора"
   ]
  },
  {
   "cell_type": "code",
   "execution_count": null,
   "metadata": {},
   "outputs": [],
   "source": [
    "# model.load_weights('data/fish/fishdetector_weights.hdf5')"
   ]
  },
  {
   "cell_type": "code",
   "execution_count": null,
   "metadata": {
    "_uuid": "6d6d87b271aad9b6f5135870c464f613fce3a31c"
   },
   "outputs": [],
   "source": [
    "annotation = boxes['lag'][0]\n",
    "\n",
    "_, sample_img = load_img(annotation['filename'])\n",
    "pred = model.predict(np.array([sample_img,]))\n",
    "\n",
    "decoded = decode_prediction(pred[0], conf_thr=0.2)\n",
    "decoded = non_max_suppression(decoded,\n",
    "                              max_output_size=5,\n",
    "                              iou_threshold=0.1)\n",
    "\n",
    "plt.figure(figsize=(6, 6), dpi=120)\n",
    "img = draw_boxes(annotation, decoded, (IMG_WIDTH, IMG_HEIGHT))\n",
    "plt.imshow(img)\n",
    "plt.title('Предсказание модели {}x{}'.format(*img.shape));"
   ]
  },
  {
   "cell_type": "markdown",
   "metadata": {},
   "source": [
    "## Визуализируем предсказание на тесте"
   ]
  },
  {
   "cell_type": "code",
   "execution_count": null,
   "metadata": {
    "scrolled": false
   },
   "outputs": [],
   "source": [
    "test_images = glob('data/fish/test_stg1/*.jpg')[:5]\n",
    "\n",
    "\n",
    "plt.figure(figsize=(6, 4 * len(test_images)), dpi=120)\n",
    "\n",
    "for i, filename in enumerate(test_images):\n",
    "    _, sample_img = load_img(filename)\n",
    "    pred = model.predict(np.array([sample_img,]))\n",
    "\n",
    "    decoded = decode_prediction(pred[0], conf_thr=0.0)\n",
    "    decoded = non_max_suppression(decoded,\n",
    "                                  max_output_size=2,\n",
    "                                  iou_threshold=0.1)\n",
    "    \n",
    "    plt.subplot(len(test_images), 1, i + 1)\n",
    "    img = draw_boxes({'filename': filename}, decoded, (IMG_WIDTH, IMG_HEIGHT))\n",
    "    plt.imshow(img)\n",
    "    plt.title('Предсказание на тесте {}'.format(filename));"
   ]
  },
  {
   "cell_type": "markdown",
   "metadata": {},
   "source": [
    "## Агрегация результатов"
   ]
  },
  {
   "cell_type": "code",
   "execution_count": null,
   "metadata": {},
   "outputs": [],
   "source": [
    "# TODO: предскажите класс рыбы для фотографии из тестовой выборки\n",
    "#\n",
    "# Подготовьте файл с предсказаниями вероятностей для каждой фотографии:\n",
    "# image,ALB,BET,DOL,LAG,NoF,OTHER,SHARK,YFT\n",
    "# img_00001.jpg,1,0,0,0,0,...,0\n",
    "# img_00002.jpg,0.3,0.1,0.6,0,...,0"
   ]
  }
 ],
 "metadata": {
  "kernelspec": {
   "display_name": "Python 3",
   "language": "python",
   "name": "python3"
  },
  "language_info": {
   "codemirror_mode": {
    "name": "ipython",
    "version": 3
   },
   "file_extension": ".py",
   "mimetype": "text/x-python",
   "name": "python",
   "nbconvert_exporter": "python",
   "pygments_lexer": "ipython3",
   "version": "3.7.3"
  }
 },
 "nbformat": 4,
 "nbformat_minor": 1
}

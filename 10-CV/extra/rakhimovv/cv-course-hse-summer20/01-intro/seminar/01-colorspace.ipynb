{
 "cells": [
  {
   "cell_type": "markdown",
   "metadata": {
    "colab_type": "text",
    "id": "hZKnBXsCgYH2"
   },
   "source": [
    "# Цветовые пространства"
   ]
  },
  {
   "cell_type": "markdown",
   "metadata": {
    "colab_type": "text",
    "id": "zHOLjZWlgYH4"
   },
   "source": [
    "## Загрузка изображения из файла"
   ]
  },
  {
   "cell_type": "code",
   "execution_count": null,
   "metadata": {
    "colab": {},
    "colab_type": "code",
    "id": "7iQ8_YpYgYH5"
   },
   "outputs": [],
   "source": [
    "import cv2\n",
    "import numpy as np"
   ]
  },
  {
   "cell_type": "code",
   "execution_count": null,
   "metadata": {
    "colab": {},
    "colab_type": "code",
    "id": "K0lu6njVgYID"
   },
   "outputs": [],
   "source": [
    "img = cv2.imread('./lena.png', cv2.IMREAD_COLOR)"
   ]
  },
  {
   "cell_type": "code",
   "execution_count": null,
   "metadata": {
    "colab": {
     "base_uri": "https://localhost:8080/",
     "height": 52
    },
    "colab_type": "code",
    "id": "L4OGAYzCgYIH",
    "outputId": "8e4a7887-8266-41b7-fa2b-5a6974aad901"
   },
   "outputs": [],
   "source": [
    "print('type: ', type(img))\n",
    "print('shape: ', img.shape)"
   ]
  },
  {
   "cell_type": "markdown",
   "metadata": {
    "colab_type": "text",
    "id": "JS0tjpQhgYIM"
   },
   "source": [
    "## Визуализация в matplotlib"
   ]
  },
  {
   "cell_type": "code",
   "execution_count": null,
   "metadata": {
    "colab": {
     "base_uri": "https://localhost:8080/",
     "height": 286
    },
    "colab_type": "code",
    "id": "xiJ1zoskgYIN",
    "outputId": "5558273b-96c2-487b-db17-5bbd886db95f"
   },
   "outputs": [],
   "source": [
    "%matplotlib inline\n",
    "from matplotlib import pyplot as plt\n",
    "plt.imshow(img)"
   ]
  },
  {
   "cell_type": "code",
   "execution_count": null,
   "metadata": {
    "colab": {
     "base_uri": "https://localhost:8080/",
     "height": 286
    },
    "colab_type": "code",
    "id": "BRnYpEzIgYIW",
    "outputId": "42c48aae-ad5d-4599-a981-6672fe185449"
   },
   "outputs": [],
   "source": [
    "# изменяем порядок каналов для визуализации (b, g, r) -> (r, g, b)\n",
    "plt.imshow(cv2.cvtColor(img, cv2.COLOR_BGR2RGB))"
   ]
  },
  {
   "cell_type": "markdown",
   "metadata": {
    "colab_type": "text",
    "id": "30wdVKrqgYIb"
   },
   "source": [
    "## Переходим в пространство цветов HSV"
   ]
  },
  {
   "cell_type": "code",
   "execution_count": null,
   "metadata": {
    "colab": {},
    "colab_type": "code",
    "id": "eLWavMUrgYIc"
   },
   "outputs": [],
   "source": [
    "img_hsv = cv2.cvtColor(img, cv2.COLOR_BGR2HSV)"
   ]
  },
  {
   "cell_type": "code",
   "execution_count": null,
   "metadata": {
    "colab": {
     "base_uri": "https://localhost:8080/",
     "height": 258
    },
    "colab_type": "code",
    "id": "4Ls8IKBBgYIm",
    "outputId": "ee5fff4e-8821-4ca2-b4a2-6497afb05573"
   },
   "outputs": [],
   "source": [
    "plt.figure(1, figsize = (16, 4))\n",
    "plt.subplot(141)\n",
    "plt.imshow(img[...,::-1])\n",
    "plt.subplot(142)\n",
    "plt.imshow(img_hsv[...,0], cmap='gray')\n",
    "plt.title('Hue')\n",
    "plt.subplot(143)\n",
    "plt.imshow(img_hsv[...,1], cmap='gray')\n",
    "plt.title('Saturation')\n",
    "plt.subplot(144)\n",
    "plt.imshow(img_hsv[...,2], cmap='gray')\n",
    "plt.title('Value');"
   ]
  },
  {
   "cell_type": "code",
   "execution_count": null,
   "metadata": {},
   "outputs": [],
   "source": [
    "plt.imshow(img_hsv)"
   ]
  },
  {
   "cell_type": "code",
   "execution_count": null,
   "metadata": {
    "colab": {
     "base_uri": "https://localhost:8080/",
     "height": 286
    },
    "colab_type": "code",
    "id": "qmGHq_aJgYIq",
    "outputId": "cb2a872b-f9ad-4db8-ffb9-db5064465569"
   },
   "outputs": [],
   "source": [
    "#Задание: напишите код переводящий HSV-изображение обратно в RGB, и выведите полученное изображение\n",
    "\n",
    "plt.imshow(...)"
   ]
  },
  {
   "cell_type": "code",
   "execution_count": null,
   "metadata": {
    "colab": {
     "base_uri": "https://localhost:8080/",
     "height": 286
    },
    "colab_type": "code",
    "id": "4UAnuVQ9gYIv",
    "outputId": "53f86b9a-c9af-48b7-d026-6ee9ce4d5cef"
   },
   "outputs": [],
   "source": [
    "#grayscale image\n",
    "plt.imshow(np.mean(img, axis=2), cmap='gray')"
   ]
  },
  {
   "cell_type": "code",
   "execution_count": null,
   "metadata": {},
   "outputs": [],
   "source": []
  }
 ],
 "metadata": {
  "colab": {
   "collapsed_sections": [],
   "include_colab_link": true,
   "name": "001-colorspace.ipynb",
   "provenance": []
  },
  "kernelspec": {
   "display_name": "Python 3",
   "language": "python",
   "name": "python3"
  },
  "language_info": {
   "codemirror_mode": {
    "name": "ipython",
    "version": 3
   },
   "file_extension": ".py",
   "mimetype": "text/x-python",
   "name": "python",
   "nbconvert_exporter": "python",
   "pygments_lexer": "ipython3",
   "version": "3.7.3"
  }
 },
 "nbformat": 4,
 "nbformat_minor": 1
}

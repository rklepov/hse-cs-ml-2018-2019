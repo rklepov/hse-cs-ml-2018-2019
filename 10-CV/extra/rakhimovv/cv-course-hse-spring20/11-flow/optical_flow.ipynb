{
 "cells": [
  {
   "cell_type": "code",
   "execution_count": 22,
   "metadata": {},
   "outputs": [],
   "source": [
    "import numpy as np\n",
    "import cv2\n",
    "import matplotlib.pyplot as plt\n",
    "\n",
    "from IPython.display import Video\n",
    "\n",
    "%matplotlib inline\n",
    "\n",
    "flow_params = {\n",
    "    'pyr_scale': 0.5, \n",
    "    'levels': 5, \n",
    "    'winsize': 11, \n",
    "    'iterations': 5, \n",
    "    'poly_n': 5, \n",
    "    'poly_sigma': 1.1, \n",
    "    'flags': 0\n",
    "}              "
   ]
  },
  {
   "cell_type": "code",
   "execution_count": 25,
   "metadata": {},
   "outputs": [],
   "source": [
    "video = cv2.VideoCapture('road.mp4')\n",
    "_, first_frame = video.read()\n",
    "scale = .7\n",
    "first_frame = cv2.resize(first_frame, None, fx=scale, fy=scale)\n",
    "prev_gray = cv2.cvtColor(first_frame, cv2.COLOR_BGR2GRAY)"
   ]
  },
  {
   "cell_type": "code",
   "execution_count": 28,
   "metadata": {},
   "outputs": [],
   "source": [
    "h, w = prev_gray.shape\n",
    "out = cv2.VideoWriter(\n",
    "    'flow.mp4', \n",
    "    cv2.VideoWriter_fourcc(*'DIVX'), #codec of video\n",
    "    video.get(cv2.CAP_PROP_FPS),  #frames per second\n",
    "    (w, h)\n",
    ")"
   ]
  },
  {
   "cell_type": "code",
   "execution_count": 32,
   "metadata": {},
   "outputs": [],
   "source": [
    "mask = np.zeros_like(first_frame)\n",
    "mask[:,:,1] = 255"
   ]
  },
  {
   "cell_type": "code",
   "execution_count": 46,
   "metadata": {},
   "outputs": [],
   "source": [
    "while(True):\n",
    "    #reading frame\n",
    "    _, frame = video.read()\n",
    "    if frame is None:\n",
    "        break\n",
    "        \n",
    "    #resizing\n",
    "    frame = cv2.resize(frame, None, fx=scale, fy=scale)\n",
    "    gray = cv2.cvtColor(frame, cv2.COLOR_BGR2GRAY)\n",
    "    \n",
    "    #calculating flow\n",
    "    flow = cv2.calcOpticalFlowFarneback(prev_gray, gray, None, **flow_params)\n",
    "    magnitude, angle = cv2.cartToPolar(flow[...,0], flow[...,1])\n",
    "    \n",
    "    #creating mask for visualizing flow\n",
    "    mask[:,:,0] = angle/2/np.pi*180\n",
    "    mask[:,:,2] = cv2.normalize(magnitude, None, 0, 255, cv2.NORM_MINMAX)\n",
    "    bgr_mask = cv2.cvtColor(mask, cv2.COLOR_HSV2BGR)\n",
    "    \n",
    "    #combining frame and mask\n",
    "    flow_image = cv2.addWeighted(frame, 1, bgr_mask, 2, 0) #=1*frame+2*bgr_mask+0\n",
    "    out.write(flow_image)\n",
    "       \n",
    "    #update\n",
    "    prev_gray = gray\n",
    "    \n",
    "#closing files\n",
    "out.release()\n",
    "video.release()"
   ]
  },
  {
   "cell_type": "code",
   "execution_count": 47,
   "metadata": {},
   "outputs": [
    {
     "data": {
      "text/html": [
       "<video src=\"flow.mp4\" controls  >\n",
       "      Your browser does not support the <code>video</code> element.\n",
       "    </video>"
      ],
      "text/plain": [
       "<IPython.core.display.Video object>"
      ]
     },
     "execution_count": 47,
     "metadata": {},
     "output_type": "execute_result"
    }
   ],
   "source": [
    "Video('flow.mp4')"
   ]
  },
  {
   "cell_type": "code",
   "execution_count": null,
   "metadata": {},
   "outputs": [],
   "source": []
  },
  {
   "cell_type": "code",
   "execution_count": null,
   "metadata": {},
   "outputs": [],
   "source": []
  }
 ],
 "metadata": {
  "kernelspec": {
   "display_name": "Python 3",
   "language": "python",
   "name": "python3"
  },
  "language_info": {
   "codemirror_mode": {
    "name": "ipython",
    "version": 3
   },
   "file_extension": ".py",
   "mimetype": "text/x-python",
   "name": "python",
   "nbconvert_exporter": "python",
   "pygments_lexer": "ipython3",
   "version": "3.7.4"
  }
 },
 "nbformat": 4,
 "nbformat_minor": 2
}

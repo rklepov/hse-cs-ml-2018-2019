{
 "cells": [
  {
   "cell_type": "markdown",
   "metadata": {
    "collapsed": true
   },
   "source": [
    "# Homework 2"
   ]
  },
  {
   "cell_type": "markdown",
   "metadata": {},
   "source": [
    "## Формат сдачи\n",
    "\n",
    "* этот ipynb файл с кодом\n",
    "* \"checkpoint\" файл из `torch.save(model.state_dict(), ...)` который содержит веса модели для задачи 1 и поможет удостовериться в точности на валидации\n",
    "* имеется возможность перезапустить весь ipynb файл с запуском training рутины, чтобы убедиться в финальном результате"
   ]
  },
  {
   "cell_type": "markdown",
   "metadata": {},
   "source": [
    "# Задача 1 - Train your own model (6 баллов)"
   ]
  },
  {
   "cell_type": "markdown",
   "metadata": {},
   "source": [
    "В этом задании вы построете сверточную нейросеть (CNN) для решения Tiny ImageNet классификации. Постарайтесь добиться максимальной точности на валидации.\n",
    "\n",
    "### Оценивание\n",
    "\n",
    "* За преодоление каждого порога даётся 1 балл\n",
    "  * 25.0%\n",
    "  * 30.0%\n",
    "  * 32.5%\n",
    "  * 35.0%\n",
    "  * 37.5%\n",
    "  * 40.0%\n",
    "    \n",
    "### Ограничения\n",
    "\n",
    "* Нельзя использовать предобученные нейросети. Сами архитектуры использовать можно.\n",
    "\n",
    "### Советы\n",
    "\n",
    "* Одно изменение в один момент времени\n",
    "* Используйте GPU\n",
    "* Логируйте промежуточный результаты, например в TensorBoard"
   ]
  },
  {
   "cell_type": "code",
   "execution_count": null,
   "metadata": {},
   "outputs": [],
   "source": [
    "import numpy as np\n",
    "import matplotlib.pyplot as plt\n",
    "%matplotlib inline"
   ]
  },
  {
   "cell_type": "code",
   "execution_count": null,
   "metadata": {},
   "outputs": [],
   "source": [
    "import tiny_imagenet\n",
    "tiny_imagenet.download(\".\")"
   ]
  },
  {
   "cell_type": "markdown",
   "metadata": {},
   "source": [
    "Тренировочные и валидационные данные лежат в `tiny-imagenet-200/train` и `tiny-imagenet-200/val`."
   ]
  },
  {
   "cell_type": "code",
   "execution_count": null,
   "metadata": {},
   "outputs": [],
   "source": [
    "# put your code here"
   ]
  },
  {
   "cell_type": "markdown",
   "metadata": {},
   "source": [
    "Когда закончите обучение, сделайте отдельно инференс на валидации и выведите ниже результат."
   ]
  },
  {
   "cell_type": "code",
   "execution_count": null,
   "metadata": {},
   "outputs": [],
   "source": [
    "val_accuracy = comput_val_acc(...)\n",
    "print(\"Validation accuracy: %.2f%%\" % (val_accuracy * 100))"
   ]
  },
  {
   "cell_type": "markdown",
   "metadata": {},
   "source": [
    "### Отчет\n",
    "\n",
    "Кратако укажите, что вы попробывали, что получилось и дало прирост, а что нет"
   ]
  },
  {
   "cell_type": "markdown",
   "metadata": {},
   "source": [
    "# Задача 2 - Transfer Learning (1 балл)\n",
    "\n",
    "Выберите любую предобученную модель из torchvison (https://pytorch.org/docs/stable/torchvision/models.html). Сделайте transfer learning для датасета из задачи 1. Выведите точность на валидации."
   ]
  },
  {
   "cell_type": "code",
   "execution_count": null,
   "metadata": {},
   "outputs": [],
   "source": []
  },
  {
   "cell_type": "markdown",
   "metadata": {},
   "source": [
    "# Задача 3 - Grouped Convolutions (2 балла)\n",
    "\n",
    "Задача на понимание групповых сверток. Треубется реализовать forward метод для групповой свертки не прибегая к параметру __groups__. Советую воспользоваться циклом и операцией torch.nn.functional.conv2d()"
   ]
  },
  {
   "cell_type": "code",
   "execution_count": null,
   "metadata": {},
   "outputs": [],
   "source": [
    "import torch\n",
    "import torch.nn as nn\n",
    "import torch.nn.functional as F\n",
    "\n",
    "def custom_forward(conv, x):\n",
    "    # put your code here\n",
    "    return result\n",
    "\n",
    "conv = nn.Conv2d(in_channels=8, out_channels=32, kernel_size=3, groups=2, padding=1)\n",
    "x = torch.rand(1, 8, 16, 16)\n",
    "assert torch.allclose(conv(x), custom_forward(conv, x))"
   ]
  },
  {
   "cell_type": "markdown",
   "metadata": {},
   "source": [
    "# Задача 4 - Style Transfer (1 балл)"
   ]
  },
  {
   "cell_type": "markdown",
   "metadata": {},
   "source": [
    "Воспользуйтесь кодом для style transfer из PyTorch Tutorials (https://pytorch.org/tutorials/advanced/neural_style_tutorial.html).\n",
    "\n",
    "В качестве feature extractor в статье используется vgg19. Попробуйте проделать то же самое с resnet50.\n",
    "\n",
    "Выведите 4 изображеня:\n",
    "* оригинальное фото\n",
    "* стиль\n",
    "* фото, стилизованное фото с помощью vgg19\n",
    "* фото, стилизованное с помощью resnet50"
   ]
  },
  {
   "cell_type": "code",
   "execution_count": null,
   "metadata": {},
   "outputs": [],
   "source": []
  }
 ],
 "metadata": {
  "kernelspec": {
   "display_name": "Python 3",
   "language": "python",
   "name": "python3"
  },
  "language_info": {
   "codemirror_mode": {
    "name": "ipython",
    "version": 3
   },
   "file_extension": ".py",
   "mimetype": "text/x-python",
   "name": "python",
   "nbconvert_exporter": "python",
   "pygments_lexer": "ipython3",
   "version": "3.7.3"
  }
 },
 "nbformat": 4,
 "nbformat_minor": 2
}

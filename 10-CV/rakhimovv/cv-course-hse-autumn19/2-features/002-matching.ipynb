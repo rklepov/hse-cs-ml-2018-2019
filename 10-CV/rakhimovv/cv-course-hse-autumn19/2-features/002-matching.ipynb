{
 "cells": [
  {
   "cell_type": "markdown",
   "metadata": {},
   "source": [
    "# Матчинг изображений по характерным точкам"
   ]
  },
  {
   "cell_type": "markdown",
   "metadata": {},
   "source": [
    "\\# pip install opencv-contrib-python==3.2.0.7 opencv-python==3.2.0.7"
   ]
  },
  {
   "cell_type": "code",
   "execution_count": null,
   "metadata": {},
   "outputs": [],
   "source": [
    "%matplotlib inline\n",
    "import numpy as np\n",
    "import cv2\n",
    "from matplotlib import pyplot as plt"
   ]
  },
  {
   "cell_type": "markdown",
   "metadata": {},
   "source": [
    "## Загружаем изображения для матчинга"
   ]
  },
  {
   "cell_type": "code",
   "execution_count": null,
   "metadata": {},
   "outputs": [],
   "source": [
    "img1 = cv2.imread('./data/box.png', cv2.IMREAD_GRAYSCALE)          # шаблон\n",
    "img2 = cv2.imread('./data/box_in_scene.png', cv2.IMREAD_GRAYSCALE) # сцена"
   ]
  },
  {
   "cell_type": "code",
   "execution_count": null,
   "metadata": {},
   "outputs": [],
   "source": [
    "plt.imshow(img1, cmap='gray')\n",
    "plt.title('Шаблон %dx%d' % img1.shape);"
   ]
  },
  {
   "cell_type": "code",
   "execution_count": null,
   "metadata": {},
   "outputs": [],
   "source": [
    "plt.imshow(img2, cmap='gray')\n",
    "plt.title('Сцена %dx%d' % img2.shape)"
   ]
  },
  {
   "cell_type": "markdown",
   "metadata": {},
   "source": [
    "## Ищем характерные точки и вычисляем для них дескрипторы"
   ]
  },
  {
   "cell_type": "code",
   "execution_count": null,
   "metadata": {},
   "outputs": [],
   "source": [
    "# https://en.wikipedia.org/wiki/Oriented_FAST_and_rotated_BRIEF\n",
    "\n",
    "# инициализируем детектор точек\n",
    "orb = cv2.ORB_create()\n",
    "\n",
    "# запускаем поиск точек и вычисление дескрипторов\n",
    "kp1, des1 = orb.detectAndCompute(img1, None)\n",
    "kp2, des2 = orb.detectAndCompute(img2, None)"
   ]
  },
  {
   "cell_type": "markdown",
   "metadata": {},
   "source": [
    "## Отображаем найденные характерные точки"
   ]
  },
  {
   "cell_type": "code",
   "execution_count": null,
   "metadata": {},
   "outputs": [],
   "source": [
    "img1_kp = cv2.drawKeypoints(img1, kp1, np.zeros_like(img1))\n",
    "plt.imshow(img1_kp)"
   ]
  },
  {
   "cell_type": "code",
   "execution_count": null,
   "metadata": {},
   "outputs": [],
   "source": [
    "img2_kp = cv2.drawKeypoints(img2, kp2, np.zeros_like(img1))\n",
    "plt.imshow(img2_kp)"
   ]
  },
  {
   "cell_type": "markdown",
   "metadata": {},
   "source": [
    "## Ищем соответствия между шаблоном и сценой"
   ]
  },
  {
   "cell_type": "code",
   "execution_count": null,
   "metadata": {},
   "outputs": [],
   "source": [
    "# матчинг полным перебором - brute force matching\n",
    "# мера расстояния - расстояние Хэмминга (количество несовпадающих компонент)\n",
    "bf = cv2.BFMatcher(cv2.NORM_HAMMING)\n",
    "\n",
    "# матчинг\n",
    "matches = bf.match(des1, des2)\n",
    "\n",
    "# сортируем результат по убыванию расстояния\n",
    "matches = sorted(matches, key = lambda x: x.distance)\n",
    "\n",
    "# выводим 10 лучших совпадений\n",
    "img3 = np.zeros_like(img2)\n",
    "img3 = cv2.drawMatches(img1, kp1, img2, kp2, matches[:50], img3, flags=2)\n",
    "\n",
    "fig = plt.gcf()\n",
    "fig.set_size_inches(18.5, 10.5)\n",
    "plt.imshow(img3),plt.show()"
   ]
  },
  {
   "cell_type": "code",
   "execution_count": null,
   "metadata": {},
   "outputs": [],
   "source": []
  }
 ],
 "metadata": {
  "kernelspec": {
   "display_name": "Python 3",
   "language": "python",
   "name": "python3"
  },
  "language_info": {
   "codemirror_mode": {
    "name": "ipython",
    "version": 3
   },
   "file_extension": ".py",
   "mimetype": "text/x-python",
   "name": "python",
   "nbconvert_exporter": "python",
   "pygments_lexer": "ipython3",
   "version": "3.7.3"
  }
 },
 "nbformat": 4,
 "nbformat_minor": 2
}

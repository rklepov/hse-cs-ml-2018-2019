{
 "cells": [
  {
   "cell_type": "markdown",
   "metadata": {},
   "source": [
    "# Поиск изображения по контенту (CBIR)"
   ]
  },
  {
   "cell_type": "code",
   "execution_count": 1,
   "metadata": {},
   "outputs": [],
   "source": [
    "%matplotlib inline\n",
    "import numpy as np\n",
    "import cv2\n",
    "import matplotlib.pyplot as plt"
   ]
  },
  {
   "cell_type": "markdown",
   "metadata": {},
   "source": [
    "## Алгоритм вычисления дескриптора изображения"
   ]
  },
  {
   "cell_type": "code",
   "execution_count": 2,
   "metadata": {},
   "outputs": [],
   "source": [
    "class ColorDescriptor:\n",
    "    \n",
    "    def __init__(self, bins):\n",
    "        # количество сегментов по y, x и channel\n",
    "        self.bins = bins\n",
    " \n",
    "    def describe(self, image):\n",
    "        \"\"\" Вычисляем дескриптор изображения \"\"\"\n",
    "        \n",
    "        features = []  # результирующий вектор дескриптора\n",
    "        \n",
    "        # переводим исходное изображение из цветового пространства BGR в HSV\n",
    "        image = cv2.cvtColor(image, cv2.COLOR_BGR2HSV)\n",
    " \n",
    "        (h, w) = image.shape[:2]  # размеры изображения\n",
    "        (cX, cY) = (int(w * 0.5), int(h * 0.5))  # координаты центра изображения\n",
    "        \n",
    "        # делим изображение на четыре равные части\n",
    "        # и вычисляем координаты сегментов\n",
    "        segments = [(0, cX, 0, cY), \n",
    "                    (cX, w, 0, cY),\n",
    "                    (cX, w, cY, h),\n",
    "                    (0, cX, cY, h)]\n",
    " \n",
    "        # готовим маску в виде эллипса для выделения \n",
    "        # дескрипторов центральной части изображения\n",
    "        (axesX, axesY) = (int(w * 0.75) // 2, int(h * 0.75) // 2)\n",
    "        ellip_mask = np.zeros(image.shape[:2], dtype = np.uint8)\n",
    "        cv2.ellipse(ellip_mask, (cX, cY), (axesX, axesY), 0, 0, 360, 255, -1)\n",
    " \n",
    "        # итерируем по четырем сегментам и вычисляем дескрипторы\n",
    "        for (startX, endX, startY, endY) in segments:\n",
    "            # формируем маску сегмента\n",
    "            corner_mask = np.zeros(image.shape[:2], dtype = np.uint8)\n",
    "            cv2.rectangle(corner_mask, (startX, startY), (endX, endY), 255, -1)\n",
    "            cornerMask = cv2.subtract(corner_mask, ellip_mask)  # вычитаем пересечение с эллипсом \n",
    " \n",
    "            # строим цветовую гистограмму с учетом маски сегмента\n",
    "            hist = self.histogram(image, corner_mask)\n",
    "            features.extend(hist)\n",
    " \n",
    "        # вычисляем гистограму для центральной области\n",
    "        hist = self.histogram(image, ellip_mask)\n",
    "        features.extend(hist)\n",
    " \n",
    "        # возвращаем вектор полученный вектор дескрипторов\n",
    "        return features\n",
    "    \n",
    "    def histogram(self, image, mask):\n",
    "        \"\"\" Вычисляет гистограмму в области, заданной маской \"\"\"\n",
    "        \n",
    "        # задаем диапазоны изменений по каналам\n",
    "        ranges = [0, 180,  # Hue\n",
    "                  0, 256,  # Saturation\n",
    "                  0, 256]  # Value\n",
    "        \n",
    "        # вычисляем 3D гистограмму (x, y, channel)\n",
    "        hist = cv2.calcHist([image], [0, 1, 2], mask,\n",
    "                            self.bins, ranges = ranges)\n",
    "        \n",
    "        # нормируем гистограмму\n",
    "        hist = cv2.normalize(hist, np.zeros_like(hist)).flatten()\n",
    "\n",
    "        return hist"
   ]
  },
  {
   "cell_type": "markdown",
   "metadata": {},
   "source": [
    "## Вычисляем дескрипторы для базы изображений"
   ]
  },
  {
   "cell_type": "code",
   "execution_count": 3,
   "metadata": {},
   "outputs": [],
   "source": [
    "import glob\n",
    "\n",
    "index = []   # имена фалов\n",
    "index_features = []  # дескрипторы изображений\n",
    "\n",
    "# получаем список файлов для индексации\n",
    "files = list(glob.glob('./data/inria/*.jpg'))\n",
    "\n",
    "# инициализируем объект для вычисления дескрипторов\n",
    "cd = ColorDescriptor((8, 12, 3))\n",
    "\n",
    "for path in files[:25]:\n",
    "    # сохраняем идентификатор изображения в массив\n",
    "    image_id = path[path.rfind('/') + 1:]\n",
    "    index.append(image_id)\n",
    "\n",
    "    # загружаем изображение\n",
    "    image = cv2.imread(path)\n",
    "    \n",
    "    # вычисляем и сохраняем дескрипторы\n",
    "    features = cd.describe(image)\n",
    "    index_features.append(features)\n",
    "\n",
    "index_features = np.array(index_features)"
   ]
  },
  {
   "cell_type": "code",
   "execution_count": 4,
   "metadata": {},
   "outputs": [
    {
     "data": {
      "text/plain": [
       "(12, 1440)"
      ]
     },
     "execution_count": 4,
     "metadata": {},
     "output_type": "execute_result"
    }
   ],
   "source": [
    "index_features.shape"
   ]
  },
  {
   "cell_type": "markdown",
   "metadata": {},
   "source": [
    "## Определяем меру расстояния между дескрипторами"
   ]
  },
  {
   "cell_type": "code",
   "execution_count": 5,
   "metadata": {},
   "outputs": [],
   "source": [
    "def chi2_distance(histA, histB, eps = 1e-10):\n",
    "    # мера расстояния chi-квадрат\n",
    "    d = 0.5 * np.sum([((a - b) ** 2) # / (a + b + eps)\n",
    "                      for (a, b) in zip(histA, histB)])\n",
    "    return d"
   ]
  },
  {
   "cell_type": "code",
   "execution_count": 6,
   "metadata": {},
   "outputs": [],
   "source": [
    "def rank(query_features, index_features):\n",
    "    # вычисляем расстояние до изображения из базы\n",
    "    result = np.zeros(len(index_features))\n",
    "    for i in range(len(index_features)):\n",
    "        result[i] = chi2_distance(query_features, index_features[i])\n",
    "    return result"
   ]
  },
  {
   "cell_type": "markdown",
   "metadata": {},
   "source": [
    "## Формируем запрос и выводим похожие изображения"
   ]
  },
  {
   "cell_type": "code",
   "execution_count": 7,
   "metadata": {},
   "outputs": [],
   "source": [
    "# загружаем изображение для поиска похожих\n",
    "query = cv2.imread('./data/inria/105000_sm.jpg')\n",
    "\n",
    "# получаем фичи для изображения запроса\n",
    "query_features = cd.describe(query)\n",
    "\n",
    "# ранжируем резльтат с учетом метрики расстояния\n",
    "distance = rank(query_features, index_features)\n",
    "\n",
    "# сортируем индексы по расстоянию\n",
    "indices = np.argsort(distance)"
   ]
  },
  {
   "cell_type": "code",
   "execution_count": null,
   "metadata": {},
   "outputs": [],
   "source": [
    "# изображение запроса\n",
    "plt.imshow(cv2.cvtColor(query, cv2.COLOR_BGR2RGB))\n",
    "plt.title('Запрос');"
   ]
  },
  {
   "cell_type": "code",
   "execution_count": null,
   "metadata": {},
   "outputs": [],
   "source": [
    "# выводим топ 5 самых близких изображений\n",
    "fig = plt.figure(figsize=(20, 10))\n",
    "for i, idx in enumerate(indices[:5], 1):\n",
    "    subplot = fig.add_subplot(1, 7, i)\n",
    "    img = cv2.imread(files[idx])\n",
    "    plt.imshow(cv2.cvtColor(img, cv2.COLOR_BGR2RGB))\n",
    "    plt.title('Dist: %.5f' % distance[idx])"
   ]
  }
 ],
 "metadata": {
  "kernelspec": {
   "display_name": "Python 3",
   "language": "python",
   "name": "python3"
  },
  "language_info": {
   "codemirror_mode": {
    "name": "ipython",
    "version": 3
   },
   "file_extension": ".py",
   "mimetype": "text/x-python",
   "name": "python",
   "nbconvert_exporter": "python",
   "pygments_lexer": "ipython3",
   "version": "3.6.4"
  }
 },
 "nbformat": 4,
 "nbformat_minor": 2
}

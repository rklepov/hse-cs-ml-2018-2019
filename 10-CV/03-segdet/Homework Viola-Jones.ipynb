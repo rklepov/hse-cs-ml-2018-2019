{
 "cells": [
  {
   "cell_type": "markdown",
   "metadata": {},
   "source": [
    "## Домашнее задание\n",
    "В этом домашнее задании вам будет необходимо запустить детектор Viola-Jones (аналогично тому, что мы делали на лекции) на небольшом датасете и оценить его качество.\n",
    "\n",
    "Скачайте данные и информацию о ground truth коробках с этого сайта:\n",
    "http://www.anefian.com/research/face_reco.htm\n",
    "\n",
    "В данных лежит 50 папок в каждой из которых 15 фотографий. В текстовых файлах с лейблами записано 4 числа и номер папки. Первые два числа обозначают верхний левый угол коробки, правая часть числа обозначает нижний правый угол.\n",
    "\n",
    "Нам интересно, как хорошо работает детектор на этих данных. Для этого нам нужно посчитать какие-то метрики. Конечно коробки, которые поставлены алгоритмом и человеком могут отличаться. Мы допускаем некоторую степерь расхождения, которая будет описывать величиной IoU. \n",
    "https://www.pyimagesearch.com/2016/11/07/intersection-over-union-iou-for-object-detection/\n",
    "\n",
    "Это площадь пересечения коробок поделить на площадь их объединения. Давайте считать, что мы правильно назвали детекцию, если IoU между истинной и предсказанной больше 0.7.\n",
    "\n",
    "Посчитайте precision и recall детектора."
   ]
  },
  {
   "cell_type": "code",
   "execution_count": null,
   "metadata": {},
   "outputs": [],
   "source": []
  }
 ],
 "metadata": {
  "kernelspec": {
   "display_name": "Python 2",
   "language": "python",
   "name": "python2"
  },
  "language_info": {
   "codemirror_mode": {
    "name": "ipython",
    "version": 2
   },
   "file_extension": ".py",
   "mimetype": "text/x-python",
   "name": "python",
   "nbconvert_exporter": "python",
   "pygments_lexer": "ipython2",
   "version": "2.7.16"
  }
 },
 "nbformat": 4,
 "nbformat_minor": 2
}

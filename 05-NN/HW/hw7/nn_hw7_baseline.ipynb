{
  "nbformat": 4,
  "nbformat_minor": 0,
  "metadata": {
    "colab": {
      "name": "nn_hw7_baseline.ipynb",
      "version": "0.3.2",
      "provenance": [],
      "collapsed_sections": [],
      "include_colab_link": true
    },
    "kernelspec": {
      "name": "python3",
      "display_name": "Python 3"
    },
    "accelerator": "TPU"
  },
  "cells": [
    {
      "cell_type": "markdown",
      "metadata": {
        "id": "view-in-github",
        "colab_type": "text"
      },
      "source": [
        "<a href=\"https://colab.research.google.com/github/rklepov/hse-cs-ml-2018-2019/blob/homework/05-NN/HW/hw7/nn_hw7_baseline.ipynb\" target=\"_parent\"><img src=\"https://colab.research.google.com/assets/colab-badge.svg\" alt=\"Open In Colab\"/></a>"
      ]
    },
    {
      "cell_type": "markdown",
      "metadata": {
        "id": "RfW_S7LcISyN",
        "colab_type": "text"
      },
      "source": [
        "## _[NN HW7](https://github.com/rklepov/hse-cs-ml-2018-2019/blob/master/05-NN/05-nlp/02-fasttext/HomeWork.ipynb \"NN HW7\") -- baseline_\n",
        "\n",
        "Необходимо обучить регрессионную модель (предсказание популярности статьи на Хабре) - за бейзлайн возьмите tf-idf + линейная модель:\n",
        "\n",
        "train - https://yadi.sk/d/hAhCuetI3JPouk\n",
        "\n",
        "test - https://yadi.sk/d/mLMZZtN63JPouc\n",
        "\n",
        "---"
      ]
    },
    {
      "cell_type": "code",
      "metadata": {
        "id": "BzHXKwjqA2r8",
        "colab_type": "code",
        "colab": {}
      },
      "source": [
        "import matplotlib.pyplot as plt\n",
        "%matplotlib inline\n",
        "import seaborn as sns\n",
        "sns.set()\n",
        "import numpy as np\n",
        "import pandas as pd"
      ],
      "execution_count": 0,
      "outputs": []
    },
    {
      "cell_type": "code",
      "metadata": {
        "id": "Z4J6p5zBBSLW",
        "colab_type": "code",
        "outputId": "39d486cf-9733-4b64-ffed-9c4e0d5c4ddf",
        "colab": {
          "base_uri": "https://localhost:8080/",
          "height": 35
        }
      },
      "source": [
        "from google.colab import drive\n",
        "drive.mount('/content/gdrive')"
      ],
      "execution_count": 2,
      "outputs": [
        {
          "output_type": "stream",
          "text": [
            "Drive already mounted at /content/gdrive; to attempt to forcibly remount, call drive.mount(\"/content/gdrive\", force_remount=True).\n"
          ],
          "name": "stdout"
        }
      ]
    },
    {
      "cell_type": "code",
      "metadata": {
        "id": "WhF-1KTWI-5Y",
        "colab_type": "code",
        "outputId": "f1d91c90-ca34-429d-8b9d-4e3c013bfaa8",
        "colab": {
          "base_uri": "https://localhost:8080/",
          "height": 52
        }
      },
      "source": [
        "!ls -hAlF *.csv"
      ],
      "execution_count": 3,
      "outputs": [
        {
          "output_type": "stream",
          "text": [
            "-rw------- 1 root root 107M May 10 15:56 test_content.csv\n",
            "-rw------- 1 root root 1.8G May 10 15:58 train_content.csv\n"
          ],
          "name": "stdout"
        }
      ]
    },
    {
      "cell_type": "markdown",
      "metadata": {
        "id": "OLfMkYcyI6a8",
        "colab_type": "text"
      },
      "source": [
        "## 1. _Данные_"
      ]
    },
    {
      "cell_type": "code",
      "metadata": {
        "id": "XM7_vGh0Dpz3",
        "colab_type": "code",
        "colab": {}
      },
      "source": [
        "train_content = pd.read_csv('train_content.csv')\n",
        "test_content = pd.read_csv('test_content.csv')"
      ],
      "execution_count": 0,
      "outputs": []
    },
    {
      "cell_type": "code",
      "metadata": {
        "id": "jL7OF3Y6JrHF",
        "colab_type": "code",
        "outputId": "525405a5-2af9-4da5-dccf-0c20632b54a9",
        "colab": {
          "base_uri": "https://localhost:8080/",
          "height": 35
        }
      },
      "source": [
        "train_content.shape"
      ],
      "execution_count": 5,
      "outputs": [
        {
          "output_type": "execute_result",
          "data": {
            "text/plain": [
              "(172913, 13)"
            ]
          },
          "metadata": {
            "tags": []
          },
          "execution_count": 5
        }
      ]
    },
    {
      "cell_type": "code",
      "metadata": {
        "id": "2CbXpgATGOqs",
        "colab_type": "code",
        "outputId": "70201bf9-0ddf-4c21-a353-9c34f048c2ac",
        "colab": {
          "base_uri": "https://localhost:8080/",
          "height": 351
        }
      },
      "source": [
        "train_content.head(3)"
      ],
      "execution_count": 6,
      "outputs": [
        {
          "output_type": "execute_result",
          "data": {
            "text/html": [
              "<div>\n",
              "<style scoped>\n",
              "    .dataframe tbody tr th:only-of-type {\n",
              "        vertical-align: middle;\n",
              "    }\n",
              "\n",
              "    .dataframe tbody tr th {\n",
              "        vertical-align: top;\n",
              "    }\n",
              "\n",
              "    .dataframe thead th {\n",
              "        text-align: right;\n",
              "    }\n",
              "</style>\n",
              "<table border=\"1\" class=\"dataframe\">\n",
              "  <thead>\n",
              "    <tr style=\"text-align: right;\">\n",
              "      <th></th>\n",
              "      <th>_id</th>\n",
              "      <th>date</th>\n",
              "      <th>tags</th>\n",
              "      <th>title</th>\n",
              "      <th>hubs_title</th>\n",
              "      <th>description</th>\n",
              "      <th>name</th>\n",
              "      <th>hub</th>\n",
              "      <th>png</th>\n",
              "      <th>nick</th>\n",
              "      <th>url</th>\n",
              "      <th>content</th>\n",
              "      <th>favs_lognorm</th>\n",
              "    </tr>\n",
              "  </thead>\n",
              "  <tbody>\n",
              "    <tr>\n",
              "      <th>0</th>\n",
              "      <td>https://geektimes.ru/post/21866/</td>\n",
              "      <td>2008-03-17T18:55:00.000Z</td>\n",
              "      <td>['eeepc', 'asus', 'ЭТО', 'эльдорадо', 'ура']</td>\n",
              "      <td>eeePC в продаже. Да. Правда.</td>\n",
              "      <td>Железо</td>\n",
              "      <td>Итак, если 3 дня назад я отписался то что в пр...</td>\n",
              "      <td>Сергей 'pokatusher'</td>\n",
              "      <td>hub/hardware</td>\n",
              "      <td>https://habrastorage.org/getpro/habr/olpicture...</td>\n",
              "      <td>@M_org</td>\n",
              "      <td>https://geektimes.ru/users/M_org</td>\n",
              "      <td>Итак, если 3 дня назад я &lt;a href=\"http://habra...</td>\n",
              "      <td>2.484907</td>\n",
              "    </tr>\n",
              "    <tr>\n",
              "      <th>1</th>\n",
              "      <td>https://habrahabr.ru/company/aladdinrd/blog/30...</td>\n",
              "      <td>2016-06-24T13:02:00.000Z</td>\n",
              "      <td>['Интеграция', 'шифрование', 'Windows', 'Win32...</td>\n",
              "      <td>«Разрубить Гордиев узел» или преодоление пробл...</td>\n",
              "      <td>Системное программирование</td>\n",
              "      <td>Современная операционная система это сложный и...</td>\n",
              "      <td>Аладдин Р.Д.</td>\n",
              "      <td>hub/system_programming</td>\n",
              "      <td>https://habrastorage.org/files/cbd/cf9/5ff/cbd...</td>\n",
              "      <td>NaN</td>\n",
              "      <td>https://habrahabr.ru/company/aladdinrd</td>\n",
              "      <td>Современная операционная система это сложный и...</td>\n",
              "      <td>4.174387</td>\n",
              "    </tr>\n",
              "    <tr>\n",
              "      <th>2</th>\n",
              "      <td>https://geektimes.ru/post/92887/</td>\n",
              "      <td>2010-05-06T10:00:00.000Z</td>\n",
              "      <td>['mc', 'midnight commander', 'diffview', 'merg...</td>\n",
              "      <td>Релиз Midnight Commander 4.7.2 и 4.7.0.5</td>\n",
              "      <td>Чёрная дыра</td>\n",
              "      <td>Спустя 2 месяца упорных трудов вышла новая вер...</td>\n",
              "      <td>Илья Маслаков</td>\n",
              "      <td>hub/closet</td>\n",
              "      <td>https://geektimes.ru/images/logo.png</td>\n",
              "      <td>@smind</td>\n",
              "      <td>https://geektimes.ru/users/smind</td>\n",
              "      <td>Спустя 2 месяца упорных трудов вышла новая вер...</td>\n",
              "      <td>0.000000</td>\n",
              "    </tr>\n",
              "  </tbody>\n",
              "</table>\n",
              "</div>"
            ],
            "text/plain": [
              "                                                 _id  \\\n",
              "0                   https://geektimes.ru/post/21866/   \n",
              "1  https://habrahabr.ru/company/aladdinrd/blog/30...   \n",
              "2                   https://geektimes.ru/post/92887/   \n",
              "\n",
              "                       date  \\\n",
              "0  2008-03-17T18:55:00.000Z   \n",
              "1  2016-06-24T13:02:00.000Z   \n",
              "2  2010-05-06T10:00:00.000Z   \n",
              "\n",
              "                                                tags  \\\n",
              "0       ['eeepc', 'asus', 'ЭТО', 'эльдорадо', 'ура']   \n",
              "1  ['Интеграция', 'шифрование', 'Windows', 'Win32...   \n",
              "2  ['mc', 'midnight commander', 'diffview', 'merg...   \n",
              "\n",
              "                                               title  \\\n",
              "0                       eeePC в продаже. Да. Правда.   \n",
              "1  «Разрубить Гордиев узел» или преодоление пробл...   \n",
              "2           Релиз Midnight Commander 4.7.2 и 4.7.0.5   \n",
              "\n",
              "                   hubs_title  \\\n",
              "0                      Железо   \n",
              "1  Системное программирование   \n",
              "2                 Чёрная дыра   \n",
              "\n",
              "                                         description                 name  \\\n",
              "0  Итак, если 3 дня назад я отписался то что в пр...  Сергей 'pokatusher'   \n",
              "1  Современная операционная система это сложный и...         Аладдин Р.Д.   \n",
              "2  Спустя 2 месяца упорных трудов вышла новая вер...        Илья Маслаков   \n",
              "\n",
              "                      hub                                                png  \\\n",
              "0            hub/hardware  https://habrastorage.org/getpro/habr/olpicture...   \n",
              "1  hub/system_programming  https://habrastorage.org/files/cbd/cf9/5ff/cbd...   \n",
              "2              hub/closet               https://geektimes.ru/images/logo.png   \n",
              "\n",
              "     nick                                     url  \\\n",
              "0  @M_org        https://geektimes.ru/users/M_org   \n",
              "1     NaN  https://habrahabr.ru/company/aladdinrd   \n",
              "2  @smind        https://geektimes.ru/users/smind   \n",
              "\n",
              "                                             content  favs_lognorm  \n",
              "0  Итак, если 3 дня назад я <a href=\"http://habra...      2.484907  \n",
              "1  Современная операционная система это сложный и...      4.174387  \n",
              "2  Спустя 2 месяца упорных трудов вышла новая вер...      0.000000  "
            ]
          },
          "metadata": {
            "tags": []
          },
          "execution_count": 6
        }
      ]
    },
    {
      "cell_type": "code",
      "metadata": {
        "id": "N9k4LvhXGF1J",
        "colab_type": "code",
        "outputId": "5a3dfefd-04d4-4103-e6c4-7e3f1de7032e",
        "colab": {
          "base_uri": "https://localhost:8080/",
          "height": 329
        }
      },
      "source": [
        "train_content.info()"
      ],
      "execution_count": 7,
      "outputs": [
        {
          "output_type": "stream",
          "text": [
            "<class 'pandas.core.frame.DataFrame'>\n",
            "RangeIndex: 172913 entries, 0 to 172912\n",
            "Data columns (total 13 columns):\n",
            "_id             172913 non-null object\n",
            "date            172913 non-null object\n",
            "tags            172913 non-null object\n",
            "title           172913 non-null object\n",
            "hubs_title      172913 non-null object\n",
            "description     172299 non-null object\n",
            "name            143259 non-null object\n",
            "hub             172913 non-null object\n",
            "png             172913 non-null object\n",
            "nick            135210 non-null object\n",
            "url             172913 non-null object\n",
            "content         172861 non-null object\n",
            "favs_lognorm    172913 non-null float64\n",
            "dtypes: float64(1), object(12)\n",
            "memory usage: 17.1+ MB\n"
          ],
          "name": "stdout"
        }
      ]
    },
    {
      "cell_type": "code",
      "metadata": {
        "id": "2SVSv5QZFpnT",
        "colab_type": "code",
        "outputId": "ce7be548-4701-4660-91da-79ed9cadff10",
        "colab": {
          "base_uri": "https://localhost:8080/",
          "height": 417
        }
      },
      "source": [
        "train_content.describe(exclude=np.number).T"
      ],
      "execution_count": 8,
      "outputs": [
        {
          "output_type": "execute_result",
          "data": {
            "text/html": [
              "<div>\n",
              "<style scoped>\n",
              "    .dataframe tbody tr th:only-of-type {\n",
              "        vertical-align: middle;\n",
              "    }\n",
              "\n",
              "    .dataframe tbody tr th {\n",
              "        vertical-align: top;\n",
              "    }\n",
              "\n",
              "    .dataframe thead th {\n",
              "        text-align: right;\n",
              "    }\n",
              "</style>\n",
              "<table border=\"1\" class=\"dataframe\">\n",
              "  <thead>\n",
              "    <tr style=\"text-align: right;\">\n",
              "      <th></th>\n",
              "      <th>count</th>\n",
              "      <th>unique</th>\n",
              "      <th>top</th>\n",
              "      <th>freq</th>\n",
              "    </tr>\n",
              "  </thead>\n",
              "  <tbody>\n",
              "    <tr>\n",
              "      <th>_id</th>\n",
              "      <td>172913</td>\n",
              "      <td>172913</td>\n",
              "      <td>https://habrahabr.ru/post/80721/</td>\n",
              "      <td>1</td>\n",
              "    </tr>\n",
              "    <tr>\n",
              "      <th>date</th>\n",
              "      <td>172913</td>\n",
              "      <td>167976</td>\n",
              "      <td>2011-06-14T15:52:00.000Z</td>\n",
              "      <td>39</td>\n",
              "    </tr>\n",
              "    <tr>\n",
              "      <th>tags</th>\n",
              "      <td>172913</td>\n",
              "      <td>161419</td>\n",
              "      <td>[]</td>\n",
              "      <td>1251</td>\n",
              "    </tr>\n",
              "    <tr>\n",
              "      <th>title</th>\n",
              "      <td>172913</td>\n",
              "      <td>171859</td>\n",
              "      <td>Интересные события, произошедшие в выходные</td>\n",
              "      <td>56</td>\n",
              "    </tr>\n",
              "    <tr>\n",
              "      <th>hubs_title</th>\n",
              "      <td>172913</td>\n",
              "      <td>1709</td>\n",
              "      <td>Чёрная дыра</td>\n",
              "      <td>30205</td>\n",
              "    </tr>\n",
              "    <tr>\n",
              "      <th>description</th>\n",
              "      <td>172299</td>\n",
              "      <td>168898</td>\n",
              "      <td></td>\n",
              "      <td>2036</td>\n",
              "    </tr>\n",
              "    <tr>\n",
              "      <th>name</th>\n",
              "      <td>143259</td>\n",
              "      <td>16140</td>\n",
              "      <td>Анатолий Ализар</td>\n",
              "      <td>7186</td>\n",
              "    </tr>\n",
              "    <tr>\n",
              "      <th>hub</th>\n",
              "      <td>172913</td>\n",
              "      <td>1702</td>\n",
              "      <td>hub/closet</td>\n",
              "      <td>30206</td>\n",
              "    </tr>\n",
              "    <tr>\n",
              "      <th>png</th>\n",
              "      <td>172913</td>\n",
              "      <td>109236</td>\n",
              "      <td>https://habrahabr.ru/i/habralogo.jpg</td>\n",
              "      <td>31516</td>\n",
              "    </tr>\n",
              "    <tr>\n",
              "      <th>nick</th>\n",
              "      <td>135210</td>\n",
              "      <td>26670</td>\n",
              "      <td>@alizar</td>\n",
              "      <td>7186</td>\n",
              "    </tr>\n",
              "    <tr>\n",
              "      <th>url</th>\n",
              "      <td>172913</td>\n",
              "      <td>45294</td>\n",
              "      <td>https://geektimes.ru/users/alizar</td>\n",
              "      <td>4841</td>\n",
              "    </tr>\n",
              "    <tr>\n",
              "      <th>content</th>\n",
              "      <td>172861</td>\n",
              "      <td>170632</td>\n",
              "      <td></td>\n",
              "      <td>2036</td>\n",
              "    </tr>\n",
              "  </tbody>\n",
              "</table>\n",
              "</div>"
            ],
            "text/plain": [
              "              count  unique                                          top  \\\n",
              "_id          172913  172913             https://habrahabr.ru/post/80721/   \n",
              "date         172913  167976                     2011-06-14T15:52:00.000Z   \n",
              "tags         172913  161419                                           []   \n",
              "title        172913  171859  Интересные события, произошедшие в выходные   \n",
              "hubs_title   172913    1709                                  Чёрная дыра   \n",
              "description  172299  168898                                                \n",
              "name         143259   16140                              Анатолий Ализар   \n",
              "hub          172913    1702                                   hub/closet   \n",
              "png          172913  109236         https://habrahabr.ru/i/habralogo.jpg   \n",
              "nick         135210   26670                                      @alizar   \n",
              "url          172913   45294            https://geektimes.ru/users/alizar   \n",
              "content      172861  170632                                                \n",
              "\n",
              "              freq  \n",
              "_id              1  \n",
              "date            39  \n",
              "tags          1251  \n",
              "title           56  \n",
              "hubs_title   30205  \n",
              "description   2036  \n",
              "name          7186  \n",
              "hub          30206  \n",
              "png          31516  \n",
              "nick          7186  \n",
              "url           4841  \n",
              "content       2036  "
            ]
          },
          "metadata": {
            "tags": []
          },
          "execution_count": 8
        }
      ]
    },
    {
      "cell_type": "code",
      "metadata": {
        "id": "QQBlFqC8HAlW",
        "colab_type": "code",
        "outputId": "94a2c3af-0f53-4fb5-9614-5c0fc7643bbd",
        "colab": {
          "base_uri": "https://localhost:8080/",
          "height": 79
        }
      },
      "source": [
        "train_content.describe(include=np.number).T"
      ],
      "execution_count": 9,
      "outputs": [
        {
          "output_type": "execute_result",
          "data": {
            "text/html": [
              "<div>\n",
              "<style scoped>\n",
              "    .dataframe tbody tr th:only-of-type {\n",
              "        vertical-align: middle;\n",
              "    }\n",
              "\n",
              "    .dataframe tbody tr th {\n",
              "        vertical-align: top;\n",
              "    }\n",
              "\n",
              "    .dataframe thead th {\n",
              "        text-align: right;\n",
              "    }\n",
              "</style>\n",
              "<table border=\"1\" class=\"dataframe\">\n",
              "  <thead>\n",
              "    <tr style=\"text-align: right;\">\n",
              "      <th></th>\n",
              "      <th>count</th>\n",
              "      <th>mean</th>\n",
              "      <th>std</th>\n",
              "      <th>min</th>\n",
              "      <th>25%</th>\n",
              "      <th>50%</th>\n",
              "      <th>75%</th>\n",
              "      <th>max</th>\n",
              "    </tr>\n",
              "  </thead>\n",
              "  <tbody>\n",
              "    <tr>\n",
              "      <th>favs_lognorm</th>\n",
              "      <td>172913.0</td>\n",
              "      <td>2.802295</td>\n",
              "      <td>1.71161</td>\n",
              "      <td>0.0</td>\n",
              "      <td>1.386294</td>\n",
              "      <td>2.890372</td>\n",
              "      <td>4.110874</td>\n",
              "      <td>9.080687</td>\n",
              "    </tr>\n",
              "  </tbody>\n",
              "</table>\n",
              "</div>"
            ],
            "text/plain": [
              "                 count      mean      std  min       25%       50%       75%  \\\n",
              "favs_lognorm  172913.0  2.802295  1.71161  0.0  1.386294  2.890372  4.110874   \n",
              "\n",
              "                   max  \n",
              "favs_lognorm  9.080687  "
            ]
          },
          "metadata": {
            "tags": []
          },
          "execution_count": 9
        }
      ]
    },
    {
      "cell_type": "markdown",
      "metadata": {
        "id": "IjxZUcWpJHj1",
        "colab_type": "text"
      },
      "source": [
        "Распределение по текстов по длине:"
      ]
    },
    {
      "cell_type": "code",
      "metadata": {
        "id": "bpiwjKN4D3FF",
        "colab_type": "code",
        "outputId": "8219fce3-b8c0-4ed4-ed4e-d0120d64fbbd",
        "colab": {
          "base_uri": "https://localhost:8080/",
          "height": 275
        }
      },
      "source": [
        "plt.hist(train_content['content'][train_content['content'].notnull()].str.len(), range=(100, 20000));"
      ],
      "execution_count": 10,
      "outputs": [
        {
          "output_type": "display_data",
          "data": {
            "image/png": "[encoded data removed]",
            "text/plain": [
              "<Figure size 432x288 with 1 Axes>"
            ]
          },
          "metadata": {
            "tags": []
          }
        }
      ]
    },
    {
      "cell_type": "markdown",
      "metadata": {
        "id": "yHk3SZfDPn3r",
        "colab_type": "text"
      },
      "source": [
        "В данных из `test_content.csv` нет целевой переменной (видимо, это тестовый сет с соревнования), поэтому в данном случае его использовать невозможно."
      ]
    },
    {
      "cell_type": "code",
      "metadata": {
        "id": "uy_CL1f9Of4K",
        "colab_type": "code",
        "outputId": "d995bcc2-ef73-4d3c-c46d-d9358dada1ee",
        "colab": {
          "base_uri": "https://localhost:8080/",
          "height": 35
        }
      },
      "source": [
        "test_content.shape"
      ],
      "execution_count": 11,
      "outputs": [
        {
          "output_type": "execute_result",
          "data": {
            "text/plain": [
              "(5405, 12)"
            ]
          },
          "metadata": {
            "tags": []
          },
          "execution_count": 11
        }
      ]
    },
    {
      "cell_type": "markdown",
      "metadata": {
        "id": "pD2pKeMfKnkZ",
        "colab_type": "text"
      },
      "source": [
        "Так что будем оценивать MSE по кросс-валидации на датасете `train_content.csv`."
      ]
    },
    {
      "cell_type": "markdown",
      "metadata": {
        "id": "qRLlM0miJYP-",
        "colab_type": "text"
      },
      "source": [
        "## 2. _Модель_"
      ]
    },
    {
      "cell_type": "code",
      "metadata": {
        "id": "dv4vf_URLYpB",
        "colab_type": "code",
        "colab": {}
      },
      "source": [
        "from sklearn.model_selection import train_test_split, cross_val_score\n",
        "from sklearn.feature_extraction.text import HashingVectorizer, TfidfTransformer\n",
        "from sklearn.pipeline import make_pipeline\n",
        "from sklearn.linear_model import LinearRegression, SGDRegressor"
      ],
      "execution_count": 0,
      "outputs": []
    },
    {
      "cell_type": "markdown",
      "metadata": {
        "id": "KIOpPcFsJujI",
        "colab_type": "text"
      },
      "source": [
        "Отбросим пустые и совсем короткие тексты. Объединим заголовок и текст статьи. Одновременно сделаем перемешивание."
      ]
    },
    {
      "cell_type": "code",
      "metadata": {
        "id": "walLKEwnLipJ",
        "colab_type": "code",
        "colab": {}
      },
      "source": [
        "def select_content_favs(d, min_len=100, size=1.):\n",
        "    w = (d['content'].notnull()) & (min_len < d['content'].str.len())\n",
        "    i = np.argwhere(w).squeeze()\n",
        "    i = i[np.random.choice(len(i), size=int(len(i) * size), replace=False)]\n",
        "    return ((d['title'][i] + ' ' + d['content'][i]).values, d['favs_lognorm'][i].values)"
      ],
      "execution_count": 0,
      "outputs": []
    },
    {
      "cell_type": "code",
      "metadata": {
        "id": "2NcBzA_qMRAt",
        "colab_type": "code",
        "outputId": "27465066-a5a9-48bf-caab-850c7cb3e62a",
        "colab": {
          "base_uri": "https://localhost:8080/",
          "height": 89
        }
      },
      "source": [
        "X_train_text, y_train = select_content_favs(train_content)\n",
        "\n",
        "del train_content, test_content\n",
        "\n",
        "[ x.shape for x in (X_train_text, y_train) ]"
      ],
      "execution_count": 14,
      "outputs": [
        {
          "output_type": "stream",
          "text": [
            "/usr/local/lib/python3.6/dist-packages/numpy/core/fromnumeric.py:56: FutureWarning: Series.nonzero() is deprecated and will be removed in a future version.Use Series.to_numpy().nonzero() instead\n",
            "  return getattr(obj, method)(*args, **kwds)\n"
          ],
          "name": "stderr"
        },
        {
          "output_type": "execute_result",
          "data": {
            "text/plain": [
              "[(170211,), (170211,)]"
            ]
          },
          "metadata": {
            "tags": []
          },
          "execution_count": 14
        }
      ]
    },
    {
      "cell_type": "code",
      "metadata": {
        "id": "23armA5MqlL0",
        "colab_type": "code",
        "outputId": "5071312e-61c6-4a35-9981-fc99677174d0",
        "colab": {
          "base_uri": "https://localhost:8080/",
          "height": 69
        }
      },
      "source": [
        "[ s[:100] for s in X_train_text[:3] ]"
      ],
      "execution_count": 15,
      "outputs": [
        {
          "output_type": "execute_result",
          "data": {
            "text/plain": [
              "['Интервью с разработчиком iPhone-приложений Константин Павлихин, разработчик из <a href=\"http://deepi',\n",
              " 'Прошивка iPhone 2.0 взломана и разлочена <img src=\"https://habrastorage.org/getpro/habr/olpictures/3',\n",
              " 'Как, когда и о чем говорить с посетителем вашего сайта для увеличения конверсии? <img src=\"https://h']"
            ]
          },
          "metadata": {
            "tags": []
          },
          "execution_count": 15
        }
      ]
    },
    {
      "cell_type": "markdown",
      "metadata": {
        "id": "AlwrfmjtNUQW",
        "colab_type": "text"
      },
      "source": [
        "В силу ограничения по памяти прямое применение [`CountVectorizer`](https://scikit-learn.org/stable/modules/generated/sklearn.feature_extraction.text.CountVectorizer.html \"sklearn.feature_extraction.text.CountVectorizer\") ко всему корпусу текстов оказалось невозможным (в том числе даже на [**google colab**](https://colab.research.google.com/notebooks/welcome.ipynb \"Welcome to Colaboratory!\")). Можно было бы пытаться регулировать размер используемой RAM с помощью таких параметров, как `max_df`, `min_df` и `max_features`, но всё-таки хотелось бы как-то осмысленно выбирать их значения.\n",
        "\n",
        "В итоге я решил использовать [hashing trick](https://scikit-learn.org/stable/modules/feature_extraction.html#hashing-vectorizer \"Vectorizing a large text corpus with the hashing trick\") и [`HashingVectorizer`](https://scikit-learn.org/stable/modules/generated/sklearn.feature_extraction.text.HashingVectorizer.html \"sklearn.feature_extraction.text.HashingVectorizer\") (он не хранит словарь). \n",
        "\n",
        "_**TODO**_: возможно, имело бы смысл посмотреть в сторону [h5py](http://docs.h5py.org/en/stable \"HDF5 for Python\") и [линейных моделей **sklearn**](https://scikit-learn.org/stable/modules/classes.html#module-sklearn.linear_model \"sklearn.linear_model\"), поддерживающих [online learning](https://scikit-learn.org/stable/auto_examples/applications/plot_out_of_core_classification.html#sphx-glr-auto-examples-applications-plot-out-of-core-classification-py \"Out-of-core classification of text documents\") (метод  [`partial_fit`](https://scikit-learn.org/stable/modules/generated/sklearn.linear_model.SGDRegressor.html#sklearn.linear_model.SGDRegressor.partial_fit \"sklearn.linear_model.SGDRegressor\")), но это немного out of scope для текущей задачи."
      ]
    },
    {
      "cell_type": "code",
      "metadata": {
        "id": "l57ywFQcg8ip",
        "colab_type": "code",
        "outputId": "7c50e030-0c2a-4f20-e1da-63a1bd146de6",
        "colab": {
          "base_uri": "https://localhost:8080/",
          "height": 52
        }
      },
      "source": [
        "hv = HashingVectorizer(ngram_range=(1, 1), n_features=2**20, norm=None)\n",
        "\n",
        "X_train_hv = hv.fit_transform(X_train_text)\n",
        "\n",
        "del X_train_text\n",
        "\n",
        "X_train_hv"
      ],
      "execution_count": 16,
      "outputs": [
        {
          "output_type": "execute_result",
          "data": {
            "text/plain": [
              "<170211x1048576 sparse matrix of type '<class 'numpy.float64'>'\n",
              "\twith 72572508 stored elements in Compressed Sparse Row format>"
            ]
          },
          "metadata": {
            "tags": []
          },
          "execution_count": 16
        }
      ]
    },
    {
      "cell_type": "markdown",
      "metadata": {
        "id": "jtwAHe_00a-L",
        "colab_type": "text"
      },
      "source": [
        "Стандартная регрессионная модель [LinearRegression](https://scikit-learn.org/stable/modules/generated/sklearn.linear_model.LinearRegression.html \"sklearn.linear_model.LinearRegression\") очень долго обучается на матрице такого размера, поэтому я решил использовать линейную модель, минимизирующую функцию потерь с помощью [SGD](https://scikit-learn.org/stable/modules/generated/sklearn.linear_model.SGDRegressor.html \"sklearn.linear_model.SGDRegressor\")."
      ]
    },
    {
      "cell_type": "code",
      "metadata": {
        "id": "4LfyMA5kEvod",
        "colab_type": "code",
        "colab": {
          "base_uri": "https://localhost:8080/",
          "height": 52
        },
        "outputId": "16f3a677-d17b-4888-8c2d-39074600587e"
      },
      "source": [
        "pipeline = make_pipeline(TfidfTransformer(norm='l2'),\n",
        "                         SGDRegressor(penalty='elasticnet', shuffle=False, tol=1e-3, n_iter_no_change=5, verbose=0))\n",
        "\n",
        "lr_scores = cross_val_score(pipeline, X_train_hv, y_train, scoring='neg_mean_squared_error', \n",
        "                            cv=5, verbose=5, n_jobs=-1)"
      ],
      "execution_count": 17,
      "outputs": [
        {
          "output_type": "stream",
          "text": [
            "[Parallel(n_jobs=-1)]: Using backend LokyBackend with 2 concurrent workers.\n",
            "[Parallel(n_jobs=-1)]: Done   5 out of   5 | elapsed:  9.6min finished\n"
          ],
          "name": "stderr"
        }
      ]
    },
    {
      "cell_type": "markdown",
      "metadata": {
        "id": "JAgZcyZNNcXW",
        "colab_type": "text"
      },
      "source": [
        "### Baseline score:"
      ]
    },
    {
      "cell_type": "code",
      "metadata": {
        "id": "Naz-xpPUUO9e",
        "colab_type": "code",
        "colab": {
          "base_uri": "https://localhost:8080/",
          "height": 52
        },
        "outputId": "b543b021-e0c7-4e58-fa05-95b4b11893dd"
      },
      "source": [
        "print(lr_scores)\n",
        "\n",
        "print(f'{np.mean(-1*lr_scores):.4f}')"
      ],
      "execution_count": 18,
      "outputs": [
        {
          "output_type": "stream",
          "text": [
            "[-1.34440117 -1.3644654  -1.3661725  -1.34364036 -1.3662467 ]\n",
            "1.3570\n"
          ],
          "name": "stdout"
        }
      ]
    }
  ]
}
{
  "nbformat": 4,
  "nbformat_minor": 0,
  "metadata": {
    "colab": {
      "name": "nn_hw7_baseline.ipynb",
      "version": "0.3.2",
      "provenance": [],
      "collapsed_sections": [],
      "include_colab_link": true
    },
    "kernelspec": {
      "name": "python3",
      "display_name": "Python 3"
    },
    "accelerator": "GPU"
  },
  "cells": [
    {
      "cell_type": "markdown",
      "metadata": {
        "id": "view-in-github",
        "colab_type": "text"
      },
      "source": [
        "<a href=\"https://colab.research.google.com/github/rklepov/hse-cs-ml-2018-2019/blob/homework/05-NN/HW/hw7/nn_hw7_baseline.ipynb\" target=\"_parent\"><img src=\"https://colab.research.google.com/assets/colab-badge.svg\" alt=\"Open In Colab\"/></a>"
      ]
    },
    {
      "cell_type": "markdown",
      "metadata": {
        "id": "RfW_S7LcISyN",
        "colab_type": "text"
      },
      "source": [
        "## _[NN HW7](https://github.com/rklepov/hse-cs-ml-2018-2019/blob/master/05-NN/05-nlp/02-fasttext/HomeWork.ipynb \"NN HW7\") -- baseline_\n",
        "\n",
        "Необходимо обучить регрессионную модель (предсказание популярности статьи на Хабре) - за бейзлайн возьмите tf-idf + линейная модель:\n",
        "\n",
        "train - https://yadi.sk/d/hAhCuetI3JPouk\n",
        "\n",
        "test - https://yadi.sk/d/mLMZZtN63JPouc\n",
        "\n",
        "---"
      ]
    },
    {
      "cell_type": "code",
      "metadata": {
        "id": "BzHXKwjqA2r8",
        "colab_type": "code",
        "colab": {}
      },
      "source": [
        "import matplotlib.pyplot as plt\n",
        "%matplotlib inline\n",
        "import seaborn as sns\n",
        "sns.set()\n",
        "import numpy as np\n",
        "import pandas as pd\n",
        "import re"
      ],
      "execution_count": 0,
      "outputs": []
    },
    {
      "cell_type": "code",
      "metadata": {
        "id": "Z4J6p5zBBSLW",
        "colab_type": "code",
        "outputId": "ca7b206b-f150-4116-8741-afc34487c735",
        "colab": {
          "base_uri": "https://localhost:8080/",
          "height": 34
        }
      },
      "source": [
        "from google.colab import drive\n",
        "drive.mount('/content/gdrive')"
      ],
      "execution_count": 2,
      "outputs": [
        {
          "output_type": "stream",
          "text": [
            "Drive already mounted at /content/gdrive; to attempt to forcibly remount, call drive.mount(\"/content/gdrive\", force_remount=True).\n"
          ],
          "name": "stdout"
        }
      ]
    },
    {
      "cell_type": "code",
      "metadata": {
        "id": "WhF-1KTWI-5Y",
        "colab_type": "code",
        "outputId": "7f8c59e1-bc4f-4ad2-8b3d-c004e761e837",
        "colab": {
          "base_uri": "https://localhost:8080/",
          "height": 51
        }
      },
      "source": [
        "!ls -hAlF *.csv"
      ],
      "execution_count": 3,
      "outputs": [
        {
          "output_type": "stream",
          "text": [
            "-rw------- 1 root root 107M May 16 05:14 test_content.csv\n",
            "-rw------- 1 root root 1.8G May 16 05:15 train_content.csv\n"
          ],
          "name": "stdout"
        }
      ]
    },
    {
      "cell_type": "markdown",
      "metadata": {
        "id": "OLfMkYcyI6a8",
        "colab_type": "text"
      },
      "source": [
        "## 1. _Данные_"
      ]
    },
    {
      "cell_type": "code",
      "metadata": {
        "id": "XM7_vGh0Dpz3",
        "colab_type": "code",
        "colab": {}
      },
      "source": [
        "train_content = pd.read_csv('train_content.csv')\n",
        "test_content = pd.read_csv('test_content.csv')"
      ],
      "execution_count": 0,
      "outputs": []
    },
    {
      "cell_type": "code",
      "metadata": {
        "id": "jL7OF3Y6JrHF",
        "colab_type": "code",
        "outputId": "17e72e66-4022-4054-d88f-5d8983cfce24",
        "colab": {
          "base_uri": "https://localhost:8080/",
          "height": 34
        }
      },
      "source": [
        "train_content.shape"
      ],
      "execution_count": 5,
      "outputs": [
        {
          "output_type": "execute_result",
          "data": {
            "text/plain": [
              "(172913, 13)"
            ]
          },
          "metadata": {
            "tags": []
          },
          "execution_count": 5
        }
      ]
    },
    {
      "cell_type": "code",
      "metadata": {
        "id": "2CbXpgATGOqs",
        "colab_type": "code",
        "outputId": "91213b14-4e62-4127-a32e-7eb281cea958",
        "colab": {
          "base_uri": "https://localhost:8080/",
          "height": 349
        }
      },
      "source": [
        "train_content.head(3)"
      ],
      "execution_count": 6,
      "outputs": [
        {
          "output_type": "execute_result",
          "data": {
            "text/html": [
              "<div>\n",
              "<style scoped>\n",
              "    .dataframe tbody tr th:only-of-type {\n",
              "        vertical-align: middle;\n",
              "    }\n",
              "\n",
              "    .dataframe tbody tr th {\n",
              "        vertical-align: top;\n",
              "    }\n",
              "\n",
              "    .dataframe thead th {\n",
              "        text-align: right;\n",
              "    }\n",
              "</style>\n",
              "<table border=\"1\" class=\"dataframe\">\n",
              "  <thead>\n",
              "    <tr style=\"text-align: right;\">\n",
              "      <th></th>\n",
              "      <th>_id</th>\n",
              "      <th>date</th>\n",
              "      <th>tags</th>\n",
              "      <th>title</th>\n",
              "      <th>hubs_title</th>\n",
              "      <th>description</th>\n",
              "      <th>name</th>\n",
              "      <th>hub</th>\n",
              "      <th>png</th>\n",
              "      <th>nick</th>\n",
              "      <th>url</th>\n",
              "      <th>content</th>\n",
              "      <th>favs_lognorm</th>\n",
              "    </tr>\n",
              "  </thead>\n",
              "  <tbody>\n",
              "    <tr>\n",
              "      <th>0</th>\n",
              "      <td>https://geektimes.ru/post/21866/</td>\n",
              "      <td>2008-03-17T18:55:00.000Z</td>\n",
              "      <td>['eeepc', 'asus', 'ЭТО', 'эльдорадо', 'ура']</td>\n",
              "      <td>eeePC в продаже. Да. Правда.</td>\n",
              "      <td>Железо</td>\n",
              "      <td>Итак, если 3 дня назад я отписался то что в пр...</td>\n",
              "      <td>Сергей 'pokatusher'</td>\n",
              "      <td>hub/hardware</td>\n",
              "      <td>https://habrastorage.org/getpro/habr/olpicture...</td>\n",
              "      <td>@M_org</td>\n",
              "      <td>https://geektimes.ru/users/M_org</td>\n",
              "      <td>Итак, если 3 дня назад я &lt;a href=\"http://habra...</td>\n",
              "      <td>2.484907</td>\n",
              "    </tr>\n",
              "    <tr>\n",
              "      <th>1</th>\n",
              "      <td>https://habrahabr.ru/company/aladdinrd/blog/30...</td>\n",
              "      <td>2016-06-24T13:02:00.000Z</td>\n",
              "      <td>['Интеграция', 'шифрование', 'Windows', 'Win32...</td>\n",
              "      <td>«Разрубить Гордиев узел» или преодоление пробл...</td>\n",
              "      <td>Системное программирование</td>\n",
              "      <td>Современная операционная система это сложный и...</td>\n",
              "      <td>Аладдин Р.Д.</td>\n",
              "      <td>hub/system_programming</td>\n",
              "      <td>https://habrastorage.org/files/cbd/cf9/5ff/cbd...</td>\n",
              "      <td>NaN</td>\n",
              "      <td>https://habrahabr.ru/company/aladdinrd</td>\n",
              "      <td>Современная операционная система это сложный и...</td>\n",
              "      <td>4.174387</td>\n",
              "    </tr>\n",
              "    <tr>\n",
              "      <th>2</th>\n",
              "      <td>https://geektimes.ru/post/92887/</td>\n",
              "      <td>2010-05-06T10:00:00.000Z</td>\n",
              "      <td>['mc', 'midnight commander', 'diffview', 'merg...</td>\n",
              "      <td>Релиз Midnight Commander 4.7.2 и 4.7.0.5</td>\n",
              "      <td>Чёрная дыра</td>\n",
              "      <td>Спустя 2 месяца упорных трудов вышла новая вер...</td>\n",
              "      <td>Илья Маслаков</td>\n",
              "      <td>hub/closet</td>\n",
              "      <td>https://geektimes.ru/images/logo.png</td>\n",
              "      <td>@smind</td>\n",
              "      <td>https://geektimes.ru/users/smind</td>\n",
              "      <td>Спустя 2 месяца упорных трудов вышла новая вер...</td>\n",
              "      <td>0.000000</td>\n",
              "    </tr>\n",
              "  </tbody>\n",
              "</table>\n",
              "</div>"
            ],
            "text/plain": [
              "                                                 _id  ... favs_lognorm\n",
              "0                   https://geektimes.ru/post/21866/  ...     2.484907\n",
              "1  https://habrahabr.ru/company/aladdinrd/blog/30...  ...     4.174387\n",
              "2                   https://geektimes.ru/post/92887/  ...     0.000000\n",
              "\n",
              "[3 rows x 13 columns]"
            ]
          },
          "metadata": {
            "tags": []
          },
          "execution_count": 6
        }
      ]
    },
    {
      "cell_type": "code",
      "metadata": {
        "id": "N9k4LvhXGF1J",
        "colab_type": "code",
        "outputId": "94d83a97-6512-4782-871e-39933cc8e119",
        "colab": {
          "base_uri": "https://localhost:8080/",
          "height": 323
        }
      },
      "source": [
        "train_content.info()"
      ],
      "execution_count": 7,
      "outputs": [
        {
          "output_type": "stream",
          "text": [
            "<class 'pandas.core.frame.DataFrame'>\n",
            "RangeIndex: 172913 entries, 0 to 172912\n",
            "Data columns (total 13 columns):\n",
            "_id             172913 non-null object\n",
            "date            172913 non-null object\n",
            "tags            172913 non-null object\n",
            "title           172913 non-null object\n",
            "hubs_title      172913 non-null object\n",
            "description     172299 non-null object\n",
            "name            143259 non-null object\n",
            "hub             172913 non-null object\n",
            "png             172913 non-null object\n",
            "nick            135210 non-null object\n",
            "url             172913 non-null object\n",
            "content         172861 non-null object\n",
            "favs_lognorm    172913 non-null float64\n",
            "dtypes: float64(1), object(12)\n",
            "memory usage: 17.1+ MB\n"
          ],
          "name": "stdout"
        }
      ]
    },
    {
      "cell_type": "code",
      "metadata": {
        "id": "2SVSv5QZFpnT",
        "colab_type": "code",
        "outputId": "dfed61ab-aaba-4de6-a754-b84eecccb7a6",
        "colab": {
          "base_uri": "https://localhost:8080/",
          "height": 421
        }
      },
      "source": [
        "train_content.describe(exclude=np.number).T"
      ],
      "execution_count": 8,
      "outputs": [
        {
          "output_type": "execute_result",
          "data": {
            "text/html": [
              "<div>\n",
              "<style scoped>\n",
              "    .dataframe tbody tr th:only-of-type {\n",
              "        vertical-align: middle;\n",
              "    }\n",
              "\n",
              "    .dataframe tbody tr th {\n",
              "        vertical-align: top;\n",
              "    }\n",
              "\n",
              "    .dataframe thead th {\n",
              "        text-align: right;\n",
              "    }\n",
              "</style>\n",
              "<table border=\"1\" class=\"dataframe\">\n",
              "  <thead>\n",
              "    <tr style=\"text-align: right;\">\n",
              "      <th></th>\n",
              "      <th>count</th>\n",
              "      <th>unique</th>\n",
              "      <th>top</th>\n",
              "      <th>freq</th>\n",
              "    </tr>\n",
              "  </thead>\n",
              "  <tbody>\n",
              "    <tr>\n",
              "      <th>_id</th>\n",
              "      <td>172913</td>\n",
              "      <td>172913</td>\n",
              "      <td>https://habrahabr.ru/post/233045/</td>\n",
              "      <td>1</td>\n",
              "    </tr>\n",
              "    <tr>\n",
              "      <th>date</th>\n",
              "      <td>172913</td>\n",
              "      <td>167976</td>\n",
              "      <td>2011-06-14T15:52:00.000Z</td>\n",
              "      <td>39</td>\n",
              "    </tr>\n",
              "    <tr>\n",
              "      <th>tags</th>\n",
              "      <td>172913</td>\n",
              "      <td>161419</td>\n",
              "      <td>[]</td>\n",
              "      <td>1251</td>\n",
              "    </tr>\n",
              "    <tr>\n",
              "      <th>title</th>\n",
              "      <td>172913</td>\n",
              "      <td>171859</td>\n",
              "      <td>Интересные события, произошедшие в выходные</td>\n",
              "      <td>56</td>\n",
              "    </tr>\n",
              "    <tr>\n",
              "      <th>hubs_title</th>\n",
              "      <td>172913</td>\n",
              "      <td>1709</td>\n",
              "      <td>Чёрная дыра</td>\n",
              "      <td>30205</td>\n",
              "    </tr>\n",
              "    <tr>\n",
              "      <th>description</th>\n",
              "      <td>172299</td>\n",
              "      <td>168898</td>\n",
              "      <td></td>\n",
              "      <td>2036</td>\n",
              "    </tr>\n",
              "    <tr>\n",
              "      <th>name</th>\n",
              "      <td>143259</td>\n",
              "      <td>16140</td>\n",
              "      <td>Анатолий Ализар</td>\n",
              "      <td>7186</td>\n",
              "    </tr>\n",
              "    <tr>\n",
              "      <th>hub</th>\n",
              "      <td>172913</td>\n",
              "      <td>1702</td>\n",
              "      <td>hub/closet</td>\n",
              "      <td>30206</td>\n",
              "    </tr>\n",
              "    <tr>\n",
              "      <th>png</th>\n",
              "      <td>172913</td>\n",
              "      <td>109236</td>\n",
              "      <td>https://habrahabr.ru/i/habralogo.jpg</td>\n",
              "      <td>31516</td>\n",
              "    </tr>\n",
              "    <tr>\n",
              "      <th>nick</th>\n",
              "      <td>135210</td>\n",
              "      <td>26670</td>\n",
              "      <td>@alizar</td>\n",
              "      <td>7186</td>\n",
              "    </tr>\n",
              "    <tr>\n",
              "      <th>url</th>\n",
              "      <td>172913</td>\n",
              "      <td>45294</td>\n",
              "      <td>https://geektimes.ru/users/alizar</td>\n",
              "      <td>4841</td>\n",
              "    </tr>\n",
              "    <tr>\n",
              "      <th>content</th>\n",
              "      <td>172861</td>\n",
              "      <td>170632</td>\n",
              "      <td></td>\n",
              "      <td>2036</td>\n",
              "    </tr>\n",
              "  </tbody>\n",
              "</table>\n",
              "</div>"
            ],
            "text/plain": [
              "              count  unique                                          top   freq\n",
              "_id          172913  172913            https://habrahabr.ru/post/233045/      1\n",
              "date         172913  167976                     2011-06-14T15:52:00.000Z     39\n",
              "tags         172913  161419                                           []   1251\n",
              "title        172913  171859  Интересные события, произошедшие в выходные     56\n",
              "hubs_title   172913    1709                                  Чёрная дыра  30205\n",
              "description  172299  168898                                                2036\n",
              "name         143259   16140                              Анатолий Ализар   7186\n",
              "hub          172913    1702                                   hub/closet  30206\n",
              "png          172913  109236         https://habrahabr.ru/i/habralogo.jpg  31516\n",
              "nick         135210   26670                                      @alizar   7186\n",
              "url          172913   45294            https://geektimes.ru/users/alizar   4841\n",
              "content      172861  170632                                                2036"
            ]
          },
          "metadata": {
            "tags": []
          },
          "execution_count": 8
        }
      ]
    },
    {
      "cell_type": "code",
      "metadata": {
        "id": "QQBlFqC8HAlW",
        "colab_type": "code",
        "outputId": "917c1f61-f91f-49b5-f6cf-43c59c6f9582",
        "colab": {
          "base_uri": "https://localhost:8080/",
          "height": 80
        }
      },
      "source": [
        "train_content.describe(include=np.number).T"
      ],
      "execution_count": 9,
      "outputs": [
        {
          "output_type": "execute_result",
          "data": {
            "text/html": [
              "<div>\n",
              "<style scoped>\n",
              "    .dataframe tbody tr th:only-of-type {\n",
              "        vertical-align: middle;\n",
              "    }\n",
              "\n",
              "    .dataframe tbody tr th {\n",
              "        vertical-align: top;\n",
              "    }\n",
              "\n",
              "    .dataframe thead th {\n",
              "        text-align: right;\n",
              "    }\n",
              "</style>\n",
              "<table border=\"1\" class=\"dataframe\">\n",
              "  <thead>\n",
              "    <tr style=\"text-align: right;\">\n",
              "      <th></th>\n",
              "      <th>count</th>\n",
              "      <th>mean</th>\n",
              "      <th>std</th>\n",
              "      <th>min</th>\n",
              "      <th>25%</th>\n",
              "      <th>50%</th>\n",
              "      <th>75%</th>\n",
              "      <th>max</th>\n",
              "    </tr>\n",
              "  </thead>\n",
              "  <tbody>\n",
              "    <tr>\n",
              "      <th>favs_lognorm</th>\n",
              "      <td>172913.0</td>\n",
              "      <td>2.802295</td>\n",
              "      <td>1.71161</td>\n",
              "      <td>0.0</td>\n",
              "      <td>1.386294</td>\n",
              "      <td>2.890372</td>\n",
              "      <td>4.110874</td>\n",
              "      <td>9.080687</td>\n",
              "    </tr>\n",
              "  </tbody>\n",
              "</table>\n",
              "</div>"
            ],
            "text/plain": [
              "                 count      mean      std  ...       50%       75%       max\n",
              "favs_lognorm  172913.0  2.802295  1.71161  ...  2.890372  4.110874  9.080687\n",
              "\n",
              "[1 rows x 8 columns]"
            ]
          },
          "metadata": {
            "tags": []
          },
          "execution_count": 9
        }
      ]
    },
    {
      "cell_type": "markdown",
      "metadata": {
        "id": "IjxZUcWpJHj1",
        "colab_type": "text"
      },
      "source": [
        "Распределение по текстов по длине:"
      ]
    },
    {
      "cell_type": "code",
      "metadata": {
        "id": "bpiwjKN4D3FF",
        "colab_type": "code",
        "outputId": "d63734fa-e24c-4a4e-97b9-8714bbbb6aa2",
        "colab": {
          "base_uri": "https://localhost:8080/",
          "height": 274
        }
      },
      "source": [
        "plt.hist(train_content['content'][train_content['content'].notnull()].str.len(), range=(100, 20000));"
      ],
      "execution_count": 10,
      "outputs": [
        {
          "output_type": "display_data",
          "data": {
            "image/png": "[encoded data removed]",
            "text/plain": [
              "<Figure size 432x288 with 1 Axes>"
            ]
          },
          "metadata": {
            "tags": []
          }
        }
      ]
    },
    {
      "cell_type": "markdown",
      "metadata": {
        "id": "yHk3SZfDPn3r",
        "colab_type": "text"
      },
      "source": [
        "В данных из `test_content.csv` нет целевой переменной (видимо, это тестовый сет с соревнования), поэтому в данном случае его использовать невозможно."
      ]
    },
    {
      "cell_type": "code",
      "metadata": {
        "id": "uy_CL1f9Of4K",
        "colab_type": "code",
        "outputId": "7c0d165c-64dc-4167-d104-cbc0171a7668",
        "colab": {
          "base_uri": "https://localhost:8080/",
          "height": 34
        }
      },
      "source": [
        "test_content.shape"
      ],
      "execution_count": 11,
      "outputs": [
        {
          "output_type": "execute_result",
          "data": {
            "text/plain": [
              "(5405, 12)"
            ]
          },
          "metadata": {
            "tags": []
          },
          "execution_count": 11
        }
      ]
    },
    {
      "cell_type": "markdown",
      "metadata": {
        "id": "pD2pKeMfKnkZ",
        "colab_type": "text"
      },
      "source": [
        "Так что будем оценивать MSE по кросс-валидации на датасете `train_content.csv`."
      ]
    },
    {
      "cell_type": "markdown",
      "metadata": {
        "id": "qRLlM0miJYP-",
        "colab_type": "text"
      },
      "source": [
        "## 2. _Модель_"
      ]
    },
    {
      "cell_type": "code",
      "metadata": {
        "id": "dv4vf_URLYpB",
        "colab_type": "code",
        "colab": {}
      },
      "source": [
        "from sklearn.model_selection import train_test_split, cross_val_score\n",
        "from sklearn.feature_extraction.text import HashingVectorizer, TfidfTransformer\n",
        "from sklearn.pipeline import make_pipeline\n",
        "from sklearn.linear_model import LinearRegression, SGDRegressor"
      ],
      "execution_count": 0,
      "outputs": []
    },
    {
      "cell_type": "markdown",
      "metadata": {
        "id": "KIOpPcFsJujI",
        "colab_type": "text"
      },
      "source": [
        "Очистим текст [от html тегов](https://stackoverflow.com/questions/753052/strip-html-from-strings-in-python \"Strip HTML from strings in Python\") (простейший вариант, через regex). Отбросим пустые и совсем короткие тексты. Объединим заголовок и текст статьи. Одновременно сделаем перемешивание."
      ]
    },
    {
      "cell_type": "code",
      "metadata": {
        "id": "walLKEwnLipJ",
        "colab_type": "code",
        "colab": {}
      },
      "source": [
        "def make_striphtml(regex):\n",
        "    p = re.compile(regex)\n",
        "    def striphtml(text):\n",
        "        return p.sub(' ', text)\n",
        "    return striphtml\n",
        "\n",
        "striphtml = make_striphtml('<[^<]+?>')\n",
        "\n",
        "def select_content_favs(d, min_len=100, size=1.):\n",
        "    w = d['content'].notnull()\n",
        "    d['content'][w] = d['content'][w].apply(striphtml)\n",
        "    w &= min_len < d['content'].str.len()\n",
        "    i = np.argwhere(w.values).squeeze()    \n",
        "    i = i[np.random.choice(len(i), size=int(len(i) * size), replace=False)]\n",
        "    return ((d['title'][i] + ' ' + d['content'][i]).values, d['favs_lognorm'][i].values)"
      ],
      "execution_count": 0,
      "outputs": []
    },
    {
      "cell_type": "markdown",
      "metadata": {
        "id": "3xV1RnFNsGLS",
        "colab_type": "text"
      },
      "source": [
        "__\\*__ _**TODO**_:  Хотя, очевидно, идея очистки текста от [**_HTML_**](https://www.w3schools.com/html \"HTML5 Tutorial\") тегов концептуально правильная, в действительности существует ряд проблем:\n",
        "\n",
        "**1)** Удаление _HTML_ тегов с помощью простого регулярного выражения наподобие `'<.*?>'` на практике ***ухудшает*** _MSE score_ линейной модели. Предположу следующие объяснения этому факту:\n",
        "* Менее вероятно, но всё равно можно допустить, что в некоторых статьях таким образом была удалена часть текста.\n",
        "* Возможно, что некоторые  _HTML_ теги или атрибуты сами по себе содержат полезную информацию. Например, скорее всего **vectorizer** выделит атрибут [`href`](https://www.w3schools.com/tags/att_a_href.asp \"HTML <a> href Attribute\") как отдельный токен. И, таким образом, будет учитывать частоту его появления в тексте. Но ведь разумно предположить, что статьи, содержащие большое число полезных ссылок, могут получать более высокий рейтинг. А если мы удалим _HTML_ теги (вместе с атрибутами), то данная информация будет утеряна.\n",
        "\n",
        "**2)** Можно было бы попробовать реализовать более интеллектуальное удаление тегов с помощью _HTML_ парсера (например, [HTMLParser](https://docs.python.org/3/library/html.parser.html \"html.parser — Simple HTML and XHTML parser\") или [BeautifulSoup](https://www.crummy.com/software/BeautifulSoup \"Beautiful Soup\")). Но на этом пути также будет необходимо решить ряд вопросов, например:\n",
        "* Дело в том, что тексты не являются правильными _HTML_ документами. Очевидно, что к ним уже была применена какая-то предварительная очистка перед сохранением в `.csv` файл. То есть, фактически, это просто текст с отдельными сохранившимися вкраплениями _HTML_. И, как себя поведёт парсер при разборе такого текста, необходимо исследовать.\n",
        "* Было бы неплохо определить и реализовать политику по отношению к отдельным элементам разметки, которые можно считать полезными для поставленной задачи, таких как атрибут `href` в примере выше.\n",
        "* Данный подход, очевидно, более трудоёмкий в реализации.\n",
        "\n",
        "Таким образом, качественная очистка текста -- это сама по себе сложная задача. И, в контексте данной учебной работы (также учитывая, что для неё это не основная тема) не хотелось бы инвестировать в это чересчур много времени и усилий."
      ]
    },
    {
      "cell_type": "code",
      "metadata": {
        "id": "2NcBzA_qMRAt",
        "colab_type": "code",
        "outputId": "4586e227-a225-40b2-85a6-ca97eb9902eb",
        "colab": {
          "base_uri": "https://localhost:8080/",
          "height": 34
        }
      },
      "source": [
        "train_content = train_content[['title', 'content', 'favs_lognorm']]\n",
        "\n",
        "X_train_text, y_train = select_content_favs(train_content, 32)\n",
        "\n",
        "del train_content, test_content\n",
        "\n",
        "[ x.shape for x in (X_train_text, y_train) ]"
      ],
      "execution_count": 14,
      "outputs": [
        {
          "output_type": "execute_result",
          "data": {
            "text/plain": [
              "[(169731,), (169731,)]"
            ]
          },
          "metadata": {
            "tags": []
          },
          "execution_count": 14
        }
      ]
    },
    {
      "cell_type": "code",
      "metadata": {
        "id": "23armA5MqlL0",
        "colab_type": "code",
        "outputId": "b7fca7fe-527a-4b7a-f5de-9ce8fdafc82c",
        "colab": {
          "base_uri": "https://localhost:8080/",
          "height": 68
        }
      },
      "source": [
        "[ s[:100] for s in X_train_text[:3] ]"
      ],
      "execution_count": 15,
      "outputs": [
        {
          "output_type": "execute_result",
          "data": {
            "text/plain": [
              "['Льготы и компенсации или сушки и плюшки В предыдущих наших постах мы довольно подробно рассказали о ',\n",
              " 'Шикарная панорама Марса от NASA   \\r\\n \\r\\nДо того момента, как человек попадет на Марс, остается еще ка',\n",
              " 'Пожар на фабрике Hynix в Китае Добрый день. \\r\\nХочу поведать о прошествии, которое произошло вчера в ']"
            ]
          },
          "metadata": {
            "tags": []
          },
          "execution_count": 15
        }
      ]
    },
    {
      "cell_type": "markdown",
      "metadata": {
        "id": "AlwrfmjtNUQW",
        "colab_type": "text"
      },
      "source": [
        "В силу ограничения по памяти прямое применение [`CountVectorizer`](https://scikit-learn.org/stable/modules/generated/sklearn.feature_extraction.text.CountVectorizer.html \"sklearn.feature_extraction.text.CountVectorizer\") ко всему корпусу текстов оказалось невозможным (в том числе даже на [**google colab**](https://colab.research.google.com/notebooks/welcome.ipynb \"Welcome to Colaboratory!\")). Можно было бы пытаться регулировать размер используемой RAM с помощью таких параметров, как `max_df`, `min_df` и `max_features`, но всё-таки хотелось бы как-то осмысленно выбирать их значения.\n",
        "\n",
        "В итоге я решил использовать [hashing trick](https://scikit-learn.org/stable/modules/feature_extraction.html#hashing-vectorizer \"Vectorizing a large text corpus with the hashing trick\") и [`HashingVectorizer`](https://scikit-learn.org/stable/modules/generated/sklearn.feature_extraction.text.HashingVectorizer.html \"sklearn.feature_extraction.text.HashingVectorizer\") (он не хранит словарь). \n",
        "\n",
        "__\\*__ _**TODO**_: возможно, имело бы смысл посмотреть в сторону [h5py](http://docs.h5py.org/en/stable \"HDF5 for Python\") и [линейных моделей **sklearn**](https://scikit-learn.org/stable/modules/classes.html#module-sklearn.linear_model \"sklearn.linear_model\"), поддерживающих [online learning](https://scikit-learn.org/stable/auto_examples/applications/plot_out_of_core_classification.html#sphx-glr-auto-examples-applications-plot-out-of-core-classification-py \"Out-of-core classification of text documents\") (метод  [`partial_fit`](https://scikit-learn.org/stable/modules/generated/sklearn.linear_model.SGDRegressor.html#sklearn.linear_model.SGDRegressor.partial_fit \"sklearn.linear_model.SGDRegressor\")), но это немного out of scope для текущей задачи."
      ]
    },
    {
      "cell_type": "code",
      "metadata": {
        "id": "l57ywFQcg8ip",
        "colab_type": "code",
        "outputId": "6fca9497-be99-4d90-9d73-c0442db6699a",
        "colab": {
          "base_uri": "https://localhost:8080/",
          "height": 51
        }
      },
      "source": [
        "hv = HashingVectorizer(ngram_range=(1, 1), n_features=2**20, norm=None)\n",
        "\n",
        "X_train_hv = hv.fit_transform(X_train_text)\n",
        "\n",
        "del X_train_text\n",
        "\n",
        "X_train_hv"
      ],
      "execution_count": 16,
      "outputs": [
        {
          "output_type": "execute_result",
          "data": {
            "text/plain": [
              "<169731x1048576 sparse matrix of type '<class 'numpy.float64'>'\n",
              "\twith 64985096 stored elements in Compressed Sparse Row format>"
            ]
          },
          "metadata": {
            "tags": []
          },
          "execution_count": 16
        }
      ]
    },
    {
      "cell_type": "markdown",
      "metadata": {
        "id": "jtwAHe_00a-L",
        "colab_type": "text"
      },
      "source": [
        "Стандартная регрессионная модель [LinearRegression](https://scikit-learn.org/stable/modules/generated/sklearn.linear_model.LinearRegression.html \"sklearn.linear_model.LinearRegression\") очень долго обучается на матрице такого размера, поэтому я решил использовать линейную модель, минимизирующую функцию потерь с помощью [SGD](https://scikit-learn.org/stable/modules/generated/sklearn.linear_model.SGDRegressor.html \"sklearn.linear_model.SGDRegressor\")."
      ]
    },
    {
      "cell_type": "code",
      "metadata": {
        "id": "4LfyMA5kEvod",
        "colab_type": "code",
        "outputId": "aec725a7-66ae-4114-fd64-58134aa5dd64",
        "colab": {
          "base_uri": "https://localhost:8080/",
          "height": 255
        }
      },
      "source": [
        "pipeline = make_pipeline(TfidfTransformer(norm='l2'),\n",
        "                         SGDRegressor(penalty='elasticnet', shuffle=False, tol=1e-3, n_iter_no_change=5, verbose=0))\n",
        "\n",
        "lr_scores = cross_val_score(pipeline, X_train_hv, y_train, scoring='neg_mean_squared_error', \n",
        "                            cv=5, verbose=3, n_jobs=1)"
      ],
      "execution_count": 17,
      "outputs": [
        {
          "output_type": "stream",
          "text": [
            "[Parallel(n_jobs=1)]: Using backend SequentialBackend with 1 concurrent workers.\n"
          ],
          "name": "stderr"
        },
        {
          "output_type": "stream",
          "text": [
            "[CV]  ................................................................\n",
            "[CV] ...................... , score=-1.4811822866989008, total= 1.4min\n",
            "[CV]  ................................................................\n"
          ],
          "name": "stdout"
        },
        {
          "output_type": "stream",
          "text": [
            "[Parallel(n_jobs=1)]: Done   1 out of   1 | elapsed:  1.4min remaining:    0.0s\n"
          ],
          "name": "stderr"
        },
        {
          "output_type": "stream",
          "text": [
            "[CV] ...................... , score=-1.5065067872009494, total= 1.4min\n",
            "[CV]  ................................................................\n"
          ],
          "name": "stdout"
        },
        {
          "output_type": "stream",
          "text": [
            "[Parallel(n_jobs=1)]: Done   2 out of   2 | elapsed:  2.9min remaining:    0.0s\n"
          ],
          "name": "stderr"
        },
        {
          "output_type": "stream",
          "text": [
            "[CV] ...................... , score=-1.5042266736479424, total= 1.4min\n",
            "[CV]  ................................................................\n",
            "[CV] ...................... , score=-1.4850428215134375, total= 1.4min\n",
            "[CV]  ................................................................\n",
            "[CV] ...................... , score=-1.4653931514423768, total= 1.4min\n"
          ],
          "name": "stdout"
        },
        {
          "output_type": "stream",
          "text": [
            "[Parallel(n_jobs=1)]: Done   5 out of   5 | elapsed:  7.2min finished\n"
          ],
          "name": "stderr"
        }
      ]
    },
    {
      "cell_type": "markdown",
      "metadata": {
        "id": "JAgZcyZNNcXW",
        "colab_type": "text"
      },
      "source": [
        "### Baseline score:"
      ]
    },
    {
      "cell_type": "code",
      "metadata": {
        "id": "Naz-xpPUUO9e",
        "colab_type": "code",
        "outputId": "0c613ed2-9b96-4a39-acac-c57c7bffe744",
        "colab": {
          "base_uri": "https://localhost:8080/",
          "height": 51
        }
      },
      "source": [
        "print(lr_scores)\n",
        "\n",
        "print(f'{np.mean(-1*lr_scores):.4f}')"
      ],
      "execution_count": 18,
      "outputs": [
        {
          "output_type": "stream",
          "text": [
            "[-1.48118229 -1.50650679 -1.50422667 -1.48504282 -1.46539315]\n",
            "1.4885\n"
          ],
          "name": "stdout"
        }
      ]
    }
  ]
}
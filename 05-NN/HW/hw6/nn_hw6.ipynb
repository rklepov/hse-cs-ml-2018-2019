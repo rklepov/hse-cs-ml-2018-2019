{
  "nbformat": 4,
  "nbformat_minor": 0,
  "metadata": {
    "colab": {
      "name": "nn_hw6.ipynb",
      "version": "0.3.2",
      "provenance": [],
      "collapsed_sections": [],
      "include_colab_link": true
    },
    "language_info": {
      "codemirror_mode": {
        "name": "ipython",
        "version": 3
      },
      "file_extension": ".py",
      "mimetype": "text/x-python",
      "name": "python",
      "nbconvert_exporter": "python",
      "pygments_lexer": "ipython3",
      "version": "3.7.3"
    },
    "kernelspec": {
      "name": "python3",
      "display_name": "Python 3"
    },
    "accelerator": "GPU"
  },
  "cells": [
    {
      "cell_type": "markdown",
      "metadata": {
        "id": "view-in-github",
        "colab_type": "text"
      },
      "source": [
        "<a href=\"https://colab.research.google.com/github/rklepov/hse-cs-ml-2018-2019/blob/homework/05-NN/HW/hw6/nn_hw6.ipynb\" target=\"_parent\"><img src=\"https://colab.research.google.com/assets/colab-badge.svg\" alt=\"Open In Colab\"/></a>"
      ]
    },
    {
      "metadata": {
        "id": "gzFhQNvNx2aQ",
        "colab_type": "text"
      },
      "cell_type": "markdown",
      "source": [
        "> ## *[NN HW6](https://github.com/rklepov/hse-cs-ml-2018-2019/blob/homework/05-NN/05-nlp/01-tfidf-word2vec/Home%20-%20LSTM%20Sentiment%20Analysis.ipynb \"Задание 1. Применить модель на Embdedding слое и LSTM для оценки тональности отзыва с IMDB\")*\n",
        "\n",
        "### Задание 1. Применить модель на Embdedding слое и LSTM для оценки тональности отзыва с IMDB\n",
        "(Безлайн accuracy 0.85)"
      ]
    },
    {
      "metadata": {
        "id": "qD7X5ugKKE9Y",
        "colab_type": "text"
      },
      "cell_type": "markdown",
      "source": [
        "\\* *Там сейчас [проблема](https://github.com/tensorflow/tensorflow/issues/28102 \"The Keras examples should load data with allow_pickle=True #28102\") с `numpy 1.16.3`, поэтому явно установим предыдущую версию.*"
      ]
    },
    {
      "metadata": {
        "id": "yl27IQqnx_bx",
        "colab_type": "code",
        "outputId": "3de25fc3-08e1-4ece-a205-b8ec7909b17a",
        "colab": {
          "base_uri": "https://localhost:8080/",
          "height": 35
        }
      },
      "cell_type": "code",
      "source": [
        "!pip install numpy==1.16.2"
      ],
      "execution_count": 1,
      "outputs": [
        {
          "output_type": "stream",
          "text": [
            "Requirement already satisfied: numpy==1.16.2 in /usr/local/lib/python3.6/dist-packages (1.16.2)\n"
          ],
          "name": "stdout"
        }
      ]
    },
    {
      "metadata": {
        "id": "nJRfEqbXx2ax",
        "colab_type": "code",
        "colab": {}
      },
      "cell_type": "code",
      "source": [
        "import numpy as np\n",
        "import matplotlib.pyplot as plt\n",
        "%matplotlib inline\n",
        "import seaborn as sns\n",
        "sns.set()"
      ],
      "execution_count": 0,
      "outputs": []
    },
    {
      "metadata": {
        "id": "sFumyRcVx2a3",
        "colab_type": "code",
        "outputId": "e8a55e6e-a28e-47f6-fb45-891874e377b1",
        "colab": {
          "base_uri": "https://localhost:8080/",
          "height": 35
        }
      },
      "cell_type": "code",
      "source": [
        "np.__version__"
      ],
      "execution_count": 3,
      "outputs": [
        {
          "output_type": "execute_result",
          "data": {
            "text/plain": [
              "'1.16.2'"
            ]
          },
          "metadata": {
            "tags": []
          },
          "execution_count": 3
        }
      ]
    },
    {
      "metadata": {
        "id": "6zICXU_4L1oC",
        "colab_type": "text"
      },
      "cell_type": "markdown",
      "source": [
        "### *Загрузка датасета*"
      ]
    },
    {
      "metadata": {
        "id": "JUJpwazSx2aS",
        "colab_type": "code",
        "outputId": "c9478067-01f2-49bf-9247-2b2ab7df4a98",
        "colab": {
          "base_uri": "https://localhost:8080/",
          "height": 35
        }
      },
      "cell_type": "code",
      "source": [
        "from keras.datasets import imdb"
      ],
      "execution_count": 4,
      "outputs": [
        {
          "output_type": "stream",
          "text": [
            "Using TensorFlow backend.\n"
          ],
          "name": "stderr"
        }
      ]
    },
    {
      "metadata": {
        "id": "y-lea8cvx2ab",
        "colab_type": "code",
        "colab": {}
      },
      "cell_type": "code",
      "source": [
        "vocabulary_size = 5000\n",
        "\n",
        "(X_train, y_train), (X_test, y_test) = imdb.load_data(num_words = vocabulary_size)"
      ],
      "execution_count": 0,
      "outputs": []
    },
    {
      "metadata": {
        "id": "Cl9hYFw5x2ah",
        "colab_type": "code",
        "outputId": "608755e3-0d8d-4117-b608-221b2ef861e8",
        "colab": {
          "base_uri": "https://localhost:8080/",
          "height": 107
        }
      },
      "cell_type": "code",
      "source": [
        "print('Review')\n",
        "print(X_train[5])\n",
        "print('Label')\n",
        "print(y_train[5])"
      ],
      "execution_count": 6,
      "outputs": [
        {
          "output_type": "stream",
          "text": [
            "Review\n",
            "[1, 778, 128, 74, 12, 630, 163, 15, 4, 1766, 2, 1051, 2, 32, 85, 156, 45, 40, 148, 139, 121, 664, 665, 10, 10, 1361, 173, 4, 749, 2, 16, 3804, 8, 4, 226, 65, 12, 43, 127, 24, 2, 10, 10]\n",
            "Label\n",
            "0\n"
          ],
          "name": "stdout"
        }
      ]
    },
    {
      "metadata": {
        "id": "l1oRMf0Zx2ar",
        "colab_type": "code",
        "outputId": "eb3de73d-68ba-48c0-88b5-6612fd79935a",
        "colab": {
          "base_uri": "https://localhost:8080/",
          "height": 107
        }
      },
      "cell_type": "code",
      "source": [
        "word2id = imdb.get_word_index()\n",
        "id2word = {i: word for word, i in word2id.items()}\n",
        "print('Review with words')\n",
        "print([id2word.get(i, ' ') for i in X_train[5]])\n",
        "print('Label')\n",
        "print(y_train[5])"
      ],
      "execution_count": 7,
      "outputs": [
        {
          "output_type": "stream",
          "text": [
            "Review with words\n",
            "['the', 'effort', 'still', 'been', 'that', 'usually', 'makes', 'for', 'of', 'finished', 'and', 'ended', 'and', 'an', 'because', 'before', 'if', 'just', 'though', 'something', 'know', 'novel', 'female', 'i', 'i', 'slowly', 'lot', 'of', 'above', 'and', 'with', 'connect', 'in', 'of', 'script', 'their', 'that', 'out', 'end', 'his', 'and', 'i', 'i']\n",
            "Label\n",
            "0\n"
          ],
          "name": "stdout"
        }
      ]
    },
    {
      "metadata": {
        "id": "rE2U_2wDx2bH",
        "colab_type": "code",
        "outputId": "244522d3-6262-467d-ce56-dce10960c971",
        "colab": {
          "base_uri": "https://localhost:8080/",
          "height": 35
        }
      },
      "cell_type": "code",
      "source": [
        "[ x.shape for x in (X_train, y_train, X_test, y_test) ]"
      ],
      "execution_count": 8,
      "outputs": [
        {
          "output_type": "execute_result",
          "data": {
            "text/plain": [
              "[(25000,), (25000,), (25000,), (25000,)]"
            ]
          },
          "metadata": {
            "tags": []
          },
          "execution_count": 8
        }
      ]
    },
    {
      "metadata": {
        "id": "-a_laSlwx2bQ",
        "colab_type": "code",
        "outputId": "9305e93f-83c5-4197-baa9-085228ed8ec4",
        "colab": {
          "base_uri": "https://localhost:8080/",
          "height": 35
        }
      },
      "cell_type": "code",
      "source": [
        "np.unique(y_train)"
      ],
      "execution_count": 9,
      "outputs": [
        {
          "output_type": "execute_result",
          "data": {
            "text/plain": [
              "array([0, 1])"
            ]
          },
          "metadata": {
            "tags": []
          },
          "execution_count": 9
        }
      ]
    },
    {
      "metadata": {
        "id": "008IStHTMGKl",
        "colab_type": "text"
      },
      "cell_type": "markdown",
      "source": [
        "Два класса, следовательно на последнем слое будем использовать сигмоидальную активацию."
      ]
    },
    {
      "metadata": {
        "id": "vI9_Gg-Ex2a_",
        "colab_type": "code",
        "outputId": "4083370d-a32d-4f91-e421-7e29d83311c6",
        "colab": {
          "base_uri": "https://localhost:8080/",
          "height": 35
        }
      },
      "cell_type": "code",
      "source": [
        "from keras.models import Sequential\n",
        "from keras.preprocessing.sequence import pad_sequences\n",
        "from keras.callbacks import EarlyStopping\n",
        "import keras.layers as L\n",
        "\n",
        "import tensorflow as tf\n",
        "tf.__version__"
      ],
      "execution_count": 10,
      "outputs": [
        {
          "output_type": "execute_result",
          "data": {
            "text/plain": [
              "'1.13.1'"
            ]
          },
          "metadata": {
            "tags": []
          },
          "execution_count": 10
        }
      ]
    },
    {
      "metadata": {
        "id": "toLmgR_3MplC",
        "colab_type": "text"
      },
      "cell_type": "markdown",
      "source": [
        "### *Распределение текстов по длине* "
      ]
    },
    {
      "metadata": {
        "id": "c3M2W-ntx2bZ",
        "colab_type": "code",
        "outputId": "f54bf61e-d87b-4ad6-fa21-3eb5fccdbec8",
        "colab": {
          "base_uri": "https://localhost:8080/",
          "height": 285
        }
      },
      "cell_type": "code",
      "source": [
        "plt.hist([ len(x) for x in X_train ], range=(0, 1000))\n",
        "plt.title('Distribution of the review length');"
      ],
      "execution_count": 11,
      "outputs": [
        {
          "output_type": "display_data",
          "data": {
            "image/png": "[encoded data removed]",
            "text/plain": [
              "<Figure size 432x288 with 1 Axes>"
            ]
          },
          "metadata": {
            "tags": []
          }
        }
      ]
    },
    {
      "metadata": {
        "id": "K-tuskGmNAmX",
        "colab_type": "text"
      },
      "cell_type": "markdown",
      "source": [
        "Ограничим длину последовательностей:"
      ]
    },
    {
      "metadata": {
        "id": "y3-r3E6cx2bn",
        "colab_type": "code",
        "colab": {}
      },
      "cell_type": "code",
      "source": [
        "MAX_SEQUENCE_LENGTH = 700\n",
        "\n",
        "X_train = pad_sequences(X_train, maxlen=MAX_SEQUENCE_LENGTH)\n",
        "X_test = pad_sequences(X_test, maxlen=MAX_SEQUENCE_LENGTH)"
      ],
      "execution_count": 0,
      "outputs": []
    },
    {
      "metadata": {
        "id": "3JQiZSyVx2bz",
        "colab_type": "code",
        "outputId": "b7537508-5f93-454b-f360-0e194fcdebbf",
        "colab": {
          "base_uri": "https://localhost:8080/",
          "height": 35
        }
      },
      "cell_type": "code",
      "source": [
        "[ x.shape for x in (X_train, y_train, X_test, y_test) ]"
      ],
      "execution_count": 13,
      "outputs": [
        {
          "output_type": "execute_result",
          "data": {
            "text/plain": [
              "[(25000, 700), (25000,), (25000, 700), (25000,)]"
            ]
          },
          "metadata": {
            "tags": []
          },
          "execution_count": 13
        }
      ]
    },
    {
      "metadata": {
        "id": "-pgp2w1DNJXb",
        "colab_type": "text"
      },
      "cell_type": "markdown",
      "source": [
        "###  *Модель*\n",
        "\n",
        "Embdedding +  LSTM + sigmoid\n"
      ]
    },
    {
      "metadata": {
        "id": "mJIoFMHYx2b8",
        "colab_type": "code",
        "outputId": "fd44732e-485c-492d-f35c-389df66e23f1",
        "colab": {
          "base_uri": "https://localhost:8080/",
          "height": 419
        }
      },
      "cell_type": "code",
      "source": [
        "MAX_NB_WORDS = vocabulary_size\n",
        "EMBEDDING_DIM = 100\n",
        "\n",
        "model = Sequential()\n",
        "model.add(L.Embedding(MAX_NB_WORDS, EMBEDDING_DIM, input_length=X_train.shape[1]))\n",
        "model.add(L.SpatialDropout1D(0.2))\n",
        "model.add(L.LSTM(100, dropout=0.2, recurrent_dropout=0.2))\n",
        "model.add(L.Dense(1, activation='sigmoid'))\n",
        "model.compile(loss='binary_crossentropy', optimizer='adam', metrics=['accuracy'])\n",
        "print(model.summary())"
      ],
      "execution_count": 14,
      "outputs": [
        {
          "output_type": "stream",
          "text": [
            "WARNING:tensorflow:From /usr/local/lib/python3.6/dist-packages/tensorflow/python/framework/op_def_library.py:263: colocate_with (from tensorflow.python.framework.ops) is deprecated and will be removed in a future version.\n",
            "Instructions for updating:\n",
            "Colocations handled automatically by placer.\n",
            "WARNING:tensorflow:From /usr/local/lib/python3.6/dist-packages/keras/backend/tensorflow_backend.py:3445: calling dropout (from tensorflow.python.ops.nn_ops) with keep_prob is deprecated and will be removed in a future version.\n",
            "Instructions for updating:\n",
            "Please use `rate` instead of `keep_prob`. Rate should be set to `rate = 1 - keep_prob`.\n",
            "_________________________________________________________________\n",
            "Layer (type)                 Output Shape              Param #   \n",
            "=================================================================\n",
            "embedding_1 (Embedding)      (None, 700, 100)          500000    \n",
            "_________________________________________________________________\n",
            "spatial_dropout1d_1 (Spatial (None, 700, 100)          0         \n",
            "_________________________________________________________________\n",
            "lstm_1 (LSTM)                (None, 100)               80400     \n",
            "_________________________________________________________________\n",
            "dense_1 (Dense)              (None, 1)                 101       \n",
            "=================================================================\n",
            "Total params: 580,501\n",
            "Trainable params: 580,501\n",
            "Non-trainable params: 0\n",
            "_________________________________________________________________\n",
            "None\n"
          ],
          "name": "stdout"
        }
      ]
    },
    {
      "metadata": {
        "id": "uWqWQAK-NdNo",
        "colab_type": "text"
      },
      "cell_type": "markdown",
      "source": [
        "Несмотря на *dropout*, всё равно быстро переобучается, так что большое число эпох не имеет смысла."
      ]
    },
    {
      "metadata": {
        "id": "oIGMIEalx2cI",
        "colab_type": "code",
        "outputId": "45862666-0c47-45dc-87f0-ab72b888a25c",
        "colab": {
          "base_uri": "https://localhost:8080/",
          "height": 176
        }
      },
      "cell_type": "code",
      "source": [
        "epochs = 2\n",
        "batch_size = 75\n",
        "\n",
        "# callbacks=[EarlyStopping(monitor='val_loss', patience=3, min_delta=0.0001)]\n",
        "\n",
        "history = model.fit(X_train, y_train, epochs=epochs, batch_size=batch_size, validation_split=0.1)"
      ],
      "execution_count": 15,
      "outputs": [
        {
          "output_type": "stream",
          "text": [
            "WARNING:tensorflow:From /usr/local/lib/python3.6/dist-packages/tensorflow/python/ops/math_ops.py:3066: to_int32 (from tensorflow.python.ops.math_ops) is deprecated and will be removed in a future version.\n",
            "Instructions for updating:\n",
            "Use tf.cast instead.\n",
            "Train on 22500 samples, validate on 2500 samples\n",
            "Epoch 1/2\n",
            "22500/22500 [==============================] - 390s 17ms/step - loss: 0.4941 - acc: 0.7557 - val_loss: 0.4278 - val_acc: 0.7952\n",
            "Epoch 2/2\n",
            "22500/22500 [==============================] - 384s 17ms/step - loss: 0.3658 - acc: 0.8481 - val_loss: 0.3532 - val_acc: 0.8588\n"
          ],
          "name": "stdout"
        }
      ]
    },
    {
      "metadata": {
        "id": "LA4zgCKNx2cZ",
        "colab_type": "code",
        "outputId": "17bb0b38-9882-41a3-d968-c376306cd2f2",
        "colab": {
          "base_uri": "https://localhost:8080/",
          "height": 69
        }
      },
      "cell_type": "code",
      "source": [
        "score, acc = model.evaluate(X_test, y_test, batch_size=batch_size)\n",
        "\n",
        "print('Test score:', score)\n",
        "print('Test accuracy:', acc)"
      ],
      "execution_count": 16,
      "outputs": [
        {
          "output_type": "stream",
          "text": [
            "25000/25000 [==============================] - 149s 6ms/step\n",
            "Test score: 0.3482943890839815\n",
            "Test accuracy: 0.8559999995827675\n"
          ],
          "name": "stdout"
        }
      ]
    },
    {
      "metadata": {
        "id": "bYmHagrTx2cc",
        "colab_type": "text"
      },
      "cell_type": "markdown",
      "source": [
        "### *Вывод*\n",
        "\n",
        "Модель обучается достаточно долго, есть склонность к переобучению. На требуемый *baseline* выйти удалось, но существенно превысить его -- нет."
      ]
    }
  ]
}
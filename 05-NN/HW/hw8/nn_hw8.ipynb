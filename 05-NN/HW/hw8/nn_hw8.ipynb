{
  "nbformat": 4,
  "nbformat_minor": 0,
  "metadata": {
    "colab": {
      "name": "nn_hw8.ipynb",
      "version": "0.3.2",
      "provenance": [],
      "collapsed_sections": [],
      "include_colab_link": true
    },
    "kernelspec": {
      "name": "python3",
      "display_name": "Python 3"
    },
    "accelerator": "GPU"
  },
  "cells": [
    {
      "cell_type": "markdown",
      "metadata": {
        "id": "view-in-github",
        "colab_type": "text"
      },
      "source": [
        "<a href=\"https://colab.research.google.com/github/rklepov/hse-cs-ml-2018-2019/blob/homework/05-NN/HW/hw8/nn_hw8.ipynb\" target=\"_parent\"><img src=\"https://colab.research.google.com/assets/colab-badge.svg\" alt=\"Open In Colab\"/></a>"
      ]
    },
    {
      "cell_type": "markdown",
      "metadata": {
        "id": "Af8pI7coMnDp",
        "colab_type": "text"
      },
      "source": [
        "## _[NN HW8](https://github.com/rklepov/hse-cs-ml-2018-2019/blob/homework/05-NN/05-nlp/03-transfer-learning/HomeWork.ipynb \"NN HW8\")_\n",
        "\n",
        "Обучите модель на базе любого модуля из https://github.com/scikit-learn/scikit-learn/tree/master/sklearn предсказывать последовательность слов(кода)\n",
        "\n",
        "---"
      ]
    },
    {
      "cell_type": "code",
      "metadata": {
        "id": "WSUOx_nbvJNq",
        "colab_type": "code",
        "colab": {}
      },
      "source": [
        "import glob\n",
        "import numpy as np\n",
        "import matplotlib.pyplot as plt\n",
        "%matplotlib inline\n",
        "import seaborn as sns\n",
        "sns.set()"
      ],
      "execution_count": 0,
      "outputs": []
    },
    {
      "cell_type": "code",
      "metadata": {
        "id": "pnG6iv7AvNHj",
        "colab_type": "code",
        "outputId": "cf6a4add-60c9-49b7-af86-42f01f5dd069",
        "colab": {
          "base_uri": "https://localhost:8080/",
          "height": 34
        }
      },
      "source": [
        "from keras.preprocessing.text import Tokenizer\n",
        "from keras.preprocessing.sequence import pad_sequences\n",
        "from keras.models import Sequential\n",
        "\n",
        "import keras.utils as ku\n",
        "import keras.layers as L\n",
        "import keras.callbacks as C"
      ],
      "execution_count": 2,
      "outputs": [
        {
          "output_type": "stream",
          "text": [
            "Using TensorFlow backend.\n"
          ],
          "name": "stderr"
        }
      ]
    },
    {
      "cell_type": "markdown",
      "metadata": {
        "id": "pbIjXY4JV3hf",
        "colab_type": "text"
      },
      "source": [
        "##1.  _Подготовка данных_"
      ]
    },
    {
      "cell_type": "code",
      "metadata": {
        "id": "-io4jEJuv7pE",
        "colab_type": "code",
        "outputId": "67f36d0b-6358-40e6-f5ec-3c4ed8e8772e",
        "colab": {
          "base_uri": "https://localhost:8080/",
          "height": 34
        }
      },
      "source": [
        "from google.colab import drive\n",
        "drive.mount('/content/gdrive')"
      ],
      "execution_count": 3,
      "outputs": [
        {
          "output_type": "stream",
          "text": [
            "Drive already mounted at /content/gdrive; to attempt to forcibly remount, call drive.mount(\"/content/gdrive\", force_remount=True).\n"
          ],
          "name": "stdout"
        }
      ]
    },
    {
      "cell_type": "markdown",
      "metadata": {
        "id": "qmJ1oVcBNu-V",
        "colab_type": "text"
      },
      "source": [
        "Будем обучать на модуле [sklearn.linear_model](https://scikit-learn.org/stable/modules/classes.html#module-sklearn.linear_model \"sklearn.linear_model: Generalized Linear Models\")"
      ]
    },
    {
      "cell_type": "code",
      "metadata": {
        "id": "u7UyRR_v4WHf",
        "colab_type": "code",
        "outputId": "eef0f9e1-b430-415c-e234-de9a2415e8b5",
        "colab": {
          "base_uri": "https://localhost:8080/",
          "height": 408
        }
      },
      "source": [
        "%%bash\n",
        "\n",
        "ls -hAlF sklearn/linear_model"
      ],
      "execution_count": 4,
      "outputs": [
        {
          "output_type": "stream",
          "text": [
            "total 692K\n",
            "-rw-r--r-- 1 197609 197609  21K May 18 16:39 base.py\n",
            "-rw-r--r-- 1 197609 197609  25K May 18 16:39 bayes.py\n",
            "-rw-r--r-- 1 197609 197609  29K May 18 16:39 cd_fast.pyx\n",
            "-rw-r--r-- 1 197609 197609  88K May 18 16:39 coordinate_descent.py\n",
            "-rw-r--r-- 1 197609 197609  12K May 18 16:39 huber.py\n",
            "-rw-r--r-- 1 197609 197609 3.0K May 18 16:39 __init__.py\n",
            "-rw-r--r-- 1 197609 197609  70K May 18 16:39 least_angle.py\n",
            "-rw-r--r-- 1 197609 197609  93K May 18 16:39 logistic.py\n",
            "-rw-r--r-- 1 197609 197609  33K May 18 16:39 omp.py\n",
            "-rw-r--r-- 1 197609 197609  18K May 18 16:39 passive_aggressive.py\n",
            "-rw-r--r-- 1 197609 197609 6.1K May 18 16:39 perceptron.py\n",
            "-rw-r--r-- 1 197609 197609  20K May 18 16:39 ransac.py\n",
            "-rw-r--r-- 1 197609 197609  72K May 18 16:39 ridge.py\n",
            "-rw-r--r-- 1 197609 197609  31K May 18 16:39 sag_fast.pyx.tp\n",
            "-rw-r--r-- 1 197609 197609  14K May 18 16:39 sag.py\n",
            "-rw-r--r-- 1 197609 197609 1.6K May 18 16:39 setup.py\n",
            "-rw-r--r-- 1 197609 197609  630 May 18 16:39 sgd_fast_helpers.h\n",
            "-rw-r--r-- 1 197609 197609  838 May 18 16:39 sgd_fast.pxd\n",
            "-rw-r--r-- 1 197609 197609  29K May 18 16:39 sgd_fast.pyx\n",
            "-rw-r--r-- 1 197609 197609  65K May 18 16:39 stochastic_gradient.py\n",
            "drwxr-xr-x 2 197609 197609 4.0K May 18 16:39 tests/\n",
            "-rw-r--r-- 1 197609 197609  15K May 18 16:39 theil_sen.py\n"
          ],
          "name": "stdout"
        }
      ]
    },
    {
      "cell_type": "markdown",
      "metadata": {
        "id": "ObAcYr-GOMRe",
        "colab_type": "text"
      },
      "source": [
        "Выбираем только файлы `*.py`"
      ]
    },
    {
      "cell_type": "code",
      "metadata": {
        "id": "KX7W7rfA46qp",
        "colab_type": "code",
        "outputId": "8dd22fce-df3a-4525-a625-094155c5fb7f",
        "colab": {
          "base_uri": "https://localhost:8080/",
          "height": 561
        }
      },
      "source": [
        "pyfiles = glob.glob('sklearn/linear_model/**/*.py', recursive=True)\n",
        "\n",
        "pyfiles"
      ],
      "execution_count": 5,
      "outputs": [
        {
          "output_type": "execute_result",
          "data": {
            "text/plain": [
              "['sklearn/linear_model/perceptron.py',\n",
              " 'sklearn/linear_model/__init__.py',\n",
              " 'sklearn/linear_model/huber.py',\n",
              " 'sklearn/linear_model/sag.py',\n",
              " 'sklearn/linear_model/ransac.py',\n",
              " 'sklearn/linear_model/least_angle.py',\n",
              " 'sklearn/linear_model/logistic.py',\n",
              " 'sklearn/linear_model/ridge.py',\n",
              " 'sklearn/linear_model/base.py',\n",
              " 'sklearn/linear_model/theil_sen.py',\n",
              " 'sklearn/linear_model/coordinate_descent.py',\n",
              " 'sklearn/linear_model/bayes.py',\n",
              " 'sklearn/linear_model/stochastic_gradient.py',\n",
              " 'sklearn/linear_model/passive_aggressive.py',\n",
              " 'sklearn/linear_model/omp.py',\n",
              " 'sklearn/linear_model/setup.py',\n",
              " 'sklearn/linear_model/tests/test_passive_aggressive.py',\n",
              " 'sklearn/linear_model/tests/test_omp.py',\n",
              " 'sklearn/linear_model/tests/test_least_angle.py',\n",
              " 'sklearn/linear_model/tests/__init__.py',\n",
              " 'sklearn/linear_model/tests/test_ransac.py',\n",
              " 'sklearn/linear_model/tests/test_logistic.py',\n",
              " 'sklearn/linear_model/tests/test_coordinate_descent.py',\n",
              " 'sklearn/linear_model/tests/test_base.py',\n",
              " 'sklearn/linear_model/tests/test_perceptron.py',\n",
              " 'sklearn/linear_model/tests/test_sparse_coordinate_descent.py',\n",
              " 'sklearn/linear_model/tests/test_huber.py',\n",
              " 'sklearn/linear_model/tests/test_bayes.py',\n",
              " 'sklearn/linear_model/tests/test_theil_sen.py',\n",
              " 'sklearn/linear_model/tests/test_sag.py',\n",
              " 'sklearn/linear_model/tests/test_ridge.py',\n",
              " 'sklearn/linear_model/tests/test_sgd.py']"
            ]
          },
          "metadata": {
            "tags": []
          },
          "execution_count": 5
        }
      ]
    },
    {
      "cell_type": "markdown",
      "metadata": {
        "id": "pXul1SPbOUZ8",
        "colab_type": "text"
      },
      "source": [
        "Генератор возвращает токенайзеру все строки каждого файла."
      ]
    },
    {
      "cell_type": "markdown",
      "metadata": {
        "id": "L2dbVnD7mXpN",
        "colab_type": "text"
      },
      "source": [
        "Отбросим ведущие пробелы в строке (отступы в коде) и далее будем брать текст строки до конца целиком.\n",
        "\n",
        "*Соображения насчёт [комментариев](https://docs.python.org/3.7/reference/lexical_analysis.html?highlight=comments#comments \"The Python Language Reference\")*:\n",
        "\n",
        "*   С одной стороны, можно было бы рассмотреть возможность удаления комментариев из кода. Но это не совсем тривиальная проблема, учитывая, что символ ***`#`*** может присутствовать внутри строкового литерала, а заниматься парснигом питоновского кода, очевидно, не хотелось бы.\n",
        "*   С другой стороны, в простом случае, если ***`#`*** является первым не пустым символом в строке, то вроде как эту строку можно безопасно отбросить.\n",
        "*   С третьей же стороны, в комментариях может содержаться полезная в нашем контексте информация, скажем, примеры вызовов функций.\n",
        "*   А ещё есть [докстринги](https://www.python.org/dev/peps/pep-0257/#what-is-a-docstring \"PEP 257 -- Docstring Conventions\"))\n",
        "\n",
        "В общем, в итоге я решил в данную проблему не углубляться и просто брать текст целиком.\n"
      ]
    },
    {
      "cell_type": "code",
      "metadata": {
        "id": "SvOrPh8mCPmL",
        "colab_type": "code",
        "colab": {}
      },
      "source": [
        "def tokenizer_generator(files):\n",
        "    for file in files:\n",
        "        with open(file) as text:\n",
        "            for line in text:\n",
        "                line = line.lstrip()\n",
        "                if 0 < len(line):\n",
        "                    yield line\n",
        "\n",
        "tok_gen = tokenizer_generator(pyfiles)"
      ],
      "execution_count": 0,
      "outputs": []
    },
    {
      "cell_type": "markdown",
      "metadata": {
        "id": "cuA0hkPYQSFs",
        "colab_type": "text"
      },
      "source": [
        "Токеном будет просто каждый символ в тексте:"
      ]
    },
    {
      "cell_type": "code",
      "metadata": {
        "id": "bydru6-6DJ8G",
        "colab_type": "code",
        "colab": {}
      },
      "source": [
        "tokenizer = Tokenizer(filters='', lower=False, char_level=True)\n",
        "\n",
        "tokenizer.fit_on_texts(tok_gen)"
      ],
      "execution_count": 0,
      "outputs": []
    },
    {
      "cell_type": "code",
      "metadata": {
        "id": "VFLMye30Dxqm",
        "colab_type": "code",
        "outputId": "076e6ddb-35c8-4164-9659-3025c63a0276",
        "colab": {
          "base_uri": "https://localhost:8080/",
          "height": 34
        }
      },
      "source": [
        "print(len(tokenizer.index_word), tokenizer.document_count)"
      ],
      "execution_count": 8,
      "outputs": [
        {
          "output_type": "stream",
          "text": [
            "99 19186\n"
          ],
          "name": "stdout"
        }
      ]
    },
    {
      "cell_type": "code",
      "metadata": {
        "id": "ezK_xF5KEjZ-",
        "colab_type": "code",
        "colab": {}
      },
      "source": [
        "def dataset_preparation(text_generator, tokenizer):\n",
        "    total_words = len(tokenizer.word_index) + 1\n",
        "\n",
        "    input_sequences = []\n",
        "    for line in text_generator:\n",
        "        token_list = tokenizer.texts_to_sequences([line])[0]\n",
        "        for i in range(1, len(token_list)):\n",
        "            n_gram_sequence = token_list[:i+1]\n",
        "            input_sequences.append(n_gram_sequence)\n",
        "\n",
        "    max_sequence_len = max([len(x) for x in input_sequences])\n",
        "    input_sequences = np.array(pad_sequences(input_sequences, maxlen=max_sequence_len, padding='pre'))\n",
        "\n",
        "    predictors, label = input_sequences[:,:-1],input_sequences[:,-1]\n",
        "    label = ku.to_categorical(label, num_classes=total_words)\n",
        "\n",
        "    return predictors, label, max_sequence_len, total_words"
      ],
      "execution_count": 0,
      "outputs": []
    },
    {
      "cell_type": "code",
      "metadata": {
        "id": "6Q32ZqBOFrob",
        "colab_type": "code",
        "outputId": "7fc62fa4-44ea-4199-e111-28cdfecbe75f",
        "colab": {
          "base_uri": "https://localhost:8080/",
          "height": 34
        }
      },
      "source": [
        "predictors, label, max_sequence_len, total_words = dataset_preparation(tokenizer_generator(pyfiles), tokenizer)\n",
        "\n",
        "predictors.shape, label.shape, max_sequence_len, total_words"
      ],
      "execution_count": 10,
      "outputs": [
        {
          "output_type": "execute_result",
          "data": {
            "text/plain": [
              "((732060, 82), (732060, 100), 83, 100)"
            ]
          },
          "metadata": {
            "tags": []
          },
          "execution_count": 10
        }
      ]
    },
    {
      "cell_type": "markdown",
      "metadata": {
        "id": "5tqFVPJqV0Xq",
        "colab_type": "text"
      },
      "source": [
        "## 2. _Модель_\n",
        "\n",
        "Я понял задачу таким образом, что надо просто заоверфиттить модель так, чтобы она \"запомнила\" все возможные последовательности символов. Будем этого добиваться усложнением структуры сети (двунаправленный LSTM слой с большим количеством нейронов) и увеличением числа эпох обучения."
      ]
    },
    {
      "cell_type": "code",
      "metadata": {
        "id": "tH_JZVsyGPV9",
        "colab_type": "code",
        "colab": {}
      },
      "source": [
        "def create_model(predictors, label, max_sequence_len, total_words):\n",
        "\n",
        "    model = Sequential()\n",
        "    model.add(L.Embedding(total_words, 32, input_length=max_sequence_len-1))\n",
        "\n",
        "    model.add(L.Bidirectional(L.LSTM(256, return_sequences=True)))\n",
        "    model.add(L.Bidirectional(L.LSTM(128)))\n",
        "\n",
        "    model.add(L.Dense(total_words, activation='softmax'))\n",
        "\n",
        "    model.compile(loss='categorical_crossentropy', optimizer='adam', metrics=['accuracy'])\n",
        "    return model"
      ],
      "execution_count": 0,
      "outputs": []
    },
    {
      "cell_type": "code",
      "metadata": {
        "id": "frS6ym1YG3YG",
        "colab_type": "code",
        "outputId": "b91f4f1a-babc-4937-ea8a-213373dbc9af",
        "colab": {
          "base_uri": "https://localhost:8080/",
          "height": 1159
        }
      },
      "source": [
        "earlystop = C.EarlyStopping(monitor='loss', min_delta=0.01, patience=2, verbose=0, mode='auto')\n",
        "checkpoint = C.ModelCheckpoint('nn_hw8_model.{epoch:02d}-{acc:.2f}.h5', monitor='acc', \n",
        "                               verbose=0, save_best_only=True, save_weights_only=False, mode='auto', period=1)\n",
        "\n",
        "model = create_model(predictors, label, max_sequence_len, total_words)\n",
        "\n",
        "history = model.fit(predictors, label, batch_size=512, epochs=100, verbose=1, callbacks=[earlystop, checkpoint])"
      ],
      "execution_count": 12,
      "outputs": [
        {
          "output_type": "stream",
          "text": [
            "WARNING:tensorflow:From /usr/local/lib/python3.6/dist-packages/tensorflow/python/framework/op_def_library.py:263: colocate_with (from tensorflow.python.framework.ops) is deprecated and will be removed in a future version.\n",
            "Instructions for updating:\n",
            "Colocations handled automatically by placer.\n",
            "WARNING:tensorflow:From /usr/local/lib/python3.6/dist-packages/tensorflow/python/ops/math_ops.py:3066: to_int32 (from tensorflow.python.ops.math_ops) is deprecated and will be removed in a future version.\n",
            "Instructions for updating:\n",
            "Use tf.cast instead.\n",
            "Epoch 1/100\n",
            "732060/732060 [==============================] - 789s 1ms/step - loss: 2.5967 - acc: 0.3104\n",
            "Epoch 2/100\n",
            "732060/732060 [==============================] - 766s 1ms/step - loss: 1.4179 - acc: 0.6252\n",
            "Epoch 3/100\n",
            "732060/732060 [==============================] - 767s 1ms/step - loss: 1.0539 - acc: 0.7139\n",
            "Epoch 4/100\n",
            "732060/732060 [==============================] - 757s 1ms/step - loss: 0.8939 - acc: 0.7526\n",
            "Epoch 5/100\n",
            "732060/732060 [==============================] - 750s 1ms/step - loss: 0.7954 - acc: 0.7774\n",
            "Epoch 6/100\n",
            "732060/732060 [==============================] - 744s 1ms/step - loss: 0.7271 - acc: 0.7940\n",
            "Epoch 7/100\n",
            "732060/732060 [==============================] - 750s 1ms/step - loss: 0.6737 - acc: 0.8073\n",
            "Epoch 8/100\n",
            "732060/732060 [==============================] - 754s 1ms/step - loss: 0.6307 - acc: 0.8185\n",
            "Epoch 9/100\n",
            "732060/732060 [==============================] - 755s 1ms/step - loss: 0.5959 - acc: 0.8271\n",
            "Epoch 10/100\n",
            "732060/732060 [==============================] - 756s 1ms/step - loss: 0.5655 - acc: 0.8346\n",
            "Epoch 11/100\n",
            "732060/732060 [==============================] - 756s 1ms/step - loss: 0.5391 - acc: 0.8416\n",
            "Epoch 12/100\n",
            "732060/732060 [==============================] - 757s 1ms/step - loss: 0.5172 - acc: 0.8471\n",
            "Epoch 13/100\n",
            "732060/732060 [==============================] - 764s 1ms/step - loss: 0.4959 - acc: 0.8521\n",
            "Epoch 14/100\n",
            "732060/732060 [==============================] - 765s 1ms/step - loss: 0.4781 - acc: 0.8569\n",
            "Epoch 15/100\n",
            "732060/732060 [==============================] - 759s 1ms/step - loss: 0.4636 - acc: 0.8600\n",
            "Epoch 16/100\n",
            "732060/732060 [==============================] - 767s 1ms/step - loss: 0.4495 - acc: 0.8639\n",
            "Epoch 17/100\n",
            "732060/732060 [==============================] - 765s 1ms/step - loss: 0.4364 - acc: 0.8672\n",
            "Epoch 18/100\n",
            "732060/732060 [==============================] - 765s 1ms/step - loss: 0.4249 - acc: 0.8702\n",
            "Epoch 19/100\n",
            "732060/732060 [==============================] - 766s 1ms/step - loss: 0.4148 - acc: 0.8723\n",
            "Epoch 20/100\n",
            "732060/732060 [==============================] - 764s 1ms/step - loss: 0.4038 - acc: 0.8754\n",
            "Epoch 21/100\n",
            "732060/732060 [==============================] - 766s 1ms/step - loss: 0.3962 - acc: 0.8769\n",
            "Epoch 22/100\n",
            "732060/732060 [==============================] - 763s 1ms/step - loss: 0.3883 - acc: 0.8791\n",
            "Epoch 23/100\n",
            "732060/732060 [==============================] - 754s 1ms/step - loss: 0.3808 - acc: 0.8811\n",
            "Epoch 24/100\n",
            "732060/732060 [==============================] - 764s 1ms/step - loss: 0.3737 - acc: 0.8829\n",
            "Epoch 25/100\n",
            "732060/732060 [==============================] - 765s 1ms/step - loss: 0.3677 - acc: 0.8840\n",
            "Epoch 26/100\n",
            "732060/732060 [==============================] - 760s 1ms/step - loss: 0.3622 - acc: 0.8857\n",
            "Epoch 27/100\n",
            "732060/732060 [==============================] - 758s 1ms/step - loss: 0.3563 - acc: 0.8870\n",
            "Epoch 28/100\n",
            "732060/732060 [==============================] - 762s 1ms/step - loss: 0.3521 - acc: 0.8884\n",
            "Epoch 29/100\n",
            "732060/732060 [==============================] - 761s 1ms/step - loss: 0.3468 - acc: 0.8899\n",
            "Epoch 30/100\n",
            "732060/732060 [==============================] - 763s 1ms/step - loss: 0.3509 - acc: 0.8887\n"
          ],
          "name": "stdout"
        }
      ]
    },
    {
      "cell_type": "code",
      "metadata": {
        "id": "iLaEKhkSZw4Z",
        "colab_type": "code",
        "colab": {
          "base_uri": "https://localhost:8080/",
          "height": 410
        },
        "outputId": "57fdb5e9-b666-444c-e477-4c5c576239a3"
      },
      "source": [
        "def plot_history(hist):\n",
        "    fig, ax = plt.subplots(1, 2, figsize=(16, 6))\n",
        "    def plot_ax(ax, hist, title, train, loc='best'):\n",
        "        ax.plot(hist[train])\n",
        "        ax.axvline(x=len(hist[train])-1, color='r', linestyle=':')\n",
        "        ax.set_title(title)\n",
        "        ax.set_ylabel(train)\n",
        "        ax.set_xlabel('epoch')\n",
        "        ax.set_xticks(np.arange(0, len(hist[train]) + 1, 5))\n",
        "        ax.legend(['train'], loc=loc)\n",
        "        # ax.grid()\n",
        "    plot_ax(ax[0], hist, 'model loss', 'loss')\n",
        "    plot_ax(ax[1], hist, 'model accuracy', 'acc')\n",
        "\n",
        "plot_history(history.history);"
      ],
      "execution_count": 17,
      "outputs": [
        {
          "output_type": "display_data",
          "data": {
            "image/png": "[encoded data removed]",
            "text/plain": [
              "<Figure size 1152x432 with 2 Axes>"
            ]
          },
          "metadata": {
            "tags": []
          }
        }
      ]
    },
    {
      "cell_type": "code",
      "metadata": {
        "id": "ZV2zpf8DVrA9",
        "colab_type": "code",
        "colab": {}
      },
      "source": [
        "def save_model(model, basename):\n",
        "    # serialize model to JSON\n",
        "    model_json = model.to_json()\n",
        "    with open(f'{basename}.json', 'w') as json_file:\n",
        "        json_file.write(model_json)\n",
        "    # serialize weights to HDF5\n",
        "    model.save_weights(f'{basename}.h5')"
      ],
      "execution_count": 0,
      "outputs": []
    },
    {
      "cell_type": "code",
      "metadata": {
        "id": "7umGlGk0VvA3",
        "colab_type": "code",
        "colab": {
          "base_uri": "https://localhost:8080/",
          "height": 51
        },
        "outputId": "f0639b85-d06b-42da-f4ba-f41aea7f8c43"
      },
      "source": [
        "save_model(model, 'nn_hw8_model_final')\n",
        "\n",
        "!ls -hl nn_hw8_model_final.*"
      ],
      "execution_count": 30,
      "outputs": [
        {
          "output_type": "stream",
          "text": [
            "-rw-r--r-- 1 root root 4.9M May 24 11:56 nn_hw8_model_final.h5\n",
            "-rw-r--r-- 1 root root 3.0K May 24 11:56 nn_hw8_model_final.json\n"
          ],
          "name": "stdout"
        }
      ]
    },
    {
      "cell_type": "markdown",
      "metadata": {
        "id": "a5783s6fU3un",
        "colab_type": "text"
      },
      "source": [
        "## 3. _Предсказания_\n",
        "\n",
        "Будем предсказывать следующий символ до момента появления перевода строки:"
      ]
    },
    {
      "cell_type": "code",
      "metadata": {
        "id": "3xGbdHEZG7ry",
        "colab_type": "code",
        "colab": {}
      },
      "source": [
        "def generate_text(model, seed_text, max_sequence_len=max_sequence_len):\n",
        "    for _ in range(max_sequence_len):\n",
        "        token_list = tokenizer.texts_to_sequences([seed_text])[0]\n",
        "        token_list = pad_sequences([token_list], maxlen=max_sequence_len-1, padding='pre')\n",
        "        predicted = model.predict_classes(token_list, verbose=0)\n",
        "        output_char = tokenizer.index_word[predicted[0]]\n",
        "        if output_char in '\\r\\n':\n",
        "            break\n",
        "        seed_text += output_char\n",
        "\n",
        "    return seed_text"
      ],
      "execution_count": 0,
      "outputs": []
    },
    {
      "cell_type": "code",
      "metadata": {
        "id": "IWkMBHdkH8wT",
        "colab_type": "code",
        "colab": {
          "base_uri": "https://localhost:8080/",
          "height": 34
        },
        "outputId": "6ac0d92d-32c8-4c51-e33f-bdf9ee606f47"
      },
      "source": [
        "generate_text(model, 'fit')"
      ],
      "execution_count": 22,
      "outputs": [
        {
          "output_type": "execute_result",
          "data": {
            "text/plain": [
              "'fit_intercept : bool'"
            ]
          },
          "metadata": {
            "tags": []
          },
          "execution_count": 22
        }
      ]
    },
    {
      "cell_type": "code",
      "metadata": {
        "id": "yCnjKN4ruaUd",
        "colab_type": "code",
        "colab": {
          "base_uri": "https://localhost:8080/",
          "height": 34
        },
        "outputId": "b6449ce7-ba3c-47f2-85c5-776f69959822"
      },
      "source": [
        "generate_text(model, 'predict_')"
      ],
      "execution_count": 23,
      "outputs": [
        {
          "output_type": "execute_result",
          "data": {
            "text/plain": [
              "'predict_scorer(X_scale, y_scale)'"
            ]
          },
          "metadata": {
            "tags": []
          },
          "execution_count": 23
        }
      ]
    },
    {
      "cell_type": "code",
      "metadata": {
        "id": "uU_ns9DITQIm",
        "colab_type": "code",
        "colab": {
          "base_uri": "https://localhost:8080/",
          "height": 34
        },
        "outputId": "f7822d40-784f-4921-970d-ad8ece879045"
      },
      "source": [
        "generate_text(model, 'SGDC')"
      ],
      "execution_count": 24,
      "outputs": [
        {
          "output_type": "execute_result",
          "data": {
            "text/plain": [
              "'SGDClassifier.linear RidgeClassifier(class_weight=\"balanced\\'):'"
            ]
          },
          "metadata": {
            "tags": []
          },
          "execution_count": 24
        }
      ]
    },
    {
      "cell_type": "code",
      "metadata": {
        "id": "PZU_nAKyT6Rr",
        "colab_type": "code",
        "colab": {
          "base_uri": "https://localhost:8080/",
          "height": 34
        },
        "outputId": "9a4e8140-15dd-471d-a0df-e9086e6c6e8e"
      },
      "source": [
        "generate_text(model, 'LinearR')"
      ],
      "execution_count": 25,
      "outputs": [
        {
          "output_type": "execute_result",
          "data": {
            "text/plain": [
              "'LinearRegression, Cs = sqrt_alphas.Multiet_0.dtype'"
            ]
          },
          "metadata": {
            "tags": []
          },
          "execution_count": 25
        }
      ]
    },
    {
      "cell_type": "code",
      "metadata": {
        "id": "UZA9JwcOT6pb",
        "colab_type": "code",
        "colab": {
          "base_uri": "https://localhost:8080/",
          "height": 34
        },
        "outputId": "4c6b24cb-a734-4833-cfca-d5e4a42f2c44"
      },
      "source": [
        "generate_text(model, 'Logistic')"
      ],
      "execution_count": 26,
      "outputs": [
        {
          "output_type": "execute_result",
          "data": {
            "text/plain": [
              "\"LogisticRegression(C=len(iris.data), solver='liblinear', multi_class='ovr')\""
            ]
          },
          "metadata": {
            "tags": []
          },
          "execution_count": 26
        }
      ]
    },
    {
      "cell_type": "code",
      "metadata": {
        "id": "DjaYQ2htlr4H",
        "colab_type": "code",
        "colab": {
          "base_uri": "https://localhost:8080/",
          "height": 34
        },
        "outputId": "9d95cd4e-e73e-49fc-d14e-1f3e46eadb5c"
      },
      "source": [
        "generate_text(model, 'Per')"
      ],
      "execution_count": 27,
      "outputs": [
        {
          "output_type": "execute_result",
          "data": {
            "text/plain": [
              "'Perceptron'"
            ]
          },
          "metadata": {
            "tags": []
          },
          "execution_count": 27
        }
      ]
    },
    {
      "cell_type": "code",
      "metadata": {
        "id": "6n7r2YKks24b",
        "colab_type": "code",
        "colab": {
          "base_uri": "https://localhost:8080/",
          "height": 34
        },
        "outputId": "365d4c82-fa08-416c-a61f-458990fac5ef"
      },
      "source": [
        "generate_text(model, 'SGDRe')"
      ],
      "execution_count": 31,
      "outputs": [
        {
          "output_type": "execute_result",
          "data": {
            "text/plain": [
              "'SGDRegressor, SparseSGDRegressor])'"
            ]
          },
          "metadata": {
            "tags": []
          },
          "execution_count": 31
        }
      ]
    },
    {
      "cell_type": "markdown",
      "metadata": {
        "id": "409oeAWRYTP-",
        "colab_type": "text"
      },
      "source": [
        "---\n",
        "\n",
        "***TODO***: подумать, как можно было бы предсказывать более одного варианта, как это обычно и делается в инструментах [_code completion_](https://en.wikipedia.org/wiki/Intelligent_code_completion \"Intelligent code completion\")."
      ]
    }
  ]
}
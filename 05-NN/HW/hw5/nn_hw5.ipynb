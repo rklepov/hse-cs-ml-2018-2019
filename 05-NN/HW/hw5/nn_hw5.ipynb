{
  "nbformat": 4,
  "nbformat_minor": 0,
  "metadata": {
    "colab": {
      "name": "nn_hw5.ipynb",
      "version": "0.3.2",
      "provenance": [],
      "collapsed_sections": [],
      "include_colab_link": true
    },
    "kernelspec": {
      "name": "python3",
      "display_name": "Python 3"
    },
    "accelerator": "GPU"
  },
  "cells": [
    {
      "cell_type": "markdown",
      "metadata": {
        "id": "view-in-github",
        "colab_type": "text"
      },
      "source": [
        "<a href=\"https://colab.research.google.com/github/rklepov/hse-cs-ml-2018-2019/blob/homework/05-NN/HW/hw5/nn_hw5.ipynb\" target=\"_parent\"><img src=\"https://colab.research.google.com/assets/colab-badge.svg\" alt=\"Open In Colab\"/></a>"
      ]
    },
    {
      "metadata": {
        "id": "gZKAjciafJjG",
        "colab_type": "text"
      },
      "cell_type": "markdown",
      "source": [
        "> ### *NN HW5*\n",
        "\n",
        "\n",
        "```\n",
        "ДЗ - https://keras.io/examples/cifar10_cnn/ данную сеть можно взять как исходную. В ней необходимо заменить аугментации на albumentations и подобрать их правильно. Саму структуру сети тоже можно менять - точность ожидается не менее 90\n",
        "```"
      ]
    },
    {
      "metadata": {
        "id": "Ruio1_5wHm73",
        "colab_type": "code",
        "colab": {}
      },
      "cell_type": "code",
      "source": [
        "# !pip install tf-nightly-2.0-preview\n",
        "# !pip install git+https://github.com/tensorflow/probability.git --upgrade"
      ],
      "execution_count": 0,
      "outputs": []
    },
    {
      "metadata": {
        "id": "RGFHCggUNaLY",
        "colab_type": "code",
        "colab": {}
      },
      "cell_type": "code",
      "source": [
        "import os\n",
        "import numpy as np\n",
        "from matplotlib.pylab import plt\n",
        "%matplotlib inline"
      ],
      "execution_count": 0,
      "outputs": []
    },
    {
      "metadata": {
        "id": "aEa4UAcCwD7r",
        "colab_type": "code",
        "outputId": "c69309e3-4331-4af5-dcab-54c9b71ed246",
        "colab": {
          "base_uri": "https://localhost:8080/",
          "height": 156
        }
      },
      "cell_type": "code",
      "source": [
        "import tensorflow_probability as tfp\n",
        "import tensorflow as tf\n",
        "\n",
        "import keras\n",
        "from keras.datasets import cifar10\n",
        "from keras.preprocessing.image import ImageDataGenerator\n",
        "from keras.models import Sequential\n",
        "from keras.layers import Dense, Dropout, Activation, Flatten\n",
        "from keras.layers import Conv2D, MaxPooling2D\n",
        "from keras.callbacks import EarlyStopping\n",
        "\n",
        "from sklearn.model_selection import train_test_split\n",
        "from sklearn.metrics import classification_report"
      ],
      "execution_count": 3,
      "outputs": [
        {
          "output_type": "stream",
          "text": [
            "\n",
            "WARNING: The TensorFlow contrib module will not be included in TensorFlow 2.0.\n",
            "For more information, please see:\n",
            "  * https://github.com/tensorflow/community/blob/master/rfcs/20180907-contrib-sunset.md\n",
            "  * https://github.com/tensorflow/addons\n",
            "If you depend on functionality not listed there, please file an issue.\n",
            "\n"
          ],
          "name": "stdout"
        },
        {
          "output_type": "stream",
          "text": [
            "Using TensorFlow backend.\n"
          ],
          "name": "stderr"
        }
      ]
    },
    {
      "metadata": {
        "id": "e-NTVZ28wQmF",
        "colab_type": "code",
        "outputId": "74e9778b-224f-4c88-d6b2-d2af99dfcbba",
        "colab": {
          "base_uri": "https://localhost:8080/",
          "height": 35
        }
      },
      "cell_type": "code",
      "source": [
        "tf.__version__"
      ],
      "execution_count": 4,
      "outputs": [
        {
          "output_type": "execute_result",
          "data": {
            "text/plain": [
              "'1.13.1'"
            ]
          },
          "metadata": {
            "tags": []
          },
          "execution_count": 4
        }
      ]
    },
    {
      "metadata": {
        "id": "hB9IhiAsH9bU",
        "colab_type": "code",
        "colab": {}
      },
      "cell_type": "code",
      "source": [
        "from albumentations import (\n",
        "    HorizontalFlip, IAAPerspective, ShiftScaleRotate, CLAHE, RandomRotate90,\n",
        "    Transpose, ShiftScaleRotate, Blur, OpticalDistortion, GridDistortion, HueSaturationValue,\n",
        "    IAAAdditiveGaussianNoise, GaussNoise, MotionBlur, MedianBlur, RandomBrightnessContrast, IAAPiecewiseAffine,\n",
        "    IAASharpen, IAAEmboss, Flip, OneOf, Compose, NoOp\n",
        ")"
      ],
      "execution_count": 0,
      "outputs": []
    },
    {
      "metadata": {
        "id": "fd1PRAqvNiM-",
        "colab_type": "text"
      },
      "cell_type": "markdown",
      "source": [
        "> ## CIFAR10\n",
        "\n",
        "https://keras.io/examples/cifar10_cnn/"
      ]
    },
    {
      "metadata": {
        "id": "Baz-uZmVIqC-",
        "colab_type": "code",
        "outputId": "7e4ad79b-ba6d-4ac6-a749-cb206be7d646",
        "colab": {
          "base_uri": "https://localhost:8080/",
          "height": 52
        }
      },
      "cell_type": "code",
      "source": [
        "(X_train, y_train), (X_test, y_test) = cifar10.load_data()\n",
        "print(f'X_train shape: {X_train.shape}')\n",
        "print(f'X_test shape: {X_test.shape}')"
      ],
      "execution_count": 6,
      "outputs": [
        {
          "output_type": "stream",
          "text": [
            "X_train shape: (50000, 32, 32, 3)\n",
            "X_test shape: (10000, 32, 32, 3)\n"
          ],
          "name": "stdout"
        }
      ]
    },
    {
      "metadata": {
        "id": "cGn-zF-fbfTs",
        "colab_type": "code",
        "colab": {
          "base_uri": "https://localhost:8080/",
          "height": 35
        },
        "outputId": "e992516e-1360-4361-cc69-f3da4d444ea9"
      },
      "cell_type": "code",
      "source": [
        "num_classes = len(np.unique(y_train, axis=0))\n",
        "\n",
        "num_classes"
      ],
      "execution_count": 7,
      "outputs": [
        {
          "output_type": "execute_result",
          "data": {
            "text/plain": [
              "10"
            ]
          },
          "metadata": {
            "tags": []
          },
          "execution_count": 7
        }
      ]
    },
    {
      "metadata": {
        "id": "aRRdb-ySErbt",
        "colab_type": "text"
      },
      "cell_type": "markdown",
      "source": [
        "Для валидации будем использовать часть обучающего датасета. Удобнее разбить и перемешать сеты заранее."
      ]
    },
    {
      "metadata": {
        "id": "5GRTQokWCbac",
        "colab_type": "code",
        "colab": {}
      },
      "cell_type": "code",
      "source": [
        "X_train, X_val, y_train, y_val = train_test_split(X_train, y_train, test_size=0.1, shuffle=True, stratify=y_train)"
      ],
      "execution_count": 0,
      "outputs": []
    },
    {
      "metadata": {
        "id": "Q-3uMFiFgzUB",
        "colab_type": "code",
        "colab": {
          "base_uri": "https://localhost:8080/",
          "height": 104
        },
        "outputId": "272e2157-86f8-47a0-9769-d5b6aab61713"
      },
      "cell_type": "code",
      "source": [
        "X_train_scaled, X_val_scaled, X_test_scaled = [ X.astype('float32')/255 for X in (X_train, X_val, X_test) ]\n",
        "\n",
        "y_train, y_val, y_test = [ keras.utils.to_categorical(y, num_classes) for y in (y_train, y_val, y_test) ]\n",
        "\n",
        "y_train[:5]"
      ],
      "execution_count": 9,
      "outputs": [
        {
          "output_type": "execute_result",
          "data": {
            "text/plain": [
              "array([[0., 0., 0., 0., 0., 0., 1., 0., 0., 0.],\n",
              "       [0., 0., 0., 0., 0., 0., 0., 0., 1., 0.],\n",
              "       [0., 1., 0., 0., 0., 0., 0., 0., 0., 0.],\n",
              "       [0., 0., 0., 0., 1., 0., 0., 0., 0., 0.],\n",
              "       [0., 0., 0., 0., 0., 0., 0., 0., 1., 0.]], dtype=float32)"
            ]
          },
          "metadata": {
            "tags": []
          },
          "execution_count": 9
        }
      ]
    },
    {
      "metadata": {
        "id": "ffBL4aKobC6C",
        "colab_type": "text"
      },
      "cell_type": "markdown",
      "source": [
        "> ## Аугментация\n",
        "\n",
        "Аугментацию изображений будем делать с помощью библиотеки [albumenations](https://github.com/albu/albumentations) (ниже функция из [примера](https://albumentations.readthedocs.io/en/latest/examples.html))."
      ]
    },
    {
      "metadata": {
        "id": "NFtmSvYsYx3n",
        "colab_type": "code",
        "colab": {}
      },
      "cell_type": "code",
      "source": [
        "def strong_aug(p=0.5):\n",
        "    return Compose([\n",
        "        RandomRotate90(),\n",
        "        Flip(),\n",
        "        Transpose(),\n",
        "        OneOf([\n",
        "            IAAAdditiveGaussianNoise(),\n",
        "            GaussNoise(),\n",
        "        ], p=0.2),\n",
        "        OneOf([\n",
        "            MotionBlur(p=0.2),\n",
        "            MedianBlur(blur_limit=3, p=0.1),\n",
        "            Blur(blur_limit=3, p=0.1),\n",
        "        ], p=0.2),\n",
        "        ShiftScaleRotate(shift_limit=0.0625, scale_limit=0.2, rotate_limit=45, p=0.2),\n",
        "        OneOf([\n",
        "            OpticalDistortion(p=0.3),\n",
        "            GridDistortion(p=0.1),\n",
        "            IAAPiecewiseAffine(p=0.3),\n",
        "        ], p=0.2),\n",
        "        OneOf([\n",
        "            CLAHE(clip_limit=2),\n",
        "            IAASharpen(),\n",
        "            IAAEmboss(),\n",
        "            RandomBrightnessContrast(),\n",
        "        ], p=0.3),\n",
        "        HueSaturationValue(p=0.3),\n",
        "    ], p=p)"
      ],
      "execution_count": 0,
      "outputs": []
    },
    {
      "metadata": {
        "id": "K7BfIHWRWC4h",
        "colab_type": "text"
      },
      "cell_type": "markdown",
      "source": [
        "Пример аугментации:"
      ]
    },
    {
      "metadata": {
        "id": "EfgFmnfU4FsK",
        "colab_type": "code",
        "colab": {}
      },
      "cell_type": "code",
      "source": [
        "def plot_augs(image, aug, n):\n",
        "    fig, ax = plt.subplots(1, n, sharey='row', figsize=(16, 10))\n",
        "    xticks = np.arange(0, image.shape[0]+1, image.shape[0] // 3)\n",
        "    ax[0].imshow(image)\n",
        "    ax[0].set_xticks(xticks)\n",
        "    for i in range(1, n):\n",
        "        ax[i].set_xticks(xticks)\n",
        "        ax[i].imshow(aug(image=image)['image'])"
      ],
      "execution_count": 0,
      "outputs": []
    },
    {
      "metadata": {
        "id": "0k9Box9_O2lH",
        "colab_type": "code",
        "outputId": "b432f8d1-811d-45c6-9c5e-f6273961aeeb",
        "colab": {
          "base_uri": "https://localhost:8080/",
          "height": 147
        }
      },
      "cell_type": "code",
      "source": [
        "plot_augs(X_train[99], strong_aug(.9), 8);"
      ],
      "execution_count": 12,
      "outputs": [
        {
          "output_type": "display_data",
          "data": {
            "image/png": "[encoded data removed]",
            "text/plain": [
              "<Figure size 1152x720 with 8 Axes>"
            ]
          },
          "metadata": {
            "tags": []
          }
        }
      ]
    },
    {
      "metadata": {
        "id": "ZFyN0FTj8OwR",
        "colab_type": "text"
      },
      "cell_type": "markdown",
      "source": [
        "> ## Модель без аугментации\n"
      ]
    },
    {
      "metadata": {
        "id": "lSnnXkD59i0Z",
        "colab_type": "code",
        "colab": {}
      },
      "cell_type": "code",
      "source": [
        "BATCH_SIZE = 50\n",
        "N_EPOCH = 100"
      ],
      "execution_count": 0,
      "outputs": []
    },
    {
      "metadata": {
        "id": "f5d1UYAVdKJu",
        "colab_type": "code",
        "colab": {}
      },
      "cell_type": "code",
      "source": [
        "def make_model(input_shape=X_train.shape[1:], num_classes=num_classes):\n",
        "    model = Sequential()\n",
        "    \n",
        "    model.add(Conv2D(32, (3, 3), padding='same', input_shape=input_shape))\n",
        "    model.add(Activation('relu'))\n",
        "    model.add(Conv2D(32, (3, 3)))\n",
        "    model.add(Activation('relu'))\n",
        "    model.add(MaxPooling2D(pool_size=(2, 2)))\n",
        "    model.add(Dropout(rate=0.25))\n",
        "\n",
        "    model.add(Conv2D(64, (3, 3), padding='same'))\n",
        "    model.add(Activation('relu'))\n",
        "    model.add(Conv2D(64, (3, 3)))\n",
        "    model.add(Activation('relu'))\n",
        "    model.add(MaxPooling2D(pool_size=(2, 2)))\n",
        "    model.add(Dropout(rate=0.25))\n",
        "    \n",
        "    model.add(Flatten())\n",
        "    model.add(Dense(512))\n",
        "    model.add(Activation('relu'))\n",
        "    model.add(Dropout(rate=0.5))\n",
        "    model.add(Dense(num_classes))\n",
        "    model.add(Activation('softmax'))\n",
        "    \n",
        "    # initiate RMSprop optimizer\n",
        "    opt = keras.optimizers.rmsprop(lr=0.0001, decay=1e-6)\n",
        "\n",
        "    # Let's train the model using RMSprop\n",
        "    model.compile(loss='categorical_crossentropy',\n",
        "                  optimizer=opt,\n",
        "                  metrics=['accuracy'])\n",
        "    \n",
        "    return model"
      ],
      "execution_count": 0,
      "outputs": []
    },
    {
      "metadata": {
        "id": "EIf1yXDroLo6",
        "colab_type": "code",
        "outputId": "06aeb481-ad1b-4007-b7f7-fa3551d0bb52",
        "colab": {
          "base_uri": "https://localhost:8080/",
          "height": 887
        }
      },
      "cell_type": "code",
      "source": [
        "model_direct = make_model()\n",
        "\n",
        "model_direct.summary()"
      ],
      "execution_count": 15,
      "outputs": [
        {
          "output_type": "stream",
          "text": [
            "WARNING:tensorflow:From /usr/local/lib/python3.6/dist-packages/tensorflow/python/framework/op_def_library.py:263: colocate_with (from tensorflow.python.framework.ops) is deprecated and will be removed in a future version.\n",
            "Instructions for updating:\n",
            "Colocations handled automatically by placer.\n",
            "WARNING:tensorflow:From /usr/local/lib/python3.6/dist-packages/keras/backend/tensorflow_backend.py:3445: calling dropout (from tensorflow.python.ops.nn_ops) with keep_prob is deprecated and will be removed in a future version.\n",
            "Instructions for updating:\n",
            "Please use `rate` instead of `keep_prob`. Rate should be set to `rate = 1 - keep_prob`.\n",
            "_________________________________________________________________\n",
            "Layer (type)                 Output Shape              Param #   \n",
            "=================================================================\n",
            "conv2d_1 (Conv2D)            (None, 32, 32, 32)        896       \n",
            "_________________________________________________________________\n",
            "activation_1 (Activation)    (None, 32, 32, 32)        0         \n",
            "_________________________________________________________________\n",
            "conv2d_2 (Conv2D)            (None, 30, 30, 32)        9248      \n",
            "_________________________________________________________________\n",
            "activation_2 (Activation)    (None, 30, 30, 32)        0         \n",
            "_________________________________________________________________\n",
            "max_pooling2d_1 (MaxPooling2 (None, 15, 15, 32)        0         \n",
            "_________________________________________________________________\n",
            "dropout_1 (Dropout)          (None, 15, 15, 32)        0         \n",
            "_________________________________________________________________\n",
            "conv2d_3 (Conv2D)            (None, 15, 15, 64)        18496     \n",
            "_________________________________________________________________\n",
            "activation_3 (Activation)    (None, 15, 15, 64)        0         \n",
            "_________________________________________________________________\n",
            "conv2d_4 (Conv2D)            (None, 13, 13, 64)        36928     \n",
            "_________________________________________________________________\n",
            "activation_4 (Activation)    (None, 13, 13, 64)        0         \n",
            "_________________________________________________________________\n",
            "max_pooling2d_2 (MaxPooling2 (None, 6, 6, 64)          0         \n",
            "_________________________________________________________________\n",
            "dropout_2 (Dropout)          (None, 6, 6, 64)          0         \n",
            "_________________________________________________________________\n",
            "flatten_1 (Flatten)          (None, 2304)              0         \n",
            "_________________________________________________________________\n",
            "dense_1 (Dense)              (None, 512)               1180160   \n",
            "_________________________________________________________________\n",
            "activation_5 (Activation)    (None, 512)               0         \n",
            "_________________________________________________________________\n",
            "dropout_3 (Dropout)          (None, 512)               0         \n",
            "_________________________________________________________________\n",
            "dense_2 (Dense)              (None, 10)                5130      \n",
            "_________________________________________________________________\n",
            "activation_6 (Activation)    (None, 10)                0         \n",
            "=================================================================\n",
            "Total params: 1,250,858\n",
            "Trainable params: 1,250,858\n",
            "Non-trainable params: 0\n",
            "_________________________________________________________________\n"
          ],
          "name": "stdout"
        }
      ]
    },
    {
      "metadata": {
        "id": "LwtYLNUCekDj",
        "colab_type": "code",
        "colab": {}
      },
      "cell_type": "code",
      "source": [
        "hist_direct = model_direct.fit(X_train_scaled, y_train,\n",
        "                               batch_size=BATCH_SIZE,\n",
        "                               epochs=N_EPOCH,\n",
        "                               shuffle=False,                               \n",
        "                               validation_data=(X_val_scaled, y_val),\n",
        "                               callbacks=[EarlyStopping(monitor='val_loss', patience=3)])"
      ],
      "execution_count": 0,
      "outputs": []
    },
    {
      "metadata": {
        "id": "adjJz1nPmd3W",
        "colab_type": "code",
        "outputId": "5c6cd035-d33d-40a3-8172-2f12842b10bf",
        "colab": {
          "base_uri": "https://localhost:8080/",
          "height": 295
        }
      },
      "cell_type": "code",
      "source": [
        "def plot_history(hist):\n",
        "    plt.plot(hist['loss'])\n",
        "    plt.plot(hist['val_loss'])\n",
        "    plt.axvline(x=len(hist['loss'])-1, color='r', linestyle=':')\n",
        "    plt.title('model loss')\n",
        "    plt.ylabel('loss')\n",
        "    plt.xlabel('epoch')\n",
        "    plt.xticks(np.arange(0, len(hist['loss']) + 1, 5))\n",
        "    plt.legend(['train', 'test'], loc='upper right')\n",
        "    plt.grid()\n",
        "\n",
        "plot_history(hist_direct.history);"
      ],
      "execution_count": 17,
      "outputs": [
        {
          "output_type": "display_data",
          "data": {
            "image/png": "[encoded data removed]",
            "text/plain": [
              "<Figure size 432x288 with 1 Axes>"
            ]
          },
          "metadata": {
            "tags": []
          }
        }
      ]
    },
    {
      "metadata": {
        "id": "45lnIjHAels-",
        "colab_type": "code",
        "outputId": "4589ac3f-a75b-4571-f47b-bce8d40ddd6f",
        "colab": {
          "base_uri": "https://localhost:8080/",
          "height": 69
        }
      },
      "cell_type": "code",
      "source": [
        "scores = model_direct.evaluate(X_test_scaled, y_test, verbose=1)\n",
        "print('Test loss:', scores[0])\n",
        "print('Test accuracy:', scores[1])"
      ],
      "execution_count": 18,
      "outputs": [
        {
          "output_type": "stream",
          "text": [
            "10000/10000 [==============================] - 1s 79us/step\n",
            "Test loss: 0.6749558330535889\n",
            "Test accuracy: 0.7689\n"
          ],
          "name": "stdout"
        }
      ]
    },
    {
      "metadata": {
        "id": "unNXV0W3hrl4",
        "colab_type": "code",
        "outputId": "b6cd94c5-b493-4dd6-f1c6-0887070c9fe9",
        "colab": {
          "base_uri": "https://localhost:8080/",
          "height": 35
        }
      },
      "cell_type": "code",
      "source": [
        "y_pred = model_direct.predict(X_test_scaled, verbose=1)"
      ],
      "execution_count": 19,
      "outputs": [
        {
          "output_type": "stream",
          "text": [
            "10000/10000 [==============================] - 1s 76us/step\n"
          ],
          "name": "stdout"
        }
      ]
    },
    {
      "metadata": {
        "id": "PKRrGq6pj1NZ",
        "colab_type": "code",
        "outputId": "b778bde7-1f22-4042-af9e-70bb23609cdd",
        "colab": {
          "base_uri": "https://localhost:8080/",
          "height": 312
        }
      },
      "cell_type": "code",
      "source": [
        "print(classification_report(np.argmax(y_test, axis=1), np.argmax(y_pred, axis=1)))"
      ],
      "execution_count": 20,
      "outputs": [
        {
          "output_type": "stream",
          "text": [
            "              precision    recall  f1-score   support\n",
            "\n",
            "           0       0.85      0.76      0.81      1000\n",
            "           1       0.92      0.83      0.87      1000\n",
            "           2       0.72      0.61      0.66      1000\n",
            "           3       0.66      0.51      0.58      1000\n",
            "           4       0.67      0.79      0.72      1000\n",
            "           5       0.66      0.69      0.68      1000\n",
            "           6       0.73      0.89      0.81      1000\n",
            "           7       0.82      0.82      0.82      1000\n",
            "           8       0.84      0.90      0.87      1000\n",
            "           9       0.83      0.88      0.85      1000\n",
            "\n",
            "   micro avg       0.77      0.77      0.77     10000\n",
            "   macro avg       0.77      0.77      0.77     10000\n",
            "weighted avg       0.77      0.77      0.77     10000\n",
            "\n"
          ],
          "name": "stdout"
        }
      ]
    },
    {
      "metadata": {
        "id": "cNuJkbKd9ysg",
        "colab_type": "text"
      },
      "cell_type": "markdown",
      "source": [
        "> ## Модель с аугментацией"
      ]
    },
    {
      "metadata": {
        "id": "qiX7apA8XgrB",
        "colab_type": "text"
      },
      "cell_type": "markdown",
      "source": [
        "Идея генератора взята из статьи [How to increase your small image dataset using Keras ImageDataGenerator](https://medium.com/@arindambaidya168/https-medium-com-arindambaidya168-using-keras-imagedatagenerator-b94a87cdefad).\n",
        "\n",
        "***TODO***: унаследовать генератор от [`keras.utils.Sequence`](https://keras.io/utils/#sequence)  чтобы [иметь возможность](https://stanford.edu/~shervine/blog/keras-how-to-generate-data-on-the-fly)  использовать `workers > 1` для [`keras.model.fit_generator`](https://keras.io/models/model/#fit_generator)."
      ]
    },
    {
      "metadata": {
        "id": "YsED9_rMhAxg",
        "colab_type": "code",
        "colab": {}
      },
      "cell_type": "code",
      "source": [
        "def aug_generator(X, y, aug, batch_size=BATCH_SIZE):\n",
        "    while True:\n",
        "        # randomize the indices to make an array\n",
        "        ix = np.random.permutation(X.shape[0])\n",
        "        for batch in range(0, len(X), batch_size):\n",
        "            # slice out the current batch according to batch-size\n",
        "            current_batch = ix[batch:(batch + batch_size)]\n",
        "            \n",
        "            X_aug = np.empty([0]+list(X.shape[1:]), dtype=np.int)\n",
        "            \n",
        "            for i in current_batch:\n",
        "                image = aug(image=X[i])['image']\n",
        "                X_aug = np.append(X_aug, [image], axis=0)\n",
        "\n",
        "            yield (X_aug.astype('float32')/255, y[current_batch])"
      ],
      "execution_count": 0,
      "outputs": []
    },
    {
      "metadata": {
        "id": "RNyz3L88eKWl",
        "colab_type": "text"
      },
      "cell_type": "markdown",
      "source": [
        "Я думаю, что из-за низкого разрешения изображений, какие-то сложные аугментации в данном случае, скорее всего, смысла делать нет. Попробуем ограничиться поворотами и отображениями."
      ]
    },
    {
      "metadata": {
        "id": "C_N0ISSgYwz8",
        "colab_type": "text"
      },
      "cell_type": "markdown",
      "source": [
        "[`steps_per_epoch`](https://keras.io/models/model/#fit_generator): [How to use Keras fit and fit_generator (a hands-on tutorial)\n",
        "](https://www.pyimagesearch.com/2018/12/24/how-to-use-keras-fit-and-fit_generator-a-hands-on-tutorial/)"
      ]
    },
    {
      "metadata": {
        "id": "fQunA560ffTe",
        "colab_type": "code",
        "colab": {}
      },
      "cell_type": "code",
      "source": [
        "model_aug = make_model()\n",
        "\n",
        "hist_aug = model_aug.fit_generator(aug_generator(X_train, y_train, batch_size=BATCH_SIZE,\n",
        "                                                 aug=Compose([OneOf([Flip(p=1.), RandomRotate90(p=1.), Transpose(p=1.), HorizontalFlip(p=1.)], p=.5),\n",
        "                                                              ShiftScaleRotate(shift_limit=0.0625, scale_limit=0.2, rotate_limit=45, p=.5),\n",
        "                                                              CLAHE(clip_limit=2, p=.2)], p=.4)),\n",
        "                                   epochs=N_EPOCH,\n",
        "                                   steps_per_epoch=len(X_train) // BATCH_SIZE,\n",
        "                                   validation_data=aug_generator(X_val, y_val, batch_size=BATCH_SIZE, aug=NoOp()),\n",
        "                                   validation_steps=len(X_val) // BATCH_SIZE,\n",
        "                                   callbacks=[EarlyStopping(monitor='val_loss', patience=10)],\n",
        "                                   workers=1)"
      ],
      "execution_count": 0,
      "outputs": []
    },
    {
      "metadata": {
        "id": "xduxadQsoSPE",
        "colab_type": "code",
        "colab": {
          "base_uri": "https://localhost:8080/",
          "height": 295
        },
        "outputId": "1e59d940-d54a-40c1-b194-45a17f4abf2f"
      },
      "cell_type": "code",
      "source": [
        "plot_history(hist_aug.history);"
      ],
      "execution_count": 23,
      "outputs": [
        {
          "output_type": "display_data",
          "data": {
            "image/png": "[encoded data removed]",
            "text/plain": [
              "<Figure size 432x288 with 1 Axes>"
            ]
          },
          "metadata": {
            "tags": []
          }
        }
      ]
    },
    {
      "metadata": {
        "id": "OQZBp1VHlgv3",
        "colab_type": "code",
        "colab": {
          "base_uri": "https://localhost:8080/",
          "height": 69
        },
        "outputId": "30c2d530-eab8-4175-a8bc-513cf824b95f"
      },
      "cell_type": "code",
      "source": [
        "scores = model_aug.evaluate(X_test_scaled, y_test, verbose=1)\n",
        "print('Test loss:', scores[0])\n",
        "print('Test accuracy:', scores[1])"
      ],
      "execution_count": 24,
      "outputs": [
        {
          "output_type": "stream",
          "text": [
            "10000/10000 [==============================] - 1s 76us/step\n",
            "Test loss: 0.6390180183410644\n",
            "Test accuracy: 0.7876\n"
          ],
          "name": "stdout"
        }
      ]
    },
    {
      "metadata": {
        "colab_type": "code",
        "id": "oTRAiqe-kh_y",
        "colab": {
          "base_uri": "https://localhost:8080/",
          "height": 35
        },
        "outputId": "7b0e005a-4764-4fbb-f81f-546599fd655a"
      },
      "cell_type": "code",
      "source": [
        "y_pred = model_aug.predict(X_test_scaled, verbose=1)"
      ],
      "execution_count": 25,
      "outputs": [
        {
          "output_type": "stream",
          "text": [
            "10000/10000 [==============================] - 1s 77us/step\n"
          ],
          "name": "stdout"
        }
      ]
    },
    {
      "metadata": {
        "colab_type": "code",
        "id": "oQpjd6Ljkh_1",
        "colab": {
          "base_uri": "https://localhost:8080/",
          "height": 312
        },
        "outputId": "18eaacbb-0260-46df-ef9d-ca3689c6a9e9"
      },
      "cell_type": "code",
      "source": [
        "print(classification_report(np.argmax(y_test, axis=1), np.argmax(y_pred, axis=1)))"
      ],
      "execution_count": 26,
      "outputs": [
        {
          "output_type": "stream",
          "text": [
            "              precision    recall  f1-score   support\n",
            "\n",
            "           0       0.79      0.83      0.81      1000\n",
            "           1       0.92      0.84      0.88      1000\n",
            "           2       0.82      0.57      0.67      1000\n",
            "           3       0.66      0.62      0.64      1000\n",
            "           4       0.70      0.82      0.75      1000\n",
            "           5       0.75      0.67      0.71      1000\n",
            "           6       0.79      0.87      0.83      1000\n",
            "           7       0.82      0.84      0.83      1000\n",
            "           8       0.83      0.91      0.87      1000\n",
            "           9       0.82      0.91      0.86      1000\n",
            "\n",
            "   micro avg       0.79      0.79      0.79     10000\n",
            "   macro avg       0.79      0.79      0.78     10000\n",
            "weighted avg       0.79      0.79      0.78     10000\n",
            "\n"
          ],
          "name": "stdout"
        }
      ]
    },
    {
      "metadata": {
        "id": "A3KXaMEF3kUQ",
        "colab_type": "text"
      },
      "cell_type": "markdown",
      "source": [
        "> ## Вывод\n",
        "\n",
        "Аугментация позволила немного улучшить качество модели, хотя требуемой точности достигнуть не удалось. Возможно, необходимо усложнить модель и/или попробовать более сложные аугментации (но, как первое, так и второе делать не хотелось бы, потому что и так учится довольно долго)."
      ]
    }
  ]
}
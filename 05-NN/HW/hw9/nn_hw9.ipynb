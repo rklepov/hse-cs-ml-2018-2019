{
  "nbformat": 4,
  "nbformat_minor": 0,
  "metadata": {
    "colab": {
      "name": "nn_hw9.ipynb",
      "version": "0.3.2",
      "provenance": [],
      "collapsed_sections": [],
      "include_colab_link": true
    },
    "kernelspec": {
      "name": "python3",
      "display_name": "Python 3"
    },
    "accelerator": "GPU"
  },
  "cells": [
    {
      "cell_type": "markdown",
      "metadata": {
        "id": "view-in-github",
        "colab_type": "text"
      },
      "source": [
        "<a href=\"https://colab.research.google.com/github/rklepov/hse-cs-ml-2018-2019/blob/homework/05-NN/HW/hw9/nn_hw9.ipynb\" target=\"_parent\"><img src=\"https://colab.research.google.com/assets/colab-badge.svg\" alt=\"Open In Colab\"/></a>"
      ]
    },
    {
      "cell_type": "markdown",
      "metadata": {
        "id": "Af8pI7coMnDp",
        "colab_type": "text"
      },
      "source": [
        "## _[NN HW9](https://github.com/rklepov/hse-cs-ml-2018-2019/blob/master/05-NN/06-cv/transfer_learning_example/transfer_learning_example.ipynb \"NN HW9\")_\n",
        "\n",
        "**Задание**: \n",
        "1. Скачать датасет с Kaggle с изображениями цветов https://www.kaggle.com/alxmamaev/flowers-recognition\n",
        "2. Сделать модель классификации на основе transfer learning.\n",
        "Модель MobileNet, предобученнная на ImageNet на основе данного шаблона\n",
        "---"
      ]
    },
    {
      "cell_type": "code",
      "metadata": {
        "id": "WSUOx_nbvJNq",
        "colab_type": "code",
        "outputId": "62c9f24a-a4fc-4df9-947e-8e1253632b4e",
        "colab": {
          "base_uri": "https://localhost:8080/",
          "height": 35
        }
      },
      "source": [
        "import os\n",
        "import glob\n",
        "from shutil import copyfile\n",
        "import json\n",
        "\n",
        "import numpy as np\n",
        "import matplotlib.pyplot as plt\n",
        "%matplotlib inline\n",
        "import seaborn as sns\n",
        "sns.set()\n",
        "\n",
        "import keras.layers as L\n",
        "import keras.callbacks as C\n",
        "\n",
        "from keras.models import Model\n",
        "from keras.optimizers import Adam\n",
        "from keras.preprocessing.image import ImageDataGenerator\n",
        "\n",
        "from keras.applications import MobileNet\n",
        "import keras.applications.mobilenet as mobilenet\n",
        "\n",
        "from sklearn.metrics import classification_report, confusion_matrix"
      ],
      "execution_count": 0,
      "outputs": [
        {
          "output_type": "stream",
          "text": [
            "Using TensorFlow backend.\n"
          ],
          "name": "stderr"
        }
      ]
    },
    {
      "cell_type": "code",
      "metadata": {
        "id": "-io4jEJuv7pE",
        "colab_type": "code",
        "outputId": "a5b3317e-8733-48ae-e8bd-998b31836555",
        "colab": {
          "base_uri": "https://localhost:8080/",
          "height": 35
        }
      },
      "source": [
        "from google.colab import drive\n",
        "drive.mount('/content/gdrive')"
      ],
      "execution_count": 0,
      "outputs": [
        {
          "output_type": "stream",
          "text": [
            "Drive already mounted at /content/gdrive; to attempt to forcibly remount, call drive.mount(\"/content/gdrive\", force_remount=True).\n"
          ],
          "name": "stdout"
        }
      ]
    },
    {
      "cell_type": "markdown",
      "metadata": {
        "id": "w1d5w0HtDuNH",
        "colab_type": "text"
      },
      "source": [
        "## 1. *Загрузка датасета с [Kaggle](https://www.kaggle.com/alxmamaev/flowers-recognition#flowers.zip \"Flowers Recognition\")*\n",
        "\n",
        "[1] [Official Kaggle API](https://github.com/Kaggle/kaggle-api \"Kaggle/kaggle-api: Official Kaggle API\")\n",
        "\n",
        "[2] [Setting Up Kaggle in Google Colab](https://towardsdatascience.com/setting-up-kaggle-in-google-colab-ebb281b61463 \"Setting Up Kaggle in Google Colab -- Towards Data Science\")"
      ]
    },
    {
      "cell_type": "code",
      "metadata": {
        "id": "jIVnLttp1UBO",
        "colab_type": "code",
        "outputId": "3211d51c-3baf-44f3-b131-fc646f5647c5",
        "colab": {
          "base_uri": "https://localhost:8080/",
          "height": 52
        }
      },
      "source": [
        "!mkdir -p ~/.kaggle\n",
        "\n",
        "token = {\"username\":\"rklepov\",\"key\":\"***\"}\n",
        "\n",
        "with open(os.path.join(os.getenv('HOME'),'.kaggle','kaggle.json'), 'w') as file:\n",
        "    json.dump(token, file)\n",
        "    \n",
        "!chmod 600 ~/.kaggle/kaggle.json\n",
        "!ls -hl ${HOME}/.kaggle"
      ],
      "execution_count": 0,
      "outputs": [
        {
          "output_type": "stream",
          "text": [
            "total 4.0K\n",
            "-rw------- 1 root root 66 Jun  5 08:03 kaggle.json\n"
          ],
          "name": "stdout"
        }
      ]
    },
    {
      "cell_type": "code",
      "metadata": {
        "id": "RXkNHh9rxjtF",
        "colab_type": "code",
        "outputId": "369a5778-1be6-4337-8191-1ea449f175c7",
        "colab": {
          "base_uri": "https://localhost:8080/",
          "height": 35
        }
      },
      "source": [
        "!kaggle config set -n path -v'./'"
      ],
      "execution_count": 0,
      "outputs": [
        {
          "output_type": "stream",
          "text": [
            "- path is now set to: ./\n"
          ],
          "name": "stdout"
        }
      ]
    },
    {
      "cell_type": "code",
      "metadata": {
        "id": "jcGFLzLq41ka",
        "colab_type": "code",
        "outputId": "7ca054d1-ca21-420f-8b54-cf71dad0d69a",
        "colab": {
          "base_uri": "https://localhost:8080/",
          "height": 104
        }
      },
      "source": [
        "!kaggle config view"
      ],
      "execution_count": 0,
      "outputs": [
        {
          "output_type": "stream",
          "text": [
            "Configuration values from /root/.kaggle\n",
            "- username: rklepov\n",
            "- path: ./\n",
            "- proxy: None\n",
            "- competition: None\n"
          ],
          "name": "stdout"
        }
      ]
    },
    {
      "cell_type": "code",
      "metadata": {
        "id": "No62bVjbyxW1",
        "colab_type": "code",
        "outputId": "7dcb4ce0-651a-4627-f7c1-72020a58304e",
        "colab": {
          "base_uri": "https://localhost:8080/",
          "height": 87
        }
      },
      "source": [
        "!kaggle datasets list -s 'flowers-recognition'"
      ],
      "execution_count": 0,
      "outputs": [
        {
          "output_type": "stream",
          "text": [
            "ref                            title                 size  lastUpdated          downloadCount  \n",
            "-----------------------------  -------------------  -----  -------------------  -------------  \n",
            "alxmamaev/flowers-recognition  Flowers Recognition  225MB  2018-06-28 01:34:18          12258  \n",
            "gverzea/edible-wild-plants     Edible wild plants   765MB  2018-10-14 16:00:35            521  \n"
          ],
          "name": "stdout"
        }
      ]
    },
    {
      "cell_type": "code",
      "metadata": {
        "id": "hdkry9Buy7j4",
        "colab_type": "code",
        "outputId": "8160416f-8f36-4e6c-f349-ac0dce1281ac",
        "colab": {
          "base_uri": "https://localhost:8080/",
          "height": 69
        }
      },
      "source": [
        "!kaggle datasets download -w -o --unzip 'alxmamaev/flowers-recognition'"
      ],
      "execution_count": 0,
      "outputs": [
        {
          "output_type": "stream",
          "text": [
            "Downloading flowers-recognition.zip to .\n",
            " 93% 208M/225M [00:01<00:00, 161MB/s]\n",
            "100% 225M/225M [00:01<00:00, 147MB/s]\n"
          ],
          "name": "stdout"
        }
      ]
    },
    {
      "cell_type": "code",
      "metadata": {
        "id": "kswqmuj4zteR",
        "colab_type": "code",
        "outputId": "b88a2d8f-6c0a-4e48-a99e-40192abafdb8",
        "colab": {
          "base_uri": "https://localhost:8080/",
          "height": 104
        }
      },
      "source": [
        "!ls -1F flowers/"
      ],
      "execution_count": 0,
      "outputs": [
        {
          "output_type": "stream",
          "text": [
            "daisy/\n",
            "dandelion/\n",
            "rose/\n",
            "sunflower/\n",
            "tulip/\n"
          ],
          "name": "stdout"
        }
      ]
    },
    {
      "cell_type": "markdown",
      "metadata": {
        "id": "5uEQu5UkAQGv",
        "colab_type": "text"
      },
      "source": [
        "## 2. *Подготовка обучающего и валидационного датасетов*\n",
        "\n",
        "Подготовим структуру директорий в формате, ожидаемом  [`ImageDataGenerator.flow_from_directory`](https://keras.io/preprocessing/image/#flow_from_directory).\n",
        "\n",
        "[3] [Tutorial on using Keras flow_from_directory and generators](https://medium.com/@vijayabhaskar96/tutorial-image-classification-with-keras-flow-from-directory-and-generators-95f75ebe5720 \"Tutorial on using Keras flow_from_directory and generators\")"
      ]
    },
    {
      "cell_type": "code",
      "metadata": {
        "id": "2yV9QD802ZZR",
        "colab_type": "code",
        "outputId": "dadf685a-7aee-4c39-859c-db023494a434",
        "colab": {
          "base_uri": "https://localhost:8080/",
          "height": 104
        }
      },
      "source": [
        "# все имена оригинальных файлов в формате numpy.array\n",
        "all_images = np.array(glob.glob('flowers/*/*.jpg', recursive=True))\n",
        "\n",
        "all_images.shape, all_images[:5]"
      ],
      "execution_count": 0,
      "outputs": [
        {
          "output_type": "execute_result",
          "data": {
            "text/plain": [
              "((4323,), array(['flowers/tulip/5543457754_89c44c88de_n.jpg',\n",
              "        'flowers/tulip/112334842_3ecf7585dd.jpg',\n",
              "        'flowers/tulip/5691090657_2f1e9bf49e_n.jpg',\n",
              "        'flowers/tulip/2535936698_78cc03df3f_n.jpg',\n",
              "        'flowers/tulip/16930105456_8b826dc4a8_n.jpg'], dtype='<U46'))"
            ]
          },
          "metadata": {
            "tags": []
          },
          "execution_count": 9
        }
      ]
    },
    {
      "cell_type": "code",
      "metadata": {
        "id": "qV6dyadM-Ion",
        "colab_type": "code",
        "outputId": "c1d76473-b4a0-42e0-b51f-f9b01127c2d3",
        "colab": {
          "base_uri": "https://localhost:8080/",
          "height": 35
        }
      },
      "source": [
        "# разобъём на 80% обучающий и 20% валидационный датасеты\n",
        "val_ix = np.random.choice(np.arange(len(all_images)), len(all_images) // 5, replace=False)\n",
        "\n",
        "train_ix = np.setdiff1d(np.arange(len(all_images)), val_ix, assume_unique=True)\n",
        "\n",
        "train_ix.shape, val_ix.shape"
      ],
      "execution_count": 0,
      "outputs": [
        {
          "output_type": "execute_result",
          "data": {
            "text/plain": [
              "((3459,), (864,))"
            ]
          },
          "metadata": {
            "tags": []
          },
          "execution_count": 10
        }
      ]
    },
    {
      "cell_type": "code",
      "metadata": {
        "id": "q6weMfnXHNx3",
        "colab_type": "code",
        "colab": {}
      },
      "source": [
        "def copy_images(src_img_paths, ix, src_dir, tgt_dir):\n",
        "    tgt_img_paths = np.vectorize(str.replace)(src_img_paths[ix], src_dir, tgt_dir)\n",
        "    np.vectorize(copyfile)(src_img_paths[ix], tgt_img_paths)\n",
        "    return tgt_img_paths"
      ],
      "execution_count": 0,
      "outputs": []
    },
    {
      "cell_type": "code",
      "metadata": {
        "id": "zsW46fPrBRpT",
        "colab_type": "code",
        "outputId": "94173db6-8990-4cfb-9c47-5e33f02baacd",
        "colab": {
          "base_uri": "https://localhost:8080/",
          "height": 191
        }
      },
      "source": [
        "!ls -1d flowers/* | sed 's%flowers\\(.*\\)%mkdir -p train\\1%' | bash -v\n",
        "!find train/* -name '*.jpg' | xargs -r rm\n",
        "\n",
        "copy_images(all_images, train_ix, 'flowers', 'train')[-5:]"
      ],
      "execution_count": 0,
      "outputs": [
        {
          "output_type": "stream",
          "text": [
            "mkdir -p train/daisy\n",
            "mkdir -p train/dandelion\n",
            "mkdir -p train/rose\n",
            "mkdir -p train/sunflower\n",
            "mkdir -p train/tulip\n"
          ],
          "name": "stdout"
        },
        {
          "output_type": "execute_result",
          "data": {
            "text/plain": [
              "array(['train/sunflower/14646280372_dd50be16e4_n.jpg',\n",
              "       'train/sunflower/3665455426_9cd1c3af4a_n.jpg',\n",
              "       'train/sunflower/8705462313_4458d64cd4.jpg',\n",
              "       'train/sunflower/5180859236_60aa57ff9b_n.jpg',\n",
              "       'train/sunflower/5973935729_2868f2db1f_n.jpg'], dtype='<U44')"
            ]
          },
          "metadata": {
            "tags": []
          },
          "execution_count": 12
        }
      ]
    },
    {
      "cell_type": "code",
      "metadata": {
        "id": "sfqdo9HqIAxq",
        "colab_type": "code",
        "outputId": "90b602ba-007b-46d5-d62e-3b17b053d025",
        "colab": {
          "base_uri": "https://localhost:8080/",
          "height": 191
        }
      },
      "source": [
        "!ls -1d flowers/* | sed 's%flowers\\(.*\\)%mkdir -p validation\\1%' | bash -v\n",
        "!find validation/* -name '*.jpg' | xargs -r rm\n",
        "\n",
        "copy_images(all_images, val_ix, 'flowers', 'validation')[-5:]"
      ],
      "execution_count": 0,
      "outputs": [
        {
          "output_type": "stream",
          "text": [
            "mkdir -p validation/daisy\n",
            "mkdir -p validation/dandelion\n",
            "mkdir -p validation/rose\n",
            "mkdir -p validation/sunflower\n",
            "mkdir -p validation/tulip\n"
          ],
          "name": "stdout"
        },
        {
          "output_type": "execute_result",
          "data": {
            "text/plain": [
              "array(['validation/rose/8516036987_8a06dfe1b5_n.jpg',\n",
              "       'validation/dandelion/8613502159_d9ea67ba63.jpg',\n",
              "       'validation/dandelion/7243174412_d3628e4cc4_m.jpg',\n",
              "       'validation/dandelion/3991962484_085ba2da94.jpg',\n",
              "       'validation/rose/2735666555_01d53e74fe.jpg'], dtype='<U49')"
            ]
          },
          "metadata": {
            "tags": []
          },
          "execution_count": 13
        }
      ]
    },
    {
      "cell_type": "code",
      "metadata": {
        "id": "zH7NUNsP__Ua",
        "colab_type": "code",
        "outputId": "36d8322e-17fe-4fac-ebe2-b5bd0f7e4e63",
        "colab": {
          "base_uri": "https://localhost:8080/",
          "height": 35
        }
      },
      "source": [
        "# проверка количества файлов\n",
        "len(glob.glob('train/**/*.jpg', recursive=True)), len(glob.glob('validation/**/*.jpg', recursive=True))"
      ],
      "execution_count": 0,
      "outputs": [
        {
          "output_type": "execute_result",
          "data": {
            "text/plain": [
              "(3459, 864)"
            ]
          },
          "metadata": {
            "tags": []
          },
          "execution_count": 14
        }
      ]
    },
    {
      "cell_type": "markdown",
      "metadata": {
        "id": "PSm1ao1kIx0v",
        "colab_type": "text"
      },
      "source": [
        "## 3. *Модель*\n",
        "\n",
        "За основу взята модель из [примера](https://github.com/rklepov/hse-cs-ml-2018-2019/blob/master/05-NN/06-cv/transfer_learning_example/transfer_learning_example.ipynb)."
      ]
    },
    {
      "cell_type": "code",
      "metadata": {
        "id": "wk09Z2YzMPhG",
        "colab_type": "code",
        "colab": {}
      },
      "source": [
        "def make_model(base_model, num_classes=5, num_nontrainable_layers=20):\n",
        "    x = base_model.output\n",
        "\n",
        "    x = L.GlobalAveragePooling2D()(x)\n",
        "    x = L.Dense(1024,activation='relu')(x)\n",
        "    x = L.Dense(1024,activation='relu')(x) \n",
        "    x = L.Dense(512,activation='relu')(x) \n",
        "    preds = L.Dense(num_classes, activation='softmax')(x)\n",
        "\n",
        "    model = Model(inputs=base_model.input, outputs=preds)\n",
        "   \n",
        "    for layer in model.layers[:num_nontrainable_layers]:\n",
        "        layer.trainable=False\n",
        "    for layer in model.layers[num_nontrainable_layers:]:\n",
        "        layer.trainable=True\n",
        "    \n",
        "    return model"
      ],
      "execution_count": 0,
      "outputs": []
    },
    {
      "cell_type": "markdown",
      "metadata": {
        "id": "rFGsAkgUPYfv",
        "colab_type": "text"
      },
      "source": [
        "Будем использовать  [`ImageDataGenerator.flow_from_directory`](https://keras.io/preprocessing/image/#flow_from_directory).\n",
        "\n",
        "[4] https://gist.github.com/fchollet/0830affa1f7f19fd47b06d4cf89ed44d"
      ]
    },
    {
      "cell_type": "code",
      "metadata": {
        "id": "kHW073Q-PVhI",
        "colab_type": "code",
        "outputId": "45b5198a-a206-41f4-bae3-df700e2755c9",
        "colab": {
          "base_uri": "https://localhost:8080/",
          "height": 35
        }
      },
      "source": [
        "train_datagen = ImageDataGenerator(preprocessing_function=mobilenet.preprocess_input)\n",
        "\n",
        "train_generator = train_datagen.flow_from_directory(\n",
        "    'train',\n",
        "    target_size=(224, 224),\n",
        "    batch_size=32,\n",
        "    class_mode='categorical')"
      ],
      "execution_count": 0,
      "outputs": [
        {
          "output_type": "stream",
          "text": [
            "Found 3459 images belonging to 5 classes.\n"
          ],
          "name": "stdout"
        }
      ]
    },
    {
      "cell_type": "code",
      "metadata": {
        "id": "cbiDSTX_QD11",
        "colab_type": "code",
        "outputId": "21addee4-cad5-4132-a9ae-e92a769990ed",
        "colab": {
          "base_uri": "https://localhost:8080/",
          "height": 35
        }
      },
      "source": [
        "val_datagen = ImageDataGenerator(preprocessing_function=mobilenet.preprocess_input)\n",
        "\n",
        "val_generator = val_datagen.flow_from_directory(\n",
        "    'validation',\n",
        "    target_size=(224, 224),\n",
        "    batch_size=32,\n",
        "    class_mode='categorical')"
      ],
      "execution_count": 0,
      "outputs": [
        {
          "output_type": "stream",
          "text": [
            "Found 864 images belonging to 5 classes.\n"
          ],
          "name": "stdout"
        }
      ]
    },
    {
      "cell_type": "code",
      "metadata": {
        "id": "G5Zs8n3eUcPu",
        "colab_type": "code",
        "colab": {}
      },
      "source": [
        "def plot_history(hist):\n",
        "    fig, ax = plt.subplots(1, 2, figsize=(16, 6))\n",
        "    def plot_ax(ax, hist, title, train, val, loc='best'):\n",
        "        last_epoch = len(hist[train])\n",
        "        ax.plot(1 + np.arange(last_epoch), hist[train])\n",
        "        ax.plot(1 + np.arange(last_epoch), hist[val])\n",
        "        \n",
        "        ax.axvline(x=last_epoch, color='r', linestyle=':')\n",
        "        bottom, top = ax.get_ylim()\n",
        "        height = top - bottom\n",
        "        ymid = bottom + height / 2\n",
        "        ax.annotate(f'{last_epoch}', xy=(last_epoch, ymid))\n",
        "        \n",
        "        val_last = hist[val][last_epoch-1]\n",
        "        ax.axhline(y=val_last, color='g', linestyle=':')\n",
        "        left, right = ax.get_xlim()\n",
        "        y2 = [top - height / 3, bottom + height / 3][bool(val_last < ymid)]\n",
        "        ax.annotate(f'{val_last:.4f}', xy=(last_epoch, val_last), \n",
        "                    xytext=(last_epoch - (last_epoch - left) / 4, y2),\n",
        "                    size = 14,\n",
        "                    arrowprops=dict(arrowstyle='->',\n",
        "                                    connectionstyle=f'arc3,rad={.3*[1, -1][bool(val_last < ymid)]:.1f}'))\n",
        "\n",
        "        ax.set_title(title)\n",
        "        ax.set_ylabel(train)\n",
        "        ax.set_xlabel('epoch')\n",
        "        ax.set_xticks(np.arange(0, last_epoch, 5))\n",
        "        ax.legend(['train', 'val'], loc=loc)\n",
        "#         ax.grid()\n",
        "\n",
        "    plot_ax(ax[0], hist, 'model loss', 'loss', 'val_loss')\n",
        "    plot_ax(ax[1], hist, 'model accuracy', 'acc', 'val_acc')"
      ],
      "execution_count": 0,
      "outputs": []
    },
    {
      "cell_type": "code",
      "metadata": {
        "id": "A7HAjfE9QMtl",
        "colab_type": "code",
        "outputId": "31c025c6-065c-487b-bab0-a741d60a6b83",
        "colab": {
          "base_uri": "https://localhost:8080/",
          "height": 835
        }
      },
      "source": [
        "model = make_model(MobileNet(weights='imagenet', input_shape=(224, 224, 3), include_top=False))\n",
        "\n",
        "model.compile(optimizer='Adam', loss='categorical_crossentropy', metrics=['accuracy'])\n",
        "\n",
        "earlystop = C.EarlyStopping(monitor='val_loss', min_delta=0.05, patience=10, verbose=0, mode='auto')\n",
        "\n",
        "history = model.fit_generator(\n",
        "    train_generator,\n",
        "    steps_per_epoch=train_generator.n // train_generator.batch_size,\n",
        "    epochs=25,\n",
        "    validation_data=val_generator,\n",
        "    validation_steps=val_generator.n // val_generator.batch_size,\n",
        "    verbose=1,\n",
        "    callbacks=[earlystop])\n",
        "\n",
        "model.save_weights('nn_hw9.h5')"
      ],
      "execution_count": 0,
      "outputs": [
        {
          "output_type": "stream",
          "text": [
            "WARNING:tensorflow:From /usr/local/lib/python3.6/dist-packages/tensorflow/python/framework/op_def_library.py:263: colocate_with (from tensorflow.python.framework.ops) is deprecated and will be removed in a future version.\n",
            "Instructions for updating:\n",
            "Colocations handled automatically by placer.\n",
            "WARNING:tensorflow:From /usr/local/lib/python3.6/dist-packages/tensorflow/python/ops/math_ops.py:3066: to_int32 (from tensorflow.python.ops.math_ops) is deprecated and will be removed in a future version.\n",
            "Instructions for updating:\n",
            "Use tf.cast instead.\n",
            "Epoch 1/25\n",
            "108/108 [==============================] - 32s 297ms/step - loss: 0.6627 - acc: 0.7812 - val_loss: 2.2199 - val_acc: 0.6331\n",
            "Epoch 2/25\n",
            "108/108 [==============================] - 25s 235ms/step - loss: 0.4253 - acc: 0.8608 - val_loss: 0.7512 - val_acc: 0.7836\n",
            "Epoch 3/25\n",
            "108/108 [==============================] - 25s 231ms/step - loss: 0.3245 - acc: 0.8964 - val_loss: 0.6570 - val_acc: 0.8252\n",
            "Epoch 4/25\n",
            "108/108 [==============================] - 25s 234ms/step - loss: 0.2741 - acc: 0.9098 - val_loss: 0.9740 - val_acc: 0.7500\n",
            "Epoch 5/25\n",
            "108/108 [==============================] - 25s 234ms/step - loss: 0.1966 - acc: 0.9430 - val_loss: 0.8928 - val_acc: 0.7859\n",
            "Epoch 6/25\n",
            "108/108 [==============================] - 25s 232ms/step - loss: 0.2193 - acc: 0.9370 - val_loss: 0.5975 - val_acc: 0.8183\n",
            "Epoch 7/25\n",
            "108/108 [==============================] - 25s 232ms/step - loss: 0.1501 - acc: 0.9540 - val_loss: 0.9177 - val_acc: 0.8032\n",
            "Epoch 8/25\n",
            "108/108 [==============================] - 25s 231ms/step - loss: 0.3146 - acc: 0.9182 - val_loss: 0.5547 - val_acc: 0.8542\n",
            "Epoch 9/25\n",
            "108/108 [==============================] - 25s 231ms/step - loss: 0.3478 - acc: 0.9019 - val_loss: 1.1195 - val_acc: 0.7245\n",
            "Epoch 10/25\n",
            "108/108 [==============================] - 25s 232ms/step - loss: 0.1769 - acc: 0.9505 - val_loss: 0.3951 - val_acc: 0.8808\n",
            "Epoch 11/25\n",
            "108/108 [==============================] - 25s 233ms/step - loss: 0.1122 - acc: 0.9664 - val_loss: 0.5395 - val_acc: 0.8588\n",
            "Epoch 12/25\n",
            "108/108 [==============================] - 25s 233ms/step - loss: 0.2065 - acc: 0.9405 - val_loss: 0.7274 - val_acc: 0.8634\n",
            "Epoch 13/25\n",
            "108/108 [==============================] - 25s 232ms/step - loss: 0.2928 - acc: 0.9120 - val_loss: 1.1019 - val_acc: 0.7546\n",
            "Epoch 14/25\n",
            "108/108 [==============================] - 25s 233ms/step - loss: 0.2046 - acc: 0.9460 - val_loss: 0.8854 - val_acc: 0.8113\n",
            "Epoch 15/25\n",
            "108/108 [==============================] - 25s 231ms/step - loss: 0.1329 - acc: 0.9605 - val_loss: 0.8845 - val_acc: 0.8125\n",
            "Epoch 16/25\n",
            "108/108 [==============================] - 25s 230ms/step - loss: 0.1470 - acc: 0.9628 - val_loss: 1.0815 - val_acc: 0.8171\n",
            "Epoch 17/25\n",
            "108/108 [==============================] - 25s 229ms/step - loss: 0.1925 - acc: 0.9413 - val_loss: 0.5106 - val_acc: 0.8831\n",
            "Epoch 18/25\n",
            "108/108 [==============================] - 25s 232ms/step - loss: 0.0761 - acc: 0.9777 - val_loss: 0.5579 - val_acc: 0.8530\n",
            "Epoch 19/25\n",
            "108/108 [==============================] - 25s 232ms/step - loss: 0.0692 - acc: 0.9826 - val_loss: 0.5005 - val_acc: 0.8588\n",
            "Epoch 20/25\n",
            "108/108 [==============================] - 25s 233ms/step - loss: 0.0712 - acc: 0.9764 - val_loss: 0.7310 - val_acc: 0.8530\n"
          ],
          "name": "stdout"
        }
      ]
    },
    {
      "cell_type": "code",
      "metadata": {
        "id": "S7dtTxG2U9Tb",
        "colab_type": "code",
        "outputId": "02792197-17ab-42fa-c2d6-913bd2e3e261",
        "colab": {
          "base_uri": "https://localhost:8080/",
          "height": 411
        }
      },
      "source": [
        "plot_history(history.history)"
      ],
      "execution_count": 0,
      "outputs": [
        {
          "output_type": "display_data",
          "data": {
            "image/png": "[encoded data removed]",
            "text/plain": [
              "<Figure size 1152x432 with 2 Axes>"
            ]
          },
          "metadata": {
            "tags": []
          }
        }
      ]
    },
    {
      "cell_type": "markdown",
      "metadata": {
        "id": "puUibyI7hnDS",
        "colab_type": "text"
      },
      "source": [
        "*Даже непонятно, есть ли тут переобучение: лосс на валидационном датасете вроде как имеет тенденцию к снижению, но очень уж сильно скачет*."
      ]
    },
    {
      "cell_type": "markdown",
      "metadata": {
        "id": "IQAM98BLQmKh",
        "colab_type": "text"
      },
      "source": [
        "## 4. _Качество модели_\n",
        "\n",
        "Думаю, что метрики классификации можно оценить по валидационному датасету, потому что он не участвовал в обучении."
      ]
    },
    {
      "cell_type": "code",
      "metadata": {
        "id": "3883AMQ5X4Ao",
        "colab_type": "code",
        "outputId": "72c6bde9-1909-4e78-99bd-006c3aa6156f",
        "colab": {
          "base_uri": "https://localhost:8080/",
          "height": 52
        }
      },
      "source": [
        "test_datagen = ImageDataGenerator(preprocessing_function=mobilenet.preprocess_input)\n",
        "\n",
        "test_generator = test_datagen.flow_from_directory(\n",
        "    'validation',\n",
        "    target_size=(224, 224),\n",
        "    batch_size=1,\n",
        "    class_mode=None,\n",
        "    shuffle=False)\n",
        "\n",
        "preds = model.predict_generator(test_generator, steps=test_generator.n // test_generator.batch_size, verbose=1)\n",
        "\n",
        "predicted_class_indices = np.argmax(preds, axis=1)"
      ],
      "execution_count": 0,
      "outputs": [
        {
          "output_type": "stream",
          "text": [
            "Found 864 images belonging to 5 classes.\n",
            "864/864 [==============================] - 10s 12ms/step\n"
          ],
          "name": "stdout"
        }
      ]
    },
    {
      "cell_type": "code",
      "metadata": {
        "id": "9xtIPSTleFj5",
        "colab_type": "code",
        "outputId": "60a466d8-b356-4920-ea78-3f2feb030b38",
        "colab": {
          "base_uri": "https://localhost:8080/",
          "height": 35
        }
      },
      "source": [
        "test_generator.class_indices"
      ],
      "execution_count": 0,
      "outputs": [
        {
          "output_type": "execute_result",
          "data": {
            "text/plain": [
              "{'daisy': 0, 'dandelion': 1, 'rose': 2, 'sunflower': 3, 'tulip': 4}"
            ]
          },
          "metadata": {
            "tags": []
          },
          "execution_count": 22
        }
      ]
    },
    {
      "cell_type": "code",
      "metadata": {
        "id": "4z7Ls1o1ad1Y",
        "colab_type": "code",
        "outputId": "d6baaff5-eb27-4e8e-f233-c7d68456f518",
        "colab": {
          "base_uri": "https://localhost:8080/",
          "height": 225
        }
      },
      "source": [
        "target_labels = list(test_generator.class_indices.keys())\n",
        "\n",
        "print( classification_report(test_generator.classes, predicted_class_indices, target_names=target_labels) )"
      ],
      "execution_count": 0,
      "outputs": [
        {
          "output_type": "stream",
          "text": [
            "              precision    recall  f1-score   support\n",
            "\n",
            "       daisy       0.91      0.92      0.91       148\n",
            "   dandelion       0.88      0.94      0.91       235\n",
            "        rose       0.95      0.58      0.72       175\n",
            "   sunflower       0.92      0.90      0.91       136\n",
            "       tulip       0.70      0.92      0.80       170\n",
            "\n",
            "    accuracy                           0.85       864\n",
            "   macro avg       0.87      0.85      0.85       864\n",
            "weighted avg       0.87      0.85      0.85       864\n",
            "\n"
          ],
          "name": "stdout"
        }
      ]
    },
    {
      "cell_type": "code",
      "metadata": {
        "id": "kui6X-O_ZceE",
        "colab_type": "code",
        "outputId": "7a95a287-16d6-47e2-cbc5-fe8f2d83a4e3",
        "colab": {
          "base_uri": "https://localhost:8080/",
          "height": 521
        }
      },
      "source": [
        "conf_matrix = confusion_matrix(test_generator.classes, predicted_class_indices)\n",
        "\n",
        "plt.figure(figsize=(10, 8))\n",
        "sns.heatmap(conf_matrix, xticklabels=target_labels, yticklabels=target_labels, annot=True, fmt='d')\n",
        "plt.title('Confusion matrix', fontsize=16)\n",
        "plt.ylabel('Actual')\n",
        "plt.xlabel('Predicted')\n",
        "plt.show();"
      ],
      "execution_count": 0,
      "outputs": [
        {
          "output_type": "display_data",
          "data": {
            "image/png": "[encoded data removed]",
            "text/plain": [
              "<Figure size 720x576 with 2 Axes>"
            ]
          },
          "metadata": {
            "tags": []
          }
        }
      ]
    },
    {
      "cell_type": "markdown",
      "metadata": {
        "id": "iPz-66BoiPk-",
        "colab_type": "text"
      },
      "source": [
        "*В целом, точность класификации довольно неплохая. Только на розах много ошибается*."
      ]
    }
  ]
}
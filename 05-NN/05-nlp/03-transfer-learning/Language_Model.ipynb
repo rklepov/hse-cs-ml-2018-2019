{
  "nbformat": 4,
  "nbformat_minor": 0,
  "metadata": {
    "colab": {
      "name": "Language Model.ipynb",
      "version": "0.3.2",
      "provenance": [],
      "collapsed_sections": [],
      "include_colab_link": true
    },
    "kernelspec": {
      "name": "python3",
      "display_name": "Python 3"
    },
    "accelerator": "GPU"
  },
  "cells": [
    {
      "cell_type": "markdown",
      "metadata": {
        "id": "view-in-github",
        "colab_type": "text"
      },
      "source": [
        "<a href=\"https://colab.research.google.com/github/rklepov/hse-cs-ml-2018-2019/blob/master/05-NN/05-nlp/03-transfer-learning/Language_Model.ipynb\" target=\"_parent\"><img src=\"https://colab.research.google.com/assets/colab-badge.svg\" alt=\"Open In Colab\"/></a>"
      ]
    },
    {
      "cell_type": "code",
      "metadata": {
        "id": "8nFbWUZPUHkc",
        "colab_type": "code",
        "colab": {
          "base_uri": "https://localhost:8080/",
          "height": 35
        },
        "outputId": "fd495b46-403f-4c0d-c7f9-184184171b01"
      },
      "source": [
        "from keras.preprocessing.sequence import pad_sequences\n",
        "from keras.layers import Embedding, LSTM, Dense, Input, Bidirectional\n",
        "from keras.preprocessing.text import Tokenizer\n",
        "from keras.callbacks import EarlyStopping\n",
        "from keras.models import Sequential,Model\n",
        "import keras.utils as ku \n",
        "import numpy as np"
      ],
      "execution_count": 1,
      "outputs": [
        {
          "output_type": "stream",
          "text": [
            "Using TensorFlow backend.\n"
          ],
          "name": "stderr"
        }
      ]
    },
    {
      "cell_type": "code",
      "metadata": {
        "id": "Cp5BtSccVzqd",
        "colab_type": "code",
        "colab": {}
      },
      "source": [
        "data = \"\"\"У лукоморья дуб зелёный;\n",
        "Златая цепь на дубе том:\n",
        "И днём и ночью кот учёный\n",
        "Всё ходит по цепи кругом;\n",
        "Идёт направо - песнь заводит,\n",
        "Налево - сказку говорит.\n",
        "Там чудеса: там леший бродит,\n",
        "Русалка на ветвях сидит;\n",
        "Там на неведомых дорожках\n",
        "Следы невиданных зверей;\n",
        "Избушка там на курьих ножках\n",
        "Стоит без окон, без дверей;\n",
        "Там лес и дол видений полны;\n",
        "Там о заре прихлынут волны\n",
        "На брег песчаный и пустой,\n",
        "И тридцать витязей прекрасных\n",
        "Чредой из вод выходят ясных,\n",
        "И с ними дядька их морской;\n",
        "Там королевич мимоходом\n",
        "Пленяет грозного царя;\n",
        "Там в облаках перед народом\n",
        "Через леса, через моря\n",
        "Колдун несёт богатыря;\n",
        "В темнице там царевна тужит,\n",
        "А бурый волк ей верно служит;\n",
        "Там ступа с Бабою Ягой\n",
        "Идёт, бредёт сама собой,\n",
        "Там царь Кащей над златом чахнет;\n",
        "Там русский дух... там Русью пахнет!\n",
        "И там я был, и мёд я пил;\n",
        "У моря видел дуб зелёный;\n",
        "Под ним сидел, и кот учёный\n",
        "Свои мне сказки говорил.\"\"\""
      ],
      "execution_count": 0,
      "outputs": []
    },
    {
      "cell_type": "code",
      "metadata": {
        "id": "YNwSIAUW5l0u",
        "colab_type": "code",
        "colab": {}
      },
      "source": [
        "tokenizer = Tokenizer()"
      ],
      "execution_count": 0,
      "outputs": []
    },
    {
      "cell_type": "code",
      "metadata": {
        "id": "yhbMLr9MYCkB",
        "colab_type": "code",
        "colab": {}
      },
      "source": [
        "def dataset_preparation(data):\n",
        "\tcorpus = data.lower().split(\"\\n\")\n",
        "  \n",
        "\ttokenizer.fit_on_texts(corpus)\n",
        "\ttotal_words = len(tokenizer.word_index) + 1\n",
        "\n",
        "\tinput_sequences = []\n",
        "\tfor line in corpus:\n",
        "\t\ttoken_list = tokenizer.texts_to_sequences([line])[0]\n",
        "\t\tfor i in range(1, len(token_list)):\n",
        "\t\t\tn_gram_sequence = token_list[:i+1]\n",
        "\t\t\tinput_sequences.append(n_gram_sequence)\n",
        "\n",
        "\tmax_sequence_len = max([len(x) for x in input_sequences])\n",
        "\tinput_sequences = np.array(pad_sequences(input_sequences, maxlen=max_sequence_len, padding='pre'))\n",
        "\n",
        "\tpredictors, label = input_sequences[:,:-1],input_sequences[:,-1]\n",
        "\tlabel = ku.to_categorical(label, num_classes=total_words)\n",
        "\n",
        "\treturn predictors, label, max_sequence_len, total_words"
      ],
      "execution_count": 0,
      "outputs": []
    },
    {
      "cell_type": "code",
      "metadata": {
        "id": "Ue6GAWOjYWX4",
        "colab_type": "code",
        "colab": {}
      },
      "source": [
        "def create_model(predictors, label, max_sequence_len, total_words):\n",
        "\n",
        "    model = Sequential()\n",
        "    model.add(Embedding(total_words, 32, input_length=max_sequence_len-1))\n",
        "    \n",
        "    model.add(LSTM(1024, return_sequences=True)) # 150\n",
        "    model.add(LSTM(512)) # 100\n",
        "\n",
        "    model.add(Dense(total_words, activation='softmax'))\n",
        "\n",
        "    model.compile(loss='categorical_crossentropy', optimizer='adam', metrics=['accuracy'])\n",
        "    return model "
      ],
      "execution_count": 0,
      "outputs": []
    },
    {
      "cell_type": "code",
      "metadata": {
        "id": "F7j3mPbHYYLm",
        "colab_type": "code",
        "colab": {}
      },
      "source": [
        "def generate_text(seed_text, next_words, max_sequence_len):\n",
        "\tfor _ in range(next_words):\n",
        "\t\ttoken_list = tokenizer.texts_to_sequences([seed_text])[0]\n",
        "\t\ttoken_list = pad_sequences([token_list], maxlen=max_sequence_len-1, padding='pre')\n",
        "\t\tpredicted = model.predict_classes(token_list, verbose=0)\n",
        "\t\t\n",
        "\t\toutput_word = \"\"\n",
        "\t\tfor word, index in tokenizer.word_index.items():\n",
        "\t\t\tif index == predicted:\n",
        "\t\t\t\toutput_word = word\n",
        "\t\t\t\tbreak\n",
        "\t\tseed_text += \" \" + output_word\n",
        "\treturn seed_text"
      ],
      "execution_count": 0,
      "outputs": []
    },
    {
      "cell_type": "code",
      "metadata": {
        "id": "NbPnTgUgYb_H",
        "colab_type": "code",
        "outputId": "4bd21cc7-7ac0-489f-d874-cddb2617c729",
        "colab": {
          "base_uri": "https://localhost:8080/",
          "height": 35
        }
      },
      "source": [
        "predictors, label, max_sequence_len, total_words = dataset_preparation(data)\n",
        "\n",
        "print(f'predictors: {predictors.shape}, label: {label.shape}, max_sequence_len: {max_sequence_len}, total_words: {total_words}')"
      ],
      "execution_count": 7,
      "outputs": [
        {
          "output_type": "stream",
          "text": [
            "predictors: (124, 7), label: (124, 121), max_sequence_len: 8, total_words: 121\n"
          ],
          "name": "stdout"
        }
      ]
    },
    {
      "cell_type": "markdown",
      "metadata": {
        "id": "Ji4fueBfXnlu",
        "colab_type": "text"
      },
      "source": [
        "### Задача: \n",
        "Предсказать конец строки (обычно три слова) по первым двум словам.\n",
        "\n",
        "\\* _То есть по сути надо переобучить сеть_. "
      ]
    },
    {
      "cell_type": "code",
      "metadata": {
        "id": "a2_TPr5MO_C-",
        "colab_type": "code",
        "colab": {
          "base_uri": "https://localhost:8080/",
          "height": 3625
        },
        "outputId": "090ae747-85fb-4686-bb01-6af69d0d9ad0"
      },
      "source": [
        "earlystop = EarlyStopping(monitor='loss', min_delta=0., patience=5, verbose=0, mode='auto')\n",
        "\n",
        "model = create_model(predictors, label, max_sequence_len, total_words)\n",
        "\n",
        "model.fit(predictors, label, epochs=100, verbose=1, callbacks=[earlystop])"
      ],
      "execution_count": 8,
      "outputs": [
        {
          "output_type": "stream",
          "text": [
            "WARNING:tensorflow:From /usr/local/lib/python3.6/dist-packages/tensorflow/python/framework/op_def_library.py:263: colocate_with (from tensorflow.python.framework.ops) is deprecated and will be removed in a future version.\n",
            "Instructions for updating:\n",
            "Colocations handled automatically by placer.\n",
            "WARNING:tensorflow:From /usr/local/lib/python3.6/dist-packages/tensorflow/python/ops/math_ops.py:3066: to_int32 (from tensorflow.python.ops.math_ops) is deprecated and will be removed in a future version.\n",
            "Instructions for updating:\n",
            "Use tf.cast instead.\n",
            "Epoch 1/100\n",
            "124/124 [==============================] - 3s 23ms/step - loss: 4.7989 - acc: 0.0161\n",
            "Epoch 2/100\n",
            "124/124 [==============================] - 0s 1ms/step - loss: 4.7829 - acc: 0.0403\n",
            "Epoch 3/100\n",
            "124/124 [==============================] - 0s 1ms/step - loss: 4.7179 - acc: 0.0403\n",
            "Epoch 4/100\n",
            "124/124 [==============================] - 0s 1ms/step - loss: 4.6745 - acc: 0.0403\n",
            "Epoch 5/100\n",
            "124/124 [==============================] - 0s 1ms/step - loss: 4.6343 - acc: 0.0403\n",
            "Epoch 6/100\n",
            "124/124 [==============================] - 0s 1ms/step - loss: 4.6136 - acc: 0.0403\n",
            "Epoch 7/100\n",
            "124/124 [==============================] - 0s 1ms/step - loss: 4.5842 - acc: 0.0565\n",
            "Epoch 8/100\n",
            "124/124 [==============================] - 0s 1ms/step - loss: 4.5604 - acc: 0.0565\n",
            "Epoch 9/100\n",
            "124/124 [==============================] - 0s 1ms/step - loss: 4.5138 - acc: 0.0645\n",
            "Epoch 10/100\n",
            "124/124 [==============================] - 0s 1ms/step - loss: 4.4183 - acc: 0.0565\n",
            "Epoch 11/100\n",
            "124/124 [==============================] - 0s 1ms/step - loss: 4.3374 - acc: 0.0726\n",
            "Epoch 12/100\n",
            "124/124 [==============================] - 0s 1ms/step - loss: 4.3382 - acc: 0.0484\n",
            "Epoch 13/100\n",
            "124/124 [==============================] - 0s 1ms/step - loss: 4.2293 - acc: 0.0645\n",
            "Epoch 14/100\n",
            "124/124 [==============================] - 0s 1ms/step - loss: 4.1908 - acc: 0.0565\n",
            "Epoch 15/100\n",
            "124/124 [==============================] - 0s 1ms/step - loss: 4.1430 - acc: 0.0806\n",
            "Epoch 16/100\n",
            "124/124 [==============================] - 0s 1ms/step - loss: 4.0895 - acc: 0.0565\n",
            "Epoch 17/100\n",
            "124/124 [==============================] - 0s 1ms/step - loss: 4.0210 - acc: 0.0726\n",
            "Epoch 18/100\n",
            "124/124 [==============================] - 0s 1ms/step - loss: 3.9177 - acc: 0.0806\n",
            "Epoch 19/100\n",
            "124/124 [==============================] - 0s 1ms/step - loss: 3.8398 - acc: 0.0806\n",
            "Epoch 20/100\n",
            "124/124 [==============================] - 0s 1ms/step - loss: 3.7227 - acc: 0.1129\n",
            "Epoch 21/100\n",
            "124/124 [==============================] - 0s 1ms/step - loss: 3.6173 - acc: 0.0968\n",
            "Epoch 22/100\n",
            "124/124 [==============================] - 0s 1ms/step - loss: 3.5006 - acc: 0.1452\n",
            "Epoch 23/100\n",
            "124/124 [==============================] - 0s 1ms/step - loss: 3.3819 - acc: 0.1694\n",
            "Epoch 24/100\n",
            "124/124 [==============================] - 0s 1ms/step - loss: 3.2749 - acc: 0.1613\n",
            "Epoch 25/100\n",
            "124/124 [==============================] - 0s 1ms/step - loss: 3.1203 - acc: 0.1855\n",
            "Epoch 26/100\n",
            "124/124 [==============================] - 0s 1ms/step - loss: 3.0283 - acc: 0.2339\n",
            "Epoch 27/100\n",
            "124/124 [==============================] - 0s 1ms/step - loss: 2.9321 - acc: 0.2258\n",
            "Epoch 28/100\n",
            "124/124 [==============================] - 0s 1ms/step - loss: 2.8748 - acc: 0.2016\n",
            "Epoch 29/100\n",
            "124/124 [==============================] - 0s 1ms/step - loss: 2.6879 - acc: 0.3145\n",
            "Epoch 30/100\n",
            "124/124 [==============================] - 0s 1ms/step - loss: 2.5846 - acc: 0.2742\n",
            "Epoch 31/100\n",
            "124/124 [==============================] - 0s 1ms/step - loss: 2.5129 - acc: 0.2581\n",
            "Epoch 32/100\n",
            "124/124 [==============================] - 0s 1ms/step - loss: 2.4208 - acc: 0.3065\n",
            "Epoch 33/100\n",
            "124/124 [==============================] - 0s 1ms/step - loss: 2.3782 - acc: 0.3306\n",
            "Epoch 34/100\n",
            "124/124 [==============================] - 0s 1ms/step - loss: 2.2078 - acc: 0.3871\n",
            "Epoch 35/100\n",
            "124/124 [==============================] - 0s 1ms/step - loss: 2.1590 - acc: 0.4032\n",
            "Epoch 36/100\n",
            "124/124 [==============================] - 0s 1ms/step - loss: 2.1429 - acc: 0.3629\n",
            "Epoch 37/100\n",
            "124/124 [==============================] - 0s 1ms/step - loss: 2.0252 - acc: 0.4274\n",
            "Epoch 38/100\n",
            "124/124 [==============================] - 0s 1ms/step - loss: 1.9930 - acc: 0.4435\n",
            "Epoch 39/100\n",
            "124/124 [==============================] - 0s 1ms/step - loss: 1.9252 - acc: 0.4194\n",
            "Epoch 40/100\n",
            "124/124 [==============================] - 0s 1ms/step - loss: 1.8514 - acc: 0.4758\n",
            "Epoch 41/100\n",
            "124/124 [==============================] - 0s 1ms/step - loss: 1.7915 - acc: 0.5000\n",
            "Epoch 42/100\n",
            "124/124 [==============================] - 0s 1ms/step - loss: 1.7764 - acc: 0.4758\n",
            "Epoch 43/100\n",
            "124/124 [==============================] - 0s 1ms/step - loss: 1.7237 - acc: 0.4597\n",
            "Epoch 44/100\n",
            "124/124 [==============================] - 0s 1ms/step - loss: 1.7180 - acc: 0.4758\n",
            "Epoch 45/100\n",
            "124/124 [==============================] - 0s 1ms/step - loss: 1.6554 - acc: 0.5645\n",
            "Epoch 46/100\n",
            "124/124 [==============================] - 0s 1ms/step - loss: 1.4895 - acc: 0.6048\n",
            "Epoch 47/100\n",
            "124/124 [==============================] - 0s 1ms/step - loss: 1.4882 - acc: 0.5161\n",
            "Epoch 48/100\n",
            "124/124 [==============================] - 0s 1ms/step - loss: 1.4103 - acc: 0.6210\n",
            "Epoch 49/100\n",
            "124/124 [==============================] - 0s 1ms/step - loss: 1.4320 - acc: 0.5484\n",
            "Epoch 50/100\n",
            "124/124 [==============================] - 0s 1ms/step - loss: 1.3214 - acc: 0.6613\n",
            "Epoch 51/100\n",
            "124/124 [==============================] - 0s 1ms/step - loss: 1.2326 - acc: 0.6694\n",
            "Epoch 52/100\n",
            "124/124 [==============================] - 0s 1ms/step - loss: 1.1864 - acc: 0.6694\n",
            "Epoch 53/100\n",
            "124/124 [==============================] - 0s 1ms/step - loss: 1.1267 - acc: 0.6935\n",
            "Epoch 54/100\n",
            "124/124 [==============================] - 0s 1ms/step - loss: 1.0530 - acc: 0.7661\n",
            "Epoch 55/100\n",
            "124/124 [==============================] - 0s 1ms/step - loss: 1.0022 - acc: 0.7661\n",
            "Epoch 56/100\n",
            "124/124 [==============================] - 0s 1ms/step - loss: 0.9527 - acc: 0.7419\n",
            "Epoch 57/100\n",
            "124/124 [==============================] - 0s 1ms/step - loss: 0.9251 - acc: 0.7823\n",
            "Epoch 58/100\n",
            "124/124 [==============================] - 0s 1ms/step - loss: 0.8856 - acc: 0.7500\n",
            "Epoch 59/100\n",
            "124/124 [==============================] - 0s 1ms/step - loss: 0.8673 - acc: 0.7581\n",
            "Epoch 60/100\n",
            "124/124 [==============================] - 0s 1ms/step - loss: 0.8363 - acc: 0.7903\n",
            "Epoch 61/100\n",
            "124/124 [==============================] - 0s 1ms/step - loss: 0.8058 - acc: 0.7903\n",
            "Epoch 62/100\n",
            "124/124 [==============================] - 0s 1ms/step - loss: 0.7746 - acc: 0.7823\n",
            "Epoch 63/100\n",
            "124/124 [==============================] - 0s 1ms/step - loss: 0.7487 - acc: 0.7984\n",
            "Epoch 64/100\n",
            "124/124 [==============================] - 0s 1ms/step - loss: 0.7437 - acc: 0.7581\n",
            "Epoch 65/100\n",
            "124/124 [==============================] - 0s 1ms/step - loss: 0.7078 - acc: 0.8065\n",
            "Epoch 66/100\n",
            "124/124 [==============================] - 0s 1ms/step - loss: 0.6859 - acc: 0.8226\n",
            "Epoch 67/100\n",
            "124/124 [==============================] - 0s 1ms/step - loss: 0.6624 - acc: 0.8145\n",
            "Epoch 68/100\n",
            "124/124 [==============================] - 0s 1ms/step - loss: 0.6500 - acc: 0.8306\n",
            "Epoch 69/100\n",
            "124/124 [==============================] - 0s 1ms/step - loss: 0.6151 - acc: 0.8548\n",
            "Epoch 70/100\n",
            "124/124 [==============================] - 0s 1ms/step - loss: 0.6172 - acc: 0.8306\n",
            "Epoch 71/100\n",
            "124/124 [==============================] - 0s 1ms/step - loss: 0.6148 - acc: 0.8387\n",
            "Epoch 72/100\n",
            "124/124 [==============================] - 0s 1ms/step - loss: 0.5879 - acc: 0.8629\n",
            "Epoch 73/100\n",
            "124/124 [==============================] - 0s 1ms/step - loss: 0.5854 - acc: 0.8145\n",
            "Epoch 74/100\n",
            "124/124 [==============================] - 0s 1ms/step - loss: 0.5779 - acc: 0.8306\n",
            "Epoch 75/100\n",
            "124/124 [==============================] - 0s 1ms/step - loss: 0.5668 - acc: 0.8629\n",
            "Epoch 76/100\n",
            "124/124 [==============================] - 0s 1ms/step - loss: 0.5461 - acc: 0.8306\n",
            "Epoch 77/100\n",
            "124/124 [==============================] - 0s 1ms/step - loss: 0.5338 - acc: 0.8468\n",
            "Epoch 78/100\n",
            "124/124 [==============================] - 0s 1ms/step - loss: 0.5204 - acc: 0.8629\n",
            "Epoch 79/100\n",
            "124/124 [==============================] - 0s 1ms/step - loss: 0.5224 - acc: 0.8387\n",
            "Epoch 80/100\n",
            "124/124 [==============================] - 0s 1ms/step - loss: 0.4977 - acc: 0.8387\n",
            "Epoch 81/100\n",
            "124/124 [==============================] - 0s 1ms/step - loss: 0.4953 - acc: 0.8548\n",
            "Epoch 82/100\n",
            "124/124 [==============================] - 0s 1ms/step - loss: 0.4802 - acc: 0.8629\n",
            "Epoch 83/100\n",
            "124/124 [==============================] - 0s 1ms/step - loss: 0.4725 - acc: 0.8629\n",
            "Epoch 84/100\n",
            "124/124 [==============================] - 0s 1ms/step - loss: 0.4739 - acc: 0.8871\n",
            "Epoch 85/100\n",
            "124/124 [==============================] - 0s 1ms/step - loss: 0.4722 - acc: 0.8710\n",
            "Epoch 86/100\n",
            "124/124 [==============================] - 0s 1ms/step - loss: 0.4715 - acc: 0.8710\n",
            "Epoch 87/100\n",
            "124/124 [==============================] - 0s 1ms/step - loss: 0.4607 - acc: 0.8629\n",
            "Epoch 88/100\n",
            "124/124 [==============================] - 0s 1ms/step - loss: 0.4459 - acc: 0.8871\n",
            "Epoch 89/100\n",
            "124/124 [==============================] - 0s 1ms/step - loss: 0.4387 - acc: 0.8629\n",
            "Epoch 90/100\n",
            "124/124 [==============================] - 0s 1ms/step - loss: 0.4248 - acc: 0.8710\n",
            "Epoch 91/100\n",
            "124/124 [==============================] - 0s 1ms/step - loss: 0.4162 - acc: 0.8629\n",
            "Epoch 92/100\n",
            "124/124 [==============================] - 0s 1ms/step - loss: 0.4070 - acc: 0.8790\n",
            "Epoch 93/100\n",
            "124/124 [==============================] - 0s 1ms/step - loss: 0.3984 - acc: 0.8790\n",
            "Epoch 94/100\n",
            "124/124 [==============================] - 0s 1ms/step - loss: 0.3931 - acc: 0.8871\n",
            "Epoch 95/100\n",
            "124/124 [==============================] - 0s 1ms/step - loss: 0.3948 - acc: 0.8790\n",
            "Epoch 96/100\n",
            "124/124 [==============================] - 0s 1ms/step - loss: 0.3863 - acc: 0.8790\n",
            "Epoch 97/100\n",
            "124/124 [==============================] - 0s 1ms/step - loss: 0.3792 - acc: 0.8790\n",
            "Epoch 98/100\n",
            "124/124 [==============================] - 0s 1ms/step - loss: 0.3909 - acc: 0.8871\n",
            "Epoch 99/100\n",
            "124/124 [==============================] - 0s 1ms/step - loss: 0.3777 - acc: 0.8710\n",
            "Epoch 100/100\n",
            "124/124 [==============================] - 0s 1ms/step - loss: 0.3694 - acc: 0.8790\n"
          ],
          "name": "stdout"
        },
        {
          "output_type": "execute_result",
          "data": {
            "text/plain": [
              "<keras.callbacks.History at 0x7f7b0ca92860>"
            ]
          },
          "metadata": {
            "tags": []
          },
          "execution_count": 8
        }
      ]
    },
    {
      "cell_type": "code",
      "metadata": {
        "id": "zH-zOLTZYeB-",
        "colab_type": "code",
        "outputId": "4451ec66-d766-41dd-e481-a23262ad692b",
        "colab": {
          "base_uri": "https://localhost:8080/",
          "height": 35
        }
      },
      "source": [
        "print(generate_text(\"Избушка там\", 3, max_sequence_len))"
      ],
      "execution_count": 9,
      "outputs": [
        {
          "output_type": "stream",
          "text": [
            "Избушка там на курьих ножках\n"
          ],
          "name": "stdout"
        }
      ]
    },
    {
      "cell_type": "code",
      "metadata": {
        "id": "xwe-9lvtYpa1",
        "colab_type": "code",
        "outputId": "de2974f9-434c-4ab3-bf39-45e91eb8634d",
        "colab": {
          "base_uri": "https://localhost:8080/",
          "height": 35
        }
      },
      "source": [
        "print(generate_text(\"У лукоморья\", 2, max_sequence_len))"
      ],
      "execution_count": 10,
      "outputs": [
        {
          "output_type": "stream",
          "text": [
            "У лукоморья дуб зелёный\n"
          ],
          "name": "stdout"
        }
      ]
    },
    {
      "cell_type": "code",
      "metadata": {
        "id": "SmCBE6r4Y4eN",
        "colab_type": "code",
        "outputId": "1dfd7f04-54a3-459e-d2b6-2276398ed088",
        "colab": {
          "base_uri": "https://localhost:8080/",
          "height": 35
        }
      },
      "source": [
        "print(generate_text(\"Златая цепь\", 3, max_sequence_len))"
      ],
      "execution_count": 11,
      "outputs": [
        {
          "output_type": "stream",
          "text": [
            "Златая цепь на дубе том\n"
          ],
          "name": "stdout"
        }
      ]
    },
    {
      "cell_type": "code",
      "metadata": {
        "id": "0TnguyGwLuVx",
        "colab_type": "code",
        "colab": {}
      },
      "source": [
        "def predict_lines(data, tokenizer, max_sequence_len):\n",
        "    corpus = data.lower().split(\"\\n\")\n",
        "    for line in corpus:\n",
        "        text = tokenizer.sequences_to_texts(tokenizer.texts_to_sequences([line]))[0]\n",
        "        words = text.split()\n",
        "        print(generate_text(' '.join(words[:2]), len(words)-2, max_sequence_len))"
      ],
      "execution_count": 0,
      "outputs": []
    },
    {
      "cell_type": "code",
      "metadata": {
        "id": "MfRXWRMaOjW3",
        "colab_type": "code",
        "colab": {
          "base_uri": "https://localhost:8080/",
          "height": 589
        },
        "outputId": "80c27ef5-3d84-4074-cdb4-7293718b7135"
      },
      "source": [
        "predict_lines(data, tokenizer, max_sequence_len)"
      ],
      "execution_count": 13,
      "outputs": [
        {
          "output_type": "stream",
          "text": [
            "у лукоморья дуб зелёный\n",
            "златая цепь на дубе том\n",
            "и днём и ночью кот учёный\n",
            "всё ходит по цепи кругом\n",
            "идёт направо песнь заводит\n",
            "налево сказку говорит\n",
            "там чудеса там леший бродит\n",
            "русалка на ветвях сидит\n",
            "там на неведомых дорожках\n",
            "следы невиданных зверей\n",
            "избушка там на курьих ножках\n",
            "стоит без окон без дверей\n",
            "там лес и дол видений полны\n",
            "там о заре прихлынут волны\n",
            "на брег песчаный и пустой\n",
            "и тридцать витязей прекрасных\n",
            "чредой из вод выходят ясных\n",
            "и с ними дядька их морской\n",
            "там королевич мимоходом\n",
            "пленяет грозного царя\n",
            "там в облаках перед народом\n",
            "через леса через моря\n",
            "колдун несёт богатыря\n",
            "в темнице там царевна тужит\n",
            "а бурый волк ей верно служит\n",
            "там ступа с бабою ягой\n",
            "идёт бредёт сама собой\n",
            "там царь кащей над златом чахнет\n",
            "там русский дух там русью пахнет\n",
            "и там я был и мёд я пил\n",
            "у моря видел дуб зелёный\n",
            "под ним сидел и кот учёный\n",
            "свои мне сказки говорил\n"
          ],
          "name": "stdout"
        }
      ]
    },
    {
      "cell_type": "code",
      "metadata": {
        "id": "IGyaP6XcY-DJ",
        "colab_type": "code",
        "colab": {}
      },
      "source": [
        "embl = model.layers[0]"
      ],
      "execution_count": 0,
      "outputs": []
    },
    {
      "cell_type": "code",
      "metadata": {
        "id": "dS6_NG4FIHA5",
        "colab_type": "code",
        "colab": {}
      },
      "source": [
        "from sklearn.decomposition import PCA\n",
        "from matplotlib.pylab import plt"
      ],
      "execution_count": 0,
      "outputs": []
    },
    {
      "cell_type": "code",
      "metadata": {
        "id": "Lt1QNJskHWPE",
        "colab_type": "code",
        "colab": {}
      },
      "source": [
        "vl = PCA(n_components=2).fit_transform(embl.get_weights()[0])"
      ],
      "execution_count": 0,
      "outputs": []
    },
    {
      "cell_type": "code",
      "metadata": {
        "id": "ptJT8bQLJBRX",
        "colab_type": "code",
        "colab": {}
      },
      "source": [
        "viz_words=['дуб','дух','дядька','златом','златая','цепь','волк']"
      ],
      "execution_count": 0,
      "outputs": []
    },
    {
      "cell_type": "code",
      "metadata": {
        "id": "T6M_Uh-bHdLz",
        "colab_type": "code",
        "outputId": "7f4fd57e-0127-468d-ce0a-d1f6632150a9",
        "colab": {
          "base_uri": "https://localhost:8080/",
          "height": 705
        }
      },
      "source": [
        "plt.figure(figsize=(16,12))\n",
        "plt.scatter(vl[:,0],vl[:,1],alpha=0.4)\n",
        "for word in viz_words:\n",
        "  ind = tokenizer.word_index[word]\n",
        "\n",
        "plt.text(vl[ind,0],vl[ind,1],word,color='red',size=16)"
      ],
      "execution_count": 18,
      "outputs": [
        {
          "output_type": "display_data",
          "data": {
            "image/png": "[encoded data removed]",
            "text/plain": [
              "<Figure size 1152x864 with 1 Axes>"
            ]
          },
          "metadata": {
            "tags": []
          }
        }
      ]
    },
    {
      "cell_type": "markdown",
      "metadata": {
        "id": "ry_sdDN0YzwY",
        "colab_type": "text"
      },
      "source": [
        "---\n",
        "\n",
        "### Дополнительные материалы:"
      ]
    },
    {
      "cell_type": "markdown",
      "metadata": {
        "id": "F9Uk8wZmYfKf",
        "colab_type": "text"
      },
      "source": [
        "Список статей (с учетом времени):\n",
        "\n",
        "https://arxiv.org/abs/1409.3215 - Sequence to Sequence Learning with Neural Networks\n",
        "\n",
        "https://arxiv.org/abs/1409.0473 - Neural Machine Translation by Jointly Learning to Align and Translate\n",
        "\n",
        "\n",
        "https://arxiv.org/abs/1508.04025 - Effective Approaches to Attention-based Neural Machine Translation\n",
        "\n",
        "https://arxiv.org/abs/1705.03122 - Convolutional Sequence to Sequence Learning\n",
        "\n",
        "https://arxiv.org/abs/1706.03762 - Attention Is All You Need\n",
        "\n",
        "https://arxiv.org/abs/1810.04805 - BERT: Pre-training of Deep Bidirectional Transformers for Language Understanding\n",
        "\n",
        "https://d4mucfpksywv.cloudfront.net/better-language-models/language-models.pdf - Language Models are Unsupervised Multitask Learners )(GPT-2)\n",
        "\n",
        "https://arxiv.org/abs/1904.02679 - Visualizing Attention in Transformer-Based Language Representation Models\n"
      ]
    },
    {
      "cell_type": "markdown",
      "metadata": {
        "id": "q6bYbuubYiCv",
        "colab_type": "text"
      },
      "source": [
        "---\n",
        "\n",
        "Хорошая статья с кодом на Pytorch-е http://nlp.seas.harvard.edu/2018/04/03/attention.html"
      ]
    },
    {
      "cell_type": "markdown",
      "metadata": {
        "id": "cJAAFWD_Ylki",
        "colab_type": "text"
      },
      "source": [
        "----\n",
        "\n",
        "Еще несколько статей с пояснениями:\n",
        "https://medium.com/@bgg/seq2seq-pay-attention-to-self-attention-part-1-d332e85e9aad\n",
        "https://medium.com/@bgg/seq2seq-pay-attention-to-self-attention-part-2-cf81bf32c73d\n",
        "\n",
        "Видео с пояснениями от sim0nsays(можно найти в слаке ОДС) https://youtu.be/k63pDjKV3Ew"
      ]
    }
  ]
}
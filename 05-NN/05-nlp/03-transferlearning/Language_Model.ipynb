{
  "nbformat": 4,
  "nbformat_minor": 0,
  "metadata": {
    "colab": {
      "name": "Language Model.ipynb",
      "version": "0.3.2",
      "provenance": [],
      "collapsed_sections": []
    },
    "kernelspec": {
      "name": "python3",
      "display_name": "Python 3"
    }
  },
  "cells": [
    {
      "cell_type": "code",
      "metadata": {
        "id": "8nFbWUZPUHkc",
        "colab_type": "code",
        "colab": {}
      },
      "source": [
        "from keras.preprocessing.sequence import pad_sequences\n",
        "from keras.layers import Embedding, LSTM, Dense,Input\n",
        "from keras.preprocessing.text import Tokenizer\n",
        "from keras.callbacks import EarlyStopping\n",
        "from keras.models import Sequential,Model\n",
        "import keras.utils as ku \n",
        "import numpy as np"
      ],
      "execution_count": 0,
      "outputs": []
    },
    {
      "cell_type": "code",
      "metadata": {
        "id": "Cp5BtSccVzqd",
        "colab_type": "code",
        "colab": {}
      },
      "source": [
        "data = \"\"\"У лукоморья дуб зелёный;\n",
        "Златая цепь на дубе том:\n",
        "И днём и ночью кот учёный\n",
        "Всё ходит по цепи кругом;\n",
        "Идёт направо - песнь заводит,\n",
        "Налево - сказку говорит.\n",
        "Там чудеса: там леший бродит,\n",
        "Русалка на ветвях сидит;\n",
        "Там на неведомых дорожках\n",
        "Следы невиданных зверей;\n",
        "Избушка там на курьих ножках\n",
        "Стоит без окон, без дверей;\n",
        "Там лес и дол видений полны;\n",
        "Там о заре прихлынут волны\n",
        "На брег песчаный и пустой,\n",
        "И тридцать витязей прекрасных\n",
        "Чредой из вод выходят ясных,\n",
        "И с ними дядька их морской;\n",
        "Там королевич мимоходом\n",
        "Пленяет грозного царя;\n",
        "Там в облаках перед народом\n",
        "Через леса, через моря\n",
        "Колдун несёт богатыря;\n",
        "В темнице там царевна тужит,\n",
        "А бурый волк ей верно служит;\n",
        "Там ступа с Бабою Ягой\n",
        "Идёт, бредёт сама собой,\n",
        "Там царь Кащей над златом чахнет;\n",
        "Там русский дух... там Русью пахнет!\n",
        "И там я был, и мёд я пил;\n",
        "У моря видел дуб зелёный;\n",
        "Под ним сидел, и кот учёный\n",
        "Свои мне сказки говорил.\"\"\""
      ],
      "execution_count": 0,
      "outputs": []
    },
    {
      "cell_type": "code",
      "metadata": {
        "id": "YNwSIAUW5l0u",
        "colab_type": "code",
        "colab": {}
      },
      "source": [
        "tokenizer = Tokenizer()"
      ],
      "execution_count": 0,
      "outputs": []
    },
    {
      "cell_type": "code",
      "metadata": {
        "id": "yhbMLr9MYCkB",
        "colab_type": "code",
        "colab": {}
      },
      "source": [
        "def dataset_preparation(data):\n",
        "\tcorpus = data.lower().split(\"\\n\")\n",
        "  \n",
        "\ttokenizer.fit_on_texts(corpus)\n",
        "\ttotal_words = len(tokenizer.word_index) + 1\n",
        "\n",
        "\tinput_sequences = []\n",
        "\tfor line in corpus:\n",
        "\t\ttoken_list = tokenizer.texts_to_sequences([line])[0]\n",
        "\t\tfor i in range(1, len(token_list)):\n",
        "\t\t\tn_gram_sequence = token_list[:i+1]\n",
        "\t\t\tinput_sequences.append(n_gram_sequence)\n",
        "\n",
        "\tmax_sequence_len = max([len(x) for x in input_sequences])\n",
        "\tinput_sequences = np.array(pad_sequences(input_sequences, maxlen=max_sequence_len, padding='pre'))\n",
        "\n",
        "\tpredictors, label = input_sequences[:,:-1],input_sequences[:,-1]\n",
        "\tlabel = ku.to_categorical(label, num_classes=total_words)\n",
        "\n",
        "\treturn predictors, label, max_sequence_len, total_words"
      ],
      "execution_count": 0,
      "outputs": []
    },
    {
      "cell_type": "code",
      "metadata": {
        "id": "Ue6GAWOjYWX4",
        "colab_type": "code",
        "colab": {}
      },
      "source": [
        "def create_model(predictors, label, max_sequence_len, total_words):\n",
        "\t\n",
        "\tmodel = Sequential()\n",
        "\tmodel.add(Embedding(total_words, 10, input_length=max_sequence_len-1))\n",
        "\tmodel.add(LSTM(150, return_sequences = True))\n",
        "\tmodel.add(LSTM(100))\n",
        "\tmodel.add(Dense(total_words, activation='softmax'))\n",
        "\n",
        "\tmodel.compile(loss='categorical_crossentropy', optimizer='adam', metrics=['accuracy'])\n",
        "\tearlystop = EarlyStopping(monitor='val_loss', min_delta=0, patience=5, verbose=0, mode='auto')\n",
        "\tmodel.fit(predictors, label, epochs=100, verbose=1, callbacks=[earlystop])\n",
        "\treturn model "
      ],
      "execution_count": 0,
      "outputs": []
    },
    {
      "cell_type": "code",
      "metadata": {
        "id": "F7j3mPbHYYLm",
        "colab_type": "code",
        "colab": {}
      },
      "source": [
        "def generate_text(seed_text, next_words, max_sequence_len):\n",
        "\tfor _ in range(next_words):\n",
        "\t\ttoken_list = tokenizer.texts_to_sequences([seed_text])[0]\n",
        "\t\ttoken_list = pad_sequences([token_list], maxlen=max_sequence_len-1, padding='pre')\n",
        "\t\tpredicted = model.predict_classes(token_list, verbose=0)\n",
        "\t\t\n",
        "\t\toutput_word = \"\"\n",
        "\t\tfor word, index in tokenizer.word_index.items():\n",
        "\t\t\tif index == predicted:\n",
        "\t\t\t\toutput_word = word\n",
        "\t\t\t\tbreak\n",
        "\t\tseed_text += \" \" + output_word\n",
        "\treturn seed_text"
      ],
      "execution_count": 0,
      "outputs": []
    },
    {
      "cell_type": "code",
      "metadata": {
        "id": "NbPnTgUgYb_H",
        "colab_type": "code",
        "outputId": "3f05b63d-93b3-46a7-dedd-4e83f61953fa",
        "colab": {
          "base_uri": "https://localhost:8080/",
          "height": 3734
        }
      },
      "source": [
        "predictors, label, max_sequence_len, total_words = dataset_preparation(data)\n",
        "model = create_model(predictors, label, max_sequence_len, total_words)"
      ],
      "execution_count": 0,
      "outputs": [
        {
          "output_type": "stream",
          "text": [
            "WARNING:tensorflow:From /usr/local/lib/python3.6/dist-packages/tensorflow/python/framework/op_def_library.py:263: colocate_with (from tensorflow.python.framework.ops) is deprecated and will be removed in a future version.\n",
            "Instructions for updating:\n",
            "Colocations handled automatically by placer.\n",
            "WARNING:tensorflow:From /usr/local/lib/python3.6/dist-packages/tensorflow/python/ops/math_ops.py:3066: to_int32 (from tensorflow.python.ops.math_ops) is deprecated and will be removed in a future version.\n",
            "Instructions for updating:\n",
            "Use tf.cast instead.\n",
            "Epoch 1/100\n",
            "124/124 [==============================] - 1s 11ms/step - loss: 4.7968 - acc: 0.0081\n",
            "Epoch 2/100\n",
            "124/124 [==============================] - 0s 1ms/step - loss: 4.7933 - acc: 0.0403\n",
            "Epoch 3/100\n",
            " 32/124 [======>.......................] - ETA: 0s - loss: 4.7864 - acc: 0.0938"
          ],
          "name": "stdout"
        },
        {
          "output_type": "stream",
          "text": [
            "/usr/local/lib/python3.6/dist-packages/keras/callbacks.py:569: RuntimeWarning: Early stopping conditioned on metric `val_loss` which is not available. Available metrics are: loss,acc\n",
            "  (self.monitor, ','.join(list(logs.keys()))), RuntimeWarning\n"
          ],
          "name": "stderr"
        },
        {
          "output_type": "stream",
          "text": [
            "124/124 [==============================] - 0s 1ms/step - loss: 4.7899 - acc: 0.0403\n",
            "Epoch 4/100\n",
            "124/124 [==============================] - 0s 1ms/step - loss: 4.7845 - acc: 0.0403\n",
            "Epoch 5/100\n",
            "124/124 [==============================] - 0s 1ms/step - loss: 4.7757 - acc: 0.0403\n",
            "Epoch 6/100\n",
            "124/124 [==============================] - 0s 1ms/step - loss: 4.7574 - acc: 0.0403\n",
            "Epoch 7/100\n",
            "124/124 [==============================] - 0s 1ms/step - loss: 4.7140 - acc: 0.0403\n",
            "Epoch 8/100\n",
            "124/124 [==============================] - 0s 1ms/step - loss: 4.6706 - acc: 0.0403\n",
            "Epoch 9/100\n",
            "124/124 [==============================] - 0s 1ms/step - loss: 4.6459 - acc: 0.0403\n",
            "Epoch 10/100\n",
            "124/124 [==============================] - 0s 1ms/step - loss: 4.6261 - acc: 0.0403\n",
            "Epoch 11/100\n",
            "124/124 [==============================] - 0s 1ms/step - loss: 4.6076 - acc: 0.0484\n",
            "Epoch 12/100\n",
            "124/124 [==============================] - 0s 1ms/step - loss: 4.5959 - acc: 0.0403\n",
            "Epoch 13/100\n",
            "124/124 [==============================] - 0s 1ms/step - loss: 4.5892 - acc: 0.0403\n",
            "Epoch 14/100\n",
            "124/124 [==============================] - 0s 1ms/step - loss: 4.5840 - acc: 0.0403\n",
            "Epoch 15/100\n",
            "124/124 [==============================] - 0s 1ms/step - loss: 4.5775 - acc: 0.0403\n",
            "Epoch 16/100\n",
            "124/124 [==============================] - 0s 1ms/step - loss: 4.5726 - acc: 0.0403\n",
            "Epoch 17/100\n",
            "124/124 [==============================] - 0s 1ms/step - loss: 4.5703 - acc: 0.0403\n",
            "Epoch 18/100\n",
            "124/124 [==============================] - 0s 1ms/step - loss: 4.5665 - acc: 0.0403\n",
            "Epoch 19/100\n",
            "124/124 [==============================] - 0s 1ms/step - loss: 4.5616 - acc: 0.0403\n",
            "Epoch 20/100\n",
            "124/124 [==============================] - 0s 1ms/step - loss: 4.5554 - acc: 0.0403\n",
            "Epoch 21/100\n",
            "124/124 [==============================] - 0s 1ms/step - loss: 4.5517 - acc: 0.0403\n",
            "Epoch 22/100\n",
            "124/124 [==============================] - 0s 1ms/step - loss: 4.5460 - acc: 0.0403\n",
            "Epoch 23/100\n",
            "124/124 [==============================] - 0s 1ms/step - loss: 4.5400 - acc: 0.0403\n",
            "Epoch 24/100\n",
            "124/124 [==============================] - 0s 1ms/step - loss: 4.5332 - acc: 0.0484\n",
            "Epoch 25/100\n",
            "124/124 [==============================] - 0s 1ms/step - loss: 4.5234 - acc: 0.0484\n",
            "Epoch 26/100\n",
            "124/124 [==============================] - 0s 1ms/step - loss: 4.5138 - acc: 0.0484\n",
            "Epoch 27/100\n",
            "124/124 [==============================] - 0s 1ms/step - loss: 4.4983 - acc: 0.0484\n",
            "Epoch 28/100\n",
            "124/124 [==============================] - 0s 1ms/step - loss: 4.4807 - acc: 0.0403\n",
            "Epoch 29/100\n",
            "124/124 [==============================] - 0s 1ms/step - loss: 4.4565 - acc: 0.0242\n",
            "Epoch 30/100\n",
            "124/124 [==============================] - 0s 1ms/step - loss: 4.4194 - acc: 0.0484\n",
            "Epoch 31/100\n",
            "124/124 [==============================] - 0s 1ms/step - loss: 4.3769 - acc: 0.0484\n",
            "Epoch 32/100\n",
            "124/124 [==============================] - 0s 1ms/step - loss: 4.3444 - acc: 0.0323\n",
            "Epoch 33/100\n",
            "124/124 [==============================] - 0s 1ms/step - loss: 4.2988 - acc: 0.0565\n",
            "Epoch 34/100\n",
            "124/124 [==============================] - 0s 1ms/step - loss: 4.2834 - acc: 0.0484\n",
            "Epoch 35/100\n",
            "124/124 [==============================] - 0s 1ms/step - loss: 4.2687 - acc: 0.0726\n",
            "Epoch 36/100\n",
            "124/124 [==============================] - 0s 1ms/step - loss: 4.1970 - acc: 0.0484\n",
            "Epoch 37/100\n",
            "124/124 [==============================] - 0s 1ms/step - loss: 4.1997 - acc: 0.0565\n",
            "Epoch 38/100\n",
            "124/124 [==============================] - 0s 1ms/step - loss: 4.1658 - acc: 0.0565\n",
            "Epoch 39/100\n",
            "124/124 [==============================] - 0s 1ms/step - loss: 4.1181 - acc: 0.0484\n",
            "Epoch 40/100\n",
            "124/124 [==============================] - 0s 1ms/step - loss: 4.0694 - acc: 0.0484\n",
            "Epoch 41/100\n",
            "124/124 [==============================] - 0s 1ms/step - loss: 4.0048 - acc: 0.0484\n",
            "Epoch 42/100\n",
            "124/124 [==============================] - 0s 1ms/step - loss: 3.9689 - acc: 0.0645\n",
            "Epoch 43/100\n",
            "124/124 [==============================] - 0s 1ms/step - loss: 3.9328 - acc: 0.0726\n",
            "Epoch 44/100\n",
            "124/124 [==============================] - 0s 1ms/step - loss: 3.8973 - acc: 0.0645\n",
            "Epoch 45/100\n",
            "124/124 [==============================] - 0s 1ms/step - loss: 3.8708 - acc: 0.0806\n",
            "Epoch 46/100\n",
            "124/124 [==============================] - 0s 1ms/step - loss: 3.8424 - acc: 0.0806\n",
            "Epoch 47/100\n",
            "124/124 [==============================] - 0s 1ms/step - loss: 3.8118 - acc: 0.0887\n",
            "Epoch 48/100\n",
            "124/124 [==============================] - 0s 1ms/step - loss: 3.7901 - acc: 0.0968\n",
            "Epoch 49/100\n",
            "124/124 [==============================] - 0s 1ms/step - loss: 3.7620 - acc: 0.1210\n",
            "Epoch 50/100\n",
            "124/124 [==============================] - 0s 1ms/step - loss: 3.7307 - acc: 0.0968\n",
            "Epoch 51/100\n",
            "124/124 [==============================] - 0s 1ms/step - loss: 3.7141 - acc: 0.1290\n",
            "Epoch 52/100\n",
            "124/124 [==============================] - 0s 1ms/step - loss: 3.6927 - acc: 0.1048\n",
            "Epoch 53/100\n",
            "124/124 [==============================] - 0s 1ms/step - loss: 3.6695 - acc: 0.1290\n",
            "Epoch 54/100\n",
            "124/124 [==============================] - 0s 1ms/step - loss: 3.6421 - acc: 0.1210\n",
            "Epoch 55/100\n",
            "124/124 [==============================] - 0s 1ms/step - loss: 3.6222 - acc: 0.0968\n",
            "Epoch 56/100\n",
            "124/124 [==============================] - 0s 1ms/step - loss: 3.5918 - acc: 0.1210\n",
            "Epoch 57/100\n",
            "124/124 [==============================] - 0s 1ms/step - loss: 3.5853 - acc: 0.1048\n",
            "Epoch 58/100\n",
            "124/124 [==============================] - 0s 1ms/step - loss: 3.5951 - acc: 0.1210\n",
            "Epoch 59/100\n",
            "124/124 [==============================] - 0s 1ms/step - loss: 3.5630 - acc: 0.0968\n",
            "Epoch 60/100\n",
            "124/124 [==============================] - 0s 1ms/step - loss: 3.5300 - acc: 0.1290\n",
            "Epoch 61/100\n",
            "124/124 [==============================] - 0s 1ms/step - loss: 3.5312 - acc: 0.1452\n",
            "Epoch 62/100\n",
            "124/124 [==============================] - 0s 1ms/step - loss: 3.4937 - acc: 0.1290\n",
            "Epoch 63/100\n",
            "124/124 [==============================] - 0s 1ms/step - loss: 3.4632 - acc: 0.1532\n",
            "Epoch 64/100\n",
            "124/124 [==============================] - 0s 1ms/step - loss: 3.4528 - acc: 0.1290\n",
            "Epoch 65/100\n",
            "124/124 [==============================] - 0s 1ms/step - loss: 3.4216 - acc: 0.1532\n",
            "Epoch 66/100\n",
            "124/124 [==============================] - 0s 1ms/step - loss: 3.4045 - acc: 0.1613\n",
            "Epoch 67/100\n",
            "124/124 [==============================] - 0s 1ms/step - loss: 3.3796 - acc: 0.1613\n",
            "Epoch 68/100\n",
            "124/124 [==============================] - 0s 1ms/step - loss: 3.3510 - acc: 0.1532\n",
            "Epoch 69/100\n",
            "124/124 [==============================] - 0s 1ms/step - loss: 3.3342 - acc: 0.1774\n",
            "Epoch 70/100\n",
            "124/124 [==============================] - 0s 1ms/step - loss: 3.3193 - acc: 0.2097\n",
            "Epoch 71/100\n",
            "124/124 [==============================] - 0s 1ms/step - loss: 3.2938 - acc: 0.1935\n",
            "Epoch 72/100\n",
            "124/124 [==============================] - 0s 1ms/step - loss: 3.2690 - acc: 0.2097\n",
            "Epoch 73/100\n",
            "124/124 [==============================] - 0s 1ms/step - loss: 3.2513 - acc: 0.2339\n",
            "Epoch 74/100\n",
            "124/124 [==============================] - 0s 1ms/step - loss: 3.2401 - acc: 0.2339\n",
            "Epoch 75/100\n",
            "124/124 [==============================] - 0s 1ms/step - loss: 3.2245 - acc: 0.2177\n",
            "Epoch 76/100\n",
            "124/124 [==============================] - 0s 1ms/step - loss: 3.2079 - acc: 0.2581\n",
            "Epoch 77/100\n",
            "124/124 [==============================] - 0s 1ms/step - loss: 3.1765 - acc: 0.2661\n",
            "Epoch 78/100\n",
            "124/124 [==============================] - 0s 1ms/step - loss: 3.1605 - acc: 0.2581\n",
            "Epoch 79/100\n",
            "124/124 [==============================] - 0s 1ms/step - loss: 3.1484 - acc: 0.2581\n",
            "Epoch 80/100\n",
            "124/124 [==============================] - 0s 1ms/step - loss: 3.1244 - acc: 0.2419\n",
            "Epoch 81/100\n",
            "124/124 [==============================] - 0s 1ms/step - loss: 3.1172 - acc: 0.2581\n",
            "Epoch 82/100\n",
            "124/124 [==============================] - 0s 1ms/step - loss: 3.0991 - acc: 0.2500\n",
            "Epoch 83/100\n",
            "124/124 [==============================] - 0s 1ms/step - loss: 3.0771 - acc: 0.2661\n",
            "Epoch 84/100\n",
            "124/124 [==============================] - 0s 1ms/step - loss: 3.0443 - acc: 0.2742\n",
            "Epoch 85/100\n",
            "124/124 [==============================] - 0s 1ms/step - loss: 3.0360 - acc: 0.2984\n",
            "Epoch 86/100\n",
            "124/124 [==============================] - 0s 1ms/step - loss: 3.0117 - acc: 0.2742\n",
            "Epoch 87/100\n",
            "124/124 [==============================] - 0s 1ms/step - loss: 2.9907 - acc: 0.2661\n",
            "Epoch 88/100\n",
            "124/124 [==============================] - 0s 1ms/step - loss: 2.9675 - acc: 0.2661\n",
            "Epoch 89/100\n",
            "124/124 [==============================] - 0s 1ms/step - loss: 2.9722 - acc: 0.2661\n",
            "Epoch 90/100\n",
            "124/124 [==============================] - 0s 1ms/step - loss: 2.9304 - acc: 0.2742\n",
            "Epoch 91/100\n",
            "124/124 [==============================] - 0s 1ms/step - loss: 2.9078 - acc: 0.2984\n",
            "Epoch 92/100\n",
            "124/124 [==============================] - 0s 1ms/step - loss: 2.8933 - acc: 0.3306\n",
            "Epoch 93/100\n",
            "124/124 [==============================] - 0s 1ms/step - loss: 2.8793 - acc: 0.2903\n",
            "Epoch 94/100\n",
            "124/124 [==============================] - 0s 1ms/step - loss: 2.8739 - acc: 0.3065\n",
            "Epoch 95/100\n",
            "124/124 [==============================] - 0s 1ms/step - loss: 2.8481 - acc: 0.3306\n",
            "Epoch 96/100\n",
            "124/124 [==============================] - 0s 1ms/step - loss: 2.8368 - acc: 0.3145\n",
            "Epoch 97/100\n",
            "124/124 [==============================] - 0s 1ms/step - loss: 2.8137 - acc: 0.3065\n",
            "Epoch 98/100\n",
            "124/124 [==============================] - 0s 1ms/step - loss: 2.7985 - acc: 0.3065\n",
            "Epoch 99/100\n",
            "124/124 [==============================] - 0s 1ms/step - loss: 2.7924 - acc: 0.3548\n",
            "Epoch 100/100\n",
            "124/124 [==============================] - 0s 1ms/step - loss: 2.7848 - acc: 0.3548\n"
          ],
          "name": "stdout"
        }
      ]
    },
    {
      "cell_type": "code",
      "metadata": {
        "id": "zH-zOLTZYeB-",
        "colab_type": "code",
        "outputId": "52d94130-5e85-4cb6-fb46-cdd41ed9b3d6",
        "colab": {
          "base_uri": "https://localhost:8080/",
          "height": 34
        }
      },
      "source": [
        "print(generate_text(\"Избушка там\", 3, max_sequence_len))"
      ],
      "execution_count": 0,
      "outputs": [
        {
          "output_type": "stream",
          "text": [
            "Избушка там там курьих ножках\n"
          ],
          "name": "stdout"
        }
      ]
    },
    {
      "cell_type": "code",
      "metadata": {
        "id": "xwe-9lvtYpa1",
        "colab_type": "code",
        "outputId": "9bb9da67-4e50-4c9d-b340-0e89b1b482a7",
        "colab": {
          "base_uri": "https://localhost:8080/",
          "height": 34
        }
      },
      "source": [
        "print(generate_text(\"У лукоморья\", 2, max_sequence_len))"
      ],
      "execution_count": 0,
      "outputs": [
        {
          "output_type": "stream",
          "text": [
            "У лукоморья на зелёный\n"
          ],
          "name": "stdout"
        }
      ]
    },
    {
      "cell_type": "code",
      "metadata": {
        "id": "SmCBE6r4Y4eN",
        "colab_type": "code",
        "outputId": "adf8b166-6f66-4e7c-94cc-14f44a43b9cc",
        "colab": {
          "base_uri": "https://localhost:8080/",
          "height": 34
        }
      },
      "source": [
        "print(generate_text(\"Златая цепь\", 3, max_sequence_len))"
      ],
      "execution_count": 0,
      "outputs": [
        {
          "output_type": "stream",
          "text": [
            "Златая цепь на там и\n"
          ],
          "name": "stdout"
        }
      ]
    },
    {
      "cell_type": "code",
      "metadata": {
        "id": "IGyaP6XcY-DJ",
        "colab_type": "code",
        "colab": {}
      },
      "source": [
        "embl = model.layers[0]"
      ],
      "execution_count": 0,
      "outputs": []
    },
    {
      "cell_type": "code",
      "metadata": {
        "id": "dS6_NG4FIHA5",
        "colab_type": "code",
        "colab": {}
      },
      "source": [
        "from sklearn.decomposition import PCA\n",
        "from matplotlib.pylab import plt"
      ],
      "execution_count": 0,
      "outputs": []
    },
    {
      "cell_type": "code",
      "metadata": {
        "id": "Lt1QNJskHWPE",
        "colab_type": "code",
        "colab": {}
      },
      "source": [
        "vl = PCA(n_components=2).fit_transform(embl.get_weights()[0])"
      ],
      "execution_count": 0,
      "outputs": []
    },
    {
      "cell_type": "code",
      "metadata": {
        "id": "ptJT8bQLJBRX",
        "colab_type": "code",
        "colab": {}
      },
      "source": [
        "viz_words=['дуб','дух','дядька','златом','златая','цепь','волк']"
      ],
      "execution_count": 0,
      "outputs": []
    },
    {
      "cell_type": "code",
      "metadata": {
        "id": "T6M_Uh-bHdLz",
        "colab_type": "code",
        "outputId": "330d9c1e-e2c5-44f8-b7f6-971fdb9f3dd6",
        "colab": {
          "base_uri": "https://localhost:8080/",
          "height": 703
        }
      },
      "source": [
        "plt.figure(figsize=(16,12))\n",
        "plt.scatter(vl[:,0],vl[:,1],alpha=0.4)\n",
        "for word in viz_words:\n",
        "  ind = tokenizer.word_index[word]\n",
        "  plt.text(vl[ind,0],vl[ind,1],word,color='red',size=16)"
      ],
      "execution_count": 0,
      "outputs": [
        {
          "output_type": "display_data",
          "data": {
            "image/png": "[encoded data removed]",
            "text/plain": [
              "<Figure size 1152x864 with 1 Axes>"
            ]
          },
          "metadata": {
            "tags": []
          }
        }
      ]
    },
    {
      "cell_type": "code",
      "metadata": {
        "id": "o88WtPHG6wjw",
        "colab_type": "code",
        "colab": {}
      },
      "source": [
        ""
      ],
      "execution_count": 0,
      "outputs": []
    }
  ]
}
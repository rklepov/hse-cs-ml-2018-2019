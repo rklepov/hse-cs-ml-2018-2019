{
  "nbformat": 4,
  "nbformat_minor": 0,
  "metadata": {
    "colab": {
      "name": "UCI_Adult_download.ipynb",
      "version": "0.3.2",
      "provenance": [],
      "collapsed_sections": [],
      "include_colab_link": true
    },
    "kernelspec": {
      "name": "python3",
      "display_name": "Python 3"
    }
  },
  "cells": [
    {
      "cell_type": "markdown",
      "metadata": {
        "id": "view-in-github",
        "colab_type": "text"
      },
      "source": [
        "<a href=\"https://colab.research.google.com/github/rklepov/hse-cs-ml-2018-2019/blob/master/05-NN/08-interp/UCI_Adult_download.ipynb\" target=\"_parent\"><img src=\"https://colab.research.google.com/assets/colab-badge.svg\" alt=\"Open In Colab\"/></a>"
      ]
    },
    {
      "cell_type": "markdown",
      "metadata": {
        "id": "rZt2iAD_sI5b",
        "colab_type": "text"
      },
      "source": [
        "## NN13\n",
        "\n",
        "[UCI Machine Learning Repository: Adult Data Set](https://archive.ics.uci.edu/ml/datasets/adult \"UCI Machine Learning Repository: Adult Data Set\")\n",
        "\n",
        "\n",
        "[PDPbox_table_data_adult.ipynb](https://github.com/rklepov/hse-cs-ml-2018-2019/blob/master/05-NN/08-interp/PDPbox_table_data_adult.ipynb)"
      ]
    },
    {
      "cell_type": "code",
      "metadata": {
        "id": "PGFfGtVhb8S7",
        "colab_type": "code",
        "colab": {}
      },
      "source": [
        "%%bash\n",
        "\n",
        "wget -q -O adult.names 'https://archive.ics.uci.edu/ml/machine-learning-databases/adult/adult.names'\n",
        "wget -q -O adult.data 'https://archive.ics.uci.edu/ml/machine-learning-databases/adult/adult.data'\n",
        "wget -q -O adult.test 'https://archive.ics.uci.edu/ml/machine-learning-databases/adult/adult.test'"
      ],
      "execution_count": 0,
      "outputs": []
    },
    {
      "cell_type": "code",
      "metadata": {
        "id": "-AgDOXHldjHB",
        "colab_type": "code",
        "colab": {
          "base_uri": "https://localhost:8080/",
          "height": 69
        },
        "outputId": "689c11f9-d9ec-43fc-834b-b869207dec84"
      },
      "source": [
        "!ls -hl adult*"
      ],
      "execution_count": 2,
      "outputs": [
        {
          "output_type": "stream",
          "text": [
            "-rw-r--r-- 1 root root 3.8M Aug 10  1996 adult.data\n",
            "-rw-r--r-- 1 root root 5.2K Jan 31  2001 adult.names\n",
            "-rw-r--r-- 1 root root 2.0M Aug 10  1996 adult.test\n"
          ],
          "name": "stdout"
        }
      ]
    },
    {
      "cell_type": "code",
      "metadata": {
        "id": "VSA_9PVeglj6",
        "colab_type": "code",
        "colab": {
          "base_uri": "https://localhost:8080/",
          "height": 104
        },
        "outputId": "afdda8ac-b811-4382-df5a-a652ab0eff9d"
      },
      "source": [
        "!head -5 adult.data"
      ],
      "execution_count": 3,
      "outputs": [
        {
          "output_type": "stream",
          "text": [
            "39, State-gov, 77516, Bachelors, 13, Never-married, Adm-clerical, Not-in-family, White, Male, 2174, 0, 40, United-States, <=50K\n",
            "50, Self-emp-not-inc, 83311, Bachelors, 13, Married-civ-spouse, Exec-managerial, Husband, White, Male, 0, 0, 13, United-States, <=50K\n",
            "38, Private, 215646, HS-grad, 9, Divorced, Handlers-cleaners, Not-in-family, White, Male, 0, 0, 40, United-States, <=50K\n",
            "53, Private, 234721, 11th, 7, Married-civ-spouse, Handlers-cleaners, Husband, Black, Male, 0, 0, 40, United-States, <=50K\n",
            "28, Private, 338409, Bachelors, 13, Married-civ-spouse, Prof-specialty, Wife, Black, Female, 0, 0, 40, Cuba, <=50K\n"
          ],
          "name": "stdout"
        }
      ]
    },
    {
      "cell_type": "code",
      "metadata": {
        "id": "0pTzMaM-eO5b",
        "colab_type": "code",
        "colab": {
          "base_uri": "https://localhost:8080/",
          "height": 104
        },
        "outputId": "01955571-fcc9-4777-b8d1-c8e7341a0869"
      },
      "source": [
        "!head -5 adult.test"
      ],
      "execution_count": 4,
      "outputs": [
        {
          "output_type": "stream",
          "text": [
            "|1x3 Cross validator\n",
            "25, Private, 226802, 11th, 7, Never-married, Machine-op-inspct, Own-child, Black, Male, 0, 0, 40, United-States, <=50K.\n",
            "38, Private, 89814, HS-grad, 9, Married-civ-spouse, Farming-fishing, Husband, White, Male, 0, 0, 50, United-States, <=50K.\n",
            "28, Local-gov, 336951, Assoc-acdm, 12, Married-civ-spouse, Protective-serv, Husband, White, Male, 0, 0, 40, United-States, >50K.\n",
            "44, Private, 160323, Some-college, 10, Married-civ-spouse, Machine-op-inspct, Husband, Black, Male, 7688, 0, 40, United-States, >50K.\n"
          ],
          "name": "stdout"
        }
      ]
    },
    {
      "cell_type": "code",
      "metadata": {
        "id": "53jIK75jd_B8",
        "colab_type": "code",
        "colab": {
          "base_uri": "https://localhost:8080/",
          "height": 1944
        },
        "outputId": "655ad39d-0f26-43a9-f979-ea16e38c5e30"
      },
      "source": [
        "!cat adult.names"
      ],
      "execution_count": 5,
      "outputs": [
        {
          "output_type": "stream",
          "text": [
            "| This data was extracted from the census bureau database found at\n",
            "| http://www.census.gov/ftp/pub/DES/www/welcome.html\n",
            "| Donor: Ronny Kohavi and Barry Becker,\n",
            "|        Data Mining and Visualization\n",
            "|        Silicon Graphics.\n",
            "|        e-mail: ronnyk@sgi.com for questions.\n",
            "| Split into train-test using MLC++ GenCVFiles (2/3, 1/3 random).\n",
            "| 48842 instances, mix of continuous and discrete    (train=32561, test=16281)\n",
            "| 45222 if instances with unknown values are removed (train=30162, test=15060)\n",
            "| Duplicate or conflicting instances : 6\n",
            "| Class probabilities for adult.all file\n",
            "| Probability for the label '>50K'  : 23.93% / 24.78% (without unknowns)\n",
            "| Probability for the label '<=50K' : 76.07% / 75.22% (without unknowns)\n",
            "|\n",
            "| Extraction was done by Barry Becker from the 1994 Census database.  A set of\n",
            "|   reasonably clean records was extracted using the following conditions:\n",
            "|   ((AAGE>16) && (AGI>100) && (AFNLWGT>1)&& (HRSWK>0))\n",
            "|\n",
            "| Prediction task is to determine whether a person makes over 50K\n",
            "| a year.\n",
            "|\n",
            "| First cited in:\n",
            "| @inproceedings{kohavi-nbtree,\n",
            "|    author={Ron Kohavi},\n",
            "|    title={Scaling Up the Accuracy of Naive-Bayes Classifiers: a\n",
            "|           Decision-Tree Hybrid},\n",
            "|    booktitle={Proceedings of the Second International Conference on\n",
            "|               Knowledge Discovery and Data Mining},\n",
            "|    year = 1996,\n",
            "|    pages={to appear}}\n",
            "|\n",
            "| Error Accuracy reported as follows, after removal of unknowns from\n",
            "|    train/test sets):\n",
            "|    C4.5       : 84.46+-0.30\n",
            "|    Naive-Bayes: 83.88+-0.30\n",
            "|    NBTree     : 85.90+-0.28\n",
            "|\n",
            "|\n",
            "| Following algorithms were later run with the following error rates,\n",
            "|    all after removal of unknowns and using the original train/test split.\n",
            "|    All these numbers are straight runs using MLC++ with default values.\n",
            "|\n",
            "|    Algorithm               Error\n",
            "| -- ----------------        -----\n",
            "| 1  C4.5                    15.54\n",
            "| 2  C4.5-auto               14.46\n",
            "| 3  C4.5 rules              14.94\n",
            "| 4  Voted ID3 (0.6)         15.64\n",
            "| 5  Voted ID3 (0.8)         16.47\n",
            "| 6  T2                      16.84\n",
            "| 7  1R                      19.54\n",
            "| 8  NBTree                  14.10\n",
            "| 9  CN2                     16.00\n",
            "| 10 HOODG                   14.82\n",
            "| 11 FSS Naive Bayes         14.05\n",
            "| 12 IDTM (Decision table)   14.46\n",
            "| 13 Naive-Bayes             16.12\n",
            "| 14 Nearest-neighbor (1)    21.42\n",
            "| 15 Nearest-neighbor (3)    20.35\n",
            "| 16 OC1                     15.04\n",
            "| 17 Pebls                   Crashed.  Unknown why (bounds WERE increased)\n",
            "|\n",
            "| Conversion of original data as follows:\n",
            "| 1. Discretized agrossincome into two ranges with threshold 50,000.\n",
            "| 2. Convert U.S. to US to avoid periods.\n",
            "| 3. Convert Unknown to \"?\"\n",
            "| 4. Run MLC++ GenCVFiles to generate data,test.\n",
            "|\n",
            "| Description of fnlwgt (final weight)\n",
            "|\n",
            "| The weights on the CPS files are controlled to independent estimates of the\n",
            "| civilian noninstitutional population of the US.  These are prepared monthly\n",
            "| for us by Population Division here at the Census Bureau.  We use 3 sets of\n",
            "| controls.\n",
            "|  These are:\n",
            "|          1.  A single cell estimate of the population 16+ for each state.\n",
            "|          2.  Controls for Hispanic Origin by age and sex.\n",
            "|          3.  Controls by Race, age and sex.\n",
            "|\n",
            "| We use all three sets of controls in our weighting program and \"rake\" through\n",
            "| them 6 times so that by the end we come back to all the controls we used.\n",
            "|\n",
            "| The term estimate refers to population totals derived from CPS by creating\n",
            "| \"weighted tallies\" of any specified socio-economic characteristics of the\n",
            "| population.\n",
            "|\n",
            "| People with similar demographic characteristics should have\n",
            "| similar weights.  There is one important caveat to remember\n",
            "| about this statement.  That is that since the CPS sample is\n",
            "| actually a collection of 51 state samples, each with its own\n",
            "| probability of selection, the statement only applies within\n",
            "| state.\n",
            "\n",
            "\n",
            ">50K, <=50K.\n",
            "\n",
            "age: continuous.\n",
            "workclass: Private, Self-emp-not-inc, Self-emp-inc, Federal-gov, Local-gov, State-gov, Without-pay, Never-worked.\n",
            "fnlwgt: continuous.\n",
            "education: Bachelors, Some-college, 11th, HS-grad, Prof-school, Assoc-acdm, Assoc-voc, 9th, 7th-8th, 12th, Masters, 1st-4th, 10th, Doctorate, 5th-6th, Preschool.\n",
            "education-num: continuous.\n",
            "marital-status: Married-civ-spouse, Divorced, Never-married, Separated, Widowed, Married-spouse-absent, Married-AF-spouse.\n",
            "occupation: Tech-support, Craft-repair, Other-service, Sales, Exec-managerial, Prof-specialty, Handlers-cleaners, Machine-op-inspct, Adm-clerical, Farming-fishing, Transport-moving, Priv-house-serv, Protective-serv, Armed-Forces.\n",
            "relationship: Wife, Own-child, Husband, Not-in-family, Other-relative, Unmarried.\n",
            "race: White, Asian-Pac-Islander, Amer-Indian-Eskimo, Other, Black.\n",
            "sex: Female, Male.\n",
            "capital-gain: continuous.\n",
            "capital-loss: continuous.\n",
            "hours-per-week: continuous.\n",
            "native-country: United-States, Cambodia, England, Puerto-Rico, Canada, Germany, Outlying-US(Guam-USVI-etc), India, Japan, Greece, South, China, Cuba, Iran, Honduras, Philippines, Italy, Poland, Jamaica, Vietnam, Mexico, Portugal, Ireland, France, Dominican-Republic, Laos, Ecuador, Taiwan, Haiti, Columbia, Hungary, Guatemala, Nicaragua, Scotland, Thailand, Yugoslavia, El-Salvador, Trinadad&Tobago, Peru, Hong, Holand-Netherlands.\n"
          ],
          "name": "stdout"
        }
      ]
    },
    {
      "cell_type": "code",
      "metadata": {
        "id": "mG4aF2uWeIDv",
        "colab_type": "code",
        "colab": {
          "base_uri": "https://localhost:8080/",
          "height": 55
        },
        "outputId": "282c59b7-27ff-4702-f66c-60f4523acb8c"
      },
      "source": [
        "!sed -n \"/age:/,$ {s/^\\([a-z]\\+\\).*/\\\\\\\\'\\1\\\\\\\\',/;p}\" adult.names | xargs"
      ],
      "execution_count": 6,
      "outputs": [
        {
          "output_type": "stream",
          "text": [
            "'age', 'workclass', 'fnlwgt', 'education', 'education', 'marital', 'occupation', 'relationship', 'race', 'sex', 'capital', 'capital', 'hours', 'native',\n"
          ],
          "name": "stdout"
        }
      ]
    }
  ]
}
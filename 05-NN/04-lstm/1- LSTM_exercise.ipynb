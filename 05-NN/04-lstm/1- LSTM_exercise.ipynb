{
 "cells": [
  {
   "cell_type": "code",
   "execution_count": 1,
   "metadata": {},
   "outputs": [
    {
     "name": "stderr",
     "output_type": "stream",
     "text": [
      "Using TensorFlow backend.\n"
     ]
    }
   ],
   "source": [
    "import numpy\n",
    "import matplotlib.pyplot as plt\n",
    "from pandas import read_csv\n",
    "import math\n",
    "from keras.models import Sequential\n",
    "from keras.layers import Dense\n",
    "from keras.layers import LSTM\n",
    "from sklearn.preprocessing import MinMaxScaler\n",
    "from sklearn.metrics import mean_squared_error"
   ]
  },
  {
   "cell_type": "code",
   "execution_count": 2,
   "metadata": {},
   "outputs": [
    {
     "data": {
      "text/plain": [
       "'1.13.1'"
      ]
     },
     "execution_count": 2,
     "metadata": {},
     "output_type": "execute_result"
    }
   ],
   "source": [
    "import tensorflow as tf\n",
    "tf.__version__"
   ]
  },
  {
   "cell_type": "code",
   "execution_count": 3,
   "metadata": {},
   "outputs": [],
   "source": [
    "def create_dataset(dataset, look_back=1):\n",
    "    dataX, dataY = [], []\n",
    "    for i in range(len(dataset)-look_back-1):\n",
    "        a = dataset[i:(i+look_back), 0]\n",
    "        dataX.append(a)\n",
    "        dataY.append(dataset[i + look_back, 0])\n",
    "    return numpy.array(dataX), numpy.array(dataY)"
   ]
  },
  {
   "cell_type": "code",
   "execution_count": 4,
   "metadata": {},
   "outputs": [],
   "source": [
    "numpy.random.seed(48)"
   ]
  },
  {
   "cell_type": "code",
   "execution_count": 5,
   "metadata": {},
   "outputs": [],
   "source": [
    "data_raw = read_csv('airline_dataset.csv', usecols=[1], engine='python', skipfooter=3)\n",
    "\n",
    "data = data_raw.values.astype(\"float32\")"
   ]
  },
  {
   "cell_type": "code",
   "execution_count": 6,
   "metadata": {},
   "outputs": [
    {
     "data": {
      "text/html": [
       "<div>\n",
       "<style scoped>\n",
       "    .dataframe tbody tr th:only-of-type {\n",
       "        vertical-align: middle;\n",
       "    }\n",
       "\n",
       "    .dataframe tbody tr th {\n",
       "        vertical-align: top;\n",
       "    }\n",
       "\n",
       "    .dataframe thead th {\n",
       "        text-align: right;\n",
       "    }\n",
       "</style>\n",
       "<table border=\"1\" class=\"dataframe\">\n",
       "  <thead>\n",
       "    <tr style=\"text-align: right;\">\n",
       "      <th></th>\n",
       "      <th>International airline passengers: monthly totals in thousands. Jan 49 ? Dec 60</th>\n",
       "    </tr>\n",
       "  </thead>\n",
       "  <tbody>\n",
       "    <tr>\n",
       "      <th>139</th>\n",
       "      <td>606</td>\n",
       "    </tr>\n",
       "    <tr>\n",
       "      <th>140</th>\n",
       "      <td>508</td>\n",
       "    </tr>\n",
       "    <tr>\n",
       "      <th>141</th>\n",
       "      <td>461</td>\n",
       "    </tr>\n",
       "    <tr>\n",
       "      <th>142</th>\n",
       "      <td>390</td>\n",
       "    </tr>\n",
       "    <tr>\n",
       "      <th>143</th>\n",
       "      <td>432</td>\n",
       "    </tr>\n",
       "  </tbody>\n",
       "</table>\n",
       "</div>"
      ],
      "text/plain": [
       "     International airline passengers: monthly totals in thousands. Jan 49 ? Dec 60\n",
       "139                                                606                             \n",
       "140                                                508                             \n",
       "141                                                461                             \n",
       "142                                                390                             \n",
       "143                                                432                             "
      ]
     },
     "execution_count": 6,
     "metadata": {},
     "output_type": "execute_result"
    }
   ],
   "source": [
    "data_raw.tail()"
   ]
  },
  {
   "cell_type": "code",
   "execution_count": 7,
   "metadata": {},
   "outputs": [],
   "source": [
    "scaler = MinMaxScaler(feature_range=(0, 1))\n",
    "data = scaler.fit_transform(data)"
   ]
  },
  {
   "cell_type": "code",
   "execution_count": 8,
   "metadata": {},
   "outputs": [],
   "source": [
    "train_size = int(len(data) * 0.67)\n",
    "test_size = len(data) - train_size\n",
    "train, test = data[0:train_size,:], data[train_size:len(data),:]"
   ]
  },
  {
   "cell_type": "markdown",
   "metadata": {},
   "source": [
    "========================================================================================================================"
   ]
  },
  {
   "cell_type": "code",
   "execution_count": 9,
   "metadata": {},
   "outputs": [],
   "source": [
    "look_back = 3\n",
    "X_train, Y_train = create_dataset(train, look_back)\n",
    "X_test, Y_test = create_dataset(test, look_back)"
   ]
  },
  {
   "cell_type": "code",
   "execution_count": 10,
   "metadata": {},
   "outputs": [
    {
     "data": {
      "text/plain": [
       "[(92, 3), (92,), (44, 3), (44,)]"
      ]
     },
     "execution_count": 10,
     "metadata": {},
     "output_type": "execute_result"
    }
   ],
   "source": [
    "[ x.shape for x in (X_train, Y_train, X_test, Y_test) ]"
   ]
  },
  {
   "cell_type": "code",
   "execution_count": 11,
   "metadata": {},
   "outputs": [
    {
     "data": {
      "text/plain": [
       "array([[0.01544401, 0.02702703, 0.05405405],\n",
       "       [0.02702703, 0.05405405, 0.04826255],\n",
       "       [0.05405405, 0.04826255, 0.03281853]], dtype=float32)"
      ]
     },
     "execution_count": 11,
     "metadata": {},
     "output_type": "execute_result"
    }
   ],
   "source": [
    "X_train[:3]"
   ]
  },
  {
   "cell_type": "code",
   "execution_count": 12,
   "metadata": {},
   "outputs": [],
   "source": [
    "#[samples, time steps, features]\n",
    "X_train = numpy.reshape(X_train, (X_train.shape[0], 1, X_train.shape[1]))\n",
    "X_test = numpy.reshape(X_test, (X_test.shape[0], 1, X_test.shape[1]))"
   ]
  },
  {
   "cell_type": "code",
   "execution_count": 13,
   "metadata": {},
   "outputs": [
    {
     "data": {
      "text/plain": [
       "[(92, 1, 3), (92,), (44, 1, 3), (44,)]"
      ]
     },
     "execution_count": 13,
     "metadata": {},
     "output_type": "execute_result"
    }
   ],
   "source": [
    "[ x.shape for x in (X_train, Y_train, X_test, Y_test) ]"
   ]
  },
  {
   "cell_type": "code",
   "execution_count": 14,
   "metadata": {},
   "outputs": [
    {
     "data": {
      "text/plain": [
       "array([[[0.01544401, 0.02702703, 0.05405405]],\n",
       "\n",
       "       [[0.02702703, 0.05405405, 0.04826255]],\n",
       "\n",
       "       [[0.05405405, 0.04826255, 0.03281853]]], dtype=float32)"
      ]
     },
     "execution_count": 14,
     "metadata": {},
     "output_type": "execute_result"
    }
   ],
   "source": [
    "X_train[:3]"
   ]
  },
  {
   "cell_type": "code",
   "execution_count": 15,
   "metadata": {
    "scrolled": true
   },
   "outputs": [
    {
     "name": "stdout",
     "output_type": "stream",
     "text": [
      "WARNING:tensorflow:From C:\\Users\\roma\\Anaconda3\\lib\\site-packages\\tensorflow\\python\\framework\\op_def_library.py:263: colocate_with (from tensorflow.python.framework.ops) is deprecated and will be removed in a future version.\n",
      "Instructions for updating:\n",
      "Colocations handled automatically by placer.\n",
      "WARNING:tensorflow:From C:\\Users\\roma\\Anaconda3\\lib\\site-packages\\tensorflow\\python\\ops\\math_ops.py:3066: to_int32 (from tensorflow.python.ops.math_ops) is deprecated and will be removed in a future version.\n",
      "Instructions for updating:\n",
      "Use tf.cast instead.\n",
      "Epoch 1/100\n",
      " - 6s - loss: 0.0665\n",
      "Epoch 2/100\n",
      " - 1s - loss: 0.0284\n",
      "Epoch 3/100\n",
      " - 1s - loss: 0.0175\n",
      "Epoch 4/100\n",
      " - 1s - loss: 0.0147\n",
      "Epoch 5/100\n",
      " - 1s - loss: 0.0129\n",
      "Epoch 6/100\n",
      " - 1s - loss: 0.0113\n",
      "Epoch 7/100\n",
      " - 1s - loss: 0.0098\n",
      "Epoch 8/100\n",
      " - 1s - loss: 0.0084\n",
      "Epoch 9/100\n",
      " - 1s - loss: 0.0074\n",
      "Epoch 10/100\n",
      " - 1s - loss: 0.0062\n",
      "Epoch 11/100\n",
      " - 1s - loss: 0.0055\n",
      "Epoch 12/100\n",
      " - 1s - loss: 0.0048\n",
      "Epoch 13/100\n",
      " - 1s - loss: 0.0043\n",
      "Epoch 14/100\n",
      " - 1s - loss: 0.0040\n",
      "Epoch 15/100\n",
      " - 1s - loss: 0.0038\n",
      "Epoch 16/100\n",
      " - 1s - loss: 0.0036\n",
      "Epoch 17/100\n",
      " - 1s - loss: 0.0035\n",
      "Epoch 18/100\n",
      " - 1s - loss: 0.0034\n",
      "Epoch 19/100\n",
      " - 1s - loss: 0.0033\n",
      "Epoch 20/100\n",
      " - 1s - loss: 0.0034\n",
      "Epoch 21/100\n",
      " - 1s - loss: 0.0031\n",
      "Epoch 22/100\n",
      " - 1s - loss: 0.0031\n",
      "Epoch 23/100\n",
      " - 1s - loss: 0.0031\n",
      "Epoch 24/100\n",
      " - 1s - loss: 0.0030\n",
      "Epoch 25/100\n",
      " - 1s - loss: 0.0031\n",
      "Epoch 26/100\n",
      " - 1s - loss: 0.0030\n",
      "Epoch 27/100\n",
      " - 1s - loss: 0.0029\n",
      "Epoch 28/100\n",
      " - 1s - loss: 0.0028\n",
      "Epoch 29/100\n",
      " - 1s - loss: 0.0028\n",
      "Epoch 30/100\n",
      " - 1s - loss: 0.0028\n",
      "Epoch 31/100\n",
      " - 1s - loss: 0.0026\n",
      "Epoch 32/100\n",
      " - 1s - loss: 0.0026\n",
      "Epoch 33/100\n",
      " - 1s - loss: 0.0027\n",
      "Epoch 34/100\n",
      " - 1s - loss: 0.0026\n",
      "Epoch 35/100\n",
      " - 1s - loss: 0.0025\n",
      "Epoch 36/100\n",
      " - 1s - loss: 0.0025\n",
      "Epoch 37/100\n",
      " - 1s - loss: 0.0024\n",
      "Epoch 38/100\n",
      " - 1s - loss: 0.0025\n",
      "Epoch 39/100\n",
      " - 1s - loss: 0.0024\n",
      "Epoch 40/100\n",
      " - 1s - loss: 0.0024\n",
      "Epoch 41/100\n",
      " - 1s - loss: 0.0023\n",
      "Epoch 42/100\n",
      " - 1s - loss: 0.0024\n",
      "Epoch 43/100\n",
      " - 1s - loss: 0.0023\n",
      "Epoch 44/100\n",
      " - 1s - loss: 0.0022\n",
      "Epoch 45/100\n",
      " - 1s - loss: 0.0022\n",
      "Epoch 46/100\n",
      " - 1s - loss: 0.0022\n",
      "Epoch 47/100\n",
      " - 1s - loss: 0.0023\n",
      "Epoch 48/100\n",
      " - 1s - loss: 0.0022\n",
      "Epoch 49/100\n",
      " - 1s - loss: 0.0020\n",
      "Epoch 50/100\n",
      " - 1s - loss: 0.0022\n",
      "Epoch 51/100\n",
      " - 1s - loss: 0.0019\n",
      "Epoch 52/100\n",
      " - 1s - loss: 0.0020\n",
      "Epoch 53/100\n",
      " - 1s - loss: 0.0020\n",
      "Epoch 54/100\n",
      " - 1s - loss: 0.0020\n",
      "Epoch 55/100\n",
      " - 1s - loss: 0.0019\n",
      "Epoch 56/100\n",
      " - 1s - loss: 0.0020\n",
      "Epoch 57/100\n",
      " - 1s - loss: 0.0019\n",
      "Epoch 58/100\n",
      " - 1s - loss: 0.0019\n",
      "Epoch 59/100\n",
      " - 1s - loss: 0.0019\n",
      "Epoch 60/100\n",
      " - 1s - loss: 0.0018\n",
      "Epoch 61/100\n",
      " - 1s - loss: 0.0019\n",
      "Epoch 62/100\n",
      " - 1s - loss: 0.0019\n",
      "Epoch 63/100\n",
      " - 1s - loss: 0.0019\n",
      "Epoch 64/100\n",
      " - 1s - loss: 0.0018\n",
      "Epoch 65/100\n",
      " - 1s - loss: 0.0018\n",
      "Epoch 66/100\n",
      " - 1s - loss: 0.0019\n",
      "Epoch 67/100\n",
      " - 1s - loss: 0.0019\n",
      "Epoch 68/100\n",
      " - 1s - loss: 0.0018\n",
      "Epoch 69/100\n",
      " - 1s - loss: 0.0018\n",
      "Epoch 70/100\n",
      " - 1s - loss: 0.0019\n",
      "Epoch 71/100\n",
      " - 1s - loss: 0.0018\n",
      "Epoch 72/100\n",
      " - 1s - loss: 0.0018\n",
      "Epoch 73/100\n",
      " - 1s - loss: 0.0018\n",
      "Epoch 74/100\n",
      " - 1s - loss: 0.0018\n",
      "Epoch 75/100\n",
      " - 1s - loss: 0.0020\n",
      "Epoch 76/100\n",
      " - 1s - loss: 0.0018\n",
      "Epoch 77/100\n",
      " - 1s - loss: 0.0018\n",
      "Epoch 78/100\n",
      " - 1s - loss: 0.0018\n",
      "Epoch 79/100\n",
      " - 1s - loss: 0.0019\n",
      "Epoch 80/100\n",
      " - 1s - loss: 0.0018\n",
      "Epoch 81/100\n",
      " - 1s - loss: 0.0018\n",
      "Epoch 82/100\n",
      " - 1s - loss: 0.0017\n",
      "Epoch 83/100\n",
      " - 1s - loss: 0.0017\n",
      "Epoch 84/100\n",
      " - 1s - loss: 0.0018\n",
      "Epoch 85/100\n",
      " - 1s - loss: 0.0018\n",
      "Epoch 86/100\n",
      " - 1s - loss: 0.0018\n",
      "Epoch 87/100\n",
      " - 1s - loss: 0.0017\n",
      "Epoch 88/100\n",
      " - 1s - loss: 0.0017\n",
      "Epoch 89/100\n",
      " - 1s - loss: 0.0018\n",
      "Epoch 90/100\n",
      " - 1s - loss: 0.0017\n",
      "Epoch 91/100\n",
      " - 1s - loss: 0.0017\n",
      "Epoch 92/100\n",
      " - 1s - loss: 0.0017\n",
      "Epoch 93/100\n",
      " - 1s - loss: 0.0018\n",
      "Epoch 94/100\n",
      " - 1s - loss: 0.0017\n",
      "Epoch 95/100\n",
      " - 1s - loss: 0.0017\n",
      "Epoch 96/100\n",
      " - 1s - loss: 0.0017\n",
      "Epoch 97/100\n",
      " - 1s - loss: 0.0017\n",
      "Epoch 98/100\n",
      " - 1s - loss: 0.0017\n",
      "Epoch 99/100\n",
      " - 1s - loss: 0.0018\n",
      "Epoch 100/100\n",
      " - 1s - loss: 0.0018\n"
     ]
    },
    {
     "data": {
      "text/plain": [
       "<keras.callbacks.History at 0x2b3fa9b1f98>"
      ]
     },
     "execution_count": 15,
     "metadata": {},
     "output_type": "execute_result"
    }
   ],
   "source": [
    "model = Sequential()\n",
    "model.add(LSTM(4, input_shape=(1, look_back)))\n",
    "model.add(Dense(1))\n",
    "model.compile(loss='mean_squared_error', optimizer='adam')\n",
    "model.fit(X_train, Y_train, epochs=100, batch_size=1, verbose=2)"
   ]
  },
  {
   "cell_type": "code",
   "execution_count": 16,
   "metadata": {},
   "outputs": [],
   "source": [
    "pred_train = model.predict(X_train)\n",
    "pred_test = model.predict(X_test)"
   ]
  },
  {
   "cell_type": "code",
   "execution_count": 17,
   "metadata": {},
   "outputs": [
    {
     "data": {
      "text/plain": [
       "[(92, 1), (92,), (44, 1), (44,)]"
      ]
     },
     "execution_count": 17,
     "metadata": {},
     "output_type": "execute_result"
    }
   ],
   "source": [
    "[ x.shape for x in (pred_train, Y_train, pred_test, Y_test) ]"
   ]
  },
  {
   "cell_type": "code",
   "execution_count": 18,
   "metadata": {},
   "outputs": [],
   "source": [
    "pred_train = scaler.inverse_transform(pred_train)\n",
    "Y_train = scaler.inverse_transform([Y_train])\n",
    "pred_test = scaler.inverse_transform(pred_test)\n",
    "Y_test = scaler.inverse_transform([Y_test])"
   ]
  },
  {
   "cell_type": "code",
   "execution_count": 19,
   "metadata": {},
   "outputs": [
    {
     "name": "stdout",
     "output_type": "stream",
     "text": [
      "Train Score: 20.91 RMSE\n",
      "Test Score: 57.95 RMSE\n"
     ]
    }
   ],
   "source": [
    "score_train = math.sqrt(mean_squared_error(Y_train[0], pred_train[:,0]))\n",
    "print('Train Score: %.2f RMSE' % (score_train))\n",
    "score_test = math.sqrt(mean_squared_error(Y_test[0], pred_test[:,0]))\n",
    "print('Test Score: %.2f RMSE' % (score_test))"
   ]
  },
  {
   "cell_type": "code",
   "execution_count": 20,
   "metadata": {},
   "outputs": [],
   "source": [
    "pred_train_plot = numpy.empty_like(data)\n",
    "pred_train_plot[:, :] = numpy.nan\n",
    "pred_train_plot[look_back:len(pred_train)+look_back, :] = pred_train\n",
    "\n",
    "pred_test_plot = numpy.empty_like(data)\n",
    "pred_test_plot[:, :] = numpy.nan\n",
    "pred_test_plot[len(pred_train)+(look_back*2)+1:len(data)-1, :] = pred_test"
   ]
  },
  {
   "cell_type": "code",
   "execution_count": 21,
   "metadata": {},
   "outputs": [
    {
     "data": {
      "image/png": "[encoded data removed]",
      "text/plain": [
       "<Figure size 1440x720 with 1 Axes>"
      ]
     },
     "metadata": {
      "needs_background": "light"
     },
     "output_type": "display_data"
    }
   ],
   "source": [
    "plt.figure(figsize=(20,10))\n",
    "plt.plot(scaler.inverse_transform(data))\n",
    "plt.plot(pred_train_plot)\n",
    "plt.plot(pred_test_plot)\n",
    "plt.show()"
   ]
  },
  {
   "cell_type": "markdown",
   "metadata": {},
   "source": [
    "========================================================================================================================"
   ]
  },
  {
   "cell_type": "code",
   "execution_count": 22,
   "metadata": {},
   "outputs": [],
   "source": [
    "look_back = 3\n",
    "X_train, Y_train = create_dataset(train, look_back)\n",
    "X_test, Y_test = create_dataset(test, look_back)"
   ]
  },
  {
   "cell_type": "code",
   "execution_count": 23,
   "metadata": {},
   "outputs": [
    {
     "data": {
      "text/plain": [
       "[(92, 3), (92,), (44, 3), (44,)]"
      ]
     },
     "execution_count": 23,
     "metadata": {},
     "output_type": "execute_result"
    }
   ],
   "source": [
    "[ x.shape for x in (X_train, Y_train, X_test, Y_test) ]"
   ]
  },
  {
   "cell_type": "code",
   "execution_count": 24,
   "metadata": {},
   "outputs": [
    {
     "data": {
      "text/plain": [
       "array([[0.01544401, 0.02702703, 0.05405405],\n",
       "       [0.02702703, 0.05405405, 0.04826255],\n",
       "       [0.05405405, 0.04826255, 0.03281853]], dtype=float32)"
      ]
     },
     "execution_count": 24,
     "metadata": {},
     "output_type": "execute_result"
    }
   ],
   "source": [
    "X_train[:3]"
   ]
  },
  {
   "cell_type": "code",
   "execution_count": 25,
   "metadata": {},
   "outputs": [],
   "source": [
    "#[samples, time steps, features]\n",
    "X_train = numpy.reshape(X_train, (X_train.shape[0], X_train.shape[1], 1))\n",
    "X_test = numpy.reshape(X_test, (X_test.shape[0], X_test.shape[1], 1))"
   ]
  },
  {
   "cell_type": "code",
   "execution_count": 26,
   "metadata": {},
   "outputs": [
    {
     "data": {
      "text/plain": [
       "[(92, 3, 1), (92,), (44, 3, 1), (44,)]"
      ]
     },
     "execution_count": 26,
     "metadata": {},
     "output_type": "execute_result"
    }
   ],
   "source": [
    "[ x.shape for x in (X_train, Y_train, X_test, Y_test) ]"
   ]
  },
  {
   "cell_type": "code",
   "execution_count": 27,
   "metadata": {},
   "outputs": [
    {
     "data": {
      "text/plain": [
       "array([[[0.01544401],\n",
       "        [0.02702703],\n",
       "        [0.05405405]],\n",
       "\n",
       "       [[0.02702703],\n",
       "        [0.05405405],\n",
       "        [0.04826255]],\n",
       "\n",
       "       [[0.05405405],\n",
       "        [0.04826255],\n",
       "        [0.03281853]]], dtype=float32)"
      ]
     },
     "execution_count": 27,
     "metadata": {},
     "output_type": "execute_result"
    }
   ],
   "source": [
    "X_train[:3]"
   ]
  },
  {
   "cell_type": "code",
   "execution_count": 28,
   "metadata": {
    "scrolled": true
   },
   "outputs": [
    {
     "name": "stdout",
     "output_type": "stream",
     "text": [
      "Epoch 1/100\n",
      " - 2s - loss: 0.0272\n",
      "Epoch 2/100\n",
      " - 2s - loss: 0.0121\n",
      "Epoch 3/100\n",
      " - 2s - loss: 0.0102\n",
      "Epoch 4/100\n",
      " - 2s - loss: 0.0089\n",
      "Epoch 5/100\n",
      " - 2s - loss: 0.0077\n",
      "Epoch 6/100\n",
      " - 2s - loss: 0.0067\n",
      "Epoch 7/100\n",
      " - 2s - loss: 0.0059\n",
      "Epoch 8/100\n",
      " - 2s - loss: 0.0052\n",
      "Epoch 9/100\n",
      " - 2s - loss: 0.0047\n",
      "Epoch 10/100\n",
      " - 2s - loss: 0.0044\n",
      "Epoch 11/100\n",
      " - 2s - loss: 0.0041\n",
      "Epoch 12/100\n",
      " - 2s - loss: 0.0040\n",
      "Epoch 13/100\n",
      " - 2s - loss: 0.0038\n",
      "Epoch 14/100\n",
      " - 2s - loss: 0.0038\n",
      "Epoch 15/100\n",
      " - 2s - loss: 0.0037\n",
      "Epoch 16/100\n",
      " - 2s - loss: 0.0037\n",
      "Epoch 17/100\n",
      " - 2s - loss: 0.0037\n",
      "Epoch 18/100\n",
      " - 2s - loss: 0.0037\n",
      "Epoch 19/100\n",
      " - 2s - loss: 0.0037\n",
      "Epoch 20/100\n",
      " - 2s - loss: 0.0036\n",
      "Epoch 21/100\n",
      " - 2s - loss: 0.0037\n",
      "Epoch 22/100\n",
      " - 2s - loss: 0.0036\n",
      "Epoch 23/100\n",
      " - 2s - loss: 0.0036\n",
      "Epoch 24/100\n",
      " - 2s - loss: 0.0035\n",
      "Epoch 25/100\n",
      " - 2s - loss: 0.0036\n",
      "Epoch 26/100\n",
      " - 2s - loss: 0.0036\n",
      "Epoch 27/100\n",
      " - 2s - loss: 0.0036\n",
      "Epoch 28/100\n",
      " - 2s - loss: 0.0036\n",
      "Epoch 29/100\n",
      " - 2s - loss: 0.0035\n",
      "Epoch 30/100\n",
      " - 2s - loss: 0.0036\n",
      "Epoch 31/100\n",
      " - 2s - loss: 0.0035\n",
      "Epoch 32/100\n",
      " - 2s - loss: 0.0036\n",
      "Epoch 33/100\n",
      " - 2s - loss: 0.0035\n",
      "Epoch 34/100\n",
      " - 2s - loss: 0.0034\n",
      "Epoch 35/100\n",
      " - 2s - loss: 0.0036\n",
      "Epoch 36/100\n",
      " - 2s - loss: 0.0034\n",
      "Epoch 37/100\n",
      " - 2s - loss: 0.0035\n",
      "Epoch 38/100\n",
      " - 2s - loss: 0.0035\n",
      "Epoch 39/100\n",
      " - 2s - loss: 0.0035\n",
      "Epoch 40/100\n",
      " - 2s - loss: 0.0034\n",
      "Epoch 41/100\n",
      " - 2s - loss: 0.0035\n",
      "Epoch 42/100\n",
      " - 2s - loss: 0.0034\n",
      "Epoch 43/100\n",
      " - 2s - loss: 0.0034\n",
      "Epoch 44/100\n",
      " - 2s - loss: 0.0035\n",
      "Epoch 45/100\n",
      " - 2s - loss: 0.0034\n",
      "Epoch 46/100\n",
      " - 2s - loss: 0.0033\n",
      "Epoch 47/100\n",
      " - 2s - loss: 0.0033\n",
      "Epoch 48/100\n",
      " - 2s - loss: 0.0034\n",
      "Epoch 49/100\n",
      " - 2s - loss: 0.0034\n",
      "Epoch 50/100\n",
      " - 2s - loss: 0.0034\n",
      "Epoch 51/100\n",
      " - 2s - loss: 0.0034\n",
      "Epoch 52/100\n",
      " - 2s - loss: 0.0034\n",
      "Epoch 53/100\n",
      " - 2s - loss: 0.0034\n",
      "Epoch 54/100\n",
      " - 2s - loss: 0.0033\n",
      "Epoch 55/100\n",
      " - 2s - loss: 0.0033\n",
      "Epoch 56/100\n",
      " - 2s - loss: 0.0033\n",
      "Epoch 57/100\n",
      " - 2s - loss: 0.0033\n",
      "Epoch 58/100\n",
      " - 2s - loss: 0.0033\n",
      "Epoch 59/100\n",
      " - 2s - loss: 0.0032\n",
      "Epoch 60/100\n",
      " - 2s - loss: 0.0032\n",
      "Epoch 61/100\n",
      " - 2s - loss: 0.0033\n",
      "Epoch 62/100\n",
      " - 2s - loss: 0.0033\n",
      "Epoch 63/100\n",
      " - 2s - loss: 0.0033\n",
      "Epoch 64/100\n",
      " - 2s - loss: 0.0031\n",
      "Epoch 65/100\n",
      " - 2s - loss: 0.0032\n",
      "Epoch 66/100\n",
      " - 2s - loss: 0.0032\n",
      "Epoch 67/100\n",
      " - 2s - loss: 0.0032\n",
      "Epoch 68/100\n",
      " - 2s - loss: 0.0032\n",
      "Epoch 69/100\n",
      " - 2s - loss: 0.0031\n",
      "Epoch 70/100\n",
      " - 2s - loss: 0.0031\n",
      "Epoch 71/100\n",
      " - 2s - loss: 0.0031\n",
      "Epoch 72/100\n",
      " - 2s - loss: 0.0031\n",
      "Epoch 73/100\n",
      " - 2s - loss: 0.0031\n",
      "Epoch 74/100\n",
      " - 2s - loss: 0.0030\n",
      "Epoch 75/100\n",
      " - 2s - loss: 0.0031\n",
      "Epoch 76/100\n",
      " - 2s - loss: 0.0031\n",
      "Epoch 77/100\n",
      " - 2s - loss: 0.0030\n",
      "Epoch 78/100\n",
      " - 2s - loss: 0.0030\n",
      "Epoch 79/100\n",
      " - 2s - loss: 0.0030\n",
      "Epoch 80/100\n",
      " - 2s - loss: 0.0030\n",
      "Epoch 81/100\n",
      " - 2s - loss: 0.0029\n",
      "Epoch 82/100\n",
      " - 2s - loss: 0.0030\n",
      "Epoch 83/100\n",
      " - 2s - loss: 0.0029\n",
      "Epoch 84/100\n",
      " - 2s - loss: 0.0028\n",
      "Epoch 85/100\n",
      " - 2s - loss: 0.0029\n",
      "Epoch 86/100\n",
      " - 2s - loss: 0.0028\n",
      "Epoch 87/100\n",
      " - 2s - loss: 0.0028\n",
      "Epoch 88/100\n",
      " - 2s - loss: 0.0028\n",
      "Epoch 89/100\n",
      " - 2s - loss: 0.0028\n",
      "Epoch 90/100\n",
      " - 2s - loss: 0.0028\n",
      "Epoch 91/100\n",
      " - 2s - loss: 0.0029\n",
      "Epoch 92/100\n",
      " - 2s - loss: 0.0028\n",
      "Epoch 93/100\n",
      " - 2s - loss: 0.0027\n",
      "Epoch 94/100\n",
      " - 2s - loss: 0.0027\n",
      "Epoch 95/100\n",
      " - 2s - loss: 0.0026\n",
      "Epoch 96/100\n",
      " - 2s - loss: 0.0027\n",
      "Epoch 97/100\n",
      " - 2s - loss: 0.0026\n",
      "Epoch 98/100\n",
      " - 2s - loss: 0.0027\n",
      "Epoch 99/100\n",
      " - 2s - loss: 0.0025\n",
      "Epoch 100/100\n",
      " - 2s - loss: 0.0025\n"
     ]
    },
    {
     "data": {
      "text/plain": [
       "<keras.callbacks.History at 0x2b415dafe10>"
      ]
     },
     "execution_count": 28,
     "metadata": {},
     "output_type": "execute_result"
    }
   ],
   "source": [
    "model = Sequential()\n",
    "model.add(LSTM(4, input_shape=(look_back, 1)))\n",
    "model.add(Dense(1))\n",
    "model.compile(loss='mean_squared_error', optimizer='adam')\n",
    "model.fit(X_train, Y_train, epochs=100, batch_size=1, verbose=2)"
   ]
  },
  {
   "cell_type": "code",
   "execution_count": 29,
   "metadata": {},
   "outputs": [],
   "source": [
    "pred_train = model.predict(X_train)\n",
    "pred_test = model.predict(X_test)"
   ]
  },
  {
   "cell_type": "code",
   "execution_count": 30,
   "metadata": {},
   "outputs": [
    {
     "data": {
      "text/plain": [
       "[(92, 1), (92,), (44, 1), (44,)]"
      ]
     },
     "execution_count": 30,
     "metadata": {},
     "output_type": "execute_result"
    }
   ],
   "source": [
    "[ x.shape for x in (pred_train, Y_train, pred_test, Y_test) ]"
   ]
  },
  {
   "cell_type": "code",
   "execution_count": 31,
   "metadata": {},
   "outputs": [],
   "source": [
    "pred_train = scaler.inverse_transform(pred_train)\n",
    "Y_train = scaler.inverse_transform([Y_train])\n",
    "pred_test = scaler.inverse_transform(pred_test)\n",
    "Y_test = scaler.inverse_transform([Y_test])"
   ]
  },
  {
   "cell_type": "code",
   "execution_count": 32,
   "metadata": {},
   "outputs": [
    {
     "name": "stdout",
     "output_type": "stream",
     "text": [
      "Train Score: 25.33 RMSE\n",
      "Test Score: 64.98 RMSE\n"
     ]
    }
   ],
   "source": [
    "score_train = math.sqrt(mean_squared_error(Y_train[0], pred_train[:,0]))\n",
    "print('Train Score: %.2f RMSE' % (score_train))\n",
    "score_test = math.sqrt(mean_squared_error(Y_test[0], pred_test[:,0]))\n",
    "print('Test Score: %.2f RMSE' % (score_test))"
   ]
  },
  {
   "cell_type": "code",
   "execution_count": 33,
   "metadata": {},
   "outputs": [],
   "source": [
    "pred_train_plot = numpy.empty_like(data)\n",
    "pred_train_plot[:, :] = numpy.nan\n",
    "pred_train_plot[look_back:len(pred_train)+look_back, :] = pred_train\n",
    "\n",
    "pred_test_plot = numpy.empty_like(data)\n",
    "pred_test_plot[:, :] = numpy.nan\n",
    "pred_test_plot[len(pred_train)+(look_back*2)+1:len(data)-1, :] = pred_test"
   ]
  },
  {
   "cell_type": "code",
   "execution_count": 34,
   "metadata": {},
   "outputs": [
    {
     "data": {
      "image/png": "[encoded data removed]",
      "text/plain": [
       "<Figure size 1440x720 with 1 Axes>"
      ]
     },
     "metadata": {
      "needs_background": "light"
     },
     "output_type": "display_data"
    }
   ],
   "source": [
    "plt.figure(figsize=(20,10))\n",
    "plt.plot(scaler.inverse_transform(data))\n",
    "plt.plot(pred_train_plot)\n",
    "plt.plot(pred_test_plot)\n",
    "plt.show()"
   ]
  },
  {
   "cell_type": "markdown",
   "metadata": {},
   "source": [
    "========================================================================================================================"
   ]
  }
 ],
 "metadata": {
  "kernelspec": {
   "display_name": "Python 3",
   "language": "python",
   "name": "python3"
  },
  "language_info": {
   "codemirror_mode": {
    "name": "ipython",
    "version": 3
   },
   "file_extension": ".py",
   "mimetype": "text/x-python",
   "name": "python",
   "nbconvert_exporter": "python",
   "pygments_lexer": "ipython3",
   "version": "3.7.3"
  }
 },
 "nbformat": 4,
 "nbformat_minor": 2
}

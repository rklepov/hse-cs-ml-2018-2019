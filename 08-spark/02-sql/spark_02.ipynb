{
  "nbformat": 4,
  "nbformat_minor": 0,
  "metadata": {
    "colab": {
      "name": "spark_02.ipynb",
      "version": "0.3.2",
      "provenance": [],
      "collapsed_sections": [],
      "include_colab_link": true
    },
    "kernelspec": {
      "name": "python3",
      "display_name": "Python 3"
    }
  },
  "cells": [
    {
      "cell_type": "markdown",
      "metadata": {
        "id": "view-in-github",
        "colab_type": "text"
      },
      "source": [
        "<a href=\"https://colab.research.google.com/github/rklepov/hse-cs-ml-2018-2019/blob/master/08-spark/02-sql/spark_02.ipynb\" target=\"_parent\"><img src=\"https://colab.research.google.com/assets/colab-badge.svg\" alt=\"Open In Colab\"/></a>"
      ]
    },
    {
      "cell_type": "markdown",
      "metadata": {
        "id": "N5RPJhkf4Ym-",
        "colab_type": "text"
      },
      "source": [
        "[***Lecture 2 slides***](https://hackmd.io/@J_qqq0PjTGK1be0341GpYA/SJZDs66fm#/ \"Как Spark устроен внутри &amp; SparkSQL - HackMD\"): https://hackmd.io/@J_qqq0PjTGK1be0341GpYA/SJZDs66fm#/\n",
        "\n",
        "---\n",
        "\n",
        "*   [Introduction to Distributed File System – NFS Vs. HDFS](https://diveintohadoop.wordpress.com/2015/04/04/introduction-to-distributed-file-system-nfs-vs-hdfs/ \"Introduction to Distributed File System &#8211; NFS Vs. HDFS | All About hadoop\")\n",
        "*   [Apache Parquet](https://parquet.apache.org/ \"Apache Parquet\")\n",
        "*   [Predicate Pushdown](https://medium.com/microsoftazure/data-at-scale-learn-how-predicate-pushdown-will-save-you-money-7063b80878d7 \"Data at scale - Learn how Predicate Pushdown will save you money\")\n",
        "*   [pyspark.sql module](https://spark.apache.org/docs/latest/api/python/pyspark.sql.html \"pyspark.sql module &#8212; PySpark master documentation\")"
      ]
    },
    {
      "cell_type": "code",
      "metadata": {
        "id": "i4gPdtO43IwM",
        "colab_type": "code",
        "colab": {
          "base_uri": "https://localhost:8080/",
          "height": 34
        },
        "outputId": "62774c7a-c31b-4e37-cc32-9d069629b5f8"
      },
      "source": [
        "!pip search spark | grep INSTALLED || pip install pyspark==2.4.0 findspark"
      ],
      "execution_count": 1,
      "outputs": [
        {
          "output_type": "stream",
          "text": [
            "  INSTALLED: 2.4.0\n"
          ],
          "name": "stdout"
        }
      ]
    },
    {
      "cell_type": "code",
      "metadata": {
        "id": "UMxEdD-S3Jwy",
        "colab_type": "code",
        "colab": {}
      },
      "source": [
        "import os\n",
        "os.environ[\"JAVA_HOME\"] = \"/usr/lib/jvm/java-8-openjdk-amd64/jre/\"\n",
        "\n",
        "import findspark\n",
        "findspark.init('/usr/local/lib/python3.6/dist-packages/pyspark/')\n",
        "\n",
        "import pyspark"
      ],
      "execution_count": 0,
      "outputs": []
    },
    {
      "cell_type": "code",
      "metadata": {
        "id": "ICN2Txy78AB1",
        "colab_type": "code",
        "colab": {
          "base_uri": "https://localhost:8080/",
          "height": 34
        },
        "outputId": "45ab107f-4f49-476c-9ebb-e90b0e393dfb"
      },
      "source": [
        "from google.colab import drive\n",
        "drive.mount('/content/gdrive')"
      ],
      "execution_count": 3,
      "outputs": [
        {
          "output_type": "stream",
          "text": [
            "Drive already mounted at /content/gdrive; to attempt to forcibly remount, call drive.mount(\"/content/gdrive\", force_remount=True).\n"
          ],
          "name": "stdout"
        }
      ]
    },
    {
      "cell_type": "code",
      "metadata": {
        "id": "Nr-TvYQ78Phj",
        "colab_type": "code",
        "colab": {
          "base_uri": "https://localhost:8080/",
          "height": 34
        },
        "outputId": "4d435e9a-fbfd-4eb6-97b6-68fa3b0b88d5"
      },
      "source": [
        "from zipfile import ZipFile\n",
        "from io import BytesIO\n",
        "import urllib.request\n",
        "\n",
        "ZipFile.extract(\n",
        "    ZipFile(\n",
        "        BytesIO(\n",
        "            urllib\n",
        "            .request\n",
        "            .urlopen('http://s3.amazonaws.com/alexa-static/top-1m.csv.zip')\n",
        "            .read()\n",
        "        )\n",
        "    ),\n",
        "    'top-1m.csv'\n",
        ")"
      ],
      "execution_count": 4,
      "outputs": [
        {
          "output_type": "execute_result",
          "data": {
            "text/plain": [
              "'/content/top-1m.csv'"
            ]
          },
          "metadata": {
            "tags": []
          },
          "execution_count": 4
        }
      ]
    },
    {
      "cell_type": "code",
      "metadata": {
        "id": "8Cvmko0E3Lwj",
        "colab_type": "code",
        "colab": {}
      },
      "source": [
        "spark =pyspark.sql.SparkSession.builder.getOrCreate()"
      ],
      "execution_count": 0,
      "outputs": []
    },
    {
      "cell_type": "code",
      "metadata": {
        "id": "bu4WRDPZ33_3",
        "colab_type": "code",
        "colab": {}
      },
      "source": [
        "alexa = spark.read.csv('top-1m.csv')"
      ],
      "execution_count": 0,
      "outputs": []
    },
    {
      "cell_type": "code",
      "metadata": {
        "id": "xU0t63Bn8wO6",
        "colab_type": "code",
        "colab": {
          "base_uri": "https://localhost:8080/",
          "height": 474
        },
        "outputId": "6a7ecd06-d026-4628-b75a-b1bf22072637"
      },
      "source": [
        "alexa.show()"
      ],
      "execution_count": 7,
      "outputs": [
        {
          "output_type": "stream",
          "text": [
            "+---+-------------+\n",
            "|_c0|          _c1|\n",
            "+---+-------------+\n",
            "|  1|   google.com|\n",
            "|  2|  youtube.com|\n",
            "|  3| facebook.com|\n",
            "|  4|    baidu.com|\n",
            "|  5|wikipedia.org|\n",
            "|  6|       qq.com|\n",
            "|  7|   taobao.com|\n",
            "|  8|    tmall.com|\n",
            "|  9|   amazon.com|\n",
            "| 10|    yahoo.com|\n",
            "| 11|       jd.com|\n",
            "| 12|  twitter.com|\n",
            "| 13|     sohu.com|\n",
            "| 14|     live.com|\n",
            "| 15|instagram.com|\n",
            "| 16|    yandex.ru|\n",
            "| 17|  sina.com.cn|\n",
            "| 18|    weibo.com|\n",
            "| 19|   reddit.com|\n",
            "| 20| linkedin.com|\n",
            "+---+-------------+\n",
            "only showing top 20 rows\n",
            "\n"
          ],
          "name": "stdout"
        }
      ]
    },
    {
      "cell_type": "code",
      "metadata": {
        "id": "r6Q7fauz8y20",
        "colab_type": "code",
        "colab": {}
      },
      "source": [
        "from pyspark.sql import types\n",
        "\n",
        "schema = types.StructType().add('rank', 'integer').add('site', 'string')\n",
        "\n",
        "real_alexa = spark.read.csv('top-1m.csv', schema=schema)"
      ],
      "execution_count": 0,
      "outputs": []
    },
    {
      "cell_type": "code",
      "metadata": {
        "id": "5-Qw55Bi9AB0",
        "colab_type": "code",
        "colab": {
          "base_uri": "https://localhost:8080/",
          "height": 474
        },
        "outputId": "d69a6267-8052-4697-c6cb-61d38666275d"
      },
      "source": [
        "real_alexa.show()"
      ],
      "execution_count": 9,
      "outputs": [
        {
          "output_type": "stream",
          "text": [
            "+----+-------------+\n",
            "|rank|         site|\n",
            "+----+-------------+\n",
            "|   1|   google.com|\n",
            "|   2|  youtube.com|\n",
            "|   3| facebook.com|\n",
            "|   4|    baidu.com|\n",
            "|   5|wikipedia.org|\n",
            "|   6|       qq.com|\n",
            "|   7|   taobao.com|\n",
            "|   8|    tmall.com|\n",
            "|   9|   amazon.com|\n",
            "|  10|    yahoo.com|\n",
            "|  11|       jd.com|\n",
            "|  12|  twitter.com|\n",
            "|  13|     sohu.com|\n",
            "|  14|     live.com|\n",
            "|  15|instagram.com|\n",
            "|  16|    yandex.ru|\n",
            "|  17|  sina.com.cn|\n",
            "|  18|    weibo.com|\n",
            "|  19|   reddit.com|\n",
            "|  20| linkedin.com|\n",
            "+----+-------------+\n",
            "only showing top 20 rows\n",
            "\n"
          ],
          "name": "stdout"
        }
      ]
    },
    {
      "cell_type": "code",
      "metadata": {
        "id": "3GK1NyoT9O3Q",
        "colab_type": "code",
        "colab": {
          "base_uri": "https://localhost:8080/",
          "height": 474
        },
        "outputId": "5c578eea-3d20-4911-8af0-c2e2528f7558"
      },
      "source": [
        "real_alexa.orderBy('rank').show()"
      ],
      "execution_count": 10,
      "outputs": [
        {
          "output_type": "stream",
          "text": [
            "+----+-------------+\n",
            "|rank|         site|\n",
            "+----+-------------+\n",
            "|   1|   google.com|\n",
            "|   2|  youtube.com|\n",
            "|   3| facebook.com|\n",
            "|   4|    baidu.com|\n",
            "|   5|wikipedia.org|\n",
            "|   6|       qq.com|\n",
            "|   7|   taobao.com|\n",
            "|   8|    tmall.com|\n",
            "|   9|   amazon.com|\n",
            "|  10|    yahoo.com|\n",
            "|  11|       jd.com|\n",
            "|  12|  twitter.com|\n",
            "|  13|     sohu.com|\n",
            "|  14|     live.com|\n",
            "|  15|instagram.com|\n",
            "|  16|    yandex.ru|\n",
            "|  17|  sina.com.cn|\n",
            "|  18|    weibo.com|\n",
            "|  19|   reddit.com|\n",
            "|  20| linkedin.com|\n",
            "+----+-------------+\n",
            "only showing top 20 rows\n",
            "\n"
          ],
          "name": "stdout"
        }
      ]
    },
    {
      "cell_type": "code",
      "metadata": {
        "id": "r680iR5E9d-M",
        "colab_type": "code",
        "colab": {
          "base_uri": "https://localhost:8080/",
          "height": 87
        },
        "outputId": "1cdaff3d-b5c8-4487-99af-448fbd6a9e92"
      },
      "source": [
        "real_alexa.printSchema()"
      ],
      "execution_count": 11,
      "outputs": [
        {
          "output_type": "stream",
          "text": [
            "root\n",
            " |-- rank: integer (nullable = true)\n",
            " |-- site: string (nullable = true)\n",
            "\n"
          ],
          "name": "stdout"
        }
      ]
    },
    {
      "cell_type": "code",
      "metadata": {
        "id": "Qrh-Ytnj9o2F",
        "colab_type": "code",
        "colab": {}
      },
      "source": [
        "from pyspark.sql import functions"
      ],
      "execution_count": 0,
      "outputs": []
    },
    {
      "cell_type": "code",
      "metadata": {
        "id": "GRJJlooD9TUU",
        "colab_type": "code",
        "colab": {
          "base_uri": "https://localhost:8080/",
          "height": 474
        },
        "outputId": "ed6a31bf-b822-4348-ff91-91f1350ffca6"
      },
      "source": [
        "(\n",
        "    real_alexa\n",
        "    .select(\n",
        "        functions.split('site', '\\.').alias('token')\n",
        "    )\n",
        "    .show()\n",
        ")"
      ],
      "execution_count": 13,
      "outputs": [
        {
          "output_type": "stream",
          "text": [
            "+----------------+\n",
            "|           token|\n",
            "+----------------+\n",
            "|   [google, com]|\n",
            "|  [youtube, com]|\n",
            "| [facebook, com]|\n",
            "|    [baidu, com]|\n",
            "|[wikipedia, org]|\n",
            "|       [qq, com]|\n",
            "|   [taobao, com]|\n",
            "|    [tmall, com]|\n",
            "|   [amazon, com]|\n",
            "|    [yahoo, com]|\n",
            "|       [jd, com]|\n",
            "|  [twitter, com]|\n",
            "|     [sohu, com]|\n",
            "|     [live, com]|\n",
            "|[instagram, com]|\n",
            "|    [yandex, ru]|\n",
            "| [sina, com, cn]|\n",
            "|    [weibo, com]|\n",
            "|   [reddit, com]|\n",
            "| [linkedin, com]|\n",
            "+----------------+\n",
            "only showing top 20 rows\n",
            "\n"
          ],
          "name": "stdout"
        }
      ]
    },
    {
      "cell_type": "code",
      "metadata": {
        "id": "KAu5InaF9uja",
        "colab_type": "code",
        "colab": {
          "base_uri": "https://localhost:8080/",
          "height": 474
        },
        "outputId": "a2db21de-0adb-49bd-c424-925315e8a509"
      },
      "source": [
        "(\n",
        "    real_alexa\n",
        "    .select(\n",
        "        functions.explode(\n",
        "            functions.split('site', '\\.')\n",
        "        ).alias('token')\n",
        "    )\n",
        "    .groupBy('token')\n",
        "    .count()\n",
        "    .withColumnRenamed('count', 'shmount')\n",
        "    .orderBy(functions.desc('shmount'))\n",
        "    .show()\n",
        ")"
      ],
      "execution_count": 14,
      "outputs": [
        {
          "output_type": "stream",
          "text": [
            "+--------+-------+\n",
            "|   token|shmount|\n",
            "+--------+-------+\n",
            "|     com| 550206|\n",
            "|     org|  55565|\n",
            "|     net|  41564|\n",
            "|      ru|  37602|\n",
            "|      co|  36202|\n",
            "|      de|  26294|\n",
            "|      br|  25347|\n",
            "|      uk|  15774|\n",
            "|      pl|  13845|\n",
            "|blogspot|  13567|\n",
            "|      in|  13148|\n",
            "|      ir|  11629|\n",
            "|      jp|  10878|\n",
            "|      it|  10664|\n",
            "|     gov|   9807|\n",
            "|      fr|   9447|\n",
            "|      au|   8929|\n",
            "|     edu|   8303|\n",
            "|    info|   7954|\n",
            "|      kr|   7842|\n",
            "+--------+-------+\n",
            "only showing top 20 rows\n",
            "\n"
          ],
          "name": "stdout"
        }
      ]
    },
    {
      "cell_type": "code",
      "metadata": {
        "id": "vhg1lVWa_FS0",
        "colab_type": "code",
        "colab": {
          "base_uri": "https://localhost:8080/",
          "height": 474
        },
        "outputId": "3d2e60ca-2f25-4ed5-a450-b17dc6763e20"
      },
      "source": [
        "(\n",
        "    real_alexa\n",
        "    .select(\n",
        "        functions.explode(\n",
        "            functions.split('site', '\\.')\n",
        "        ).alias('token'),\n",
        "        functions.col('site')\n",
        "    )\n",
        "    .show()\n",
        ")"
      ],
      "execution_count": 15,
      "outputs": [
        {
          "output_type": "stream",
          "text": [
            "+---------+-------------+\n",
            "|    token|         site|\n",
            "+---------+-------------+\n",
            "|   google|   google.com|\n",
            "|      com|   google.com|\n",
            "|  youtube|  youtube.com|\n",
            "|      com|  youtube.com|\n",
            "| facebook| facebook.com|\n",
            "|      com| facebook.com|\n",
            "|    baidu|    baidu.com|\n",
            "|      com|    baidu.com|\n",
            "|wikipedia|wikipedia.org|\n",
            "|      org|wikipedia.org|\n",
            "|       qq|       qq.com|\n",
            "|      com|       qq.com|\n",
            "|   taobao|   taobao.com|\n",
            "|      com|   taobao.com|\n",
            "|    tmall|    tmall.com|\n",
            "|      com|    tmall.com|\n",
            "|   amazon|   amazon.com|\n",
            "|      com|   amazon.com|\n",
            "|    yahoo|    yahoo.com|\n",
            "|      com|    yahoo.com|\n",
            "+---------+-------------+\n",
            "only showing top 20 rows\n",
            "\n"
          ],
          "name": "stdout"
        }
      ]
    },
    {
      "cell_type": "code",
      "metadata": {
        "id": "sL3QJfZ1995h",
        "colab_type": "code",
        "colab": {
          "base_uri": "https://localhost:8080/",
          "height": 474
        },
        "outputId": "b10f77de-f067-4202-ed45-3edfa9e3a954"
      },
      "source": [
        "reverse_idx = (\n",
        "    real_alexa\n",
        "    .select(\n",
        "        functions.explode(\n",
        "            functions.split('site', '\\.')\n",
        "        ).alias('token'),\n",
        "        functions.col('site')\n",
        "    )\n",
        "    .groupBy('token')\n",
        "    .agg(functions.collect_set('site').alias('sites'))\n",
        ")\n",
        "\n",
        "reverse_idx.cache()\n",
        "\n",
        "reverse_idx.show()"
      ],
      "execution_count": 16,
      "outputs": [
        {
          "output_type": "stream",
          "text": [
            "+--------------+--------------------+\n",
            "|         token|               sites|\n",
            "+--------------+--------------------+\n",
            "|         03442|      [03442.com.ar]|\n",
            "|      0rechner|       [0rechner.de]|\n",
            "|      1000ordi|       [1000ordi.ch]|\n",
            "|      100fenlm|       [100fenlm.cn]|\n",
            "|  100x100banco|  [100x100banco.com]|\n",
            "|     103apteka|      [103apteka.kz]|\n",
            "|      10starhd|      [10starhd.com]|\n",
            "|     10toptest|[10toptest.de, 10...|\n",
            "|          11-2|           [11-2.ru]|\n",
            "|       111kent|       [111kent.com]|\n",
            "|         11888|          [11888.gr]|\n",
            "|        11math|        [11math.com]|\n",
            "|123freevectors|[123freevectors.com]|\n",
            "|  123movieshit|  [123movieshit.com]|\n",
            "|    123webimmo|    [123webimmo.com]|\n",
            "|  1404boylston|  [1404boylston.com]|\n",
            "|           14p|            [14p.ir]|\n",
            "|      1500days|      [1500days.com]|\n",
            "|        183mir|         [183mir.cn]|\n",
            "|       18gifts|       [18gifts.com]|\n",
            "+--------------+--------------------+\n",
            "only showing top 20 rows\n",
            "\n"
          ],
          "name": "stdout"
        }
      ]
    },
    {
      "cell_type": "code",
      "metadata": {
        "id": "vMm3ZuX2AiJH",
        "colab_type": "code",
        "colab": {
          "base_uri": "https://localhost:8080/",
          "height": 122
        },
        "outputId": "3386eb2e-811a-4e13-c137-c2ed16ac8b7a"
      },
      "source": [
        "reverse_idx.where(\"token = 'google'\").show()"
      ],
      "execution_count": 17,
      "outputs": [
        {
          "output_type": "stream",
          "text": [
            "+------+--------------------+\n",
            "| token|               sites|\n",
            "+------+--------------------+\n",
            "|google|[safety.google, d...|\n",
            "+------+--------------------+\n",
            "\n"
          ],
          "name": "stdout"
        }
      ]
    },
    {
      "cell_type": "code",
      "metadata": {
        "id": "2CxPpZsF_R8w",
        "colab_type": "code",
        "colab": {
          "base_uri": "https://localhost:8080/",
          "height": 474
        },
        "outputId": "c88f5b32-932f-4ff5-a5b5-434b9d69989a"
      },
      "source": [
        "(\n",
        "    real_alexa\n",
        "    .select(\n",
        "        functions.explode(\n",
        "            functions.split('site', '\\.')\n",
        "        ).alias('token'),\n",
        "        functions.col('site'),\n",
        "        functions.col('rank')\n",
        "    )\n",
        "    .groupBy('token')\n",
        "    .agg(\n",
        "        {\n",
        "            'site' : 'collect_set',\n",
        "            'rank' : 'max'\n",
        "        }\n",
        "    )\n",
        "    .show()\n",
        ")"
      ],
      "execution_count": 18,
      "outputs": [
        {
          "output_type": "stream",
          "text": [
            "+--------------+--------------------+---------+\n",
            "|         token|   collect_set(site)|max(rank)|\n",
            "+--------------+--------------------+---------+\n",
            "|         03442|      [03442.com.ar]|   457356|\n",
            "|      0rechner|       [0rechner.de]|   648664|\n",
            "|      1000ordi|       [1000ordi.ch]|   700985|\n",
            "|      100fenlm|       [100fenlm.cn]|   744445|\n",
            "|  100x100banco|  [100x100banco.com]|    35564|\n",
            "|     103apteka|      [103apteka.kz]|   436524|\n",
            "|      10starhd|      [10starhd.com]|   141444|\n",
            "|     10toptest|[10toptest.de, 10...|   325930|\n",
            "|          11-2|           [11-2.ru]|   480310|\n",
            "|       111kent|       [111kent.com]|   744464|\n",
            "|         11888|          [11888.gr]|    25317|\n",
            "|        11math|        [11math.com]|   152496|\n",
            "|123freevectors|[123freevectors.com]|    92372|\n",
            "|  123movieshit|  [123movieshit.com]|   177149|\n",
            "|    123webimmo|    [123webimmo.com]|   240937|\n",
            "|  1404boylston|  [1404boylston.com]|   907529|\n",
            "|           14p|            [14p.ir]|   612943|\n",
            "|      1500days|      [1500days.com]|   608679|\n",
            "|        183mir|         [183mir.cn]|   124757|\n",
            "|       18gifts|       [18gifts.com]|   167080|\n",
            "+--------------+--------------------+---------+\n",
            "only showing top 20 rows\n",
            "\n"
          ],
          "name": "stdout"
        }
      ]
    },
    {
      "cell_type": "code",
      "metadata": {
        "id": "UCSYhzoVEMvr",
        "colab_type": "code",
        "colab": {
          "base_uri": "https://localhost:8080/",
          "height": 199
        },
        "outputId": "41be63d6-bd4c-4bde-f9dd-b87c9e8fbb4c"
      },
      "source": [
        "real_alexa.toPandas().head()"
      ],
      "execution_count": 19,
      "outputs": [
        {
          "output_type": "execute_result",
          "data": {
            "text/html": [
              "<div>\n",
              "<style scoped>\n",
              "    .dataframe tbody tr th:only-of-type {\n",
              "        vertical-align: middle;\n",
              "    }\n",
              "\n",
              "    .dataframe tbody tr th {\n",
              "        vertical-align: top;\n",
              "    }\n",
              "\n",
              "    .dataframe thead th {\n",
              "        text-align: right;\n",
              "    }\n",
              "</style>\n",
              "<table border=\"1\" class=\"dataframe\">\n",
              "  <thead>\n",
              "    <tr style=\"text-align: right;\">\n",
              "      <th></th>\n",
              "      <th>rank</th>\n",
              "      <th>site</th>\n",
              "    </tr>\n",
              "  </thead>\n",
              "  <tbody>\n",
              "    <tr>\n",
              "      <th>0</th>\n",
              "      <td>1</td>\n",
              "      <td>google.com</td>\n",
              "    </tr>\n",
              "    <tr>\n",
              "      <th>1</th>\n",
              "      <td>2</td>\n",
              "      <td>youtube.com</td>\n",
              "    </tr>\n",
              "    <tr>\n",
              "      <th>2</th>\n",
              "      <td>3</td>\n",
              "      <td>facebook.com</td>\n",
              "    </tr>\n",
              "    <tr>\n",
              "      <th>3</th>\n",
              "      <td>4</td>\n",
              "      <td>baidu.com</td>\n",
              "    </tr>\n",
              "    <tr>\n",
              "      <th>4</th>\n",
              "      <td>5</td>\n",
              "      <td>wikipedia.org</td>\n",
              "    </tr>\n",
              "  </tbody>\n",
              "</table>\n",
              "</div>"
            ],
            "text/plain": [
              "   rank           site\n",
              "0     1     google.com\n",
              "1     2    youtube.com\n",
              "2     3   facebook.com\n",
              "3     4      baidu.com\n",
              "4     5  wikipedia.org"
            ]
          },
          "metadata": {
            "tags": []
          },
          "execution_count": 19
        }
      ]
    }
  ]
}
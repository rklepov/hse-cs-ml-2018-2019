{
 "cells": [
  {
   "cell_type": "markdown",
   "metadata": {},
   "source": [
    "## [*Занятие 4*](https://hackmd.io/@J_qqq0PjTGK1be0341GpYA/BJEYLlK-X#/ \"Spark Streaming - HackMD\")\n",
    "\n",
    "https://hackmd.io/@J_qqq0PjTGK1be0341GpYA/BJEYLlK-X#/\n",
    "\n",
    "### Spark Streaming: ML with Streaming\n",
    "\n",
    "---\n",
    "\n",
    "Продолжение ноутбука с [*Занятия 3*](https://github.com/rklepov/hse-cs-ml-2018-2019/blob/master/08-spark/03-ml/%D0%97%D0%B0%D0%BD%D1%8F%D1%82%D0%B8%D0%B5%20MLLib%2022.06.ipynb \"Занятие MLLib 22.06.ipynb\")"
   ]
  },
  {
   "cell_type": "code",
   "execution_count": 1,
   "metadata": {},
   "outputs": [],
   "source": [
    "from zipfile import ZipFile\n",
    "from io import BytesIO\n",
    "import urllib.request\n",
    "\n",
    "import ssl\n",
    "\n",
    "ctx = ssl.create_default_context()\n",
    "ctx.check_hostname = False\n",
    "ctx.verify_mode = ssl.CERT_NONE\n",
    "\n",
    "\n",
    "def download(url):\n",
    "    ZipFile.extractall(\n",
    "        ZipFile(\n",
    "            BytesIO(\n",
    "                urllib\n",
    "                .request\n",
    "                .urlopen(url,context=ctx)\n",
    "                .read()\n",
    "            )\n",
    "        ),\n",
    "    )\n"
   ]
  },
  {
   "cell_type": "code",
   "execution_count": 2,
   "metadata": {},
   "outputs": [],
   "source": [
    "download('https://archive.ics.uci.edu/ml/machine-learning-databases/00228/smsspamcollection.zip')"
   ]
  },
  {
   "cell_type": "code",
   "execution_count": 3,
   "metadata": {},
   "outputs": [
    {
     "name": "stdout",
     "output_type": "stream",
     "text": [
      "SMS Spam Collection v.1\r",
      "\r\n",
      "-------------------------\r",
      "\r\n",
      "\r",
      "\r\n",
      "1. DESCRIPTION\r",
      "\r\n",
      "--------------\r",
      "\r\n",
      "\r",
      "\r\n",
      "The SMS Spam Collection v.1 (hereafter the corpus) is a set of SMS tagged messages that have been collected for SMS Spam research. It contains one set of SMS messages in English of 5,574 messages, tagged acording being ham (legitimate) or spam. \r",
      "\r\n",
      "\r",
      "\r\n",
      "1.1. Compilation\r",
      "\r\n",
      "----------------\r",
      "\r\n",
      "\r",
      "\r\n",
      "This corpus has been collected from free or free for research sources at the Web:\r",
      "\r\n",
      "\r",
      "\r\n",
      "- A collection of between 425 SMS spam messages extracted manually from the Grumbletext Web site. This is a UK forum in which cell phone users make public claims about SMS spam messages, most of them without reporting the very spam message received. The identification of the text of spam messages in the claims is a very hard and time-consuming task, and it involved carefully scanning hundreds of web pages. The Grumbletext Web site is: http://www.grumbletext.co.uk/\r",
      "\r\n",
      "- A list of 450 SMS ham messages collected from Caroline Tag's PhD Theses available at http://etheses.bham.ac.uk/253/1/Tagg09PhD.pdf\r",
      "\r\n",
      "- A subset of 3,375 SMS ham messages of the NUS SMS Corpus (NSC), which is a corpus of about 10,000 legitimate messages collected for research at the Department of Computer Science at the National University of Singapore. The messages largely originate from Singaporeans and mostly from students attending the University. These messages were collected from volunteers who were made aware that their contributions were going to be made publicly available. The NUS SMS Corpus is avalaible at: http://www.comp.nus.edu.sg/~rpnlpir/downloads/corpora/smsCorpus/\r",
      "\r\n",
      "- The amount of 1,002 SMS ham messages and 322 spam messages extracted from the SMS Spam Corpus v.0.1 Big created by Jos� Mar�a G�mez Hidalgo and public available at: http://www.esp.uem.es/jmgomez/smsspamcorpus/\r",
      "\r\n",
      "\r",
      "\r\n",
      "\r",
      "\r\n",
      "1.2. Statistics\r",
      "\r\n",
      "---------------\r",
      "\r\n",
      "\r",
      "\r\n",
      "There is one collection:\r",
      "\r\n",
      "\r",
      "\r\n",
      "- The SMS Spam Collection v.1 (text file: smsspamcollection) has a total of 4,827 SMS legitimate messages (86.6%) and a total of 747 (13.4%) spam messages.\r",
      "\r\n",
      "\r",
      "\r\n",
      "\r",
      "\r\n",
      "1.3. Format\r",
      "\r\n",
      "-----------\r",
      "\r\n",
      "\r",
      "\r\n",
      "The files contain one message per line. Each line is composed by two columns: one with label (ham or spam) and other with the raw text. Here are some examples:\r",
      "\r\n",
      "\r",
      "\r\n",
      "ham   What you doing?how are you?\r",
      "\r\n",
      "ham   Ok lar... Joking wif u oni...\r",
      "\r\n",
      "ham   dun say so early hor... U c already then say...\r",
      "\r\n",
      "ham   MY NO. IN LUTON 0125698789 RING ME IF UR AROUND! H*\r",
      "\r\n",
      "ham   Siva is in hostel aha:-.\r",
      "\r\n",
      "ham   Cos i was out shopping wif darren jus now n i called him 2 ask wat present he wan lor. Then he started guessing who i was wif n he finally guessed darren lor.\r",
      "\r\n",
      "spam   FreeMsg: Txt: CALL to No: 86888 & claim your reward of 3 hours talk time to use from your phone now! ubscribe6GBP/ mnth inc 3hrs 16 stop?txtStop\r",
      "\r\n",
      "spam   Sunshine Quiz! Win a super Sony DVD recorder if you canname the capital of Australia? Text MQUIZ to 82277. B\r",
      "\r\n",
      "spam   URGENT! Your Mobile No 07808726822 was awarded a L2,000 Bonus Caller Prize on 02/09/03! This is our 2nd attempt to contact YOU! Call 0871-872-9758 BOX95QU\r",
      "\r\n",
      "\r",
      "\r\n",
      "Note: messages are not chronologically sorted.\r",
      "\r\n",
      "\r",
      "\r\n",
      "\r",
      "\r\n",
      "2. USAGE\r",
      "\r\n",
      "--------\r",
      "\r\n",
      "\r",
      "\r\n",
      "We offer a comprehensive study of this corpus in the following paper that is under review. This work presents a number of statistics, studies and baseline results for several machine learning methods.\r",
      "\r\n",
      "\r",
      "\r\n",
      "[1] Almeida, T.A., G�mez Hidalgo, J.M., Yamakami, A. Contributions to the study of SMS Spam Filtering: New Collection and Results. Proceedings of the 2011 ACM Symposium on Document Engineering (ACM DOCENG'11), Mountain View, CA, USA, 2011. (Under review)\r",
      "\r\n",
      "\r",
      "\r\n",
      "\r",
      "\r\n",
      "3. ABOUT\r",
      "\r\n",
      "--------\r",
      "\r\n",
      "\r",
      "\r\n",
      "The corpus has been collected by Tiago Agostinho de Almeida (http://www.dt.fee.unicamp.br/~tiago) and Jos� Mar�a G�mez Hidalgo (http://www.esp.uem.es/jmgomez).\r",
      "\r\n",
      "\r",
      "\r\n",
      "We would like to thank Dr. Min-Yen Kan (http://www.comp.nus.edu.sg/~kanmy/) and his team for making the NUS SMS Corpus available. See: http://www.comp.nus.edu.sg/~rpnlpir/downloads/corpora/smsCorpus/. He is currently collecting a bigger SMS corpus at: http://wing.comp.nus.edu.sg:8080/SMSCorpus/\r",
      "\r\n",
      "\r",
      "\r\n",
      "4. LICENSE/DISCLAIMER\r",
      "\r\n",
      "---------------------\r",
      "\r\n",
      "\r",
      "\r\n",
      "We would appreciate if:\r",
      "\r\n",
      "\r",
      "\r\n",
      "- In case you find this corpus useful, please make a reference to previous paper and the web page: http://www.dt.fee.unicamp.br/~tiago/smsspamcollection/ in your papers, research, etc.\r",
      "\r\n",
      "- Send us a message to tiago@dt.fee.unicamp.br in case you make use of the corpus.\r",
      "\r\n",
      "\r",
      "\r\n",
      "The SMS Spam Collection v.1 is provided for free and with no limitations excepting:\r",
      "\r\n",
      "\r",
      "\r\n",
      "1. Tiago Agostinho de Almeida and Jos� Mar�a G�mez Hidalgo hold the copyrigth (c) for the SMS Spam Collection v.1.\r",
      "\r\n",
      "\r",
      "\r\n",
      "2. No Warranty/Use At Your Risk. THE CORPUS IS MADE AT NO CHARGE. ACCORDINGLY, THE CORPUS IS PROVIDED `AS IS,' WITHOUT WARRANTY OF ANY KIND, INCLUDING WITHOUT LIMITATION THE WARRANTIES THAT THEY ARE MERCHANTABLE, FIT FOR A PARTICULAR PURPOSE OR NON-INFRINGING. YOU ARE SOLELY RESPONSIBLE FOR YOUR USE, DISTRIBUTION, MODIFICATION, REPRODUCTION AND PUBLICATION OF THE CORPUS AND ANY DERIVATIVE WORKS THEREOF BY YOU AND ANY OF YOUR SUBLICENSEES (COLLECTIVELY, `YOUR CORPUS USE'). THE ENTIRE RISK AS TO YOUR CORPUS USE IS BORNE BY YOU. YOU AGREE TO INDEMNIFY AND HOLD THE COPYRIGHT HOLDERS, AND THEIR AFFILIATES HARMLESS FROM ANY CLAIMS ARISING FROM OR RELATING TO YOUR CORPUS USE.\r",
      "\r\n",
      "\r",
      "\r\n",
      "3. Limitation of Liability. IN NO EVENT SHALL THE COPYRIGHT HOLDERS OR THEIR AFFILIATES, OR THE CORPUS CONTRIBUTING EDITORS, BE LIABLE FOR ANY INDIRECT, SPECIAL, INCIDENTAL OR CONSEQUENTIAL DAMAGES, INCLUDING, WITHOUT LIMITATION, DAMAGES FOR LOSS OF GOODWILL OR ANY AND ALL OTHER COMMERCIAL DAMAGES OR LOSSES, EVEN IF ADVISED OF THE POSSIBILITY THEREOF, AND REGARDLESS OF WHETHER ANY CLAIM IS BASED UPON ANY CONTRACT, TORT OR OTHER LEGAL OR EQUITABLE THEORY, RELATING OR ARISING FROM THE CORPUS, YOUR CORPUS USE OR THIS LICENSE AGREEMENT.\r",
      "\r\n"
     ]
    }
   ],
   "source": [
    "!cat readme"
   ]
  },
  {
   "cell_type": "code",
   "execution_count": 4,
   "metadata": {},
   "outputs": [],
   "source": [
    "import findspark\n",
    "\n",
    "findspark.init()\n",
    "import pyspark"
   ]
  },
  {
   "cell_type": "code",
   "execution_count": 5,
   "metadata": {},
   "outputs": [],
   "source": [
    "spark = pyspark.sql.SparkSession.builder.getOrCreate()"
   ]
  },
  {
   "cell_type": "code",
   "execution_count": 6,
   "metadata": {},
   "outputs": [],
   "source": [
    "sms = spark.read.option(\"sep\", \"\\t\").csv(\"SMSSpamCollection\")"
   ]
  },
  {
   "cell_type": "code",
   "execution_count": 7,
   "metadata": {},
   "outputs": [
    {
     "name": "stdout",
     "output_type": "stream",
     "text": [
      "+-----+--------------------+\n",
      "|label|                text|\n",
      "+-----+--------------------+\n",
      "|  ham|Go until jurong p...|\n",
      "|  ham|Ok lar... Joking ...|\n",
      "| spam|Free entry in 2 a...|\n",
      "|  ham|U dun say so earl...|\n",
      "|  ham|Nah I don't think...|\n",
      "| spam|FreeMsg Hey there...|\n",
      "|  ham|Even my brother i...|\n",
      "|  ham|As per your reque...|\n",
      "| spam|WINNER!! As a val...|\n",
      "| spam|Had your mobile 1...|\n",
      "|  ham|I'm gonna be home...|\n",
      "| spam|SIX chances to wi...|\n",
      "| spam|URGENT! You have ...|\n",
      "|  ham|I've been searchi...|\n",
      "|  ham|I HAVE A DATE ON ...|\n",
      "| spam|XXXMobileMovieClu...|\n",
      "|  ham|Oh k...i'm watchi...|\n",
      "|  ham|Eh u remember how...|\n",
      "|  ham|Fine if thats th...|\n",
      "| spam|England v Macedon...|\n",
      "+-----+--------------------+\n",
      "only showing top 20 rows\n",
      "\n"
     ]
    }
   ],
   "source": [
    "src = sms.withColumnRenamed(\"_c0\", \"label\").withColumnRenamed(\"_c1\", \"text\")\n",
    "src.show()"
   ]
  },
  {
   "cell_type": "code",
   "execution_count": 8,
   "metadata": {},
   "outputs": [
    {
     "name": "stdout",
     "output_type": "stream",
     "text": [
      "+-----+-----+\n",
      "|label|count|\n",
      "+-----+-----+\n",
      "|  ham| 4827|\n",
      "| spam|  747|\n",
      "+-----+-----+\n",
      "\n"
     ]
    }
   ],
   "source": [
    "src.groupBy(\"label\").count().show()"
   ]
  },
  {
   "cell_type": "code",
   "execution_count": 9,
   "metadata": {},
   "outputs": [],
   "source": [
    "from pyspark.ml import feature"
   ]
  },
  {
   "cell_type": "code",
   "execution_count": 10,
   "metadata": {},
   "outputs": [
    {
     "name": "stdout",
     "output_type": "stream",
     "text": [
      "+-----+--------------------+--------------------+\n",
      "|label|                text|              tokens|\n",
      "+-----+--------------------+--------------------+\n",
      "|  ham|Go until jurong p...|[go, until, juron...|\n",
      "|  ham|Ok lar... Joking ...|[ok, lar..., joki...|\n",
      "| spam|Free entry in 2 a...|[free, entry, in,...|\n",
      "|  ham|U dun say so earl...|[u, dun, say, so,...|\n",
      "|  ham|Nah I don't think...|[nah, i, don't, t...|\n",
      "| spam|FreeMsg Hey there...|[freemsg, hey, th...|\n",
      "|  ham|Even my brother i...|[even, my, brothe...|\n",
      "|  ham|As per your reque...|[as, per, your, r...|\n",
      "| spam|WINNER!! As a val...|[winner!!, as, a,...|\n",
      "| spam|Had your mobile 1...|[had, your, mobil...|\n",
      "|  ham|I'm gonna be home...|[i'm, gonna, be, ...|\n",
      "| spam|SIX chances to wi...|[six, chances, to...|\n",
      "| spam|URGENT! You have ...|[urgent!, you, ha...|\n",
      "|  ham|I've been searchi...|[i've, been, sear...|\n",
      "|  ham|I HAVE A DATE ON ...|[i, have, a, date...|\n",
      "| spam|XXXMobileMovieClu...|[xxxmobilemoviecl...|\n",
      "|  ham|Oh k...i'm watchi...|[oh, k...i'm, wat...|\n",
      "|  ham|Eh u remember how...|[eh, u, remember,...|\n",
      "|  ham|Fine if thats th...|[fine, if, thats...|\n",
      "| spam|England v Macedon...|[england, v, mace...|\n",
      "+-----+--------------------+--------------------+\n",
      "only showing top 20 rows\n",
      "\n"
     ]
    }
   ],
   "source": [
    "feature.Tokenizer(inputCol=\"text\", outputCol=\"tokens\").transform(src).show()"
   ]
  },
  {
   "cell_type": "code",
   "execution_count": 11,
   "metadata": {},
   "outputs": [],
   "source": [
    "from pyspark.ml import classification"
   ]
  },
  {
   "cell_type": "code",
   "execution_count": 12,
   "metadata": {},
   "outputs": [],
   "source": [
    "from pyspark.ml import pipeline\n",
    "\n",
    "main = pipeline.Pipeline(\n",
    "    stages=(\n",
    "        feature.RegexTokenizer(\n",
    "            minTokenLength=3,\n",
    "            inputCol=\"text\", \n",
    "            pattern=\"\\s+\", \n",
    "            outputCol=\"tokens\",\n",
    "        ),\n",
    "        feature.CountVectorizer(\n",
    "            inputCol=\"tokens\", \n",
    "            outputCol=\"v\",\n",
    "            minDF=5,\n",
    "            maxDF=900\n",
    "        ),\n",
    "        feature.StringIndexer(inputCol=\"label\", outputCol=\"y\"),\n",
    "        classification.RandomForestClassifier(\n",
    "            seed=123,\n",
    "            labelCol=\"y\",\n",
    "            featuresCol=\"v\",\n",
    "        )\n",
    "    )\n",
    ")\n",
    "\n",
    "\n"
   ]
  },
  {
   "cell_type": "code",
   "execution_count": 13,
   "metadata": {},
   "outputs": [
    {
     "name": "stdout",
     "output_type": "stream",
     "text": [
      "+---+--------------------+--------------------+----------+\n",
      "|  y|       rawPrediction|         probability|prediction|\n",
      "+---+--------------------+--------------------+----------+\n",
      "|0.0|[17.4577708451969...|[0.87288854225984...|       0.0|\n",
      "|0.0|[17.9915243908026...|[0.89957621954013...|       0.0|\n",
      "|0.0|[17.9915243908026...|[0.89957621954013...|       0.0|\n",
      "|0.0|[17.9915243908026...|[0.89957621954013...|       0.0|\n",
      "|0.0|[17.9915243908026...|[0.89957621954013...|       0.0|\n",
      "|0.0|[17.6961900509745...|[0.88480950254872...|       0.0|\n",
      "|0.0|[17.9915243908026...|[0.89957621954013...|       0.0|\n",
      "|0.0|[17.9915243908026...|[0.89957621954013...|       0.0|\n",
      "|0.0|[17.9915243908026...|[0.89957621954013...|       0.0|\n",
      "|0.0|[17.9915243908026...|[0.89957621954013...|       0.0|\n",
      "|0.0|[17.9915243908026...|[0.89957621954013...|       0.0|\n",
      "|0.0|[17.9915243908026...|[0.89957621954013...|       0.0|\n",
      "|0.0|[17.9915243908026...|[0.89957621954013...|       0.0|\n",
      "|0.0|[17.9915243908026...|[0.89957621954013...|       0.0|\n",
      "|0.0|[17.9915243908026...|[0.89957621954013...|       0.0|\n",
      "|0.0|[17.9915243908026...|[0.89957621954013...|       0.0|\n",
      "|0.0|[17.5336076016230...|[0.87668038008115...|       0.0|\n",
      "|0.0|[17.9915243908026...|[0.89957621954013...|       0.0|\n",
      "|0.0|[16.3487998720810...|[0.81743999360405...|       0.0|\n",
      "|0.0|[17.9915243908026...|[0.89957621954013...|       0.0|\n",
      "+---+--------------------+--------------------+----------+\n",
      "only showing top 20 rows\n",
      "\n"
     ]
    }
   ],
   "source": [
    "train, test = src.randomSplit(weights=(70., 30.), seed=123)\n",
    "main_model = main.fit(train)\n",
    "\n",
    "results = (\n",
    "    main_model\n",
    "    .transform(test)\n",
    "    .select(\"y\", \"rawPrediction\", \"probability\", \"prediction\")\n",
    "    .cache()\n",
    ")\n",
    "\n",
    "results.show()"
   ]
  },
  {
   "cell_type": "code",
   "execution_count": 14,
   "metadata": {},
   "outputs": [
    {
     "name": "stdout",
     "output_type": "stream",
     "text": [
      "+---+--------------------+--------------------+----------+\n",
      "|  y|       rawPrediction|         probability|prediction|\n",
      "+---+--------------------+--------------------+----------+\n",
      "|1.0|[6.02774777924674...|[0.30138738896233...|       1.0|\n",
      "|1.0|[7.05938187799983...|[0.35296909389999...|       1.0|\n",
      "|1.0|[7.06069250555023...|[0.35303462527751...|       1.0|\n",
      "|1.0|[7.28622884676247...|[0.36431144233812...|       1.0|\n",
      "|1.0|[7.54685095248554...|[0.37734254762427...|       1.0|\n",
      "|1.0|[8.41448111855782...|[0.42072405592789...|       1.0|\n",
      "|1.0|[8.46720221661500...|[0.42336011083075...|       1.0|\n",
      "|1.0|[8.63567962692463...|[0.43178398134623...|       1.0|\n",
      "|1.0|[8.67324089890456...|[0.43366204494522...|       1.0|\n",
      "|1.0|[9.30519987922656...|[0.46525999396132...|       1.0|\n",
      "|1.0|[9.36938491669584...|[0.46846924583479...|       1.0|\n",
      "|1.0|[9.36938491669584...|[0.46846924583479...|       1.0|\n",
      "|1.0|[9.36938491669584...|[0.46846924583479...|       1.0|\n",
      "|1.0|[9.54773915954144...|[0.47738695797707...|       1.0|\n",
      "|1.0|[9.56068140581982...|[0.47803407029099...|       1.0|\n",
      "|1.0|[9.57849396427448...|[0.47892469821372...|       1.0|\n",
      "|1.0|[9.93301008369250...|[0.49665050418462...|       1.0|\n",
      "|1.0|[10.0861366353329...|[0.50430683176664...|       0.0|\n",
      "|1.0|[10.1981154105617...|[0.50990577052808...|       0.0|\n",
      "|1.0|[10.1981154105617...|[0.50990577052808...|       0.0|\n",
      "+---+--------------------+--------------------+----------+\n",
      "only showing top 20 rows\n",
      "\n"
     ]
    }
   ],
   "source": [
    "from pyspark.sql import functions\n",
    "\n",
    "results.orderBy(\"probability\").show()"
   ]
  },
  {
   "cell_type": "code",
   "execution_count": 15,
   "metadata": {},
   "outputs": [
    {
     "name": "stdout",
     "output_type": "stream",
     "text": [
      "+---+--------------------+--------------------+----------+\n",
      "|  y|       rawPrediction|         probability|prediction|\n",
      "+---+--------------------+--------------------+----------+\n",
      "|1.0|[18.0893416907218...|[0.90446708453609...|       0.0|\n",
      "|0.0|[18.0893416907218...|[0.90446708453609...|       0.0|\n",
      "|1.0|[18.0893416907218...|[0.90446708453609...|       0.0|\n",
      "|0.0|[18.0893416907218...|[0.90446708453609...|       0.0|\n",
      "|1.0|[18.0893416907218...|[0.90446708453609...|       0.0|\n",
      "|0.0|[17.9915243908026...|[0.89957621954013...|       0.0|\n",
      "|0.0|[17.9915243908026...|[0.89957621954013...|       0.0|\n",
      "|0.0|[17.9915243908026...|[0.89957621954013...|       0.0|\n",
      "|0.0|[17.9915243908026...|[0.89957621954013...|       0.0|\n",
      "|0.0|[17.9915243908026...|[0.89957621954013...|       0.0|\n",
      "|0.0|[17.9915243908026...|[0.89957621954013...|       0.0|\n",
      "|0.0|[17.9915243908026...|[0.89957621954013...|       0.0|\n",
      "|0.0|[17.9915243908026...|[0.89957621954013...|       0.0|\n",
      "|0.0|[17.9915243908026...|[0.89957621954013...|       0.0|\n",
      "|0.0|[17.9915243908026...|[0.89957621954013...|       0.0|\n",
      "|0.0|[17.9915243908026...|[0.89957621954013...|       0.0|\n",
      "|0.0|[17.9915243908026...|[0.89957621954013...|       0.0|\n",
      "|0.0|[17.9915243908026...|[0.89957621954013...|       0.0|\n",
      "|0.0|[17.9915243908026...|[0.89957621954013...|       0.0|\n",
      "|0.0|[17.9915243908026...|[0.89957621954013...|       0.0|\n",
      "+---+--------------------+--------------------+----------+\n",
      "only showing top 20 rows\n",
      "\n"
     ]
    }
   ],
   "source": [
    "results.orderBy(functions.desc(\"probability\")).show()"
   ]
  },
  {
   "cell_type": "code",
   "execution_count": 16,
   "metadata": {},
   "outputs": [
    {
     "data": {
      "text/plain": [
       "0.9314047828132821"
      ]
     },
     "execution_count": 16,
     "metadata": {},
     "output_type": "execute_result"
    }
   ],
   "source": [
    "from pyspark.ml import evaluation\n",
    "\n",
    "evaluation.BinaryClassificationEvaluator(labelCol=\"y\").evaluate(results)"
   ]
  },
  {
   "cell_type": "code",
   "execution_count": 17,
   "metadata": {},
   "outputs": [],
   "source": [
    "from pyspark.ml import pipeline\n",
    "\n",
    "lsh_pipe = pipeline.Pipeline(\n",
    "    stages=(\n",
    "        feature.Tokenizer(\n",
    "            inputCol=\"text\",  \n",
    "            outputCol=\"tokens\",\n",
    "        ),\n",
    "        feature.CountVectorizer(\n",
    "            binary=True,\n",
    "            inputCol=\"tokens\", \n",
    "            outputCol=\"v\",\n",
    "        ),\n",
    "    )\n",
    ")\n"
   ]
  },
  {
   "cell_type": "code",
   "execution_count": 18,
   "metadata": {},
   "outputs": [
    {
     "name": "stdout",
     "output_type": "stream",
     "text": [
      "+-----+--------------------+--------------------+--------------------+\n",
      "|label|                text|              tokens|                   v|\n",
      "+-----+--------------------+--------------------+--------------------+\n",
      "|  ham|Go until jurong p...|[go, until, juron...|(13587,[8,42,52,6...|\n",
      "|  ham|Ok lar... Joking ...|[ok, lar..., joki...|(13587,[5,75,411,...|\n",
      "| spam|Free entry in 2 a...|[free, entry, in,...|(13587,[0,3,8,20,...|\n",
      "|  ham|U dun say so earl...|[u, dun, say, so,...|(13587,[5,22,60,1...|\n",
      "|  ham|Nah I don't think...|[nah, i, don't, t...|(13587,[0,1,66,87...|\n",
      "| spam|FreeMsg Hey there...|[freemsg, hey, th...|(13587,[0,2,6,10,...|\n",
      "|  ham|Even my brother i...|[even, my, brothe...|(13587,[0,7,9,13,...|\n",
      "|  ham|As per your reque...|[as, per, your, r...|(13587,[0,10,11,4...|\n",
      "| spam|WINNER!! As a val...|[winner!!, as, a,...|(13587,[0,2,3,14,...|\n",
      "| spam|Had your mobile 1...|[had, your, mobil...|(13587,[0,4,5,10,...|\n",
      "|  ham|I'm gonna be home...|[i'm, gonna, be, ...|(13587,[0,1,6,32,...|\n",
      "| spam|SIX chances to wi...|[six, chances, to...|(13587,[0,6,40,46...|\n",
      "| spam|URGENT! You have ...|[urgent!, you, ha...|(13587,[0,2,3,4,8...|\n",
      "|  ham|I've been searchi...|[i've, been, sear...|(13587,[0,1,2,3,4...|\n",
      "|  ham|I HAVE A DATE ON ...|[i, have, a, date...|(13587,[1,3,14,16...|\n",
      "| spam|XXXMobileMovieClu...|[xxxmobilemoviecl...|(13587,[0,4,8,11,...|\n",
      "|  ham|Oh k...i'm watchi...|[oh, k...i'm, wat...|(13587,[158,314,3...|\n",
      "|  ham|Eh u remember how...|[eh, u, remember,...|(13587,[1,5,20,47...|\n",
      "|  ham|Fine if thats th...|[fine, if, thats...|(13587,[4,5,29,59...|\n",
      "| spam|England v Macedon...|[england, v, mace...|(13587,[0,4,28,82...|\n",
      "+-----+--------------------+--------------------+--------------------+\n",
      "only showing top 20 rows\n",
      "\n"
     ]
    }
   ],
   "source": [
    "lsh_prep_model = lsh_pipe.fit(src)\n",
    "\n",
    "lsh_src = lsh_prep_model.transform(src)\n",
    "lsh_src.show()"
   ]
  },
  {
   "cell_type": "code",
   "execution_count": 19,
   "metadata": {},
   "outputs": [],
   "source": [
    "mh = feature.MinHashLSH(inputCol=\"v\", outputCol=\"hash\")\n",
    "mh_model = mh.fit(lsh_src)"
   ]
  },
  {
   "cell_type": "code",
   "execution_count": 20,
   "metadata": {},
   "outputs": [],
   "source": [
    "similar = mh_model.approxSimilarityJoin(lsh_src, lsh_src, 0.7)"
   ]
  },
  {
   "cell_type": "code",
   "execution_count": 21,
   "metadata": {},
   "outputs": [
    {
     "name": "stdout",
     "output_type": "stream",
     "text": [
      "+--------------------+--------------------+------------------+\n",
      "|            datasetA|            datasetB|           distCol|\n",
      "+--------------------+--------------------+------------------+\n",
      "|[ham, Ok lar i do...|[ham, Ok lar i do...|               0.0|\n",
      "|[ham, Hello my bo...|[ham, Hello my bo...|               0.0|\n",
      "|[ham, Huh so late...|[ham, Huh so late...|               0.0|\n",
      "|[ham, Was actuall...|[ham, Was actuall...|               0.0|\n",
      "|[ham, Ill call u ...|[ham, Ill call u ...|               0.0|\n",
      "|[ham, Save yourse...|[ham, Save yourse...|               0.0|\n",
      "|[ham, Ok i msg u ...|[ham, Ok i msg u ...|               0.0|\n",
      "|[spam, Do you wan...|[spam, Do you wan...|0.6578947368421053|\n",
      "|[ham, Sir, I have...|[ham, Sir, I have...|               0.0|\n",
      "|[ham, Hope you ar...|[ham, Hope you ar...|               0.0|\n",
      "|[ham, I'm in offi...|[ham, K.i will se...|0.6428571428571428|\n",
      "|[ham, Dear how yo...|[ham, how tall ar...|             0.625|\n",
      "|[ham, Can i get y...|[ham, Can i get y...|               0.0|\n",
      "|[ham, You want to...|[ham, Hey do you ...|             0.625|\n",
      "|[ham, Thankyou so...|[ham, Thankyou so...|               0.0|\n",
      "|[ham, Indians r p...|[ham, Indians r p...|               0.0|\n",
      "|[ham, Mm i am on ...|[ham, I am on the...|               0.4|\n",
      "|[ham, Ok. I only ...|[ham, Ok. I only ...|               0.0|\n",
      "|[ham, Am in gobi ...|[ham, Am in gobi ...|               0.0|\n",
      "|[ham, Set a place...|[ham, Set a place...|               0.0|\n",
      "+--------------------+--------------------+------------------+\n",
      "only showing top 20 rows\n",
      "\n"
     ]
    }
   ],
   "source": [
    "similar.show()"
   ]
  },
  {
   "cell_type": "markdown",
   "metadata": {},
   "source": [
    "принтанем найденные похожие (но неодинаковые) тексты"
   ]
  },
  {
   "cell_type": "code",
   "execution_count": 22,
   "metadata": {},
   "outputs": [
    {
     "name": "stdout",
     "output_type": "stream",
     "text": [
      "Do you want 750 anytime any network mins 150 text and a NEW VIDEO phone for only five pounds per week call 08002888812 or reply for delivery tomorrow <= похож на => Do you want a new Video handset? 750 any time any network mins? UNLIMITED TEXT? Camcorder? Reply or Call now 08000930705 for del Sat AM\n",
      "===========\n",
      "I'm in office now . I will call you  &lt;#&gt;  min:) <= похож на => K.i will send in  &lt;#&gt;  min:)\n",
      "===========\n",
      "Dear how you. Are you ok? <= похож на => how tall are you princess?\n",
      "===========\n",
      "You want to go?  <= похож на => Hey do you want anything to buy:)\n",
      "===========\n",
      "Mm i am on the way to railway <= похож на => I am on the way to ur home\n",
      "===========\n",
      "You are being contacted by our dating service by someone you know! To find out who it is, call from a land line 09050000928. PoBox45W2TG150P <= похож на => You are being contacted by our dating service by someone you know! To find out who it is, call from a land line 09050000878. PoBox45W2TG150P\n",
      "===========\n",
      "Call him and say you not coming today ok and tell them not to fool me like this ok <= похож на => You tell what happen dont behave like this to me. Ok no need to say\n",
      "===========\n",
      "Ok i am on the way to home hi hi <= похож на => I am on the way to ur home\n",
      "===========\n",
      "<Forwarded from 448712404000>Please CALL 08712404000 immediately as there is an urgent message waiting for you. <= похож на => Please CALL 08712402779 immediately as there is an urgent message waiting for you\n",
      "===========\n",
      "Also are you bringing galileo or dobby <= похож на => Are you driving or training?\n",
      "===========\n",
      "Ok i shall talk to him <= похож на => I asked you to call him now ok\n",
      "===========\n",
      "URGENT! We are trying to contact U. Todays draw shows that you have won a £800 prize GUARANTEED. Call 09050003091 from land line. Claim C52. Valid12hrs only <= похож на => URGENT! We are trying to contact U. Todays draw shows that you have won a £800 prize GUARANTEED. Call 09050001295 from land line. Claim A21. Valid 12hrs only\n",
      "===========\n",
      "I will see in half an hour <= похож на => Ok then i will come to ur home after half an hour\n",
      "===========\n",
      "FREE for 1st week! No1 Nokia tone 4 ur mob every week just txt NOKIA to 87077 Get txting and tell ur mates. zed POBox 36504 W45WQ norm150p/tone 16+ <= похож на => No. 1 Nokia Tone 4 ur mob every week! Just txt NOK to 87021. 1st Tone FREE ! so get txtin now and tell ur friends. 150p/tone. 16 reply HL 4info\n",
      "===========\n",
      "Babe ! How goes that day ? What are you doing ? Where are you ? I sip my cappuccino and think of you, my love ... I send a kiss to you from across the sea <= похож на => Good afternoon sunshine! How dawns that day ? Are we refreshed and happy to be alive? Do we breathe in the air and smile ? I think of you, my love ... As always\n",
      "===========\n",
      "Please CALL 08712402902 immediately as there is an urgent message waiting for you. <= похож на => <Forwarded from 448712404000>Please CALL 08712404000 immediately as there is an urgent message waiting for you.\n",
      "===========\n",
      "U are subscribed to the best Mobile Content Service in the UK for £3 per ten days until you send STOP to 83435. Helpline 08706091795. <= похож на => U are subscribed to the best Mobile Content Service in the UK for £3 per 10 days until you send STOP to 82324. Helpline 08706091795\n",
      "===========\n",
      "Wat r u doing now? <= похож на => Then wat r u doing now? Busy wif work?\n",
      "===========\n",
      "You are a winner you have been specially selected to receive £1000 cash or a £2000 award. Speak to a live operator to claim call 087147123779am-7pm. Cost 10p <= похож на => You are a winner U have been specially selected 2 receive £1000 cash or a 4* holiday (flights inc) speak to a live operator 2 claim 0871277810810\n",
      "===========\n",
      "Ok no prob... <= похож на => Ok\n",
      "===========\n",
      "Phony £350 award - Todays Voda numbers ending XXXX are selected to receive a £350 award. If you have a match please call 08712300220 quoting claim code 3100 standard rates app <= похож на => Todays Vodafone numbers ending with 4882 are selected to a receive a £350 award. If your number matches call 09064019014 to receive your £350 award.\n",
      "===========\n",
      "Oops, I'll let you know when my roommate's done <= похож на => I'll let you know when it kicks in\n",
      "===========\n",
      "Congrats! 1 year special cinema pass for 2 is yours. call 09061209465 now! C Suprman V, Matrix3, StarWars3, etc all 4 FREE! bx420-ip4-5we. 150pm. Dont miss out!  <= похож на => Congrats! 1 year special cinema pass for 2 is yours. call 09061209465 now! C Suprman V, Matrix3, StarWars3, etc all 4 FREE! bx420-ip4-5we. 150pm. Dont miss out!\n",
      "===========\n",
      "Urgent! call 09061749602 from Landline. Your complimentary 4* Tenerife Holiday or £10,000 cash await collection SAE T&Cs BOX 528 HP20 1YF 150ppm 18+ <= похож на => Urgent! Please call 09066612661 from your landline, your complimentary 4* Lux Costa Del Sol holiday or £1000 CASH await collection. ppm 150 SAE T&Cs James 28, EH74RR\n",
      "===========\n",
      "Happy new year to u too! <= похож на => HAPPY NEW YEAR MY NO.1 MAN\n",
      "===========\n",
      "PRIVATE! Your 2003 Account Statement for shows 800 un-redeemed S. I. M. points. Call 08719899230 Identifier Code: 41685 Expires 07/11/04 <= похож на => PRIVATE! Your 2003 Account Statement for <fone no> shows 800 un-redeemed S. I. M. points. Call 08715203656 Identifier Code: 42049 Expires 26/10/04\n",
      "===========\n",
      "I went to ur hon lab but no one is there. <= похож на => I attended but nothing is there.\n",
      "===========\n",
      "44 7732584351, Do you want a New Nokia 3510i colour phone DeliveredTomorrow? With 300 free minutes to any mobile + 100 free texts + Free Camcorder reply or call 08000930705. <= похож на => Do you want a New Nokia 3510i colour phone DeliveredTomorrow? With 300 free minutes to any mobile + 100 free texts + Free Camcorder reply or call 08000930705.\n",
      "===========\n",
      "We tried to contact you re your reply to our offer of a Video Handset? 750 anytime networks mins? UNLIMITED TEXT? Camcorder? Reply or call 08000930705 NOW <= похож на => We tried to contact you re your reply to our offer of a Video Handset? 750 anytime any networks mins? UNLIMITED TEXT? Camcorder? Reply or call 08000930705 NOW\n",
      "===========\n",
      "No problem. How are you doing? <= похож на => Dear how you. Are you ok?\n",
      "===========\n",
      "Filthy stories and GIRLS waiting for your <= похож на => Sir, Waiting for your mail.\n",
      "===========\n",
      "I will take care of financial problem.i will help:) <= похож на => Daddy will take good care of you :)\n",
      "===========\n",
      "Someone U know has asked our dating service 2 contact you! Cant Guess who? CALL 09058097189 NOW all will be revealed. POBox 6, LS15HB 150p  <= похож на => Someone U know has asked our dating service 2 contact you! Cant Guess who? CALL 09058091854 NOW all will be revealed. PO BOX385 M6 6WU\n",
      "===========\n",
      "Sorry pa, i dont knw who ru pa? <= похож на => I dont knw pa, i just drink milk..\n",
      "===========\n",
      "Do you want a New Nokia 3510i Colour Phone Delivered Tomorrow? With 200 FREE minutes to any mobile + 100 FREE text + FREE camcorder Reply or Call 8000930705 <= похож на => Do you want a New Nokia 3510i colour phone DeliveredTomorrow? With 300 free minutes to any mobile + 100 free texts + Free Camcorder reply or call 08000930705.\n",
      "===========\n",
      "Beautiful Truth against Gravity.. Read carefully: \"Our heart feels light when someone is in it.. But it feels very heavy when someone leaves it..\" GOOD NIGHT <= похож на => Beautiful Truth against Gravity.. Read carefully: \"Our heart feels light when someone is in it.. But it feels very heavy when someone leaves it..\" GOODMORNING\n",
      "===========\n",
      "Can not use foreign stamps in this country. Good lecture . <= похож на => Can not use foreign stamps in this country.\n",
      "===========\n",
      "You want to go?  <= похож на => Yes princess! I want to make you happy...\n",
      "===========\n",
      "I dont want to hear anything <= похож на => No. I dont want to hear anything\n",
      "===========\n",
      "Urgent! Please call 0906346330. Your ABTA complimentary 4* Spanish Holiday or £10,000 cash await collection SAE T&Cs BOX 47 PO19 2EZ 150ppm 18+ <= похож на => Urgent! call 09066612661 from landline. Your complementary 4* Tenerife Holiday or £10,000 cash await collection SAE T&Cs PO Box 3 WA14 2PX 150ppm 18+ Sender: Hol Offer\n",
      "===========\n",
      "Do you want a new Video handset? 750 any time any network mins? UNLIMITED TEXT? Camcorder? Reply or Call now 08000930705 for del Sat AM <= похож на => Do you want a NEW video phone750 anytime any network mins 150 text for only five pounds per week call 08000776320 now or reply for delivery tomorrow\n",
      "===========\n",
      "Good afternoon, my love ... How goes your day ? How did you sleep ? I hope your well, my boytoy ... I think of you ... <= похож на => Good afternoon, my love! How goes that day ? I hope maybe you got some leads on a job. I think of you, boytoy and send you a passionate kiss from across the sea\n",
      "===========\n",
      "I will spoil you in bed as well :) <= похож на => I WILL CAL YOU SIR. In meeting\n",
      "===========\n",
      "You are a winner U have been specially selected 2 receive £1000 cash or a 4* holiday (flights inc) speak to a live operator 2 claim 0871277810810 <= похож на => You are a winner you have been specially selected to receive £1000 cash or a £2000 award. Speak to a live operator to claim call 087123002209am-7pm. Cost 10p\n",
      "===========\n",
      "Update_Now - Xmas Offer! Latest Motorola, SonyEricsson & Nokia & FREE Bluetooth! Double Mins & 1000 Txt on Orange. Call MobileUpd8 on 08000839402 or call2optout/F4Q= <= похож на => Xmas Offer! Latest Motorola, SonyEricsson & Nokia & FREE Bluetooth or DVD! Double Mins & 1000 Txt on Orange. Call MobileUpd8 on 08000839402 or call2optout/4QF2\n",
      "===========\n",
      "PRIVATE! Your 2003 Account Statement for shows 800 un-redeemed S. I. M. points. Call 08715203694 Identifier Code: 40533 Expires 31/10/04 <= похож на => PRIVATE! Your 2003 Account Statement for <fone no> shows 800 un-redeemed S. I. M. points. Call 08715203656 Identifier Code: 42049 Expires 26/10/04\n",
      "===========\n",
      "Thx. All will be well in a few months <= похож на => Will be out of class in a few hours. Sorry\n",
      "===========\n",
      "On the way to office da.. <= похож на => I am in bus on the way to calicut\n",
      "===========\n",
      "Urgent! call 09066612661 from landline. Your complementary 4* Tenerife Holiday or £10,000 cash await collection SAE T&Cs PO Box 3 WA14 2PX 150ppm 18+ Sender: Hol Offer <= похож на => Urgent! Please call 0906346330. Your ABTA complimentary 4* Spanish Holiday or £10,000 cash await collection SAE T&Cs BOX 47 PO19 2EZ 150ppm 18+\n",
      "===========\n",
      "Camera - You are awarded a SiPix Digital Camera! call 09061221066 fromm landline. Delivery within 28 days <= похож на => Camera - You are awarded a SiPix Digital Camera! call 09061221066 fromm landline. Delivery within 28 days.\n",
      "===========\n",
      "WHORE YOU ARE UNBELIEVABLE. <= похож на => Are you comingdown later?\n",
      "===========\n",
      "I'm at home n ready... <= похож на => At home also.\n",
      "===========\n",
      "How do you plan to manage that <= похож на => And do you have any one that can teach me how to ship cars.\n",
      "===========\n",
      "I am on the way to tirupur. <= похож на => I am in bus on the way to calicut\n",
      "===========\n",
      "You have WON a guaranteed £1000 cash or a £2000 prize. To claim yr prize call our customer service representative on 08714712412 between 10am-7pm Cost 10p <= похож на => Please call our customer service representative on 0800 169 6031 between 10am-9pm as you have WON a guaranteed £1000 cash or £5000 prize!\n",
      "===========\n",
      "U are subscribed to the best Mobile Content Service in the UK for £3 per 10 days until you send STOP to 82324. Helpline 08706091795 <= похож на => U are subscribed to the best Mobile Content Service in the UK for £3 per ten days until you send STOP to 83435. Helpline 08706091795.\n",
      "===========\n",
      "December only! Had your mobile 11mths+? You are entitled to update to the latest colour camera mobile for Free! Call The Mobile Update Co FREE on 08002986906  <= похож на => December only! Had your mobile 11mths+? You are entitled to update to the latest colour camera mobile for Free! Call The Mobile Update Co FREE on 08002986906\n",
      "===========\n",
      "how tall are you princess? <= похож на => No problem. How are you doing?\n",
      "===========\n",
      "44 7732584351, Do you want a New Nokia 3510i colour phone DeliveredTomorrow? With 300 free minutes to any mobile + 100 free texts + Free Camcorder reply or call 08000930705. <= похож на => Do you want a New Nokia 3510i Colour Phone Delivered Tomorrow? With 200 FREE minutes to any mobile + 100 FREE text + FREE camcorder Reply or Call 8000930705\n",
      "===========\n",
      "Do you want a new video handset? 750 anytime any network mins? Half Price Line Rental? Camcorder? Reply or call 08000930705 for delivery tomorrow <= похож на => Do you want a new Video handset? 750 any time any network mins? UNLIMITED TEXT? Camcorder? Reply or Call now 08000930705 for del Sat AM\n",
      "===========\n",
      "PRIVATE! Your 2003 Account Statement for shows 800 un-redeemed S. I. M. points. Call 08715203652 Identifier Code: 42810 Expires 29/10/0 <= похож на => PRIVATE! Your 2003 Account Statement for shows 800 un-redeemed S. I. M. points. Call 08718738002 Identifier Code: 48922 Expires 21/11/04\n",
      "===========\n",
      "URGENT! We are trying to contact U. Todays draw shows that you have won a £2000 prize GUARANTEED. Call 09058094507 from land line. Claim 3030. Valid 12hrs only <= похож на => URGENT! We are trying to contact U Todays draw shows that you have won a £800 prize GUARANTEED. Call 09050000460 from land line. Claim J89. po box245c2150pm\n",
      "===========\n",
      "Good morning princess! Have a great day! <= похож на => Good Morning my Dear Shijutta........... Have a great &amp; successful day.\n",
      "===========\n",
      "Want 2 get laid tonight? Want real Dogging locations sent direct 2 ur mob? Join the UK's largest Dogging Network bt Txting GRAVEL to 69888! Nt. ec2a. 31p.msg@150p <= похож на => Want 2 get laid tonight? Want real Dogging locations sent direct 2 ur Mob? Join the UK's largest Dogging Network by txting MOAN to 69888Nyt. ec2a. 31p.msg@150p\n",
      "===========\n",
      "December only! Had your mobile 11mths+? You are entitled to update to the latest colour camera mobile for Free! Call The Mobile Update Co FREE on 08002986906 <= похож на => December only! Had your mobile 11mths+? You are entitled to update to the latest colour camera mobile for Free! Call The Mobile Update Co FREE on 08002986906 \n",
      "===========\n",
      "Ur cash-balance is currently 500 pounds - to maximize ur cash-in now send CASH to 86688 only 150p/msg. CC: 08708800282 HG/Suite342/2Lands Row/W1J6HL <= похож на => Ur cash-balance is currently 500 pounds - to maximize ur cash-in now send GO to 86688 only 150p/msg. CC: 08718720201 PO BOX 114/14 TCR/W1\n",
      "===========\n",
      "FREE entry into our £250 weekly comp just send the word ENTER to 84128 NOW. 18 T&C www.textcomp.com cust care 08712405020. <= похож на => FREE entry into our £250 weekly competition just text the word WIN to 80086 NOW. 18 T&C www.txttowin.co.uk\n",
      "===========\n",
      "Please CALL 08712402902 immediately as there is an urgent message waiting for you. <= похож на => Please CALL 08712402779 immediately as there is an urgent message waiting for you\n",
      "===========\n",
      "I have no idea where you are <= похож на => Where are you call me.\n",
      "===========\n",
      "K.i will send in  &lt;#&gt;  min:) <= похож на => Wait.i will come out.. &lt;#&gt;  min:)\n",
      "===========\n",
      "important information 4 orange user . today is your lucky day!2find out why log onto http://www.urawinner.com THERE'S A FANTASTIC SURPRISE AWAITING YOU! <= похож на => URGENT, IMPORTANT INFORMATION FOR O2 USER. TODAY IS YOUR LUCKY DAY! 2 FIND OUT WHY LOG ONTO HTTP://WWW.URAWINNER.COM THERE IS A FANTASTIC SURPRISE AWAITING FOR YOU\n",
      "===========\n",
      "Congrats! 2 mobile 3G Videophones R yours. call 09061744553 now! videochat wid ur mates, play java games, Dload polyH music, noline rentl. bx420. ip4. 5we. 150pm <= похож на => Congrats! 2 mobile 3G Videophones R yours. call 09063458130 now! videochat wid your mates, play java games, Dload polyPH music, noline rentl.\n",
      "===========\n",
      "What you doing?how are you? <= похож на => Hey what happen de. Are you alright.\n",
      "===========\n",
      "Waiting for your call. <= похож на => Sir, I am waiting for your mail.\n",
      "===========\n",
      "+449071512431 URGENT! This is the 2nd attempt to contact U!U have WON £1250 CALL 09071512433 b4 050703 T&CsBCM4235WC1N3XX. callcost 150ppm mobilesvary. max£7. 50 <= похож на => RGENT! This is the 2nd attempt to contact U!U have WON £1250 CALL 09071512433 b4 050703 T&CsBCM4235WC1N3XX. callcost 150ppm mobilesvary. max£7. 50\n",
      "===========\n",
      "U have a secret admirer who is looking 2 make contact with U-find out who they R*reveal who thinks UR so special-call on 09058094565 <= похож на => U have a secret admirer who is looking 2 make contact with U-find out who they R*reveal who thinks UR so special-call on 09058094594\n",
      "===========\n",
      "HAPPY NEW YEAR MY NO.1 MAN <= похож на => Happy New Year Princess!\n",
      "===========\n",
      "Message Important information for O2 user. Today is your lucky day! 2 find out why log onto http://www.urawinner.com there is a fantastic surprise awaiting you <= похож на => important information 4 orange user . today is your lucky day!2find out why log onto http://www.urawinner.com THERE'S A FANTASTIC SURPRISE AWAITING YOU!\n",
      "===========\n",
      "Dear how you. Are you ok? <= похож на => No problem. How are you doing?\n",
      "===========\n",
      "Natalja (25/F) is inviting you to be her friend. Reply YES-440 or NO-440 See her: www.SMS.ac/u/nat27081980 STOP? Send STOP FRND to 62468 <= похож на => lyricalladie(21/F) is inviting you to be her friend. Reply YES-910 or NO-910. See her: www.SMS.ac/u/hmmross STOP? Send STOP FRND to 62468\n",
      "===========\n",
      "New Mobiles from 2004, MUST GO! Txt: NOKIA to No: 89545 & collect yours today! From ONLY £1. www.4-tc.biz 2optout 087187262701.50gbp/mtmsg18 TXTAUCTION. <= похож на => 500 New Mobiles from 2004, MUST GO! Txt: NOKIA to No: 89545 & collect yours today!From ONLY £1 www.4-tc.biz 2optout 087187262701.50gbp/mtmsg18 TXTAUCTION\n",
      "===========\n",
      "Urgent! Please call 09061213237 from a landline. £5000 cash or a 4* holiday await collection. T &Cs SAE PO Box 177 M227XY. 16+ <= похож на => Urgent! Please call 09061743810 from landline. Your ABTA complimentary 4* Tenerife Holiday or #5000 cash await collection SAE T&Cs Box 326 CW25WX 150 ppm\n",
      "===========\n",
      "U have a Secret Admirer who is looking 2 make contact with U-find out who they R*reveal who thinks UR so special-call on 09065171142-stopsms-08 <= похож на => U have a secret admirer who is looking 2 make contact with U-find out who they R*reveal who thinks UR so special-call on 09058094594\n",
      "===========\n",
      "Dear Subscriber ur draw 4 £100 gift voucher will b entered on receipt of a correct ans. When was Elvis Presleys Birthday? TXT answer to 80062 <= похож на => As a Registered Subscriber yr draw 4 a £100 gift voucher will b entered on receipt of a correct ans. When are the next olympics. Txt ans to 80062\n",
      "===========\n",
      "I am late. I will be there at <= похож на => Hey i will be late ah... Meet you at 945+\n",
      "===========\n",
      "You aren't coming home between class, right? I need to work out and shower! <= похож на => I need to come home and give you some good lovin...\n",
      "===========\n",
      "You have WON a guaranteed £1000 cash or a £2000 prize.To claim yr prize call our customer service representative on <= похож на => Please call our customer service representative on FREEPHONE 0808 145 4742 between 9am-11pm as you have WON a guaranteed £1000 cash or £5000 prize!\n",
      "===========\n",
      "Tell dear what happen to you. Why you talking to me like an alian <= похож на => Dear reached railway. What happen to you\n",
      "===========\n",
      "WHORE YOU ARE UNBELIEVABLE. <= похож на => WHO ARE YOU SEEING?\n",
      "===========\n",
      "R u still working now? <= похож на => Wat r u doing now?\n",
      "===========\n",
      "PRIVATE! Your 2003 Account Statement for shows 800 un-redeemed S. I. M. points. Call 08718738002 Identifier Code: 48922 Expires 21/11/04 <= похож на => PRIVATE! Your 2003 Account Statement for 07973788240 shows 800 un-redeemed S. I. M. points. Call 08715203649 Identifier Code: 40533 Expires 31/10/04\n",
      "===========\n",
      "I want to be inside you every night... <= похож на => Cos i want it to be your thing\n",
      "===========\n",
      "Ok i am on the way to home hi hi <= похож на => Mm i am on the way to railway\n",
      "===========\n",
      "U call me alter at 11 ok. <= похож на => U can call me now...\n",
      "===========\n",
      "I have to take exam with march 3 <= похож на => I have to take exam with in march 3\n",
      "===========\n",
      "Our Prashanthettan's mother passed away last night. pray for her and family. <= похож на => Our Prasanth ettans mother passed away last night. Just pray for her and family.\n",
      "===========\n",
      "Call from 08702490080 - tells u 2 call 09066358152 to claim £5000 prize. U have 2 enter all ur mobile & personal details @ the prompts. Careful! <= похож на => tells u 2 call 09066358152 to claim £5000 prize. U have 2 enter all ur mobile & personal details @ the prompts. Careful!\n",
      "===========\n",
      "Yo you guys ever figure out how much we need for alcohol? Jay and I are trying to figure out how much we can safely spend on weed <= похож на => You at mu? You should try to figure out how much money everyone has for gas and alcohol, jay and I are trying to figure out our weed budget\n",
      "===========\n",
      "PRIVATE! Your 2003 Account Statement for shows 800 un-redeemed S. I. M. points. Call 08719899230 Identifier Code: 41685 Expires 07/11/04 <= похож на => PRIVATE! Your 2003 Account Statement for shows 800 un-redeemed S. I. M. points. Call 08715203694 Identifier Code: 40533 Expires 31/10/04\n",
      "===========\n",
      "Hope you are having a great day. <= похож на => You made my day. Do have a great day too.\n"
     ]
    }
   ],
   "source": [
    "print(\n",
    "    \"\\n===========\\n\".join(\n",
    "        \" <= похож на => \".join(x) \n",
    "        for x in\n",
    "        similar\n",
    "        .where(\"datasetA.text != datasetB.text\")\n",
    "        .rdd\n",
    "        .map(lambda x: (x[\"datasetA\"][\"text\"], x[\"datasetB\"][\"text\"]))\n",
    "        .take(100)\n",
    "    )\n",
    ")"
   ]
  },
  {
   "cell_type": "code",
   "execution_count": 32,
   "metadata": {},
   "outputs": [],
   "source": [
    "stream_in = '/streaming/mlexample'\n",
    "\n",
    "!mkdir -p $stream_in"
   ]
  },
  {
   "cell_type": "code",
   "execution_count": 33,
   "metadata": {},
   "outputs": [],
   "source": [
    "input_stream = spark.readStream.schema(train.schema).option('sep', '\\t').csv(stream_in)"
   ]
  },
  {
   "cell_type": "code",
   "execution_count": 27,
   "metadata": {},
   "outputs": [],
   "source": [
    "prediction_stream = main_model.transform(input_stream)"
   ]
  },
  {
   "cell_type": "code",
   "execution_count": 28,
   "metadata": {},
   "outputs": [
    {
     "data": {
      "text/plain": [
       "<pyspark.sql.streaming.StreamingQuery at 0x7f542075f710>"
      ]
     },
     "execution_count": 28,
     "metadata": {},
     "output_type": "execute_result"
    }
   ],
   "source": [
    "(\n",
    "    prediction_stream\n",
    "    .writeStream\n",
    "    .trigger(processingTime='10 seconds')\n",
    "    .format('memory')\n",
    "    .queryName('preds')\n",
    "    .start()\n",
    ")"
   ]
  },
  {
   "cell_type": "code",
   "execution_count": 48,
   "metadata": {},
   "outputs": [
    {
     "name": "stdout",
     "output_type": "stream",
     "text": [
      "+-----+--------------------+--------------------+--------------------+---+--------------------+--------------------+----------+\n",
      "|label|                text|              tokens|                   v|  y|       rawPrediction|         probability|prediction|\n",
      "+-----+--------------------+--------------------+--------------------+---+--------------------+--------------------+----------+\n",
      "|  ham|I'm putting it on...|[i'm, putting, no...|(1358,[2,13,81,98...|0.0|[17.9915243908026...|[0.89957621954013...|       0.0|\n",
      "|  ham|U WILL SWITCH YOU...|[will, switch, yo...|(1358,[3,15,760],...|0.0|[17.6961900509745...|[0.88480950254872...|       0.0|\n",
      "|  ham|The  &lt;#&gt; g ...|[the, &lt;#&gt;, ...|(1358,[0,1,2,7,10...|0.0|[17.9915243908026...|[0.89957621954013...|       0.0|\n",
      "|  ham|Thanks a lot for ...|[thanks, lot, for...|(1358,[2,3,131,32...|0.0|[17.6961900509745...|[0.88480950254872...|       0.0|\n",
      "|  ham|Doing nothing, th...|[doing, nothing,,...|(1358,[8,32,120,2...|0.0|[17.9915243908026...|[0.89957621954013...|       0.0|\n",
      "|  ham|I wont get concen...|[wont, get, conce...|(1358,[1,6,12,25,...|0.0|[17.9915243908026...|[0.89957621954013...|       0.0|\n",
      "|  ham|No! But we found ...|[no!, but, found,...|(1358,[5,9,11,54,...|0.0|[17.5336076016230...|[0.87668038008115...|       0.0|\n",
      "|  ham|I am real, baby! ...|[real,, baby!, wa...|(1358,[3,29,34,32...|0.0|[17.6961900509745...|[0.88480950254872...|       0.0|\n",
      "| spam|Call 09095350301 ...|[call, 0909535030...|(1358,[1,5,14,36,...|1.0|[14.9172557471101...|[0.74586278735550...|       0.0|\n",
      "|  ham|Shit that is real...|[shit, that, real...|(1358,[1,2,7,58,6...|0.0|[17.9915243908026...|[0.89957621954013...|       0.0|\n",
      "|  ham|Even u dont get i...|[even, dont, get,...|(1358,[1,12,14,49...|0.0|[17.3228237660638...|[0.86614118830319...|       0.0|\n",
      "| spam|44 7732584351, Do...|[7732584351,, you...|(1358,[5,10,30,34...|1.0|[12.3497219424525...|[0.61748609712262...|       0.0|\n",
      "|  ham|Whom you waited f...|[whom, you, waite...|(1358,[2,832],[1....|0.0|[17.9915243908026...|[0.89957621954013...|       0.0|\n",
      "|  ham|You always make t...|[you, always, mak...|(1358,[6,55,79,15...|0.0|[17.9915243908026...|[0.89957621954013...|       0.0|\n",
      "| spam|all the lastest f...|[all, the, lastes...|(1358,[0,1,10,19,...|1.0|[16.2623669375001...|[0.81311834687500...|       0.0|\n",
      "|  ham|Did u turn on the...|[did, turn, the, ...|(1358,[0,1,17,23,...|0.0|[17.9915243908026...|[0.89957621954013...|       0.0|\n",
      "|  ham|Good! No, don‘t n...|[good!, no,, don‘...|(1358,[43,50,59,6...|0.0|[17.9915243908026...|[0.89957621954013...|       0.0|\n",
      "|  ham|Bugis oso near wa...|[bugis, oso, near...|(1358,[545,912,11...|0.0|[17.9915243908026...|[0.89957621954013...|       0.0|\n",
      "|  ham|Want to finally h...|[want, finally, h...|(1358,[4,34,283,6...|0.0|[17.9915243908026...|[0.89957621954013...|       0.0|\n",
      "|  ham|If we win its rea...|[win, its, really...|(1358,[2,33,114,1...|0.0|[16.2311169375001...|[0.81155584687500...|       0.0|\n",
      "+-----+--------------------+--------------------+--------------------+---+--------------------+--------------------+----------+\n",
      "only showing top 20 rows\n",
      "\n"
     ]
    }
   ],
   "source": [
    "spark.sql('select * from preds').show()"
   ]
  },
  {
   "cell_type": "code",
   "execution_count": 40,
   "metadata": {},
   "outputs": [
    {
     "name": "stdout",
     "output_type": "stream",
     "text": [
      "shuf: write error: Broken pipe\r\n",
      "shuf: write error\r\n"
     ]
    }
   ],
   "source": [
    "!shuf SMSSpamCollection | head -n1k | grep spam > `tempfile -d $stream_in`"
   ]
  },
  {
   "cell_type": "code",
   "execution_count": null,
   "metadata": {},
   "outputs": [],
   "source": []
  }
 ],
 "metadata": {
  "kernelspec": {
   "display_name": "Python 3",
   "language": "python",
   "name": "python3"
  },
  "language_info": {
   "codemirror_mode": {
    "name": "ipython",
    "version": 3
   },
   "file_extension": ".py",
   "mimetype": "text/x-python",
   "name": "python",
   "nbconvert_exporter": "python",
   "pygments_lexer": "ipython3",
   "version": "3.5.3"
  }
 },
 "nbformat": 4,
 "nbformat_minor": 2
}

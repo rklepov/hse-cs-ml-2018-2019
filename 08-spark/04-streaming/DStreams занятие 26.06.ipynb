{
 "cells": [
  {
   "cell_type": "markdown",
   "metadata": {},
   "source": [
    "## [*Занятие 4*](https://hackmd.io/@J_qqq0PjTGK1be0341GpYA/BJEYLlK-X#/ \"Spark Streaming - HackMD\")\n",
    "\n",
    "https://hackmd.io/@J_qqq0PjTGK1be0341GpYA/BJEYLlK-X#/\n",
    "\n",
    "### Spark Streaming: DStreams (_deprecated_)"
   ]
  },
  {
   "cell_type": "code",
   "execution_count": 1,
   "metadata": {},
   "outputs": [],
   "source": [
    "import findspark\n",
    "findspark.init()\n",
    "\n",
    "import pyspark"
   ]
  },
  {
   "cell_type": "code",
   "execution_count": 2,
   "metadata": {},
   "outputs": [],
   "source": [
    "sc = pyspark.SparkContext()"
   ]
  },
  {
   "cell_type": "code",
   "execution_count": 3,
   "metadata": {},
   "outputs": [],
   "source": [
    "from pyspark.streaming import StreamingContext"
   ]
  },
  {
   "cell_type": "code",
   "execution_count": 4,
   "metadata": {},
   "outputs": [],
   "source": [
    "ssc = StreamingContext(sparkContext=sc, batchDuration=10)"
   ]
  },
  {
   "cell_type": "code",
   "execution_count": 5,
   "metadata": {},
   "outputs": [],
   "source": [
    "ssc.checkpoint(directory='/tmp')"
   ]
  },
  {
   "cell_type": "code",
   "execution_count": 6,
   "metadata": {},
   "outputs": [],
   "source": [
    "stream_in = \"/stream/legacy\"\n",
    "!mkdir -p $stream_in"
   ]
  },
  {
   "cell_type": "code",
   "execution_count": 7,
   "metadata": {},
   "outputs": [],
   "source": [
    "input_stream = ssc.textFileStream(directory=stream_in)"
   ]
  },
  {
   "cell_type": "code",
   "execution_count": 8,
   "metadata": {},
   "outputs": [],
   "source": [
    "transformed_stream = (\n",
    "    input_stream\n",
    "    .map(int)\n",
    "    .map(lambda x: \"Нечетное\" if x % 2 else \"Четное\")\n",
    "    .map(lambda x: (x, 1))\n",
    ")"
   ]
  },
  {
   "cell_type": "code",
   "execution_count": 9,
   "metadata": {},
   "outputs": [],
   "source": [
    "transformed_stream.groupByKeyAndWindow(windowDuration=50, slideDuration=20).mapValues(sum).pprint()"
   ]
  },
  {
   "cell_type": "code",
   "execution_count": 10,
   "metadata": {},
   "outputs": [],
   "source": [
    "ssc.start()"
   ]
  },
  {
   "cell_type": "code",
   "execution_count": 13,
   "metadata": {},
   "outputs": [
    {
     "name": "stdout",
     "output_type": "stream",
     "text": [
      "-------------------------------------------\n",
      "Time: 2019-06-26 17:24:50\n",
      "-------------------------------------------\n",
      "('Четное', 500)\n",
      "('Нечетное', 500)\n",
      "\n"
     ]
    }
   ],
   "source": [
    "!seq 1 1000 > `tempfile -d $stream_in`"
   ]
  },
  {
   "cell_type": "code",
   "execution_count": 14,
   "metadata": {},
   "outputs": [
    {
     "name": "stdout",
     "output_type": "stream",
     "text": [
      "-------------------------------------------\n",
      "Time: 2019-06-26 17:25:10\n",
      "-------------------------------------------\n",
      "('Четное', 1000)\n",
      "('Нечетное', 1000)\n",
      "\n",
      "-------------------------------------------\n",
      "Time: 2019-06-26 17:25:30\n",
      "-------------------------------------------\n",
      "('Четное', 500)\n",
      "('Нечетное', 500)\n",
      "\n",
      "-------------------------------------------\n",
      "Time: 2019-06-26 17:25:50\n",
      "-------------------------------------------\n",
      "('Четное', 500)\n",
      "('Нечетное', 500)\n",
      "\n",
      "-------------------------------------------\n",
      "Time: 2019-06-26 17:26:10\n",
      "-------------------------------------------\n",
      "\n"
     ]
    }
   ],
   "source": [
    "!seq 1 1000 > `tempfile -d $stream_in`"
   ]
  },
  {
   "cell_type": "code",
   "execution_count": 15,
   "metadata": {},
   "outputs": [],
   "source": [
    "ssc.stop()"
   ]
  }
 ],
 "metadata": {
  "kernelspec": {
   "display_name": "Python 3",
   "language": "python",
   "name": "python3"
  },
  "language_info": {
   "codemirror_mode": {
    "name": "ipython",
    "version": 3
   },
   "file_extension": ".py",
   "mimetype": "text/x-python",
   "name": "python",
   "nbconvert_exporter": "python",
   "pygments_lexer": "ipython3",
   "version": "3.7.3"
  }
 },
 "nbformat": 4,
 "nbformat_minor": 2
}

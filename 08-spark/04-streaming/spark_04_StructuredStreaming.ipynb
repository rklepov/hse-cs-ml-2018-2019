{
 "cells": [
  {
   "cell_type": "markdown",
   "metadata": {},
   "source": [
    "## [*Занятие 4*](https://hackmd.io/@J_qqq0PjTGK1be0341GpYA/BJEYLlK-X#/ \"Spark Streaming - HackMD\")\n",
    "\n",
    "https://hackmd.io/@J_qqq0PjTGK1be0341GpYA/BJEYLlK-X#/\n",
    "\n",
    "### Spark Streaming: [Structured Streaming](https://spark.apache.org/docs/latest/structured-streaming-programming-guide.html \"Structured Streaming Programming Guide\")"
   ]
  },
  {
   "cell_type": "code",
   "execution_count": 1,
   "metadata": {},
   "outputs": [],
   "source": [
    "import findspark\n",
    "findspark.init()\n",
    "\n",
    "import pyspark"
   ]
  },
  {
   "cell_type": "code",
   "execution_count": 2,
   "metadata": {},
   "outputs": [],
   "source": [
    "spark = pyspark.sql.SparkSession.builder.getOrCreate()"
   ]
  },
  {
   "cell_type": "code",
   "execution_count": 3,
   "metadata": {},
   "outputs": [],
   "source": [
    "stream_in = \"/stream/strutured/\"\n",
    "\n",
    "!mkdir -p $stream_in"
   ]
  },
  {
   "cell_type": "code",
   "execution_count": 6,
   "metadata": {},
   "outputs": [],
   "source": [
    "from pyspark.sql import types\n",
    "\n",
    "schema = types.StructType().add('rank', 'integer').add('site', 'string')"
   ]
  },
  {
   "cell_type": "code",
   "execution_count": 7,
   "metadata": {},
   "outputs": [],
   "source": [
    "input_df = spark.readStream.csv(path=stream_in, schema=schema)"
   ]
  },
  {
   "cell_type": "code",
   "execution_count": 17,
   "metadata": {},
   "outputs": [],
   "source": [
    "verbatim_output = input_df.writeStream.trigger(processingTime='10 seconds').format('memory').queryName('input2')"
   ]
  },
  {
   "cell_type": "code",
   "execution_count": 19,
   "metadata": {},
   "outputs": [
    {
     "data": {
      "text/plain": [
       "<pyspark.sql.streaming.StreamingQuery at 0x7f88cb300c50>"
      ]
     },
     "execution_count": 19,
     "metadata": {},
     "output_type": "execute_result"
    }
   ],
   "source": [
    "verbatim_output.start()"
   ]
  },
  {
   "cell_type": "code",
   "execution_count": 47,
   "metadata": {},
   "outputs": [
    {
     "name": "stdout",
     "output_type": "stream",
     "text": [
      "+----+--------------------+\n",
      "|rank|                site|\n",
      "+----+--------------------+\n",
      "| 493|        cricbuzz.com|\n",
      "| 617|        3c.tmall.com|\n",
      "| 718|      gmanetwork.com|\n",
      "| 731|   yespornplease.com|\n",
      "| 866|    secureserver.net|\n",
      "| 906|        lifewire.com|\n",
      "|1066|            miui.com|\n",
      "|1114|       interpark.com|\n",
      "|1175|           nta.go.jp|\n",
      "|1245|           jjwxc.net|\n",
      "|1263|    tomshardware.com|\n",
      "|1379|kuronekoyamato.co.jp|\n",
      "|1761|    onclicksuper.com|\n",
      "|1818|   globalsources.com|\n",
      "|1886|            vlive.tv|\n",
      "|2094|adultfriendfinder...|\n",
      "|2186|     itslearning.com|\n",
      "|2354|     khabaronline.ir|\n",
      "|2717|    shahrekhabar.com|\n",
      "|2774|             medu.ir|\n",
      "+----+--------------------+\n",
      "only showing top 20 rows\n",
      "\n"
     ]
    }
   ],
   "source": [
    "spark.sql('SELECT * from input2 ORDER BY rank').show()"
   ]
  },
  {
   "cell_type": "code",
   "execution_count": 43,
   "metadata": {},
   "outputs": [
    {
     "name": "stdout",
     "output_type": "stream",
     "text": [
      "shuf: write error: Broken pipe\r\n",
      "shuf: write error\r\n"
     ]
    }
   ],
   "source": [
    "!shuf /data/top-1m.csv | head -n1k > `tempfile -d $stream_in`"
   ]
  },
  {
   "cell_type": "code",
   "execution_count": 32,
   "metadata": {},
   "outputs": [],
   "source": [
    "from pyspark.sql import functions\n",
    "\n",
    "agg_stream = (\n",
    "    input_df\n",
    "    .select(\n",
    "        functions.explode(\n",
    "            functions.split(\"site\", r\"\\.\")\n",
    "        ).alias('token')\n",
    "    )\n",
    "    .groupBy('token')\n",
    "    .count()\n",
    "    .orderBy(functions.desc('count'))\n",
    ")"
   ]
  },
  {
   "cell_type": "code",
   "execution_count": 33,
   "metadata": {},
   "outputs": [
    {
     "data": {
      "text/plain": [
       "<pyspark.sql.streaming.StreamingQuery at 0x7f88ca237780>"
      ]
     },
     "execution_count": 33,
     "metadata": {},
     "output_type": "execute_result"
    }
   ],
   "source": [
    "(\n",
    "    agg_stream\n",
    "    .writeStream\n",
    "    .outputMode('complete')\n",
    "    .trigger(processingTime='10 seconds')\n",
    "    .format('memory')\n",
    "    .queryName('tokens')\n",
    "    .start()\n",
    ")\n"
   ]
  },
  {
   "cell_type": "code",
   "execution_count": 46,
   "metadata": {},
   "outputs": [
    {
     "name": "stdout",
     "output_type": "stream",
     "text": [
      "+--------+-----+\n",
      "|   token|count|\n",
      "+--------+-----+\n",
      "|     com| 3109|\n",
      "|     org|  374|\n",
      "|      ru|  277|\n",
      "|     net|  272|\n",
      "|      co|  233|\n",
      "|      de|  215|\n",
      "|      br|  108|\n",
      "|      uk|  106|\n",
      "|blogspot|  102|\n",
      "|      in|   97|\n",
      "|      pl|   83|\n",
      "|      ir|   82|\n",
      "|      it|   76|\n",
      "|      jp|   74|\n",
      "|      au|   73|\n",
      "|      fr|   68|\n",
      "|     gov|   67|\n",
      "|    info|   61|\n",
      "|     edu|   59|\n",
      "|      cz|   53|\n",
      "+--------+-----+\n",
      "only showing top 20 rows\n",
      "\n"
     ]
    }
   ],
   "source": [
    "spark.sql(\"SELECT * FROM tokens\").show()"
   ]
  },
  {
   "cell_type": "code",
   "execution_count": 49,
   "metadata": {},
   "outputs": [
    {
     "name": "stdout",
     "output_type": "stream",
     "text": [
      "+-------------+---------------+\n",
      "|         site|             ip|\n",
      "+-------------+---------------+\n",
      "|   google.com| 172.217.17.110|\n",
      "|  youtube.com| 216.58.211.110|\n",
      "| facebook.com|  157.240.20.35|\n",
      "|    baidu.com|123.125.114.144|\n",
      "|    baidu.com| 220.181.38.148|\n",
      "|wikipedia.org| 91.198.174.192|\n",
      "|       qq.com|  111.161.64.48|\n",
      "|       qq.com|  111.161.64.40|\n",
      "|   taobao.com| 140.205.94.189|\n",
      "|   taobao.com| 140.205.220.96|\n",
      "|    yahoo.com|    72.30.35.10|\n",
      "|    yahoo.com|   98.137.246.7|\n",
      "|    yahoo.com|   98.137.246.8|\n",
      "|    yahoo.com|     72.30.35.9|\n",
      "|    yahoo.com| 98.138.219.231|\n",
      "|    yahoo.com| 98.138.219.232|\n",
      "|    tmall.com| 140.205.94.193|\n",
      "|    tmall.com| 140.205.130.99|\n",
      "|   amazon.com|  176.32.98.166|\n",
      "|   amazon.com|205.251.242.103|\n",
      "+-------------+---------------+\n",
      "only showing top 20 rows\n",
      "\n"
     ]
    }
   ],
   "source": [
    "ips_df = (\n",
    "    spark\n",
    "    .read\n",
    "    .csv('/data/ips')\n",
    "    .withColumnRenamed('_c0', 'site')\n",
    "    .withColumnRenamed('_c1', 'ip')\n",
    ")\n",
    "\n",
    "ips_df.show()"
   ]
  },
  {
   "cell_type": "code",
   "execution_count": 51,
   "metadata": {},
   "outputs": [],
   "source": [
    "annotated_stream =(\n",
    "    input_df\n",
    "    .join(ips_df, on='site')\n",
    "    .writeStream\n",
    "    .trigger(processingTime='10 seconds')\n",
    "    .format('memory')\n",
    "    .queryName('annotated')\n",
    "    .start()\n",
    ")"
   ]
  },
  {
   "cell_type": "code",
   "execution_count": 53,
   "metadata": {},
   "outputs": [
    {
     "name": "stdout",
     "output_type": "stream",
     "text": [
      "+--------------------+----+---------------+\n",
      "|                site|rank|             ip|\n",
      "+--------------------+----+---------------+\n",
      "|        cricbuzz.com| 493| 35.200.167.142|\n",
      "|      gmanetwork.com| 718|   52.74.223.93|\n",
      "|   yespornplease.com| 731|  104.31.112.30|\n",
      "|   yespornplease.com| 731|  104.31.113.30|\n",
      "|    secureserver.net| 866| 208.109.192.71|\n",
      "|        lifewire.com| 906|151.101.130.114|\n",
      "|        lifewire.com| 906|  151.101.2.114|\n",
      "|        lifewire.com| 906| 151.101.66.114|\n",
      "|        lifewire.com| 906|151.101.194.114|\n",
      "|            miui.com|1066|   120.92.96.58|\n",
      "|       interpark.com|1114|  211.233.74.23|\n",
      "|           jjwxc.net|1245|   171.8.71.172|\n",
      "|    tomshardware.com|1263| 34.238.197.235|\n",
      "|    tomshardware.com|1263|   52.45.70.146|\n",
      "|    tomshardware.com|1263|  52.54.187.227|\n",
      "|    onclicksuper.com|1761|    35.190.8.27|\n",
      "|   globalsources.com|1818|  203.92.211.31|\n",
      "|            vlive.tv|1886|125.209.218.157|\n",
      "|            vlive.tv|1886|125.209.234.134|\n",
      "|adultfriendfinder...|2094|  69.165.107.69|\n",
      "+--------------------+----+---------------+\n",
      "only showing top 20 rows\n",
      "\n"
     ]
    }
   ],
   "source": [
    "spark.sql('select * from annotated').show()"
   ]
  },
  {
   "cell_type": "code",
   "execution_count": 54,
   "metadata": {},
   "outputs": [],
   "source": [
    "deduped_stream =(\n",
    "    input_df\n",
    "    .join(ips_df, on='site')\n",
    "    .select('site', 'ip')\n",
    "    .groupBy('site')\n",
    "    .agg(functions.collect_set('ip').alias('ips'))\n",
    "    .writeStream\n",
    "    .outputMode('complete')\n",
    "    .trigger(processingTime='10 seconds')\n",
    "    .format('memory')\n",
    "    .queryName('deduped')\n",
    "    .start()\n",
    ")"
   ]
  },
  {
   "cell_type": "code",
   "execution_count": 56,
   "metadata": {},
   "outputs": [
    {
     "name": "stdout",
     "output_type": "stream",
     "text": [
      "+-------------------+--------------------+\n",
      "|               site|                 ips|\n",
      "+-------------------+--------------------+\n",
      "|laurenceanthony.net|    [69.195.124.184]|\n",
      "|         kuvalda.tv|    [83.170.111.192]|\n",
      "|        kakunin.net|    [160.16.113.178]|\n",
      "|      searchyen.com|[18.214.154.9, 52...|\n",
      "|     onlinedizi.net|[104.26.12.179, 1...|\n",
      "|        eetimes.com|      [13.65.85.121]|\n",
      "|           siptv.eu|   [213.239.228.148]|\n",
      "|        untappd.com|[104.25.22.104, 1...|\n",
      "|   soubarato.com.br|    [34.203.199.183]|\n",
      "|    four-thirds.org|     [27.34.139.113]|\n",
      "|intelliresponse.com|    [173.193.182.83]|\n",
      "| automobilrevue.net|   [178.218.208.194]|\n",
      "|          house.gov|[35.168.94.129, 3...|\n",
      "| waylandgames.co.uk|    [185.161.16.245]|\n",
      "|   torrentpower.com|    [103.20.104.176]|\n",
      "|           01hr.com|      [47.95.70.117]|\n",
      "|      le-comedia.fr|    [195.210.43.224]|\n",
      "|     independent.ie|[13.32.43.60, 13....|\n",
      "|       adservme.com|     [68.65.122.165]|\n",
      "|  lerugbynistere.fr|[104.27.184.29, 1...|\n",
      "+-------------------+--------------------+\n",
      "only showing top 20 rows\n",
      "\n"
     ]
    }
   ],
   "source": [
    "spark.sql('select * from deduped').show()"
   ]
  }
 ],
 "metadata": {
  "kernelspec": {
   "display_name": "Python 3",
   "language": "python",
   "name": "python3"
  },
  "language_info": {
   "codemirror_mode": {
    "name": "ipython",
    "version": 3
   },
   "file_extension": ".py",
   "mimetype": "text/x-python",
   "name": "python",
   "nbconvert_exporter": "python",
   "pygments_lexer": "ipython3",
   "version": "3.5.3"
  }
 },
 "nbformat": 4,
 "nbformat_minor": 2
}

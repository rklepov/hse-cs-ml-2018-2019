{
  "nbformat": 4,
  "nbformat_minor": 0,
  "metadata": {
    "colab": {
      "name": "дз1.ipynb",
      "version": "0.3.2",
      "provenance": [],
      "collapsed_sections": [],
      "include_colab_link": true
    },
    "language_info": {
      "codemirror_mode": {
        "name": "ipython",
        "version": 3
      },
      "file_extension": ".py",
      "mimetype": "text/x-python",
      "name": "python",
      "nbconvert_exporter": "python",
      "pygments_lexer": "ipython3",
      "version": "3.6.3"
    },
    "kernelspec": {
      "display_name": "Python 3",
      "language": "python",
      "name": "python3"
    }
  },
  "cells": [
    {
      "cell_type": "markdown",
      "metadata": {
        "id": "view-in-github",
        "colab_type": "text"
      },
      "source": [
        "<a href=\"https://colab.research.google.com/github/rklepov/hse-cs-ml-2018-2019/blob/homework/08-spark/HW/hw1/%D0%B4%D0%B71.ipynb\" target=\"_parent\"><img src=\"https://colab.research.google.com/assets/colab-badge.svg\" alt=\"Open In Colab\"/></a>"
      ]
    },
    {
      "cell_type": "code",
      "metadata": {
        "id": "g1IlnmJMbxOP",
        "colab_type": "code",
        "colab": {
          "base_uri": "https://localhost:8080/",
          "height": 34
        },
        "outputId": "a40aad1c-49f1-49b4-fe69-e1a928843bac"
      },
      "source": [
        "!pip search pyspark | grep 2.4.0 | grep INSTALLED || pip install pyspark==2.4.0 findspark"
      ],
      "execution_count": 1,
      "outputs": [
        {
          "output_type": "stream",
          "text": [
            "  INSTALLED: 2.4.0\n"
          ],
          "name": "stdout"
        }
      ]
    },
    {
      "cell_type": "code",
      "metadata": {
        "id": "06y8OBNpa_Q1",
        "colab_type": "code",
        "colab": {}
      },
      "source": [
        "import os\n",
        "os.environ[\"JAVA_HOME\"] = \"/usr/lib/jvm/java-8-openjdk-amd64/jre/\"\n",
        "\n",
        "import findspark\n",
        "findspark.init('/usr/local/lib/python3.6/dist-packages/pyspark/')\n",
        "\n",
        "import pyspark"
      ],
      "execution_count": 0,
      "outputs": []
    },
    {
      "cell_type": "markdown",
      "metadata": {
        "id": "G1vRXocHao4y",
        "colab_type": "text"
      },
      "source": [
        "## NB: python3-only"
      ]
    },
    {
      "cell_type": "code",
      "metadata": {
        "id": "0SerHukaao49",
        "colab_type": "code",
        "outputId": "4d2a401b-34b5-4769-9b2f-632759bc4261",
        "colab": {
          "base_uri": "https://localhost:8080/",
          "height": 34
        }
      },
      "source": [
        "from zipfile import ZipFile\n",
        "from io import BytesIO\n",
        "import urllib.request\n",
        "\n",
        "ZipFile.extract(\n",
        "    ZipFile(\n",
        "        BytesIO(\n",
        "            urllib\n",
        "            .request\n",
        "            .urlopen('http://s3.amazonaws.com/alexa-static/top-1m.csv.zip')\n",
        "            .read()\n",
        "        )\n",
        "    ),\n",
        "    'top-1m.csv'\n",
        ")"
      ],
      "execution_count": 3,
      "outputs": [
        {
          "output_type": "execute_result",
          "data": {
            "text/plain": [
              "'/content/top-1m.csv'"
            ]
          },
          "metadata": {
            "tags": []
          },
          "execution_count": 3
        }
      ]
    },
    {
      "cell_type": "code",
      "metadata": {
        "id": "UJEmKzbqbocI",
        "colab_type": "code",
        "colab": {
          "base_uri": "https://localhost:8080/",
          "height": 105
        },
        "outputId": "0b322c97-2f82-4a32-be83-d6cc8081c7e0"
      },
      "source": [
        "!head -5 /content/top-1m.csv"
      ],
      "execution_count": 4,
      "outputs": [
        {
          "output_type": "stream",
          "text": [
            "1,google.com\n",
            "2,youtube.com\n",
            "3,facebook.com\n",
            "4,baidu.com\n",
            "5,wikipedia.org\n"
          ],
          "name": "stdout"
        }
      ]
    },
    {
      "cell_type": "markdown",
      "metadata": {
        "id": "UPBUO3ACao5C",
        "colab_type": "text"
      },
      "source": [
        "# Дз №1. Мапредьюс руками\n",
        "\n",
        "Напишите маппер и редьюсер для задачи обратного индекса по рейтингу сайтов алексы.\n",
        "Задача построения обратного индекса означает, что нужно разбить все домены в рейтинге на части(токены) по символу точки, а на выходе получить пары (токен, все сайты в названии которых содержался токен). Пример:\n",
        "\n",
        "```\n",
        "(\n",
        "    google.com,\n",
        "    google.ru,\n",
        "    ya.ru,\n",
        "    hse.ru\n",
        ")\n",
        "\n",
        "```\n",
        "должно на выходе превратиться в:\n",
        "\n",
        "```python\n",
        "(\n",
        "    (com, (google.com,)),\n",
        "    (google, (google.com, google.ru)),\n",
        "    (ru, (google.ru, ya.ru, hse.ru)),\n",
        "    (ya, (ya.ru, )),\n",
        "    (hse, (hse.ru, ))\n",
        ")\n",
        "```\n"
      ]
    },
    {
      "cell_type": "code",
      "metadata": {
        "id": "xY5MSABjao5D",
        "colab_type": "code",
        "colab": {}
      },
      "source": [
        "with open('/content/top-1m.csv') as alexa:\n",
        "    alexa_domains = [s.strip().split(\",\")[1] for s in alexa]"
      ],
      "execution_count": 0,
      "outputs": []
    },
    {
      "cell_type": "markdown",
      "metadata": {
        "id": "hLHfSfAoao5H",
        "colab_type": "text"
      },
      "source": [
        "## 1.1 Маппер"
      ]
    },
    {
      "cell_type": "code",
      "metadata": {
        "id": "vVnZVnXAao5I",
        "colab_type": "code",
        "colab": {}
      },
      "source": [
        "def mapper(domain):\n",
        "    \"\"\"\n",
        "    Маппер для обратного индекса. Разбивает доменное имя на токены и помечает каждый токен доменом. \n",
        "    Пример: google.com -> ('com', 'google.com'), ('google', 'google.com')\n",
        "    \"\"\"\n",
        "    # Ваш код здесь\n",
        "    \n",
        "    return ((token, domain) for token in domain.split('.')[::-1])"
      ],
      "execution_count": 0,
      "outputs": []
    },
    {
      "cell_type": "code",
      "metadata": {
        "id": "5QPW6vwXemvr",
        "colab_type": "code",
        "colab": {
          "base_uri": "https://localhost:8080/",
          "height": 34
        },
        "outputId": "0917385d-c3da-4ce8-d33c-91ce63ceef33"
      },
      "source": [
        "list(mapper('google.com'))"
      ],
      "execution_count": 7,
      "outputs": [
        {
          "output_type": "execute_result",
          "data": {
            "text/plain": [
              "[('com', 'google.com'), ('google', 'google.com')]"
            ]
          },
          "metadata": {
            "tags": []
          },
          "execution_count": 7
        }
      ]
    },
    {
      "cell_type": "markdown",
      "metadata": {
        "id": "RDdGCSzeao5L",
        "colab_type": "text"
      },
      "source": [
        "## 1.2 Редьюсер"
      ]
    },
    {
      "cell_type": "code",
      "metadata": {
        "id": "DtDjz-n5ao5L",
        "colab_type": "code",
        "colab": {}
      },
      "source": [
        "def reducer(token_domain_pairs):\n",
        "    \"\"\"\n",
        "    Редьюсер для обратного индекса. По набору кортежей, созданных маппером, возвращает кортеж \n",
        "    вида (токен, (домен1, домен2, ...)\n",
        "    Пример:\n",
        "    (('google', 'google.com'), ('google', 'google.se')) -> ('google', ('google.com', 'google.se'))\n",
        "    Примечание: гарантируется, что у всех кортежей на входе оданковый токен.\n",
        "    \"\"\"\n",
        "    # Ваш код здесь\n",
        "\n",
        "    return ( token_domain_pairs[0][0], [pair[1] for pair in token_domain_pairs] )"
      ],
      "execution_count": 0,
      "outputs": []
    },
    {
      "cell_type": "code",
      "metadata": {
        "id": "kTjvkAbpm5i1",
        "colab_type": "code",
        "colab": {
          "base_uri": "https://localhost:8080/",
          "height": 34
        },
        "outputId": "0570575e-c72d-407b-92b3-e0f9e8286cbe"
      },
      "source": [
        "list(reducer((('google', 'google.com'), ('google', 'google.se'))))"
      ],
      "execution_count": 9,
      "outputs": [
        {
          "output_type": "execute_result",
          "data": {
            "text/plain": [
              "['google', ['google.com', 'google.se']]"
            ]
          },
          "metadata": {
            "tags": []
          },
          "execution_count": 9
        }
      ]
    },
    {
      "cell_type": "markdown",
      "metadata": {
        "id": "jxBRV_3pao5Q",
        "colab_type": "text"
      },
      "source": [
        "## bonus:\n",
        "\n",
        "Напишите также несколько тестов, чтобы проверить корректность маппера и редьюсера\n",
        "\n",
        "например таких:"
      ]
    },
    {
      "cell_type": "code",
      "metadata": {
        "id": "aVChmVXNao5S",
        "colab_type": "code",
        "colab": {}
      },
      "source": [
        "assert set(mapper(\"ya.ru\")) == {(\"ya\", \"ya.ru\"), (\"ru\", \"ya.ru\")}\n",
        "assert set(mapper(\"com\")) == {(\"com\", \"com\")}\n",
        "\n",
        "def reducer_test(testcase, expected_result):\n",
        "    actual_result = reducer(testcase)\n",
        "    assert actual_result[0] == expected_result[0]\n",
        "    assert set(actual_result[1]) == set(expected_result[1])\n",
        "    \n",
        "reducer_test(\n",
        "    (('google', 'google.com'), ('google', 'google.se')),\n",
        "    ('google', ('google.com', 'google.se'))\n",
        ")"
      ],
      "execution_count": 0,
      "outputs": []
    },
    {
      "cell_type": "code",
      "metadata": {
        "id": "_WKS7OAvao5Y",
        "colab_type": "code",
        "colab": {}
      },
      "source": [
        "def flatmap(mapper_func, iterable):\n",
        "    from itertools import chain\n",
        "    return tuple(chain.from_iterable(map(mapper_func, iterable)))"
      ],
      "execution_count": 0,
      "outputs": []
    },
    {
      "cell_type": "markdown",
      "metadata": {
        "id": "5NGdqWXFao5d",
        "colab_type": "text"
      },
      "source": [
        "#### проверим как работает ваш маппер на датасете:"
      ]
    },
    {
      "cell_type": "code",
      "metadata": {
        "id": "NpRa2f_0ao5e",
        "colab_type": "code",
        "outputId": "a68efc99-c838-4ec3-a3c9-24bf33fa9a60",
        "colab": {
          "base_uri": "https://localhost:8080/",
          "height": 368
        }
      },
      "source": [
        "flatmap(mapper, alexa_domains[:10])"
      ],
      "execution_count": 12,
      "outputs": [
        {
          "output_type": "execute_result",
          "data": {
            "text/plain": [
              "(('com', 'google.com'),\n",
              " ('google', 'google.com'),\n",
              " ('com', 'youtube.com'),\n",
              " ('youtube', 'youtube.com'),\n",
              " ('com', 'facebook.com'),\n",
              " ('facebook', 'facebook.com'),\n",
              " ('com', 'baidu.com'),\n",
              " ('baidu', 'baidu.com'),\n",
              " ('org', 'wikipedia.org'),\n",
              " ('wikipedia', 'wikipedia.org'),\n",
              " ('com', 'qq.com'),\n",
              " ('qq', 'qq.com'),\n",
              " ('com', 'taobao.com'),\n",
              " ('taobao', 'taobao.com'),\n",
              " ('com', 'amazon.com'),\n",
              " ('amazon', 'amazon.com'),\n",
              " ('com', 'tmall.com'),\n",
              " ('tmall', 'tmall.com'),\n",
              " ('com', 'vk.com'),\n",
              " ('vk', 'vk.com'))"
            ]
          },
          "metadata": {
            "tags": []
          },
          "execution_count": 12
        }
      ]
    },
    {
      "cell_type": "markdown",
      "metadata": {
        "id": "6qOBgW96ao5l",
        "colab_type": "text"
      },
      "source": [
        "## 1.3 Шаффл\n",
        "напишите функцию, которая сгруппирует всю выдачу всех мапперов по токену, так чтобы соблюдалось предположение, принятое нами в определении редьюсера:\n",
        "\n",
        "> `Примечание: гарантируется, что у всех кортежей на входе оданковый токен.`\n",
        "\n",
        "#### Примечание: в идеале, в реализации шафла не пользоваться питоньими диктами (`{k:v}` и т.д )"
      ]
    },
    {
      "cell_type": "code",
      "metadata": {
        "id": "rcUcI8C7ao5m",
        "colab_type": "code",
        "colab": {}
      },
      "source": [
        "def shuffle(dataset):\n",
        "    \"\"\"\n",
        "    Группирует с выводом мапперов по ключу. Пример:\n",
        "    \n",
        "    (\n",
        "        ('google', 'google.com'),\n",
        "        ('com', 'google.com'),\n",
        "        ('youtube', 'youtube.com'),\n",
        "        ('com', 'youtube.com')\n",
        "    )\n",
        "\n",
        "    --> shuffle все превращает в --> \n",
        "\n",
        "    (\n",
        "        [('com', 'google.com'), ('com', 'youtube.com')],\n",
        "        [('google', 'google.com')],\n",
        "        [('youtube', 'youtube.com')],\n",
        "    )\n",
        "\n",
        "    :param dataset:\n",
        "    :return:\n",
        "    \n",
        "    \"\"\"\n",
        "    # Ваш код здесь\n",
        "    \n",
        "    import itertools as it\n",
        "    keyf = lambda x: x[0]\n",
        "    grouped = it.groupby(sorted(dataset, key=keyf), key=keyf)\n",
        "    return ( list(grp) for key, grp in grouped )"
      ],
      "execution_count": 0,
      "outputs": []
    },
    {
      "cell_type": "markdown",
      "metadata": {
        "id": "Fik78ZC5ao5o",
        "colab_type": "text"
      },
      "source": [
        "### Собираем все вместе"
      ]
    },
    {
      "cell_type": "code",
      "metadata": {
        "id": "0M-ZIJJaao5p",
        "colab_type": "code",
        "colab": {}
      },
      "source": [
        "mapper_output = flatmap(mapper, alexa_domains)\n",
        "shuffled = shuffle(mapper_output)\n",
        "reduced = map(reducer, shuffled)\n",
        "\n",
        "reversed_idx = dict(reduced)"
      ],
      "execution_count": 0,
      "outputs": []
    },
    {
      "cell_type": "markdown",
      "metadata": {
        "id": "KMBpyrA7ao5s",
        "colab_type": "text"
      },
      "source": [
        "Должно посчитаться секунд за пять. Если не получается и считается долго, то прежде чем оптимизировать код попробуйте подставить небольшое подмножество `alexa_domains`, например `alexa_domains[:100]`. Корректность кода важнее быстродействия.\n",
        "\n",
        "`reversed_idx` должен содержать то что нужно для поиска по токену:"
      ]
    },
    {
      "cell_type": "code",
      "metadata": {
        "id": "Zn4U33nDao5t",
        "colab_type": "code",
        "outputId": "99aa6b8c-d422-4cda-d65b-7a942c111873",
        "colab": {
          "base_uri": "https://localhost:8080/",
          "height": 509
        }
      },
      "source": [
        "reversed_idx['yandex']"
      ],
      "execution_count": 15,
      "outputs": [
        {
          "output_type": "execute_result",
          "data": {
            "text/plain": [
              "['yandex.ru',\n",
              " 'yandex.kz',\n",
              " 'yandex.by',\n",
              " 'yandex.com',\n",
              " 'yandex.com.tr',\n",
              " 'yandex.net',\n",
              " 'yandex.ua',\n",
              " 'yandex.uz',\n",
              " 'yandex.fr',\n",
              " 'eda.yandex',\n",
              " 'yandex.md',\n",
              " 'driver.yandex',\n",
              " 'clickhouse.yandex',\n",
              " 'chef.yandex',\n",
              " 'yandex.com.ge',\n",
              " 'yandex.org.kz',\n",
              " 'yandex.uk.com',\n",
              " 'yandex.tm',\n",
              " 'yandex.gb.net',\n",
              " 'auto.yandex',\n",
              " 'yandex.az',\n",
              " 'yandex.lv',\n",
              " 'yandex.im',\n",
              " 'yandex.co.il',\n",
              " 'maps.yandex',\n",
              " 'yandex.kg',\n",
              " 'garage.yandex',\n",
              " 'yandex.tj']"
            ]
          },
          "metadata": {
            "tags": []
          },
          "execution_count": 15
        }
      ]
    },
    {
      "cell_type": "code",
      "metadata": {
        "id": "tKIwc8sDnIhf",
        "colab_type": "code",
        "colab": {
          "base_uri": "https://localhost:8080/",
          "height": 228
        },
        "outputId": "93fcf8f8-01f5-4d9b-81d5-e43cb11469f2"
      },
      "source": [
        "reversed_idx['wikipedia']"
      ],
      "execution_count": 16,
      "outputs": [
        {
          "output_type": "execute_result",
          "data": {
            "text/plain": [
              "['wikipedia.org',\n",
              " 'wikipedia.de',\n",
              " 'wikipedia.nym.by',\n",
              " 'wikipedia.it',\n",
              " 'wikipedia.nom.al',\n",
              " 'wikipedia.no',\n",
              " 'wikipedia.at',\n",
              " 'wikipedia.fr',\n",
              " 'wikipedia.nom.si',\n",
              " 'wikipedia.ma',\n",
              " 'wikipedia.nom.ae',\n",
              " 'wikipedia.blogfa.com']"
            ]
          },
          "metadata": {
            "tags": []
          },
          "execution_count": 16
        }
      ]
    },
    {
      "cell_type": "markdown",
      "metadata": {
        "id": "FWjZEI5vomMk",
        "colab_type": "text"
      },
      "source": [
        "### *References*\n",
        "\n",
        "[1] https://docs.python.org/3.8/library/itertools.html#itertools.groupby\n",
        "\n",
        "[2] https://realpython.com/python-itertools/#building-relay-teams-from-swimmer-data\n",
        "\n",
        "[3] https://medium.com/@jasonrigden/a-guide-to-python-itertools-82e5a306cdf8"
      ]
    }
  ]
}
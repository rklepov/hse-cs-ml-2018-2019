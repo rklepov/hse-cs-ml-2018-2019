{
  "nbformat": 4,
  "nbformat_minor": 0,
  "metadata": {
    "colab": {
      "name": "spark_hw2.ipynb",
      "version": "0.3.2",
      "provenance": [],
      "collapsed_sections": [],
      "include_colab_link": true
    },
    "kernelspec": {
      "name": "python3",
      "display_name": "Python 3"
    }
  },
  "cells": [
    {
      "cell_type": "markdown",
      "metadata": {
        "id": "view-in-github",
        "colab_type": "text"
      },
      "source": [
        "<a href=\"https://colab.research.google.com/github/rklepov/hse-cs-ml-2018-2019/blob/homework/08-spark/HW/hw2/spark_hw2.ipynb\" target=\"_parent\"><img src=\"https://colab.research.google.com/assets/colab-badge.svg\" alt=\"Open In Colab\"/></a>"
      ]
    },
    {
      "cell_type": "markdown",
      "metadata": {
        "id": "B1OaIsPl1myr",
        "colab_type": "text"
      },
      "source": [
        "# [*HW2*](https://github.com/rklepov/hse-cs-ml-2018-2019/blob/master/08-spark/02-sql/SparkSQL%20%D0%94%D0%97-2.ipynb)"
      ]
    },
    {
      "cell_type": "code",
      "metadata": {
        "id": "PMZKbRBgOKYY",
        "colab_type": "code",
        "colab": {
          "base_uri": "https://localhost:8080/",
          "height": 34
        },
        "outputId": "3d17ab09-464c-4480-a13f-db9f5cabc16b"
      },
      "source": [
        "!pip search spark | grep INSTALLED || pip install pyspark==2.4.0 findspark"
      ],
      "execution_count": 1,
      "outputs": [
        {
          "output_type": "stream",
          "text": [
            "  INSTALLED: 2.4.0\n"
          ],
          "name": "stdout"
        }
      ]
    },
    {
      "cell_type": "code",
      "metadata": {
        "id": "c2DQuWVJOOU9",
        "colab_type": "code",
        "colab": {}
      },
      "source": [
        "import os\n",
        "os.environ[\"JAVA_HOME\"] = \"/usr/lib/jvm/java-8-openjdk-amd64/jre/\"\n",
        "\n",
        "import findspark\n",
        "findspark.init('/usr/local/lib/python3.6/dist-packages/pyspark/')\n",
        "\n",
        "import pyspark"
      ],
      "execution_count": 0,
      "outputs": []
    },
    {
      "cell_type": "code",
      "metadata": {
        "id": "Qam_makHNyQB",
        "colab_type": "code",
        "colab": {}
      },
      "source": [
        "from pyspark.sql import functions\n",
        "from pyspark.sql.types import StructType, StructField, IntegerType, StringType"
      ],
      "execution_count": 0,
      "outputs": []
    },
    {
      "cell_type": "code",
      "metadata": {
        "id": "AwC3L-h7Otwo",
        "colab_type": "code",
        "colab": {}
      },
      "source": [
        "sc = pyspark.SparkContext(appName='spark_hw2')\n",
        "sql = pyspark.HiveContext(sc)"
      ],
      "execution_count": 0,
      "outputs": []
    },
    {
      "cell_type": "markdown",
      "metadata": {
        "id": "5zUEm0WS10Oa",
        "colab_type": "text"
      },
      "source": [
        "## *Данные*"
      ]
    },
    {
      "cell_type": "code",
      "metadata": {
        "id": "OTK-ER_yLqca",
        "colab_type": "code",
        "colab": {
          "base_uri": "https://localhost:8080/",
          "height": 34
        },
        "outputId": "242b813e-c58c-4888-c537-a4d393c1e22c"
      },
      "source": [
        "from google.colab import drive\n",
        "drive.mount('/content/gdrive')"
      ],
      "execution_count": 5,
      "outputs": [
        {
          "output_type": "stream",
          "text": [
            "Drive already mounted at /content/gdrive; to attempt to forcibly remount, call drive.mount(\"/content/gdrive\", force_remount=True).\n"
          ],
          "name": "stdout"
        }
      ]
    },
    {
      "cell_type": "code",
      "metadata": {
        "id": "6Y3DCaHqNgbw",
        "colab_type": "code",
        "colab": {
          "base_uri": "https://localhost:8080/",
          "height": 70
        },
        "outputId": "4ccf16ad-2a13-4e8f-bcf5-6d8b3cdf9c56"
      },
      "source": [
        "%%bash\n",
        "\n",
        "cp '/content/gdrive/My Drive/'{zgrab.json,ips,top-1m.csv} ./\n",
        "ls -hl zgrab.json ips top-1m.csv"
      ],
      "execution_count": 6,
      "outputs": [
        {
          "output_type": "stream",
          "text": [
            "-rw------- 1 root root 3.8M Jun 22 06:52 ips\n",
            "-rw------- 1 root root  22M Jun 22 06:52 top-1m.csv\n",
            "-rw------- 1 root root 108M Jun 22 06:52 zgrab.json\n"
          ],
          "name": "stdout"
        }
      ]
    },
    {
      "cell_type": "markdown",
      "metadata": {
        "id": "Sv1uNvdg2JU0",
        "colab_type": "text"
      },
      "source": [
        "#### alexa"
      ]
    },
    {
      "cell_type": "code",
      "metadata": {
        "id": "lgadKgh-Oi59",
        "colab_type": "code",
        "colab": {
          "base_uri": "https://localhost:8080/",
          "height": 210
        },
        "outputId": "2333c069-2c27-4f5d-c942-0c1dd8aa2d41"
      },
      "source": [
        "top_schema = StructType((\n",
        "    StructField(\"rank\", IntegerType(), nullable=False),\n",
        "    StructField(\"site\", StringType(), nullable=False),\n",
        "))\n",
        "\n",
        "alexa_top_df = sql.read.csv('top-1m.csv', schema=top_schema)\n",
        "\n",
        "alexa_top_df.show(5)"
      ],
      "execution_count": 7,
      "outputs": [
        {
          "output_type": "stream",
          "text": [
            "+----+-------------+\n",
            "|rank|         site|\n",
            "+----+-------------+\n",
            "|   1|   google.com|\n",
            "|   2|  youtube.com|\n",
            "|   3| facebook.com|\n",
            "|   4|    baidu.com|\n",
            "|   5|wikipedia.org|\n",
            "+----+-------------+\n",
            "only showing top 5 rows\n",
            "\n"
          ],
          "name": "stdout"
        }
      ]
    },
    {
      "cell_type": "markdown",
      "metadata": {
        "id": "0OXQeXft2L1X",
        "colab_type": "text"
      },
      "source": [
        "#### zgrab"
      ]
    },
    {
      "cell_type": "code",
      "metadata": {
        "id": "9I3UyonNOn8g",
        "colab_type": "code",
        "colab": {
          "base_uri": "https://localhost:8080/",
          "height": 210
        },
        "outputId": "83dab283-0659-4094-9203-22933c456538"
      },
      "source": [
        "zgrab_content = sql.read.json('zgrab.json').drop('_corrupt_record')\n",
        "\n",
        "zgrad_codes = (\n",
        "    zgrab_content\n",
        "    .select(\"data.http.response.status_code\")\n",
        ")\n",
        "\n",
        "zgrad_codes.show(5)"
      ],
      "execution_count": 8,
      "outputs": [
        {
          "output_type": "stream",
          "text": [
            "+-----------+\n",
            "|status_code|\n",
            "+-----------+\n",
            "|       null|\n",
            "|        503|\n",
            "|        403|\n",
            "|       null|\n",
            "|        403|\n",
            "+-----------+\n",
            "only showing top 5 rows\n",
            "\n"
          ],
          "name": "stdout"
        }
      ]
    },
    {
      "cell_type": "markdown",
      "metadata": {
        "id": "fqJhZrBI2ZS2",
        "colab_type": "text"
      },
      "source": [
        "#### resolved"
      ]
    },
    {
      "cell_type": "code",
      "metadata": {
        "id": "TpTT_JfbO2pX",
        "colab_type": "code",
        "colab": {
          "base_uri": "https://localhost:8080/",
          "height": 210
        },
        "outputId": "d9de66e8-a3d5-4d8d-ccea-003eba94bc88"
      },
      "source": [
        "resolved_schema = (\n",
        "    StructType()\n",
        "    .add(\"host\", \"string\")\n",
        "    .add(\"ip\", \"string\")\n",
        ")\n",
        "\n",
        "resolved = sql.read.csv(\"ips\", schema=resolved_schema)\n",
        "\n",
        "resolved.show(5)"
      ],
      "execution_count": 9,
      "outputs": [
        {
          "output_type": "stream",
          "text": [
            "+------------+---------------+\n",
            "|        host|             ip|\n",
            "+------------+---------------+\n",
            "|  google.com| 172.217.17.110|\n",
            "| youtube.com| 216.58.211.110|\n",
            "|facebook.com|  157.240.20.35|\n",
            "|   baidu.com|123.125.114.144|\n",
            "|   baidu.com| 220.181.38.148|\n",
            "+------------+---------------+\n",
            "only showing top 5 rows\n",
            "\n"
          ],
          "name": "stdout"
        }
      ]
    },
    {
      "cell_type": "markdown",
      "metadata": {
        "id": "vONNRdUwPkxM",
        "colab_type": "text"
      },
      "source": [
        "## Задание 1\n",
        "\n",
        "*посчитайте общую статистику: сколько было зафиксировано ответов с каждым статусом*"
      ]
    },
    {
      "cell_type": "code",
      "metadata": {
        "id": "9YS6heJ6PIxg",
        "colab_type": "code",
        "colab": {
          "base_uri": "https://localhost:8080/",
          "height": 456
        },
        "outputId": "b3302f9c-4b83-4fe8-eac1-32bf4114247a"
      },
      "source": [
        "(\n",
        "    zgrad_codes\n",
        "    .groupBy('status_code')\n",
        "    .count()\n",
        "    .orderBy(functions.desc('count'))\n",
        "    .show()\n",
        ")"
      ],
      "execution_count": 10,
      "outputs": [
        {
          "output_type": "stream",
          "text": [
            "+-----------+-----+\n",
            "|status_code|count|\n",
            "+-----------+-----+\n",
            "|       null|36390|\n",
            "|        200| 7132|\n",
            "|        404| 1971|\n",
            "|        403| 1724|\n",
            "|        503| 1242|\n",
            "|        400|  658|\n",
            "|        401|  576|\n",
            "|        502|  142|\n",
            "|        405|   35|\n",
            "|        500|   32|\n",
            "|        426|   29|\n",
            "|        302|   23|\n",
            "|        407|   11|\n",
            "|        501|    5|\n",
            "|        410|    2|\n",
            "|        596|    1|\n",
            "|        101|    1|\n",
            "|        504|    1|\n",
            "|        422|    1|\n",
            "|        206|    1|\n",
            "+-----------+-----+\n",
            "\n"
          ],
          "name": "stdout"
        }
      ]
    },
    {
      "cell_type": "markdown",
      "metadata": {
        "id": "RIPHm388PvAZ",
        "colab_type": "text"
      },
      "source": [
        "## Задание 2\n",
        "\n",
        "*Отфильтруйте `zgrab_codes` так чтобы он не содержал пустых значений*"
      ]
    },
    {
      "cell_type": "code",
      "metadata": {
        "id": "uiSgJ1BQqQwZ",
        "colab_type": "code",
        "colab": {
          "base_uri": "https://localhost:8080/",
          "height": 210
        },
        "outputId": "94724024-79cb-4456-ea8e-471f7ac5a7c3"
      },
      "source": [
        "zgrab_codes_nonull = (\n",
        "    zgrad_codes\n",
        "    .where(\n",
        "        ~functions.isnull('status_code')\n",
        "    )    \n",
        ")\n",
        "\n",
        "zgrab_codes_nonull.show(5)"
      ],
      "execution_count": 11,
      "outputs": [
        {
          "output_type": "stream",
          "text": [
            "+-----------+\n",
            "|status_code|\n",
            "+-----------+\n",
            "|        503|\n",
            "|        403|\n",
            "|        403|\n",
            "|        200|\n",
            "|        401|\n",
            "+-----------+\n",
            "only showing top 5 rows\n",
            "\n"
          ],
          "name": "stdout"
        }
      ]
    },
    {
      "cell_type": "markdown",
      "metadata": {
        "id": "bjQlBBnArZmF",
        "colab_type": "text"
      },
      "source": [
        "## Задание 3\n",
        "\n",
        "*Посчитайте, сколько ответов сообщали об ошибке*.\n",
        "\n",
        "- `status_code` *будет принимать значения от 400 до 499 при ошибке на стороне клиента (ошибка 4хх)*\n",
        "\n",
        "- `status_code` *будет принимать значения от 500 до 599 при ошибке на стороне сервера (ошибка 5хх)*\n",
        "\n",
        "*Посчитайте, сколько было было ошибок 4хх и 5хх*"
      ]
    },
    {
      "cell_type": "code",
      "metadata": {
        "id": "Xb9fjQnHvg5b",
        "colab_type": "code",
        "colab": {
          "base_uri": "https://localhost:8080/",
          "height": 140
        },
        "outputId": "fe2618ab-b16c-4ee5-b2ae-2aa3794c4a87"
      },
      "source": [
        "(\n",
        "    zgrab_codes_nonull\n",
        "    .select(\n",
        "        functions.substring(\n",
        "            'status_code', 0, 1\n",
        "        ).alias('short_code')\n",
        "    )\n",
        "    .where(\n",
        "        functions.col('short_code').isin([4, 5])\n",
        "    )\n",
        "    .groupBy('short_code')\n",
        "    .count()\n",
        "    .orderBy('count')\n",
        "    .show()\n",
        ")"
      ],
      "execution_count": 12,
      "outputs": [
        {
          "output_type": "stream",
          "text": [
            "+----------+-----+\n",
            "|short_code|count|\n",
            "+----------+-----+\n",
            "|         5| 1423|\n",
            "|         4| 5007|\n",
            "+----------+-----+\n",
            "\n"
          ],
          "name": "stdout"
        }
      ]
    },
    {
      "cell_type": "markdown",
      "metadata": {
        "id": "njVGMMg3u0rL",
        "colab_type": "text"
      },
      "source": [
        "## Задание 4\n",
        "\n",
        "*Определите IP-адреса для сайтов в рейтинге Алексы*"
      ]
    },
    {
      "cell_type": "code",
      "metadata": {
        "id": "Z1-IH2RQyXcK",
        "colab_type": "code",
        "colab": {
          "base_uri": "https://localhost:8080/",
          "height": 210
        },
        "outputId": "d8465a29-e797-4e68-92a8-941addc67cce"
      },
      "source": [
        "alexa_ips = (\n",
        "    alexa_top_df\n",
        "    .join(\n",
        "        resolved, \n",
        "        alexa_top_df.site == resolved.host,\n",
        "        'left'\n",
        "    )\n",
        ")\n",
        "\n",
        "alexa_ips.show(5)"
      ],
      "execution_count": 13,
      "outputs": [
        {
          "output_type": "stream",
          "text": [
            "+----+------------+------------+---------------+\n",
            "|rank|        site|        host|             ip|\n",
            "+----+------------+------------+---------------+\n",
            "|   1|  google.com|  google.com| 172.217.17.110|\n",
            "|   2| youtube.com| youtube.com| 216.58.211.110|\n",
            "|   3|facebook.com|facebook.com|  157.240.20.35|\n",
            "|   4|   baidu.com|   baidu.com| 220.181.38.148|\n",
            "|   4|   baidu.com|   baidu.com|123.125.114.144|\n",
            "+----+------------+------------+---------------+\n",
            "only showing top 5 rows\n",
            "\n"
          ],
          "name": "stdout"
        }
      ]
    },
    {
      "cell_type": "markdown",
      "metadata": {
        "id": "LcRP7C_Py9JM",
        "colab_type": "text"
      },
      "source": [
        "## Задание 5\n",
        "\n",
        "*Найдите, какие сайты из рейтинга алексы держат порт 8888 открытым (то есть присутствуют также в датасете zgrab_content и у них status_code – не NULL)*"
      ]
    },
    {
      "cell_type": "code",
      "metadata": {
        "id": "EkBoAQ9t3H56",
        "colab_type": "code",
        "colab": {
          "base_uri": "https://localhost:8080/",
          "height": 175
        },
        "outputId": "db963c1c-31a9-4c3f-f5fb-21552961fef2"
      },
      "source": [
        "zgrab_content.show(3)"
      ],
      "execution_count": 14,
      "outputs": [
        {
          "output_type": "stream",
          "text": [
            "+--------------------+--------------------+--------------+--------------------+\n",
            "|                data|               error|            ip|           timestamp|\n",
            "+--------------------+--------------------+--------------+--------------------+\n",
            "|               [[,]]|Get http://172.65...|172.65.100.108|2018-05-13T02:30:...|\n",
            "|[[, [<html style=...|                null|192.230.66.113|2018-05-13T02:30:...|\n",
            "|[[, [,,, [,,,,,,,...|                null| 159.65.233.69|2018-05-13T02:30:...|\n",
            "+--------------------+--------------------+--------------+--------------------+\n",
            "only showing top 3 rows\n",
            "\n"
          ],
          "name": "stdout"
        }
      ]
    },
    {
      "cell_type": "code",
      "metadata": {
        "id": "7Ma9lVAP102S",
        "colab_type": "code",
        "colab": {
          "base_uri": "https://localhost:8080/",
          "height": 210
        },
        "outputId": "8da779e5-6e49-444e-9a6e-7fb928d9acf2"
      },
      "source": [
        "zgrab_ips = (\n",
        "    zgrab_content\n",
        "    .select(\n",
        "        'data.http.response.status_code',\n",
        "        functions.col('ip').alias('zg_ip')\n",
        "    )\n",
        "    .where(\n",
        "        ~functions.isnull('status_code')\n",
        "    )\n",
        ")\n",
        "\n",
        "zgrab_ips.show(5)"
      ],
      "execution_count": 15,
      "outputs": [
        {
          "output_type": "stream",
          "text": [
            "+-----------+--------------+\n",
            "|status_code|         zg_ip|\n",
            "+-----------+--------------+\n",
            "|        503|192.230.66.113|\n",
            "|        403| 159.65.233.69|\n",
            "|        403|185.162.171.15|\n",
            "|        200|31.201.254.208|\n",
            "|        401| 151.40.76.245|\n",
            "+-----------+--------------+\n",
            "only showing top 5 rows\n",
            "\n"
          ],
          "name": "stdout"
        }
      ]
    },
    {
      "cell_type": "code",
      "metadata": {
        "id": "EqN-gjDw3WTg",
        "colab_type": "code",
        "colab": {
          "base_uri": "https://localhost:8080/",
          "height": 386
        },
        "outputId": "77776515-19d0-4129-837e-30ec3e73664a"
      },
      "source": [
        "(\n",
        "    alexa_ips\n",
        "    .join(\n",
        "        zgrab_ips, \n",
        "        alexa_ips['ip'] == zgrab_ips['zg_ip'],\n",
        "        'inner'\n",
        "    )\n",
        "    .select(\n",
        "        'site',\n",
        "        'status_code',\n",
        "        'rank',\n",
        "        'ip'\n",
        "    )\n",
        "    .show(15)\n",
        ")"
      ],
      "execution_count": 16,
      "outputs": [
        {
          "output_type": "stream",
          "text": [
            "+--------------------+-----------+-----+---------------+\n",
            "|                site|status_code| rank|             ip|\n",
            "+--------------------+-----------+-----+---------------+\n",
            "|    thedailystar.net|        503| 5976| 107.154.81.121|\n",
            "|          interac.ca|        503| 7480|  45.60.115.208|\n",
            "|            comfy.ua|        503|13880|   45.60.72.216|\n",
            "| nationalexpress.com|        503|17692| 149.126.74.191|\n",
            "|universal-music.c...|        503|21757|     45.60.71.1|\n",
            "|        banwagong.hk|        200|26763| 43.251.159.116|\n",
            "|    surveyjunkie.com|        503|29149|107.154.249.243|\n",
            "|        tripcase.com|        503|33526|   45.60.46.204|\n",
            "|            aota.org|        503|34832|   45.60.63.136|\n",
            "|    translink.com.au|        503|35576|   45.60.15.189|\n",
            "|         yahui13.com|        403|40241|  198.44.253.56|\n",
            "|  princehotels.co.jp|        503|40954|   45.60.72.180|\n",
            "|     lottery-win.org|        503|41344| 107.154.213.27|\n",
            "|         opal.com.au|        503|42154|  103.28.250.55|\n",
            "|   inspiredtaste.net|        503|50203| 199.83.131.142|\n",
            "+--------------------+-----------+-----+---------------+\n",
            "only showing top 15 rows\n",
            "\n"
          ],
          "name": "stdout"
        }
      ]
    },
    {
      "cell_type": "markdown",
      "metadata": {
        "id": "bHr0_8Si6M2j",
        "colab_type": "text"
      },
      "source": [
        "---\n",
        "\n",
        "[1] [How to upload a file to Google Drive from the command line](https://olivermarshall.net/how-to-upload-a-file-to-google-drive-from-the-command-line/ \"How to upload a file to Google Drive from the command line &mdash; OliverMarshall.net\")\n",
        "\n",
        "[2] [Column predicate methods in Spark (isNull, isin, isTrue, isNullOrBlank, etc.)](https://medium.com/@mrpowers/a-tour-of-column-predicate-methods-in-spark-5b1467d53c21 \"Column predicate methods in Spark (isNull, isin, isTrue, isNullOrBlank, etc.)\")\n",
        "\n",
        "\n",
        "[3] [Pyspark Joins by Example](http://www.learnbymarketing.com/1100/pyspark-joins-by-example/ \"Pyspark Joins by Example &#8211; Learn by Marketing\")\n",
        "\n",
        "\n",
        "[4] [Spark Dataframe distinguish columns with duplicated name](https://stackoverflow.com/questions/33778664/spark-dataframe-distinguish-columns-with-duplicated-name \"python - Spark Dataframe distinguish columns with duplicated name - Stack Overflow\")"
      ]
    }
  ]
}
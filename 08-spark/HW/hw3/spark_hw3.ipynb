{
  "nbformat": 4,
  "nbformat_minor": 0,
  "metadata": {
    "colab": {
      "name": "spark_hw3.ipynb",
      "version": "0.3.2",
      "provenance": [],
      "collapsed_sections": [],
      "include_colab_link": true
    },
    "kernelspec": {
      "name": "python3",
      "display_name": "Python 3"
    }
  },
  "cells": [
    {
      "cell_type": "markdown",
      "metadata": {
        "id": "view-in-github",
        "colab_type": "text"
      },
      "source": [
        "<a href=\"https://colab.research.google.com/github/rklepov/hse-cs-ml-2018-2019/blob/homework/08-spark/HW/hw3/spark_hw3.ipynb\" target=\"_parent\"><img src=\"https://colab.research.google.com/assets/colab-badge.svg\" alt=\"Open In Colab\"/></a>"
      ]
    },
    {
      "cell_type": "code",
      "metadata": {
        "id": "ou39zRLhyAPe",
        "colab_type": "code",
        "colab": {
          "base_uri": "https://localhost:8080/",
          "height": 34
        },
        "outputId": "ac06e947-996e-4d50-cc0d-6967faea05a1"
      },
      "source": [
        "!pip search spark | grep INSTALLED || pip install pyspark==2.4.0 findspark"
      ],
      "execution_count": 1,
      "outputs": [
        {
          "output_type": "stream",
          "text": [
            "  INSTALLED: 2.4.0\n"
          ],
          "name": "stdout"
        }
      ]
    },
    {
      "cell_type": "code",
      "metadata": {
        "id": "Pjay5RX5yAjb",
        "colab_type": "code",
        "colab": {}
      },
      "source": [
        "import os\n",
        "os.environ[\"JAVA_HOME\"] = \"/usr/lib/jvm/java-8-openjdk-amd64/jre/\"\n",
        "\n",
        "import findspark\n",
        "findspark.init('/usr/local/lib/python3.6/dist-packages/pyspark/')\n",
        "\n",
        "import pyspark"
      ],
      "execution_count": 0,
      "outputs": []
    },
    {
      "cell_type": "code",
      "metadata": {
        "id": "hGY89Mwc07iG",
        "colab_type": "code",
        "colab": {}
      },
      "source": [
        "from pyspark.sql import types, functions\n",
        "\n",
        "from pyspark.ml import classification, pipeline, feature, evaluation"
      ],
      "execution_count": 0,
      "outputs": []
    },
    {
      "cell_type": "code",
      "metadata": {
        "id": "x0yOjiy9yjSM",
        "colab_type": "code",
        "colab": {}
      },
      "source": [
        "spark = pyspark.sql.SparkSession.builder.getOrCreate()"
      ],
      "execution_count": 0,
      "outputs": []
    },
    {
      "cell_type": "markdown",
      "metadata": {
        "id": "48kKeXIsadFU",
        "colab_type": "text"
      },
      "source": [
        "## Загрузка данных\n",
        "\n",
        "Будем использовать датасет [Adult](https://archive.ics.uci.edu/ml/datasets/Adult \"UCI Machine Learning Repository: Adult Data Set\") (потому что он на букву **A**)."
      ]
    },
    {
      "cell_type": "code",
      "metadata": {
        "id": "zAhJNgoFyXLs",
        "colab_type": "code",
        "colab": {
          "base_uri": "https://localhost:8080/",
          "height": 52
        },
        "outputId": "98f2263a-8349-465e-c65d-11447ed2607f"
      },
      "source": [
        "%%bash\n",
        "\n",
        "test -f adult.data || wget -q -O adult.data 'https://archive.ics.uci.edu/ml/machine-learning-databases/adult/adult.data'\n",
        "test -f adult.test || wget -q -O adult.test 'https://archive.ics.uci.edu/ml/machine-learning-databases/adult/adult.test'\n",
        "\n",
        "ls -hl adult.*"
      ],
      "execution_count": 5,
      "outputs": [
        {
          "output_type": "stream",
          "text": [
            "-rw-r--r-- 1 root root 3.8M Aug 10  1996 adult.data\n",
            "-rw-r--r-- 1 root root 2.0M Aug 10  1996 adult.test\n"
          ],
          "name": "stdout"
        }
      ]
    },
    {
      "cell_type": "markdown",
      "metadata": {
        "id": "l0gXDtAKegQn",
        "colab_type": "text"
      },
      "source": [
        "### Схема данных"
      ]
    },
    {
      "cell_type": "code",
      "metadata": {
        "id": "DXGle5WJyZPN",
        "colab_type": "code",
        "colab": {}
      },
      "source": [
        "adult_cols = [\n",
        "    ('age', 'integer'),\n",
        "    ('workclass', 'string'),\n",
        "    ('fnlwgt', 'float'),\n",
        "    ('education', 'string'),\n",
        "    ('education-num', 'float'),\n",
        "    ('marital-status', 'string'),\n",
        "    ('occupation', 'string'),\n",
        "    ('relationship', 'string'),\n",
        "    ('race', 'string'),\n",
        "    ('sex', 'string'),\n",
        "    ('capital-gain', 'float'),\n",
        "    ('capital-loss', 'float'),\n",
        "    ('hours-per-week', 'float'),\n",
        "    ('native-country', 'string'),\n",
        "    ('income', 'string'),\n",
        "]"
      ],
      "execution_count": 0,
      "outputs": []
    },
    {
      "cell_type": "code",
      "metadata": {
        "id": "3fXRuHBA3KYh",
        "colab_type": "code",
        "colab": {}
      },
      "source": [
        "import functools\n",
        "\n",
        "adult_schema = functools.reduce(lambda x,y: x.add(*y), adult_cols, types.StructType())"
      ],
      "execution_count": 0,
      "outputs": []
    },
    {
      "cell_type": "code",
      "metadata": {
        "id": "f916cWfJzHYA",
        "colab_type": "code",
        "colab": {
          "base_uri": "https://localhost:8080/",
          "height": 230
        },
        "outputId": "ac2be157-7f7b-442a-f100-d8ab55fcc7e3"
      },
      "source": [
        "adult_train_df = (\n",
        "    spark\n",
        "    .read\n",
        "    .option('header', 'false')\n",
        "    .schema(adult_schema)\n",
        "    .csv('adult.data')\n",
        ")\n",
        "\n",
        "adult_train_df.show(5)"
      ],
      "execution_count": 8,
      "outputs": [
        {
          "output_type": "stream",
          "text": [
            "+---+-----------------+--------+----------+-------------+-------------------+------------------+--------------+------+-------+------------+------------+--------------+--------------+------+\n",
            "|age|        workclass|  fnlwgt| education|education-num|     marital-status|        occupation|  relationship|  race|    sex|capital-gain|capital-loss|hours-per-week|native-country|income|\n",
            "+---+-----------------+--------+----------+-------------+-------------------+------------------+--------------+------+-------+------------+------------+--------------+--------------+------+\n",
            "| 39|        State-gov| 77516.0| Bachelors|         13.0|      Never-married|      Adm-clerical| Not-in-family| White|   Male|      2174.0|         0.0|          40.0| United-States| <=50K|\n",
            "| 50| Self-emp-not-inc| 83311.0| Bachelors|         13.0| Married-civ-spouse|   Exec-managerial|       Husband| White|   Male|         0.0|         0.0|          13.0| United-States| <=50K|\n",
            "| 38|          Private|215646.0|   HS-grad|          9.0|           Divorced| Handlers-cleaners| Not-in-family| White|   Male|         0.0|         0.0|          40.0| United-States| <=50K|\n",
            "| 53|          Private|234721.0|      11th|          7.0| Married-civ-spouse| Handlers-cleaners|       Husband| Black|   Male|         0.0|         0.0|          40.0| United-States| <=50K|\n",
            "| 28|          Private|338409.0| Bachelors|         13.0| Married-civ-spouse|    Prof-specialty|          Wife| Black| Female|         0.0|         0.0|          40.0|          Cuba| <=50K|\n",
            "+---+-----------------+--------+----------+-------------+-------------------+------------------+--------------+------+-------+------------+------------+--------------+--------------+------+\n",
            "only showing top 5 rows\n",
            "\n"
          ],
          "name": "stdout"
        }
      ]
    },
    {
      "cell_type": "markdown",
      "metadata": {
        "id": "ICwW9v-vcygJ",
        "colab_type": "text"
      },
      "source": [
        "*В файле с тестовым датасетом первую строку нужно удалить. Также в тестовом датасете значение целевой переменной почему-то содержит точку `\".\"` в конце*."
      ]
    },
    {
      "cell_type": "code",
      "metadata": {
        "id": "IVqBZpmUzTSI",
        "colab_type": "code",
        "colab": {
          "base_uri": "https://localhost:8080/",
          "height": 230
        },
        "outputId": "3c04ca02-e125-465b-a9e6-c8b59fa946c4"
      },
      "source": [
        "adult_test_df = (\n",
        "    spark\n",
        "    .read\n",
        "    .option('header', 'true')\n",
        "    .schema(adult_schema)\n",
        "    .csv('adult.test')\n",
        "    .withColumn('income', functions.substring_index('income', '.', 1)) # \"<=50K.\" -> '<=50K'\n",
        ")\n",
        "\n",
        "adult_test_df.show(5)"
      ],
      "execution_count": 9,
      "outputs": [
        {
          "output_type": "stream",
          "text": [
            "+---+----------+--------+-------------+-------------+-------------------+------------------+------------+------+-------+------------+------------+--------------+--------------+------+\n",
            "|age| workclass|  fnlwgt|    education|education-num|     marital-status|        occupation|relationship|  race|    sex|capital-gain|capital-loss|hours-per-week|native-country|income|\n",
            "+---+----------+--------+-------------+-------------+-------------------+------------------+------------+------+-------+------------+------------+--------------+--------------+------+\n",
            "| 25|   Private|226802.0|         11th|          7.0|      Never-married| Machine-op-inspct|   Own-child| Black|   Male|         0.0|         0.0|          40.0| United-States| <=50K|\n",
            "| 38|   Private| 89814.0|      HS-grad|          9.0| Married-civ-spouse|   Farming-fishing|     Husband| White|   Male|         0.0|         0.0|          50.0| United-States| <=50K|\n",
            "| 28| Local-gov|336951.0|   Assoc-acdm|         12.0| Married-civ-spouse|   Protective-serv|     Husband| White|   Male|         0.0|         0.0|          40.0| United-States|  >50K|\n",
            "| 44|   Private|160323.0| Some-college|         10.0| Married-civ-spouse| Machine-op-inspct|     Husband| Black|   Male|      7688.0|         0.0|          40.0| United-States|  >50K|\n",
            "| 18|         ?|103497.0| Some-college|         10.0|      Never-married|                 ?|   Own-child| White| Female|         0.0|         0.0|          30.0| United-States| <=50K|\n",
            "+---+----------+--------+-------------+-------------+-------------------+------------------+------------+------+-------+------------+------------+--------------+--------------+------+\n",
            "only showing top 5 rows\n",
            "\n"
          ],
          "name": "stdout"
        }
      ]
    },
    {
      "cell_type": "markdown",
      "metadata": {
        "id": "AInj2v_ceJTQ",
        "colab_type": "text"
      },
      "source": [
        "### Категориальные признаки\n",
        "(исключаем целевую переменную)"
      ]
    },
    {
      "cell_type": "code",
      "metadata": {
        "id": "jO4istOO65W8",
        "colab_type": "code",
        "colab": {
          "base_uri": "https://localhost:8080/",
          "height": 157
        },
        "outputId": "735a3323-b175-4594-dd76-5008813e2906"
      },
      "source": [
        "cat_cols = [ x[0] for x in adult_train_df.dtypes if 'string' == x[1] ][:-1]\n",
        "\n",
        "cat_cols"
      ],
      "execution_count": 10,
      "outputs": [
        {
          "output_type": "execute_result",
          "data": {
            "text/plain": [
              "['workclass',\n",
              " 'education',\n",
              " 'marital-status',\n",
              " 'occupation',\n",
              " 'relationship',\n",
              " 'race',\n",
              " 'sex',\n",
              " 'native-country']"
            ]
          },
          "metadata": {
            "tags": []
          },
          "execution_count": 10
        }
      ]
    },
    {
      "cell_type": "code",
      "metadata": {
        "id": "BEXrcYzXd1LL",
        "colab_type": "code",
        "colab": {
          "base_uri": "https://localhost:8080/",
          "height": 290
        },
        "outputId": "dff95de2-e02b-443a-e265-33ffaf56fcf1"
      },
      "source": [
        "adult_train_df.select(cat_cols).toPandas().describe().T"
      ],
      "execution_count": 11,
      "outputs": [
        {
          "output_type": "execute_result",
          "data": {
            "text/html": [
              "<div>\n",
              "<style scoped>\n",
              "    .dataframe tbody tr th:only-of-type {\n",
              "        vertical-align: middle;\n",
              "    }\n",
              "\n",
              "    .dataframe tbody tr th {\n",
              "        vertical-align: top;\n",
              "    }\n",
              "\n",
              "    .dataframe thead th {\n",
              "        text-align: right;\n",
              "    }\n",
              "</style>\n",
              "<table border=\"1\" class=\"dataframe\">\n",
              "  <thead>\n",
              "    <tr style=\"text-align: right;\">\n",
              "      <th></th>\n",
              "      <th>count</th>\n",
              "      <th>unique</th>\n",
              "      <th>top</th>\n",
              "      <th>freq</th>\n",
              "    </tr>\n",
              "  </thead>\n",
              "  <tbody>\n",
              "    <tr>\n",
              "      <th>workclass</th>\n",
              "      <td>32561</td>\n",
              "      <td>9</td>\n",
              "      <td>Private</td>\n",
              "      <td>22696</td>\n",
              "    </tr>\n",
              "    <tr>\n",
              "      <th>education</th>\n",
              "      <td>32561</td>\n",
              "      <td>16</td>\n",
              "      <td>HS-grad</td>\n",
              "      <td>10501</td>\n",
              "    </tr>\n",
              "    <tr>\n",
              "      <th>marital-status</th>\n",
              "      <td>32561</td>\n",
              "      <td>7</td>\n",
              "      <td>Married-civ-spouse</td>\n",
              "      <td>14976</td>\n",
              "    </tr>\n",
              "    <tr>\n",
              "      <th>occupation</th>\n",
              "      <td>32561</td>\n",
              "      <td>15</td>\n",
              "      <td>Prof-specialty</td>\n",
              "      <td>4140</td>\n",
              "    </tr>\n",
              "    <tr>\n",
              "      <th>relationship</th>\n",
              "      <td>32561</td>\n",
              "      <td>6</td>\n",
              "      <td>Husband</td>\n",
              "      <td>13193</td>\n",
              "    </tr>\n",
              "    <tr>\n",
              "      <th>race</th>\n",
              "      <td>32561</td>\n",
              "      <td>5</td>\n",
              "      <td>White</td>\n",
              "      <td>27816</td>\n",
              "    </tr>\n",
              "    <tr>\n",
              "      <th>sex</th>\n",
              "      <td>32561</td>\n",
              "      <td>2</td>\n",
              "      <td>Male</td>\n",
              "      <td>21790</td>\n",
              "    </tr>\n",
              "    <tr>\n",
              "      <th>native-country</th>\n",
              "      <td>32561</td>\n",
              "      <td>42</td>\n",
              "      <td>United-States</td>\n",
              "      <td>29170</td>\n",
              "    </tr>\n",
              "  </tbody>\n",
              "</table>\n",
              "</div>"
            ],
            "text/plain": [
              "                count unique                  top   freq\n",
              "workclass       32561      9              Private  22696\n",
              "education       32561     16              HS-grad  10501\n",
              "marital-status  32561      7   Married-civ-spouse  14976\n",
              "occupation      32561     15       Prof-specialty   4140\n",
              "relationship    32561      6              Husband  13193\n",
              "race            32561      5                White  27816\n",
              "sex             32561      2                 Male  21790\n",
              "native-country  32561     42        United-States  29170"
            ]
          },
          "metadata": {
            "tags": []
          },
          "execution_count": 11
        }
      ]
    },
    {
      "cell_type": "markdown",
      "metadata": {
        "id": "o2Tt9a7YeSde",
        "colab_type": "text"
      },
      "source": [
        "### Числовые признаки"
      ]
    },
    {
      "cell_type": "code",
      "metadata": {
        "id": "7GzNd3U8_RiR",
        "colab_type": "code",
        "colab": {
          "base_uri": "https://localhost:8080/",
          "height": 122
        },
        "outputId": "c9232960-b850-4c24-a9e9-976a946afe93"
      },
      "source": [
        "num_cols = [ x[0] for x in adult_train_df.dtypes if 'string' != x[1] ]\n",
        "\n",
        "num_cols"
      ],
      "execution_count": 12,
      "outputs": [
        {
          "output_type": "execute_result",
          "data": {
            "text/plain": [
              "['age',\n",
              " 'fnlwgt',\n",
              " 'education-num',\n",
              " 'capital-gain',\n",
              " 'capital-loss',\n",
              " 'hours-per-week']"
            ]
          },
          "metadata": {
            "tags": []
          },
          "execution_count": 12
        }
      ]
    },
    {
      "cell_type": "code",
      "metadata": {
        "id": "D9Xt5hvseB1E",
        "colab_type": "code",
        "colab": {
          "base_uri": "https://localhost:8080/",
          "height": 230
        },
        "outputId": "ad4faef4-9f0f-4cc2-a3f1-29b3a6c52222"
      },
      "source": [
        "adult_train_df.select(num_cols).toPandas().describe().T"
      ],
      "execution_count": 13,
      "outputs": [
        {
          "output_type": "execute_result",
          "data": {
            "text/html": [
              "<div>\n",
              "<style scoped>\n",
              "    .dataframe tbody tr th:only-of-type {\n",
              "        vertical-align: middle;\n",
              "    }\n",
              "\n",
              "    .dataframe tbody tr th {\n",
              "        vertical-align: top;\n",
              "    }\n",
              "\n",
              "    .dataframe thead th {\n",
              "        text-align: right;\n",
              "    }\n",
              "</style>\n",
              "<table border=\"1\" class=\"dataframe\">\n",
              "  <thead>\n",
              "    <tr style=\"text-align: right;\">\n",
              "      <th></th>\n",
              "      <th>count</th>\n",
              "      <th>mean</th>\n",
              "      <th>std</th>\n",
              "      <th>min</th>\n",
              "      <th>25%</th>\n",
              "      <th>50%</th>\n",
              "      <th>75%</th>\n",
              "      <th>max</th>\n",
              "    </tr>\n",
              "  </thead>\n",
              "  <tbody>\n",
              "    <tr>\n",
              "      <th>age</th>\n",
              "      <td>32561.0</td>\n",
              "      <td>38.581647</td>\n",
              "      <td>13.640433</td>\n",
              "      <td>17.0</td>\n",
              "      <td>28.0</td>\n",
              "      <td>37.0</td>\n",
              "      <td>48.0</td>\n",
              "      <td>90.0</td>\n",
              "    </tr>\n",
              "    <tr>\n",
              "      <th>fnlwgt</th>\n",
              "      <td>32561.0</td>\n",
              "      <td>189777.859375</td>\n",
              "      <td>105549.703125</td>\n",
              "      <td>12285.0</td>\n",
              "      <td>117827.0</td>\n",
              "      <td>178356.0</td>\n",
              "      <td>237051.0</td>\n",
              "      <td>1484705.0</td>\n",
              "    </tr>\n",
              "    <tr>\n",
              "      <th>education-num</th>\n",
              "      <td>32561.0</td>\n",
              "      <td>10.080679</td>\n",
              "      <td>2.572562</td>\n",
              "      <td>1.0</td>\n",
              "      <td>9.0</td>\n",
              "      <td>10.0</td>\n",
              "      <td>12.0</td>\n",
              "      <td>16.0</td>\n",
              "    </tr>\n",
              "    <tr>\n",
              "      <th>capital-gain</th>\n",
              "      <td>32561.0</td>\n",
              "      <td>1077.649170</td>\n",
              "      <td>7385.911621</td>\n",
              "      <td>0.0</td>\n",
              "      <td>0.0</td>\n",
              "      <td>0.0</td>\n",
              "      <td>0.0</td>\n",
              "      <td>99999.0</td>\n",
              "    </tr>\n",
              "    <tr>\n",
              "      <th>capital-loss</th>\n",
              "      <td>32561.0</td>\n",
              "      <td>87.303833</td>\n",
              "      <td>403.014771</td>\n",
              "      <td>0.0</td>\n",
              "      <td>0.0</td>\n",
              "      <td>0.0</td>\n",
              "      <td>0.0</td>\n",
              "      <td>4356.0</td>\n",
              "    </tr>\n",
              "    <tr>\n",
              "      <th>hours-per-week</th>\n",
              "      <td>32561.0</td>\n",
              "      <td>40.437454</td>\n",
              "      <td>12.347933</td>\n",
              "      <td>1.0</td>\n",
              "      <td>40.0</td>\n",
              "      <td>40.0</td>\n",
              "      <td>45.0</td>\n",
              "      <td>99.0</td>\n",
              "    </tr>\n",
              "  </tbody>\n",
              "</table>\n",
              "</div>"
            ],
            "text/plain": [
              "                  count           mean  ...       75%        max\n",
              "age             32561.0      38.581647  ...      48.0       90.0\n",
              "fnlwgt          32561.0  189777.859375  ...  237051.0  1484705.0\n",
              "education-num   32561.0      10.080679  ...      12.0       16.0\n",
              "capital-gain    32561.0    1077.649170  ...       0.0    99999.0\n",
              "capital-loss    32561.0      87.303833  ...       0.0     4356.0\n",
              "hours-per-week  32561.0      40.437454  ...      45.0       99.0\n",
              "\n",
              "[6 rows x 8 columns]"
            ]
          },
          "metadata": {
            "tags": []
          },
          "execution_count": 13
        }
      ]
    },
    {
      "cell_type": "markdown",
      "metadata": {
        "id": "Tcz27cpBe4Tj",
        "colab_type": "text"
      },
      "source": [
        "## Предобработка данных"
      ]
    },
    {
      "cell_type": "markdown",
      "metadata": {
        "id": "hiBhDNJGhRnB",
        "colab_type": "text"
      },
      "source": [
        "[One hot encoding](https://spark.apache.org/docs/latest/ml-features.html#onehotencoderestimator \"Extracting, transforming and selecting features - Spark Documentation\") для категориальных признаков."
      ]
    },
    {
      "cell_type": "code",
      "metadata": {
        "id": "_0vQUDvvAaKe",
        "colab_type": "code",
        "colab": {}
      },
      "source": [
        "pp_stages = []\n",
        "\n",
        "for cat_col in cat_cols:\n",
        "    string_indexer = feature.StringIndexer(inputCol=cat_col, outputCol=cat_col + 'Idx')\n",
        "    ohe_encoder = feature.OneHotEncoderEstimator(inputCols=[string_indexer.getOutputCol()],\n",
        "                                                 outputCols=[cat_col + 'OHE'])\n",
        "    pp_stages += [string_indexer, ohe_encoder]\n",
        "    \n",
        "label_string_indexer = feature.StringIndexer(inputCol='income', outputCol='label')\n",
        "pp_stages += [label_string_indexer]"
      ],
      "execution_count": 0,
      "outputs": []
    },
    {
      "cell_type": "markdown",
      "metadata": {
        "id": "jATpJ32Vhvy6",
        "colab_type": "text"
      },
      "source": [
        "[Стандартизация](https://spark.apache.org/docs/latest/ml-features.html#standardscaler \"Extracting, transforming and selecting features - Spark Documentation\") для числовых признаков."
      ]
    },
    {
      "cell_type": "code",
      "metadata": {
        "id": "BzhppfC0inPd",
        "colab_type": "code",
        "colab": {}
      },
      "source": [
        "num_col_assembler = feature.VectorAssembler(inputCols=num_cols, outputCol='num_features')\n",
        "std_scaler = feature.StandardScaler(inputCol='num_features', outputCol='num_features_scaled')\n",
        "\n",
        "pp_stages += [num_col_assembler, std_scaler]"
      ],
      "execution_count": 0,
      "outputs": []
    },
    {
      "cell_type": "markdown",
      "metadata": {
        "id": "gE8XgRv_jfP7",
        "colab_type": "text"
      },
      "source": [
        "### Подготовка признаков"
      ]
    },
    {
      "cell_type": "code",
      "metadata": {
        "id": "vqLlsl21ChPv",
        "colab_type": "code",
        "colab": {}
      },
      "source": [
        "assembler_inputs = [c + \"OHE\" for c in cat_cols] + ['num_features_scaled']\n",
        "assembler = feature.VectorAssembler(inputCols=assembler_inputs, outputCol='features')\n",
        "\n",
        "pp_stages += [assembler]"
      ],
      "execution_count": 0,
      "outputs": []
    },
    {
      "cell_type": "code",
      "metadata": {
        "id": "EhfrkFJNCpr7",
        "colab_type": "code",
        "colab": {
          "base_uri": "https://localhost:8080/",
          "height": 298
        },
        "outputId": "5bac096a-6a9a-4879-8b19-bd7c052e6428"
      },
      "source": [
        "pp_pipeline = pipeline.Pipeline().setStages(pp_stages)\n",
        "\n",
        "preprocessor = pp_pipeline.fit(adult_train_df)\n",
        "\n",
        "train = (\n",
        "    preprocessor\n",
        "    .transform(adult_train_df)\n",
        "    .select('features', 'label')\n",
        ")\n",
        "\n",
        "train.show(10)"
      ],
      "execution_count": 17,
      "outputs": [
        {
          "output_type": "stream",
          "text": [
            "+--------------------+-----+\n",
            "|            features|label|\n",
            "+--------------------+-----+\n",
            "|(100,[4,10,24,32,...|  0.0|\n",
            "|(100,[1,10,23,31,...|  0.0|\n",
            "|(100,[0,8,25,38,4...|  0.0|\n",
            "|(100,[0,13,23,38,...|  0.0|\n",
            "|(100,[0,10,23,29,...|  0.0|\n",
            "|(100,[0,11,23,31,...|  0.0|\n",
            "|(100,[0,18,28,34,...|  0.0|\n",
            "|(100,[1,8,23,31,4...|  1.0|\n",
            "|(100,[0,11,24,29,...|  1.0|\n",
            "|(100,[0,10,23,31,...|  1.0|\n",
            "+--------------------+-----+\n",
            "only showing top 10 rows\n",
            "\n"
          ],
          "name": "stdout"
        }
      ]
    },
    {
      "cell_type": "markdown",
      "metadata": {
        "colab_type": "text",
        "id": "wSCIkmnKone3"
      },
      "source": [
        "## Модель\n",
        "\n",
        "Попробуем использовать [логистическую регрессию](https://spark.apache.org/docs/latest/ml-classification-regression.html#logistic-regression \"Classification and regression - Spark Documentation\") (потому что для неё доступно [summary](https://spark.apache.org/docs/latest/api/python/pyspark.ml.html#pyspark.ml.classification.LogisticRegressionSummary \"pyspark.ml package &#8212; PySpark master documentation\"))."
      ]
    },
    {
      "cell_type": "code",
      "metadata": {
        "id": "zVtPV0SgExfY",
        "colab_type": "code",
        "colab": {}
      },
      "source": [
        "lr = classification.LogisticRegression(labelCol='label', featuresCol='features')"
      ],
      "execution_count": 0,
      "outputs": []
    },
    {
      "cell_type": "code",
      "metadata": {
        "id": "j-oDltpoFAPY",
        "colab_type": "code",
        "colab": {}
      },
      "source": [
        "lr_model = lr.fit(train)\n",
        "\n",
        "train_summary = lr_model.summary"
      ],
      "execution_count": 0,
      "outputs": []
    },
    {
      "cell_type": "code",
      "metadata": {
        "id": "ebbdRJxfu9Rg",
        "colab_type": "code",
        "colab": {}
      },
      "source": [
        "train_evaluator = evaluation.BinaryClassificationEvaluator(rawPredictionCol='rawPrediction')\n",
        "\n",
        "pr_auc_train = train_evaluator.evaluate(train_summary.predictions, {train_evaluator.metricName: 'areaUnderPR'})"
      ],
      "execution_count": 0,
      "outputs": []
    },
    {
      "cell_type": "code",
      "metadata": {
        "id": "7f7f4aQ7sRwb",
        "colab_type": "code",
        "colab": {
          "base_uri": "https://localhost:8080/",
          "height": 52
        },
        "outputId": "554fc4aa-cf1d-4bc0-d9f6-9f224e3b642b"
      },
      "source": [
        "print(f'Train summary:\\nAccuracy: {train_summary.accuracy:.3f}'\n",
        "      f', ROC AUC: {train_summary.areaUnderROC:.3f}, PR AUC: {pr_auc_train:.3f}')"
      ],
      "execution_count": 21,
      "outputs": [
        {
          "output_type": "stream",
          "text": [
            "Train summary:\n",
            "Accuracy: 0.853, ROC AUC: 0.909, PR AUC: 0.771\n"
          ],
          "name": "stdout"
        }
      ]
    },
    {
      "cell_type": "markdown",
      "metadata": {
        "id": "CQ1SwOsVs_aN",
        "colab_type": "text"
      },
      "source": [
        "### Оценка модели."
      ]
    },
    {
      "cell_type": "code",
      "metadata": {
        "id": "_eYwlIcMo8Uq",
        "colab_type": "code",
        "colab": {
          "base_uri": "https://localhost:8080/",
          "height": 210
        },
        "outputId": "e3d40dab-ebf8-48e5-c7bd-898ca39661e1"
      },
      "source": [
        "test = (\n",
        "    preprocessor\n",
        "    .transform(adult_test_df)\n",
        "    .select('features', 'label')\n",
        ")\n",
        "\n",
        "test.show(5)"
      ],
      "execution_count": 22,
      "outputs": [
        {
          "output_type": "stream",
          "text": [
            "+--------------------+-----+\n",
            "|            features|label|\n",
            "+--------------------+-----+\n",
            "|(100,[0,13,24,35,...|  0.0|\n",
            "|(100,[0,8,23,39,4...|  0.0|\n",
            "|(100,[2,14,23,41,...|  1.0|\n",
            "|(100,[0,9,23,35,4...|  1.0|\n",
            "|(100,[3,9,24,36,4...|  0.0|\n",
            "+--------------------+-----+\n",
            "only showing top 5 rows\n",
            "\n"
          ],
          "name": "stdout"
        }
      ]
    },
    {
      "cell_type": "code",
      "metadata": {
        "id": "Ry9j4FmPFf-b",
        "colab_type": "code",
        "colab": {
          "base_uri": "https://localhost:8080/",
          "height": 210
        },
        "outputId": "6bd36e53-c97b-4d6f-de19-30995910ed19"
      },
      "source": [
        "predictions = lr_model.transform(test)\n",
        "\n",
        "predictions.show(5)"
      ],
      "execution_count": 23,
      "outputs": [
        {
          "output_type": "stream",
          "text": [
            "+--------------------+-----+--------------------+--------------------+----------+\n",
            "|            features|label|       rawPrediction|         probability|prediction|\n",
            "+--------------------+-----+--------------------+--------------------+----------+\n",
            "|(100,[0,13,24,35,...|  0.0|[6.05378303475958...|[0.99765654569464...|       0.0|\n",
            "|(100,[0,8,23,39,4...|  0.0|[2.01085938710698...|[0.88193253742927...|       0.0|\n",
            "|(100,[2,14,23,41,...|  1.0|[0.47709244026478...|[0.61706106222511...|       0.0|\n",
            "|(100,[0,9,23,35,4...|  1.0|[-1.2073270571714...|[0.23017433905550...|       1.0|\n",
            "|(100,[3,9,24,36,4...|  0.0|[6.65264144509033...|[0.99871105499591...|       0.0|\n",
            "+--------------------+-----+--------------------+--------------------+----------+\n",
            "only showing top 5 rows\n",
            "\n"
          ],
          "name": "stdout"
        }
      ]
    },
    {
      "cell_type": "code",
      "metadata": {
        "id": "4hpDitg3oqQM",
        "colab_type": "code",
        "colab": {}
      },
      "source": [
        "test_evaluator = evaluation.BinaryClassificationEvaluator(rawPredictionCol='rawPrediction')\n",
        "\n",
        "test_evaluator.evaluate(predictions)\n",
        "\n",
        "pr_auc_test = test_evaluator.evaluate(predictions, {test_evaluator.metricName: 'areaUnderPR'})"
      ],
      "execution_count": 0,
      "outputs": []
    },
    {
      "cell_type": "code",
      "metadata": {
        "id": "TnW57K3Iq_gj",
        "colab_type": "code",
        "colab": {}
      },
      "source": [
        "test_summary = lr_model.evaluate(test)"
      ],
      "execution_count": 0,
      "outputs": []
    },
    {
      "cell_type": "code",
      "metadata": {
        "id": "kW8JC8DWtuf_",
        "colab_type": "code",
        "colab": {
          "base_uri": "https://localhost:8080/",
          "height": 52
        },
        "outputId": "532d6a27-2264-4f4f-ee02-8c8d23640dbc"
      },
      "source": [
        "print(f'Test summary:\\nAccuracy: {test_summary.accuracy:.3f}'\n",
        "      f', ROC AUC: {test_summary.areaUnderROC:.3f}, PR AUC: {pr_auc_test:.3f}')"
      ],
      "execution_count": 26,
      "outputs": [
        {
          "output_type": "stream",
          "text": [
            "Test summary:\n",
            "Accuracy: 0.853, ROC AUC: 0.905, PR AUC: 0.763\n"
          ],
          "name": "stdout"
        }
      ]
    },
    {
      "cell_type": "markdown",
      "metadata": {
        "id": "imuEusvgwcYN",
        "colab_type": "text"
      },
      "source": [
        "## *References*"
      ]
    },
    {
      "cell_type": "markdown",
      "metadata": {
        "id": "g6t3VGqYwebo",
        "colab_type": "text"
      },
      "source": [
        "[1] [CSV Files &mdash; Databricks Documentation](https://docs.databricks.com/spark/latest/data-sources/read-csv.html \"CSV Files &mdash; Databricks Documentation\")\n",
        "\n",
        "[2] [Binary Classification Example &mdash; Databricks Documentation](https://docs.databricks.com/spark/latest/mllib/binary-classification-mllib-pipelines.html \"Binary Classification Example &mdash; Databricks Documentation\")\n",
        "\n",
        "[3] [Machine Learning with PySpark and MLlib — Solving a Binary Classification Problem](https://towardsdatascience.com/machine-learning-with-pyspark-and-mllib-solving-a-binary-classification-problem-96396065d2aa \"Machine Learning with PySpark and MLlib — Solving a Binary Classification Problem\")\n",
        "\n",
        "[4] [Apache Spark MLlib Tutorial — Part 1: Regression](https://towardsdatascience.com/apache-spark-mllib-tutorial-ec6f1cb336a9 \"Apache Spark MLlib Tutorial — Part 1: Regression – Towards Data Science\")\n",
        "\n",
        "[5] [Apache Spark MLlib Tutorial — Part 2: Feature Transformation](https://towardsdatascience.com/apache-spark-mllib-tutorial-7aba8a1dce6e \"Apache Spark MLlib Tutorial — Part 2: Feature Transformation – Towards Data Science\")\n",
        "\n",
        "[6] [Apache Spark MLlib Tutorial — Part 3: Complete Classification Workflow](https://towardsdatascience.com/apache-spark-mllib-tutorial-part-3-complete-classification-workflow-a1eb430ad069 \"Apache Spark MLlib Tutorial — Part 3: Complete Classification Workflow – Towards Data Science\")\n",
        "\n",
        "[7] [Apache Spark Machine Learning Tutorial | MapR](https://mapr.com/blog/apache-spark-machine-learning-tutorial \"Apache Spark Machine Learning Tutorial | MapR\")"
      ]
    }
  ]
}
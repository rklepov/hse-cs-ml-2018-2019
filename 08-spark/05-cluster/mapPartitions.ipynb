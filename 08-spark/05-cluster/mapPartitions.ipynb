{
 "cells": [
  {
   "cell_type": "code",
   "execution_count": 1,
   "metadata": {},
   "outputs": [],
   "source": [
    "import findspark\n",
    "findspark.init(\"/opt/spark/spark-2.4.0-bin-hadoop2.7/\")\n",
    "\n",
    "import pyspark\n",
    "\n",
    "\n",
    "sc = pyspark.SparkContext(\n",
    "    appName=\"hse\",\n",
    "    master=\"spark://95.216.186.128:7414\"\n",
    ")\n"
   ]
  },
  {
   "cell_type": "code",
   "execution_count": 2,
   "metadata": {},
   "outputs": [
    {
     "data": {
      "text/plain": [
       "4950"
      ]
     },
     "execution_count": 2,
     "metadata": {},
     "output_type": "execute_result"
    }
   ],
   "source": [
    "sc.parallelize(range(100)).sum()"
   ]
  },
  {
   "cell_type": "code",
   "execution_count": 3,
   "metadata": {},
   "outputs": [],
   "source": [
    "sql = pyspark.sql.HiveContext(sc)"
   ]
  },
  {
   "cell_type": "code",
   "execution_count": 4,
   "metadata": {},
   "outputs": [],
   "source": [
    "alexa = sc.textFile(\"/root/data/top-1m.csv\").map(lambda x: tuple(x.split(\",\")))"
   ]
  },
  {
   "cell_type": "code",
   "execution_count": 5,
   "metadata": {},
   "outputs": [
    {
     "data": {
      "text/plain": [
       "[('1', 'google.com'),\n",
       " ('2', 'youtube.com'),\n",
       " ('3', 'facebook.com'),\n",
       " ('4', 'baidu.com'),\n",
       " ('5', 'wikipedia.org'),\n",
       " ('6', 'qq.com'),\n",
       " ('7', 'taobao.com'),\n",
       " ('8', 'yahoo.com'),\n",
       " ('9', 'tmall.com'),\n",
       " ('10', 'amazon.com')]"
      ]
     },
     "execution_count": 5,
     "metadata": {},
     "output_type": "execute_result"
    }
   ],
   "source": [
    "alexa.take(10)"
   ]
  },
  {
   "cell_type": "code",
   "execution_count": 6,
   "metadata": {},
   "outputs": [],
   "source": [
    "original = alexa.zipWithIndex().map(lambda x: x[::-1])\n",
    "minus_one = original.map(lambda x: (x[0] -1 , x[1]))"
   ]
  },
  {
   "cell_type": "code",
   "execution_count": 7,
   "metadata": {},
   "outputs": [
    {
     "data": {
      "text/plain": [
       "[(0, ('1', 'google.com')),\n",
       " (1, ('2', 'youtube.com')),\n",
       " (2, ('3', 'facebook.com')),\n",
       " (3, ('4', 'baidu.com')),\n",
       " (4, ('5', 'wikipedia.org'))]"
      ]
     },
     "execution_count": 7,
     "metadata": {},
     "output_type": "execute_result"
    }
   ],
   "source": [
    "original.take(5)"
   ]
  },
  {
   "cell_type": "code",
   "execution_count": 20,
   "metadata": {},
   "outputs": [
    {
     "data": {
      "text/plain": [
       "[(-1, 'google.com'),\n",
       " (0, 'youtube.com'),\n",
       " (1, 'facebook.com'),\n",
       " (2, 'baidu.com'),\n",
       " (3, 'wikipedia.org')]"
      ]
     },
     "execution_count": 20,
     "metadata": {},
     "output_type": "execute_result"
    }
   ],
   "source": [
    "minus_one.take(5)"
   ]
  },
  {
   "cell_type": "code",
   "execution_count": 8,
   "metadata": {},
   "outputs": [
    {
     "data": {
      "text/plain": [
       "[(524288, (('524289', 'polypet.com.sg'), ('524290', 'praclox.nl'))),\n",
       " (0, (('1', 'google.com'), ('2', 'youtube.com'))),\n",
       " (524292, (('524293', 'rctankwarfare.co.uk'), ('524294', 'riool.info'))),\n",
       " (436452, (('436453', 'cboe.org'), ('436454', 'ccbox24.com'))),\n",
       " (524296, (('524297', 'schmiedmann.nl'), ('524298', 'seat.nl')))]"
      ]
     },
     "execution_count": 8,
     "metadata": {},
     "output_type": "execute_result"
    }
   ],
   "source": [
    "original.join(minus_one).take(5)"
   ]
  },
  {
   "cell_type": "code",
   "execution_count": 9,
   "metadata": {},
   "outputs": [
    {
     "data": {
      "text/plain": [
       "[(0, 1), (1, 2), (2, 3), (3, 4), (4, 5), (5, 6), (6, 7), (7, 8), (8, 9)]"
      ]
     },
     "execution_count": 9,
     "metadata": {},
     "output_type": "execute_result"
    }
   ],
   "source": [
    "def pairs(part):\n",
    "    prev = next(part)\n",
    "    for element in part:\n",
    "        yield prev, element\n",
    "        prev = element\n",
    "\n",
    "list(pairs(iter(range(10))))"
   ]
  },
  {
   "cell_type": "code",
   "execution_count": 10,
   "metadata": {},
   "outputs": [
    {
     "data": {
      "text/plain": [
       "[519261, 480739]"
      ]
     },
     "execution_count": 10,
     "metadata": {},
     "output_type": "execute_result"
    }
   ],
   "source": [
    "alexa.mapPartitions(lambda x: [len(list(x))]).collect()"
   ]
  },
  {
   "cell_type": "code",
   "execution_count": 11,
   "metadata": {},
   "outputs": [
    {
     "data": {
      "text/plain": [
       "[(('1', 'google.com'), ('2', 'youtube.com')),\n",
       " (('2', 'youtube.com'), ('3', 'facebook.com')),\n",
       " (('3', 'facebook.com'), ('4', 'baidu.com')),\n",
       " (('4', 'baidu.com'), ('5', 'wikipedia.org')),\n",
       " (('5', 'wikipedia.org'), ('6', 'qq.com')),\n",
       " (('6', 'qq.com'), ('7', 'taobao.com')),\n",
       " (('7', 'taobao.com'), ('8', 'yahoo.com')),\n",
       " (('8', 'yahoo.com'), ('9', 'tmall.com')),\n",
       " (('9', 'tmall.com'), ('10', 'amazon.com')),\n",
       " (('10', 'amazon.com'), ('11', 'twitter.com'))]"
      ]
     },
     "execution_count": 11,
     "metadata": {},
     "output_type": "execute_result"
    }
   ],
   "source": [
    "alexa.mapPartitions(pairs).take(10)"
   ]
  },
  {
   "cell_type": "code",
   "execution_count": 12,
   "metadata": {},
   "outputs": [
    {
     "data": {
      "text/plain": [
       "999998"
      ]
     },
     "execution_count": 12,
     "metadata": {},
     "output_type": "execute_result"
    }
   ],
   "source": [
    "alexa_pairs = alexa.mapPartitions(pairs)\n",
    "alexa_pairs.count()"
   ]
  },
  {
   "cell_type": "code",
   "execution_count": 13,
   "metadata": {},
   "outputs": [
    {
     "data": {
      "text/plain": [
       "[1, 2, 3]"
      ]
     },
     "execution_count": 13,
     "metadata": {},
     "output_type": "execute_result"
    }
   ],
   "source": [
    "def first_last(part):\n",
    "    yield next(part)\n",
    "    for el in part:\n",
    "        pass\n",
    "    yield el\n",
    "\n",
    "def drop_edge_cases(part):\n",
    "    return list(part)[1:-1]\n",
    "\n",
    "drop_edge_cases(range(5))"
   ]
  },
  {
   "cell_type": "code",
   "execution_count": 14,
   "metadata": {},
   "outputs": [
    {
     "data": {
      "text/plain": [
       "[(0, 1), (2, 3), (4, 5), (6, 7), (8, 9)]"
      ]
     },
     "execution_count": 14,
     "metadata": {},
     "output_type": "execute_result"
    }
   ],
   "source": [
    "def slicepart(part):\n",
    "    prev = None\n",
    "    for i in part:\n",
    "        if prev is None:\n",
    "            prev = i\n",
    "        else:\n",
    "            yield prev, i\n",
    "            prev = None\n",
    "\n",
    "list(slicepart(iter(range(10))))"
   ]
  },
  {
   "cell_type": "code",
   "execution_count": 15,
   "metadata": {},
   "outputs": [
    {
     "data": {
      "text/plain": [
       "[(('519261', 'radiosuperpopayan.com'), ('519262', 'saladeprensainexmoda.com'))]"
      ]
     },
     "execution_count": 15,
     "metadata": {},
     "output_type": "execute_result"
    }
   ],
   "source": [
    "missing_pairs = (\n",
    "    alexa\n",
    "    .mapPartitions(first_last)\n",
    "    .coalesce(1)\n",
    "    .mapPartitions(drop_edge_cases)\n",
    "    .mapPartitions(slicepart)\n",
    ")\n",
    "\n",
    "missing_pairs.collect()"
   ]
  },
  {
   "cell_type": "code",
   "execution_count": 16,
   "metadata": {},
   "outputs": [],
   "source": [
    "final = alexa_pairs.union(missing_pairs)"
   ]
  },
  {
   "cell_type": "code",
   "execution_count": 17,
   "metadata": {},
   "outputs": [
    {
     "data": {
      "text/plain": [
       "999999"
      ]
     },
     "execution_count": 17,
     "metadata": {},
     "output_type": "execute_result"
    }
   ],
   "source": [
    "final.count()"
   ]
  },
  {
   "cell_type": "code",
   "execution_count": 18,
   "metadata": {},
   "outputs": [
    {
     "data": {
      "text/plain": [
       "999999"
      ]
     },
     "execution_count": 18,
     "metadata": {},
     "output_type": "execute_result"
    }
   ],
   "source": [
    "final.distinct().count()"
   ]
  },
  {
   "cell_type": "code",
   "execution_count": null,
   "metadata": {},
   "outputs": [],
   "source": []
  }
 ],
 "metadata": {
  "kernelspec": {
   "display_name": "Python 3",
   "language": "python",
   "name": "python3"
  },
  "language_info": {
   "codemirror_mode": {
    "name": "ipython",
    "version": 3
   },
   "file_extension": ".py",
   "mimetype": "text/x-python",
   "name": "python",
   "nbconvert_exporter": "python",
   "pygments_lexer": "ipython3",
   "version": "3.5.7"
  }
 },
 "nbformat": 4,
 "nbformat_minor": 2
}

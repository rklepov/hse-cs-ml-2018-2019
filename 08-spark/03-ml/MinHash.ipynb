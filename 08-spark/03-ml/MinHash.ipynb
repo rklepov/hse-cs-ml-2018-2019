{
  "nbformat": 4,
  "nbformat_minor": 0,
  "metadata": {
    "colab": {
      "name": "MinHash.ipynb",
      "version": "0.3.2",
      "provenance": [],
      "collapsed_sections": [],
      "include_colab_link": true
    },
    "language_info": {
      "codemirror_mode": {
        "name": "ipython",
        "version": 3
      },
      "file_extension": ".py",
      "mimetype": "text/x-python",
      "name": "python",
      "nbconvert_exporter": "python",
      "pygments_lexer": "ipython3",
      "version": "3.5.3"
    },
    "kernelspec": {
      "display_name": "Python 3",
      "language": "python",
      "name": "python3"
    }
  },
  "cells": [
    {
      "cell_type": "markdown",
      "metadata": {
        "id": "view-in-github",
        "colab_type": "text"
      },
      "source": [
        "<a href=\"https://colab.research.google.com/github/rklepov/hse-cs-ml-2018-2019/blob/master/08-spark/03-ml/MinHash.ipynb\" target=\"_parent\"><img src=\"https://colab.research.google.com/assets/colab-badge.svg\" alt=\"Open In Colab\"/></a>"
      ]
    },
    {
      "cell_type": "markdown",
      "metadata": {
        "id": "fhThqHI2cNZq",
        "colab_type": "text"
      },
      "source": [
        "[***Lecture 3 slides***](https://hackmd.io/@J_qqq0PjTGK1be0341GpYA/S1-yiOj-X#/ \"Spark MLLib - HackMD\"): https://hackmd.io/@J_qqq0PjTGK1be0341GpYA/S1-yiOj-X#/\n",
        "\n",
        "___\n",
        "\n",
        "[MinHash - Wikipedia](https://en.wikipedia.org/wiki/MinHash \"MinHash - Wikipedia\")"
      ]
    },
    {
      "cell_type": "code",
      "metadata": {
        "id": "H-LsmQP4RZWZ",
        "colab_type": "code",
        "outputId": "da7887ab-a871-4349-f86c-9464ac5f10a7",
        "colab": {
          "base_uri": "https://localhost:8080/",
          "height": 34
        }
      },
      "source": [
        "!pip search spark | grep INSTALLED || pip install pyspark==2.4.0 findspark"
      ],
      "execution_count": 1,
      "outputs": [
        {
          "output_type": "stream",
          "text": [
            "  INSTALLED: 2.4.0\n"
          ],
          "name": "stdout"
        }
      ]
    },
    {
      "cell_type": "code",
      "metadata": {
        "id": "1P2SrreYRgUJ",
        "colab_type": "code",
        "colab": {}
      },
      "source": [
        "import os\n",
        "os.environ[\"JAVA_HOME\"] = \"/usr/lib/jvm/java-8-openjdk-amd64/jre/\"\n",
        "\n",
        "import findspark\n",
        "findspark.init('/usr/local/lib/python3.6/dist-packages/pyspark/')\n",
        "\n",
        "import pyspark"
      ],
      "execution_count": 0,
      "outputs": []
    },
    {
      "cell_type": "code",
      "metadata": {
        "id": "HBqdFBBZRW6f",
        "colab_type": "code",
        "colab": {}
      },
      "source": [
        "from zipfile import ZipFile\n",
        "from io import BytesIO\n",
        "import urllib.request\n",
        "\n",
        "import ssl\n",
        "\n",
        "ctx = ssl.create_default_context()\n",
        "ctx.check_hostname = False\n",
        "ctx.verify_mode = ssl.CERT_NONE\n",
        "\n",
        "def download(url):\n",
        "    ZipFile.extractall(\n",
        "        ZipFile(\n",
        "            BytesIO(\n",
        "                urllib\n",
        "                .request\n",
        "                .urlopen(url,context=ctx)\n",
        "                .read()\n",
        "            )\n",
        "        ),\n",
        "    )"
      ],
      "execution_count": 0,
      "outputs": []
    },
    {
      "cell_type": "markdown",
      "metadata": {
        "id": "Y7ZNg9QA0xoM",
        "colab_type": "text"
      },
      "source": [
        "[SMS Spam Collection Data Set](https://archive.ics.uci.edu/ml/datasets/sms+spam+collection \"UCI Machine Learning Repository: SMS Spam Collection Data Set\")"
      ]
    },
    {
      "cell_type": "code",
      "metadata": {
        "id": "TomcGBXGRW6u",
        "colab_type": "code",
        "colab": {}
      },
      "source": [
        "download('https://archive.ics.uci.edu/ml/machine-learning-databases/00228/smsspamcollection.zip')"
      ],
      "execution_count": 0,
      "outputs": []
    },
    {
      "cell_type": "code",
      "metadata": {
        "id": "fvyeq8qSRW7S",
        "colab_type": "code",
        "colab": {}
      },
      "source": [
        "spark = pyspark.sql.SparkSession.builder.getOrCreate()"
      ],
      "execution_count": 0,
      "outputs": []
    },
    {
      "cell_type": "code",
      "metadata": {
        "id": "ddjZRIYySOGW",
        "colab_type": "code",
        "colab": {}
      },
      "source": [
        "sms = spark.read.option('sep', '\\t').csv('SMSSpamCollection')"
      ],
      "execution_count": 0,
      "outputs": []
    },
    {
      "cell_type": "code",
      "metadata": {
        "id": "ULoirpVjScPm",
        "colab_type": "code",
        "colab": {}
      },
      "source": [
        "src = sms.withColumnRenamed('_c0', 'label').withColumnRenamed('_c1', 'text')"
      ],
      "execution_count": 0,
      "outputs": []
    },
    {
      "cell_type": "code",
      "metadata": {
        "id": "b4nrv0BRSAvo",
        "colab_type": "code",
        "outputId": "c7ed427d-fe9c-42ca-a93e-e5e0106e7d0a",
        "colab": {
          "base_uri": "https://localhost:8080/",
          "height": 140
        }
      },
      "source": [
        "src.groupBy('label').count().show()"
      ],
      "execution_count": 8,
      "outputs": [
        {
          "output_type": "stream",
          "text": [
            "+-----+-----+\n",
            "|label|count|\n",
            "+-----+-----+\n",
            "|  ham| 4827|\n",
            "| spam|  747|\n",
            "+-----+-----+\n",
            "\n"
          ],
          "name": "stdout"
        }
      ]
    },
    {
      "cell_type": "code",
      "metadata": {
        "id": "EJdToqxISH6K",
        "colab_type": "code",
        "colab": {}
      },
      "source": [
        "from pyspark.ml import feature\n",
        "from pyspark.ml import pipeline"
      ],
      "execution_count": 0,
      "outputs": []
    },
    {
      "cell_type": "code",
      "metadata": {
        "id": "3dGbDTXdS2vl",
        "colab_type": "code",
        "colab": {}
      },
      "source": [
        "lsh_pipe = pipeline.Pipeline(\n",
        "    stages =(\n",
        "        feature.RegexTokenizer(\n",
        "            inputCol='text',\n",
        "            outputCol='tokens',\n",
        "        ),\n",
        "        feature.CountVectorizer(\n",
        "            binary=True,\n",
        "            inputCol='tokens',\n",
        "            outputCol='v',\n",
        "        ),\n",
        "    )\n",
        ")"
      ],
      "execution_count": 0,
      "outputs": []
    },
    {
      "cell_type": "code",
      "metadata": {
        "id": "-cR53fAQTJLQ",
        "colab_type": "code",
        "outputId": "3eae4a6a-0006-4080-b92f-4e8cfb36f6b3",
        "colab": {
          "base_uri": "https://localhost:8080/",
          "height": 210
        }
      },
      "source": [
        "lsh_prep_model = lsh_pipe.fit(src)\n",
        "\n",
        "lsh_src = lsh_prep_model.transform(src)\n",
        "\n",
        "lsh_src.show(5)"
      ],
      "execution_count": 11,
      "outputs": [
        {
          "output_type": "stream",
          "text": [
            "+-----+--------------------+--------------------+--------------------+\n",
            "|label|                text|              tokens|                   v|\n",
            "+-----+--------------------+--------------------+--------------------+\n",
            "|  ham|Go until jurong p...|[go, until, juron...|(13586,[8,41,51,6...|\n",
            "|  ham|Ok lar... Joking ...|[ok, lar..., joki...|(13586,[5,74,407,...|\n",
            "| spam|Free entry in 2 a...|[free, entry, in,...|(13586,[0,3,8,20,...|\n",
            "|  ham|U dun say so earl...|[u, dun, say, so,...|(13586,[5,21,59,1...|\n",
            "|  ham|Nah I don't think...|[nah, i, don't, t...|(13586,[0,1,65,86...|\n",
            "+-----+--------------------+--------------------+--------------------+\n",
            "only showing top 5 rows\n",
            "\n"
          ],
          "name": "stdout"
        }
      ]
    },
    {
      "cell_type": "code",
      "metadata": {
        "id": "0pV9I4XzoTIP",
        "colab_type": "code",
        "colab": {
          "base_uri": "https://localhost:8080/",
          "height": 210
        },
        "outputId": "7fd93c69-2586-4cdf-9cc6-dc5ccf2690a1"
      },
      "source": [
        "mh = feature.MinHashLSH(inputCol='v', outputCol='hash', numHashTables=10)\n",
        "\n",
        "mh_model = mh.fit(lsh_src)\n",
        "\n",
        "mh_model.transform(lsh_src).show(5)"
      ],
      "execution_count": 12,
      "outputs": [
        {
          "output_type": "stream",
          "text": [
            "+-----+--------------------+--------------------+--------------------+--------------------+\n",
            "|label|                text|              tokens|                   v|                hash|\n",
            "+-----+--------------------+--------------------+--------------------+--------------------+\n",
            "|  ham|Go until jurong p...|[go, until, juron...|(13586,[8,41,51,6...|[[3.1678372E7], [...|\n",
            "|  ham|Ok lar... Joking ...|[ok, lar..., joki...|(13586,[5,74,407,...|[[1.27324576E8], ...|\n",
            "| spam|Free entry in 2 a...|[free, entry, in,...|(13586,[0,3,8,20,...|[[6.657488E7], [1...|\n",
            "|  ham|U dun say so earl...|[u, dun, say, so,...|(13586,[5,21,59,1...|[[1.27324576E8], ...|\n",
            "|  ham|Nah I don't think...|[nah, i, don't, t...|(13586,[0,1,65,86...|[[1.2288481E7], [...|\n",
            "+-----+--------------------+--------------------+--------------------+--------------------+\n",
            "only showing top 5 rows\n",
            "\n"
          ],
          "name": "stdout"
        }
      ]
    },
    {
      "cell_type": "code",
      "metadata": {
        "id": "USowIrTcpbr-",
        "colab_type": "code",
        "colab": {}
      },
      "source": [
        "similar = mh_model.approxSimilarityJoin(lsh_src, lsh_src, threshold=0.7)"
      ],
      "execution_count": 0,
      "outputs": []
    },
    {
      "cell_type": "code",
      "metadata": {
        "id": "c0MriMMCsRzd",
        "colab_type": "code",
        "colab": {
          "base_uri": "https://localhost:8080/",
          "height": 474
        },
        "outputId": "984b8e02-4109-4fa1-f252-480950eb20f9"
      },
      "source": [
        "similar.show()"
      ],
      "execution_count": 14,
      "outputs": [
        {
          "output_type": "stream",
          "text": [
            "+--------------------+--------------------+------------------+\n",
            "|            datasetA|            datasetB|           distCol|\n",
            "+--------------------+--------------------+------------------+\n",
            "|[ham, Cool. So ho...|[ham, Cool. So ho...|               0.0|\n",
            "|[ham, Mm that tim...|[ham, Mm that tim...|               0.0|\n",
            "|[ham, En chikku n...|[ham, En chikku n...|               0.0|\n",
            "|[ham, Yeah there'...|[ham, Yeah there'...|               0.0|\n",
            "|[ham, Ok.ok ok..t...|[ham, Ok.ok ok..t...|               0.0|\n",
            "|[ham, Yo, the gam...|[ham, Yo, the gam...|               0.0|\n",
            "|[ham, Aiyo a bit ...|[ham, Aiyo a bit ...|               0.0|\n",
            "|[ham, I love work...|[ham, I love work...|               0.0|\n",
            "|[ham, Its hard to...|[ham, Its hard to...|               0.0|\n",
            "|[ham, Waaaat?? Lo...|[ham, Waaaat?? Lo...|               0.0|\n",
            "|[spam, Spook up y...|[spam, Sppok up u...|0.4137931034482759|\n",
            "|[ham, * Am on a t...|[ham, * Am on a t...|               0.0|\n",
            "|[ham, Sorry de i ...|[ham, Sorry de i ...|               0.0|\n",
            "|[ham, make that 3...|[ham, make that 3...|               0.0|\n",
            "|[ham, Nope but i'...|[ham, But i'll b ...|0.6923076923076923|\n",
            "|[spam, You are no...|[spam, You are no...|               0.0|\n",
            "|[ham, Customer pl...|[ham, Customer pl...|0.2857142857142857|\n",
            "|[ham, I will send...|[ham, I will send...|               0.0|\n",
            "|[ham, He's really...|[ham, He's really...|               0.0|\n",
            "|[ham, That depend...|[ham, How do you ...|0.6923076923076923|\n",
            "+--------------------+--------------------+------------------+\n",
            "only showing top 20 rows\n",
            "\n"
          ],
          "name": "stdout"
        }
      ]
    }
  ]
}
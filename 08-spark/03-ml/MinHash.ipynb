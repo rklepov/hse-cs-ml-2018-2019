{
  "nbformat": 4,
  "nbformat_minor": 0,
  "metadata": {
    "colab": {
      "name": "MinHash.ipynb",
      "version": "0.3.2",
      "provenance": [],
      "collapsed_sections": [],
      "include_colab_link": true
    },
    "language_info": {
      "codemirror_mode": {
        "name": "ipython",
        "version": 3
      },
      "file_extension": ".py",
      "mimetype": "text/x-python",
      "name": "python",
      "nbconvert_exporter": "python",
      "pygments_lexer": "ipython3",
      "version": "3.5.3"
    },
    "kernelspec": {
      "display_name": "Python 3",
      "language": "python",
      "name": "python3"
    }
  },
  "cells": [
    {
      "cell_type": "markdown",
      "metadata": {
        "id": "view-in-github",
        "colab_type": "text"
      },
      "source": [
        "<a href=\"https://colab.research.google.com/github/rklepov/hse-cs-ml-2018-2019/blob/master/08-spark/03-ml/MinHash.ipynb\" target=\"_parent\"><img src=\"https://colab.research.google.com/assets/colab-badge.svg\" alt=\"Open In Colab\"/></a>"
      ]
    },
    {
      "cell_type": "markdown",
      "metadata": {
        "id": "fhThqHI2cNZq",
        "colab_type": "text"
      },
      "source": [
        "[***Lecture 3 slides***](https://hackmd.io/@J_qqq0PjTGK1be0341GpYA/S1-yiOj-X#/ \"Spark MLLib - HackMD\"): https://hackmd.io/@J_qqq0PjTGK1be0341GpYA/S1-yiOj-X#/\n",
        "\n",
        "___\n",
        "\n",
        "[MinHash - Wikipedia](https://en.wikipedia.org/wiki/MinHash \"MinHash - Wikipedia\")"
      ]
    },
    {
      "cell_type": "code",
      "metadata": {
        "id": "H-LsmQP4RZWZ",
        "colab_type": "code",
        "outputId": "742b4611-ebcf-4eb6-f206-be5bf652caf2",
        "colab": {
          "base_uri": "https://localhost:8080/",
          "height": 34
        }
      },
      "source": [
        "!pip search spark | grep INSTALLED || pip install pyspark==2.4.0 findspark"
      ],
      "execution_count": 1,
      "outputs": [
        {
          "output_type": "stream",
          "text": [
            "  INSTALLED: 2.4.0\n"
          ],
          "name": "stdout"
        }
      ]
    },
    {
      "cell_type": "code",
      "metadata": {
        "id": "1P2SrreYRgUJ",
        "colab_type": "code",
        "colab": {}
      },
      "source": [
        "import os\n",
        "os.environ[\"JAVA_HOME\"] = \"/usr/lib/jvm/java-8-openjdk-amd64/jre/\"\n",
        "\n",
        "import findspark\n",
        "findspark.init('/usr/local/lib/python3.6/dist-packages/pyspark/')\n",
        "\n",
        "import pyspark"
      ],
      "execution_count": 0,
      "outputs": []
    },
    {
      "cell_type": "code",
      "metadata": {
        "id": "HBqdFBBZRW6f",
        "colab_type": "code",
        "colab": {}
      },
      "source": [
        "from zipfile import ZipFile\n",
        "from io import BytesIO\n",
        "import urllib.request\n",
        "\n",
        "import ssl\n",
        "\n",
        "ctx = ssl.create_default_context()\n",
        "ctx.check_hostname = False\n",
        "ctx.verify_mode = ssl.CERT_NONE\n",
        "\n",
        "def download(url):\n",
        "    ZipFile.extractall(\n",
        "        ZipFile(\n",
        "            BytesIO(\n",
        "                urllib\n",
        "                .request\n",
        "                .urlopen(url,context=ctx)\n",
        "                .read()\n",
        "            )\n",
        "        ),\n",
        "    )"
      ],
      "execution_count": 0,
      "outputs": []
    },
    {
      "cell_type": "markdown",
      "metadata": {
        "id": "Y7ZNg9QA0xoM",
        "colab_type": "text"
      },
      "source": [
        "[SMS Spam Collection Data Set](https://archive.ics.uci.edu/ml/datasets/sms+spam+collection \"UCI Machine Learning Repository: SMS Spam Collection Data Set\")"
      ]
    },
    {
      "cell_type": "code",
      "metadata": {
        "id": "TomcGBXGRW6u",
        "colab_type": "code",
        "colab": {}
      },
      "source": [
        "download('https://archive.ics.uci.edu/ml/machine-learning-databases/00228/smsspamcollection.zip')"
      ],
      "execution_count": 0,
      "outputs": []
    },
    {
      "cell_type": "code",
      "metadata": {
        "id": "fvyeq8qSRW7S",
        "colab_type": "code",
        "colab": {}
      },
      "source": [
        "spark = pyspark.sql.SparkSession.builder.getOrCreate()"
      ],
      "execution_count": 0,
      "outputs": []
    },
    {
      "cell_type": "code",
      "metadata": {
        "id": "ddjZRIYySOGW",
        "colab_type": "code",
        "colab": {}
      },
      "source": [
        "sms = spark.read.option('sep', '\\t').csv('SMSSpamCollection')"
      ],
      "execution_count": 0,
      "outputs": []
    },
    {
      "cell_type": "code",
      "metadata": {
        "id": "ULoirpVjScPm",
        "colab_type": "code",
        "colab": {}
      },
      "source": [
        "src = sms.withColumnRenamed('_c0', 'label').withColumnRenamed('_c1', 'text')"
      ],
      "execution_count": 0,
      "outputs": []
    },
    {
      "cell_type": "code",
      "metadata": {
        "id": "b4nrv0BRSAvo",
        "colab_type": "code",
        "outputId": "457052e3-53e3-48e6-ba0b-a969bed5d620",
        "colab": {
          "base_uri": "https://localhost:8080/",
          "height": 140
        }
      },
      "source": [
        "src.groupBy('label').count().show()"
      ],
      "execution_count": 8,
      "outputs": [
        {
          "output_type": "stream",
          "text": [
            "+-----+-----+\n",
            "|label|count|\n",
            "+-----+-----+\n",
            "|  ham| 4827|\n",
            "| spam|  747|\n",
            "+-----+-----+\n",
            "\n"
          ],
          "name": "stdout"
        }
      ]
    },
    {
      "cell_type": "code",
      "metadata": {
        "id": "EJdToqxISH6K",
        "colab_type": "code",
        "colab": {}
      },
      "source": [
        "from pyspark.sql import functions\n",
        "\n",
        "from pyspark.ml import feature\n",
        "from pyspark.ml import pipeline\n",
        "from pyspark.ml import classification\n",
        "from pyspark.ml import evaluation"
      ],
      "execution_count": 0,
      "outputs": []
    },
    {
      "cell_type": "code",
      "metadata": {
        "id": "3dGbDTXdS2vl",
        "colab_type": "code",
        "colab": {}
      },
      "source": [
        "lsh_pipe = pipeline.Pipeline(\n",
        "    stages =(\n",
        "        feature.RegexTokenizer(\n",
        "            inputCol='text',\n",
        "            outputCol='tokens',\n",
        "        ),\n",
        "        feature.CountVectorizer(\n",
        "            binary=True,\n",
        "            inputCol='tokens',\n",
        "            outputCol='v',\n",
        "        ),\n",
        "    )\n",
        ")"
      ],
      "execution_count": 0,
      "outputs": []
    },
    {
      "cell_type": "code",
      "metadata": {
        "id": "-cR53fAQTJLQ",
        "colab_type": "code",
        "outputId": "91ed6a29-5d83-4dd8-cfb3-93d46f44d60d",
        "colab": {
          "base_uri": "https://localhost:8080/",
          "height": 210
        }
      },
      "source": [
        "lsh_prep_model = lsh_pipe.fit(src)\n",
        "\n",
        "lsh_src = lsh_prep_model.transform(src)\n",
        "\n",
        "lsh_src.show(5)"
      ],
      "execution_count": 11,
      "outputs": [
        {
          "output_type": "stream",
          "text": [
            "+-----+--------------------+--------------------+--------------------+\n",
            "|label|                text|              tokens|                   v|\n",
            "+-----+--------------------+--------------------+--------------------+\n",
            "|  ham|Go until jurong p...|[go, until, juron...|(13586,[8,41,51,6...|\n",
            "|  ham|Ok lar... Joking ...|[ok, lar..., joki...|(13586,[5,74,407,...|\n",
            "| spam|Free entry in 2 a...|[free, entry, in,...|(13586,[0,3,8,20,...|\n",
            "|  ham|U dun say so earl...|[u, dun, say, so,...|(13586,[5,21,59,1...|\n",
            "|  ham|Nah I don't think...|[nah, i, don't, t...|(13586,[0,1,65,86...|\n",
            "+-----+--------------------+--------------------+--------------------+\n",
            "only showing top 5 rows\n",
            "\n"
          ],
          "name": "stdout"
        }
      ]
    },
    {
      "cell_type": "code",
      "metadata": {
        "id": "0pV9I4XzoTIP",
        "colab_type": "code",
        "colab": {
          "base_uri": "https://localhost:8080/",
          "height": 210
        },
        "outputId": "a6b7ebf6-5f0a-48ae-8f21-c4130eb1ad32"
      },
      "source": [
        "mh = feature.MinHashLSH(inputCol='v', outputCol='hash', numHashTables=10)\n",
        "\n",
        "mh_model = mh.fit(lsh_src)\n",
        "\n",
        "mh_model.transform(lsh_src).show(5)"
      ],
      "execution_count": 12,
      "outputs": [
        {
          "output_type": "stream",
          "text": [
            "+-----+--------------------+--------------------+--------------------+--------------------+\n",
            "|label|                text|              tokens|                   v|                hash|\n",
            "+-----+--------------------+--------------------+--------------------+--------------------+\n",
            "|  ham|Go until jurong p...|[go, until, juron...|(13586,[8,41,51,6...|[[1.00943429E8], ...|\n",
            "|  ham|Ok lar... Joking ...|[ok, lar..., joki...|(13586,[5,74,407,...|[[3.66357321E8], ...|\n",
            "| spam|Free entry in 2 a...|[free, entry, in,...|(13586,[0,3,8,20,...|[[1.63637485E8], ...|\n",
            "|  ham|U dun say so earl...|[u, dun, say, so,...|(13586,[5,21,59,1...|[[5231409.0], [1....|\n",
            "|  ham|Nah I don't think...|[nah, i, don't, t...|(13586,[0,1,65,86...|[[3.8249373E7], [...|\n",
            "+-----+--------------------+--------------------+--------------------+--------------------+\n",
            "only showing top 5 rows\n",
            "\n"
          ],
          "name": "stdout"
        }
      ]
    },
    {
      "cell_type": "code",
      "metadata": {
        "id": "USowIrTcpbr-",
        "colab_type": "code",
        "colab": {}
      },
      "source": [
        "similar = mh_model.approxSimilarityJoin(lsh_src, lsh_src, threshold=0.7)"
      ],
      "execution_count": 0,
      "outputs": []
    },
    {
      "cell_type": "code",
      "metadata": {
        "id": "c0MriMMCsRzd",
        "colab_type": "code",
        "colab": {
          "base_uri": "https://localhost:8080/",
          "height": 474
        },
        "outputId": "6e8dea31-6d56-43b3-a945-874f0d5fb09c"
      },
      "source": [
        "similar.show()"
      ],
      "execution_count": 14,
      "outputs": [
        {
          "output_type": "stream",
          "text": [
            "+--------------------+--------------------+------------------+\n",
            "|            datasetA|            datasetB|           distCol|\n",
            "+--------------------+--------------------+------------------+\n",
            "|[spam, FreeMsg He...|[spam, FreeMsg He...|               0.0|\n",
            "|[ham, Fair enough...|[ham, Fair enough...|               0.0|\n",
            "|[spam, Please cal...|[spam, You have W...|0.5454545454545454|\n",
            "|[spam, We tried t...|[spam, We tried t...|0.5294117647058824|\n",
            "|[ham, Are you thi...|[ham, Are you thi...|               0.0|\n",
            "|[spam, T-Mobile c...|[spam, UpgrdCentr...|              0.65|\n",
            "|[ham, It took Mr ...|[ham, It took Mr ...|               0.0|\n",
            "|[ham, Dear how is...|[ham, Dear how is...|               0.0|\n",
            "|[ham, Headin towa...|[ham, Headin towa...|               0.0|\n",
            "|[ham, I'm in a me...|[ham, I'm in a mo...|0.5454545454545454|\n",
            "|[spam, You have W...|[spam, You have W...|               0.0|\n",
            "|[ham, Dunno he ju...|[ham, Dunno he ju...|               0.0|\n",
            "|[ham, Hope you ar...|[ham, Happy new y...|0.5714285714285714|\n",
            "|[ham, have got * ...|[ham, have got * ...|               0.0|\n",
            "|[ham, My exam is ...|[ham, My exam is ...|               0.0|\n",
            "|[ham, Thk shld b ...|[ham, Thk shld b ...|               0.0|\n",
            "|[ham, Will it hel...|[ham, Will it hel...|               0.0|\n",
            "|[ham, K, makes se...|[ham, K, makes se...|               0.0|\n",
            "|[ham, S but mostl...|[ham, S but not a...|0.6666666666666667|\n",
            "|[ham, Joy's fathe...|[ham, Joy's fathe...|               0.0|\n",
            "+--------------------+--------------------+------------------+\n",
            "only showing top 20 rows\n",
            "\n"
          ],
          "name": "stdout"
        }
      ]
    }
  ]
}
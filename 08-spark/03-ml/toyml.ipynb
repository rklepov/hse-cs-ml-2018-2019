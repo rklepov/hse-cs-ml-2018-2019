{
  "nbformat": 4,
  "nbformat_minor": 0,
  "metadata": {
    "colab": {
      "name": "toyml.ipynb",
      "version": "0.3.2",
      "provenance": [],
      "collapsed_sections": [],
      "include_colab_link": true
    },
    "language_info": {
      "codemirror_mode": {
        "name": "ipython",
        "version": 3
      },
      "file_extension": ".py",
      "mimetype": "text/x-python",
      "name": "python",
      "nbconvert_exporter": "python",
      "pygments_lexer": "ipython3",
      "version": "3.5.3"
    },
    "kernelspec": {
      "display_name": "Python 3",
      "language": "python",
      "name": "python3"
    }
  },
  "cells": [
    {
      "cell_type": "markdown",
      "metadata": {
        "id": "view-in-github",
        "colab_type": "text"
      },
      "source": [
        "<a href=\"https://colab.research.google.com/github/rklepov/hse-cs-ml-2018-2019/blob/master/08-spark/03-ml/toyml.ipynb\" target=\"_parent\"><img src=\"https://colab.research.google.com/assets/colab-badge.svg\" alt=\"Open In Colab\"/></a>"
      ]
    },
    {
      "cell_type": "markdown",
      "metadata": {
        "id": "Rl6RTMGzb1y5",
        "colab_type": "text"
      },
      "source": [
        "[***Lecture 3 slides***](https://hackmd.io/@J_qqq0PjTGK1be0341GpYA/S1-yiOj-X#/ \"Spark MLLib - HackMD\"): https://hackmd.io/@J_qqq0PjTGK1be0341GpYA/S1-yiOj-X#/\n",
        "\n",
        "___"
      ]
    },
    {
      "cell_type": "code",
      "metadata": {
        "id": "H-LsmQP4RZWZ",
        "colab_type": "code",
        "outputId": "241d0545-9fc5-4a7a-a100-3b2f167abd29",
        "colab": {
          "base_uri": "https://localhost:8080/",
          "height": 34
        }
      },
      "source": [
        "!pip search spark | grep INSTALLED || pip install pyspark==2.4.0 findspark"
      ],
      "execution_count": 1,
      "outputs": [
        {
          "output_type": "stream",
          "text": [
            "  INSTALLED: 2.4.0\n"
          ],
          "name": "stdout"
        }
      ]
    },
    {
      "cell_type": "code",
      "metadata": {
        "id": "1P2SrreYRgUJ",
        "colab_type": "code",
        "colab": {}
      },
      "source": [
        "import os\n",
        "os.environ[\"JAVA_HOME\"] = \"/usr/lib/jvm/java-8-openjdk-amd64/jre/\"\n",
        "\n",
        "import findspark\n",
        "findspark.init('/usr/local/lib/python3.6/dist-packages/pyspark/')\n",
        "\n",
        "import pyspark"
      ],
      "execution_count": 0,
      "outputs": []
    },
    {
      "cell_type": "code",
      "metadata": {
        "id": "HBqdFBBZRW6f",
        "colab_type": "code",
        "colab": {}
      },
      "source": [
        "from zipfile import ZipFile\n",
        "from io import BytesIO\n",
        "import urllib.request\n",
        "\n",
        "import ssl\n",
        "\n",
        "ctx = ssl.create_default_context()\n",
        "ctx.check_hostname = False\n",
        "ctx.verify_mode = ssl.CERT_NONE\n",
        "\n",
        "def download(url):\n",
        "    ZipFile.extractall(\n",
        "        ZipFile(\n",
        "            BytesIO(\n",
        "                urllib\n",
        "                .request\n",
        "                .urlopen(url,context=ctx)\n",
        "                .read()\n",
        "            )\n",
        "        ),\n",
        "    )"
      ],
      "execution_count": 0,
      "outputs": []
    },
    {
      "cell_type": "markdown",
      "metadata": {
        "id": "qoQlW2sT1I6N",
        "colab_type": "text"
      },
      "source": [
        "[SMS Spam Collection Data Set](https://archive.ics.uci.edu/ml/datasets/sms+spam+collection \"UCI Machine Learning Repository: SMS Spam Collection Data Set\")"
      ]
    },
    {
      "cell_type": "code",
      "metadata": {
        "id": "TomcGBXGRW6u",
        "colab_type": "code",
        "colab": {}
      },
      "source": [
        "download('https://archive.ics.uci.edu/ml/machine-learning-databases/00228/smsspamcollection.zip')"
      ],
      "execution_count": 0,
      "outputs": []
    },
    {
      "cell_type": "code",
      "metadata": {
        "id": "fvyeq8qSRW7S",
        "colab_type": "code",
        "colab": {}
      },
      "source": [
        "spark = pyspark.sql.SparkSession.builder.getOrCreate()"
      ],
      "execution_count": 0,
      "outputs": []
    },
    {
      "cell_type": "code",
      "metadata": {
        "id": "ddjZRIYySOGW",
        "colab_type": "code",
        "colab": {}
      },
      "source": [
        "sms = spark.read.option('sep', '\\t').csv('SMSSpamCollection')"
      ],
      "execution_count": 0,
      "outputs": []
    },
    {
      "cell_type": "code",
      "metadata": {
        "id": "ULoirpVjScPm",
        "colab_type": "code",
        "colab": {}
      },
      "source": [
        "src = sms.withColumnRenamed('_c0', 'label').withColumnRenamed('_c1', 'text')"
      ],
      "execution_count": 0,
      "outputs": []
    },
    {
      "cell_type": "code",
      "metadata": {
        "id": "b4nrv0BRSAvo",
        "colab_type": "code",
        "outputId": "7307d68f-3e4c-4033-9b76-a65f7e2034b7",
        "colab": {
          "base_uri": "https://localhost:8080/",
          "height": 140
        }
      },
      "source": [
        "src.groupBy('label').count().show()"
      ],
      "execution_count": 8,
      "outputs": [
        {
          "output_type": "stream",
          "text": [
            "+-----+-----+\n",
            "|label|count|\n",
            "+-----+-----+\n",
            "|  ham| 4827|\n",
            "| spam|  747|\n",
            "+-----+-----+\n",
            "\n"
          ],
          "name": "stdout"
        }
      ]
    },
    {
      "cell_type": "code",
      "metadata": {
        "id": "EJdToqxISH6K",
        "colab_type": "code",
        "colab": {}
      },
      "source": [
        "from pyspark.sql import functions\n",
        "\n",
        "from pyspark.ml import feature\n",
        "from pyspark.ml import pipeline\n",
        "from pyspark.ml import classification\n",
        "from pyspark.ml import evaluation"
      ],
      "execution_count": 0,
      "outputs": []
    },
    {
      "cell_type": "code",
      "metadata": {
        "id": "aUPYvI92Spzu",
        "colab_type": "code",
        "outputId": "4a7de076-4d1e-45dd-ea51-4860b167f16a",
        "colab": {
          "base_uri": "https://localhost:8080/",
          "height": 474
        }
      },
      "source": [
        "feature.Tokenizer(inputCol='text', outputCol='token').transform(src).show()"
      ],
      "execution_count": 10,
      "outputs": [
        {
          "output_type": "stream",
          "text": [
            "+-----+--------------------+--------------------+\n",
            "|label|                text|               token|\n",
            "+-----+--------------------+--------------------+\n",
            "|  ham|Go until jurong p...|[go, until, juron...|\n",
            "|  ham|Ok lar... Joking ...|[ok, lar..., joki...|\n",
            "| spam|Free entry in 2 a...|[free, entry, in,...|\n",
            "|  ham|U dun say so earl...|[u, dun, say, so,...|\n",
            "|  ham|Nah I don't think...|[nah, i, don't, t...|\n",
            "| spam|FreeMsg Hey there...|[freemsg, hey, th...|\n",
            "|  ham|Even my brother i...|[even, my, brothe...|\n",
            "|  ham|As per your reque...|[as, per, your, r...|\n",
            "| spam|WINNER!! As a val...|[winner!!, as, a,...|\n",
            "| spam|Had your mobile 1...|[had, your, mobil...|\n",
            "|  ham|I'm gonna be home...|[i'm, gonna, be, ...|\n",
            "| spam|SIX chances to wi...|[six, chances, to...|\n",
            "| spam|URGENT! You have ...|[urgent!, you, ha...|\n",
            "|  ham|I've been searchi...|[i've, been, sear...|\n",
            "|  ham|I HAVE A DATE ON ...|[i, have, a, date...|\n",
            "| spam|XXXMobileMovieClu...|[xxxmobilemoviecl...|\n",
            "|  ham|Oh k...i'm watchi...|[oh, k...i'm, wat...|\n",
            "|  ham|Eh u remember how...|[eh, u, remember,...|\n",
            "|  ham|Fine if thats th...|[fine, if, thats...|\n",
            "| spam|England v Macedon...|[england, v, mace...|\n",
            "+-----+--------------------+--------------------+\n",
            "only showing top 20 rows\n",
            "\n"
          ],
          "name": "stdout"
        }
      ]
    },
    {
      "cell_type": "code",
      "metadata": {
        "id": "3dGbDTXdS2vl",
        "colab_type": "code",
        "colab": {}
      },
      "source": [
        "main = pipeline.Pipeline(\n",
        "    stages =(\n",
        "        feature.RegexTokenizer(\n",
        "            minTokenLength=3,\n",
        "            inputCol='text',\n",
        "            pattern=r'\\s+',\n",
        "            outputCol='tokens'\n",
        "        ),\n",
        "        feature.CountVectorizer(\n",
        "            inputCol='tokens',\n",
        "            outputCol='v',\n",
        "            minDF=5,\n",
        "            maxDF=900\n",
        "        ),\n",
        "        feature.StringIndexer(\n",
        "            inputCol='label',\n",
        "            outputCol='y'\n",
        "        ),\n",
        "        classification.RandomForestClassifier(\n",
        "            labelCol='y',\n",
        "            featuresCol='v',\n",
        "            seed=123\n",
        "        )\n",
        "    )\n",
        ")"
      ],
      "execution_count": 0,
      "outputs": []
    },
    {
      "cell_type": "code",
      "metadata": {
        "id": "-cR53fAQTJLQ",
        "colab_type": "code",
        "outputId": "a2af3813-fb73-46a7-84b7-4730d48eee82",
        "colab": {
          "base_uri": "https://localhost:8080/",
          "height": 210
        }
      },
      "source": [
        "train, test = src.randomSplit(weights=(70., 30.), seed=123)\n",
        "\n",
        "main_model = main.fit(train)\n",
        "\n",
        "results = (\n",
        "    main_model\n",
        "    .transform(test)\n",
        "    .select(\n",
        "        'y', \n",
        "        'rawPrediction', \n",
        "        'probability', \n",
        "        'prediction'\n",
        "    )\n",
        ")\n",
        "\n",
        "results.cache()\n",
        "\n",
        "results.show(5)"
      ],
      "execution_count": 12,
      "outputs": [
        {
          "output_type": "stream",
          "text": [
            "+---+--------------------+--------------------+----------+\n",
            "|  y|       rawPrediction|         probability|prediction|\n",
            "+---+--------------------+--------------------+----------+\n",
            "|0.0|[17.4577708451969...|[0.87288854225984...|       0.0|\n",
            "|0.0|[17.9915243908026...|[0.89957621954013...|       0.0|\n",
            "|0.0|[17.9915243908026...|[0.89957621954013...|       0.0|\n",
            "|0.0|[17.9915243908026...|[0.89957621954013...|       0.0|\n",
            "|0.0|[17.9915243908026...|[0.89957621954013...|       0.0|\n",
            "+---+--------------------+--------------------+----------+\n",
            "only showing top 5 rows\n",
            "\n"
          ],
          "name": "stdout"
        }
      ]
    },
    {
      "cell_type": "code",
      "metadata": {
        "id": "uNkhL1lEXs1I",
        "colab_type": "code",
        "outputId": "3cc126cf-a8c9-464d-e563-7a48cb8e7e8c",
        "colab": {
          "base_uri": "https://localhost:8080/",
          "height": 210
        }
      },
      "source": [
        "results.orderBy('probability').show(5)"
      ],
      "execution_count": 13,
      "outputs": [
        {
          "output_type": "stream",
          "text": [
            "+---+--------------------+--------------------+----------+\n",
            "|  y|       rawPrediction|         probability|prediction|\n",
            "+---+--------------------+--------------------+----------+\n",
            "|1.0|[6.02774777924674...|[0.30138738896233...|       1.0|\n",
            "|1.0|[7.05938187799983...|[0.35296909389999...|       1.0|\n",
            "|1.0|[7.06069250555023...|[0.35303462527751...|       1.0|\n",
            "|1.0|[7.28622884676247...|[0.36431144233812...|       1.0|\n",
            "|1.0|[7.54685095248554...|[0.37734254762427...|       1.0|\n",
            "+---+--------------------+--------------------+----------+\n",
            "only showing top 5 rows\n",
            "\n"
          ],
          "name": "stdout"
        }
      ]
    },
    {
      "cell_type": "code",
      "metadata": {
        "id": "f4tX8laiT1R9",
        "colab_type": "code",
        "outputId": "9d43c9d8-c415-4c93-dd36-dd8c3ba73dda",
        "colab": {
          "base_uri": "https://localhost:8080/",
          "height": 210
        }
      },
      "source": [
        "results.orderBy(functions.desc('probability')).show(5)"
      ],
      "execution_count": 14,
      "outputs": [
        {
          "output_type": "stream",
          "text": [
            "+---+--------------------+--------------------+----------+\n",
            "|  y|       rawPrediction|         probability|prediction|\n",
            "+---+--------------------+--------------------+----------+\n",
            "|0.0|[18.0893416907218...|[0.90446708453609...|       0.0|\n",
            "|0.0|[18.0893416907218...|[0.90446708453609...|       0.0|\n",
            "|1.0|[18.0893416907218...|[0.90446708453609...|       0.0|\n",
            "|1.0|[18.0893416907218...|[0.90446708453609...|       0.0|\n",
            "|1.0|[18.0893416907218...|[0.90446708453609...|       0.0|\n",
            "+---+--------------------+--------------------+----------+\n",
            "only showing top 5 rows\n",
            "\n"
          ],
          "name": "stdout"
        }
      ]
    },
    {
      "cell_type": "code",
      "metadata": {
        "id": "ELyGHH4sYPdi",
        "colab_type": "code",
        "outputId": "c610b9bd-1844-4fa5-b1a9-ea8ff309b57f",
        "colab": {
          "base_uri": "https://localhost:8080/",
          "height": 34
        }
      },
      "source": [
        "evaluation.BinaryClassificationEvaluator(labelCol='y').evaluate(results)"
      ],
      "execution_count": 15,
      "outputs": [
        {
          "output_type": "execute_result",
          "data": {
            "text/plain": [
              "0.9314047828132821"
            ]
          },
          "metadata": {
            "tags": []
          },
          "execution_count": 15
        }
      ]
    }
  ]
}
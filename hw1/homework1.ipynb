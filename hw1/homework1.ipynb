{
 "cells": [
  {
   "cell_type": "markdown",
   "metadata": {},
   "source": [
    "# Problem 1 (Bilateral filter)"
   ]
  },
  {
   "cell_type": "markdown",
   "metadata": {},
   "source": [
    "1. напишите собственный код для билатерального фильтра\n",
    "2. открываем любое изображение\n",
    "3. добавляем гауссовский шум\n",
    "6. сравните результаты работы билатерального фильтра над зашумленным изображением для двух случаев:\n",
    "    - изображение в пространстве RGB\n",
    "    - изображение в пространстве HSV"
   ]
  },
  {
   "cell_type": "code",
   "execution_count": null,
   "metadata": {},
   "outputs": [],
   "source": [
    "# put your code here"
   ]
  },
  {
   "cell_type": "markdown",
   "metadata": {},
   "source": [
    "# Problem 2 (SVD)\n",
    "\n",
    "В этом задании мы научимся тому как можно применять SVD для компрессии изображений"
   ]
  },
  {
   "cell_type": "markdown",
   "metadata": {},
   "source": [
    "_1._ Посчитайте сингулярные числа скачанного изображения и отобразите их на едином графике. Воспользуйтесь функцией ```np.linalg.svd```\n",
    "\n",
    "Должно получиться три кривые. По оси х номер, по оси y значение. Каждая из трех кривых соответствует одному из каналов R, G или B."
   ]
  },
  {
   "cell_type": "code",
   "execution_count": null,
   "metadata": {},
   "outputs": [],
   "source": [
    "%matplotlib inline\n",
    "import matplotlib.pyplot as plt\n",
    "from PIL import Image, ImageDraw\n",
    "import requests\n",
    "import numpy as np\n",
    "\n",
    "url = 'your favorite picture, please!'\n",
    "\n",
    "face_raw = Image.open(requests.get(url, stream=True).raw)\n",
    "face = np.array(face_raw).astype(np.uint8)\n",
    "\n",
    "plt.imshow(face_raw)\n",
    "plt.xticks(())\n",
    "plt.yticks(())\n",
    "plt.title('Original Picture')\n",
    "plt.show()"
   ]
  },
  {
   "cell_type": "code",
   "execution_count": null,
   "metadata": {},
   "outputs": [],
   "source": [
    "# Your code is here"
   ]
  },
  {
   "cell_type": "markdown",
   "metadata": {},
   "source": [
    "_2._ Допишите функцию ```compress```, которая выполняет SVD разложение и использует его для для приближения матрицы матрицей меньшего ранга $k$, т.е. в итоге мы можем хранить для приближенного восстановления исходного изображения только $k$ сингулярных чисел и соответствующих векторов.\n",
    "\n",
    "Почитать подробнее можно по ссылке: https://ru.wikipedia.org/wiki/Сингулярное_разложение#Приближение_матрицей_меньшего_ранга\n",
    "\n",
    "Учтите, что если мы работаем с цветным изображением, то разложение нужно провести над каждым каналом в отдельности.\n",
    "\n",
    "Выведите ваше изображение после реконструкции обратно. Изпользуйте $k = 5, 20, 50$ (k - ранг матрицы)"
   ]
  },
  {
   "cell_type": "code",
   "execution_count": null,
   "metadata": {},
   "outputs": [],
   "source": [
    "def compress(image, k):\n",
    "    \"\"\"\n",
    "    Perform svd decomposition and truncate it (using k singular values/vectors)\n",
    "    \n",
    "    Parameters: \n",
    "        image (np.array):        input image (probably, colourful)\n",
    "        \n",
    "        k (int):                 approximation rank\n",
    "        \n",
    "    --------\n",
    "    Returns:\n",
    "      reconst_matrix (np.array): reconstructed matrix (tensor in colourful case)\n",
    "      \n",
    "      s (np.array):              array of singular values \n",
    "    \"\"\"\n",
    "    reconst_matrix = np.zeros(image.shape)\n",
    "    s_all = []\n",
    "    for i in range(3):\n",
    "        #  Your code is here\n",
    "    return np.clip(reconst_matrix.astype(int),0,255), np.array(s_all)"
   ]
  },
  {
   "cell_type": "code",
   "execution_count": null,
   "metadata": {},
   "outputs": [],
   "source": [
    "#  Your code is here"
   ]
  },
  {
   "cell_type": "markdown",
   "metadata": {},
   "source": [
    "# Problem 3 (Simple Detection)"
   ]
  },
  {
   "cell_type": "markdown",
   "metadata": {},
   "source": [
    "Берем белый лист бумаги и рисуем на нем круг любого цвета.\n",
    "Далее будем водить перед вебкамерой этот лист бумаги.\n",
    "\n",
    "Задача: написать алгоритм, который будет выводить в realtime положение круга относительно вертикальной черты, разделяющей центр экрана, т.е. слева или справа"
   ]
  },
  {
   "cell_type": "code",
   "execution_count": null,
   "metadata": {},
   "outputs": [],
   "source": [
    "# put your code here"
   ]
  }
 ],
 "metadata": {
  "kernelspec": {
   "display_name": "Python 3",
   "language": "python",
   "name": "python3"
  },
  "language_info": {
   "codemirror_mode": {
    "name": "ipython",
    "version": 3
   },
   "file_extension": ".py",
   "mimetype": "text/x-python",
   "name": "python",
   "nbconvert_exporter": "python",
   "pygments_lexer": "ipython3",
   "version": "3.7.3"
  },
  "pycharm": {
   "stem_cell": {
    "cell_type": "raw",
    "source": [],
    "metadata": {
     "collapsed": false
    }
   }
  }
 },
 "nbformat": 4,
 "nbformat_minor": 2
}